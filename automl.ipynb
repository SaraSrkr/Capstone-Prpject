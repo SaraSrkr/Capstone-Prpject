{
  "cells": [
    {
      "cell_type": "markdown",
      "source": [
        "# Automated ML\n",
        "\n",
        "TODO: Import Dependencies. In the cell below, import all the dependencies that you will need to complete the project."
      ],
      "metadata": {}
    },
    {
      "cell_type": "code",
      "source": [
        "import logging\r\n",
        "import os\r\n",
        "import csv\r\n",
        "\r\n",
        "from matplotlib import pyplot as plt\r\n",
        "import numpy as np\r\n",
        "import pandas as pd\r\n",
        "from sklearn import datasets\r\n",
        "import pkg_resources\r\n",
        "\r\n",
        "import azureml.core\r\n",
        "from azureml.core.experiment import Experiment\r\n",
        "from azureml.core.workspace import Workspace\r\n",
        "from azureml.train.automl import AutoMLConfig\r\n",
        "from azureml.core.dataset import Dataset\r\n",
        "\r\n",
        "from azureml.pipeline.steps import AutoMLStep\r\n",
        "\r\n",
        "\r\n",
        "# Check core SDK version number\r\n",
        "print(\"SDK version:\", azureml.core.VERSION)"
      ],
      "outputs": [
        {
          "output_type": "stream",
          "name": "stdout",
          "text": [
            "SDK version: 1.20.0\n"
          ]
        }
      ],
      "execution_count": 1,
      "metadata": {
        "gather": {
          "logged": 1612894094413
        },
        "jupyter": {
          "outputs_hidden": false,
          "source_hidden": false
        },
        "nteract": {
          "transient": {
            "deleting": false
          }
        }
      }
    },
    {
      "cell_type": "markdown",
      "source": [
        "## Dataset\n",
        "\n",
        "### Overview\n",
        "TODO: In this markdown cell, give an overview of the dataset you are using. Also mention the task you will be performing.\n",
        "\n",
        "\n",
        "TODO: Get data. In the cell below, write code to access the data you will be using in this project. Remember that the dataset needs to be external."
      ],
      "metadata": {}
    },
    {
      "cell_type": "code",
      "source": [
        "ws = Workspace.from_config()\n",
        "print(ws.name, ws.resource_group, ws.location, ws.subscription_id, sep = '\\n')\n",
        "# choose a name for experiment\n",
        "experiment_name = 'diabetes'\n",
        "\n",
        "project_folder = './diabetes-project'\n",
        "\n",
        "experiment = Experiment(ws, experiment_name)\n",
        "experiment"
      ],
      "outputs": [
        {
          "output_type": "stream",
          "name": "stdout",
          "text": [
            "Performing interactive authentication. Please follow the instructions on the terminal.\n",
            "To sign in, use a web browser to open the page https://microsoft.com/devicelogin and enter the code AMD33UK2M to authenticate.\n",
            "You have logged in. Now let us find all the subscriptions to which you have access...\n",
            "Interactive authentication successfully completed.\n",
            "quick-starts-ws-138275\n",
            "aml-quickstarts-138275\n",
            "southcentralus\n",
            "61c5c3f0-6dc7-4ed9-a7f3-c704b20e3b30\n"
          ]
        },
        {
          "output_type": "execute_result",
          "execution_count": 2,
          "data": {
            "text/plain": "Experiment(Name: diabetes,\nWorkspace: quick-starts-ws-138275)",
            "text/html": "<table style=\"width:100%\"><tr><th>Name</th><th>Workspace</th><th>Report Page</th><th>Docs Page</th></tr><tr><td>diabetes</td><td>quick-starts-ws-138275</td><td><a href=\"https://ml.azure.com/experiments/diabetes?wsid=/subscriptions/61c5c3f0-6dc7-4ed9-a7f3-c704b20e3b30/resourcegroups/aml-quickstarts-138275/workspaces/quick-starts-ws-138275\" target=\"_blank\" rel=\"noopener\">Link to Azure Machine Learning studio</a></td><td><a href=\"https://docs.microsoft.com/en-us/python/api/azureml-core/azureml.core.experiment.Experiment?view=azure-ml-py\" target=\"_blank\" rel=\"noopener\">Link to Documentation</a></td></tr></table>"
          },
          "metadata": {}
        }
      ],
      "execution_count": 2,
      "metadata": {
        "gather": {
          "logged": 1612894134513
        },
        "jupyter": {
          "outputs_hidden": false,
          "source_hidden": false
        },
        "nteract": {
          "transient": {
            "deleting": false
          }
        }
      }
    },
    {
      "cell_type": "code",
      "source": [
        "from azureml.core.compute import AmlCompute\r\n",
        "from azureml.core.compute import ComputeTarget\r\n",
        "from azureml.core.compute_target import ComputeTargetException\r\n",
        "\r\n",
        "# NOTE: update the cluster name to match the existing cluster\r\n",
        "# Choose a name for your CPU cluster\r\n",
        "amlcompute_cluster_name = \"capcpu\"\r\n",
        "\r\n",
        "# Verify that cluster does not exist already\r\n",
        "try:\r\n",
        "    compute_target = ComputeTarget(workspace=ws, name=amlcompute_cluster_name)\r\n",
        "    print('Found existing cluster, use it.')\r\n",
        "except ComputeTargetException:\r\n",
        "\r\n",
        "    compute_config = AmlCompute.provisioning_configuration(vm_size='STANDARD_D2_V2',# for GPU, use \"STANDARD_NC6\"\r\n",
        "                                                           #vm_priority = 'lowpriority', # optional\r\n",
        "                                                             max_nodes=4)\r\n",
        "    compute_target = ComputeTarget.create(ws, amlcompute_cluster_name, compute_config)\r\n",
        "\r\n",
        "compute_target.wait_for_completion(show_output=True, min_node_count = 1, timeout_in_minutes = 10)\r\n",
        "# For a more detailed view of current AmlCompute status, use get_status()."
      ],
      "outputs": [
        {
          "output_type": "stream",
          "name": "stdout",
          "text": [
            "Creating\n",
            "Succeeded................................................................................................................\n",
            "AmlCompute wait for completion finished\n",
            "\n",
            "Wait timeout has been reached\n",
            "Current provisioning state of AmlCompute is \"Succeeded\" and current node count is \"0\"\n"
          ]
        }
      ],
      "execution_count": 3,
      "metadata": {
        "collapsed": true,
        "jupyter": {
          "source_hidden": false,
          "outputs_hidden": false
        },
        "nteract": {
          "transient": {
            "deleting": false
          }
        },
        "gather": {
          "logged": 1612894748711
        }
      }
    },
    {
      "cell_type": "code",
      "source": [
        "# Try to load the dataset from the Workspace. Otherwise, create it from the file\r\n",
        "found = False\r\n",
        "key = \"diabetes\"\r\n",
        "description_text = \"diabetes prdection\"\r\n",
        "\r\n",
        "if key in ws.datasets.keys(): \r\n",
        "        found = True\r\n",
        "        dataset = ws.datasets[key]\r\n",
        "         \r\n",
        "df = dataset.to_pandas_dataframe()\r\n",
        "df.describe()\r\n"
      ],
      "outputs": [
        {
          "output_type": "execute_result",
          "execution_count": 4,
          "data": {
            "text/plain": "       Pregnancies     Glucose  BloodPressure  SkinThickness     Insulin  \\\ncount   768.000000  768.000000     768.000000     768.000000  768.000000   \nmean      3.845052  120.894531      69.105469      20.536458   79.799479   \nstd       3.369578   31.972618      19.355807      15.952218  115.244002   \nmin       0.000000    0.000000       0.000000       0.000000    0.000000   \n25%       1.000000   99.000000      62.000000       0.000000    0.000000   \n50%       3.000000  117.000000      72.000000      23.000000   30.500000   \n75%       6.000000  140.250000      80.000000      32.000000  127.250000   \nmax      17.000000  199.000000     122.000000      99.000000  846.000000   \n\n              BMI  DiabetesPedigreeFunction         Age     Outcome  \ncount  768.000000                768.000000  768.000000  768.000000  \nmean    31.992578                  0.471876   33.240885    0.348958  \nstd      7.884160                  0.331329   11.760232    0.476951  \nmin      0.000000                  0.078000   21.000000    0.000000  \n25%     27.300000                  0.243750   24.000000    0.000000  \n50%     32.000000                  0.372500   29.000000    0.000000  \n75%     36.600000                  0.626250   41.000000    1.000000  \nmax     67.100000                  2.420000   81.000000    1.000000  ",
            "text/html": "<div>\n<style scoped>\n    .dataframe tbody tr th:only-of-type {\n        vertical-align: middle;\n    }\n\n    .dataframe tbody tr th {\n        vertical-align: top;\n    }\n\n    .dataframe thead th {\n        text-align: right;\n    }\n</style>\n<table border=\"1\" class=\"dataframe\">\n  <thead>\n    <tr style=\"text-align: right;\">\n      <th></th>\n      <th>Pregnancies</th>\n      <th>Glucose</th>\n      <th>BloodPressure</th>\n      <th>SkinThickness</th>\n      <th>Insulin</th>\n      <th>BMI</th>\n      <th>DiabetesPedigreeFunction</th>\n      <th>Age</th>\n      <th>Outcome</th>\n    </tr>\n  </thead>\n  <tbody>\n    <tr>\n      <th>count</th>\n      <td>768.000000</td>\n      <td>768.000000</td>\n      <td>768.000000</td>\n      <td>768.000000</td>\n      <td>768.000000</td>\n      <td>768.000000</td>\n      <td>768.000000</td>\n      <td>768.000000</td>\n      <td>768.000000</td>\n    </tr>\n    <tr>\n      <th>mean</th>\n      <td>3.845052</td>\n      <td>120.894531</td>\n      <td>69.105469</td>\n      <td>20.536458</td>\n      <td>79.799479</td>\n      <td>31.992578</td>\n      <td>0.471876</td>\n      <td>33.240885</td>\n      <td>0.348958</td>\n    </tr>\n    <tr>\n      <th>std</th>\n      <td>3.369578</td>\n      <td>31.972618</td>\n      <td>19.355807</td>\n      <td>15.952218</td>\n      <td>115.244002</td>\n      <td>7.884160</td>\n      <td>0.331329</td>\n      <td>11.760232</td>\n      <td>0.476951</td>\n    </tr>\n    <tr>\n      <th>min</th>\n      <td>0.000000</td>\n      <td>0.000000</td>\n      <td>0.000000</td>\n      <td>0.000000</td>\n      <td>0.000000</td>\n      <td>0.000000</td>\n      <td>0.078000</td>\n      <td>21.000000</td>\n      <td>0.000000</td>\n    </tr>\n    <tr>\n      <th>25%</th>\n      <td>1.000000</td>\n      <td>99.000000</td>\n      <td>62.000000</td>\n      <td>0.000000</td>\n      <td>0.000000</td>\n      <td>27.300000</td>\n      <td>0.243750</td>\n      <td>24.000000</td>\n      <td>0.000000</td>\n    </tr>\n    <tr>\n      <th>50%</th>\n      <td>3.000000</td>\n      <td>117.000000</td>\n      <td>72.000000</td>\n      <td>23.000000</td>\n      <td>30.500000</td>\n      <td>32.000000</td>\n      <td>0.372500</td>\n      <td>29.000000</td>\n      <td>0.000000</td>\n    </tr>\n    <tr>\n      <th>75%</th>\n      <td>6.000000</td>\n      <td>140.250000</td>\n      <td>80.000000</td>\n      <td>32.000000</td>\n      <td>127.250000</td>\n      <td>36.600000</td>\n      <td>0.626250</td>\n      <td>41.000000</td>\n      <td>1.000000</td>\n    </tr>\n    <tr>\n      <th>max</th>\n      <td>17.000000</td>\n      <td>199.000000</td>\n      <td>122.000000</td>\n      <td>99.000000</td>\n      <td>846.000000</td>\n      <td>67.100000</td>\n      <td>2.420000</td>\n      <td>81.000000</td>\n      <td>1.000000</td>\n    </tr>\n  </tbody>\n</table>\n</div>"
          },
          "metadata": {}
        }
      ],
      "execution_count": 4,
      "metadata": {
        "collapsed": true,
        "jupyter": {
          "source_hidden": false,
          "outputs_hidden": false
        },
        "nteract": {
          "transient": {
            "deleting": false
          }
        },
        "gather": {
          "logged": 1612894754977
        }
      }
    },
    {
      "cell_type": "code",
      "source": [
        "dataset.take(5).to_pandas_dataframe()"
      ],
      "outputs": [
        {
          "output_type": "execute_result",
          "execution_count": 5,
          "data": {
            "text/plain": "   Pregnancies  Glucose  BloodPressure  SkinThickness  Insulin   BMI  \\\n0            6      148             72             35        0  33.6   \n1            1       85             66             29        0  26.6   \n2            8      183             64              0        0  23.3   \n3            1       89             66             23       94  28.1   \n4            0      137             40             35      168  43.1   \n\n   DiabetesPedigreeFunction  Age  Outcome  \n0                     0.627   50        1  \n1                     0.351   31        0  \n2                     0.672   32        1  \n3                     0.167   21        0  \n4                     2.288   33        1  ",
            "text/html": "<div>\n<style scoped>\n    .dataframe tbody tr th:only-of-type {\n        vertical-align: middle;\n    }\n\n    .dataframe tbody tr th {\n        vertical-align: top;\n    }\n\n    .dataframe thead th {\n        text-align: right;\n    }\n</style>\n<table border=\"1\" class=\"dataframe\">\n  <thead>\n    <tr style=\"text-align: right;\">\n      <th></th>\n      <th>Pregnancies</th>\n      <th>Glucose</th>\n      <th>BloodPressure</th>\n      <th>SkinThickness</th>\n      <th>Insulin</th>\n      <th>BMI</th>\n      <th>DiabetesPedigreeFunction</th>\n      <th>Age</th>\n      <th>Outcome</th>\n    </tr>\n  </thead>\n  <tbody>\n    <tr>\n      <th>0</th>\n      <td>6</td>\n      <td>148</td>\n      <td>72</td>\n      <td>35</td>\n      <td>0</td>\n      <td>33.6</td>\n      <td>0.627</td>\n      <td>50</td>\n      <td>1</td>\n    </tr>\n    <tr>\n      <th>1</th>\n      <td>1</td>\n      <td>85</td>\n      <td>66</td>\n      <td>29</td>\n      <td>0</td>\n      <td>26.6</td>\n      <td>0.351</td>\n      <td>31</td>\n      <td>0</td>\n    </tr>\n    <tr>\n      <th>2</th>\n      <td>8</td>\n      <td>183</td>\n      <td>64</td>\n      <td>0</td>\n      <td>0</td>\n      <td>23.3</td>\n      <td>0.672</td>\n      <td>32</td>\n      <td>1</td>\n    </tr>\n    <tr>\n      <th>3</th>\n      <td>1</td>\n      <td>89</td>\n      <td>66</td>\n      <td>23</td>\n      <td>94</td>\n      <td>28.1</td>\n      <td>0.167</td>\n      <td>21</td>\n      <td>0</td>\n    </tr>\n    <tr>\n      <th>4</th>\n      <td>0</td>\n      <td>137</td>\n      <td>40</td>\n      <td>35</td>\n      <td>168</td>\n      <td>43.1</td>\n      <td>2.288</td>\n      <td>33</td>\n      <td>1</td>\n    </tr>\n  </tbody>\n</table>\n</div>"
          },
          "metadata": {}
        }
      ],
      "execution_count": 5,
      "metadata": {
        "collapsed": true,
        "jupyter": {
          "source_hidden": false,
          "outputs_hidden": false
        },
        "nteract": {
          "transient": {
            "deleting": false
          }
        },
        "gather": {
          "logged": 1612895336683
        }
      }
    },
    {
      "cell_type": "markdown",
      "source": [
        "## AutoML Configuration\n",
        "\n",
        "TODO: Explain why you chose the automl settings and cofiguration you used below."
      ],
      "metadata": {}
    },
    {
      "cell_type": "code",
      "source": [
        "# TODO: Put your automl settings here\n",
        "automl_settings = {\n",
        "    \"experiment_timeout_minutes\": 30,\n",
        "    \"max_concurrent_iterations\": 3,\n",
        "    \"primary_metric\" : 'AUC_weighted'\n",
        "}\n",
        "\n",
        "# TODO: Put your automl config here\n",
        "automl_config = AutoMLConfig(compute_target=compute_target,\n",
        "                             task = \"classification\",\n",
        "                             training_data=dataset,\n",
        "                             label_column_name=\"Outcome\",   \n",
        "                             path = project_folder,\n",
        "                             enable_early_stopping= True,\n",
        "                             featurization= 'auto',\n",
        "                             debug_log = \"automl_errors.log\",\n",
        "                             **automl_settings)"
      ],
      "outputs": [],
      "execution_count": 13,
      "metadata": {
        "gather": {
          "logged": 1612895682902
        },
        "jupyter": {
          "outputs_hidden": false,
          "source_hidden": false
        },
        "nteract": {
          "transient": {
            "deleting": false
          }
        }
      }
    },
    {
      "cell_type": "code",
      "source": [
        "# TODO: Submit your experiment\n",
        "remote_run = experiment.submit(automl_config)"
      ],
      "outputs": [
        {
          "output_type": "stream",
          "name": "stdout",
          "text": [
            "Running on remote.\n"
          ]
        }
      ],
      "execution_count": 14,
      "metadata": {
        "gather": {
          "logged": 1612895696952
        },
        "jupyter": {
          "outputs_hidden": false,
          "source_hidden": false
        },
        "nteract": {
          "transient": {
            "deleting": false
          }
        }
      }
    },
    {
      "cell_type": "markdown",
      "source": [
        "## Run Details\n",
        "\n",
        "OPTIONAL: Write about the different models trained and their performance. Why do you think some models did better than others?\n",
        "\n",
        "TODO: In the cell below, use the `RunDetails` widget to show the different experiments."
      ],
      "metadata": {}
    },
    {
      "cell_type": "code",
      "source": [
        "from azureml.widgets import RunDetails\r\n",
        "\r\n",
        "RunDetails(remote_run).show()\r\n"
      ],
      "outputs": [
        {
          "output_type": "display_data",
          "data": {
            "text/plain": "_AutoMLWidget(widget_settings={'childWidgetDisplay': 'popup', 'send_telemetry': False, 'log_level': 'INFO', 's…",
            "application/vnd.jupyter.widget-view+json": {
              "version_major": 2,
              "version_minor": 0,
              "model_id": "0a110380e4644e6287ec649fb76e58d1"
            }
          },
          "metadata": {}
        },
        {
          "output_type": "display_data",
          "data": {
            "application/aml.mini.widget.v1": "{\"status\": \"Completed\", \"workbench_run_details_uri\": \"https://ml.azure.com/experiments/diabetes/runs/AutoML_e3ebd03c-8a99-4d39-9542-db206620c097?wsid=/subscriptions/61c5c3f0-6dc7-4ed9-a7f3-c704b20e3b30/resourcegroups/aml-quickstarts-138275/workspaces/quick-starts-ws-138275\", \"run_id\": \"AutoML_e3ebd03c-8a99-4d39-9542-db206620c097\", \"run_properties\": {\"run_id\": \"AutoML_e3ebd03c-8a99-4d39-9542-db206620c097\", \"created_utc\": \"2021-02-09T18:34:54.608849Z\", \"properties\": {\"num_iterations\": \"1000\", \"training_type\": \"TrainFull\", \"acquisition_function\": \"EI\", \"primary_metric\": \"AUC_weighted\", \"train_split\": \"0\", \"acquisition_parameter\": \"0\", \"num_cross_validation\": null, \"target\": \"capcpu\", \"AMLSettingsJsonString\": \"{\\\"path\\\":null,\\\"name\\\":\\\"diabetes\\\",\\\"subscription_id\\\":\\\"61c5c3f0-6dc7-4ed9-a7f3-c704b20e3b30\\\",\\\"resource_group\\\":\\\"aml-quickstarts-138275\\\",\\\"workspace_name\\\":\\\"quick-starts-ws-138275\\\",\\\"region\\\":\\\"southcentralus\\\",\\\"compute_target\\\":\\\"capcpu\\\",\\\"spark_service\\\":null,\\\"azure_service\\\":\\\"remote\\\",\\\"many_models\\\":false,\\\"pipeline_fetch_max_batch_size\\\":1,\\\"iterations\\\":1000,\\\"primary_metric\\\":\\\"AUC_weighted\\\",\\\"task_type\\\":\\\"classification\\\",\\\"data_script\\\":null,\\\"validation_size\\\":0.0,\\\"n_cross_validations\\\":null,\\\"y_min\\\":null,\\\"y_max\\\":null,\\\"num_classes\\\":null,\\\"featurization\\\":\\\"auto\\\",\\\"_ignore_package_version_incompatibilities\\\":false,\\\"is_timeseries\\\":false,\\\"max_cores_per_iteration\\\":1,\\\"max_concurrent_iterations\\\":3,\\\"iteration_timeout_minutes\\\":null,\\\"mem_in_mb\\\":null,\\\"enforce_time_on_windows\\\":false,\\\"experiment_timeout_minutes\\\":30,\\\"experiment_exit_score\\\":null,\\\"whitelist_models\\\":null,\\\"blacklist_algos\\\":[\\\"TensorFlowLinearClassifier\\\",\\\"TensorFlowDNN\\\"],\\\"supported_models\\\":[\\\"TensorFlowLinearClassifier\\\",\\\"SGD\\\",\\\"KNN\\\",\\\"GradientBoosting\\\",\\\"BernoulliNaiveBayes\\\",\\\"LinearSVM\\\",\\\"LightGBM\\\",\\\"RandomForest\\\",\\\"ExtremeRandomTrees\\\",\\\"XGBoostClassifier\\\",\\\"AveragedPerceptronClassifier\\\",\\\"DecisionTree\\\",\\\"MultinomialNaiveBayes\\\",\\\"LogisticRegression\\\",\\\"TensorFlowDNN\\\",\\\"SVM\\\"],\\\"auto_blacklist\\\":true,\\\"blacklist_samples_reached\\\":false,\\\"exclude_nan_labels\\\":true,\\\"verbosity\\\":20,\\\"_debug_log\\\":\\\"azureml_automl.log\\\",\\\"show_warnings\\\":false,\\\"model_explainability\\\":true,\\\"service_url\\\":null,\\\"sdk_url\\\":null,\\\"sdk_packages\\\":null,\\\"enable_onnx_compatible_models\\\":false,\\\"enable_split_onnx_featurizer_estimator_models\\\":false,\\\"vm_type\\\":\\\"STANDARD_D2_V2\\\",\\\"telemetry_verbosity\\\":20,\\\"send_telemetry\\\":true,\\\"enable_dnn\\\":false,\\\"scenario\\\":\\\"SDK-1.13.0\\\",\\\"environment_label\\\":null,\\\"force_text_dnn\\\":false,\\\"enable_feature_sweeping\\\":true,\\\"enable_early_stopping\\\":true,\\\"early_stopping_n_iters\\\":10,\\\"metrics\\\":null,\\\"enable_ensembling\\\":true,\\\"enable_stack_ensembling\\\":true,\\\"ensemble_iterations\\\":15,\\\"enable_tf\\\":false,\\\"enable_subsampling\\\":null,\\\"subsample_seed\\\":null,\\\"enable_nimbusml\\\":false,\\\"enable_streaming\\\":false,\\\"force_streaming\\\":false,\\\"track_child_runs\\\":true,\\\"allowed_private_models\\\":[],\\\"label_column_name\\\":\\\"Outcome\\\",\\\"weight_column_name\\\":null,\\\"cv_split_column_names\\\":null,\\\"enable_local_managed\\\":false,\\\"_local_managed_run_id\\\":null,\\\"cost_mode\\\":1,\\\"lag_length\\\":0,\\\"metric_operation\\\":\\\"maximize\\\",\\\"preprocess\\\":true}\", \"DataPrepJsonString\": \"{\\\\\\\"training_data\\\\\\\": \\\\\\\"{\\\\\\\\\\\\\\\"blocks\\\\\\\\\\\\\\\": [{\\\\\\\\\\\\\\\"id\\\\\\\\\\\\\\\": \\\\\\\\\\\\\\\"e40a544c-9afb-4c9f-a938-0727fe995f53\\\\\\\\\\\\\\\", \\\\\\\\\\\\\\\"type\\\\\\\\\\\\\\\": \\\\\\\\\\\\\\\"Microsoft.DPrep.GetDatastoreFilesBlock\\\\\\\\\\\\\\\", \\\\\\\\\\\\\\\"arguments\\\\\\\\\\\\\\\": {\\\\\\\\\\\\\\\"datastores\\\\\\\\\\\\\\\": [{\\\\\\\\\\\\\\\"datastoreName\\\\\\\\\\\\\\\": \\\\\\\\\\\\\\\"workspaceblobstore\\\\\\\\\\\\\\\", \\\\\\\\\\\\\\\"path\\\\\\\\\\\\\\\": \\\\\\\\\\\\\\\"UI/02-09-2021_060125_UTC/diabetes.csv\\\\\\\\\\\\\\\", \\\\\\\\\\\\\\\"resourceGroup\\\\\\\\\\\\\\\": \\\\\\\\\\\\\\\"aml-quickstarts-138275\\\\\\\\\\\\\\\", \\\\\\\\\\\\\\\"subscription\\\\\\\\\\\\\\\": \\\\\\\\\\\\\\\"61c5c3f0-6dc7-4ed9-a7f3-c704b20e3b30\\\\\\\\\\\\\\\", \\\\\\\\\\\\\\\"workspaceName\\\\\\\\\\\\\\\": \\\\\\\\\\\\\\\"quick-starts-ws-138275\\\\\\\\\\\\\\\"}]}, \\\\\\\\\\\\\\\"localData\\\\\\\\\\\\\\\": {}, \\\\\\\\\\\\\\\"isEnabled\\\\\\\\\\\\\\\": true, \\\\\\\\\\\\\\\"name\\\\\\\\\\\\\\\": null, \\\\\\\\\\\\\\\"annotation\\\\\\\\\\\\\\\": null}, {\\\\\\\\\\\\\\\"id\\\\\\\\\\\\\\\": \\\\\\\\\\\\\\\"3aef57f5-d4fd-4a21-af3e-4f9b566395e9\\\\\\\\\\\\\\\", \\\\\\\\\\\\\\\"type\\\\\\\\\\\\\\\": \\\\\\\\\\\\\\\"Microsoft.DPrep.ParseDelimitedBlock\\\\\\\\\\\\\\\", \\\\\\\\\\\\\\\"arguments\\\\\\\\\\\\\\\": {\\\\\\\\\\\\\\\"columnHeadersMode\\\\\\\\\\\\\\\": 1, \\\\\\\\\\\\\\\"fileEncoding\\\\\\\\\\\\\\\": 0, \\\\\\\\\\\\\\\"handleQuotedLineBreaks\\\\\\\\\\\\\\\": false, \\\\\\\\\\\\\\\"preview\\\\\\\\\\\\\\\": false, \\\\\\\\\\\\\\\"separator\\\\\\\\\\\\\\\": \\\\\\\\\\\\\\\",\\\\\\\\\\\\\\\", \\\\\\\\\\\\\\\"skipRows\\\\\\\\\\\\\\\": 0, \\\\\\\\\\\\\\\"skipRowsMode\\\\\\\\\\\\\\\": 0}, \\\\\\\\\\\\\\\"localData\\\\\\\\\\\\\\\": {}, \\\\\\\\\\\\\\\"isEnabled\\\\\\\\\\\\\\\": true, \\\\\\\\\\\\\\\"name\\\\\\\\\\\\\\\": null, \\\\\\\\\\\\\\\"annotation\\\\\\\\\\\\\\\": null}, {\\\\\\\\\\\\\\\"id\\\\\\\\\\\\\\\": \\\\\\\\\\\\\\\"6094e0b2-6f0c-41ad-afb9-09d3d38cb91d\\\\\\\\\\\\\\\", \\\\\\\\\\\\\\\"type\\\\\\\\\\\\\\\": \\\\\\\\\\\\\\\"Microsoft.DPrep.DropColumnsBlock\\\\\\\\\\\\\\\", \\\\\\\\\\\\\\\"arguments\\\\\\\\\\\\\\\": {\\\\\\\\\\\\\\\"columns\\\\\\\\\\\\\\\": {\\\\\\\\\\\\\\\"type\\\\\\\\\\\\\\\": 0, \\\\\\\\\\\\\\\"details\\\\\\\\\\\\\\\": {\\\\\\\\\\\\\\\"selectedColumns\\\\\\\\\\\\\\\": [\\\\\\\\\\\\\\\"Path\\\\\\\\\\\\\\\"]}}}, \\\\\\\\\\\\\\\"localData\\\\\\\\\\\\\\\": {}, \\\\\\\\\\\\\\\"isEnabled\\\\\\\\\\\\\\\": true, \\\\\\\\\\\\\\\"name\\\\\\\\\\\\\\\": null, \\\\\\\\\\\\\\\"annotation\\\\\\\\\\\\\\\": null}, {\\\\\\\\\\\\\\\"id\\\\\\\\\\\\\\\": \\\\\\\\\\\\\\\"fcb1c90b-347d-41ff-af95-feb55bb4ac6b\\\\\\\\\\\\\\\", \\\\\\\\\\\\\\\"type\\\\\\\\\\\\\\\": \\\\\\\\\\\\\\\"Microsoft.DPrep.SetColumnTypesBlock\\\\\\\\\\\\\\\", \\\\\\\\\\\\\\\"arguments\\\\\\\\\\\\\\\": {\\\\\\\\\\\\\\\"columnConversion\\\\\\\\\\\\\\\": [{\\\\\\\\\\\\\\\"column\\\\\\\\\\\\\\\": {\\\\\\\\\\\\\\\"type\\\\\\\\\\\\\\\": 2, \\\\\\\\\\\\\\\"details\\\\\\\\\\\\\\\": {\\\\\\\\\\\\\\\"selectedColumn\\\\\\\\\\\\\\\": \\\\\\\\\\\\\\\"Path\\\\\\\\\\\\\\\"}}, \\\\\\\\\\\\\\\"typeProperty\\\\\\\\\\\\\\\": 0}, {\\\\\\\\\\\\\\\"column\\\\\\\\\\\\\\\": {\\\\\\\\\\\\\\\"type\\\\\\\\\\\\\\\": 2, \\\\\\\\\\\\\\\"details\\\\\\\\\\\\\\\": {\\\\\\\\\\\\\\\"selectedColumn\\\\\\\\\\\\\\\": \\\\\\\\\\\\\\\"Pregnancies\\\\\\\\\\\\\\\"}}, \\\\\\\\\\\\\\\"typeProperty\\\\\\\\\\\\\\\": 2}, {\\\\\\\\\\\\\\\"column\\\\\\\\\\\\\\\": {\\\\\\\\\\\\\\\"type\\\\\\\\\\\\\\\": 2, \\\\\\\\\\\\\\\"details\\\\\\\\\\\\\\\": {\\\\\\\\\\\\\\\"selectedColumn\\\\\\\\\\\\\\\": \\\\\\\\\\\\\\\"Glucose\\\\\\\\\\\\\\\"}}, \\\\\\\\\\\\\\\"typeProperty\\\\\\\\\\\\\\\": 2}, {\\\\\\\\\\\\\\\"column\\\\\\\\\\\\\\\": {\\\\\\\\\\\\\\\"type\\\\\\\\\\\\\\\": 2, \\\\\\\\\\\\\\\"details\\\\\\\\\\\\\\\": {\\\\\\\\\\\\\\\"selectedColumn\\\\\\\\\\\\\\\": \\\\\\\\\\\\\\\"BloodPressure\\\\\\\\\\\\\\\"}}, \\\\\\\\\\\\\\\"typeProperty\\\\\\\\\\\\\\\": 2}, {\\\\\\\\\\\\\\\"column\\\\\\\\\\\\\\\": {\\\\\\\\\\\\\\\"type\\\\\\\\\\\\\\\": 2, \\\\\\\\\\\\\\\"details\\\\\\\\\\\\\\\": {\\\\\\\\\\\\\\\"selectedColumn\\\\\\\\\\\\\\\": \\\\\\\\\\\\\\\"SkinThickness\\\\\\\\\\\\\\\"}}, \\\\\\\\\\\\\\\"typeProperty\\\\\\\\\\\\\\\": 2}, {\\\\\\\\\\\\\\\"column\\\\\\\\\\\\\\\": {\\\\\\\\\\\\\\\"type\\\\\\\\\\\\\\\": 2, \\\\\\\\\\\\\\\"details\\\\\\\\\\\\\\\": {\\\\\\\\\\\\\\\"selectedColumn\\\\\\\\\\\\\\\": \\\\\\\\\\\\\\\"Insulin\\\\\\\\\\\\\\\"}}, \\\\\\\\\\\\\\\"typeProperty\\\\\\\\\\\\\\\": 2}, {\\\\\\\\\\\\\\\"column\\\\\\\\\\\\\\\": {\\\\\\\\\\\\\\\"type\\\\\\\\\\\\\\\": 2, \\\\\\\\\\\\\\\"details\\\\\\\\\\\\\\\": {\\\\\\\\\\\\\\\"selectedColumn\\\\\\\\\\\\\\\": \\\\\\\\\\\\\\\"BMI\\\\\\\\\\\\\\\"}}, \\\\\\\\\\\\\\\"typeProperty\\\\\\\\\\\\\\\": 3}, {\\\\\\\\\\\\\\\"column\\\\\\\\\\\\\\\": {\\\\\\\\\\\\\\\"type\\\\\\\\\\\\\\\": 2, \\\\\\\\\\\\\\\"details\\\\\\\\\\\\\\\": {\\\\\\\\\\\\\\\"selectedColumn\\\\\\\\\\\\\\\": \\\\\\\\\\\\\\\"DiabetesPedigreeFunction\\\\\\\\\\\\\\\"}}, \\\\\\\\\\\\\\\"typeProperty\\\\\\\\\\\\\\\": 3}, {\\\\\\\\\\\\\\\"column\\\\\\\\\\\\\\\": {\\\\\\\\\\\\\\\"type\\\\\\\\\\\\\\\": 2, \\\\\\\\\\\\\\\"details\\\\\\\\\\\\\\\": {\\\\\\\\\\\\\\\"selectedColumn\\\\\\\\\\\\\\\": \\\\\\\\\\\\\\\"Age\\\\\\\\\\\\\\\"}}, \\\\\\\\\\\\\\\"typeProperty\\\\\\\\\\\\\\\": 2}, {\\\\\\\\\\\\\\\"column\\\\\\\\\\\\\\\": {\\\\\\\\\\\\\\\"type\\\\\\\\\\\\\\\": 2, \\\\\\\\\\\\\\\"details\\\\\\\\\\\\\\\": {\\\\\\\\\\\\\\\"selectedColumn\\\\\\\\\\\\\\\": \\\\\\\\\\\\\\\"Outcome\\\\\\\\\\\\\\\"}}, \\\\\\\\\\\\\\\"typeProperty\\\\\\\\\\\\\\\": 2}]}, \\\\\\\\\\\\\\\"localData\\\\\\\\\\\\\\\": {}, \\\\\\\\\\\\\\\"isEnabled\\\\\\\\\\\\\\\": true, \\\\\\\\\\\\\\\"name\\\\\\\\\\\\\\\": null, \\\\\\\\\\\\\\\"annotation\\\\\\\\\\\\\\\": null}], \\\\\\\\\\\\\\\"inspectors\\\\\\\\\\\\\\\": [], \\\\\\\\\\\\\\\"meta\\\\\\\\\\\\\\\": {\\\\\\\\\\\\\\\"savedDatasetId\\\\\\\\\\\\\\\": \\\\\\\\\\\\\\\"e37f6238-ea14-4fa5-a799-677029899f6b\\\\\\\\\\\\\\\", \\\\\\\\\\\\\\\"datasetType\\\\\\\\\\\\\\\": \\\\\\\\\\\\\\\"tabular\\\\\\\\\\\\\\\", \\\\\\\\\\\\\\\"subscriptionId\\\\\\\\\\\\\\\": \\\\\\\\\\\\\\\"61c5c3f0-6dc7-4ed9-a7f3-c704b20e3b30\\\\\\\\\\\\\\\", \\\\\\\\\\\\\\\"workspaceId\\\\\\\\\\\\\\\": \\\\\\\\\\\\\\\"63be8e90-d3e5-4b91-a303-fa0ab98f7cac\\\\\\\\\\\\\\\", \\\\\\\\\\\\\\\"workspaceLocation\\\\\\\\\\\\\\\": \\\\\\\\\\\\\\\"southcentralus\\\\\\\\\\\\\\\"}}\\\\\\\", \\\\\\\"activities\\\\\\\": 0}\", \"EnableSubsampling\": null, \"runTemplate\": \"AutoML\", \"azureml.runsource\": \"automl\", \"display_task_type\": \"classification\", \"dependencies_versions\": \"{\\\"azureml-widgets\\\": \\\"1.20.0\\\", \\\"azureml-train\\\": \\\"1.20.0\\\", \\\"azureml-train-restclients-hyperdrive\\\": \\\"1.20.0\\\", \\\"azureml-train-core\\\": \\\"1.20.0\\\", \\\"azureml-train-automl\\\": \\\"1.20.0\\\", \\\"azureml-train-automl-runtime\\\": \\\"1.20.0\\\", \\\"azureml-train-automl-client\\\": \\\"1.20.0\\\", \\\"azureml-tensorboard\\\": \\\"1.20.0\\\", \\\"azureml-telemetry\\\": \\\"1.20.0\\\", \\\"azureml-sdk\\\": \\\"1.20.0\\\", \\\"azureml-samples\\\": \\\"0+unknown\\\", \\\"azureml-pipeline\\\": \\\"1.20.0\\\", \\\"azureml-pipeline-steps\\\": \\\"1.20.0\\\", \\\"azureml-pipeline-core\\\": \\\"1.20.0\\\", \\\"azureml-opendatasets\\\": \\\"1.20.0\\\", \\\"azureml-model-management-sdk\\\": \\\"1.0.1b6.post1\\\", \\\"azureml-mlflow\\\": \\\"1.20.0.post1\\\", \\\"azureml-interpret\\\": \\\"1.20.0\\\", \\\"azureml-explain-model\\\": \\\"1.20.0\\\", \\\"azureml-defaults\\\": \\\"1.20.0\\\", \\\"azureml-dataset-runtime\\\": \\\"1.20.0\\\", \\\"azureml-dataprep\\\": \\\"2.7.3\\\", \\\"azureml-dataprep-rslex\\\": \\\"1.5.0\\\", \\\"azureml-dataprep-native\\\": \\\"27.0.0\\\", \\\"azureml-datadrift\\\": \\\"1.20.0\\\", \\\"azureml-core\\\": \\\"1.20.0\\\", \\\"azureml-contrib-services\\\": \\\"1.20.0\\\", \\\"azureml-contrib-server\\\": \\\"1.20.0\\\", \\\"azureml-contrib-reinforcementlearning\\\": \\\"1.20.0\\\", \\\"azureml-contrib-pipeline-steps\\\": \\\"1.20.0\\\", \\\"azureml-contrib-notebook\\\": \\\"1.20.0\\\", \\\"azureml-contrib-interpret\\\": \\\"1.20.0\\\", \\\"azureml-contrib-gbdt\\\": \\\"1.20.0\\\", \\\"azureml-contrib-fairness\\\": \\\"1.20.0\\\", \\\"azureml-contrib-dataset\\\": \\\"1.20.0\\\", \\\"azureml-cli-common\\\": \\\"1.20.0\\\", \\\"azureml-automl-runtime\\\": \\\"1.20.0\\\", \\\"azureml-automl-core\\\": \\\"1.20.0\\\", \\\"azureml-accel-models\\\": \\\"1.20.0\\\"}\", \"_aml_system_scenario_identification\": \"Remote.Parent\", \"ClientType\": \"SDK\", \"environment_cpu_name\": \"AzureML-AutoML\", \"environment_cpu_label\": \"prod\", \"environment_gpu_name\": \"AzureML-AutoML-GPU\", \"environment_gpu_label\": \"prod\", \"root_attribution\": \"automl\", \"attribution\": \"AutoML\", \"Orchestrator\": \"AutoML\", \"CancelUri\": \"https://southcentralus.experiments.azureml.net/jasmine/v1.0/subscriptions/61c5c3f0-6dc7-4ed9-a7f3-c704b20e3b30/resourceGroups/aml-quickstarts-138275/providers/Microsoft.MachineLearningServices/workspaces/quick-starts-ws-138275/experimentids/808088a5-18b9-4a31-a31a-061d5c19bc3b/cancel/AutoML_e3ebd03c-8a99-4d39-9542-db206620c097\", \"ClientSdkVersion\": \"1.21.0\", \"snapshotId\": \"00000000-0000-0000-0000-000000000000\", \"SetupRunId\": \"AutoML_e3ebd03c-8a99-4d39-9542-db206620c097_setup\", \"SetupRunContainerId\": \"dcid.AutoML_e3ebd03c-8a99-4d39-9542-db206620c097_setup\", \"FeaturizationRunJsonPath\": \"featurizer_container.json\", \"FeaturizationRunId\": \"AutoML_e3ebd03c-8a99-4d39-9542-db206620c097_featurize\", \"ProblemInfoJsonString\": \"{\\\"dataset_num_categorical\\\": 0, \\\"is_sparse\\\": true, \\\"subsampling\\\": false, \\\"dataset_classes\\\": 2, \\\"dataset_features\\\": 24, \\\"dataset_samples\\\": 768, \\\"single_frequency_class_detected\\\": false}\", \"ModelExplainRunId\": \"AutoML_e3ebd03c-8a99-4d39-9542-db206620c097_ModelExplain\"}, \"tags\": {\"model_explain_run\": \"best_run\", \"_aml_system_azureml.automlComponent\": \"AutoML\", \"pipeline_id\": \"\", \"score\": \"\", \"predicted_cost\": \"\", \"fit_time\": \"\", \"training_percent\": \"\", \"iteration\": \"\", \"run_preprocessor\": \"\", \"run_algorithm\": \"\", \"dynamic_whitelisting_iterations\": \"<25>;<30>;\", \"automl_best_child_run_id\": \"AutoML_e3ebd03c-8a99-4d39-9542-db206620c097_34\"}, \"end_time_utc\": \"2021-02-09T19:06:30.991737Z\", \"status\": \"Completed\", \"log_files\": {}, \"log_groups\": [], \"run_duration\": \"0:31:36\"}, \"child_runs\": [{\"run_id\": \"AutoML_e3ebd03c-8a99-4d39-9542-db206620c097_0\", \"run_number\": 5, \"metric\": null, \"status\": \"Completed\", \"run_type\": \"azureml.scriptrun\", \"training_percent\": \"100\", \"start_time\": \"2021-02-09T18:47:03.152683Z\", \"end_time\": \"2021-02-09T18:48:05.071192Z\", \"created_time\": \"2021-02-09T18:45:48.703605Z\", \"created_time_dt\": \"2021-02-09T18:45:48.703605Z\", \"duration\": \"0:02:16\", \"iteration\": \"0\", \"goal\": \"AUC_weighted_max\", \"run_name\": \"MaxAbsScaler, LightGBM\", \"run_properties\": \"copy=True\", \"primary_metric\": 0.79810139, \"best_metric\": 0.79810139}, {\"run_id\": \"AutoML_e3ebd03c-8a99-4d39-9542-db206620c097_2\", \"run_number\": 6, \"metric\": null, \"status\": \"Completed\", \"run_type\": \"azureml.scriptrun\", \"training_percent\": \"100\", \"start_time\": \"2021-02-09T18:46:01.366504Z\", \"end_time\": \"2021-02-09T18:47:01.812933Z\", \"created_time\": \"2021-02-09T18:45:48.843476Z\", \"created_time_dt\": \"2021-02-09T18:45:48.843476Z\", \"duration\": \"0:01:12\", \"iteration\": \"2\", \"goal\": \"AUC_weighted_max\", \"run_name\": \"MaxAbsScaler, RandomForest\", \"run_properties\": \"copy=True\", \"primary_metric\": 0.81990603, \"best_metric\": 0.83662103}, {\"run_id\": \"AutoML_e3ebd03c-8a99-4d39-9542-db206620c097_1\", \"run_number\": 7, \"metric\": null, \"status\": \"Completed\", \"run_type\": \"azureml.scriptrun\", \"training_percent\": \"100\", \"start_time\": \"2021-02-09T18:48:07.753828Z\", \"end_time\": \"2021-02-09T18:49:07.092668Z\", \"created_time\": \"2021-02-09T18:45:48.842935Z\", \"created_time_dt\": \"2021-02-09T18:45:48.842935Z\", \"duration\": \"0:03:18\", \"iteration\": \"1\", \"goal\": \"AUC_weighted_max\", \"run_name\": \"MaxAbsScaler, XGBoostClassifier\", \"run_properties\": \"copy=True\", \"primary_metric\": 0.83662103, \"best_metric\": 0.83662103}, {\"run_id\": \"AutoML_e3ebd03c-8a99-4d39-9542-db206620c097_3\", \"run_number\": 8, \"metric\": null, \"status\": \"Completed\", \"run_type\": \"azureml.scriptrun\", \"training_percent\": \"100\", \"start_time\": \"2021-02-09T18:48:43.865672Z\", \"end_time\": \"2021-02-09T18:52:23.175203Z\", \"created_time\": \"2021-02-09T18:47:04.480748Z\", \"created_time_dt\": \"2021-02-09T18:47:04.480748Z\", \"duration\": \"0:05:18\", \"iteration\": \"3\", \"goal\": \"AUC_weighted_max\", \"run_name\": \"MaxAbsScaler, RandomForest\", \"run_properties\": \"copy=True\", \"primary_metric\": 0.82731569, \"best_metric\": 0.83662103}, {\"run_id\": \"AutoML_e3ebd03c-8a99-4d39-9542-db206620c097_4\", \"run_number\": 9, \"metric\": null, \"status\": \"Completed\", \"run_type\": \"azureml.scriptrun\", \"training_percent\": \"100\", \"start_time\": \"2021-02-09T18:49:07.155346Z\", \"end_time\": \"2021-02-09T18:50:03.919663Z\", \"created_time\": \"2021-02-09T18:48:07.759004Z\", \"created_time_dt\": \"2021-02-09T18:48:07.759004Z\", \"duration\": \"0:01:56\", \"iteration\": \"4\", \"goal\": \"AUC_weighted_max\", \"run_name\": \"MaxAbsScaler, RandomForest\", \"run_properties\": \"copy=True\", \"primary_metric\": 0.82217923, \"best_metric\": 0.83662103}, {\"run_id\": \"AutoML_e3ebd03c-8a99-4d39-9542-db206620c097_5\", \"run_number\": 10, \"metric\": null, \"status\": \"Completed\", \"run_type\": \"azureml.scriptrun\", \"training_percent\": \"100\", \"start_time\": \"2021-02-09T18:50:07.396303Z\", \"end_time\": \"2021-02-09T18:51:12.422574Z\", \"created_time\": \"2021-02-09T18:49:09.914709Z\", \"created_time_dt\": \"2021-02-09T18:49:09.914709Z\", \"duration\": \"0:02:02\", \"iteration\": \"5\", \"goal\": \"AUC_weighted_max\", \"run_name\": \"MaxAbsScaler, ExtremeRandomTrees\", \"run_properties\": \"copy=True\", \"primary_metric\": 0.82421389, \"best_metric\": 0.83662103}, {\"run_id\": \"AutoML_e3ebd03c-8a99-4d39-9542-db206620c097_6\", \"run_number\": 11, \"metric\": null, \"status\": \"Completed\", \"run_type\": \"azureml.scriptrun\", \"training_percent\": \"100\", \"start_time\": \"2021-02-09T18:51:43.6021Z\", \"end_time\": \"2021-02-09T18:52:52.301603Z\", \"created_time\": \"2021-02-09T18:50:06.718569Z\", \"created_time_dt\": \"2021-02-09T18:50:06.718569Z\", \"duration\": \"0:02:45\", \"iteration\": \"6\", \"goal\": \"AUC_weighted_max\", \"run_name\": \"MaxAbsScaler, ExtremeRandomTrees\", \"run_properties\": \"copy=True\", \"primary_metric\": 0.80102977, \"best_metric\": 0.83662103}, {\"run_id\": \"AutoML_e3ebd03c-8a99-4d39-9542-db206620c097_7\", \"run_number\": 12, \"metric\": null, \"status\": \"Completed\", \"run_type\": \"azureml.scriptrun\", \"training_percent\": \"100\", \"start_time\": \"2021-02-09T18:52:22.928836Z\", \"end_time\": \"2021-02-09T18:53:22.782291Z\", \"created_time\": \"2021-02-09T18:51:15.804667Z\", \"created_time_dt\": \"2021-02-09T18:51:15.804667Z\", \"duration\": \"0:02:06\", \"iteration\": \"7\", \"goal\": \"AUC_weighted_max\", \"run_name\": \"MaxAbsScaler, ExtremeRandomTrees\", \"run_properties\": \"copy=True\", \"primary_metric\": 0.79005937, \"best_metric\": 0.83662103}, {\"run_id\": \"AutoML_e3ebd03c-8a99-4d39-9542-db206620c097_8\", \"run_number\": 13, \"metric\": null, \"status\": \"Completed\", \"run_type\": \"azureml.scriptrun\", \"training_percent\": \"100\", \"start_time\": \"2021-02-09T18:52:54.800659Z\", \"end_time\": \"2021-02-09T18:53:49.143834Z\", \"created_time\": \"2021-02-09T18:52:27.608094Z\", \"created_time_dt\": \"2021-02-09T18:52:27.608094Z\", \"duration\": \"0:01:21\", \"iteration\": \"8\", \"goal\": \"AUC_weighted_max\", \"run_name\": \"MaxAbsScaler, RandomForest\", \"run_properties\": \"copy=True\", \"primary_metric\": 0.80454842, \"best_metric\": 0.83662103}, {\"run_id\": \"AutoML_e3ebd03c-8a99-4d39-9542-db206620c097_9\", \"run_number\": 14, \"metric\": null, \"status\": \"Completed\", \"run_type\": \"azureml.scriptrun\", \"training_percent\": \"100\", \"start_time\": \"2021-02-09T18:53:10.988823Z\", \"end_time\": \"2021-02-09T18:56:38.069444Z\", \"created_time\": \"2021-02-09T18:52:56.642251Z\", \"created_time_dt\": \"2021-02-09T18:52:56.642251Z\", \"duration\": \"0:03:41\", \"iteration\": \"9\", \"goal\": \"AUC_weighted_max\", \"run_name\": \"MaxAbsScaler, ExtremeRandomTrees\", \"run_properties\": \"copy=True\", \"primary_metric\": 0.77173897, \"best_metric\": 0.83662103}, {\"run_id\": \"AutoML_e3ebd03c-8a99-4d39-9542-db206620c097_10\", \"run_number\": 15, \"metric\": null, \"status\": \"Completed\", \"run_type\": \"azureml.scriptrun\", \"training_percent\": \"100\", \"start_time\": \"2021-02-09T18:53:39.399882Z\", \"end_time\": \"2021-02-09T18:54:37.077779Z\", \"created_time\": \"2021-02-09T18:53:27.093772Z\", \"created_time_dt\": \"2021-02-09T18:53:27.093772Z\", \"duration\": \"0:01:09\", \"iteration\": \"10\", \"goal\": \"AUC_weighted_max\", \"run_name\": \"MaxAbsScaler, RandomForest\", \"run_properties\": \"copy=True\", \"primary_metric\": 0.80095078, \"best_metric\": 0.83662103}, {\"run_id\": \"AutoML_e3ebd03c-8a99-4d39-9542-db206620c097_11\", \"run_number\": 16, \"metric\": null, \"status\": \"Completed\", \"run_type\": \"azureml.scriptrun\", \"training_percent\": \"100\", \"start_time\": \"2021-02-09T18:54:05.55166Z\", \"end_time\": \"2021-02-09T18:55:00.922077Z\", \"created_time\": \"2021-02-09T18:53:52.384603Z\", \"created_time_dt\": \"2021-02-09T18:53:52.384603Z\", \"duration\": \"0:01:08\", \"iteration\": \"11\", \"goal\": \"AUC_weighted_max\", \"run_name\": \"MaxAbsScaler, RandomForest\", \"run_properties\": \"copy=True\", \"primary_metric\": 0.80445742, \"best_metric\": 0.83662103}, {\"run_id\": \"AutoML_e3ebd03c-8a99-4d39-9542-db206620c097_12\", \"run_number\": 17, \"metric\": null, \"status\": \"Completed\", \"run_type\": \"azureml.scriptrun\", \"training_percent\": \"100\", \"start_time\": \"2021-02-09T18:54:52.619666Z\", \"end_time\": \"2021-02-09T18:55:45.542809Z\", \"created_time\": \"2021-02-09T18:54:40.25792Z\", \"created_time_dt\": \"2021-02-09T18:54:40.25792Z\", \"duration\": \"0:01:05\", \"iteration\": \"12\", \"goal\": \"AUC_weighted_max\", \"run_name\": \"MaxAbsScaler, RandomForest\", \"run_properties\": \"copy=True\", \"primary_metric\": 0.79393946, \"best_metric\": 0.83662103}, {\"run_id\": \"AutoML_e3ebd03c-8a99-4d39-9542-db206620c097_13\", \"run_number\": 18, \"metric\": null, \"status\": \"Completed\", \"run_type\": \"azureml.scriptrun\", \"training_percent\": \"100\", \"start_time\": \"2021-02-09T18:55:16.375503Z\", \"end_time\": \"2021-02-09T18:56:13.975517Z\", \"created_time\": \"2021-02-09T18:55:05.827616Z\", \"created_time_dt\": \"2021-02-09T18:55:05.827616Z\", \"duration\": \"0:01:08\", \"iteration\": \"13\", \"goal\": \"AUC_weighted_max\", \"run_name\": \"StandardScalerWrapper, XGBoostClassifier\", \"run_properties\": \"<azureml.automl.runtime.shared.model_wrappers.StandardScalerWrapper object at 0x7f1cf04dc4e0\", \"primary_metric\": 0.82080753, \"best_metric\": 0.83662103}, {\"run_id\": \"AutoML_e3ebd03c-8a99-4d39-9542-db206620c097_14\", \"run_number\": 19, \"metric\": null, \"status\": \"Completed\", \"run_type\": \"azureml.scriptrun\", \"training_percent\": \"100\", \"start_time\": \"2021-02-09T18:56:01.593913Z\", \"end_time\": \"2021-02-09T18:56:50.768117Z\", \"created_time\": \"2021-02-09T18:55:48.921906Z\", \"created_time_dt\": \"2021-02-09T18:55:48.921906Z\", \"duration\": \"0:01:01\", \"iteration\": \"14\", \"goal\": \"AUC_weighted_max\", \"run_name\": \"MaxAbsScaler, RandomForest\", \"run_properties\": \"copy=True\", \"primary_metric\": 0.80293637, \"best_metric\": 0.83662103}, {\"run_id\": \"AutoML_e3ebd03c-8a99-4d39-9542-db206620c097_15\", \"run_number\": 20, \"metric\": null, \"status\": \"Completed\", \"run_type\": \"azureml.scriptrun\", \"training_percent\": \"100\", \"start_time\": \"2021-02-09T18:56:30.095567Z\", \"end_time\": \"2021-02-09T18:57:19.030788Z\", \"created_time\": \"2021-02-09T18:56:17.242372Z\", \"created_time_dt\": \"2021-02-09T18:56:17.242372Z\", \"duration\": \"0:01:01\", \"iteration\": \"15\", \"goal\": \"AUC_weighted_max\", \"run_name\": \"StandardScalerWrapper, ExtremeRandomTrees\", \"run_properties\": \"<azureml.automl.runtime.shared.model_wrappers.StandardScalerWrapper object at 0x7f8fb2164390\", \"primary_metric\": 0.81935503, \"best_metric\": 0.83662103}, {\"run_id\": \"AutoML_e3ebd03c-8a99-4d39-9542-db206620c097_16\", \"run_number\": 21, \"metric\": null, \"status\": \"Completed\", \"run_type\": \"azureml.scriptrun\", \"training_percent\": \"100\", \"start_time\": \"2021-02-09T18:56:53.388608Z\", \"end_time\": \"2021-02-09T18:57:48.357983Z\", \"created_time\": \"2021-02-09T18:56:40.951895Z\", \"created_time_dt\": \"2021-02-09T18:56:40.951895Z\", \"duration\": \"0:01:07\", \"iteration\": \"16\", \"goal\": \"AUC_weighted_max\", \"run_name\": \"MaxAbsScaler, ExtremeRandomTrees\", \"run_properties\": \"copy=True\", \"primary_metric\": 0.81795756, \"best_metric\": 0.83662103}, {\"run_id\": \"AutoML_e3ebd03c-8a99-4d39-9542-db206620c097_17\", \"run_number\": 22, \"metric\": null, \"status\": \"Completed\", \"run_type\": \"azureml.scriptrun\", \"training_percent\": \"100\", \"start_time\": \"2021-02-09T18:57:06.705537Z\", \"end_time\": \"2021-02-09T18:58:07.105166Z\", \"created_time\": \"2021-02-09T18:56:54.13161Z\", \"created_time_dt\": \"2021-02-09T18:56:54.13161Z\", \"duration\": \"0:01:12\", \"iteration\": \"17\", \"goal\": \"AUC_weighted_max\", \"run_name\": \"MaxAbsScaler, ExtremeRandomTrees\", \"run_properties\": \"copy=True\", \"primary_metric\": 0.80571192, \"best_metric\": 0.83662103}, {\"run_id\": \"AutoML_e3ebd03c-8a99-4d39-9542-db206620c097_18\", \"run_number\": 23, \"metric\": null, \"status\": \"Completed\", \"run_type\": \"azureml.scriptrun\", \"training_percent\": \"100\", \"start_time\": \"2021-02-09T18:57:32.315807Z\", \"end_time\": \"2021-02-09T18:58:31.853758Z\", \"created_time\": \"2021-02-09T18:57:21.983794Z\", \"created_time_dt\": \"2021-02-09T18:57:21.983794Z\", \"duration\": \"0:01:09\", \"iteration\": \"18\", \"goal\": \"AUC_weighted_max\", \"run_name\": \"MaxAbsScaler, RandomForest\", \"run_properties\": \"copy=True\", \"primary_metric\": 0.81342691, \"best_metric\": 0.83662103}, {\"run_id\": \"AutoML_e3ebd03c-8a99-4d39-9542-db206620c097_19\", \"run_number\": 24, \"metric\": null, \"status\": \"Completed\", \"run_type\": \"azureml.scriptrun\", \"training_percent\": \"100\", \"start_time\": \"2021-02-09T18:58:01.636046Z\", \"end_time\": \"2021-02-09T18:59:01.524511Z\", \"created_time\": \"2021-02-09T18:57:51.166508Z\", \"created_time_dt\": \"2021-02-09T18:57:51.166508Z\", \"duration\": \"0:01:10\", \"iteration\": \"19\", \"goal\": \"AUC_weighted_max\", \"run_name\": \"MaxAbsScaler, LightGBM\", \"run_properties\": \"copy=True\", \"primary_metric\": 0.81522085, \"best_metric\": 0.83662103}, {\"run_id\": \"AutoML_e3ebd03c-8a99-4d39-9542-db206620c097_20\", \"run_number\": 25, \"metric\": null, \"status\": \"Completed\", \"run_type\": \"azureml.scriptrun\", \"training_percent\": \"100\", \"start_time\": \"2021-02-09T18:58:21.593762Z\", \"end_time\": \"2021-02-09T18:59:21.102952Z\", \"created_time\": \"2021-02-09T18:58:10.08544Z\", \"created_time_dt\": \"2021-02-09T18:58:10.08544Z\", \"duration\": \"0:01:11\", \"iteration\": \"20\", \"goal\": \"AUC_weighted_max\", \"run_name\": \"StandardScalerWrapper, XGBoostClassifier\", \"run_properties\": \"<azureml.automl.runtime.shared.model_wrappers.StandardScalerWrapper object at 0x7fafde09d668\", \"primary_metric\": 0.82402664, \"best_metric\": 0.83662103}, {\"run_id\": \"AutoML_e3ebd03c-8a99-4d39-9542-db206620c097_21\", \"run_number\": 26, \"metric\": null, \"status\": \"Completed\", \"run_type\": \"azureml.scriptrun\", \"training_percent\": \"100\", \"start_time\": \"2021-02-09T18:58:47.602776Z\", \"end_time\": \"2021-02-09T18:59:46.273458Z\", \"created_time\": \"2021-02-09T18:58:34.369939Z\", \"created_time_dt\": \"2021-02-09T18:58:34.369939Z\", \"duration\": \"0:01:11\", \"iteration\": \"21\", \"goal\": \"AUC_weighted_max\", \"run_name\": \"MaxAbsScaler, LightGBM\", \"run_properties\": \"copy=True\", \"primary_metric\": 0.83145933, \"best_metric\": 0.83662103}, {\"run_id\": \"AutoML_e3ebd03c-8a99-4d39-9542-db206620c097_22\", \"run_number\": 27, \"metric\": null, \"status\": \"Completed\", \"run_type\": \"azureml.scriptrun\", \"training_percent\": \"100\", \"start_time\": \"2021-02-09T18:59:16.073419Z\", \"end_time\": \"2021-02-09T19:00:09.060011Z\", \"created_time\": \"2021-02-09T18:59:03.881441Z\", \"created_time_dt\": \"2021-02-09T18:59:03.881441Z\", \"duration\": \"0:01:05\", \"iteration\": \"22\", \"goal\": \"AUC_weighted_max\", \"run_name\": \"StandardScalerWrapper, XGBoostClassifier\", \"run_properties\": \"<azureml.automl.runtime.shared.model_wrappers.StandardScalerWrapper object at 0x7f4f86ba7da0\", \"primary_metric\": 0.81611286, \"best_metric\": 0.83662103}, {\"run_id\": \"AutoML_e3ebd03c-8a99-4d39-9542-db206620c097_23\", \"run_number\": 28, \"metric\": null, \"status\": \"Completed\", \"run_type\": \"azureml.scriptrun\", \"training_percent\": \"100\", \"start_time\": \"2021-02-09T18:59:37.556375Z\", \"end_time\": \"2021-02-09T19:00:37.110269Z\", \"created_time\": \"2021-02-09T18:59:24.134769Z\", \"created_time_dt\": \"2021-02-09T18:59:24.134769Z\", \"duration\": \"0:01:12\", \"iteration\": \"23\", \"goal\": \"AUC_weighted_max\", \"run_name\": \"StandardScalerWrapper, XGBoostClassifier\", \"run_properties\": \"<azureml.automl.runtime.shared.model_wrappers.StandardScalerWrapper object at 0x7f6f196b0cf8\", \"primary_metric\": 0.78680683, \"best_metric\": 0.83662103}, {\"run_id\": \"AutoML_e3ebd03c-8a99-4d39-9542-db206620c097_24\", \"run_number\": 29, \"metric\": null, \"status\": \"Completed\", \"run_type\": \"azureml.scriptrun\", \"training_percent\": \"100\", \"start_time\": \"2021-02-09T19:00:00.811101Z\", \"end_time\": \"2021-02-09T19:00:59.692103Z\", \"created_time\": \"2021-02-09T18:59:49.01954Z\", \"created_time_dt\": \"2021-02-09T18:59:49.01954Z\", \"duration\": \"0:01:10\", \"iteration\": \"24\", \"goal\": \"AUC_weighted_max\", \"run_name\": \"StandardScalerWrapper, XGBoostClassifier\", \"run_properties\": \"<azureml.automl.runtime.shared.model_wrappers.StandardScalerWrapper object at 0x7f5c5d3dba58\", \"primary_metric\": 0.82168714, \"best_metric\": 0.83662103}, {\"run_id\": \"AutoML_e3ebd03c-8a99-4d39-9542-db206620c097_25\", \"run_number\": 30, \"metric\": null, \"status\": \"Completed\", \"run_type\": \"azureml.scriptrun\", \"training_percent\": \"100\", \"start_time\": \"2021-02-09T19:00:25.433937Z\", \"end_time\": \"2021-02-09T19:01:21.035436Z\", \"created_time\": \"2021-02-09T19:00:12.866778Z\", \"created_time_dt\": \"2021-02-09T19:00:12.866778Z\", \"duration\": \"0:01:08\", \"iteration\": \"25\", \"goal\": \"AUC_weighted_max\", \"run_name\": \"SparseNormalizer, XGBoostClassifier\", \"run_properties\": \"<azureml.automl.runtime.shared.model_wrappers.SparseNormalizer object at 0x7f8a4c427860\", \"primary_metric\": 0.73424203, \"best_metric\": 0.83662103}, {\"run_id\": \"AutoML_e3ebd03c-8a99-4d39-9542-db206620c097_26\", \"run_number\": 31, \"metric\": null, \"status\": \"Completed\", \"run_type\": \"azureml.scriptrun\", \"training_percent\": \"100\", \"start_time\": \"2021-02-09T19:00:54.970873Z\", \"end_time\": \"2021-02-09T19:01:56.882207Z\", \"created_time\": \"2021-02-09T19:00:40.094493Z\", \"created_time_dt\": \"2021-02-09T19:00:40.094493Z\", \"duration\": \"0:01:16\", \"iteration\": \"26\", \"goal\": \"AUC_weighted_max\", \"run_name\": \"SparseNormalizer, XGBoostClassifier\", \"run_properties\": \"<azureml.automl.runtime.shared.model_wrappers.SparseNormalizer object at 0x7f3bc3f4df60\", \"primary_metric\": 0.74206269, \"best_metric\": 0.83662103}, {\"run_id\": \"AutoML_e3ebd03c-8a99-4d39-9542-db206620c097_27\", \"run_number\": 32, \"metric\": null, \"status\": \"Completed\", \"run_type\": \"azureml.scriptrun\", \"training_percent\": \"100\", \"start_time\": \"2021-02-09T19:01:14.155312Z\", \"end_time\": \"2021-02-09T19:02:16.201286Z\", \"created_time\": \"2021-02-09T19:01:02.28544Z\", \"created_time_dt\": \"2021-02-09T19:01:02.28544Z\", \"duration\": \"0:01:13\", \"iteration\": \"27\", \"goal\": \"AUC_weighted_max\", \"run_name\": \"MaxAbsScaler, ExtremeRandomTrees\", \"run_properties\": \"copy=True\", \"primary_metric\": 0.82758664, \"best_metric\": 0.83662103}, {\"run_id\": \"AutoML_e3ebd03c-8a99-4d39-9542-db206620c097_28\", \"run_number\": 33, \"metric\": null, \"status\": \"Completed\", \"run_type\": \"azureml.scriptrun\", \"training_percent\": \"100\", \"start_time\": \"2021-02-09T19:01:37.711281Z\", \"end_time\": \"2021-02-09T19:02:27.793114Z\", \"created_time\": \"2021-02-09T19:01:23.584134Z\", \"created_time_dt\": \"2021-02-09T19:01:23.584134Z\", \"duration\": \"0:01:04\", \"iteration\": \"28\", \"goal\": \"AUC_weighted_max\", \"run_name\": \"StandardScalerWrapper, XGBoostClassifier\", \"run_properties\": \"<azureml.automl.runtime.shared.model_wrappers.StandardScalerWrapper object at 0x7f8b54c43630\", \"primary_metric\": 0.81265617, \"best_metric\": 0.83662103}, {\"run_id\": \"AutoML_e3ebd03c-8a99-4d39-9542-db206620c097_29\", \"run_number\": 34, \"metric\": null, \"status\": \"Completed\", \"run_type\": \"azureml.scriptrun\", \"training_percent\": \"100\", \"start_time\": \"2021-02-09T19:02:13.671404Z\", \"end_time\": \"2021-02-09T19:03:15.9447Z\", \"created_time\": \"2021-02-09T19:01:59.354753Z\", \"created_time_dt\": \"2021-02-09T19:01:59.354753Z\", \"duration\": \"0:01:16\", \"iteration\": \"29\", \"goal\": \"AUC_weighted_max\", \"run_name\": \"MaxAbsScaler, LightGBM\", \"run_properties\": \"copy=True\", \"primary_metric\": 0.82714073, \"best_metric\": 0.83662103}, {\"run_id\": \"AutoML_e3ebd03c-8a99-4d39-9542-db206620c097_30\", \"run_number\": 35, \"metric\": null, \"status\": \"Completed\", \"run_type\": \"azureml.scriptrun\", \"training_percent\": \"100\", \"start_time\": \"2021-02-09T19:02:31.009697Z\", \"end_time\": \"2021-02-09T19:03:32.372966Z\", \"created_time\": \"2021-02-09T19:02:20.297036Z\", \"created_time_dt\": \"2021-02-09T19:02:20.297036Z\", \"duration\": \"0:01:12\", \"iteration\": \"30\", \"goal\": \"AUC_weighted_max\", \"run_name\": \"StandardScalerWrapper, XGBoostClassifier\", \"run_properties\": \"<azureml.automl.runtime.shared.model_wrappers.StandardScalerWrapper object at 0x7fc0f77ddac8\", \"primary_metric\": 0.8326944, \"best_metric\": 0.83662103}, {\"run_id\": \"AutoML_e3ebd03c-8a99-4d39-9542-db206620c097_31\", \"run_number\": 36, \"metric\": null, \"status\": \"Completed\", \"run_type\": \"azureml.scriptrun\", \"training_percent\": \"100\", \"start_time\": \"2021-02-09T19:02:44.495649Z\", \"end_time\": \"2021-02-09T19:03:40.629712Z\", \"created_time\": \"2021-02-09T19:02:31.349917Z\", \"created_time_dt\": \"2021-02-09T19:02:31.349917Z\", \"duration\": \"0:01:09\", \"iteration\": \"31\", \"goal\": \"AUC_weighted_max\", \"run_name\": \"MaxAbsScaler, LightGBM\", \"run_properties\": \"copy=True\", \"primary_metric\": 0.82396297, \"best_metric\": 0.83662103}, {\"run_id\": \"AutoML_e3ebd03c-8a99-4d39-9542-db206620c097_32\", \"run_number\": 37, \"metric\": null, \"status\": \"Canceled\", \"run_type\": \"azureml.scriptrun\", \"training_percent\": \"100\", \"start_time\": \"2021-02-09T19:03:31.879357Z\", \"end_time\": \"2021-02-09T19:03:49.292521Z\", \"created_time\": \"2021-02-09T19:03:18.422451Z\", \"created_time_dt\": \"2021-02-09T19:03:18.422451Z\", \"duration\": \"0:00:30\", \"iteration\": \"32\", \"goal\": null, \"run_name\": \"Canceled\", \"run_properties\": null}, {\"run_id\": \"AutoML_e3ebd03c-8a99-4d39-9542-db206620c097_33\", \"run_number\": 38, \"metric\": null, \"status\": \"Canceled\", \"run_type\": \"azureml.scriptrun\", \"training_percent\": \"100\", \"start_time\": \"2021-02-09T19:03:35.437179Z\", \"end_time\": \"2021-02-09T19:03:53.667727Z\", \"created_time\": \"2021-02-09T19:03:35.437179Z\", \"created_time_dt\": \"2021-02-09T19:03:35.437179Z\", \"duration\": \"0:00:18\", \"iteration\": \"33\", \"goal\": null, \"run_name\": \"Canceled\", \"run_properties\": null}, {\"run_id\": \"AutoML_e3ebd03c-8a99-4d39-9542-db206620c097_34\", \"run_number\": 39, \"metric\": null, \"status\": \"Completed\", \"run_type\": \"azureml.scriptrun\", \"training_percent\": \"100\", \"start_time\": \"2021-02-09T19:04:07.396766Z\", \"end_time\": \"2021-02-09T19:06:06.176699Z\", \"created_time\": \"2021-02-09T19:03:55.163957Z\", \"created_time_dt\": \"2021-02-09T19:03:55.163957Z\", \"duration\": \"0:02:11\", \"iteration\": \"34\", \"goal\": \"AUC_weighted_max\", \"run_name\": \"VotingEnsemble\", \"run_properties\": \"classification_labels=None,\\n                              estimators=[('1',\\n                                           Pipeline(memory=None,\\n                                                    steps=[('maxabsscaler',\\n                                                            MaxAbsScaler(copy=True\", \"primary_metric\": 0.84536196, \"best_metric\": 0.84536196}, {\"run_id\": \"AutoML_e3ebd03c-8a99-4d39-9542-db206620c097_35\", \"run_number\": 40, \"metric\": null, \"status\": \"Completed\", \"run_type\": \"azureml.scriptrun\", \"training_percent\": \"100\", \"start_time\": \"2021-02-09T19:04:08.169038Z\", \"end_time\": \"2021-02-09T19:06:15.336589Z\", \"created_time\": \"2021-02-09T19:03:55.425175Z\", \"created_time_dt\": \"2021-02-09T19:03:55.425175Z\", \"duration\": \"0:02:19\", \"iteration\": \"35\", \"goal\": \"AUC_weighted_max\", \"run_name\": \"StackEnsemble\", \"run_properties\": \"base_learners=[('1',\\n                                        Pipeline(memory=None,\\n                                                 steps=[('maxabsscaler',\\n                                                         MaxAbsScaler(copy=True\", \"primary_metric\": 0.84218951, \"best_metric\": 0.84536196}], \"children_metrics\": {\"categories\": [0], \"series\": {\"f1_score_weighted\": [{\"categories\": [\"0\", \"1\", \"2\", \"3\", \"4\", \"5\", \"6\", \"7\", \"8\", \"9\", \"10\", \"11\", \"12\", \"13\", \"14\", \"15\", \"16\", \"17\", \"18\", \"19\", \"20\", \"21\", \"22\", \"23\", \"24\", \"25\", \"26\", \"27\", \"28\", \"29\", \"30\", \"31\", \"34\", \"35\"], \"mode\": \"markers\", \"name\": \"f1_score_weighted\", \"stepped\": false, \"type\": \"scatter\", \"data\": [0.7376523503026942, 0.7674902736086928, 0.7389804302915477, 0.755189214226417, 0.7274051678919149, 0.7430790873289215, 0.7173838488991727, 0.6869816343553568, 0.5364380399101922, 0.7000268962184834, 0.7319683651702937, 0.7234084059648177, 0.7216828315326435, 0.7489865561083529, 0.7310233245219554, 0.7370088929746083, 0.7335996489534463, 0.7247601328750473, 0.7372264804534023, 0.7423193533904254, 0.762640417488469, 0.7556759322863237, 0.7569847044829338, 0.737350710928568, 0.7465194187634643, 0.7015298480693773, 0.6959455822222776, 0.7612923168308381, 0.7420865564870891, 0.7449956027767719, 0.7538543995976772, 0.6456247992309333, 0.7728909706367271, 0.7527733148581716]}, {\"categories\": [\"0\", \"1\", \"2\", \"3\", \"4\", \"5\", \"6\", \"7\", \"8\", \"9\", \"10\", \"11\", \"12\", \"13\", \"14\", \"15\", \"16\", \"17\", \"18\", \"19\", \"20\", \"21\", \"22\", \"23\", \"24\", \"25\", \"26\", \"27\", \"28\", \"29\", \"30\", \"31\", \"34\", \"35\"], \"mode\": \"lines\", \"name\": \"f1_score_weighted_max\", \"stepped\": true, \"type\": \"scatter\", \"data\": [0.7376523503026942, 0.7674902736086928, 0.7674902736086928, 0.7674902736086928, 0.7674902736086928, 0.7674902736086928, 0.7674902736086928, 0.7674902736086928, 0.7674902736086928, 0.7674902736086928, 0.7674902736086928, 0.7674902736086928, 0.7674902736086928, 0.7674902736086928, 0.7674902736086928, 0.7674902736086928, 0.7674902736086928, 0.7674902736086928, 0.7674902736086928, 0.7674902736086928, 0.7674902736086928, 0.7674902736086928, 0.7674902736086928, 0.7674902736086928, 0.7674902736086928, 0.7674902736086928, 0.7674902736086928, 0.7674902736086928, 0.7674902736086928, 0.7674902736086928, 0.7674902736086928, 0.7674902736086928, 0.7728909706367271, 0.7728909706367271]}], \"average_precision_score_micro\": [{\"categories\": [\"0\", \"1\", \"2\", \"3\", \"4\", \"5\", \"6\", \"7\", \"8\", \"9\", \"10\", \"11\", \"12\", \"13\", \"14\", \"15\", \"16\", \"17\", \"18\", \"19\", \"20\", \"21\", \"22\", \"23\", \"24\", \"25\", \"26\", \"27\", \"28\", \"29\", \"30\", \"31\", \"34\", \"35\"], \"mode\": \"markers\", \"name\": \"average_precision_score_micro\", \"stepped\": false, \"type\": \"scatter\", \"data\": [0.8229290538102472, 0.8549562655774119, 0.8413248407258498, 0.839778395684152, 0.8321297453182297, 0.8439171181914558, 0.8265637621196886, 0.8121455297774893, 0.8010927696761202, 0.7755712009277389, 0.8115326397716615, 0.8070077913045001, 0.7945692317554747, 0.8440167132857228, 0.8280203495830797, 0.8427598601252416, 0.8219046196160924, 0.8153541469712147, 0.8086216966532176, 0.8389823937410112, 0.848898506132646, 0.8505611907255286, 0.8384628409140362, 0.813259039495868, 0.8477232410673853, 0.7719945668888488, 0.7796924505703398, 0.8471360040963749, 0.8293173352087979, 0.8490706814721662, 0.8514900004846335, 0.8162141808452379, 0.8642386123416799, 0.8582751925874745]}, {\"categories\": [\"0\", \"1\", \"2\", \"3\", \"4\", \"5\", \"6\", \"7\", \"8\", \"9\", \"10\", \"11\", \"12\", \"13\", \"14\", \"15\", \"16\", \"17\", \"18\", \"19\", \"20\", \"21\", \"22\", \"23\", \"24\", \"25\", \"26\", \"27\", \"28\", \"29\", \"30\", \"31\", \"34\", \"35\"], \"mode\": \"lines\", \"name\": \"average_precision_score_micro_max\", \"stepped\": true, \"type\": \"scatter\", \"data\": [0.8229290538102472, 0.8549562655774119, 0.8549562655774119, 0.8549562655774119, 0.8549562655774119, 0.8549562655774119, 0.8549562655774119, 0.8549562655774119, 0.8549562655774119, 0.8549562655774119, 0.8549562655774119, 0.8549562655774119, 0.8549562655774119, 0.8549562655774119, 0.8549562655774119, 0.8549562655774119, 0.8549562655774119, 0.8549562655774119, 0.8549562655774119, 0.8549562655774119, 0.8549562655774119, 0.8549562655774119, 0.8549562655774119, 0.8549562655774119, 0.8549562655774119, 0.8549562655774119, 0.8549562655774119, 0.8549562655774119, 0.8549562655774119, 0.8549562655774119, 0.8549562655774119, 0.8549562655774119, 0.8642386123416799, 0.8642386123416799]}], \"average_precision_score_macro\": [{\"categories\": [\"0\", \"1\", \"2\", \"3\", \"4\", \"5\", \"6\", \"7\", \"8\", \"9\", \"10\", \"11\", \"12\", \"13\", \"14\", \"15\", \"16\", \"17\", \"18\", \"19\", \"20\", \"21\", \"22\", \"23\", \"24\", \"25\", \"26\", \"27\", \"28\", \"29\", \"30\", \"31\", \"34\", \"35\"], \"mode\": \"markers\", \"name\": \"average_precision_score_macro\", \"stepped\": false, \"type\": \"scatter\", \"data\": [0.7742813465855433, 0.817147214521911, 0.8070511197238209, 0.8113238821274324, 0.8027343383274914, 0.8089445814362399, 0.7867178642063779, 0.7745011684120886, 0.7862727024075113, 0.7568256112960913, 0.7778501753236641, 0.7850957316584297, 0.7708790348249328, 0.808682183717061, 0.7807369927947658, 0.8020886037642813, 0.8011631067334086, 0.790528313081312, 0.7884397294521961, 0.7923490340846248, 0.8017118355199807, 0.8103031473006912, 0.7935532742420122, 0.7662694299025903, 0.8027961680041908, 0.7299055927055944, 0.7266257566456997, 0.8078230494012268, 0.7834293299028665, 0.8065452277168099, 0.8126884397484033, 0.8067528225407707, 0.82572658181947, 0.8222655920770098]}, {\"categories\": [\"0\", \"1\", \"2\", \"3\", \"4\", \"5\", \"6\", \"7\", \"8\", \"9\", \"10\", \"11\", \"12\", \"13\", \"14\", \"15\", \"16\", \"17\", \"18\", \"19\", \"20\", \"21\", \"22\", \"23\", \"24\", \"25\", \"26\", \"27\", \"28\", \"29\", \"30\", \"31\", \"34\", \"35\"], \"mode\": \"lines\", \"name\": \"average_precision_score_macro_max\", \"stepped\": true, \"type\": \"scatter\", \"data\": [0.7742813465855433, 0.817147214521911, 0.817147214521911, 0.817147214521911, 0.817147214521911, 0.817147214521911, 0.817147214521911, 0.817147214521911, 0.817147214521911, 0.817147214521911, 0.817147214521911, 0.817147214521911, 0.817147214521911, 0.817147214521911, 0.817147214521911, 0.817147214521911, 0.817147214521911, 0.817147214521911, 0.817147214521911, 0.817147214521911, 0.817147214521911, 0.817147214521911, 0.817147214521911, 0.817147214521911, 0.817147214521911, 0.817147214521911, 0.817147214521911, 0.817147214521911, 0.817147214521911, 0.817147214521911, 0.817147214521911, 0.817147214521911, 0.82572658181947, 0.82572658181947]}], \"recall_score_macro\": [{\"categories\": [\"0\", \"1\", \"2\", \"3\", \"4\", \"5\", \"6\", \"7\", \"8\", \"9\", \"10\", \"11\", \"12\", \"13\", \"14\", \"15\", \"16\", \"17\", \"18\", \"19\", \"20\", \"21\", \"22\", \"23\", \"24\", \"25\", \"26\", \"27\", \"28\", \"29\", \"30\", \"31\", \"34\", \"35\"], \"mode\": \"markers\", \"name\": \"recall_score_macro\", \"stepped\": false, \"type\": \"scatter\", \"data\": [0.7053588221478819, 0.7368196523334581, 0.6933692964744755, 0.7409094987180308, 0.6748595905893946, 0.6934203075573987, 0.6614393180858109, 0.6290573165415555, 0.5146103761205648, 0.6914100395190449, 0.7230061080557368, 0.7238591958484885, 0.7226076718856823, 0.7066421706909842, 0.6887851208017015, 0.6864359697670513, 0.7241862928465089, 0.7138548447611521, 0.729960105074549, 0.705585176022082, 0.7292912489194303, 0.7179292458404329, 0.724047222468623, 0.7013386491181416, 0.7141306764472454, 0.6516367961182358, 0.6452278344893329, 0.7197197589031966, 0.6976899975757002, 0.7024293949572693, 0.7121349809584976, 0.5958621786283607, 0.7396902563224768, 0.7061597958777404]}, {\"categories\": [\"0\", \"1\", \"2\", \"3\", \"4\", \"5\", \"6\", \"7\", \"8\", \"9\", \"10\", \"11\", \"12\", \"13\", \"14\", \"15\", \"16\", \"17\", \"18\", \"19\", \"20\", \"21\", \"22\", \"23\", \"24\", \"25\", \"26\", \"27\", \"28\", \"29\", \"30\", \"31\", \"34\", \"35\"], \"mode\": \"lines\", \"name\": \"recall_score_macro_max\", \"stepped\": true, \"type\": \"scatter\", \"data\": [0.7053588221478819, 0.7368196523334581, 0.7368196523334581, 0.7409094987180308, 0.7409094987180308, 0.7409094987180308, 0.7409094987180308, 0.7409094987180308, 0.7409094987180308, 0.7409094987180308, 0.7409094987180308, 0.7409094987180308, 0.7409094987180308, 0.7409094987180308, 0.7409094987180308, 0.7409094987180308, 0.7409094987180308, 0.7409094987180308, 0.7409094987180308, 0.7409094987180308, 0.7409094987180308, 0.7409094987180308, 0.7409094987180308, 0.7409094987180308, 0.7409094987180308, 0.7409094987180308, 0.7409094987180308, 0.7409094987180308, 0.7409094987180308, 0.7409094987180308, 0.7409094987180308, 0.7409094987180308, 0.7409094987180308, 0.7409094987180308]}], \"precision_score_weighted\": [{\"categories\": [\"0\", \"1\", \"2\", \"3\", \"4\", \"5\", \"6\", \"7\", \"8\", \"9\", \"10\", \"11\", \"12\", \"13\", \"14\", \"15\", \"16\", \"17\", \"18\", \"19\", \"20\", \"21\", \"22\", \"23\", \"24\", \"25\", \"26\", \"27\", \"28\", \"29\", \"30\", \"31\", \"34\", \"35\"], \"mode\": \"markers\", \"name\": \"precision_score_weighted\", \"stepped\": false, \"type\": \"scatter\", \"data\": [0.7396148182527014, 0.7692657656068833, 0.7517472222438808, 0.7662051943406232, 0.7585310057984477, 0.758189616083956, 0.7386200328501727, 0.7328842122708349, 0.5589379153618252, 0.7224563308827551, 0.7487057961634253, 0.75361447258567, 0.7510572863317958, 0.7552237707775337, 0.7362356845020471, 0.7571219498344609, 0.7520254431162625, 0.7461937943080883, 0.7587332458926739, 0.7462686320677201, 0.7631865534306315, 0.7597847390466947, 0.7589928420361292, 0.7394720645437738, 0.7507538301589359, 0.7104525257914112, 0.6987344432852354, 0.768151253623387, 0.7473999212892053, 0.7504533297355965, 0.758921284959013, 0.7402516423631933, 0.7752276041727788, 0.768796372527685]}, {\"categories\": [\"0\", \"1\", \"2\", \"3\", \"4\", \"5\", \"6\", \"7\", \"8\", \"9\", \"10\", \"11\", \"12\", \"13\", \"14\", \"15\", \"16\", \"17\", \"18\", \"19\", \"20\", \"21\", \"22\", \"23\", \"24\", \"25\", \"26\", \"27\", \"28\", \"29\", \"30\", \"31\", \"34\", \"35\"], \"mode\": \"lines\", \"name\": \"precision_score_weighted_max\", \"stepped\": true, \"type\": \"scatter\", \"data\": [0.7396148182527014, 0.7692657656068833, 0.7692657656068833, 0.7692657656068833, 0.7692657656068833, 0.7692657656068833, 0.7692657656068833, 0.7692657656068833, 0.7692657656068833, 0.7692657656068833, 0.7692657656068833, 0.7692657656068833, 0.7692657656068833, 0.7692657656068833, 0.7692657656068833, 0.7692657656068833, 0.7692657656068833, 0.7692657656068833, 0.7692657656068833, 0.7692657656068833, 0.7692657656068833, 0.7692657656068833, 0.7692657656068833, 0.7692657656068833, 0.7692657656068833, 0.7692657656068833, 0.7692657656068833, 0.7692657656068833, 0.7692657656068833, 0.7692657656068833, 0.7692657656068833, 0.7692657656068833, 0.7752276041727788, 0.7752276041727788]}], \"recall_score_micro\": [{\"categories\": [\"0\", \"1\", \"2\", \"3\", \"4\", \"5\", \"6\", \"7\", \"8\", \"9\", \"10\", \"11\", \"12\", \"13\", \"14\", \"15\", \"16\", \"17\", \"18\", \"19\", \"20\", \"21\", \"22\", \"23\", \"24\", \"25\", \"26\", \"27\", \"28\", \"29\", \"30\", \"31\", \"34\", \"35\"], \"mode\": \"markers\", \"name\": \"recall_score_micro\", \"stepped\": false, \"type\": \"scatter\", \"data\": [0.7396103896103897, 0.7695659603554341, 0.7525803144224198, 0.7514012303485987, 0.748632946001367, 0.7591421736158578, 0.7396616541353384, 0.7252563226247437, 0.6601161995898839, 0.6927375256322625, 0.7265892002734108, 0.7161312371838688, 0.7148325358851675, 0.7565618591934381, 0.7396958304853042, 0.7539473684210527, 0.7292891319207109, 0.718796992481203, 0.7319036226930964, 0.7448906356801095, 0.7656356801093642, 0.7591934381408066, 0.7591079972658921, 0.7395933014354067, 0.7486671223513329, 0.7161312371838686, 0.7083902939166097, 0.7682843472317156, 0.7512816131237183, 0.7513328776486671, 0.7603725222146276, 0.7095352016404648, 0.774812030075188, 0.765704032809296]}, {\"categories\": [\"0\", \"1\", \"2\", \"3\", \"4\", \"5\", \"6\", \"7\", \"8\", \"9\", \"10\", \"11\", \"12\", \"13\", \"14\", \"15\", \"16\", \"17\", \"18\", \"19\", \"20\", \"21\", \"22\", \"23\", \"24\", \"25\", \"26\", \"27\", \"28\", \"29\", \"30\", \"31\", \"34\", \"35\"], \"mode\": \"lines\", \"name\": \"recall_score_micro_max\", \"stepped\": true, \"type\": \"scatter\", \"data\": [0.7396103896103897, 0.7695659603554341, 0.7695659603554341, 0.7695659603554341, 0.7695659603554341, 0.7695659603554341, 0.7695659603554341, 0.7695659603554341, 0.7695659603554341, 0.7695659603554341, 0.7695659603554341, 0.7695659603554341, 0.7695659603554341, 0.7695659603554341, 0.7695659603554341, 0.7695659603554341, 0.7695659603554341, 0.7695659603554341, 0.7695659603554341, 0.7695659603554341, 0.7695659603554341, 0.7695659603554341, 0.7695659603554341, 0.7695659603554341, 0.7695659603554341, 0.7695659603554341, 0.7695659603554341, 0.7695659603554341, 0.7695659603554341, 0.7695659603554341, 0.7695659603554341, 0.7695659603554341, 0.774812030075188, 0.774812030075188]}], \"norm_macro_recall\": [{\"categories\": [\"0\", \"1\", \"2\", \"3\", \"4\", \"5\", \"6\", \"7\", \"8\", \"9\", \"10\", \"11\", \"12\", \"13\", \"14\", \"15\", \"16\", \"17\", \"18\", \"19\", \"20\", \"21\", \"22\", \"23\", \"24\", \"25\", \"26\", \"27\", \"28\", \"29\", \"30\", \"31\", \"34\", \"35\"], \"mode\": \"markers\", \"name\": \"norm_macro_recall\", \"stepped\": false, \"type\": \"scatter\", \"data\": [0.41071764429576385, 0.4736393046669162, 0.38673859294895097, 0.4818189974360615, 0.34971918117878903, 0.38684061511479734, 0.3228786361716217, 0.258114633083111, 0.0292207522411295, 0.38282007903808984, 0.4460122161114738, 0.4477183916969768, 0.4452153437713644, 0.41328434138196846, 0.3775702416034029, 0.3728719395341025, 0.4483725856930178, 0.42770968952230437, 0.4599202101490983, 0.41117035204416386, 0.4585824978388608, 0.435858491680866, 0.44809444493724576, 0.40267729823628323, 0.4282613528944908, 0.3032735922364713, 0.29045566897866587, 0.4394395178063932, 0.39537999515140043, 0.4048587899145385, 0.4242699619169949, 0.19172435725672127, 0.4793805126449536, 0.41231959175548083]}, {\"categories\": [\"0\", \"1\", \"2\", \"3\", \"4\", \"5\", \"6\", \"7\", \"8\", \"9\", \"10\", \"11\", \"12\", \"13\", \"14\", \"15\", \"16\", \"17\", \"18\", \"19\", \"20\", \"21\", \"22\", \"23\", \"24\", \"25\", \"26\", \"27\", \"28\", \"29\", \"30\", \"31\", \"34\", \"35\"], \"mode\": \"lines\", \"name\": \"norm_macro_recall_max\", \"stepped\": true, \"type\": \"scatter\", \"data\": [0.41071764429576385, 0.4736393046669162, 0.4736393046669162, 0.4818189974360615, 0.4818189974360615, 0.4818189974360615, 0.4818189974360615, 0.4818189974360615, 0.4818189974360615, 0.4818189974360615, 0.4818189974360615, 0.4818189974360615, 0.4818189974360615, 0.4818189974360615, 0.4818189974360615, 0.4818189974360615, 0.4818189974360615, 0.4818189974360615, 0.4818189974360615, 0.4818189974360615, 0.4818189974360615, 0.4818189974360615, 0.4818189974360615, 0.4818189974360615, 0.4818189974360615, 0.4818189974360615, 0.4818189974360615, 0.4818189974360615, 0.4818189974360615, 0.4818189974360615, 0.4818189974360615, 0.4818189974360615, 0.4818189974360615, 0.4818189974360615]}], \"precision_score_micro\": [{\"categories\": [\"0\", \"1\", \"2\", \"3\", \"4\", \"5\", \"6\", \"7\", \"8\", \"9\", \"10\", \"11\", \"12\", \"13\", \"14\", \"15\", \"16\", \"17\", \"18\", \"19\", \"20\", \"21\", \"22\", \"23\", \"24\", \"25\", \"26\", \"27\", \"28\", \"29\", \"30\", \"31\", \"34\", \"35\"], \"mode\": \"markers\", \"name\": \"precision_score_micro\", \"stepped\": false, \"type\": \"scatter\", \"data\": [0.7396103896103897, 0.7695659603554341, 0.7525803144224198, 0.7514012303485987, 0.748632946001367, 0.7591421736158578, 0.7396616541353384, 0.7252563226247437, 0.6601161995898839, 0.6927375256322625, 0.7265892002734108, 0.7161312371838688, 0.7148325358851675, 0.7565618591934381, 0.7396958304853042, 0.7539473684210527, 0.7292891319207109, 0.718796992481203, 0.7319036226930964, 0.7448906356801095, 0.7656356801093642, 0.7591934381408066, 0.7591079972658921, 0.7395933014354067, 0.7486671223513329, 0.7161312371838686, 0.7083902939166097, 0.7682843472317156, 0.7512816131237183, 0.7513328776486671, 0.7603725222146276, 0.7095352016404648, 0.774812030075188, 0.765704032809296]}, {\"categories\": [\"0\", \"1\", \"2\", \"3\", \"4\", \"5\", \"6\", \"7\", \"8\", \"9\", \"10\", \"11\", \"12\", \"13\", \"14\", \"15\", \"16\", \"17\", \"18\", \"19\", \"20\", \"21\", \"22\", \"23\", \"24\", \"25\", \"26\", \"27\", \"28\", \"29\", \"30\", \"31\", \"34\", \"35\"], \"mode\": \"lines\", \"name\": \"precision_score_micro_max\", \"stepped\": true, \"type\": \"scatter\", \"data\": [0.7396103896103897, 0.7695659603554341, 0.7695659603554341, 0.7695659603554341, 0.7695659603554341, 0.7695659603554341, 0.7695659603554341, 0.7695659603554341, 0.7695659603554341, 0.7695659603554341, 0.7695659603554341, 0.7695659603554341, 0.7695659603554341, 0.7695659603554341, 0.7695659603554341, 0.7695659603554341, 0.7695659603554341, 0.7695659603554341, 0.7695659603554341, 0.7695659603554341, 0.7695659603554341, 0.7695659603554341, 0.7695659603554341, 0.7695659603554341, 0.7695659603554341, 0.7695659603554341, 0.7695659603554341, 0.7695659603554341, 0.7695659603554341, 0.7695659603554341, 0.7695659603554341, 0.7695659603554341, 0.774812030075188, 0.774812030075188]}], \"AUC_weighted\": [{\"categories\": [\"0\", \"1\", \"2\", \"3\", \"4\", \"5\", \"6\", \"7\", \"8\", \"9\", \"10\", \"11\", \"12\", \"13\", \"14\", \"15\", \"16\", \"17\", \"18\", \"19\", \"20\", \"21\", \"22\", \"23\", \"24\", \"25\", \"26\", \"27\", \"28\", \"29\", \"30\", \"31\", \"34\", \"35\"], \"mode\": \"markers\", \"name\": \"AUC_weighted\", \"stepped\": false, \"type\": \"scatter\", \"data\": [0.7981013916226355, 0.8366210317228242, 0.8199060313455112, 0.8273156942433773, 0.8221792269576064, 0.8242138928122233, 0.8010297684427169, 0.7900593696940205, 0.8045484186883414, 0.7717389742164044, 0.8009507790130124, 0.8044574189698201, 0.7939394604123053, 0.8208075252024681, 0.8029363665632705, 0.8193550294064019, 0.817957556698737, 0.8057119160940621, 0.8134269116574708, 0.8152208505797622, 0.8240266352875374, 0.8314593290642994, 0.8161128629984556, 0.7868068256935232, 0.8216871432462926, 0.734242033716707, 0.7420626877944797, 0.8275866441876382, 0.8126561686834268, 0.8271407278447134, 0.8326943992268137, 0.8239629748470166, 0.8453619557964369, 0.8421895107471776]}, {\"categories\": [\"0\", \"1\", \"2\", \"3\", \"4\", \"5\", \"6\", \"7\", \"8\", \"9\", \"10\", \"11\", \"12\", \"13\", \"14\", \"15\", \"16\", \"17\", \"18\", \"19\", \"20\", \"21\", \"22\", \"23\", \"24\", \"25\", \"26\", \"27\", \"28\", \"29\", \"30\", \"31\", \"34\", \"35\"], \"mode\": \"lines\", \"name\": \"AUC_weighted_max\", \"stepped\": true, \"type\": \"scatter\", \"data\": [0.7981013916226355, 0.8366210317228242, 0.8366210317228242, 0.8366210317228242, 0.8366210317228242, 0.8366210317228242, 0.8366210317228242, 0.8366210317228242, 0.8366210317228242, 0.8366210317228242, 0.8366210317228242, 0.8366210317228242, 0.8366210317228242, 0.8366210317228242, 0.8366210317228242, 0.8366210317228242, 0.8366210317228242, 0.8366210317228242, 0.8366210317228242, 0.8366210317228242, 0.8366210317228242, 0.8366210317228242, 0.8366210317228242, 0.8366210317228242, 0.8366210317228242, 0.8366210317228242, 0.8366210317228242, 0.8366210317228242, 0.8366210317228242, 0.8366210317228242, 0.8366210317228242, 0.8366210317228242, 0.8453619557964369, 0.8453619557964369]}], \"AUC_macro\": [{\"categories\": [\"0\", \"1\", \"2\", \"3\", \"4\", \"5\", \"6\", \"7\", \"8\", \"9\", \"10\", \"11\", \"12\", \"13\", \"14\", \"15\", \"16\", \"17\", \"18\", \"19\", \"20\", \"21\", \"22\", \"23\", \"24\", \"25\", \"26\", \"27\", \"28\", \"29\", \"30\", \"31\", \"34\", \"35\"], \"mode\": \"markers\", \"name\": \"AUC_macro\", \"stepped\": false, \"type\": \"scatter\", \"data\": [0.7981013916226355, 0.8366210317228242, 0.8199060313455112, 0.8273156942433773, 0.8221792269576064, 0.8242138928122233, 0.8010297684427169, 0.7900593696940206, 0.8045484186883414, 0.7717389742164042, 0.8009507790130126, 0.8044574189698201, 0.7939394604123053, 0.8208075252024681, 0.8029363665632705, 0.8193550294064019, 0.817957556698737, 0.8057119160940621, 0.8134269116574708, 0.8152208505797622, 0.8240266352875374, 0.8314593290642994, 0.8161128629984556, 0.7868068256935233, 0.8216871432462923, 0.734242033716707, 0.7420626877944798, 0.8275866441876382, 0.8126561686834268, 0.8271407278447134, 0.8326943992268138, 0.8239629748470165, 0.8453619557964369, 0.8421895107471778]}, {\"categories\": [\"0\", \"1\", \"2\", \"3\", \"4\", \"5\", \"6\", \"7\", \"8\", \"9\", \"10\", \"11\", \"12\", \"13\", \"14\", \"15\", \"16\", \"17\", \"18\", \"19\", \"20\", \"21\", \"22\", \"23\", \"24\", \"25\", \"26\", \"27\", \"28\", \"29\", \"30\", \"31\", \"34\", \"35\"], \"mode\": \"lines\", \"name\": \"AUC_macro_max\", \"stepped\": true, \"type\": \"scatter\", \"data\": [0.7981013916226355, 0.8366210317228242, 0.8366210317228242, 0.8366210317228242, 0.8366210317228242, 0.8366210317228242, 0.8366210317228242, 0.8366210317228242, 0.8366210317228242, 0.8366210317228242, 0.8366210317228242, 0.8366210317228242, 0.8366210317228242, 0.8366210317228242, 0.8366210317228242, 0.8366210317228242, 0.8366210317228242, 0.8366210317228242, 0.8366210317228242, 0.8366210317228242, 0.8366210317228242, 0.8366210317228242, 0.8366210317228242, 0.8366210317228242, 0.8366210317228242, 0.8366210317228242, 0.8366210317228242, 0.8366210317228242, 0.8366210317228242, 0.8366210317228242, 0.8366210317228242, 0.8366210317228242, 0.8453619557964369, 0.8453619557964369]}], \"recall_score_weighted\": [{\"categories\": [\"0\", \"1\", \"2\", \"3\", \"4\", \"5\", \"6\", \"7\", \"8\", \"9\", \"10\", \"11\", \"12\", \"13\", \"14\", \"15\", \"16\", \"17\", \"18\", \"19\", \"20\", \"21\", \"22\", \"23\", \"24\", \"25\", \"26\", \"27\", \"28\", \"29\", \"30\", \"31\", \"34\", \"35\"], \"mode\": \"markers\", \"name\": \"recall_score_weighted\", \"stepped\": false, \"type\": \"scatter\", \"data\": [0.7396103896103897, 0.7695659603554341, 0.7525803144224198, 0.7514012303485987, 0.748632946001367, 0.7591421736158578, 0.7396616541353384, 0.7252563226247437, 0.6601161995898839, 0.6927375256322625, 0.7265892002734108, 0.7161312371838688, 0.7148325358851675, 0.7565618591934381, 0.7396958304853042, 0.7539473684210527, 0.7292891319207109, 0.718796992481203, 0.7319036226930964, 0.7448906356801095, 0.7656356801093642, 0.7591934381408066, 0.7591079972658921, 0.7395933014354067, 0.7486671223513329, 0.7161312371838686, 0.7083902939166097, 0.7682843472317156, 0.7512816131237183, 0.7513328776486671, 0.7603725222146276, 0.7095352016404648, 0.774812030075188, 0.765704032809296]}, {\"categories\": [\"0\", \"1\", \"2\", \"3\", \"4\", \"5\", \"6\", \"7\", \"8\", \"9\", \"10\", \"11\", \"12\", \"13\", \"14\", \"15\", \"16\", \"17\", \"18\", \"19\", \"20\", \"21\", \"22\", \"23\", \"24\", \"25\", \"26\", \"27\", \"28\", \"29\", \"30\", \"31\", \"34\", \"35\"], \"mode\": \"lines\", \"name\": \"recall_score_weighted_max\", \"stepped\": true, \"type\": \"scatter\", \"data\": [0.7396103896103897, 0.7695659603554341, 0.7695659603554341, 0.7695659603554341, 0.7695659603554341, 0.7695659603554341, 0.7695659603554341, 0.7695659603554341, 0.7695659603554341, 0.7695659603554341, 0.7695659603554341, 0.7695659603554341, 0.7695659603554341, 0.7695659603554341, 0.7695659603554341, 0.7695659603554341, 0.7695659603554341, 0.7695659603554341, 0.7695659603554341, 0.7695659603554341, 0.7695659603554341, 0.7695659603554341, 0.7695659603554341, 0.7695659603554341, 0.7695659603554341, 0.7695659603554341, 0.7695659603554341, 0.7695659603554341, 0.7695659603554341, 0.7695659603554341, 0.7695659603554341, 0.7695659603554341, 0.774812030075188, 0.774812030075188]}], \"weighted_accuracy\": [{\"categories\": [\"0\", \"1\", \"2\", \"3\", \"4\", \"5\", \"6\", \"7\", \"8\", \"9\", \"10\", \"11\", \"12\", \"13\", \"14\", \"15\", \"16\", \"17\", \"18\", \"19\", \"20\", \"21\", \"22\", \"23\", \"24\", \"25\", \"26\", \"27\", \"28\", \"29\", \"30\", \"31\", \"34\", \"35\"], \"mode\": \"markers\", \"name\": \"weighted_accuracy\", \"stepped\": false, \"type\": \"scatter\", \"data\": [0.7658219048734536, 0.7945054420815822, 0.7986778950662023, 0.7585834514534213, 0.8055621134717825, 0.8096985602362745, 0.7996532856381885, 0.7997694383092189, 0.7733679784037842, 0.6934621426896863, 0.7283274344468389, 0.7106069152277311, 0.7080234989108022, 0.7947134642091852, 0.7784139002958261, 0.8063495828995005, 0.73288987654641, 0.7218518971446051, 0.7322612500159569, 0.7737974914965314, 0.7923072490351333, 0.7901618529545623, 0.785399388693536, 0.7682773412831079, 0.7757362399087467, 0.7652942757804686, 0.7561277462965574, 0.8058599956824665, 0.7921448699416143, 0.7886581825745735, 0.796879892588096, 0.7983536630655234, 0.8007162053200938, 0.8083513929837352]}, {\"categories\": [\"0\", \"1\", \"2\", \"3\", \"4\", \"5\", \"6\", \"7\", \"8\", \"9\", \"10\", \"11\", \"12\", \"13\", \"14\", \"15\", \"16\", \"17\", \"18\", \"19\", \"20\", \"21\", \"22\", \"23\", \"24\", \"25\", \"26\", \"27\", \"28\", \"29\", \"30\", \"31\", \"34\", \"35\"], \"mode\": \"lines\", \"name\": \"weighted_accuracy_max\", \"stepped\": true, \"type\": \"scatter\", \"data\": [0.7658219048734536, 0.7945054420815822, 0.7986778950662023, 0.7986778950662023, 0.8055621134717825, 0.8096985602362745, 0.8096985602362745, 0.8096985602362745, 0.8096985602362745, 0.8096985602362745, 0.8096985602362745, 0.8096985602362745, 0.8096985602362745, 0.8096985602362745, 0.8096985602362745, 0.8096985602362745, 0.8096985602362745, 0.8096985602362745, 0.8096985602362745, 0.8096985602362745, 0.8096985602362745, 0.8096985602362745, 0.8096985602362745, 0.8096985602362745, 0.8096985602362745, 0.8096985602362745, 0.8096985602362745, 0.8096985602362745, 0.8096985602362745, 0.8096985602362745, 0.8096985602362745, 0.8096985602362745, 0.8096985602362745, 0.8096985602362745]}], \"average_precision_score_weighted\": [{\"categories\": [\"0\", \"1\", \"2\", \"3\", \"4\", \"5\", \"6\", \"7\", \"8\", \"9\", \"10\", \"11\", \"12\", \"13\", \"14\", \"15\", \"16\", \"17\", \"18\", \"19\", \"20\", \"21\", \"22\", \"23\", \"24\", \"25\", \"26\", \"27\", \"28\", \"29\", \"30\", \"31\", \"34\", \"35\"], \"mode\": \"markers\", \"name\": \"average_precision_score_weighted\", \"stepped\": false, \"type\": \"scatter\", \"data\": [0.8088900198552287, 0.8456601055549087, 0.8367211329415847, 0.8406044428825263, 0.8323574148240681, 0.83873510994414, 0.8211406861975197, 0.8118917023200645, 0.8207143025766817, 0.7951760463276737, 0.8148900199415229, 0.8200290643066367, 0.8090389690580482, 0.8362007182476587, 0.8152119742110526, 0.8355331306725962, 0.8339314240233602, 0.8259140626262278, 0.8232618289997857, 0.8266773135730267, 0.8353056656890262, 0.8410095977435882, 0.8271530854832049, 0.8036932228257159, 0.8353452465304411, 0.7623271668766703, 0.7629876166106058, 0.8388596132239593, 0.8166568935320472, 0.8394895997555054, 0.8423643305466996, 0.8371604248676936, 0.8545305766599978, 0.8512469129437227]}, {\"categories\": [\"0\", \"1\", \"2\", \"3\", \"4\", \"5\", \"6\", \"7\", \"8\", \"9\", \"10\", \"11\", \"12\", \"13\", \"14\", \"15\", \"16\", \"17\", \"18\", \"19\", \"20\", \"21\", \"22\", \"23\", \"24\", \"25\", \"26\", \"27\", \"28\", \"29\", \"30\", \"31\", \"34\", \"35\"], \"mode\": \"lines\", \"name\": \"average_precision_score_weighted_max\", \"stepped\": true, \"type\": \"scatter\", \"data\": [0.8088900198552287, 0.8456601055549087, 0.8456601055549087, 0.8456601055549087, 0.8456601055549087, 0.8456601055549087, 0.8456601055549087, 0.8456601055549087, 0.8456601055549087, 0.8456601055549087, 0.8456601055549087, 0.8456601055549087, 0.8456601055549087, 0.8456601055549087, 0.8456601055549087, 0.8456601055549087, 0.8456601055549087, 0.8456601055549087, 0.8456601055549087, 0.8456601055549087, 0.8456601055549087, 0.8456601055549087, 0.8456601055549087, 0.8456601055549087, 0.8456601055549087, 0.8456601055549087, 0.8456601055549087, 0.8456601055549087, 0.8456601055549087, 0.8456601055549087, 0.8456601055549087, 0.8456601055549087, 0.8545305766599978, 0.8545305766599978]}], \"accuracy\": [{\"categories\": [\"0\", \"1\", \"2\", \"3\", \"4\", \"5\", \"6\", \"7\", \"8\", \"9\", \"10\", \"11\", \"12\", \"13\", \"14\", \"15\", \"16\", \"17\", \"18\", \"19\", \"20\", \"21\", \"22\", \"23\", \"24\", \"25\", \"26\", \"27\", \"28\", \"29\", \"30\", \"31\", \"34\", \"35\"], \"mode\": \"markers\", \"name\": \"accuracy\", \"stepped\": false, \"type\": \"scatter\", \"data\": [0.7396103896103897, 0.7695659603554341, 0.7525803144224198, 0.7514012303485987, 0.748632946001367, 0.7591421736158578, 0.7396616541353384, 0.7252563226247437, 0.6601161995898839, 0.6927375256322625, 0.7265892002734108, 0.7161312371838688, 0.7148325358851675, 0.7565618591934381, 0.7396958304853042, 0.7539473684210527, 0.7292891319207109, 0.718796992481203, 0.7319036226930964, 0.7448906356801095, 0.7656356801093642, 0.7591934381408066, 0.7591079972658921, 0.7395933014354067, 0.7486671223513329, 0.7161312371838686, 0.7083902939166097, 0.7682843472317156, 0.7512816131237183, 0.7513328776486671, 0.7603725222146276, 0.7095352016404648, 0.774812030075188, 0.765704032809296]}, {\"categories\": [\"0\", \"1\", \"2\", \"3\", \"4\", \"5\", \"6\", \"7\", \"8\", \"9\", \"10\", \"11\", \"12\", \"13\", \"14\", \"15\", \"16\", \"17\", \"18\", \"19\", \"20\", \"21\", \"22\", \"23\", \"24\", \"25\", \"26\", \"27\", \"28\", \"29\", \"30\", \"31\", \"34\", \"35\"], \"mode\": \"lines\", \"name\": \"accuracy_max\", \"stepped\": true, \"type\": \"scatter\", \"data\": [0.7396103896103897, 0.7695659603554341, 0.7695659603554341, 0.7695659603554341, 0.7695659603554341, 0.7695659603554341, 0.7695659603554341, 0.7695659603554341, 0.7695659603554341, 0.7695659603554341, 0.7695659603554341, 0.7695659603554341, 0.7695659603554341, 0.7695659603554341, 0.7695659603554341, 0.7695659603554341, 0.7695659603554341, 0.7695659603554341, 0.7695659603554341, 0.7695659603554341, 0.7695659603554341, 0.7695659603554341, 0.7695659603554341, 0.7695659603554341, 0.7695659603554341, 0.7695659603554341, 0.7695659603554341, 0.7695659603554341, 0.7695659603554341, 0.7695659603554341, 0.7695659603554341, 0.7695659603554341, 0.774812030075188, 0.774812030075188]}], \"matthews_correlation\": [{\"categories\": [\"0\", \"1\", \"2\", \"3\", \"4\", \"5\", \"6\", \"7\", \"8\", \"9\", \"10\", \"11\", \"12\", \"13\", \"14\", \"15\", \"16\", \"17\", \"18\", \"19\", \"20\", \"21\", \"22\", \"23\", \"24\", \"25\", \"26\", \"27\", \"28\", \"29\", \"30\", \"31\", \"34\", \"35\"], \"mode\": \"markers\", \"name\": \"matthews_correlation\", \"stepped\": false, \"type\": \"scatter\", \"data\": [0.4163237794803841, 0.4814237328189323, 0.4306197415112547, 0.4700625701103385, 0.41807195466887126, 0.43887998710966575, 0.38550640916657064, 0.34308347031229003, 0.08078463995316622, 0.36801331376755514, 0.42972552024833616, 0.43015145569134416, 0.4262478653092009, 0.4416434332541396, 0.40167544227664675, 0.4283782739994023, 0.43542878596315626, 0.41626326560556903, 0.4450093707548401, 0.423054777853055, 0.46857938586539943, 0.4519860782361248, 0.456012284881378, 0.411715829806106, 0.4376641878769762, 0.3385051319868583, 0.31907387832124734, 0.46846617061933926, 0.42576120012511315, 0.4295717257806781, 0.4500187505272983, 0.30551360824067686, 0.49074345658078833, 0.4479311560258778]}, {\"categories\": [\"0\", \"1\", \"2\", \"3\", \"4\", \"5\", \"6\", \"7\", \"8\", \"9\", \"10\", \"11\", \"12\", \"13\", \"14\", \"15\", \"16\", \"17\", \"18\", \"19\", \"20\", \"21\", \"22\", \"23\", \"24\", \"25\", \"26\", \"27\", \"28\", \"29\", \"30\", \"31\", \"34\", \"35\"], \"mode\": \"lines\", \"name\": \"matthews_correlation_max\", \"stepped\": true, \"type\": \"scatter\", \"data\": [0.4163237794803841, 0.4814237328189323, 0.4814237328189323, 0.4814237328189323, 0.4814237328189323, 0.4814237328189323, 0.4814237328189323, 0.4814237328189323, 0.4814237328189323, 0.4814237328189323, 0.4814237328189323, 0.4814237328189323, 0.4814237328189323, 0.4814237328189323, 0.4814237328189323, 0.4814237328189323, 0.4814237328189323, 0.4814237328189323, 0.4814237328189323, 0.4814237328189323, 0.4814237328189323, 0.4814237328189323, 0.4814237328189323, 0.4814237328189323, 0.4814237328189323, 0.4814237328189323, 0.4814237328189323, 0.4814237328189323, 0.4814237328189323, 0.4814237328189323, 0.4814237328189323, 0.4814237328189323, 0.49074345658078833, 0.49074345658078833]}], \"log_loss\": [{\"categories\": [\"0\", \"1\", \"2\", \"3\", \"4\", \"5\", \"6\", \"7\", \"8\", \"9\", \"10\", \"11\", \"12\", \"13\", \"14\", \"15\", \"16\", \"17\", \"18\", \"19\", \"20\", \"21\", \"22\", \"23\", \"24\", \"25\", \"26\", \"27\", \"28\", \"29\", \"30\", \"31\", \"34\", \"35\"], \"mode\": \"markers\", \"name\": \"log_loss\", \"stepped\": false, \"type\": \"scatter\", \"data\": [0.6480770950597856, 0.4752990014529053, 0.5008779921376987, 0.5084458654160915, 0.5217052608723415, 0.5015785176900356, 0.5241312812131359, 0.5480052899714498, 0.5837758238280768, 0.6361382211692208, 0.5621117276604275, 0.5695064925741232, 0.6537077261824273, 0.5399900419024505, 0.5093882255814648, 0.5030370378361609, 0.5505819470853994, 0.5695844793241713, 0.5792982163089418, 0.5201432773723467, 0.4925117186247898, 0.481328576198746, 0.5243508876759967, 0.665186068910875, 0.49864955203801065, 0.5654478578945731, 0.5669272715020282, 0.48617754292259374, 0.5468321409541537, 0.48356545591495276, 0.47855422965760486, 0.5532229264325649, 0.5130958255110147, 0.4847861124438106]}, {\"categories\": [\"0\", \"1\", \"2\", \"3\", \"4\", \"5\", \"6\", \"7\", \"8\", \"9\", \"10\", \"11\", \"12\", \"13\", \"14\", \"15\", \"16\", \"17\", \"18\", \"19\", \"20\", \"21\", \"22\", \"23\", \"24\", \"25\", \"26\", \"27\", \"28\", \"29\", \"30\", \"31\", \"34\", \"35\"], \"mode\": \"lines\", \"name\": \"log_loss_min\", \"stepped\": true, \"type\": \"scatter\", \"data\": [0.6480770950597856, 0.4752990014529053, 0.4752990014529053, 0.4752990014529053, 0.4752990014529053, 0.4752990014529053, 0.4752990014529053, 0.4752990014529053, 0.4752990014529053, 0.4752990014529053, 0.4752990014529053, 0.4752990014529053, 0.4752990014529053, 0.4752990014529053, 0.4752990014529053, 0.4752990014529053, 0.4752990014529053, 0.4752990014529053, 0.4752990014529053, 0.4752990014529053, 0.4752990014529053, 0.4752990014529053, 0.4752990014529053, 0.4752990014529053, 0.4752990014529053, 0.4752990014529053, 0.4752990014529053, 0.4752990014529053, 0.4752990014529053, 0.4752990014529053, 0.4752990014529053, 0.4752990014529053, 0.4752990014529053, 0.4752990014529053]}], \"f1_score_macro\": [{\"categories\": [\"0\", \"1\", \"2\", \"3\", \"4\", \"5\", \"6\", \"7\", \"8\", \"9\", \"10\", \"11\", \"12\", \"13\", \"14\", \"15\", \"16\", \"17\", \"18\", \"19\", \"20\", \"21\", \"22\", \"23\", \"24\", \"25\", \"26\", \"27\", \"28\", \"29\", \"30\", \"31\", \"34\", \"35\"], \"mode\": \"markers\", \"name\": \"f1_score_macro\", \"stepped\": false, \"type\": \"scatter\", \"data\": [0.7060869524729553, 0.7386733613551352, 0.70123876075114, 0.7309801448471951, 0.6818983225804962, 0.7025801593958096, 0.6689876386504098, 0.6265895243633086, 0.42421179056503633, 0.6754052266279699, 0.7085242011122206, 0.7021606283863032, 0.7007111644510808, 0.7133648428740039, 0.6934586317555137, 0.6945413773234439, 0.7098090370408081, 0.6995563175034903, 0.7135044413358356, 0.7080983085986131, 0.7323429719874582, 0.7219857330902391, 0.7257953980090168, 0.7035258831465685, 0.7153525852528915, 0.6565005125617356, 0.6508967294542133, 0.7268533452832493, 0.705075327147772, 0.7085272753235705, 0.7188779180934616, 0.5719290362837611, 0.7431175251787323, 0.7085118858196954]}, {\"categories\": [\"0\", \"1\", \"2\", \"3\", \"4\", \"5\", \"6\", \"7\", \"8\", \"9\", \"10\", \"11\", \"12\", \"13\", \"14\", \"15\", \"16\", \"17\", \"18\", \"19\", \"20\", \"21\", \"22\", \"23\", \"24\", \"25\", \"26\", \"27\", \"28\", \"29\", \"30\", \"31\", \"34\", \"35\"], \"mode\": \"lines\", \"name\": \"f1_score_macro_max\", \"stepped\": true, \"type\": \"scatter\", \"data\": [0.7060869524729553, 0.7386733613551352, 0.7386733613551352, 0.7386733613551352, 0.7386733613551352, 0.7386733613551352, 0.7386733613551352, 0.7386733613551352, 0.7386733613551352, 0.7386733613551352, 0.7386733613551352, 0.7386733613551352, 0.7386733613551352, 0.7386733613551352, 0.7386733613551352, 0.7386733613551352, 0.7386733613551352, 0.7386733613551352, 0.7386733613551352, 0.7386733613551352, 0.7386733613551352, 0.7386733613551352, 0.7386733613551352, 0.7386733613551352, 0.7386733613551352, 0.7386733613551352, 0.7386733613551352, 0.7386733613551352, 0.7386733613551352, 0.7386733613551352, 0.7386733613551352, 0.7386733613551352, 0.7431175251787323, 0.7431175251787323]}], \"precision_score_macro\": [{\"categories\": [\"0\", \"1\", \"2\", \"3\", \"4\", \"5\", \"6\", \"7\", \"8\", \"9\", \"10\", \"11\", \"12\", \"13\", \"14\", \"15\", \"16\", \"17\", \"18\", \"19\", \"20\", \"21\", \"22\", \"23\", \"24\", \"25\", \"26\", \"27\", \"28\", \"29\", \"30\", \"31\", \"34\", \"35\"], \"mode\": \"markers\", \"name\": \"precision_score_macro\", \"stepped\": false, \"type\": \"scatter\", \"data\": [0.7112261247846459, 0.7448891884111544, 0.7406412557762702, 0.7295835081231136, 0.7533917782433721, 0.7495234247126581, 0.7306051454968614, 0.7294677753734357, 0.5120673481185377, 0.6771971635324404, 0.7072391618502754, 0.7070867195226899, 0.7043683074028502, 0.7365605949242839, 0.7142331447332309, 0.7469849689052173, 0.7119822724588905, 0.7028975000879357, 0.7156384115043998, 0.718134752697632, 0.7396391393586124, 0.7347046784537198, 0.7322794801213324, 0.7107737856506116, 0.7241168729080172, 0.6899936307083482, 0.6760505553372046, 0.7502189725647419, 0.7295088530078773, 0.7282596142478411, 0.7390184551161546, 0.7503402564201184, 0.7514302663278907, 0.7578203099644586]}, {\"categories\": [\"0\", \"1\", \"2\", \"3\", \"4\", \"5\", \"6\", \"7\", \"8\", \"9\", \"10\", \"11\", \"12\", \"13\", \"14\", \"15\", \"16\", \"17\", \"18\", \"19\", \"20\", \"21\", \"22\", \"23\", \"24\", \"25\", \"26\", \"27\", \"28\", \"29\", \"30\", \"31\", \"34\", \"35\"], \"mode\": \"lines\", \"name\": \"precision_score_macro_max\", \"stepped\": true, \"type\": \"scatter\", \"data\": [0.7112261247846459, 0.7448891884111544, 0.7448891884111544, 0.7448891884111544, 0.7533917782433721, 0.7533917782433721, 0.7533917782433721, 0.7533917782433721, 0.7533917782433721, 0.7533917782433721, 0.7533917782433721, 0.7533917782433721, 0.7533917782433721, 0.7533917782433721, 0.7533917782433721, 0.7533917782433721, 0.7533917782433721, 0.7533917782433721, 0.7533917782433721, 0.7533917782433721, 0.7533917782433721, 0.7533917782433721, 0.7533917782433721, 0.7533917782433721, 0.7533917782433721, 0.7533917782433721, 0.7533917782433721, 0.7533917782433721, 0.7533917782433721, 0.7533917782433721, 0.7533917782433721, 0.7533917782433721, 0.7533917782433721, 0.7578203099644586]}], \"balanced_accuracy\": [{\"categories\": [\"0\", \"1\", \"2\", \"3\", \"4\", \"5\", \"6\", \"7\", \"8\", \"9\", \"10\", \"11\", \"12\", \"13\", \"14\", \"15\", \"16\", \"17\", \"18\", \"19\", \"20\", \"21\", \"22\", \"23\", \"24\", \"25\", \"26\", \"27\", \"28\", \"29\", \"30\", \"31\", \"34\", \"35\"], \"mode\": \"markers\", \"name\": \"balanced_accuracy\", \"stepped\": false, \"type\": \"scatter\", \"data\": [0.7053588221478819, 0.7368196523334581, 0.6933692964744755, 0.7409094987180308, 0.6748595905893946, 0.6934203075573987, 0.6614393180858109, 0.6290573165415555, 0.5146103761205648, 0.6914100395190449, 0.7230061080557368, 0.7238591958484885, 0.7226076718856823, 0.7066421706909842, 0.6887851208017015, 0.6864359697670513, 0.7241862928465089, 0.7138548447611521, 0.729960105074549, 0.705585176022082, 0.7292912489194303, 0.7179292458404329, 0.724047222468623, 0.7013386491181416, 0.7141306764472454, 0.6516367961182358, 0.6452278344893329, 0.7197197589031966, 0.6976899975757002, 0.7024293949572693, 0.7121349809584976, 0.5958621786283607, 0.7396902563224768, 0.7061597958777404]}, {\"categories\": [\"0\", \"1\", \"2\", \"3\", \"4\", \"5\", \"6\", \"7\", \"8\", \"9\", \"10\", \"11\", \"12\", \"13\", \"14\", \"15\", \"16\", \"17\", \"18\", \"19\", \"20\", \"21\", \"22\", \"23\", \"24\", \"25\", \"26\", \"27\", \"28\", \"29\", \"30\", \"31\", \"34\", \"35\"], \"mode\": \"lines\", \"name\": \"balanced_accuracy_max\", \"stepped\": true, \"type\": \"scatter\", \"data\": [0.7053588221478819, 0.7368196523334581, 0.7368196523334581, 0.7409094987180308, 0.7409094987180308, 0.7409094987180308, 0.7409094987180308, 0.7409094987180308, 0.7409094987180308, 0.7409094987180308, 0.7409094987180308, 0.7409094987180308, 0.7409094987180308, 0.7409094987180308, 0.7409094987180308, 0.7409094987180308, 0.7409094987180308, 0.7409094987180308, 0.7409094987180308, 0.7409094987180308, 0.7409094987180308, 0.7409094987180308, 0.7409094987180308, 0.7409094987180308, 0.7409094987180308, 0.7409094987180308, 0.7409094987180308, 0.7409094987180308, 0.7409094987180308, 0.7409094987180308, 0.7409094987180308, 0.7409094987180308, 0.7409094987180308, 0.7409094987180308]}], \"f1_score_micro\": [{\"categories\": [\"0\", \"1\", \"2\", \"3\", \"4\", \"5\", \"6\", \"7\", \"8\", \"9\", \"10\", \"11\", \"12\", \"13\", \"14\", \"15\", \"16\", \"17\", \"18\", \"19\", \"20\", \"21\", \"22\", \"23\", \"24\", \"25\", \"26\", \"27\", \"28\", \"29\", \"30\", \"31\", \"34\", \"35\"], \"mode\": \"markers\", \"name\": \"f1_score_micro\", \"stepped\": false, \"type\": \"scatter\", \"data\": [0.7396103896103897, 0.7695659603554341, 0.7525803144224198, 0.7514012303485987, 0.748632946001367, 0.7591421736158578, 0.7396616541353384, 0.7252563226247437, 0.6601161995898839, 0.6927375256322625, 0.7265892002734108, 0.7161312371838687, 0.7148325358851675, 0.7565618591934381, 0.7396958304853042, 0.7539473684210527, 0.7292891319207109, 0.718796992481203, 0.7319036226930964, 0.7448906356801095, 0.7656356801093642, 0.7591934381408066, 0.7591079972658921, 0.7395933014354067, 0.7486671223513329, 0.7161312371838686, 0.7083902939166097, 0.7682843472317156, 0.7512816131237183, 0.751332877648667, 0.7603725222146275, 0.7095352016404648, 0.774812030075188, 0.765704032809296]}, {\"categories\": [\"0\", \"1\", \"2\", \"3\", \"4\", \"5\", \"6\", \"7\", \"8\", \"9\", \"10\", \"11\", \"12\", \"13\", \"14\", \"15\", \"16\", \"17\", \"18\", \"19\", \"20\", \"21\", \"22\", \"23\", \"24\", \"25\", \"26\", \"27\", \"28\", \"29\", \"30\", \"31\", \"34\", \"35\"], \"mode\": \"lines\", \"name\": \"f1_score_micro_max\", \"stepped\": true, \"type\": \"scatter\", \"data\": [0.7396103896103897, 0.7695659603554341, 0.7695659603554341, 0.7695659603554341, 0.7695659603554341, 0.7695659603554341, 0.7695659603554341, 0.7695659603554341, 0.7695659603554341, 0.7695659603554341, 0.7695659603554341, 0.7695659603554341, 0.7695659603554341, 0.7695659603554341, 0.7695659603554341, 0.7695659603554341, 0.7695659603554341, 0.7695659603554341, 0.7695659603554341, 0.7695659603554341, 0.7695659603554341, 0.7695659603554341, 0.7695659603554341, 0.7695659603554341, 0.7695659603554341, 0.7695659603554341, 0.7695659603554341, 0.7695659603554341, 0.7695659603554341, 0.7695659603554341, 0.7695659603554341, 0.7695659603554341, 0.774812030075188, 0.774812030075188]}], \"AUC_micro\": [{\"categories\": [\"0\", \"1\", \"2\", \"3\", \"4\", \"5\", \"6\", \"7\", \"8\", \"9\", \"10\", \"11\", \"12\", \"13\", \"14\", \"15\", \"16\", \"17\", \"18\", \"19\", \"20\", \"21\", \"22\", \"23\", \"24\", \"25\", \"26\", \"27\", \"28\", \"29\", \"30\", \"31\", \"34\", \"35\"], \"mode\": \"markers\", \"name\": \"AUC_micro\", \"stepped\": false, \"type\": \"scatter\", \"data\": [0.8242456616125537, 0.8556880349836874, 0.8387580103010276, 0.8372446234738028, 0.8309606690481874, 0.8424953886456027, 0.8212506202201582, 0.8015509592037635, 0.7890517300988755, 0.7728075188203529, 0.8065249350696071, 0.8039072030336826, 0.7907204814917427, 0.844475000572331, 0.8256974994732216, 0.8387410301681626, 0.8246335795369865, 0.8109572928780038, 0.808611543733814, 0.8381858893256255, 0.8451741060770364, 0.8513651326009674, 0.8393107946573698, 0.8122127685693448, 0.8446213188006366, 0.7801606463651828, 0.7845367113100591, 0.8463500510893216, 0.8338311699991918, 0.8466908392898608, 0.8519160276802739, 0.809321500171232, 0.8622392856091636, 0.8562352361905822]}, {\"categories\": [\"0\", \"1\", \"2\", \"3\", \"4\", \"5\", \"6\", \"7\", \"8\", \"9\", \"10\", \"11\", \"12\", \"13\", \"14\", \"15\", \"16\", \"17\", \"18\", \"19\", \"20\", \"21\", \"22\", \"23\", \"24\", \"25\", \"26\", \"27\", \"28\", \"29\", \"30\", \"31\", \"34\", \"35\"], \"mode\": \"lines\", \"name\": \"AUC_micro_max\", \"stepped\": true, \"type\": \"scatter\", \"data\": [0.8242456616125537, 0.8556880349836874, 0.8556880349836874, 0.8556880349836874, 0.8556880349836874, 0.8556880349836874, 0.8556880349836874, 0.8556880349836874, 0.8556880349836874, 0.8556880349836874, 0.8556880349836874, 0.8556880349836874, 0.8556880349836874, 0.8556880349836874, 0.8556880349836874, 0.8556880349836874, 0.8556880349836874, 0.8556880349836874, 0.8556880349836874, 0.8556880349836874, 0.8556880349836874, 0.8556880349836874, 0.8556880349836874, 0.8556880349836874, 0.8556880349836874, 0.8556880349836874, 0.8556880349836874, 0.8556880349836874, 0.8556880349836874, 0.8556880349836874, 0.8556880349836874, 0.8556880349836874, 0.8622392856091636, 0.8622392856091636]}]}, \"metricName\": null, \"primaryMetricName\": \"AUC_weighted\", \"showLegend\": false}, \"run_metrics\": [{\"name\": \"experiment_status\", \"run_id\": \"AutoML_e3ebd03c-8a99-4d39-9542-db206620c097\", \"categories\": [0, 1, 2, 3, 4, 5], \"series\": [{\"data\": [\"DatasetEvaluation\", \"FeaturesGeneration\", \"DatasetFeaturization\", \"DatasetFeaturizationCompleted\", \"DatasetCrossValidationSplit\", \"ModelSelection\"]}]}, {\"name\": \"experiment_status_description\", \"run_id\": \"AutoML_e3ebd03c-8a99-4d39-9542-db206620c097\", \"categories\": [0, 1, 2, 3, 4, 5], \"series\": [{\"data\": [\"Gathering dataset statistics.\", \"Generating features for the dataset.\", \"Beginning to fit featurizers and featurize the dataset.\", \"Completed fit featurizers and featurizing the dataset.\", \"Generating individually featurized CV splits.\", \"Beginning model selection.\"]}]}, {\"name\": \"norm_macro_recall\", \"run_id\": \"AutoML_e3ebd03c-8a99-4d39-9542-db206620c097\", \"categories\": [0], \"series\": [{\"data\": [0.4793805126449536]}]}, {\"name\": \"precision_score_macro\", \"run_id\": \"AutoML_e3ebd03c-8a99-4d39-9542-db206620c097\", \"categories\": [0], \"series\": [{\"data\": [0.7514302663278907]}]}, {\"name\": \"AUC_macro\", \"run_id\": \"AutoML_e3ebd03c-8a99-4d39-9542-db206620c097\", \"categories\": [0], \"series\": [{\"data\": [0.8453619557964369]}]}, {\"name\": \"log_loss\", \"run_id\": \"AutoML_e3ebd03c-8a99-4d39-9542-db206620c097\", \"categories\": [0], \"series\": [{\"data\": [0.5130958255110147]}]}, {\"name\": \"accuracy\", \"run_id\": \"AutoML_e3ebd03c-8a99-4d39-9542-db206620c097\", \"categories\": [0], \"series\": [{\"data\": [0.774812030075188]}]}, {\"name\": \"recall_score_macro\", \"run_id\": \"AutoML_e3ebd03c-8a99-4d39-9542-db206620c097\", \"categories\": [0], \"series\": [{\"data\": [0.7396902563224768]}]}, {\"name\": \"f1_score_micro\", \"run_id\": \"AutoML_e3ebd03c-8a99-4d39-9542-db206620c097\", \"categories\": [0], \"series\": [{\"data\": [0.774812030075188]}]}, {\"name\": \"f1_score_weighted\", \"run_id\": \"AutoML_e3ebd03c-8a99-4d39-9542-db206620c097\", \"categories\": [0], \"series\": [{\"data\": [0.7728909706367271]}]}, {\"name\": \"average_precision_score_micro\", \"run_id\": \"AutoML_e3ebd03c-8a99-4d39-9542-db206620c097\", \"categories\": [0], \"series\": [{\"data\": [0.8642386123416799]}]}, {\"name\": \"AUC_weighted\", \"run_id\": \"AutoML_e3ebd03c-8a99-4d39-9542-db206620c097\", \"categories\": [0], \"series\": [{\"data\": [0.8453619557964369]}]}, {\"name\": \"recall_score_weighted\", \"run_id\": \"AutoML_e3ebd03c-8a99-4d39-9542-db206620c097\", \"categories\": [0], \"series\": [{\"data\": [0.774812030075188]}]}, {\"name\": \"average_precision_score_weighted\", \"run_id\": \"AutoML_e3ebd03c-8a99-4d39-9542-db206620c097\", \"categories\": [0], \"series\": [{\"data\": [0.8545305766599978]}]}, {\"name\": \"average_precision_score_macro\", \"run_id\": \"AutoML_e3ebd03c-8a99-4d39-9542-db206620c097\", \"categories\": [0], \"series\": [{\"data\": [0.82572658181947]}]}, {\"name\": \"weighted_accuracy\", \"run_id\": \"AutoML_e3ebd03c-8a99-4d39-9542-db206620c097\", \"categories\": [0], \"series\": [{\"data\": [0.8007162053200938]}]}, {\"name\": \"recall_score_micro\", \"run_id\": \"AutoML_e3ebd03c-8a99-4d39-9542-db206620c097\", \"categories\": [0], \"series\": [{\"data\": [0.774812030075188]}]}, {\"name\": \"precision_score_micro\", \"run_id\": \"AutoML_e3ebd03c-8a99-4d39-9542-db206620c097\", \"categories\": [0], \"series\": [{\"data\": [0.774812030075188]}]}, {\"name\": \"f1_score_macro\", \"run_id\": \"AutoML_e3ebd03c-8a99-4d39-9542-db206620c097\", \"categories\": [0], \"series\": [{\"data\": [0.7431175251787323]}]}, {\"name\": \"precision_score_weighted\", \"run_id\": \"AutoML_e3ebd03c-8a99-4d39-9542-db206620c097\", \"categories\": [0], \"series\": [{\"data\": [0.7752276041727788]}]}, {\"name\": \"matthews_correlation\", \"run_id\": \"AutoML_e3ebd03c-8a99-4d39-9542-db206620c097\", \"categories\": [0], \"series\": [{\"data\": [0.49074345658078833]}]}, {\"name\": \"AUC_micro\", \"run_id\": \"AutoML_e3ebd03c-8a99-4d39-9542-db206620c097\", \"categories\": [0], \"series\": [{\"data\": [0.8622392856091636]}]}, {\"name\": \"balanced_accuracy\", \"run_id\": \"AutoML_e3ebd03c-8a99-4d39-9542-db206620c097\", \"categories\": [0], \"series\": [{\"data\": [0.7396902563224768]}]}], \"run_logs\": \"\\nRun is completed.\", \"graph\": {}, \"widget_settings\": {\"childWidgetDisplay\": \"popup\", \"send_telemetry\": false, \"log_level\": \"INFO\", \"sdk_version\": \"1.20.0\"}, \"loading\": false}"
          },
          "metadata": {}
        }
      ],
      "execution_count": 15,
      "metadata": {
        "gather": {
          "logged": 1612895772183
        },
        "jupyter": {
          "outputs_hidden": false,
          "source_hidden": false
        },
        "nteract": {
          "transient": {
            "deleting": false
          }
        }
      }
    },
    {
      "cell_type": "code",
      "source": [
        "remote_run.wait_for_completion(show_output=True)"
      ],
      "outputs": [
        {
          "output_type": "stream",
          "name": "stdout",
          "text": [
            "\n",
            "Current status: ModelSelection. Beginning model selection.\n",
            "\n",
            "****************************************************************************************************\n",
            "DATA GUARDRAILS: \n",
            "\n",
            "TYPE:         Cross validation\n",
            "STATUS:       DONE\n",
            "DESCRIPTION:  Each iteration of the trained model was validated through cross-validation.\n",
            "              \n",
            "DETAILS:      \n",
            "+---------------------------------+\n",
            "|Number of folds                  |\n",
            "+=================================+\n",
            "|10                               |\n",
            "+---------------------------------+\n",
            "\n",
            "****************************************************************************************************\n",
            "\n",
            "TYPE:         Class balancing detection\n",
            "STATUS:       PASSED\n",
            "DESCRIPTION:  Your inputs were analyzed, and all classes are balanced in your training data.\n",
            "              Learn more about imbalanced data: https://aka.ms/AutomatedMLImbalancedData\n",
            "\n",
            "****************************************************************************************************\n",
            "\n",
            "TYPE:         Missing feature values imputation\n",
            "STATUS:       PASSED\n",
            "DESCRIPTION:  No feature missing values were detected in the training data.\n",
            "              Learn more about missing value imputation: https://aka.ms/AutomatedMLFeaturization\n",
            "\n",
            "****************************************************************************************************\n",
            "\n",
            "TYPE:         High cardinality feature detection\n",
            "STATUS:       PASSED\n",
            "DESCRIPTION:  Your inputs were analyzed, and no high cardinality features were detected.\n",
            "              Learn more about high cardinality feature handling: https://aka.ms/AutomatedMLFeaturization\n",
            "\n",
            "****************************************************************************************************\n",
            "\n",
            "****************************************************************************************************\n",
            "ITERATION: The iteration being evaluated.\n",
            "PIPELINE: A summary description of the pipeline being evaluated.\n",
            "DURATION: Time taken for the current iteration.\n",
            "METRIC: The result of computing score on the fitted pipeline.\n",
            "BEST: The best observed score thus far.\n",
            "****************************************************************************************************\n",
            "\n",
            " ITERATION   PIPELINE                                       DURATION      METRIC      BEST\n",
            "         0   MaxAbsScaler LightGBM                          0:01:02       0.7981    0.7981\n",
            "         2   MaxAbsScaler RandomForest                      0:01:00       0.8199    0.8199\n",
            "         1   MaxAbsScaler XGBoostClassifier                 0:00:59       0.8366    0.8366\n",
            "         4   MaxAbsScaler RandomForest                      0:00:57       0.8222    0.8366\n",
            "         5   MaxAbsScaler ExtremeRandomTrees                0:01:05       0.8242    0.8366\n",
            "         3   MaxAbsScaler RandomForest                      0:03:39       0.8273    0.8366\n",
            "         6   MaxAbsScaler ExtremeRandomTrees                0:01:09       0.8010    0.8366\n",
            "         7   MaxAbsScaler ExtremeRandomTrees                0:01:00       0.7901    0.8366\n",
            "         8   MaxAbsScaler RandomForest                      0:00:54       0.8045    0.8366\n",
            "        10   MaxAbsScaler RandomForest                      0:00:58       0.8010    0.8366\n",
            "        11   MaxAbsScaler RandomForest                      0:00:55       0.8045    0.8366\n",
            "        12   MaxAbsScaler RandomForest                      0:00:53       0.7939    0.8366\n",
            "        13   StandardScalerWrapper XGBoostClassifier        0:00:58       0.8208    0.8366\n",
            "         9   MaxAbsScaler ExtremeRandomTrees                0:03:27       0.7717    0.8366\n",
            "        14   MaxAbsScaler RandomForest                      0:00:49       0.8029    0.8366\n",
            "        15   StandardScalerWrapper ExtremeRandomTrees       0:00:49       0.8194    0.8366\n",
            "        16   MaxAbsScaler ExtremeRandomTrees                0:00:55       0.8180    0.8366\n",
            "        17   MaxAbsScaler ExtremeRandomTrees                0:01:00       0.8057    0.8366\n",
            "        18   MaxAbsScaler RandomForest                      0:01:00       0.8134    0.8366\n",
            "        19   MaxAbsScaler LightGBM                          0:01:00       0.8152    0.8366\n",
            "        20   StandardScalerWrapper XGBoostClassifier        0:01:00       0.8240    0.8366\n",
            "        21   MaxAbsScaler LightGBM                          0:00:59       0.8315    0.8366\n",
            "        22   StandardScalerWrapper XGBoostClassifier        0:00:53       0.8161    0.8366\n",
            "        23   StandardScalerWrapper XGBoostClassifier        0:01:00       0.7868    0.8366\n",
            "        24   StandardScalerWrapper XGBoostClassifier        0:00:59       0.8217    0.8366\n",
            "        25   SparseNormalizer XGBoostClassifier             0:00:56       0.7342    0.8366\n",
            "        26   SparseNormalizer XGBoostClassifier             0:01:02       0.7421    0.8366\n",
            "        27   MaxAbsScaler ExtremeRandomTrees                0:01:02       0.8276    0.8366\n",
            "        28   StandardScalerWrapper XGBoostClassifier        0:00:50       0.8127    0.8366\n",
            "        29   MaxAbsScaler LightGBM                          0:01:02       0.8271    0.8366\n",
            "        30   StandardScalerWrapper XGBoostClassifier        0:01:01       0.8327    0.8366\n",
            "        31   MaxAbsScaler LightGBM                          0:00:56       0.8240    0.8366\n",
            "        32                                                  0:00:17          nan    0.8366\n",
            "        33                                                  0:00:18          nan    0.8366\n",
            "        34    VotingEnsemble                                0:01:59       0.8454    0.8454\n",
            "        35    StackEnsemble                                 0:02:07       0.8422    0.8454\n"
          ]
        },
        {
          "output_type": "execute_result",
          "execution_count": 16,
          "data": {
            "text/plain": "{'runId': 'AutoML_e3ebd03c-8a99-4d39-9542-db206620c097',\n 'target': 'capcpu',\n 'status': 'Completed',\n 'startTimeUtc': '2021-02-09T18:35:10.126824Z',\n 'endTimeUtc': '2021-02-09T19:06:30.991737Z',\n 'properties': {'num_iterations': '1000',\n  'training_type': 'TrainFull',\n  'acquisition_function': 'EI',\n  'primary_metric': 'AUC_weighted',\n  'train_split': '0',\n  'acquisition_parameter': '0',\n  'num_cross_validation': None,\n  'target': 'capcpu',\n  'AMLSettingsJsonString': '{\"path\":null,\"name\":\"diabetes\",\"subscription_id\":\"61c5c3f0-6dc7-4ed9-a7f3-c704b20e3b30\",\"resource_group\":\"aml-quickstarts-138275\",\"workspace_name\":\"quick-starts-ws-138275\",\"region\":\"southcentralus\",\"compute_target\":\"capcpu\",\"spark_service\":null,\"azure_service\":\"remote\",\"many_models\":false,\"pipeline_fetch_max_batch_size\":1,\"iterations\":1000,\"primary_metric\":\"AUC_weighted\",\"task_type\":\"classification\",\"data_script\":null,\"validation_size\":0.0,\"n_cross_validations\":null,\"y_min\":null,\"y_max\":null,\"num_classes\":null,\"featurization\":\"auto\",\"_ignore_package_version_incompatibilities\":false,\"is_timeseries\":false,\"max_cores_per_iteration\":1,\"max_concurrent_iterations\":3,\"iteration_timeout_minutes\":null,\"mem_in_mb\":null,\"enforce_time_on_windows\":false,\"experiment_timeout_minutes\":30,\"experiment_exit_score\":null,\"whitelist_models\":null,\"blacklist_algos\":[\"TensorFlowLinearClassifier\",\"TensorFlowDNN\"],\"supported_models\":[\"TensorFlowLinearClassifier\",\"SGD\",\"KNN\",\"GradientBoosting\",\"BernoulliNaiveBayes\",\"LinearSVM\",\"LightGBM\",\"RandomForest\",\"ExtremeRandomTrees\",\"XGBoostClassifier\",\"AveragedPerceptronClassifier\",\"DecisionTree\",\"MultinomialNaiveBayes\",\"LogisticRegression\",\"TensorFlowDNN\",\"SVM\"],\"auto_blacklist\":true,\"blacklist_samples_reached\":false,\"exclude_nan_labels\":true,\"verbosity\":20,\"_debug_log\":\"azureml_automl.log\",\"show_warnings\":false,\"model_explainability\":true,\"service_url\":null,\"sdk_url\":null,\"sdk_packages\":null,\"enable_onnx_compatible_models\":false,\"enable_split_onnx_featurizer_estimator_models\":false,\"vm_type\":\"STANDARD_D2_V2\",\"telemetry_verbosity\":20,\"send_telemetry\":true,\"enable_dnn\":false,\"scenario\":\"SDK-1.13.0\",\"environment_label\":null,\"force_text_dnn\":false,\"enable_feature_sweeping\":true,\"enable_early_stopping\":true,\"early_stopping_n_iters\":10,\"metrics\":null,\"enable_ensembling\":true,\"enable_stack_ensembling\":true,\"ensemble_iterations\":15,\"enable_tf\":false,\"enable_subsampling\":null,\"subsample_seed\":null,\"enable_nimbusml\":false,\"enable_streaming\":false,\"force_streaming\":false,\"track_child_runs\":true,\"allowed_private_models\":[],\"label_column_name\":\"Outcome\",\"weight_column_name\":null,\"cv_split_column_names\":null,\"enable_local_managed\":false,\"_local_managed_run_id\":null,\"cost_mode\":1,\"lag_length\":0,\"metric_operation\":\"maximize\",\"preprocess\":true}',\n  'DataPrepJsonString': '{\\\\\"training_data\\\\\": \\\\\"{\\\\\\\\\\\\\"blocks\\\\\\\\\\\\\": [{\\\\\\\\\\\\\"id\\\\\\\\\\\\\": \\\\\\\\\\\\\"e40a544c-9afb-4c9f-a938-0727fe995f53\\\\\\\\\\\\\", \\\\\\\\\\\\\"type\\\\\\\\\\\\\": \\\\\\\\\\\\\"Microsoft.DPrep.GetDatastoreFilesBlock\\\\\\\\\\\\\", \\\\\\\\\\\\\"arguments\\\\\\\\\\\\\": {\\\\\\\\\\\\\"datastores\\\\\\\\\\\\\": [{\\\\\\\\\\\\\"datastoreName\\\\\\\\\\\\\": \\\\\\\\\\\\\"workspaceblobstore\\\\\\\\\\\\\", \\\\\\\\\\\\\"path\\\\\\\\\\\\\": \\\\\\\\\\\\\"UI/02-09-2021_060125_UTC/diabetes.csv\\\\\\\\\\\\\", \\\\\\\\\\\\\"resourceGroup\\\\\\\\\\\\\": \\\\\\\\\\\\\"aml-quickstarts-138275\\\\\\\\\\\\\", \\\\\\\\\\\\\"subscription\\\\\\\\\\\\\": \\\\\\\\\\\\\"61c5c3f0-6dc7-4ed9-a7f3-c704b20e3b30\\\\\\\\\\\\\", \\\\\\\\\\\\\"workspaceName\\\\\\\\\\\\\": \\\\\\\\\\\\\"quick-starts-ws-138275\\\\\\\\\\\\\"}]}, \\\\\\\\\\\\\"localData\\\\\\\\\\\\\": {}, \\\\\\\\\\\\\"isEnabled\\\\\\\\\\\\\": true, \\\\\\\\\\\\\"name\\\\\\\\\\\\\": null, \\\\\\\\\\\\\"annotation\\\\\\\\\\\\\": null}, {\\\\\\\\\\\\\"id\\\\\\\\\\\\\": \\\\\\\\\\\\\"3aef57f5-d4fd-4a21-af3e-4f9b566395e9\\\\\\\\\\\\\", \\\\\\\\\\\\\"type\\\\\\\\\\\\\": \\\\\\\\\\\\\"Microsoft.DPrep.ParseDelimitedBlock\\\\\\\\\\\\\", \\\\\\\\\\\\\"arguments\\\\\\\\\\\\\": {\\\\\\\\\\\\\"columnHeadersMode\\\\\\\\\\\\\": 1, \\\\\\\\\\\\\"fileEncoding\\\\\\\\\\\\\": 0, \\\\\\\\\\\\\"handleQuotedLineBreaks\\\\\\\\\\\\\": false, \\\\\\\\\\\\\"preview\\\\\\\\\\\\\": false, \\\\\\\\\\\\\"separator\\\\\\\\\\\\\": \\\\\\\\\\\\\",\\\\\\\\\\\\\", \\\\\\\\\\\\\"skipRows\\\\\\\\\\\\\": 0, \\\\\\\\\\\\\"skipRowsMode\\\\\\\\\\\\\": 0}, \\\\\\\\\\\\\"localData\\\\\\\\\\\\\": {}, \\\\\\\\\\\\\"isEnabled\\\\\\\\\\\\\": true, \\\\\\\\\\\\\"name\\\\\\\\\\\\\": null, \\\\\\\\\\\\\"annotation\\\\\\\\\\\\\": null}, {\\\\\\\\\\\\\"id\\\\\\\\\\\\\": \\\\\\\\\\\\\"6094e0b2-6f0c-41ad-afb9-09d3d38cb91d\\\\\\\\\\\\\", \\\\\\\\\\\\\"type\\\\\\\\\\\\\": \\\\\\\\\\\\\"Microsoft.DPrep.DropColumnsBlock\\\\\\\\\\\\\", \\\\\\\\\\\\\"arguments\\\\\\\\\\\\\": {\\\\\\\\\\\\\"columns\\\\\\\\\\\\\": {\\\\\\\\\\\\\"type\\\\\\\\\\\\\": 0, \\\\\\\\\\\\\"details\\\\\\\\\\\\\": {\\\\\\\\\\\\\"selectedColumns\\\\\\\\\\\\\": [\\\\\\\\\\\\\"Path\\\\\\\\\\\\\"]}}}, \\\\\\\\\\\\\"localData\\\\\\\\\\\\\": {}, \\\\\\\\\\\\\"isEnabled\\\\\\\\\\\\\": true, \\\\\\\\\\\\\"name\\\\\\\\\\\\\": null, \\\\\\\\\\\\\"annotation\\\\\\\\\\\\\": null}, {\\\\\\\\\\\\\"id\\\\\\\\\\\\\": \\\\\\\\\\\\\"fcb1c90b-347d-41ff-af95-feb55bb4ac6b\\\\\\\\\\\\\", \\\\\\\\\\\\\"type\\\\\\\\\\\\\": \\\\\\\\\\\\\"Microsoft.DPrep.SetColumnTypesBlock\\\\\\\\\\\\\", \\\\\\\\\\\\\"arguments\\\\\\\\\\\\\": {\\\\\\\\\\\\\"columnConversion\\\\\\\\\\\\\": [{\\\\\\\\\\\\\"column\\\\\\\\\\\\\": {\\\\\\\\\\\\\"type\\\\\\\\\\\\\": 2, \\\\\\\\\\\\\"details\\\\\\\\\\\\\": {\\\\\\\\\\\\\"selectedColumn\\\\\\\\\\\\\": \\\\\\\\\\\\\"Path\\\\\\\\\\\\\"}}, \\\\\\\\\\\\\"typeProperty\\\\\\\\\\\\\": 0}, {\\\\\\\\\\\\\"column\\\\\\\\\\\\\": {\\\\\\\\\\\\\"type\\\\\\\\\\\\\": 2, \\\\\\\\\\\\\"details\\\\\\\\\\\\\": {\\\\\\\\\\\\\"selectedColumn\\\\\\\\\\\\\": \\\\\\\\\\\\\"Pregnancies\\\\\\\\\\\\\"}}, \\\\\\\\\\\\\"typeProperty\\\\\\\\\\\\\": 2}, {\\\\\\\\\\\\\"column\\\\\\\\\\\\\": {\\\\\\\\\\\\\"type\\\\\\\\\\\\\": 2, \\\\\\\\\\\\\"details\\\\\\\\\\\\\": {\\\\\\\\\\\\\"selectedColumn\\\\\\\\\\\\\": \\\\\\\\\\\\\"Glucose\\\\\\\\\\\\\"}}, \\\\\\\\\\\\\"typeProperty\\\\\\\\\\\\\": 2}, {\\\\\\\\\\\\\"column\\\\\\\\\\\\\": {\\\\\\\\\\\\\"type\\\\\\\\\\\\\": 2, \\\\\\\\\\\\\"details\\\\\\\\\\\\\": {\\\\\\\\\\\\\"selectedColumn\\\\\\\\\\\\\": \\\\\\\\\\\\\"BloodPressure\\\\\\\\\\\\\"}}, \\\\\\\\\\\\\"typeProperty\\\\\\\\\\\\\": 2}, {\\\\\\\\\\\\\"column\\\\\\\\\\\\\": {\\\\\\\\\\\\\"type\\\\\\\\\\\\\": 2, \\\\\\\\\\\\\"details\\\\\\\\\\\\\": {\\\\\\\\\\\\\"selectedColumn\\\\\\\\\\\\\": \\\\\\\\\\\\\"SkinThickness\\\\\\\\\\\\\"}}, \\\\\\\\\\\\\"typeProperty\\\\\\\\\\\\\": 2}, {\\\\\\\\\\\\\"column\\\\\\\\\\\\\": {\\\\\\\\\\\\\"type\\\\\\\\\\\\\": 2, \\\\\\\\\\\\\"details\\\\\\\\\\\\\": {\\\\\\\\\\\\\"selectedColumn\\\\\\\\\\\\\": \\\\\\\\\\\\\"Insulin\\\\\\\\\\\\\"}}, \\\\\\\\\\\\\"typeProperty\\\\\\\\\\\\\": 2}, {\\\\\\\\\\\\\"column\\\\\\\\\\\\\": {\\\\\\\\\\\\\"type\\\\\\\\\\\\\": 2, \\\\\\\\\\\\\"details\\\\\\\\\\\\\": {\\\\\\\\\\\\\"selectedColumn\\\\\\\\\\\\\": \\\\\\\\\\\\\"BMI\\\\\\\\\\\\\"}}, \\\\\\\\\\\\\"typeProperty\\\\\\\\\\\\\": 3}, {\\\\\\\\\\\\\"column\\\\\\\\\\\\\": {\\\\\\\\\\\\\"type\\\\\\\\\\\\\": 2, \\\\\\\\\\\\\"details\\\\\\\\\\\\\": {\\\\\\\\\\\\\"selectedColumn\\\\\\\\\\\\\": \\\\\\\\\\\\\"DiabetesPedigreeFunction\\\\\\\\\\\\\"}}, \\\\\\\\\\\\\"typeProperty\\\\\\\\\\\\\": 3}, {\\\\\\\\\\\\\"column\\\\\\\\\\\\\": {\\\\\\\\\\\\\"type\\\\\\\\\\\\\": 2, \\\\\\\\\\\\\"details\\\\\\\\\\\\\": {\\\\\\\\\\\\\"selectedColumn\\\\\\\\\\\\\": \\\\\\\\\\\\\"Age\\\\\\\\\\\\\"}}, \\\\\\\\\\\\\"typeProperty\\\\\\\\\\\\\": 2}, {\\\\\\\\\\\\\"column\\\\\\\\\\\\\": {\\\\\\\\\\\\\"type\\\\\\\\\\\\\": 2, \\\\\\\\\\\\\"details\\\\\\\\\\\\\": {\\\\\\\\\\\\\"selectedColumn\\\\\\\\\\\\\": \\\\\\\\\\\\\"Outcome\\\\\\\\\\\\\"}}, \\\\\\\\\\\\\"typeProperty\\\\\\\\\\\\\": 2}]}, \\\\\\\\\\\\\"localData\\\\\\\\\\\\\": {}, \\\\\\\\\\\\\"isEnabled\\\\\\\\\\\\\": true, \\\\\\\\\\\\\"name\\\\\\\\\\\\\": null, \\\\\\\\\\\\\"annotation\\\\\\\\\\\\\": null}], \\\\\\\\\\\\\"inspectors\\\\\\\\\\\\\": [], \\\\\\\\\\\\\"meta\\\\\\\\\\\\\": {\\\\\\\\\\\\\"savedDatasetId\\\\\\\\\\\\\": \\\\\\\\\\\\\"e37f6238-ea14-4fa5-a799-677029899f6b\\\\\\\\\\\\\", \\\\\\\\\\\\\"datasetType\\\\\\\\\\\\\": \\\\\\\\\\\\\"tabular\\\\\\\\\\\\\", \\\\\\\\\\\\\"subscriptionId\\\\\\\\\\\\\": \\\\\\\\\\\\\"61c5c3f0-6dc7-4ed9-a7f3-c704b20e3b30\\\\\\\\\\\\\", \\\\\\\\\\\\\"workspaceId\\\\\\\\\\\\\": \\\\\\\\\\\\\"63be8e90-d3e5-4b91-a303-fa0ab98f7cac\\\\\\\\\\\\\", \\\\\\\\\\\\\"workspaceLocation\\\\\\\\\\\\\": \\\\\\\\\\\\\"southcentralus\\\\\\\\\\\\\"}}\\\\\", \\\\\"activities\\\\\": 0}',\n  'EnableSubsampling': None,\n  'runTemplate': 'AutoML',\n  'azureml.runsource': 'automl',\n  'display_task_type': 'classification',\n  'dependencies_versions': '{\"azureml-widgets\": \"1.20.0\", \"azureml-train\": \"1.20.0\", \"azureml-train-restclients-hyperdrive\": \"1.20.0\", \"azureml-train-core\": \"1.20.0\", \"azureml-train-automl\": \"1.20.0\", \"azureml-train-automl-runtime\": \"1.20.0\", \"azureml-train-automl-client\": \"1.20.0\", \"azureml-tensorboard\": \"1.20.0\", \"azureml-telemetry\": \"1.20.0\", \"azureml-sdk\": \"1.20.0\", \"azureml-samples\": \"0+unknown\", \"azureml-pipeline\": \"1.20.0\", \"azureml-pipeline-steps\": \"1.20.0\", \"azureml-pipeline-core\": \"1.20.0\", \"azureml-opendatasets\": \"1.20.0\", \"azureml-model-management-sdk\": \"1.0.1b6.post1\", \"azureml-mlflow\": \"1.20.0.post1\", \"azureml-interpret\": \"1.20.0\", \"azureml-explain-model\": \"1.20.0\", \"azureml-defaults\": \"1.20.0\", \"azureml-dataset-runtime\": \"1.20.0\", \"azureml-dataprep\": \"2.7.3\", \"azureml-dataprep-rslex\": \"1.5.0\", \"azureml-dataprep-native\": \"27.0.0\", \"azureml-datadrift\": \"1.20.0\", \"azureml-core\": \"1.20.0\", \"azureml-contrib-services\": \"1.20.0\", \"azureml-contrib-server\": \"1.20.0\", \"azureml-contrib-reinforcementlearning\": \"1.20.0\", \"azureml-contrib-pipeline-steps\": \"1.20.0\", \"azureml-contrib-notebook\": \"1.20.0\", \"azureml-contrib-interpret\": \"1.20.0\", \"azureml-contrib-gbdt\": \"1.20.0\", \"azureml-contrib-fairness\": \"1.20.0\", \"azureml-contrib-dataset\": \"1.20.0\", \"azureml-cli-common\": \"1.20.0\", \"azureml-automl-runtime\": \"1.20.0\", \"azureml-automl-core\": \"1.20.0\", \"azureml-accel-models\": \"1.20.0\"}',\n  '_aml_system_scenario_identification': 'Remote.Parent',\n  'ClientType': 'SDK',\n  'environment_cpu_name': 'AzureML-AutoML',\n  'environment_cpu_label': 'prod',\n  'environment_gpu_name': 'AzureML-AutoML-GPU',\n  'environment_gpu_label': 'prod',\n  'root_attribution': 'automl',\n  'attribution': 'AutoML',\n  'Orchestrator': 'AutoML',\n  'CancelUri': 'https://southcentralus.experiments.azureml.net/jasmine/v1.0/subscriptions/61c5c3f0-6dc7-4ed9-a7f3-c704b20e3b30/resourceGroups/aml-quickstarts-138275/providers/Microsoft.MachineLearningServices/workspaces/quick-starts-ws-138275/experimentids/808088a5-18b9-4a31-a31a-061d5c19bc3b/cancel/AutoML_e3ebd03c-8a99-4d39-9542-db206620c097',\n  'ClientSdkVersion': '1.21.0',\n  'snapshotId': '00000000-0000-0000-0000-000000000000',\n  'SetupRunId': 'AutoML_e3ebd03c-8a99-4d39-9542-db206620c097_setup',\n  'SetupRunContainerId': 'dcid.AutoML_e3ebd03c-8a99-4d39-9542-db206620c097_setup',\n  'FeaturizationRunJsonPath': 'featurizer_container.json',\n  'FeaturizationRunId': 'AutoML_e3ebd03c-8a99-4d39-9542-db206620c097_featurize',\n  'ProblemInfoJsonString': '{\"dataset_num_categorical\": 0, \"is_sparse\": true, \"subsampling\": false, \"dataset_classes\": 2, \"dataset_features\": 24, \"dataset_samples\": 768, \"single_frequency_class_detected\": false}',\n  'ModelExplainRunId': 'AutoML_e3ebd03c-8a99-4d39-9542-db206620c097_ModelExplain'},\n 'inputDatasets': [{'dataset': {'id': 'e37f6238-ea14-4fa5-a799-677029899f6b'}, 'consumptionDetails': {'type': 'RunInput', 'inputName': 'training_data', 'mechanism': 'Direct'}}],\n 'outputDatasets': [],\n 'logFiles': {},\n 'submittedBy': 'ODL_User 138275'}"
          },
          "metadata": {}
        }
      ],
      "execution_count": 16,
      "metadata": {
        "collapsed": true,
        "jupyter": {
          "source_hidden": false,
          "outputs_hidden": false
        },
        "nteract": {
          "transient": {
            "deleting": false
          }
        },
        "gather": {
          "logged": 1612897600846
        }
      }
    },
    {
      "cell_type": "markdown",
      "source": [
        "## Best Model\n",
        "\n",
        "TODO: In the cell below, get the best model from the automl experiments and display all the properties of the model.\n",
        "\n"
      ],
      "metadata": {}
    },
    {
      "cell_type": "code",
      "source": [
        "import joblib\r\n",
        "# Get your best run and save the model from that run.\r\n",
        "best_run, fitted_model = remote_run.get_output()\r\n",
        "\r\n",
        "print(best_run)\r\n",
        "print(fitted_model)"
      ],
      "outputs": [
        {
          "output_type": "stream",
          "name": "stderr",
          "text": [
            "WARNING:root:The version of the SDK does not match the version the model was trained on.\n",
            "WARNING:root:The consistency in the result may not be guaranteed.\n",
            "WARNING:root:Package:azureml-automl-core, training version:1.21.0, current version:1.20.0\n",
            "Package:azureml-automl-runtime, training version:1.21.0, current version:1.20.0\n",
            "Package:azureml-core, training version:1.21.0.post1, current version:1.20.0\n",
            "Package:azureml-dataprep, training version:2.8.2, current version:2.7.3\n",
            "Package:azureml-dataprep-native, training version:28.0.0, current version:27.0.0\n",
            "Package:azureml-dataprep-rslex, training version:1.6.0, current version:1.5.0\n",
            "Package:azureml-dataset-runtime, training version:1.21.0, current version:1.20.0\n",
            "Package:azureml-defaults, training version:1.21.0, current version:1.20.0\n",
            "Package:azureml-interpret, training version:1.21.0, current version:1.20.0\n",
            "Package:azureml-pipeline-core, training version:1.21.0, current version:1.20.0\n",
            "Package:azureml-telemetry, training version:1.21.0, current version:1.20.0\n",
            "Package:azureml-train-automl-client, training version:1.21.0, current version:1.20.0\n",
            "Package:azureml-train-automl-runtime, training version:1.21.0, current version:1.20.0\n",
            "WARNING:root:Please ensure the version of your local conda dependencies match the version on which your model was trained in order to properly retrieve your model.\n"
          ]
        },
        {
          "output_type": "stream",
          "name": "stdout",
          "text": [
            "Run(Experiment: diabetes,\n",
            "Id: AutoML_e3ebd03c-8a99-4d39-9542-db206620c097_34,\n",
            "Type: azureml.scriptrun,\n",
            "Status: Completed)\n",
            "Pipeline(memory=None,\n",
            "         steps=[('datatransformer',\n",
            "                 DataTransformer(enable_dnn=None, enable_feature_sweeping=None,\n",
            "                                 feature_sweeping_config=None,\n",
            "                                 feature_sweeping_timeout=None,\n",
            "                                 featurization_config=None, force_text_dnn=None,\n",
            "                                 is_cross_validation=None,\n",
            "                                 is_onnx_compatible=None, logger=None,\n",
            "                                 observer=None, task=None, working_dir=None)),\n",
            "                ('prefittedsoftvotingclassifier',...\n",
            "                                                                                                  random_state=None,\n",
            "                                                                                                  verbose=0,\n",
            "                                                                                                  warm_start=False))],\n",
            "                                                                     verbose=False))],\n",
            "                                               flatten_transform=None,\n",
            "                                               weights=[0.13333333333333333,\n",
            "                                                        0.06666666666666667,\n",
            "                                                        0.06666666666666667,\n",
            "                                                        0.06666666666666667,\n",
            "                                                        0.06666666666666667,\n",
            "                                                        0.06666666666666667,\n",
            "                                                        0.06666666666666667,\n",
            "                                                        0.06666666666666667,\n",
            "                                                        0.06666666666666667,\n",
            "                                                        0.13333333333333333,\n",
            "                                                        0.13333333333333333,\n",
            "                                                        0.06666666666666667]))],\n",
            "         verbose=False)\n"
          ]
        }
      ],
      "execution_count": 17,
      "metadata": {
        "gather": {
          "logged": 1612897813823
        },
        "jupyter": {
          "outputs_hidden": false,
          "source_hidden": false
        },
        "nteract": {
          "transient": {
            "deleting": false
          }
        }
      }
    },
    {
      "cell_type": "code",
      "source": [
        "from pprint import pprint\r\n",
        "\r\n",
        "def print_model(model, prefix=\"\"):\r\n",
        "    for step in model.steps:\r\n",
        "        print(prefix + step[0])\r\n",
        "        if hasattr(step[1], 'estimators') and hasattr(step[1], 'weights'):\r\n",
        "            pprint({'estimators': list(\r\n",
        "                e[0] for e in step[1].estimators), 'weights': step[1].weights})\r\n",
        "            print()\r\n",
        "            for estimator in step[1].estimators:\r\n",
        "                print_model(estimator[1], estimator[0] + ' - ')\r\n",
        "        else:\r\n",
        "            pprint(step[1].get_params())\r\n",
        "            print()\r\n",
        "\r\n",
        "print_model(fitted_model)"
      ],
      "outputs": [
        {
          "output_type": "stream",
          "name": "stdout",
          "text": [
            "datatransformer\n",
            "{'enable_dnn': None,\n",
            " 'enable_feature_sweeping': None,\n",
            " 'feature_sweeping_config': None,\n",
            " 'feature_sweeping_timeout': None,\n",
            " 'featurization_config': None,\n",
            " 'force_text_dnn': None,\n",
            " 'is_cross_validation': None,\n",
            " 'is_onnx_compatible': None,\n",
            " 'logger': None,\n",
            " 'observer': None,\n",
            " 'task': None,\n",
            " 'working_dir': None}\n",
            "\n",
            "prefittedsoftvotingclassifier\n",
            "{'estimators': ['1',\n",
            "                '30',\n",
            "                '21',\n",
            "                '27',\n",
            "                '3',\n",
            "                '20',\n",
            "                '31',\n",
            "                '16',\n",
            "                '8',\n",
            "                '11',\n",
            "                '12',\n",
            "                '9'],\n",
            " 'weights': [0.13333333333333333,\n",
            "             0.06666666666666667,\n",
            "             0.06666666666666667,\n",
            "             0.06666666666666667,\n",
            "             0.06666666666666667,\n",
            "             0.06666666666666667,\n",
            "             0.06666666666666667,\n",
            "             0.06666666666666667,\n",
            "             0.06666666666666667,\n",
            "             0.13333333333333333,\n",
            "             0.13333333333333333,\n",
            "             0.06666666666666667]}\n",
            "\n",
            "1 - maxabsscaler\n",
            "{'copy': True}\n",
            "\n",
            "1 - xgboostclassifier\n",
            "{'base_score': 0.5,\n",
            " 'booster': 'gbtree',\n",
            " 'colsample_bylevel': 1,\n",
            " 'colsample_bynode': 1,\n",
            " 'colsample_bytree': 1,\n",
            " 'gamma': 0,\n",
            " 'learning_rate': 0.1,\n",
            " 'max_delta_step': 0,\n",
            " 'max_depth': 3,\n",
            " 'min_child_weight': 1,\n",
            " 'missing': nan,\n",
            " 'n_estimators': 100,\n",
            " 'n_jobs': 1,\n",
            " 'nthread': None,\n",
            " 'objective': 'binary:logistic',\n",
            " 'random_state': 0,\n",
            " 'reg_alpha': 0,\n",
            " 'reg_lambda': 1,\n",
            " 'scale_pos_weight': 1,\n",
            " 'seed': None,\n",
            " 'silent': None,\n",
            " 'subsample': 1,\n",
            " 'tree_method': 'auto',\n",
            " 'verbose': -10,\n",
            " 'verbosity': 0}\n",
            "\n",
            "30 - standardscalerwrapper\n",
            "{'class_name': 'StandardScaler',\n",
            " 'copy': True,\n",
            " 'module_name': 'sklearn.preprocessing._data',\n",
            " 'with_mean': False,\n",
            " 'with_std': False}\n",
            "\n",
            "30 - xgboostclassifier\n",
            "{'base_score': 0.5,\n",
            " 'booster': 'gbtree',\n",
            " 'colsample_bylevel': 1,\n",
            " 'colsample_bynode': 1,\n",
            " 'colsample_bytree': 0.9,\n",
            " 'eta': 0.001,\n",
            " 'gamma': 5,\n",
            " 'learning_rate': 0.1,\n",
            " 'max_delta_step': 0,\n",
            " 'max_depth': 6,\n",
            " 'max_leaves': 15,\n",
            " 'min_child_weight': 1,\n",
            " 'missing': nan,\n",
            " 'n_estimators': 100,\n",
            " 'n_jobs': 1,\n",
            " 'nthread': None,\n",
            " 'objective': 'reg:logistic',\n",
            " 'random_state': 0,\n",
            " 'reg_alpha': 1.875,\n",
            " 'reg_lambda': 1.9791666666666667,\n",
            " 'scale_pos_weight': 1,\n",
            " 'seed': None,\n",
            " 'silent': None,\n",
            " 'subsample': 0.6,\n",
            " 'tree_method': 'auto',\n",
            " 'verbose': -10,\n",
            " 'verbosity': 0}\n",
            "\n",
            "21 - maxabsscaler\n",
            "{'copy': True}\n",
            "\n",
            "21 - lightgbmclassifier\n",
            "{'boosting_type': 'gbdt',\n",
            " 'class_weight': None,\n",
            " 'colsample_bytree': 0.8911111111111111,\n",
            " 'importance_type': 'split',\n",
            " 'learning_rate': 0.05263631578947369,\n",
            " 'max_bin': 110,\n",
            " 'max_depth': 4,\n",
            " 'min_child_samples': 8,\n",
            " 'min_child_weight': 8,\n",
            " 'min_split_gain': 0.5263157894736842,\n",
            " 'n_estimators': 200,\n",
            " 'n_jobs': 1,\n",
            " 'num_leaves': 215,\n",
            " 'objective': None,\n",
            " 'random_state': None,\n",
            " 'reg_alpha': 0,\n",
            " 'reg_lambda': 0.2631578947368421,\n",
            " 'silent': True,\n",
            " 'subsample': 0.3468421052631579,\n",
            " 'subsample_for_bin': 200000,\n",
            " 'subsample_freq': 0,\n",
            " 'verbose': -10}\n",
            "\n",
            "27 - maxabsscaler\n",
            "{'copy': True}\n",
            "\n",
            "27 - extratreesclassifier\n",
            "{'bootstrap': True,\n",
            " 'ccp_alpha': 0.0,\n",
            " 'class_weight': None,\n",
            " 'criterion': 'entropy',\n",
            " 'max_depth': None,\n",
            " 'max_features': None,\n",
            " 'max_leaf_nodes': None,\n",
            " 'max_samples': None,\n",
            " 'min_impurity_decrease': 0.0,\n",
            " 'min_impurity_split': None,\n",
            " 'min_samples_leaf': 0.01,\n",
            " 'min_samples_split': 0.01,\n",
            " 'min_weight_fraction_leaf': 0.0,\n",
            " 'n_estimators': 10,\n",
            " 'n_jobs': 1,\n",
            " 'oob_score': True,\n",
            " 'random_state': None,\n",
            " 'verbose': 0,\n",
            " 'warm_start': False}\n",
            "\n",
            "3 - maxabsscaler\n",
            "{'copy': True}\n",
            "\n",
            "3 - randomforestclassifier\n",
            "{'bootstrap': True,\n",
            " 'ccp_alpha': 0.0,\n",
            " 'class_weight': 'balanced',\n",
            " 'criterion': 'gini',\n",
            " 'max_depth': None,\n",
            " 'max_features': 'log2',\n",
            " 'max_leaf_nodes': None,\n",
            " 'max_samples': None,\n",
            " 'min_impurity_decrease': 0.0,\n",
            " 'min_impurity_split': None,\n",
            " 'min_samples_leaf': 0.01,\n",
            " 'min_samples_split': 0.01,\n",
            " 'min_weight_fraction_leaf': 0.0,\n",
            " 'n_estimators': 25,\n",
            " 'n_jobs': 1,\n",
            " 'oob_score': True,\n",
            " 'random_state': None,\n",
            " 'verbose': 0,\n",
            " 'warm_start': False}\n",
            "\n",
            "20 - standardscalerwrapper\n",
            "{'class_name': 'StandardScaler',\n",
            " 'copy': True,\n",
            " 'module_name': 'sklearn.preprocessing._data',\n",
            " 'with_mean': False,\n",
            " 'with_std': False}\n",
            "\n",
            "20 - xgboostclassifier\n",
            "{'base_score': 0.5,\n",
            " 'booster': 'gbtree',\n",
            " 'colsample_bylevel': 1,\n",
            " 'colsample_bynode': 1,\n",
            " 'colsample_bytree': 1,\n",
            " 'eta': 0.001,\n",
            " 'gamma': 0.1,\n",
            " 'grow_policy': 'lossguide',\n",
            " 'learning_rate': 0.1,\n",
            " 'max_bin': 1023,\n",
            " 'max_delta_step': 0,\n",
            " 'max_depth': 0,\n",
            " 'max_leaves': 63,\n",
            " 'min_child_weight': 1,\n",
            " 'missing': nan,\n",
            " 'n_estimators': 25,\n",
            " 'n_jobs': 1,\n",
            " 'nthread': None,\n",
            " 'objective': 'reg:logistic',\n",
            " 'random_state': 0,\n",
            " 'reg_alpha': 0,\n",
            " 'reg_lambda': 1.7708333333333335,\n",
            " 'scale_pos_weight': 1,\n",
            " 'seed': None,\n",
            " 'silent': None,\n",
            " 'subsample': 0.9,\n",
            " 'tree_method': 'hist',\n",
            " 'verbose': -10,\n",
            " 'verbosity': 0}\n",
            "\n",
            "31 - maxabsscaler\n",
            "{'copy': True}\n",
            "\n",
            "31 - lightgbmclassifier\n",
            "{'boosting_type': 'gbdt',\n",
            " 'class_weight': None,\n",
            " 'colsample_bytree': 0.3966666666666666,\n",
            " 'importance_type': 'split',\n",
            " 'learning_rate': 0.06842421052631578,\n",
            " 'max_bin': 50,\n",
            " 'max_depth': 7,\n",
            " 'min_child_samples': 1,\n",
            " 'min_child_weight': 0,\n",
            " 'min_split_gain': 0.10526315789473684,\n",
            " 'n_estimators': 10,\n",
            " 'n_jobs': 1,\n",
            " 'num_leaves': 143,\n",
            " 'objective': None,\n",
            " 'random_state': None,\n",
            " 'reg_alpha': 0.5789473684210527,\n",
            " 'reg_lambda': 0.2631578947368421,\n",
            " 'silent': True,\n",
            " 'subsample': 0.5942105263157895,\n",
            " 'subsample_for_bin': 200000,\n",
            " 'subsample_freq': 0,\n",
            " 'verbose': -10}\n",
            "\n",
            "16 - maxabsscaler\n",
            "{'copy': True}\n",
            "\n",
            "16 - extratreesclassifier\n",
            "{'bootstrap': True,\n",
            " 'ccp_alpha': 0.0,\n",
            " 'class_weight': 'balanced',\n",
            " 'criterion': 'gini',\n",
            " 'max_depth': None,\n",
            " 'max_features': 0.4,\n",
            " 'max_leaf_nodes': None,\n",
            " 'max_samples': None,\n",
            " 'min_impurity_decrease': 0.0,\n",
            " 'min_impurity_split': None,\n",
            " 'min_samples_leaf': 0.01,\n",
            " 'min_samples_split': 0.15052631578947367,\n",
            " 'min_weight_fraction_leaf': 0.0,\n",
            " 'n_estimators': 10,\n",
            " 'n_jobs': 1,\n",
            " 'oob_score': True,\n",
            " 'random_state': None,\n",
            " 'verbose': 0,\n",
            " 'warm_start': False}\n",
            "\n",
            "8 - maxabsscaler\n",
            "{'copy': True}\n",
            "\n",
            "8 - randomforestclassifier\n",
            "{'bootstrap': True,\n",
            " 'ccp_alpha': 0.0,\n",
            " 'class_weight': None,\n",
            " 'criterion': 'gini',\n",
            " 'max_depth': None,\n",
            " 'max_features': 0.05,\n",
            " 'max_leaf_nodes': None,\n",
            " 'max_samples': None,\n",
            " 'min_impurity_decrease': 0.0,\n",
            " 'min_impurity_split': None,\n",
            " 'min_samples_leaf': 0.01,\n",
            " 'min_samples_split': 0.10368421052631578,\n",
            " 'min_weight_fraction_leaf': 0.0,\n",
            " 'n_estimators': 25,\n",
            " 'n_jobs': 1,\n",
            " 'oob_score': False,\n",
            " 'random_state': None,\n",
            " 'verbose': 0,\n",
            " 'warm_start': False}\n",
            "\n",
            "11 - maxabsscaler\n",
            "{'copy': True}\n",
            "\n",
            "11 - randomforestclassifier\n",
            "{'bootstrap': True,\n",
            " 'ccp_alpha': 0.0,\n",
            " 'class_weight': 'balanced',\n",
            " 'criterion': 'gini',\n",
            " 'max_depth': None,\n",
            " 'max_features': 0.2,\n",
            " 'max_leaf_nodes': None,\n",
            " 'max_samples': None,\n",
            " 'min_impurity_decrease': 0.0,\n",
            " 'min_impurity_split': None,\n",
            " 'min_samples_leaf': 0.06157894736842105,\n",
            " 'min_samples_split': 0.10368421052631578,\n",
            " 'min_weight_fraction_leaf': 0.0,\n",
            " 'n_estimators': 10,\n",
            " 'n_jobs': 1,\n",
            " 'oob_score': True,\n",
            " 'random_state': None,\n",
            " 'verbose': 0,\n",
            " 'warm_start': False}\n",
            "\n",
            "12 - maxabsscaler\n",
            "{'copy': True}\n",
            "\n",
            "12 - randomforestclassifier\n",
            "{'bootstrap': False,\n",
            " 'ccp_alpha': 0.0,\n",
            " 'class_weight': 'balanced',\n",
            " 'criterion': 'gini',\n",
            " 'max_depth': None,\n",
            " 'max_features': 0.05,\n",
            " 'max_leaf_nodes': None,\n",
            " 'max_samples': None,\n",
            " 'min_impurity_decrease': 0.0,\n",
            " 'min_impurity_split': None,\n",
            " 'min_samples_leaf': 0.06157894736842105,\n",
            " 'min_samples_split': 0.056842105263157895,\n",
            " 'min_weight_fraction_leaf': 0.0,\n",
            " 'n_estimators': 50,\n",
            " 'n_jobs': 1,\n",
            " 'oob_score': False,\n",
            " 'random_state': None,\n",
            " 'verbose': 0,\n",
            " 'warm_start': False}\n",
            "\n",
            "9 - maxabsscaler\n",
            "{'copy': True}\n",
            "\n",
            "9 - extratreesclassifier\n",
            "{'bootstrap': True,\n",
            " 'ccp_alpha': 0.0,\n",
            " 'class_weight': 'balanced',\n",
            " 'criterion': 'gini',\n",
            " 'max_depth': None,\n",
            " 'max_features': 0.1,\n",
            " 'max_leaf_nodes': None,\n",
            " 'max_samples': None,\n",
            " 'min_impurity_decrease': 0.0,\n",
            " 'min_impurity_split': None,\n",
            " 'min_samples_leaf': 0.01,\n",
            " 'min_samples_split': 0.15052631578947367,\n",
            " 'min_weight_fraction_leaf': 0.0,\n",
            " 'n_estimators': 50,\n",
            " 'n_jobs': 1,\n",
            " 'oob_score': False,\n",
            " 'random_state': None,\n",
            " 'verbose': 0,\n",
            " 'warm_start': False}\n",
            "\n"
          ]
        }
      ],
      "execution_count": 18,
      "metadata": {
        "collapsed": true,
        "jupyter": {
          "source_hidden": false,
          "outputs_hidden": false
        },
        "nteract": {
          "transient": {
            "deleting": false
          }
        },
        "gather": {
          "logged": 1612897838303
        }
      }
    },
    {
      "cell_type": "code",
      "source": [
        "#TODO: Save the best model\r\n",
        "os.makedirs('outputs', exist_ok=True)\r\n",
        "\r\n",
        "joblib.dump(fitted_model, 'outputs/automlmodel.joblib')\r\n"
      ],
      "outputs": [
        {
          "output_type": "execute_result",
          "execution_count": 19,
          "data": {
            "text/plain": "['outputs/automlmodel.joblib']"
          },
          "metadata": {}
        }
      ],
      "execution_count": 19,
      "metadata": {
        "gather": {
          "logged": 1612897867321
        },
        "jupyter": {
          "outputs_hidden": false,
          "source_hidden": false
        },
        "nteract": {
          "transient": {
            "deleting": false
          }
        }
      }
    },
    {
      "cell_type": "markdown",
      "source": [
        "## Model Deployment\n",
        "\n",
        "Remember you have to deploy only one of the two models you trained.. Perform the steps in the rest of this notebook only if you wish to deploy this model.\n",
        "\n",
        "TODO: In the cell below, register the model, create an inference config and deploy the model as a web service."
      ],
      "metadata": {}
    },
    {
      "cell_type": "code",
      "source": [
        "model_name = best_run.properties['model_name']\r\n",
        "description = 'AutoML Model'\r\n",
        "tags = None\r\n",
        "model = remote_run.register_model(model_name = model_name, description = description, tags = tags)"
      ],
      "outputs": [],
      "execution_count": null,
      "metadata": {
        "gather": {
          "logged": 1598431435189
        },
        "jupyter": {
          "outputs_hidden": false,
          "source_hidden": false
        },
        "nteract": {
          "transient": {
            "deleting": false
          }
        }
      }
    },
    {
      "cell_type": "markdown",
      "source": [
        "TODO: In the cell below, send a request to the web service you deployed to test it."
      ],
      "metadata": {
        "collapsed": true,
        "gather": {
          "logged": 1598431657736
        },
        "jupyter": {
          "outputs_hidden": false,
          "source_hidden": false
        },
        "nteract": {
          "transient": {
            "deleting": false
          }
        }
      }
    },
    {
      "cell_type": "code",
      "source": [],
      "outputs": [],
      "execution_count": null,
      "metadata": {
        "gather": {
          "logged": 1598432707604
        },
        "jupyter": {
          "outputs_hidden": false,
          "source_hidden": false
        },
        "nteract": {
          "transient": {
            "deleting": false
          }
        }
      }
    },
    {
      "cell_type": "markdown",
      "source": [
        "TODO: In the cell below, print the logs of the web service and delete the service"
      ],
      "metadata": {
        "collapsed": true,
        "gather": {
          "logged": 1598432765711
        },
        "jupyter": {
          "outputs_hidden": false,
          "source_hidden": false
        },
        "nteract": {
          "transient": {
            "deleting": false
          }
        }
      }
    },
    {
      "cell_type": "code",
      "source": [],
      "outputs": [],
      "execution_count": null,
      "metadata": {
        "jupyter": {
          "outputs_hidden": false,
          "source_hidden": false
        },
        "nteract": {
          "transient": {
            "deleting": false
          }
        }
      }
    }
  ],
  "metadata": {
    "kernel_info": {
      "name": "python3-azureml"
    },
    "kernelspec": {
      "name": "python3-azureml",
      "language": "python",
      "display_name": "Python 3.6 - AzureML"
    },
    "language_info": {
      "name": "python",
      "version": "3.6.9",
      "mimetype": "text/x-python",
      "codemirror_mode": {
        "name": "ipython",
        "version": 3
      },
      "pygments_lexer": "ipython3",
      "nbconvert_exporter": "python",
      "file_extension": ".py"
    },
    "nteract": {
      "version": "nteract-front-end@1.0.0"
    }
  },
  "nbformat": 4,
  "nbformat_minor": 2
}
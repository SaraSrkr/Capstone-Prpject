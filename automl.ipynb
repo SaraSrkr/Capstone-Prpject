{
  "cells": [
    {
      "cell_type": "markdown",
      "source": [
        "# Automated ML\n",
        "\n",
        "TODO: Import Dependencies. In the cell below, import all the dependencies that you will need to complete the project."
      ],
      "metadata": {}
    },
    {
      "cell_type": "code",
      "source": [
        "import logging\r\n",
        "import os\r\n",
        "import csv\r\n",
        "\r\n",
        "from matplotlib import pyplot as plt\r\n",
        "import numpy as np\r\n",
        "import pandas as pd\r\n",
        "from sklearn import datasets\r\n",
        "import pkg_resources\r\n",
        "\r\n",
        "import azureml.core\r\n",
        "from azureml.core.experiment import Experiment\r\n",
        "from azureml.core.workspace import Workspace\r\n",
        "from azureml.train.automl import AutoMLConfig\r\n",
        "from azureml.core.dataset import Dataset\r\n",
        "\r\n",
        "from azureml.pipeline.steps import AutoMLStep\r\n",
        "\r\n",
        "\r\n",
        "# Check core SDK version number\r\n",
        "print(\"SDK version:\", azureml.core.VERSION)"
      ],
      "outputs": [
        {
          "output_type": "stream",
          "name": "stdout",
          "text": [
            "SDK version: 1.20.0\n"
          ]
        }
      ],
      "execution_count": 1,
      "metadata": {
        "gather": {
          "logged": 1612761558913
        },
        "jupyter": {
          "outputs_hidden": false,
          "source_hidden": false
        },
        "nteract": {
          "transient": {
            "deleting": false
          }
        }
      }
    },
    {
      "cell_type": "markdown",
      "source": [
        "## Dataset\n",
        "\n",
        "### Overview\n",
        "TODO: In this markdown cell, give an overview of the dataset you are using. Also mention the task you will be performing.\n",
        "\n",
        "\n",
        "TODO: Get data. In the cell below, write code to access the data you will be using in this project. Remember that the dataset needs to be external."
      ],
      "metadata": {}
    },
    {
      "cell_type": "code",
      "source": [
        "ws = Workspace.from_config()\n",
        "print(ws.name, ws.resource_group, ws.location, ws.subscription_id, sep = '\\n')\n",
        "# choose a name for experiment\n",
        "experiment_name = 'diabetes'\n",
        "\n",
        "project_folder = './outoml-project'\n",
        "\n",
        "experiment = Experiment(ws, experiment_name)\n",
        "experiment"
      ],
      "outputs": [
        {
          "output_type": "stream",
          "name": "stdout",
          "text": [
            "quick-starts-ws-138079\n",
            "aml-quickstarts-138079\n",
            "southcentralus\n",
            "d4ad7261-832d-46b2-b093-22156001df5b\n"
          ]
        },
        {
          "output_type": "execute_result",
          "execution_count": 2,
          "data": {
            "text/plain": "Experiment(Name: diabetes,\nWorkspace: quick-starts-ws-138079)",
            "text/html": "<table style=\"width:100%\"><tr><th>Name</th><th>Workspace</th><th>Report Page</th><th>Docs Page</th></tr><tr><td>diabetes</td><td>quick-starts-ws-138079</td><td><a href=\"https://ml.azure.com/experiments/diabetes?wsid=/subscriptions/d4ad7261-832d-46b2-b093-22156001df5b/resourcegroups/aml-quickstarts-138079/workspaces/quick-starts-ws-138079\" target=\"_blank\" rel=\"noopener\">Link to Azure Machine Learning studio</a></td><td><a href=\"https://docs.microsoft.com/en-us/python/api/azureml-core/azureml.core.experiment.Experiment?view=azure-ml-py\" target=\"_blank\" rel=\"noopener\">Link to Documentation</a></td></tr></table>"
          },
          "metadata": {}
        }
      ],
      "execution_count": 2,
      "metadata": {
        "gather": {
          "logged": 1612761567528
        },
        "jupyter": {
          "outputs_hidden": false,
          "source_hidden": false
        },
        "nteract": {
          "transient": {
            "deleting": false
          }
        }
      }
    },
    {
      "cell_type": "code",
      "source": [
        "from azureml.core.compute import AmlCompute\r\n",
        "from azureml.core.compute import ComputeTarget\r\n",
        "from azureml.core.compute_target import ComputeTargetException\r\n",
        "\r\n",
        "# NOTE: update the cluster name to match the existing cluster\r\n",
        "# Choose a name for your CPU cluster\r\n",
        "amlcompute_cluster_name = \"capcpu\"\r\n",
        "\r\n",
        "# Verify that cluster does not exist already\r\n",
        "try:\r\n",
        "    compute_target = ComputeTarget(workspace=ws, name=amlcompute_cluster_name)\r\n",
        "    print('Found existing cluster, use it.')\r\n",
        "except ComputeTargetException:\r\n",
        "\r\n",
        "    compute_config = AmlCompute.provisioning_configuration(vm_size='STANDARD_D2_V2',# for GPU, use \"STANDARD_NC6\"\r\n",
        "                                                           #vm_priority = 'lowpriority', # optional\r\n",
        "                                                             max_nodes=4)\r\n",
        "    compute_target = ComputeTarget.create(ws, amlcompute_cluster_name, compute_config)\r\n",
        "\r\n",
        "compute_target.wait_for_completion(show_output=True, min_node_count = 1, timeout_in_minutes = 10)\r\n",
        "# For a more detailed view of current AmlCompute status, use get_status()."
      ],
      "outputs": [
        {
          "output_type": "stream",
          "name": "stdout",
          "text": [
            "Found existing cluster, use it.\n",
            "Succeeded.....................................................................................................................\n",
            "AmlCompute wait for completion finished\n",
            "\n",
            "Wait timeout has been reached\n",
            "Current provisioning state of AmlCompute is \"Succeeded\" and current node count is \"0\"\n"
          ]
        }
      ],
      "execution_count": 3,
      "metadata": {
        "collapsed": true,
        "jupyter": {
          "source_hidden": false,
          "outputs_hidden": false
        },
        "nteract": {
          "transient": {
            "deleting": false
          }
        },
        "gather": {
          "logged": 1612762175532
        }
      }
    },
    {
      "cell_type": "code",
      "source": [
        "# Try to load the dataset from the Workspace. Otherwise, create it from the file\r\n",
        "# NOTE: update the key to match the dataset name\r\n",
        "found = False\r\n",
        "key = \"diabetes\"\r\n",
        "description_text = \"diabetes prdection\"\r\n",
        "\r\n",
        "if key in ws.datasets.keys(): \r\n",
        "        found = True\r\n",
        "        dataset = ws.datasets[key]\r\n",
        "         \r\n",
        "df = dataset.to_pandas_dataframe()\r\n",
        "df.describe()\r\n"
      ],
      "outputs": [
        {
          "output_type": "execute_result",
          "execution_count": 4,
          "data": {
            "text/plain": "       Pregnancies     Glucose  BloodPressure  SkinThickness     Insulin  \\\ncount   768.000000  768.000000     768.000000     768.000000  768.000000   \nmean      3.845052  120.894531      69.105469      20.536458   79.799479   \nstd       3.369578   31.972618      19.355807      15.952218  115.244002   \nmin       0.000000    0.000000       0.000000       0.000000    0.000000   \n25%       1.000000   99.000000      62.000000       0.000000    0.000000   \n50%       3.000000  117.000000      72.000000      23.000000   30.500000   \n75%       6.000000  140.250000      80.000000      32.000000  127.250000   \nmax      17.000000  199.000000     122.000000      99.000000  846.000000   \n\n              BMI  DiabetesPedigreeFunction         Age     Outcome  \ncount  768.000000                768.000000  768.000000  768.000000  \nmean    31.992578                  0.471876   33.240885    0.348958  \nstd      7.884160                  0.331329   11.760232    0.476951  \nmin      0.000000                  0.078000   21.000000    0.000000  \n25%     27.300000                  0.243750   24.000000    0.000000  \n50%     32.000000                  0.372500   29.000000    0.000000  \n75%     36.600000                  0.626250   41.000000    1.000000  \nmax     67.100000                  2.420000   81.000000    1.000000  ",
            "text/html": "<div>\n<style scoped>\n    .dataframe tbody tr th:only-of-type {\n        vertical-align: middle;\n    }\n\n    .dataframe tbody tr th {\n        vertical-align: top;\n    }\n\n    .dataframe thead th {\n        text-align: right;\n    }\n</style>\n<table border=\"1\" class=\"dataframe\">\n  <thead>\n    <tr style=\"text-align: right;\">\n      <th></th>\n      <th>Pregnancies</th>\n      <th>Glucose</th>\n      <th>BloodPressure</th>\n      <th>SkinThickness</th>\n      <th>Insulin</th>\n      <th>BMI</th>\n      <th>DiabetesPedigreeFunction</th>\n      <th>Age</th>\n      <th>Outcome</th>\n    </tr>\n  </thead>\n  <tbody>\n    <tr>\n      <th>count</th>\n      <td>768.000000</td>\n      <td>768.000000</td>\n      <td>768.000000</td>\n      <td>768.000000</td>\n      <td>768.000000</td>\n      <td>768.000000</td>\n      <td>768.000000</td>\n      <td>768.000000</td>\n      <td>768.000000</td>\n    </tr>\n    <tr>\n      <th>mean</th>\n      <td>3.845052</td>\n      <td>120.894531</td>\n      <td>69.105469</td>\n      <td>20.536458</td>\n      <td>79.799479</td>\n      <td>31.992578</td>\n      <td>0.471876</td>\n      <td>33.240885</td>\n      <td>0.348958</td>\n    </tr>\n    <tr>\n      <th>std</th>\n      <td>3.369578</td>\n      <td>31.972618</td>\n      <td>19.355807</td>\n      <td>15.952218</td>\n      <td>115.244002</td>\n      <td>7.884160</td>\n      <td>0.331329</td>\n      <td>11.760232</td>\n      <td>0.476951</td>\n    </tr>\n    <tr>\n      <th>min</th>\n      <td>0.000000</td>\n      <td>0.000000</td>\n      <td>0.000000</td>\n      <td>0.000000</td>\n      <td>0.000000</td>\n      <td>0.000000</td>\n      <td>0.078000</td>\n      <td>21.000000</td>\n      <td>0.000000</td>\n    </tr>\n    <tr>\n      <th>25%</th>\n      <td>1.000000</td>\n      <td>99.000000</td>\n      <td>62.000000</td>\n      <td>0.000000</td>\n      <td>0.000000</td>\n      <td>27.300000</td>\n      <td>0.243750</td>\n      <td>24.000000</td>\n      <td>0.000000</td>\n    </tr>\n    <tr>\n      <th>50%</th>\n      <td>3.000000</td>\n      <td>117.000000</td>\n      <td>72.000000</td>\n      <td>23.000000</td>\n      <td>30.500000</td>\n      <td>32.000000</td>\n      <td>0.372500</td>\n      <td>29.000000</td>\n      <td>0.000000</td>\n    </tr>\n    <tr>\n      <th>75%</th>\n      <td>6.000000</td>\n      <td>140.250000</td>\n      <td>80.000000</td>\n      <td>32.000000</td>\n      <td>127.250000</td>\n      <td>36.600000</td>\n      <td>0.626250</td>\n      <td>41.000000</td>\n      <td>1.000000</td>\n    </tr>\n    <tr>\n      <th>max</th>\n      <td>17.000000</td>\n      <td>199.000000</td>\n      <td>122.000000</td>\n      <td>99.000000</td>\n      <td>846.000000</td>\n      <td>67.100000</td>\n      <td>2.420000</td>\n      <td>81.000000</td>\n      <td>1.000000</td>\n    </tr>\n  </tbody>\n</table>\n</div>"
          },
          "metadata": {}
        }
      ],
      "execution_count": 4,
      "metadata": {
        "collapsed": true,
        "jupyter": {
          "source_hidden": false,
          "outputs_hidden": false
        },
        "nteract": {
          "transient": {
            "deleting": false
          }
        },
        "gather": {
          "logged": 1612762182827
        }
      }
    },
    {
      "cell_type": "code",
      "source": [
        "dataset.take(5).to_pandas_dataframe()"
      ],
      "outputs": [
        {
          "output_type": "execute_result",
          "execution_count": 5,
          "data": {
            "text/plain": "   Pregnancies  Glucose  BloodPressure  SkinThickness  Insulin   BMI  \\\n0            6      148             72             35        0  33.6   \n1            1       85             66             29        0  26.6   \n2            8      183             64              0        0  23.3   \n3            1       89             66             23       94  28.1   \n4            0      137             40             35      168  43.1   \n\n   DiabetesPedigreeFunction  Age  Outcome  \n0                     0.627   50        1  \n1                     0.351   31        0  \n2                     0.672   32        1  \n3                     0.167   21        0  \n4                     2.288   33        1  ",
            "text/html": "<div>\n<style scoped>\n    .dataframe tbody tr th:only-of-type {\n        vertical-align: middle;\n    }\n\n    .dataframe tbody tr th {\n        vertical-align: top;\n    }\n\n    .dataframe thead th {\n        text-align: right;\n    }\n</style>\n<table border=\"1\" class=\"dataframe\">\n  <thead>\n    <tr style=\"text-align: right;\">\n      <th></th>\n      <th>Pregnancies</th>\n      <th>Glucose</th>\n      <th>BloodPressure</th>\n      <th>SkinThickness</th>\n      <th>Insulin</th>\n      <th>BMI</th>\n      <th>DiabetesPedigreeFunction</th>\n      <th>Age</th>\n      <th>Outcome</th>\n    </tr>\n  </thead>\n  <tbody>\n    <tr>\n      <th>0</th>\n      <td>6</td>\n      <td>148</td>\n      <td>72</td>\n      <td>35</td>\n      <td>0</td>\n      <td>33.6</td>\n      <td>0.627</td>\n      <td>50</td>\n      <td>1</td>\n    </tr>\n    <tr>\n      <th>1</th>\n      <td>1</td>\n      <td>85</td>\n      <td>66</td>\n      <td>29</td>\n      <td>0</td>\n      <td>26.6</td>\n      <td>0.351</td>\n      <td>31</td>\n      <td>0</td>\n    </tr>\n    <tr>\n      <th>2</th>\n      <td>8</td>\n      <td>183</td>\n      <td>64</td>\n      <td>0</td>\n      <td>0</td>\n      <td>23.3</td>\n      <td>0.672</td>\n      <td>32</td>\n      <td>1</td>\n    </tr>\n    <tr>\n      <th>3</th>\n      <td>1</td>\n      <td>89</td>\n      <td>66</td>\n      <td>23</td>\n      <td>94</td>\n      <td>28.1</td>\n      <td>0.167</td>\n      <td>21</td>\n      <td>0</td>\n    </tr>\n    <tr>\n      <th>4</th>\n      <td>0</td>\n      <td>137</td>\n      <td>40</td>\n      <td>35</td>\n      <td>168</td>\n      <td>43.1</td>\n      <td>2.288</td>\n      <td>33</td>\n      <td>1</td>\n    </tr>\n  </tbody>\n</table>\n</div>"
          },
          "metadata": {}
        }
      ],
      "execution_count": 5,
      "metadata": {
        "collapsed": true,
        "jupyter": {
          "source_hidden": false,
          "outputs_hidden": false
        },
        "nteract": {
          "transient": {
            "deleting": false
          }
        },
        "gather": {
          "logged": 1612762194367
        }
      }
    },
    {
      "cell_type": "markdown",
      "source": [
        "## AutoML Configuration\n",
        "\n",
        "TODO: Explain why you chose the automl settings and cofiguration you used below."
      ],
      "metadata": {}
    },
    {
      "cell_type": "code",
      "source": [
        "# TODO: Put your automl settings here\n",
        "automl_settings = {\n",
        "    \"experiment_timeout_minutes\": 30,\n",
        "    \"max_concurrent_iterations\": 3,\n",
        "    \"primary_metric\" : 'AUC_weighted'\n",
        "}\n",
        "\n",
        "# TODO: Put your automl config here\n",
        "automl_config = AutoMLConfig(compute_target=compute_target,\n",
        "                             task = \"classification\",\n",
        "                             training_data=dataset,\n",
        "                             label_column_name=\"Outcome\",   \n",
        "                             path = project_folder,\n",
        "                             enable_early_stopping= True,\n",
        "                             featurization= 'auto',\n",
        "                             debug_log = \"automl_errors.log\",\n",
        "                             **automl_settings)"
      ],
      "outputs": [],
      "execution_count": 6,
      "metadata": {
        "gather": {
          "logged": 1612762203132
        },
        "jupyter": {
          "outputs_hidden": false,
          "source_hidden": false
        },
        "nteract": {
          "transient": {
            "deleting": false
          }
        }
      }
    },
    {
      "cell_type": "code",
      "source": [
        "# TODO: Submit your experiment\n",
        "remote_run = experiment.submit(automl_config)"
      ],
      "outputs": [
        {
          "output_type": "stream",
          "name": "stdout",
          "text": [
            "Running on remote.\n"
          ]
        }
      ],
      "execution_count": 7,
      "metadata": {
        "gather": {
          "logged": 1612762212911
        },
        "jupyter": {
          "outputs_hidden": false,
          "source_hidden": false
        },
        "nteract": {
          "transient": {
            "deleting": false
          }
        }
      }
    },
    {
      "cell_type": "markdown",
      "source": [
        "## Run Details\n",
        "\n",
        "OPTIONAL: Write about the different models trained and their performance. Why do you think some models did better than others?\n",
        "\n",
        "TODO: In the cell below, use the `RunDetails` widget to show the different experiments."
      ],
      "metadata": {}
    },
    {
      "cell_type": "code",
      "source": [
        "from azureml.widgets import RunDetails\r\n",
        "\r\n",
        "RunDetails(remote_run).show()\r\n"
      ],
      "outputs": [
        {
          "output_type": "display_data",
          "data": {
            "text/plain": "_AutoMLWidget(widget_settings={'childWidgetDisplay': 'popup', 'send_telemetry': False, 'log_level': 'INFO', 's…",
            "application/vnd.jupyter.widget-view+json": {
              "version_major": 2,
              "version_minor": 0,
              "model_id": "af8c5fa4333d40a6bf0fc871e653f2c5"
            }
          },
          "metadata": {}
        },
        {
          "output_type": "display_data",
          "data": {
            "application/aml.mini.widget.v1": "{\"status\": \"Completed\", \"workbench_run_details_uri\": \"https://ml.azure.com/experiments/diabetes/runs/AutoML_06d9c41d-615e-47e9-9e7a-a1f1e5c142c7?wsid=/subscriptions/d4ad7261-832d-46b2-b093-22156001df5b/resourcegroups/aml-quickstarts-138079/workspaces/quick-starts-ws-138079\", \"run_id\": \"AutoML_06d9c41d-615e-47e9-9e7a-a1f1e5c142c7\", \"run_properties\": {\"run_id\": \"AutoML_06d9c41d-615e-47e9-9e7a-a1f1e5c142c7\", \"created_utc\": \"2021-02-08T05:30:11.622804Z\", \"properties\": {\"num_iterations\": \"1000\", \"training_type\": \"TrainFull\", \"acquisition_function\": \"EI\", \"primary_metric\": \"AUC_weighted\", \"train_split\": \"0\", \"acquisition_parameter\": \"0\", \"num_cross_validation\": null, \"target\": \"capcpu\", \"AMLSettingsJsonString\": \"{\\\"path\\\":null,\\\"name\\\":\\\"diabetes\\\",\\\"subscription_id\\\":\\\"d4ad7261-832d-46b2-b093-22156001df5b\\\",\\\"resource_group\\\":\\\"aml-quickstarts-138079\\\",\\\"workspace_name\\\":\\\"quick-starts-ws-138079\\\",\\\"region\\\":\\\"southcentralus\\\",\\\"compute_target\\\":\\\"capcpu\\\",\\\"spark_service\\\":null,\\\"azure_service\\\":\\\"remote\\\",\\\"many_models\\\":false,\\\"pipeline_fetch_max_batch_size\\\":1,\\\"iterations\\\":1000,\\\"primary_metric\\\":\\\"AUC_weighted\\\",\\\"task_type\\\":\\\"classification\\\",\\\"data_script\\\":null,\\\"validation_size\\\":0.0,\\\"n_cross_validations\\\":null,\\\"y_min\\\":null,\\\"y_max\\\":null,\\\"num_classes\\\":null,\\\"featurization\\\":\\\"auto\\\",\\\"_ignore_package_version_incompatibilities\\\":false,\\\"is_timeseries\\\":false,\\\"max_cores_per_iteration\\\":1,\\\"max_concurrent_iterations\\\":3,\\\"iteration_timeout_minutes\\\":null,\\\"mem_in_mb\\\":null,\\\"enforce_time_on_windows\\\":false,\\\"experiment_timeout_minutes\\\":30,\\\"experiment_exit_score\\\":null,\\\"whitelist_models\\\":null,\\\"blacklist_algos\\\":[\\\"TensorFlowLinearClassifier\\\",\\\"TensorFlowDNN\\\"],\\\"supported_models\\\":[\\\"XGBoostClassifier\\\",\\\"AveragedPerceptronClassifier\\\",\\\"LogisticRegression\\\",\\\"KNN\\\",\\\"ExtremeRandomTrees\\\",\\\"LightGBM\\\",\\\"TensorFlowDNN\\\",\\\"LinearSVM\\\",\\\"SVM\\\",\\\"GradientBoosting\\\",\\\"SGD\\\",\\\"BernoulliNaiveBayes\\\",\\\"TensorFlowLinearClassifier\\\",\\\"DecisionTree\\\",\\\"MultinomialNaiveBayes\\\",\\\"RandomForest\\\"],\\\"auto_blacklist\\\":true,\\\"blacklist_samples_reached\\\":false,\\\"exclude_nan_labels\\\":true,\\\"verbosity\\\":20,\\\"_debug_log\\\":\\\"azureml_automl.log\\\",\\\"show_warnings\\\":false,\\\"model_explainability\\\":true,\\\"service_url\\\":null,\\\"sdk_url\\\":null,\\\"sdk_packages\\\":null,\\\"enable_onnx_compatible_models\\\":false,\\\"enable_split_onnx_featurizer_estimator_models\\\":false,\\\"vm_type\\\":\\\"STANDARD_D2_V2\\\",\\\"telemetry_verbosity\\\":20,\\\"send_telemetry\\\":true,\\\"enable_dnn\\\":false,\\\"scenario\\\":\\\"SDK-1.13.0\\\",\\\"environment_label\\\":null,\\\"force_text_dnn\\\":false,\\\"enable_feature_sweeping\\\":true,\\\"enable_early_stopping\\\":true,\\\"early_stopping_n_iters\\\":10,\\\"metrics\\\":null,\\\"enable_ensembling\\\":true,\\\"enable_stack_ensembling\\\":true,\\\"ensemble_iterations\\\":15,\\\"enable_tf\\\":false,\\\"enable_subsampling\\\":null,\\\"subsample_seed\\\":null,\\\"enable_nimbusml\\\":false,\\\"enable_streaming\\\":false,\\\"force_streaming\\\":false,\\\"track_child_runs\\\":true,\\\"allowed_private_models\\\":[],\\\"label_column_name\\\":\\\"Outcome\\\",\\\"weight_column_name\\\":null,\\\"cv_split_column_names\\\":null,\\\"enable_local_managed\\\":false,\\\"_local_managed_run_id\\\":null,\\\"cost_mode\\\":1,\\\"lag_length\\\":0,\\\"metric_operation\\\":\\\"maximize\\\",\\\"preprocess\\\":true}\", \"DataPrepJsonString\": \"{\\\\\\\"training_data\\\\\\\": \\\\\\\"{\\\\\\\\\\\\\\\"blocks\\\\\\\\\\\\\\\": [{\\\\\\\\\\\\\\\"id\\\\\\\\\\\\\\\": \\\\\\\\\\\\\\\"8ff4f32a-51a4-4c85-92b1-4c3b27b36294\\\\\\\\\\\\\\\", \\\\\\\\\\\\\\\"type\\\\\\\\\\\\\\\": \\\\\\\\\\\\\\\"Microsoft.DPrep.GetDatastoreFilesBlock\\\\\\\\\\\\\\\", \\\\\\\\\\\\\\\"arguments\\\\\\\\\\\\\\\": {\\\\\\\\\\\\\\\"datastores\\\\\\\\\\\\\\\": [{\\\\\\\\\\\\\\\"datastoreName\\\\\\\\\\\\\\\": \\\\\\\\\\\\\\\"workspaceblobstore\\\\\\\\\\\\\\\", \\\\\\\\\\\\\\\"path\\\\\\\\\\\\\\\": \\\\\\\\\\\\\\\"UI/02-08-2021_043824_UTC/diabetes.csv\\\\\\\\\\\\\\\", \\\\\\\\\\\\\\\"resourceGroup\\\\\\\\\\\\\\\": \\\\\\\\\\\\\\\"aml-quickstarts-138079\\\\\\\\\\\\\\\", \\\\\\\\\\\\\\\"subscription\\\\\\\\\\\\\\\": \\\\\\\\\\\\\\\"d4ad7261-832d-46b2-b093-22156001df5b\\\\\\\\\\\\\\\", \\\\\\\\\\\\\\\"workspaceName\\\\\\\\\\\\\\\": \\\\\\\\\\\\\\\"quick-starts-ws-138079\\\\\\\\\\\\\\\"}]}, \\\\\\\\\\\\\\\"localData\\\\\\\\\\\\\\\": {}, \\\\\\\\\\\\\\\"isEnabled\\\\\\\\\\\\\\\": true, \\\\\\\\\\\\\\\"name\\\\\\\\\\\\\\\": null, \\\\\\\\\\\\\\\"annotation\\\\\\\\\\\\\\\": null}, {\\\\\\\\\\\\\\\"id\\\\\\\\\\\\\\\": \\\\\\\\\\\\\\\"44ecee4a-fd21-4955-999c-f88dc1a1d32f\\\\\\\\\\\\\\\", \\\\\\\\\\\\\\\"type\\\\\\\\\\\\\\\": \\\\\\\\\\\\\\\"Microsoft.DPrep.ParseDelimitedBlock\\\\\\\\\\\\\\\", \\\\\\\\\\\\\\\"arguments\\\\\\\\\\\\\\\": {\\\\\\\\\\\\\\\"columnHeadersMode\\\\\\\\\\\\\\\": 1, \\\\\\\\\\\\\\\"fileEncoding\\\\\\\\\\\\\\\": 0, \\\\\\\\\\\\\\\"handleQuotedLineBreaks\\\\\\\\\\\\\\\": false, \\\\\\\\\\\\\\\"preview\\\\\\\\\\\\\\\": false, \\\\\\\\\\\\\\\"separator\\\\\\\\\\\\\\\": \\\\\\\\\\\\\\\",\\\\\\\\\\\\\\\", \\\\\\\\\\\\\\\"skipRows\\\\\\\\\\\\\\\": 0, \\\\\\\\\\\\\\\"skipRowsMode\\\\\\\\\\\\\\\": 0}, \\\\\\\\\\\\\\\"localData\\\\\\\\\\\\\\\": {}, \\\\\\\\\\\\\\\"isEnabled\\\\\\\\\\\\\\\": true, \\\\\\\\\\\\\\\"name\\\\\\\\\\\\\\\": null, \\\\\\\\\\\\\\\"annotation\\\\\\\\\\\\\\\": null}, {\\\\\\\\\\\\\\\"id\\\\\\\\\\\\\\\": \\\\\\\\\\\\\\\"0e8c58be-beed-46db-b38e-85e11fb9b8ac\\\\\\\\\\\\\\\", \\\\\\\\\\\\\\\"type\\\\\\\\\\\\\\\": \\\\\\\\\\\\\\\"Microsoft.DPrep.DropColumnsBlock\\\\\\\\\\\\\\\", \\\\\\\\\\\\\\\"arguments\\\\\\\\\\\\\\\": {\\\\\\\\\\\\\\\"columns\\\\\\\\\\\\\\\": {\\\\\\\\\\\\\\\"type\\\\\\\\\\\\\\\": 0, \\\\\\\\\\\\\\\"details\\\\\\\\\\\\\\\": {\\\\\\\\\\\\\\\"selectedColumns\\\\\\\\\\\\\\\": [\\\\\\\\\\\\\\\"Path\\\\\\\\\\\\\\\"]}}}, \\\\\\\\\\\\\\\"localData\\\\\\\\\\\\\\\": {}, \\\\\\\\\\\\\\\"isEnabled\\\\\\\\\\\\\\\": true, \\\\\\\\\\\\\\\"name\\\\\\\\\\\\\\\": null, \\\\\\\\\\\\\\\"annotation\\\\\\\\\\\\\\\": null}, {\\\\\\\\\\\\\\\"id\\\\\\\\\\\\\\\": \\\\\\\\\\\\\\\"7acb413f-6820-4797-9520-a1a493f06c12\\\\\\\\\\\\\\\", \\\\\\\\\\\\\\\"type\\\\\\\\\\\\\\\": \\\\\\\\\\\\\\\"Microsoft.DPrep.SetColumnTypesBlock\\\\\\\\\\\\\\\", \\\\\\\\\\\\\\\"arguments\\\\\\\\\\\\\\\": {\\\\\\\\\\\\\\\"columnConversion\\\\\\\\\\\\\\\": [{\\\\\\\\\\\\\\\"column\\\\\\\\\\\\\\\": {\\\\\\\\\\\\\\\"type\\\\\\\\\\\\\\\": 2, \\\\\\\\\\\\\\\"details\\\\\\\\\\\\\\\": {\\\\\\\\\\\\\\\"selectedColumn\\\\\\\\\\\\\\\": \\\\\\\\\\\\\\\"Path\\\\\\\\\\\\\\\"}}, \\\\\\\\\\\\\\\"typeProperty\\\\\\\\\\\\\\\": 0}, {\\\\\\\\\\\\\\\"column\\\\\\\\\\\\\\\": {\\\\\\\\\\\\\\\"type\\\\\\\\\\\\\\\": 2, \\\\\\\\\\\\\\\"details\\\\\\\\\\\\\\\": {\\\\\\\\\\\\\\\"selectedColumn\\\\\\\\\\\\\\\": \\\\\\\\\\\\\\\"Pregnancies\\\\\\\\\\\\\\\"}}, \\\\\\\\\\\\\\\"typeProperty\\\\\\\\\\\\\\\": 2}, {\\\\\\\\\\\\\\\"column\\\\\\\\\\\\\\\": {\\\\\\\\\\\\\\\"type\\\\\\\\\\\\\\\": 2, \\\\\\\\\\\\\\\"details\\\\\\\\\\\\\\\": {\\\\\\\\\\\\\\\"selectedColumn\\\\\\\\\\\\\\\": \\\\\\\\\\\\\\\"Glucose\\\\\\\\\\\\\\\"}}, \\\\\\\\\\\\\\\"typeProperty\\\\\\\\\\\\\\\": 2}, {\\\\\\\\\\\\\\\"column\\\\\\\\\\\\\\\": {\\\\\\\\\\\\\\\"type\\\\\\\\\\\\\\\": 2, \\\\\\\\\\\\\\\"details\\\\\\\\\\\\\\\": {\\\\\\\\\\\\\\\"selectedColumn\\\\\\\\\\\\\\\": \\\\\\\\\\\\\\\"BloodPressure\\\\\\\\\\\\\\\"}}, \\\\\\\\\\\\\\\"typeProperty\\\\\\\\\\\\\\\": 2}, {\\\\\\\\\\\\\\\"column\\\\\\\\\\\\\\\": {\\\\\\\\\\\\\\\"type\\\\\\\\\\\\\\\": 2, \\\\\\\\\\\\\\\"details\\\\\\\\\\\\\\\": {\\\\\\\\\\\\\\\"selectedColumn\\\\\\\\\\\\\\\": \\\\\\\\\\\\\\\"SkinThickness\\\\\\\\\\\\\\\"}}, \\\\\\\\\\\\\\\"typeProperty\\\\\\\\\\\\\\\": 2}, {\\\\\\\\\\\\\\\"column\\\\\\\\\\\\\\\": {\\\\\\\\\\\\\\\"type\\\\\\\\\\\\\\\": 2, \\\\\\\\\\\\\\\"details\\\\\\\\\\\\\\\": {\\\\\\\\\\\\\\\"selectedColumn\\\\\\\\\\\\\\\": \\\\\\\\\\\\\\\"Insulin\\\\\\\\\\\\\\\"}}, \\\\\\\\\\\\\\\"typeProperty\\\\\\\\\\\\\\\": 2}, {\\\\\\\\\\\\\\\"column\\\\\\\\\\\\\\\": {\\\\\\\\\\\\\\\"type\\\\\\\\\\\\\\\": 2, \\\\\\\\\\\\\\\"details\\\\\\\\\\\\\\\": {\\\\\\\\\\\\\\\"selectedColumn\\\\\\\\\\\\\\\": \\\\\\\\\\\\\\\"BMI\\\\\\\\\\\\\\\"}}, \\\\\\\\\\\\\\\"typeProperty\\\\\\\\\\\\\\\": 3}, {\\\\\\\\\\\\\\\"column\\\\\\\\\\\\\\\": {\\\\\\\\\\\\\\\"type\\\\\\\\\\\\\\\": 2, \\\\\\\\\\\\\\\"details\\\\\\\\\\\\\\\": {\\\\\\\\\\\\\\\"selectedColumn\\\\\\\\\\\\\\\": \\\\\\\\\\\\\\\"DiabetesPedigreeFunction\\\\\\\\\\\\\\\"}}, \\\\\\\\\\\\\\\"typeProperty\\\\\\\\\\\\\\\": 3}, {\\\\\\\\\\\\\\\"column\\\\\\\\\\\\\\\": {\\\\\\\\\\\\\\\"type\\\\\\\\\\\\\\\": 2, \\\\\\\\\\\\\\\"details\\\\\\\\\\\\\\\": {\\\\\\\\\\\\\\\"selectedColumn\\\\\\\\\\\\\\\": \\\\\\\\\\\\\\\"Age\\\\\\\\\\\\\\\"}}, \\\\\\\\\\\\\\\"typeProperty\\\\\\\\\\\\\\\": 2}, {\\\\\\\\\\\\\\\"column\\\\\\\\\\\\\\\": {\\\\\\\\\\\\\\\"type\\\\\\\\\\\\\\\": 2, \\\\\\\\\\\\\\\"details\\\\\\\\\\\\\\\": {\\\\\\\\\\\\\\\"selectedColumn\\\\\\\\\\\\\\\": \\\\\\\\\\\\\\\"Outcome\\\\\\\\\\\\\\\"}}, \\\\\\\\\\\\\\\"typeProperty\\\\\\\\\\\\\\\": 2}]}, \\\\\\\\\\\\\\\"localData\\\\\\\\\\\\\\\": {}, \\\\\\\\\\\\\\\"isEnabled\\\\\\\\\\\\\\\": true, \\\\\\\\\\\\\\\"name\\\\\\\\\\\\\\\": null, \\\\\\\\\\\\\\\"annotation\\\\\\\\\\\\\\\": null}], \\\\\\\\\\\\\\\"inspectors\\\\\\\\\\\\\\\": [], \\\\\\\\\\\\\\\"meta\\\\\\\\\\\\\\\": {\\\\\\\\\\\\\\\"savedDatasetId\\\\\\\\\\\\\\\": \\\\\\\\\\\\\\\"16823d31-7c58-45e9-a8fe-81b569f9406c\\\\\\\\\\\\\\\", \\\\\\\\\\\\\\\"datasetType\\\\\\\\\\\\\\\": \\\\\\\\\\\\\\\"tabular\\\\\\\\\\\\\\\", \\\\\\\\\\\\\\\"subscriptionId\\\\\\\\\\\\\\\": \\\\\\\\\\\\\\\"d4ad7261-832d-46b2-b093-22156001df5b\\\\\\\\\\\\\\\", \\\\\\\\\\\\\\\"workspaceId\\\\\\\\\\\\\\\": \\\\\\\\\\\\\\\"d7438c8f-9c4f-4815-afb9-3d2a87a2b167\\\\\\\\\\\\\\\", \\\\\\\\\\\\\\\"workspaceLocation\\\\\\\\\\\\\\\": \\\\\\\\\\\\\\\"southcentralus\\\\\\\\\\\\\\\"}}\\\\\\\", \\\\\\\"activities\\\\\\\": 0}\", \"EnableSubsampling\": null, \"runTemplate\": \"AutoML\", \"azureml.runsource\": \"automl\", \"display_task_type\": \"classification\", \"dependencies_versions\": \"{\\\"azureml-widgets\\\": \\\"1.20.0\\\", \\\"azureml-train\\\": \\\"1.20.0\\\", \\\"azureml-train-restclients-hyperdrive\\\": \\\"1.20.0\\\", \\\"azureml-train-core\\\": \\\"1.20.0\\\", \\\"azureml-train-automl\\\": \\\"1.20.0\\\", \\\"azureml-train-automl-runtime\\\": \\\"1.20.0\\\", \\\"azureml-train-automl-client\\\": \\\"1.20.0\\\", \\\"azureml-tensorboard\\\": \\\"1.20.0\\\", \\\"azureml-telemetry\\\": \\\"1.20.0\\\", \\\"azureml-sdk\\\": \\\"1.20.0\\\", \\\"azureml-samples\\\": \\\"0+unknown\\\", \\\"azureml-pipeline\\\": \\\"1.20.0\\\", \\\"azureml-pipeline-steps\\\": \\\"1.20.0\\\", \\\"azureml-pipeline-core\\\": \\\"1.20.0\\\", \\\"azureml-opendatasets\\\": \\\"1.20.0\\\", \\\"azureml-model-management-sdk\\\": \\\"1.0.1b6.post1\\\", \\\"azureml-mlflow\\\": \\\"1.20.0.post1\\\", \\\"azureml-interpret\\\": \\\"1.20.0\\\", \\\"azureml-explain-model\\\": \\\"1.20.0\\\", \\\"azureml-defaults\\\": \\\"1.20.0\\\", \\\"azureml-dataset-runtime\\\": \\\"1.20.0\\\", \\\"azureml-dataprep\\\": \\\"2.7.3\\\", \\\"azureml-dataprep-rslex\\\": \\\"1.5.0\\\", \\\"azureml-dataprep-native\\\": \\\"27.0.0\\\", \\\"azureml-datadrift\\\": \\\"1.20.0\\\", \\\"azureml-core\\\": \\\"1.20.0\\\", \\\"azureml-contrib-services\\\": \\\"1.20.0\\\", \\\"azureml-contrib-server\\\": \\\"1.20.0\\\", \\\"azureml-contrib-reinforcementlearning\\\": \\\"1.20.0\\\", \\\"azureml-contrib-pipeline-steps\\\": \\\"1.20.0\\\", \\\"azureml-contrib-notebook\\\": \\\"1.20.0\\\", \\\"azureml-contrib-interpret\\\": \\\"1.20.0\\\", \\\"azureml-contrib-gbdt\\\": \\\"1.20.0\\\", \\\"azureml-contrib-fairness\\\": \\\"1.20.0\\\", \\\"azureml-contrib-dataset\\\": \\\"1.20.0\\\", \\\"azureml-cli-common\\\": \\\"1.20.0\\\", \\\"azureml-automl-runtime\\\": \\\"1.20.0\\\", \\\"azureml-automl-core\\\": \\\"1.20.0\\\", \\\"azureml-accel-models\\\": \\\"1.20.0\\\"}\", \"_aml_system_scenario_identification\": \"Remote.Parent\", \"ClientType\": \"SDK\", \"environment_cpu_name\": \"AzureML-AutoML\", \"environment_cpu_label\": \"prod\", \"environment_gpu_name\": \"AzureML-AutoML-GPU\", \"environment_gpu_label\": \"prod\", \"root_attribution\": \"automl\", \"attribution\": \"AutoML\", \"Orchestrator\": \"AutoML\", \"CancelUri\": \"https://southcentralus.experiments.azureml.net/jasmine/v1.0/subscriptions/d4ad7261-832d-46b2-b093-22156001df5b/resourceGroups/aml-quickstarts-138079/providers/Microsoft.MachineLearningServices/workspaces/quick-starts-ws-138079/experimentids/63d3b039-8711-4a4e-8e46-9b9e98c00c09/cancel/AutoML_06d9c41d-615e-47e9-9e7a-a1f1e5c142c7\", \"ClientSdkVersion\": \"1.21.0\", \"snapshotId\": \"00000000-0000-0000-0000-000000000000\", \"SetupRunId\": \"AutoML_06d9c41d-615e-47e9-9e7a-a1f1e5c142c7_setup\", \"SetupRunContainerId\": \"dcid.AutoML_06d9c41d-615e-47e9-9e7a-a1f1e5c142c7_setup\", \"FeaturizationRunJsonPath\": \"featurizer_container.json\", \"FeaturizationRunId\": \"AutoML_06d9c41d-615e-47e9-9e7a-a1f1e5c142c7_featurize\", \"ProblemInfoJsonString\": \"{\\\"dataset_num_categorical\\\": 0, \\\"is_sparse\\\": true, \\\"subsampling\\\": false, \\\"dataset_classes\\\": 2, \\\"dataset_features\\\": 24, \\\"dataset_samples\\\": 768, \\\"single_frequency_class_detected\\\": false}\", \"ModelExplainRunId\": \"AutoML_06d9c41d-615e-47e9-9e7a-a1f1e5c142c7_ModelExplain\"}, \"tags\": {\"model_explain_run\": \"best_run\", \"_aml_system_azureml.automlComponent\": \"AutoML\", \"pipeline_id\": \"\", \"score\": \"\", \"predicted_cost\": \"\", \"fit_time\": \"\", \"training_percent\": \"\", \"iteration\": \"\", \"run_preprocessor\": \"\", \"run_algorithm\": \"\", \"dynamic_whitelisting_iterations\": \"<25>;<30>;\", \"automl_best_child_run_id\": \"AutoML_06d9c41d-615e-47e9-9e7a-a1f1e5c142c7_34\", \"model_explain_best_run_child_id\": \"AutoML_06d9c41d-615e-47e9-9e7a-a1f1e5c142c7_34\"}, \"end_time_utc\": \"2021-02-08T05:59:45.651157Z\", \"status\": \"Completed\", \"log_files\": {}, \"log_groups\": [], \"run_duration\": \"0:29:34\"}, \"child_runs\": [{\"run_id\": \"AutoML_06d9c41d-615e-47e9-9e7a-a1f1e5c142c7_0\", \"run_number\": 5, \"metric\": null, \"status\": \"Completed\", \"run_type\": \"azureml.scriptrun\", \"training_percent\": \"100\", \"start_time\": \"2021-02-08T05:42:53.403966Z\", \"end_time\": \"2021-02-08T05:43:47.503298Z\", \"created_time\": \"2021-02-08T05:40:40.701665Z\", \"created_time_dt\": \"2021-02-08T05:40:40.701665Z\", \"duration\": \"0:03:06\", \"iteration\": \"0\", \"goal\": \"AUC_weighted_max\", \"run_name\": \"MaxAbsScaler, LightGBM\", \"run_properties\": \"copy=True\", \"primary_metric\": 0.79810139, \"best_metric\": 0.79810139}, {\"run_id\": \"AutoML_06d9c41d-615e-47e9-9e7a-a1f1e5c142c7_2\", \"run_number\": 6, \"metric\": null, \"status\": \"Completed\", \"run_type\": \"azureml.scriptrun\", \"training_percent\": \"100\", \"start_time\": \"2021-02-08T05:41:52.339449Z\", \"end_time\": \"2021-02-08T05:42:49.093584Z\", \"created_time\": \"2021-02-08T05:40:40.790691Z\", \"created_time_dt\": \"2021-02-08T05:40:40.790691Z\", \"duration\": \"0:02:08\", \"iteration\": \"2\", \"goal\": \"AUC_weighted_max\", \"run_name\": \"MaxAbsScaler, RandomForest\", \"run_properties\": \"copy=True\", \"primary_metric\": 0.82566308, \"best_metric\": 0.83662103}, {\"run_id\": \"AutoML_06d9c41d-615e-47e9-9e7a-a1f1e5c142c7_1\", \"run_number\": 7, \"metric\": null, \"status\": \"Completed\", \"run_type\": \"azureml.scriptrun\", \"training_percent\": \"100\", \"start_time\": \"2021-02-08T05:40:52.797614Z\", \"end_time\": \"2021-02-08T05:41:47.902706Z\", \"created_time\": \"2021-02-08T05:40:40.796409Z\", \"created_time_dt\": \"2021-02-08T05:40:40.796409Z\", \"duration\": \"0:01:07\", \"iteration\": \"1\", \"goal\": \"AUC_weighted_max\", \"run_name\": \"MaxAbsScaler, XGBoostClassifier\", \"run_properties\": \"copy=True\", \"primary_metric\": 0.83662103, \"best_metric\": 0.83662103}, {\"run_id\": \"AutoML_06d9c41d-615e-47e9-9e7a-a1f1e5c142c7_3\", \"run_number\": 8, \"metric\": null, \"status\": \"Completed\", \"run_type\": \"azureml.scriptrun\", \"training_percent\": \"100\", \"start_time\": \"2021-02-08T05:43:48.823838Z\", \"end_time\": \"2021-02-08T05:44:44.464238Z\", \"created_time\": \"2021-02-08T05:41:49.971146Z\", \"created_time_dt\": \"2021-02-08T05:41:49.971146Z\", \"duration\": \"0:02:54\", \"iteration\": \"3\", \"goal\": \"AUC_weighted_max\", \"run_name\": \"MaxAbsScaler, RandomForest\", \"run_properties\": \"copy=True\", \"primary_metric\": 0.82857965, \"best_metric\": 0.83662103}, {\"run_id\": \"AutoML_06d9c41d-615e-47e9-9e7a-a1f1e5c142c7_4\", \"run_number\": 9, \"metric\": null, \"status\": \"Completed\", \"run_type\": \"azureml.scriptrun\", \"training_percent\": \"100\", \"start_time\": \"2021-02-08T05:44:15.876393Z\", \"end_time\": \"2021-02-08T05:47:35.617864Z\", \"created_time\": \"2021-02-08T05:42:52.069398Z\", \"created_time_dt\": \"2021-02-08T05:42:52.069398Z\", \"duration\": \"0:04:43\", \"iteration\": \"4\", \"goal\": \"AUC_weighted_max\", \"run_name\": \"MaxAbsScaler, RandomForest\", \"run_properties\": \"copy=True\", \"primary_metric\": 0.82168224, \"best_metric\": 0.83662103}, {\"run_id\": \"AutoML_06d9c41d-615e-47e9-9e7a-a1f1e5c142c7_5\", \"run_number\": 10, \"metric\": null, \"status\": \"Completed\", \"run_type\": \"azureml.scriptrun\", \"training_percent\": \"100\", \"start_time\": \"2021-02-08T05:44:14.939562Z\", \"end_time\": \"2021-02-08T05:47:37.888067Z\", \"created_time\": \"2021-02-08T05:43:50.44999Z\", \"created_time_dt\": \"2021-02-08T05:43:50.44999Z\", \"duration\": \"0:03:47\", \"iteration\": \"5\", \"goal\": \"AUC_weighted_max\", \"run_name\": \"MaxAbsScaler, ExtremeRandomTrees\", \"run_properties\": \"copy=True\", \"primary_metric\": 0.81779101, \"best_metric\": 0.83662103}, {\"run_id\": \"AutoML_06d9c41d-615e-47e9-9e7a-a1f1e5c142c7_6\", \"run_number\": 11, \"metric\": null, \"status\": \"Completed\", \"run_type\": \"azureml.scriptrun\", \"training_percent\": \"100\", \"start_time\": \"2021-02-08T05:45:00.24332Z\", \"end_time\": \"2021-02-08T05:45:53.052996Z\", \"created_time\": \"2021-02-08T05:44:47.759395Z\", \"created_time_dt\": \"2021-02-08T05:44:47.759395Z\", \"duration\": \"0:01:05\", \"iteration\": \"6\", \"goal\": \"AUC_weighted_max\", \"run_name\": \"MaxAbsScaler, ExtremeRandomTrees\", \"run_properties\": \"copy=True\", \"primary_metric\": 0.81609927, \"best_metric\": 0.83662103}, {\"run_id\": \"AutoML_06d9c41d-615e-47e9-9e7a-a1f1e5c142c7_7\", \"run_number\": 12, \"metric\": null, \"status\": \"Completed\", \"run_type\": \"azureml.scriptrun\", \"training_percent\": \"100\", \"start_time\": \"2021-02-08T05:46:08.876976Z\", \"end_time\": \"2021-02-08T05:47:09.893073Z\", \"created_time\": \"2021-02-08T05:45:56.458712Z\", \"created_time_dt\": \"2021-02-08T05:45:56.458712Z\", \"duration\": \"0:01:13\", \"iteration\": \"7\", \"goal\": \"AUC_weighted_max\", \"run_name\": \"MaxAbsScaler, ExtremeRandomTrees\", \"run_properties\": \"copy=True\", \"primary_metric\": 0.80556683, \"best_metric\": 0.83662103}, {\"run_id\": \"AutoML_06d9c41d-615e-47e9-9e7a-a1f1e5c142c7_8\", \"run_number\": 13, \"metric\": null, \"status\": \"Completed\", \"run_type\": \"azureml.scriptrun\", \"training_percent\": \"100\", \"start_time\": \"2021-02-08T05:47:26.101686Z\", \"end_time\": \"2021-02-08T05:48:24.307207Z\", \"created_time\": \"2021-02-08T05:47:13.000926Z\", \"created_time_dt\": \"2021-02-08T05:47:13.000926Z\", \"duration\": \"0:01:11\", \"iteration\": \"8\", \"goal\": \"AUC_weighted_max\", \"run_name\": \"MaxAbsScaler, RandomForest\", \"run_properties\": \"copy=True\", \"primary_metric\": 0.79064257, \"best_metric\": 0.83662103}, {\"run_id\": \"AutoML_06d9c41d-615e-47e9-9e7a-a1f1e5c142c7_9\", \"run_number\": 14, \"metric\": null, \"status\": \"Completed\", \"run_type\": \"azureml.scriptrun\", \"training_percent\": \"100\", \"start_time\": \"2021-02-08T05:47:51.916713Z\", \"end_time\": \"2021-02-08T05:48:47.306623Z\", \"created_time\": \"2021-02-08T05:47:39.178632Z\", \"created_time_dt\": \"2021-02-08T05:47:39.178632Z\", \"duration\": \"0:01:08\", \"iteration\": \"9\", \"goal\": \"AUC_weighted_max\", \"run_name\": \"MaxAbsScaler, ExtremeRandomTrees\", \"run_properties\": \"copy=True\", \"primary_metric\": 0.77889034, \"best_metric\": 0.83662103}, {\"run_id\": \"AutoML_06d9c41d-615e-47e9-9e7a-a1f1e5c142c7_10\", \"run_number\": 15, \"metric\": null, \"status\": \"Completed\", \"run_type\": \"azureml.scriptrun\", \"training_percent\": \"100\", \"start_time\": \"2021-02-08T05:47:58.229083Z\", \"end_time\": \"2021-02-08T05:48:51.081783Z\", \"created_time\": \"2021-02-08T05:47:44.994193Z\", \"created_time_dt\": \"2021-02-08T05:47:44.994193Z\", \"duration\": \"0:01:06\", \"iteration\": \"10\", \"goal\": \"AUC_weighted_max\", \"run_name\": \"MaxAbsScaler, RandomForest\", \"run_properties\": \"copy=True\", \"primary_metric\": 0.79541756, \"best_metric\": 0.83662103}, {\"run_id\": \"AutoML_06d9c41d-615e-47e9-9e7a-a1f1e5c142c7_11\", \"run_number\": 16, \"metric\": null, \"status\": \"Completed\", \"run_type\": \"azureml.scriptrun\", \"training_percent\": \"100\", \"start_time\": \"2021-02-08T05:48:39.661794Z\", \"end_time\": \"2021-02-08T05:49:37.772316Z\", \"created_time\": \"2021-02-08T05:48:27.312527Z\", \"created_time_dt\": \"2021-02-08T05:48:27.312527Z\", \"duration\": \"0:01:10\", \"iteration\": \"11\", \"goal\": \"AUC_weighted_max\", \"run_name\": \"MaxAbsScaler, RandomForest\", \"run_properties\": \"copy=True\", \"primary_metric\": 0.81115395, \"best_metric\": 0.83662103}, {\"run_id\": \"AutoML_06d9c41d-615e-47e9-9e7a-a1f1e5c142c7_12\", \"run_number\": 17, \"metric\": null, \"status\": \"Completed\", \"run_type\": \"azureml.scriptrun\", \"training_percent\": \"100\", \"start_time\": \"2021-02-08T05:49:02.945981Z\", \"end_time\": \"2021-02-08T05:49:57.834675Z\", \"created_time\": \"2021-02-08T05:48:50.65364Z\", \"created_time_dt\": \"2021-02-08T05:48:50.65364Z\", \"duration\": \"0:01:07\", \"iteration\": \"12\", \"goal\": \"AUC_weighted_max\", \"run_name\": \"MaxAbsScaler, RandomForest\", \"run_properties\": \"copy=True\", \"primary_metric\": 0.77691428, \"best_metric\": 0.83662103}, {\"run_id\": \"AutoML_06d9c41d-615e-47e9-9e7a-a1f1e5c142c7_13\", \"run_number\": 18, \"metric\": null, \"status\": \"Completed\", \"run_type\": \"azureml.scriptrun\", \"training_percent\": \"100\", \"start_time\": \"2021-02-08T05:49:08.743899Z\", \"end_time\": \"2021-02-08T05:49:57.832008Z\", \"created_time\": \"2021-02-08T05:48:55.913177Z\", \"created_time_dt\": \"2021-02-08T05:48:55.913177Z\", \"duration\": \"0:01:01\", \"iteration\": \"13\", \"goal\": \"AUC_weighted_max\", \"run_name\": \"StandardScalerWrapper, XGBoostClassifier\", \"run_properties\": \"<azureml.automl.runtime.shared.model_wrappers.StandardScalerWrapper object at 0x7fb535af09e8\", \"primary_metric\": 0.82080753, \"best_metric\": 0.83662103}, {\"run_id\": \"AutoML_06d9c41d-615e-47e9-9e7a-a1f1e5c142c7_14\", \"run_number\": 19, \"metric\": null, \"status\": \"Completed\", \"run_type\": \"azureml.scriptrun\", \"training_percent\": \"100\", \"start_time\": \"2021-02-08T05:49:52.301043Z\", \"end_time\": \"2021-02-08T05:50:42.758758Z\", \"created_time\": \"2021-02-08T05:49:40.894311Z\", \"created_time_dt\": \"2021-02-08T05:49:40.894311Z\", \"duration\": \"0:01:01\", \"iteration\": \"14\", \"goal\": \"AUC_weighted_max\", \"run_name\": \"MaxAbsScaler, RandomForest\", \"run_properties\": \"copy=True\", \"primary_metric\": 0.81444029, \"best_metric\": 0.83662103}, {\"run_id\": \"AutoML_06d9c41d-615e-47e9-9e7a-a1f1e5c142c7_16\", \"run_number\": 20, \"metric\": null, \"status\": \"Completed\", \"run_type\": \"azureml.scriptrun\", \"training_percent\": \"100\", \"start_time\": \"2021-02-08T05:50:11.875208Z\", \"end_time\": \"2021-02-08T05:51:03.463784Z\", \"created_time\": \"2021-02-08T05:50:00.901332Z\", \"created_time_dt\": \"2021-02-08T05:50:00.901332Z\", \"duration\": \"0:01:02\", \"iteration\": \"16\", \"goal\": \"AUC_weighted_max\", \"run_name\": \"MaxAbsScaler, ExtremeRandomTrees\", \"run_properties\": \"copy=True\", \"primary_metric\": 0.81969544, \"best_metric\": 0.83662103}, {\"run_id\": \"AutoML_06d9c41d-615e-47e9-9e7a-a1f1e5c142c7_15\", \"run_number\": 21, \"metric\": null, \"status\": \"Completed\", \"run_type\": \"azureml.scriptrun\", \"training_percent\": \"100\", \"start_time\": \"2021-02-08T05:50:15.598Z\", \"end_time\": \"2021-02-08T05:51:08.02398Z\", \"created_time\": \"2021-02-08T05:50:00.989476Z\", \"created_time_dt\": \"2021-02-08T05:50:00.989476Z\", \"duration\": \"0:01:07\", \"iteration\": \"15\", \"goal\": \"AUC_weighted_max\", \"run_name\": \"StandardScalerWrapper, ExtremeRandomTrees\", \"run_properties\": \"<azureml.automl.runtime.shared.model_wrappers.StandardScalerWrapper object at 0x7f8210376128\", \"primary_metric\": 0.82758961, \"best_metric\": 0.83662103}, {\"run_id\": \"AutoML_06d9c41d-615e-47e9-9e7a-a1f1e5c142c7_17\", \"run_number\": 22, \"metric\": null, \"status\": \"Completed\", \"run_type\": \"azureml.scriptrun\", \"training_percent\": \"100\", \"start_time\": \"2021-02-08T05:51:00.255136Z\", \"end_time\": \"2021-02-08T05:52:08.032413Z\", \"created_time\": \"2021-02-08T05:50:47.048995Z\", \"created_time_dt\": \"2021-02-08T05:50:47.048995Z\", \"duration\": \"0:01:20\", \"iteration\": \"17\", \"goal\": \"AUC_weighted_max\", \"run_name\": \"MaxAbsScaler, ExtremeRandomTrees\", \"run_properties\": \"copy=True\", \"primary_metric\": 0.80335778, \"best_metric\": 0.83662103}, {\"run_id\": \"AutoML_06d9c41d-615e-47e9-9e7a-a1f1e5c142c7_18\", \"run_number\": 23, \"metric\": null, \"status\": \"Completed\", \"run_type\": \"azureml.scriptrun\", \"training_percent\": \"100\", \"start_time\": \"2021-02-08T05:51:18.365761Z\", \"end_time\": \"2021-02-08T05:52:08.813211Z\", \"created_time\": \"2021-02-08T05:51:07.156625Z\", \"created_time_dt\": \"2021-02-08T05:51:07.156625Z\", \"duration\": \"0:01:01\", \"iteration\": \"18\", \"goal\": \"AUC_weighted_max\", \"run_name\": \"MaxAbsScaler, RandomForest\", \"run_properties\": \"copy=True\", \"primary_metric\": 0.80928197, \"best_metric\": 0.83662103}, {\"run_id\": \"AutoML_06d9c41d-615e-47e9-9e7a-a1f1e5c142c7_19\", \"run_number\": 24, \"metric\": null, \"status\": \"Completed\", \"run_type\": \"azureml.scriptrun\", \"training_percent\": \"100\", \"start_time\": \"2021-02-08T05:51:25.126597Z\", \"end_time\": \"2021-02-08T05:52:14.327752Z\", \"created_time\": \"2021-02-08T05:51:12.680835Z\", \"created_time_dt\": \"2021-02-08T05:51:12.680835Z\", \"duration\": \"0:01:01\", \"iteration\": \"19\", \"goal\": \"AUC_weighted_max\", \"run_name\": \"StandardScalerWrapper, XGBoostClassifier\", \"run_properties\": \"<azureml.automl.runtime.shared.model_wrappers.StandardScalerWrapper object at 0x7f1c283082e8\", \"primary_metric\": 0.82402664, \"best_metric\": 0.83662103}, {\"run_id\": \"AutoML_06d9c41d-615e-47e9-9e7a-a1f1e5c142c7_20\", \"run_number\": 25, \"metric\": null, \"status\": \"Completed\", \"run_type\": \"azureml.scriptrun\", \"training_percent\": \"100\", \"start_time\": \"2021-02-08T05:52:22.874881Z\", \"end_time\": \"2021-02-08T05:53:19.46275Z\", \"created_time\": \"2021-02-08T05:52:10.991224Z\", \"created_time_dt\": \"2021-02-08T05:52:10.991224Z\", \"duration\": \"0:01:08\", \"iteration\": \"20\", \"goal\": \"AUC_weighted_max\", \"run_name\": \"StandardScalerWrapper, XGBoostClassifier\", \"run_properties\": \"<azureml.automl.runtime.shared.model_wrappers.StandardScalerWrapper object at 0x7f6ecce7f748\", \"primary_metric\": 0.81328092, \"best_metric\": 0.83662103}, {\"run_id\": \"AutoML_06d9c41d-615e-47e9-9e7a-a1f1e5c142c7_21\", \"run_number\": 26, \"metric\": null, \"status\": \"Completed\", \"run_type\": \"azureml.scriptrun\", \"training_percent\": \"100\", \"start_time\": \"2021-02-08T05:52:27.451098Z\", \"end_time\": \"2021-02-08T05:53:17.883853Z\", \"created_time\": \"2021-02-08T05:52:15.769264Z\", \"created_time_dt\": \"2021-02-08T05:52:15.769264Z\", \"duration\": \"0:01:02\", \"iteration\": \"21\", \"goal\": \"AUC_weighted_max\", \"run_name\": \"StandardScalerWrapper, XGBoostClassifier\", \"run_properties\": \"<azureml.automl.runtime.shared.model_wrappers.StandardScalerWrapper object at 0x7fdd7d8e2940\", \"primary_metric\": 0.81611286, \"best_metric\": 0.83662103}, {\"run_id\": \"AutoML_06d9c41d-615e-47e9-9e7a-a1f1e5c142c7_22\", \"run_number\": 27, \"metric\": null, \"status\": \"Completed\", \"run_type\": \"azureml.scriptrun\", \"training_percent\": \"100\", \"start_time\": \"2021-02-08T05:52:30.790877Z\", \"end_time\": \"2021-02-08T05:53:33.307913Z\", \"created_time\": \"2021-02-08T05:52:20.169779Z\", \"created_time_dt\": \"2021-02-08T05:52:20.169779Z\", \"duration\": \"0:01:13\", \"iteration\": \"22\", \"goal\": \"AUC_weighted_max\", \"run_name\": \"MaxAbsScaler, LightGBM\", \"run_properties\": \"copy=True\", \"primary_metric\": 0.83145933, \"best_metric\": 0.83662103}, {\"run_id\": \"AutoML_06d9c41d-615e-47e9-9e7a-a1f1e5c142c7_23\", \"run_number\": 28, \"metric\": null, \"status\": \"Completed\", \"run_type\": \"azureml.scriptrun\", \"training_percent\": \"100\", \"start_time\": \"2021-02-08T05:53:33.9349Z\", \"end_time\": \"2021-02-08T05:54:29.056769Z\", \"created_time\": \"2021-02-08T05:53:21.147358Z\", \"created_time_dt\": \"2021-02-08T05:53:21.147358Z\", \"duration\": \"0:01:07\", \"iteration\": \"23\", \"goal\": \"AUC_weighted_max\", \"run_name\": \"MaxAbsScaler, LightGBM\", \"run_properties\": \"copy=True\", \"primary_metric\": 0.81522085, \"best_metric\": 0.83662103}, {\"run_id\": \"AutoML_06d9c41d-615e-47e9-9e7a-a1f1e5c142c7_24\", \"run_number\": 29, \"metric\": null, \"status\": \"Completed\", \"run_type\": \"azureml.scriptrun\", \"training_percent\": \"100\", \"start_time\": \"2021-02-08T05:53:37.373874Z\", \"end_time\": \"2021-02-08T05:54:23.71793Z\", \"created_time\": \"2021-02-08T05:53:25.267713Z\", \"created_time_dt\": \"2021-02-08T05:53:25.267713Z\", \"duration\": \"0:00:58\", \"iteration\": \"24\", \"goal\": \"AUC_weighted_max\", \"run_name\": \"SparseNormalizer, LightGBM\", \"run_properties\": \"<azureml.automl.runtime.shared.model_wrappers.SparseNormalizer object at 0x7f3f08a33f28\", \"primary_metric\": 0.72574416, \"best_metric\": 0.83662103}, {\"run_id\": \"AutoML_06d9c41d-615e-47e9-9e7a-a1f1e5c142c7_25\", \"run_number\": 30, \"metric\": null, \"status\": \"Completed\", \"run_type\": \"azureml.scriptrun\", \"training_percent\": \"100\", \"start_time\": \"2021-02-08T05:53:48.692983Z\", \"end_time\": \"2021-02-08T05:54:44.291821Z\", \"created_time\": \"2021-02-08T05:53:36.562888Z\", \"created_time_dt\": \"2021-02-08T05:53:36.562888Z\", \"duration\": \"0:01:07\", \"iteration\": \"25\", \"goal\": \"AUC_weighted_max\", \"run_name\": \"SparseNormalizer, XGBoostClassifier\", \"run_properties\": \"<azureml.automl.runtime.shared.model_wrappers.SparseNormalizer object at 0x7f3a1ffb7d68\", \"primary_metric\": 0.73424203, \"best_metric\": 0.83662103}, {\"run_id\": \"AutoML_06d9c41d-615e-47e9-9e7a-a1f1e5c142c7_26\", \"run_number\": 31, \"metric\": null, \"status\": \"Completed\", \"run_type\": \"azureml.scriptrun\", \"training_percent\": \"100\", \"start_time\": \"2021-02-08T05:54:38.157334Z\", \"end_time\": \"2021-02-08T05:55:35.610202Z\", \"created_time\": \"2021-02-08T05:54:26.021983Z\", \"created_time_dt\": \"2021-02-08T05:54:26.021983Z\", \"duration\": \"0:01:09\", \"iteration\": \"26\", \"goal\": \"AUC_weighted_max\", \"run_name\": \"StandardScalerWrapper, XGBoostClassifier\", \"run_properties\": \"<azureml.automl.runtime.shared.model_wrappers.StandardScalerWrapper object at 0x7f312a8bdda0\", \"primary_metric\": 0.81265617, \"best_metric\": 0.83662103}, {\"run_id\": \"AutoML_06d9c41d-615e-47e9-9e7a-a1f1e5c142c7_27\", \"run_number\": 32, \"metric\": null, \"status\": \"Completed\", \"run_type\": \"azureml.scriptrun\", \"training_percent\": \"100\", \"start_time\": \"2021-02-08T05:54:44.405728Z\", \"end_time\": \"2021-02-08T05:55:43.132186Z\", \"created_time\": \"2021-02-08T05:54:31.43542Z\", \"created_time_dt\": \"2021-02-08T05:54:31.43542Z\", \"duration\": \"0:01:11\", \"iteration\": \"27\", \"goal\": \"AUC_weighted_max\", \"run_name\": \"StandardScalerWrapper, RandomForest\", \"run_properties\": \"<azureml.automl.runtime.shared.model_wrappers.StandardScalerWrapper object at 0x7fa609509d30\", \"primary_metric\": 0.82520283, \"best_metric\": 0.83662103}, {\"run_id\": \"AutoML_06d9c41d-615e-47e9-9e7a-a1f1e5c142c7_28\", \"run_number\": 33, \"metric\": null, \"status\": \"Completed\", \"run_type\": \"azureml.scriptrun\", \"training_percent\": \"100\", \"start_time\": \"2021-02-08T05:54:59.484068Z\", \"end_time\": \"2021-02-08T05:55:49.936904Z\", \"created_time\": \"2021-02-08T05:54:47.417528Z\", \"created_time_dt\": \"2021-02-08T05:54:47.417528Z\", \"duration\": \"0:01:02\", \"iteration\": \"28\", \"goal\": \"AUC_weighted_max\", \"run_name\": \"MaxAbsScaler, SGD\", \"run_properties\": \"copy=True\", \"primary_metric\": 0.81288711, \"best_metric\": 0.83662103}, {\"run_id\": \"AutoML_06d9c41d-615e-47e9-9e7a-a1f1e5c142c7_29\", \"run_number\": 34, \"metric\": null, \"status\": \"Completed\", \"run_type\": \"azureml.scriptrun\", \"training_percent\": \"100\", \"start_time\": \"2021-02-08T05:55:52.579309Z\", \"end_time\": \"2021-02-08T05:56:47.901398Z\", \"created_time\": \"2021-02-08T05:55:38.988216Z\", \"created_time_dt\": \"2021-02-08T05:55:38.988216Z\", \"duration\": \"0:01:08\", \"iteration\": \"29\", \"goal\": \"AUC_weighted_max\", \"run_name\": \"MaxAbsScaler, LogisticRegression\", \"run_properties\": \"copy=True\", \"primary_metric\": 0.82164726, \"best_metric\": 0.83662103}, {\"run_id\": \"AutoML_06d9c41d-615e-47e9-9e7a-a1f1e5c142c7_30\", \"run_number\": 35, \"metric\": null, \"status\": \"Completed\", \"run_type\": \"azureml.scriptrun\", \"training_percent\": \"100\", \"start_time\": \"2021-02-08T05:56:00.913799Z\", \"end_time\": \"2021-02-08T05:56:53.216884Z\", \"created_time\": \"2021-02-08T05:55:46.48869Z\", \"created_time_dt\": \"2021-02-08T05:55:46.48869Z\", \"duration\": \"0:01:06\", \"iteration\": \"30\", \"goal\": \"AUC_weighted_max\", \"run_name\": \"StandardScalerWrapper, XGBoostClassifier\", \"run_properties\": \"<azureml.automl.runtime.shared.model_wrappers.StandardScalerWrapper object at 0x7f0e2d0a5128\", \"primary_metric\": 0.80805437, \"best_metric\": 0.83662103}, {\"run_id\": \"AutoML_06d9c41d-615e-47e9-9e7a-a1f1e5c142c7_31\", \"run_number\": 36, \"metric\": null, \"status\": \"Completed\", \"run_type\": \"azureml.scriptrun\", \"training_percent\": \"100\", \"start_time\": \"2021-02-08T05:56:02.550583Z\", \"end_time\": \"2021-02-08T05:56:59.892966Z\", \"created_time\": \"2021-02-08T05:55:52.327207Z\", \"created_time_dt\": \"2021-02-08T05:55:52.327207Z\", \"duration\": \"0:01:07\", \"iteration\": \"31\", \"goal\": \"AUC_weighted_max\", \"run_name\": \"StandardScalerWrapper, XGBoostClassifier\", \"run_properties\": \"<azureml.automl.runtime.shared.model_wrappers.StandardScalerWrapper object at 0x7f1031730278\", \"primary_metric\": 0.82984727, \"best_metric\": 0.83662103}, {\"run_id\": \"AutoML_06d9c41d-615e-47e9-9e7a-a1f1e5c142c7_32\", \"run_number\": 37, \"metric\": null, \"status\": \"Canceled\", \"run_type\": \"azureml.scriptrun\", \"training_percent\": \"100\", \"start_time\": \"2021-02-08T05:56:50.402585Z\", \"end_time\": \"2021-02-08T05:57:09.165552Z\", \"created_time\": \"2021-02-08T05:56:50.402585Z\", \"created_time_dt\": \"2021-02-08T05:56:50.402585Z\", \"duration\": \"0:00:18\", \"iteration\": \"32\", \"goal\": null, \"run_name\": \"Canceled\", \"run_properties\": null}, {\"run_id\": \"AutoML_06d9c41d-615e-47e9-9e7a-a1f1e5c142c7_33\", \"run_number\": 38, \"metric\": null, \"status\": \"Canceled\", \"run_type\": \"azureml.scriptrun\", \"training_percent\": \"100\", \"start_time\": \"2021-02-08T05:56:55.624187Z\", \"end_time\": \"2021-02-08T05:57:15.428264Z\", \"created_time\": \"2021-02-08T05:56:55.624187Z\", \"created_time_dt\": \"2021-02-08T05:56:55.624187Z\", \"duration\": \"0:00:19\", \"iteration\": \"33\", \"goal\": null, \"run_name\": \"Canceled\", \"run_properties\": null}, {\"run_id\": \"AutoML_06d9c41d-615e-47e9-9e7a-a1f1e5c142c7_34\", \"run_number\": 39, \"metric\": null, \"status\": \"Completed\", \"run_type\": \"azureml.scriptrun\", \"training_percent\": \"100\", \"start_time\": \"2021-02-08T05:57:28.393739Z\", \"end_time\": \"2021-02-08T05:59:18.276361Z\", \"created_time\": \"2021-02-08T05:57:16.81905Z\", \"created_time_dt\": \"2021-02-08T05:57:16.81905Z\", \"duration\": \"0:02:01\", \"iteration\": \"34\", \"goal\": \"AUC_weighted_max\", \"run_name\": \"VotingEnsemble\", \"run_properties\": \"classification_labels=None,\\n                              estimators=[('1',\\n                                           Pipeline(memory=None,\\n                                                    steps=[('maxabsscaler',\\n                                                            MaxAbsScaler(copy=True\", \"primary_metric\": 0.84603772, \"best_metric\": 0.84603772}, {\"run_id\": \"AutoML_06d9c41d-615e-47e9-9e7a-a1f1e5c142c7_35\", \"run_number\": 40, \"metric\": null, \"status\": \"Completed\", \"run_type\": \"azureml.scriptrun\", \"training_percent\": \"100\", \"start_time\": \"2021-02-08T05:57:30.230115Z\", \"end_time\": \"2021-02-08T05:59:29.126343Z\", \"created_time\": \"2021-02-08T05:57:17.031553Z\", \"created_time_dt\": \"2021-02-08T05:57:17.031553Z\", \"duration\": \"0:02:12\", \"iteration\": \"35\", \"goal\": \"AUC_weighted_max\", \"run_name\": \"StackEnsemble\", \"run_properties\": \"base_learners=[('1',\\n                                        Pipeline(memory=None,\\n                                                 steps=[('maxabsscaler',\\n                                                         MaxAbsScaler(copy=True\", \"primary_metric\": 0.84186416, \"best_metric\": 0.84603772}], \"children_metrics\": {\"categories\": [0], \"series\": {\"AUC_micro\": [{\"categories\": [\"0\", \"1\", \"2\", \"3\", \"4\", \"5\", \"6\", \"7\", \"8\", \"9\", \"10\", \"11\", \"12\", \"13\", \"14\", \"15\", \"16\", \"17\", \"18\", \"19\", \"20\", \"21\", \"22\", \"23\", \"24\", \"25\", \"26\", \"27\", \"28\", \"29\", \"30\", \"31\", \"34\", \"35\"], \"mode\": \"markers\", \"name\": \"AUC_micro\", \"stepped\": false, \"type\": \"scatter\", \"data\": [0.8242456616125537, 0.8556880349836874, 0.8455009334838992, 0.8378805155793231, 0.831807777654227, 0.8363530599163042, 0.8315441724067206, 0.8089460800917972, 0.7823544912115621, 0.7847531751534431, 0.8024054438743974, 0.803216463492977, 0.7774910920733762, 0.844475000572331, 0.8352198966626782, 0.8418931180791723, 0.8195235582042162, 0.8084100422637404, 0.8053209516676796, 0.8451741060770364, 0.835504605163876, 0.8393107946573698, 0.8513651326009674, 0.8381858893256255, 0.7614873679491714, 0.7801606463651828, 0.8338311699991918, 0.8447528965799822, 0.8299034477232665, 0.846795053212787, 0.8319487346574352, 0.8497669735919369, 0.8628562995446112, 0.8539458937921452]}, {\"categories\": [\"0\", \"1\", \"2\", \"3\", \"4\", \"5\", \"6\", \"7\", \"8\", \"9\", \"10\", \"11\", \"12\", \"13\", \"14\", \"15\", \"16\", \"17\", \"18\", \"19\", \"20\", \"21\", \"22\", \"23\", \"24\", \"25\", \"26\", \"27\", \"28\", \"29\", \"30\", \"31\", \"34\", \"35\"], \"mode\": \"lines\", \"name\": \"AUC_micro_max\", \"stepped\": true, \"type\": \"scatter\", \"data\": [0.8242456616125537, 0.8556880349836874, 0.8556880349836874, 0.8556880349836874, 0.8556880349836874, 0.8556880349836874, 0.8556880349836874, 0.8556880349836874, 0.8556880349836874, 0.8556880349836874, 0.8556880349836874, 0.8556880349836874, 0.8556880349836874, 0.8556880349836874, 0.8556880349836874, 0.8556880349836874, 0.8556880349836874, 0.8556880349836874, 0.8556880349836874, 0.8556880349836874, 0.8556880349836874, 0.8556880349836874, 0.8556880349836874, 0.8556880349836874, 0.8556880349836874, 0.8556880349836874, 0.8556880349836874, 0.8556880349836874, 0.8556880349836874, 0.8556880349836874, 0.8556880349836874, 0.8556880349836874, 0.8628562995446112, 0.8628562995446112]}], \"f1_score_macro\": [{\"categories\": [\"0\", \"1\", \"2\", \"3\", \"4\", \"5\", \"6\", \"7\", \"8\", \"9\", \"10\", \"11\", \"12\", \"13\", \"14\", \"15\", \"16\", \"17\", \"18\", \"19\", \"20\", \"21\", \"22\", \"23\", \"24\", \"25\", \"26\", \"27\", \"28\", \"29\", \"30\", \"31\", \"34\", \"35\"], \"mode\": \"markers\", \"name\": \"f1_score_macro\", \"stepped\": false, \"type\": \"scatter\", \"data\": [0.7060869524729553, 0.7386733613551352, 0.7275795190966227, 0.7310238831072997, 0.6888619084564207, 0.6962367331400261, 0.6994319472234973, 0.6199683992530035, 0.444556937934071, 0.6850509152475425, 0.6976311551670437, 0.7125327479033906, 0.6836755152040564, 0.7133648428740039, 0.7096026054102567, 0.6907570579304068, 0.7107638724825994, 0.6947253468732366, 0.720089699323702, 0.7323429719874582, 0.7103741857447166, 0.7257953980090168, 0.7219857330902391, 0.7080983085986131, 0.5534568945117958, 0.6565005125617356, 0.705075327147772, 0.7113614783444306, 0.7131375427341626, 0.7269881458326962, 0.713108491758365, 0.7339091535370454, 0.7393403919491133, 0.7062678448932574]}, {\"categories\": [\"0\", \"1\", \"2\", \"3\", \"4\", \"5\", \"6\", \"7\", \"8\", \"9\", \"10\", \"11\", \"12\", \"13\", \"14\", \"15\", \"16\", \"17\", \"18\", \"19\", \"20\", \"21\", \"22\", \"23\", \"24\", \"25\", \"26\", \"27\", \"28\", \"29\", \"30\", \"31\", \"34\", \"35\"], \"mode\": \"lines\", \"name\": \"f1_score_macro_max\", \"stepped\": true, \"type\": \"scatter\", \"data\": [0.7060869524729553, 0.7386733613551352, 0.7386733613551352, 0.7386733613551352, 0.7386733613551352, 0.7386733613551352, 0.7386733613551352, 0.7386733613551352, 0.7386733613551352, 0.7386733613551352, 0.7386733613551352, 0.7386733613551352, 0.7386733613551352, 0.7386733613551352, 0.7386733613551352, 0.7386733613551352, 0.7386733613551352, 0.7386733613551352, 0.7386733613551352, 0.7386733613551352, 0.7386733613551352, 0.7386733613551352, 0.7386733613551352, 0.7386733613551352, 0.7386733613551352, 0.7386733613551352, 0.7386733613551352, 0.7386733613551352, 0.7386733613551352, 0.7386733613551352, 0.7386733613551352, 0.7386733613551352, 0.7393403919491133, 0.7393403919491133]}], \"accuracy\": [{\"categories\": [\"0\", \"1\", \"2\", \"3\", \"4\", \"5\", \"6\", \"7\", \"8\", \"9\", \"10\", \"11\", \"12\", \"13\", \"14\", \"15\", \"16\", \"17\", \"18\", \"19\", \"20\", \"21\", \"22\", \"23\", \"24\", \"25\", \"26\", \"27\", \"28\", \"29\", \"30\", \"31\", \"34\", \"35\"], \"mode\": \"markers\", \"name\": \"accuracy\", \"stepped\": false, \"type\": \"scatter\", \"data\": [0.7396103896103897, 0.7695659603554341, 0.7721462747778537, 0.7500512645249486, 0.7539302802460697, 0.7512987012987014, 0.7603725222146275, 0.7200273410799726, 0.6626794258373205, 0.7058270676691729, 0.7160970608339029, 0.7239917976760081, 0.7017600820232399, 0.7565618591934381, 0.7577580314422421, 0.7474196855775802, 0.7332365003417635, 0.7149521531100478, 0.7357313738892687, 0.7656356801093642, 0.746120984278879, 0.7591079972658921, 0.7591934381408066, 0.7448906356801095, 0.675768967874231, 0.7161312371838686, 0.7512816131237183, 0.7525974025974026, 0.7539644565960355, 0.7683014354066987, 0.7474196855775802, 0.7643882433356118, 0.774812030075188, 0.7631066302118935]}, {\"categories\": [\"0\", \"1\", \"2\", \"3\", \"4\", \"5\", \"6\", \"7\", \"8\", \"9\", \"10\", \"11\", \"12\", \"13\", \"14\", \"15\", \"16\", \"17\", \"18\", \"19\", \"20\", \"21\", \"22\", \"23\", \"24\", \"25\", \"26\", \"27\", \"28\", \"29\", \"30\", \"31\", \"34\", \"35\"], \"mode\": \"lines\", \"name\": \"accuracy_max\", \"stepped\": true, \"type\": \"scatter\", \"data\": [0.7396103896103897, 0.7695659603554341, 0.7721462747778537, 0.7721462747778537, 0.7721462747778537, 0.7721462747778537, 0.7721462747778537, 0.7721462747778537, 0.7721462747778537, 0.7721462747778537, 0.7721462747778537, 0.7721462747778537, 0.7721462747778537, 0.7721462747778537, 0.7721462747778537, 0.7721462747778537, 0.7721462747778537, 0.7721462747778537, 0.7721462747778537, 0.7721462747778537, 0.7721462747778537, 0.7721462747778537, 0.7721462747778537, 0.7721462747778537, 0.7721462747778537, 0.7721462747778537, 0.7721462747778537, 0.7721462747778537, 0.7721462747778537, 0.7721462747778537, 0.7721462747778537, 0.7721462747778537, 0.774812030075188, 0.774812030075188]}], \"precision_score_macro\": [{\"categories\": [\"0\", \"1\", \"2\", \"3\", \"4\", \"5\", \"6\", \"7\", \"8\", \"9\", \"10\", \"11\", \"12\", \"13\", \"14\", \"15\", \"16\", \"17\", \"18\", \"19\", \"20\", \"21\", \"22\", \"23\", \"24\", \"25\", \"26\", \"27\", \"28\", \"29\", \"30\", \"31\", \"34\", \"35\"], \"mode\": \"markers\", \"name\": \"precision_score_macro\", \"stepped\": false, \"type\": \"scatter\", \"data\": [0.7112261247846459, 0.7448891884111544, 0.7575705416065179, 0.7287973592265601, 0.7534214561795748, 0.7360336089229531, 0.7564563211646956, 0.7287052994460967, 0.5766241600300315, 0.6874864872805764, 0.6986026669880745, 0.7208106352317241, 0.6843169335859909, 0.7365605949242839, 0.738708088836514, 0.7361744237171242, 0.712310322577536, 0.6962922749645634, 0.7218202399663864, 0.7396391393586124, 0.7211120271690014, 0.7322794801213324, 0.7347046784537198, 0.718134752697632, 0.6319177727835479, 0.6899936307083482, 0.7295088530078773, 0.7297172720785223, 0.7416177241308661, 0.7487930726847549, 0.7184301674217951, 0.7403965681149594, 0.7529982656419775, 0.7505372948081684]}, {\"categories\": [\"0\", \"1\", \"2\", \"3\", \"4\", \"5\", \"6\", \"7\", \"8\", \"9\", \"10\", \"11\", \"12\", \"13\", \"14\", \"15\", \"16\", \"17\", \"18\", \"19\", \"20\", \"21\", \"22\", \"23\", \"24\", \"25\", \"26\", \"27\", \"28\", \"29\", \"30\", \"31\", \"34\", \"35\"], \"mode\": \"lines\", \"name\": \"precision_score_macro_max\", \"stepped\": true, \"type\": \"scatter\", \"data\": [0.7112261247846459, 0.7448891884111544, 0.7575705416065179, 0.7575705416065179, 0.7575705416065179, 0.7575705416065179, 0.7575705416065179, 0.7575705416065179, 0.7575705416065179, 0.7575705416065179, 0.7575705416065179, 0.7575705416065179, 0.7575705416065179, 0.7575705416065179, 0.7575705416065179, 0.7575705416065179, 0.7575705416065179, 0.7575705416065179, 0.7575705416065179, 0.7575705416065179, 0.7575705416065179, 0.7575705416065179, 0.7575705416065179, 0.7575705416065179, 0.7575705416065179, 0.7575705416065179, 0.7575705416065179, 0.7575705416065179, 0.7575705416065179, 0.7575705416065179, 0.7575705416065179, 0.7575705416065179, 0.7575705416065179, 0.7575705416065179]}], \"recall_score_micro\": [{\"categories\": [\"0\", \"1\", \"2\", \"3\", \"4\", \"5\", \"6\", \"7\", \"8\", \"9\", \"10\", \"11\", \"12\", \"13\", \"14\", \"15\", \"16\", \"17\", \"18\", \"19\", \"20\", \"21\", \"22\", \"23\", \"24\", \"25\", \"26\", \"27\", \"28\", \"29\", \"30\", \"31\", \"34\", \"35\"], \"mode\": \"markers\", \"name\": \"recall_score_micro\", \"stepped\": false, \"type\": \"scatter\", \"data\": [0.7396103896103897, 0.7695659603554341, 0.7721462747778537, 0.7500512645249486, 0.7539302802460697, 0.7512987012987014, 0.7603725222146275, 0.7200273410799726, 0.6626794258373205, 0.7058270676691729, 0.7160970608339029, 0.7239917976760081, 0.7017600820232399, 0.7565618591934381, 0.7577580314422421, 0.7474196855775802, 0.7332365003417635, 0.7149521531100478, 0.7357313738892687, 0.7656356801093642, 0.746120984278879, 0.7591079972658921, 0.7591934381408066, 0.7448906356801095, 0.675768967874231, 0.7161312371838686, 0.7512816131237183, 0.7525974025974026, 0.7539644565960355, 0.7683014354066987, 0.7474196855775802, 0.7643882433356118, 0.774812030075188, 0.7631066302118935]}, {\"categories\": [\"0\", \"1\", \"2\", \"3\", \"4\", \"5\", \"6\", \"7\", \"8\", \"9\", \"10\", \"11\", \"12\", \"13\", \"14\", \"15\", \"16\", \"17\", \"18\", \"19\", \"20\", \"21\", \"22\", \"23\", \"24\", \"25\", \"26\", \"27\", \"28\", \"29\", \"30\", \"31\", \"34\", \"35\"], \"mode\": \"lines\", \"name\": \"recall_score_micro_max\", \"stepped\": true, \"type\": \"scatter\", \"data\": [0.7396103896103897, 0.7695659603554341, 0.7721462747778537, 0.7721462747778537, 0.7721462747778537, 0.7721462747778537, 0.7721462747778537, 0.7721462747778537, 0.7721462747778537, 0.7721462747778537, 0.7721462747778537, 0.7721462747778537, 0.7721462747778537, 0.7721462747778537, 0.7721462747778537, 0.7721462747778537, 0.7721462747778537, 0.7721462747778537, 0.7721462747778537, 0.7721462747778537, 0.7721462747778537, 0.7721462747778537, 0.7721462747778537, 0.7721462747778537, 0.7721462747778537, 0.7721462747778537, 0.7721462747778537, 0.7721462747778537, 0.7721462747778537, 0.7721462747778537, 0.7721462747778537, 0.7721462747778537, 0.774812030075188, 0.774812030075188]}], \"log_loss\": [{\"categories\": [\"0\", \"1\", \"2\", \"3\", \"4\", \"5\", \"6\", \"7\", \"8\", \"9\", \"10\", \"11\", \"12\", \"13\", \"14\", \"15\", \"16\", \"17\", \"18\", \"19\", \"20\", \"21\", \"22\", \"23\", \"24\", \"25\", \"26\", \"27\", \"28\", \"29\", \"30\", \"31\", \"34\", \"35\"], \"mode\": \"markers\", \"name\": \"log_loss\", \"stepped\": false, \"type\": \"scatter\", \"data\": [0.6480770950597856, 0.4752990014529053, 0.49498548107386775, 0.508526240390205, 0.5202010291079502, 0.5031959584653751, 0.5159179670478878, 0.5416962293850692, 0.5834079390645213, 0.6342467421918332, 0.5669197010035795, 0.5771463255046749, 0.6528712341356608, 0.5399900419024505, 0.5021532250063759, 0.5026355107705278, 0.5501894100047876, 0.5713475939203376, 0.5856371339003269, 0.4925117186247898, 0.5490501417451764, 0.5243508876759967, 0.481328576198746, 0.5201432773723467, 0.5800555342624145, 0.5654478578945731, 0.5468321409541537, 0.49370442682497123, 0.5470164563411125, 0.4889528380336605, 0.5563419884593757, 0.4953372290721231, 0.4875559737001519, 0.4843234082743601]}, {\"categories\": [\"0\", \"1\", \"2\", \"3\", \"4\", \"5\", \"6\", \"7\", \"8\", \"9\", \"10\", \"11\", \"12\", \"13\", \"14\", \"15\", \"16\", \"17\", \"18\", \"19\", \"20\", \"21\", \"22\", \"23\", \"24\", \"25\", \"26\", \"27\", \"28\", \"29\", \"30\", \"31\", \"34\", \"35\"], \"mode\": \"lines\", \"name\": \"log_loss_min\", \"stepped\": true, \"type\": \"scatter\", \"data\": [0.6480770950597856, 0.4752990014529053, 0.4752990014529053, 0.4752990014529053, 0.4752990014529053, 0.4752990014529053, 0.4752990014529053, 0.4752990014529053, 0.4752990014529053, 0.4752990014529053, 0.4752990014529053, 0.4752990014529053, 0.4752990014529053, 0.4752990014529053, 0.4752990014529053, 0.4752990014529053, 0.4752990014529053, 0.4752990014529053, 0.4752990014529053, 0.4752990014529053, 0.4752990014529053, 0.4752990014529053, 0.4752990014529053, 0.4752990014529053, 0.4752990014529053, 0.4752990014529053, 0.4752990014529053, 0.4752990014529053, 0.4752990014529053, 0.4752990014529053, 0.4752990014529053, 0.4752990014529053, 0.4752990014529053, 0.4752990014529053]}], \"recall_score_macro\": [{\"categories\": [\"0\", \"1\", \"2\", \"3\", \"4\", \"5\", \"6\", \"7\", \"8\", \"9\", \"10\", \"11\", \"12\", \"13\", \"14\", \"15\", \"16\", \"17\", \"18\", \"19\", \"20\", \"21\", \"22\", \"23\", \"24\", \"25\", \"26\", \"27\", \"28\", \"29\", \"30\", \"31\", \"34\", \"35\"], \"mode\": \"markers\", \"name\": \"recall_score_macro\", \"stepped\": false, \"type\": \"scatter\", \"data\": [0.7053588221478819, 0.7368196523334581, 0.7191754163523044, 0.7420089427556125, 0.6795275932918782, 0.6888199376450589, 0.6889696452568834, 0.6238746702414655, 0.5252687250058943, 0.698605890454816, 0.7137807173525419, 0.7401914454687516, 0.6988924079168923, 0.7066421706909842, 0.7027548526401712, 0.6833811843226633, 0.7240761730883104, 0.7083105268634375, 0.740106881627818, 0.7292912489194303, 0.708226466134825, 0.724047222468623, 0.7179292458404329, 0.705585176022082, 0.5748540372451496, 0.6516367961182358, 0.6976899975757002, 0.705622576496441, 0.7110173832887424, 0.719521237741496, 0.7113212495714761, 0.7338151230656906, 0.7341960586813677, 0.7033700076934013]}, {\"categories\": [\"0\", \"1\", \"2\", \"3\", \"4\", \"5\", \"6\", \"7\", \"8\", \"9\", \"10\", \"11\", \"12\", \"13\", \"14\", \"15\", \"16\", \"17\", \"18\", \"19\", \"20\", \"21\", \"22\", \"23\", \"24\", \"25\", \"26\", \"27\", \"28\", \"29\", \"30\", \"31\", \"34\", \"35\"], \"mode\": \"lines\", \"name\": \"recall_score_macro_max\", \"stepped\": true, \"type\": \"scatter\", \"data\": [0.7053588221478819, 0.7368196523334581, 0.7368196523334581, 0.7420089427556125, 0.7420089427556125, 0.7420089427556125, 0.7420089427556125, 0.7420089427556125, 0.7420089427556125, 0.7420089427556125, 0.7420089427556125, 0.7420089427556125, 0.7420089427556125, 0.7420089427556125, 0.7420089427556125, 0.7420089427556125, 0.7420089427556125, 0.7420089427556125, 0.7420089427556125, 0.7420089427556125, 0.7420089427556125, 0.7420089427556125, 0.7420089427556125, 0.7420089427556125, 0.7420089427556125, 0.7420089427556125, 0.7420089427556125, 0.7420089427556125, 0.7420089427556125, 0.7420089427556125, 0.7420089427556125, 0.7420089427556125, 0.7420089427556125, 0.7420089427556125]}], \"weighted_accuracy\": [{\"categories\": [\"0\", \"1\", \"2\", \"3\", \"4\", \"5\", \"6\", \"7\", \"8\", \"9\", \"10\", \"11\", \"12\", \"13\", \"14\", \"15\", \"16\", \"17\", \"18\", \"19\", \"20\", \"21\", \"22\", \"23\", \"24\", \"25\", \"26\", \"27\", \"28\", \"29\", \"30\", \"31\", \"34\", \"35\"], \"mode\": \"markers\", \"name\": \"weighted_accuracy\", \"stepped\": false, \"type\": \"scatter\", \"data\": [0.7658219048734536, 0.7945054420815822, 0.8125743490730217, 0.7556460241243805, 0.8114695494763267, 0.7998149457809194, 0.8152537168588896, 0.7946720708336676, 0.7711232757528249, 0.7106214158266171, 0.7165604766623075, 0.7139445073342644, 0.703499000717735, 0.7947134642091852, 0.7994694118459471, 0.7970961103614649, 0.7388260328438305, 0.7190021192017046, 0.7322681483138447, 0.7923072490351333, 0.7752159501425506, 0.785399388693536, 0.7901618529545623, 0.7737974914965314, 0.7552658386106905, 0.7652942757804686, 0.7921448699416143, 0.7885183962397126, 0.7847156214746172, 0.8055427754007946, 0.7745424230090013, 0.7876656489043206, 0.8044868875920065, 0.808570950654599]}, {\"categories\": [\"0\", \"1\", \"2\", \"3\", \"4\", \"5\", \"6\", \"7\", \"8\", \"9\", \"10\", \"11\", \"12\", \"13\", \"14\", \"15\", \"16\", \"17\", \"18\", \"19\", \"20\", \"21\", \"22\", \"23\", \"24\", \"25\", \"26\", \"27\", \"28\", \"29\", \"30\", \"31\", \"34\", \"35\"], \"mode\": \"lines\", \"name\": \"weighted_accuracy_max\", \"stepped\": true, \"type\": \"scatter\", \"data\": [0.7658219048734536, 0.7945054420815822, 0.8125743490730217, 0.8125743490730217, 0.8125743490730217, 0.8125743490730217, 0.8152537168588896, 0.8152537168588896, 0.8152537168588896, 0.8152537168588896, 0.8152537168588896, 0.8152537168588896, 0.8152537168588896, 0.8152537168588896, 0.8152537168588896, 0.8152537168588896, 0.8152537168588896, 0.8152537168588896, 0.8152537168588896, 0.8152537168588896, 0.8152537168588896, 0.8152537168588896, 0.8152537168588896, 0.8152537168588896, 0.8152537168588896, 0.8152537168588896, 0.8152537168588896, 0.8152537168588896, 0.8152537168588896, 0.8152537168588896, 0.8152537168588896, 0.8152537168588896, 0.8152537168588896, 0.8152537168588896]}], \"average_precision_score_weighted\": [{\"categories\": [\"0\", \"1\", \"2\", \"3\", \"4\", \"5\", \"6\", \"7\", \"8\", \"9\", \"10\", \"11\", \"12\", \"13\", \"14\", \"15\", \"16\", \"17\", \"18\", \"19\", \"20\", \"21\", \"22\", \"23\", \"24\", \"25\", \"26\", \"27\", \"28\", \"29\", \"30\", \"31\", \"34\", \"35\"], \"mode\": \"markers\", \"name\": \"average_precision_score_weighted\", \"stepped\": false, \"type\": \"scatter\", \"data\": [0.8088900198552287, 0.8456601055549087, 0.8387887112618122, 0.836587939202522, 0.8337291564710286, 0.8324461253487125, 0.8354506951411265, 0.8217958860576324, 0.8118801351999544, 0.7998396732523402, 0.8121595056424364, 0.8185323191226681, 0.7988786962765239, 0.8362007182476587, 0.8241074888451745, 0.8398017116310313, 0.8317366362173042, 0.8234093098165246, 0.820196236960647, 0.8353056656890262, 0.8253850658441383, 0.8271530854832049, 0.8410095977435882, 0.8266773135730267, 0.7461439287718881, 0.7623271668766703, 0.8166568935320472, 0.8392626554058454, 0.8259701969164194, 0.8350276855898116, 0.8234329403048534, 0.8366171171379992, 0.8556812446195872, 0.8523726338366874]}, {\"categories\": [\"0\", \"1\", \"2\", \"3\", \"4\", \"5\", \"6\", \"7\", \"8\", \"9\", \"10\", \"11\", \"12\", \"13\", \"14\", \"15\", \"16\", \"17\", \"18\", \"19\", \"20\", \"21\", \"22\", \"23\", \"24\", \"25\", \"26\", \"27\", \"28\", \"29\", \"30\", \"31\", \"34\", \"35\"], \"mode\": \"lines\", \"name\": \"average_precision_score_weighted_max\", \"stepped\": true, \"type\": \"scatter\", \"data\": [0.8088900198552287, 0.8456601055549087, 0.8456601055549087, 0.8456601055549087, 0.8456601055549087, 0.8456601055549087, 0.8456601055549087, 0.8456601055549087, 0.8456601055549087, 0.8456601055549087, 0.8456601055549087, 0.8456601055549087, 0.8456601055549087, 0.8456601055549087, 0.8456601055549087, 0.8456601055549087, 0.8456601055549087, 0.8456601055549087, 0.8456601055549087, 0.8456601055549087, 0.8456601055549087, 0.8456601055549087, 0.8456601055549087, 0.8456601055549087, 0.8456601055549087, 0.8456601055549087, 0.8456601055549087, 0.8456601055549087, 0.8456601055549087, 0.8456601055549087, 0.8456601055549087, 0.8456601055549087, 0.8556812446195872, 0.8556812446195872]}], \"precision_score_weighted\": [{\"categories\": [\"0\", \"1\", \"2\", \"3\", \"4\", \"5\", \"6\", \"7\", \"8\", \"9\", \"10\", \"11\", \"12\", \"13\", \"14\", \"15\", \"16\", \"17\", \"18\", \"19\", \"20\", \"21\", \"22\", \"23\", \"24\", \"25\", \"26\", \"27\", \"28\", \"29\", \"30\", \"31\", \"34\", \"35\"], \"mode\": \"markers\", \"name\": \"precision_score_weighted\", \"stepped\": false, \"type\": \"scatter\", \"data\": [0.7396148182527014, 0.7692657656068833, 0.770560002213925, 0.7656895656157946, 0.7584148153656323, 0.7507364067545077, 0.7625539696075767, 0.7306614397326718, 0.5979567985931132, 0.730427062368321, 0.7413810670292782, 0.767327646708987, 0.728187211184807, 0.7552237707775337, 0.7572061828596632, 0.7486780812629992, 0.7534279036415181, 0.7389495969359104, 0.7663968948897308, 0.7631865534306315, 0.7470513241044096, 0.7589928420361292, 0.7597847390466947, 0.7462686320677201, 0.6564125969932314, 0.7104525257914112, 0.7473999212892053, 0.7499521012864695, 0.7628940959452087, 0.767229524759855, 0.7465454524698903, 0.766965482354679, 0.7742227651651101, 0.7634708001257485]}, {\"categories\": [\"0\", \"1\", \"2\", \"3\", \"4\", \"5\", \"6\", \"7\", \"8\", \"9\", \"10\", \"11\", \"12\", \"13\", \"14\", \"15\", \"16\", \"17\", \"18\", \"19\", \"20\", \"21\", \"22\", \"23\", \"24\", \"25\", \"26\", \"27\", \"28\", \"29\", \"30\", \"31\", \"34\", \"35\"], \"mode\": \"lines\", \"name\": \"precision_score_weighted_max\", \"stepped\": true, \"type\": \"scatter\", \"data\": [0.7396148182527014, 0.7692657656068833, 0.770560002213925, 0.770560002213925, 0.770560002213925, 0.770560002213925, 0.770560002213925, 0.770560002213925, 0.770560002213925, 0.770560002213925, 0.770560002213925, 0.770560002213925, 0.770560002213925, 0.770560002213925, 0.770560002213925, 0.770560002213925, 0.770560002213925, 0.770560002213925, 0.770560002213925, 0.770560002213925, 0.770560002213925, 0.770560002213925, 0.770560002213925, 0.770560002213925, 0.770560002213925, 0.770560002213925, 0.770560002213925, 0.770560002213925, 0.770560002213925, 0.770560002213925, 0.770560002213925, 0.770560002213925, 0.7742227651651101, 0.7742227651651101]}], \"AUC_macro\": [{\"categories\": [\"0\", \"1\", \"2\", \"3\", \"4\", \"5\", \"6\", \"7\", \"8\", \"9\", \"10\", \"11\", \"12\", \"13\", \"14\", \"15\", \"16\", \"17\", \"18\", \"19\", \"20\", \"21\", \"22\", \"23\", \"24\", \"25\", \"26\", \"27\", \"28\", \"29\", \"30\", \"31\", \"34\", \"35\"], \"mode\": \"markers\", \"name\": \"AUC_macro\", \"stepped\": false, \"type\": \"scatter\", \"data\": [0.7981013916226355, 0.8366210317228242, 0.8256630835052837, 0.8285796469693146, 0.8216822404963888, 0.8177910118867056, 0.8160992657728539, 0.8055668337366007, 0.7906425735078565, 0.7788903390468186, 0.7954175604395686, 0.8111539481083547, 0.7769142767186511, 0.8208075252024681, 0.8144402862016342, 0.8275896144524877, 0.8196954404084085, 0.8033577797776534, 0.8092819747468271, 0.8240266352875374, 0.8132809201585477, 0.8161128629984556, 0.8314593290642994, 0.8152208505797622, 0.7257441629295641, 0.734242033716707, 0.8126561686834268, 0.8252028332544267, 0.8128871139909826, 0.8216472601287388, 0.808054374183355, 0.8298472723094127, 0.8460377241438211, 0.8418641622203621]}, {\"categories\": [\"0\", \"1\", \"2\", \"3\", \"4\", \"5\", \"6\", \"7\", \"8\", \"9\", \"10\", \"11\", \"12\", \"13\", \"14\", \"15\", \"16\", \"17\", \"18\", \"19\", \"20\", \"21\", \"22\", \"23\", \"24\", \"25\", \"26\", \"27\", \"28\", \"29\", \"30\", \"31\", \"34\", \"35\"], \"mode\": \"lines\", \"name\": \"AUC_macro_max\", \"stepped\": true, \"type\": \"scatter\", \"data\": [0.7981013916226355, 0.8366210317228242, 0.8366210317228242, 0.8366210317228242, 0.8366210317228242, 0.8366210317228242, 0.8366210317228242, 0.8366210317228242, 0.8366210317228242, 0.8366210317228242, 0.8366210317228242, 0.8366210317228242, 0.8366210317228242, 0.8366210317228242, 0.8366210317228242, 0.8366210317228242, 0.8366210317228242, 0.8366210317228242, 0.8366210317228242, 0.8366210317228242, 0.8366210317228242, 0.8366210317228242, 0.8366210317228242, 0.8366210317228242, 0.8366210317228242, 0.8366210317228242, 0.8366210317228242, 0.8366210317228242, 0.8366210317228242, 0.8366210317228242, 0.8366210317228242, 0.8366210317228242, 0.8460377241438211, 0.8460377241438211]}], \"matthews_correlation\": [{\"categories\": [\"0\", \"1\", \"2\", \"3\", \"4\", \"5\", \"6\", \"7\", \"8\", \"9\", \"10\", \"11\", \"12\", \"13\", \"14\", \"15\", \"16\", \"17\", \"18\", \"19\", \"20\", \"21\", \"22\", \"23\", \"24\", \"25\", \"26\", \"27\", \"28\", \"29\", \"30\", \"31\", \"34\", \"35\"], \"mode\": \"markers\", \"name\": \"matthews_correlation\", \"stepped\": false, \"type\": \"scatter\", \"data\": [0.4163237794803841, 0.4814237328189323, 0.4746287059676567, 0.47035669393802026, 0.4259842123197501, 0.42166721129140833, 0.4396792403571405, 0.3349977756522534, 0.11479635411892901, 0.38564362220071685, 0.41187883337094916, 0.46006591060087276, 0.38263488906373444, 0.4416434332541396, 0.4392118540965961, 0.4153564006343293, 0.4359336889695939, 0.40417022410764625, 0.4611960738857044, 0.46857938586539943, 0.42862188295384407, 0.456012284881378, 0.4519860782361248, 0.423054777853055, 0.1969649913878076, 0.3385051319868583, 0.42576120012511315, 0.43428145912940375, 0.4506649132920306, 0.4670443191339716, 0.42954639291110047, 0.47375087351202155, 0.4863806548756754, 0.44651926062085623]}, {\"categories\": [\"0\", \"1\", \"2\", \"3\", \"4\", \"5\", \"6\", \"7\", \"8\", \"9\", \"10\", \"11\", \"12\", \"13\", \"14\", \"15\", \"16\", \"17\", \"18\", \"19\", \"20\", \"21\", \"22\", \"23\", \"24\", \"25\", \"26\", \"27\", \"28\", \"29\", \"30\", \"31\", \"34\", \"35\"], \"mode\": \"lines\", \"name\": \"matthews_correlation_max\", \"stepped\": true, \"type\": \"scatter\", \"data\": [0.4163237794803841, 0.4814237328189323, 0.4814237328189323, 0.4814237328189323, 0.4814237328189323, 0.4814237328189323, 0.4814237328189323, 0.4814237328189323, 0.4814237328189323, 0.4814237328189323, 0.4814237328189323, 0.4814237328189323, 0.4814237328189323, 0.4814237328189323, 0.4814237328189323, 0.4814237328189323, 0.4814237328189323, 0.4814237328189323, 0.4814237328189323, 0.4814237328189323, 0.4814237328189323, 0.4814237328189323, 0.4814237328189323, 0.4814237328189323, 0.4814237328189323, 0.4814237328189323, 0.4814237328189323, 0.4814237328189323, 0.4814237328189323, 0.4814237328189323, 0.4814237328189323, 0.4814237328189323, 0.4863806548756754, 0.4863806548756754]}], \"f1_score_weighted\": [{\"categories\": [\"0\", \"1\", \"2\", \"3\", \"4\", \"5\", \"6\", \"7\", \"8\", \"9\", \"10\", \"11\", \"12\", \"13\", \"14\", \"15\", \"16\", \"17\", \"18\", \"19\", \"20\", \"21\", \"22\", \"23\", \"24\", \"25\", \"26\", \"27\", \"28\", \"29\", \"30\", \"31\", \"34\", \"35\"], \"mode\": \"markers\", \"name\": \"f1_score_weighted\", \"stepped\": false, \"type\": \"scatter\", \"data\": [0.7376523503026942, 0.7674902736086928, 0.7623348845509017, 0.7542098717696051, 0.7337517794866495, 0.7372537608057802, 0.7426036954089433, 0.6803908156533065, 0.5466895289585044, 0.7111407250390936, 0.721076176818847, 0.7300468783403335, 0.7081785290981326, 0.7489865561083529, 0.7481065740961708, 0.7320762043241331, 0.7367319571780201, 0.7202271149314995, 0.7417492107203316, 0.762640417488469, 0.7428570411811651, 0.7569847044829338, 0.7556759322863237, 0.7423193533904254, 0.6245813033329675, 0.7015298480693773, 0.7420865564870891, 0.7459462405498367, 0.7467962320388859, 0.7616138800799549, 0.7454045448898616, 0.7629439253604393, 0.7709227619394413, 0.7467524160969407]}, {\"categories\": [\"0\", \"1\", \"2\", \"3\", \"4\", \"5\", \"6\", \"7\", \"8\", \"9\", \"10\", \"11\", \"12\", \"13\", \"14\", \"15\", \"16\", \"17\", \"18\", \"19\", \"20\", \"21\", \"22\", \"23\", \"24\", \"25\", \"26\", \"27\", \"28\", \"29\", \"30\", \"31\", \"34\", \"35\"], \"mode\": \"lines\", \"name\": \"f1_score_weighted_max\", \"stepped\": true, \"type\": \"scatter\", \"data\": [0.7376523503026942, 0.7674902736086928, 0.7674902736086928, 0.7674902736086928, 0.7674902736086928, 0.7674902736086928, 0.7674902736086928, 0.7674902736086928, 0.7674902736086928, 0.7674902736086928, 0.7674902736086928, 0.7674902736086928, 0.7674902736086928, 0.7674902736086928, 0.7674902736086928, 0.7674902736086928, 0.7674902736086928, 0.7674902736086928, 0.7674902736086928, 0.7674902736086928, 0.7674902736086928, 0.7674902736086928, 0.7674902736086928, 0.7674902736086928, 0.7674902736086928, 0.7674902736086928, 0.7674902736086928, 0.7674902736086928, 0.7674902736086928, 0.7674902736086928, 0.7674902736086928, 0.7674902736086928, 0.7709227619394413, 0.7709227619394413]}], \"recall_score_weighted\": [{\"categories\": [\"0\", \"1\", \"2\", \"3\", \"4\", \"5\", \"6\", \"7\", \"8\", \"9\", \"10\", \"11\", \"12\", \"13\", \"14\", \"15\", \"16\", \"17\", \"18\", \"19\", \"20\", \"21\", \"22\", \"23\", \"24\", \"25\", \"26\", \"27\", \"28\", \"29\", \"30\", \"31\", \"34\", \"35\"], \"mode\": \"markers\", \"name\": \"recall_score_weighted\", \"stepped\": false, \"type\": \"scatter\", \"data\": [0.7396103896103897, 0.7695659603554341, 0.7721462747778537, 0.7500512645249486, 0.7539302802460697, 0.7512987012987014, 0.7603725222146275, 0.7200273410799726, 0.6626794258373205, 0.7058270676691729, 0.7160970608339029, 0.7239917976760081, 0.7017600820232399, 0.7565618591934381, 0.7577580314422421, 0.7474196855775802, 0.7332365003417635, 0.7149521531100478, 0.7357313738892687, 0.7656356801093642, 0.746120984278879, 0.7591079972658921, 0.7591934381408066, 0.7448906356801095, 0.675768967874231, 0.7161312371838686, 0.7512816131237183, 0.7525974025974026, 0.7539644565960355, 0.7683014354066987, 0.7474196855775802, 0.7643882433356118, 0.774812030075188, 0.7631066302118935]}, {\"categories\": [\"0\", \"1\", \"2\", \"3\", \"4\", \"5\", \"6\", \"7\", \"8\", \"9\", \"10\", \"11\", \"12\", \"13\", \"14\", \"15\", \"16\", \"17\", \"18\", \"19\", \"20\", \"21\", \"22\", \"23\", \"24\", \"25\", \"26\", \"27\", \"28\", \"29\", \"30\", \"31\", \"34\", \"35\"], \"mode\": \"lines\", \"name\": \"recall_score_weighted_max\", \"stepped\": true, \"type\": \"scatter\", \"data\": [0.7396103896103897, 0.7695659603554341, 0.7721462747778537, 0.7721462747778537, 0.7721462747778537, 0.7721462747778537, 0.7721462747778537, 0.7721462747778537, 0.7721462747778537, 0.7721462747778537, 0.7721462747778537, 0.7721462747778537, 0.7721462747778537, 0.7721462747778537, 0.7721462747778537, 0.7721462747778537, 0.7721462747778537, 0.7721462747778537, 0.7721462747778537, 0.7721462747778537, 0.7721462747778537, 0.7721462747778537, 0.7721462747778537, 0.7721462747778537, 0.7721462747778537, 0.7721462747778537, 0.7721462747778537, 0.7721462747778537, 0.7721462747778537, 0.7721462747778537, 0.7721462747778537, 0.7721462747778537, 0.774812030075188, 0.774812030075188]}], \"f1_score_micro\": [{\"categories\": [\"0\", \"1\", \"2\", \"3\", \"4\", \"5\", \"6\", \"7\", \"8\", \"9\", \"10\", \"11\", \"12\", \"13\", \"14\", \"15\", \"16\", \"17\", \"18\", \"19\", \"20\", \"21\", \"22\", \"23\", \"24\", \"25\", \"26\", \"27\", \"28\", \"29\", \"30\", \"31\", \"34\", \"35\"], \"mode\": \"markers\", \"name\": \"f1_score_micro\", \"stepped\": false, \"type\": \"scatter\", \"data\": [0.7396103896103897, 0.7695659603554341, 0.7721462747778537, 0.7500512645249486, 0.7539302802460697, 0.7512987012987014, 0.7603725222146275, 0.7200273410799726, 0.6626794258373205, 0.7058270676691729, 0.7160970608339029, 0.7239917976760081, 0.7017600820232399, 0.7565618591934381, 0.7577580314422419, 0.7474196855775802, 0.7332365003417635, 0.7149521531100478, 0.7357313738892686, 0.7656356801093642, 0.746120984278879, 0.7591079972658921, 0.7591934381408066, 0.7448906356801095, 0.675768967874231, 0.7161312371838686, 0.7512816131237183, 0.7525974025974026, 0.7539644565960355, 0.7683014354066987, 0.7474196855775802, 0.7643882433356118, 0.774812030075188, 0.7631066302118935]}, {\"categories\": [\"0\", \"1\", \"2\", \"3\", \"4\", \"5\", \"6\", \"7\", \"8\", \"9\", \"10\", \"11\", \"12\", \"13\", \"14\", \"15\", \"16\", \"17\", \"18\", \"19\", \"20\", \"21\", \"22\", \"23\", \"24\", \"25\", \"26\", \"27\", \"28\", \"29\", \"30\", \"31\", \"34\", \"35\"], \"mode\": \"lines\", \"name\": \"f1_score_micro_max\", \"stepped\": true, \"type\": \"scatter\", \"data\": [0.7396103896103897, 0.7695659603554341, 0.7721462747778537, 0.7721462747778537, 0.7721462747778537, 0.7721462747778537, 0.7721462747778537, 0.7721462747778537, 0.7721462747778537, 0.7721462747778537, 0.7721462747778537, 0.7721462747778537, 0.7721462747778537, 0.7721462747778537, 0.7721462747778537, 0.7721462747778537, 0.7721462747778537, 0.7721462747778537, 0.7721462747778537, 0.7721462747778537, 0.7721462747778537, 0.7721462747778537, 0.7721462747778537, 0.7721462747778537, 0.7721462747778537, 0.7721462747778537, 0.7721462747778537, 0.7721462747778537, 0.7721462747778537, 0.7721462747778537, 0.7721462747778537, 0.7721462747778537, 0.774812030075188, 0.774812030075188]}], \"average_precision_score_micro\": [{\"categories\": [\"0\", \"1\", \"2\", \"3\", \"4\", \"5\", \"6\", \"7\", \"8\", \"9\", \"10\", \"11\", \"12\", \"13\", \"14\", \"15\", \"16\", \"17\", \"18\", \"19\", \"20\", \"21\", \"22\", \"23\", \"24\", \"25\", \"26\", \"27\", \"28\", \"29\", \"30\", \"31\", \"34\", \"35\"], \"mode\": \"markers\", \"name\": \"average_precision_score_micro\", \"stepped\": false, \"type\": \"scatter\", \"data\": [0.8229290538102472, 0.8549562655774119, 0.8464594863790145, 0.8388621318593665, 0.8352565121379092, 0.8397509414107109, 0.8370785059872166, 0.8187354090399402, 0.7955936844172243, 0.7843565222538222, 0.8072115490101577, 0.8045575115369814, 0.7816488204331813, 0.8440167132857228, 0.8362069697861763, 0.8442813183291653, 0.8168530624591248, 0.8149871077492039, 0.807886832705945, 0.848898506132646, 0.835167072801771, 0.8384628409140362, 0.8505611907255286, 0.8389823937410112, 0.7591966939096646, 0.7719945668888488, 0.8293173352087979, 0.8465030330804902, 0.8197551828312208, 0.84154399024351, 0.8325580590734087, 0.8485687405511617, 0.8648451853920385, 0.8572590073187409]}, {\"categories\": [\"0\", \"1\", \"2\", \"3\", \"4\", \"5\", \"6\", \"7\", \"8\", \"9\", \"10\", \"11\", \"12\", \"13\", \"14\", \"15\", \"16\", \"17\", \"18\", \"19\", \"20\", \"21\", \"22\", \"23\", \"24\", \"25\", \"26\", \"27\", \"28\", \"29\", \"30\", \"31\", \"34\", \"35\"], \"mode\": \"lines\", \"name\": \"average_precision_score_micro_max\", \"stepped\": true, \"type\": \"scatter\", \"data\": [0.8229290538102472, 0.8549562655774119, 0.8549562655774119, 0.8549562655774119, 0.8549562655774119, 0.8549562655774119, 0.8549562655774119, 0.8549562655774119, 0.8549562655774119, 0.8549562655774119, 0.8549562655774119, 0.8549562655774119, 0.8549562655774119, 0.8549562655774119, 0.8549562655774119, 0.8549562655774119, 0.8549562655774119, 0.8549562655774119, 0.8549562655774119, 0.8549562655774119, 0.8549562655774119, 0.8549562655774119, 0.8549562655774119, 0.8549562655774119, 0.8549562655774119, 0.8549562655774119, 0.8549562655774119, 0.8549562655774119, 0.8549562655774119, 0.8549562655774119, 0.8549562655774119, 0.8549562655774119, 0.8648451853920385, 0.8648451853920385]}], \"balanced_accuracy\": [{\"categories\": [\"0\", \"1\", \"2\", \"3\", \"4\", \"5\", \"6\", \"7\", \"8\", \"9\", \"10\", \"11\", \"12\", \"13\", \"14\", \"15\", \"16\", \"17\", \"18\", \"19\", \"20\", \"21\", \"22\", \"23\", \"24\", \"25\", \"26\", \"27\", \"28\", \"29\", \"30\", \"31\", \"34\", \"35\"], \"mode\": \"markers\", \"name\": \"balanced_accuracy\", \"stepped\": false, \"type\": \"scatter\", \"data\": [0.7053588221478819, 0.7368196523334581, 0.7191754163523044, 0.7420089427556125, 0.6795275932918782, 0.6888199376450589, 0.6889696452568834, 0.6238746702414655, 0.5252687250058943, 0.698605890454816, 0.7137807173525419, 0.7401914454687516, 0.6988924079168923, 0.7066421706909842, 0.7027548526401712, 0.6833811843226633, 0.7240761730883104, 0.7083105268634375, 0.740106881627818, 0.7292912489194303, 0.708226466134825, 0.724047222468623, 0.7179292458404329, 0.705585176022082, 0.5748540372451496, 0.6516367961182358, 0.6976899975757002, 0.705622576496441, 0.7110173832887424, 0.719521237741496, 0.7113212495714761, 0.7338151230656906, 0.7341960586813677, 0.7033700076934013]}, {\"categories\": [\"0\", \"1\", \"2\", \"3\", \"4\", \"5\", \"6\", \"7\", \"8\", \"9\", \"10\", \"11\", \"12\", \"13\", \"14\", \"15\", \"16\", \"17\", \"18\", \"19\", \"20\", \"21\", \"22\", \"23\", \"24\", \"25\", \"26\", \"27\", \"28\", \"29\", \"30\", \"31\", \"34\", \"35\"], \"mode\": \"lines\", \"name\": \"balanced_accuracy_max\", \"stepped\": true, \"type\": \"scatter\", \"data\": [0.7053588221478819, 0.7368196523334581, 0.7368196523334581, 0.7420089427556125, 0.7420089427556125, 0.7420089427556125, 0.7420089427556125, 0.7420089427556125, 0.7420089427556125, 0.7420089427556125, 0.7420089427556125, 0.7420089427556125, 0.7420089427556125, 0.7420089427556125, 0.7420089427556125, 0.7420089427556125, 0.7420089427556125, 0.7420089427556125, 0.7420089427556125, 0.7420089427556125, 0.7420089427556125, 0.7420089427556125, 0.7420089427556125, 0.7420089427556125, 0.7420089427556125, 0.7420089427556125, 0.7420089427556125, 0.7420089427556125, 0.7420089427556125, 0.7420089427556125, 0.7420089427556125, 0.7420089427556125, 0.7420089427556125, 0.7420089427556125]}], \"average_precision_score_macro\": [{\"categories\": [\"0\", \"1\", \"2\", \"3\", \"4\", \"5\", \"6\", \"7\", \"8\", \"9\", \"10\", \"11\", \"12\", \"13\", \"14\", \"15\", \"16\", \"17\", \"18\", \"19\", \"20\", \"21\", \"22\", \"23\", \"24\", \"25\", \"26\", \"27\", \"28\", \"29\", \"30\", \"31\", \"34\", \"35\"], \"mode\": \"markers\", \"name\": \"average_precision_score_macro\", \"stepped\": false, \"type\": \"scatter\", \"data\": [0.7742813465855433, 0.817147214521911, 0.8089346933136692, 0.8046169314489131, 0.8025037141492082, 0.7998451477151296, 0.8036914164819743, 0.7862264022612881, 0.7786903786728601, 0.7614011618235932, 0.779926808083772, 0.782745652012161, 0.7635083180301152, 0.808682183717061, 0.7899410066166686, 0.8093021540664926, 0.7975571691564034, 0.788073907942147, 0.7852730743013346, 0.8017118355199807, 0.7920414064829485, 0.7935532742420122, 0.8103031473006912, 0.7923490340846248, 0.7061923258540459, 0.7299055927055944, 0.7834293299028665, 0.8102470025809101, 0.796218048776222, 0.8067042258212644, 0.7901716406316248, 0.8056548266270042, 0.8269518887051225, 0.8234554157665691]}, {\"categories\": [\"0\", \"1\", \"2\", \"3\", \"4\", \"5\", \"6\", \"7\", \"8\", \"9\", \"10\", \"11\", \"12\", \"13\", \"14\", \"15\", \"16\", \"17\", \"18\", \"19\", \"20\", \"21\", \"22\", \"23\", \"24\", \"25\", \"26\", \"27\", \"28\", \"29\", \"30\", \"31\", \"34\", \"35\"], \"mode\": \"lines\", \"name\": \"average_precision_score_macro_max\", \"stepped\": true, \"type\": \"scatter\", \"data\": [0.7742813465855433, 0.817147214521911, 0.817147214521911, 0.817147214521911, 0.817147214521911, 0.817147214521911, 0.817147214521911, 0.817147214521911, 0.817147214521911, 0.817147214521911, 0.817147214521911, 0.817147214521911, 0.817147214521911, 0.817147214521911, 0.817147214521911, 0.817147214521911, 0.817147214521911, 0.817147214521911, 0.817147214521911, 0.817147214521911, 0.817147214521911, 0.817147214521911, 0.817147214521911, 0.817147214521911, 0.817147214521911, 0.817147214521911, 0.817147214521911, 0.817147214521911, 0.817147214521911, 0.817147214521911, 0.817147214521911, 0.817147214521911, 0.8269518887051225, 0.8269518887051225]}], \"precision_score_micro\": [{\"categories\": [\"0\", \"1\", \"2\", \"3\", \"4\", \"5\", \"6\", \"7\", \"8\", \"9\", \"10\", \"11\", \"12\", \"13\", \"14\", \"15\", \"16\", \"17\", \"18\", \"19\", \"20\", \"21\", \"22\", \"23\", \"24\", \"25\", \"26\", \"27\", \"28\", \"29\", \"30\", \"31\", \"34\", \"35\"], \"mode\": \"markers\", \"name\": \"precision_score_micro\", \"stepped\": false, \"type\": \"scatter\", \"data\": [0.7396103896103897, 0.7695659603554341, 0.7721462747778537, 0.7500512645249486, 0.7539302802460697, 0.7512987012987014, 0.7603725222146275, 0.7200273410799726, 0.6626794258373205, 0.7058270676691729, 0.7160970608339029, 0.7239917976760081, 0.7017600820232399, 0.7565618591934381, 0.7577580314422421, 0.7474196855775802, 0.7332365003417635, 0.7149521531100478, 0.7357313738892687, 0.7656356801093642, 0.746120984278879, 0.7591079972658921, 0.7591934381408066, 0.7448906356801095, 0.675768967874231, 0.7161312371838686, 0.7512816131237183, 0.7525974025974026, 0.7539644565960355, 0.7683014354066987, 0.7474196855775802, 0.7643882433356118, 0.774812030075188, 0.7631066302118935]}, {\"categories\": [\"0\", \"1\", \"2\", \"3\", \"4\", \"5\", \"6\", \"7\", \"8\", \"9\", \"10\", \"11\", \"12\", \"13\", \"14\", \"15\", \"16\", \"17\", \"18\", \"19\", \"20\", \"21\", \"22\", \"23\", \"24\", \"25\", \"26\", \"27\", \"28\", \"29\", \"30\", \"31\", \"34\", \"35\"], \"mode\": \"lines\", \"name\": \"precision_score_micro_max\", \"stepped\": true, \"type\": \"scatter\", \"data\": [0.7396103896103897, 0.7695659603554341, 0.7721462747778537, 0.7721462747778537, 0.7721462747778537, 0.7721462747778537, 0.7721462747778537, 0.7721462747778537, 0.7721462747778537, 0.7721462747778537, 0.7721462747778537, 0.7721462747778537, 0.7721462747778537, 0.7721462747778537, 0.7721462747778537, 0.7721462747778537, 0.7721462747778537, 0.7721462747778537, 0.7721462747778537, 0.7721462747778537, 0.7721462747778537, 0.7721462747778537, 0.7721462747778537, 0.7721462747778537, 0.7721462747778537, 0.7721462747778537, 0.7721462747778537, 0.7721462747778537, 0.7721462747778537, 0.7721462747778537, 0.7721462747778537, 0.7721462747778537, 0.774812030075188, 0.774812030075188]}], \"AUC_weighted\": [{\"categories\": [\"0\", \"1\", \"2\", \"3\", \"4\", \"5\", \"6\", \"7\", \"8\", \"9\", \"10\", \"11\", \"12\", \"13\", \"14\", \"15\", \"16\", \"17\", \"18\", \"19\", \"20\", \"21\", \"22\", \"23\", \"24\", \"25\", \"26\", \"27\", \"28\", \"29\", \"30\", \"31\", \"34\", \"35\"], \"mode\": \"markers\", \"name\": \"AUC_weighted\", \"stepped\": false, \"type\": \"scatter\", \"data\": [0.7981013916226355, 0.8366210317228242, 0.8256630835052838, 0.8285796469693146, 0.8216822404963888, 0.8177910118867056, 0.8160992657728539, 0.8055668337366007, 0.7906425735078564, 0.7788903390468186, 0.7954175604395686, 0.8111539481083545, 0.7769142767186511, 0.8208075252024681, 0.8144402862016342, 0.8275896144524877, 0.8196954404084085, 0.8033577797776534, 0.8092819747468271, 0.8240266352875374, 0.8132809201585477, 0.8161128629984556, 0.8314593290642994, 0.8152208505797622, 0.725744162929564, 0.734242033716707, 0.8126561686834268, 0.8252028332544267, 0.8128871139909826, 0.8216472601287388, 0.808054374183355, 0.8298472723094127, 0.8460377241438211, 0.8418641622203623]}, {\"categories\": [\"0\", \"1\", \"2\", \"3\", \"4\", \"5\", \"6\", \"7\", \"8\", \"9\", \"10\", \"11\", \"12\", \"13\", \"14\", \"15\", \"16\", \"17\", \"18\", \"19\", \"20\", \"21\", \"22\", \"23\", \"24\", \"25\", \"26\", \"27\", \"28\", \"29\", \"30\", \"31\", \"34\", \"35\"], \"mode\": \"lines\", \"name\": \"AUC_weighted_max\", \"stepped\": true, \"type\": \"scatter\", \"data\": [0.7981013916226355, 0.8366210317228242, 0.8366210317228242, 0.8366210317228242, 0.8366210317228242, 0.8366210317228242, 0.8366210317228242, 0.8366210317228242, 0.8366210317228242, 0.8366210317228242, 0.8366210317228242, 0.8366210317228242, 0.8366210317228242, 0.8366210317228242, 0.8366210317228242, 0.8366210317228242, 0.8366210317228242, 0.8366210317228242, 0.8366210317228242, 0.8366210317228242, 0.8366210317228242, 0.8366210317228242, 0.8366210317228242, 0.8366210317228242, 0.8366210317228242, 0.8366210317228242, 0.8366210317228242, 0.8366210317228242, 0.8366210317228242, 0.8366210317228242, 0.8366210317228242, 0.8366210317228242, 0.8460377241438211, 0.8460377241438211]}], \"norm_macro_recall\": [{\"categories\": [\"0\", \"1\", \"2\", \"3\", \"4\", \"5\", \"6\", \"7\", \"8\", \"9\", \"10\", \"11\", \"12\", \"13\", \"14\", \"15\", \"16\", \"17\", \"18\", \"19\", \"20\", \"21\", \"22\", \"23\", \"24\", \"25\", \"26\", \"27\", \"28\", \"29\", \"30\", \"31\", \"34\", \"35\"], \"mode\": \"markers\", \"name\": \"norm_macro_recall\", \"stepped\": false, \"type\": \"scatter\", \"data\": [0.41071764429576385, 0.4736393046669162, 0.43835083270460906, 0.4840178855112252, 0.35905518658375635, 0.3776398752901177, 0.37793929051376673, 0.24774934048293112, 0.050537450011788575, 0.39721178090963194, 0.4275614347050838, 0.4803828909375031, 0.3977848158337847, 0.41328434138196846, 0.40550970528034247, 0.3667623686453266, 0.4481523461766207, 0.4166210537268749, 0.48021376325563614, 0.4585824978388608, 0.41645293226964986, 0.44809444493724576, 0.435858491680866, 0.41117035204416386, 0.1497080744902995, 0.3032735922364713, 0.39537999515140043, 0.4112451529928821, 0.4220347665774849, 0.4390424754829921, 0.4226424991429525, 0.4676302461313814, 0.4683921173627354, 0.4067400153868023]}, {\"categories\": [\"0\", \"1\", \"2\", \"3\", \"4\", \"5\", \"6\", \"7\", \"8\", \"9\", \"10\", \"11\", \"12\", \"13\", \"14\", \"15\", \"16\", \"17\", \"18\", \"19\", \"20\", \"21\", \"22\", \"23\", \"24\", \"25\", \"26\", \"27\", \"28\", \"29\", \"30\", \"31\", \"34\", \"35\"], \"mode\": \"lines\", \"name\": \"norm_macro_recall_max\", \"stepped\": true, \"type\": \"scatter\", \"data\": [0.41071764429576385, 0.4736393046669162, 0.4736393046669162, 0.4840178855112252, 0.4840178855112252, 0.4840178855112252, 0.4840178855112252, 0.4840178855112252, 0.4840178855112252, 0.4840178855112252, 0.4840178855112252, 0.4840178855112252, 0.4840178855112252, 0.4840178855112252, 0.4840178855112252, 0.4840178855112252, 0.4840178855112252, 0.4840178855112252, 0.4840178855112252, 0.4840178855112252, 0.4840178855112252, 0.4840178855112252, 0.4840178855112252, 0.4840178855112252, 0.4840178855112252, 0.4840178855112252, 0.4840178855112252, 0.4840178855112252, 0.4840178855112252, 0.4840178855112252, 0.4840178855112252, 0.4840178855112252, 0.4840178855112252, 0.4840178855112252]}]}, \"metricName\": null, \"primaryMetricName\": \"AUC_weighted\", \"showLegend\": false}, \"run_metrics\": [{\"name\": \"experiment_status\", \"run_id\": \"AutoML_06d9c41d-615e-47e9-9e7a-a1f1e5c142c7\", \"categories\": [0, 1, 2, 3, 4, 5, 6, 7, 8, 9, 10, 11, 12, 13], \"series\": [{\"data\": [\"DatasetEvaluation\", \"FeaturesGeneration\", \"DatasetFeaturization\", \"DatasetFeaturizationCompleted\", \"DatasetCrossValidationSplit\", \"ModelSelection\", \"BestRunExplainModel\", \"ModelExplanationDataSetSetup\", \"PickSurrogateModel\", \"EngineeredFeatureExplanations\", \"EngineeredFeatureExplanations\", \"RawFeaturesExplanations\", \"RawFeaturesExplanations\", \"BestRunExplainModel\"]}]}, {\"name\": \"experiment_status_description\", \"run_id\": \"AutoML_06d9c41d-615e-47e9-9e7a-a1f1e5c142c7\", \"categories\": [0, 1, 2, 3, 4, 5, 6, 7, 8, 9, 10, 11, 12, 13], \"series\": [{\"data\": [\"Gathering dataset statistics.\", \"Generating features for the dataset.\", \"Beginning to fit featurizers and featurize the dataset.\", \"Completed fit featurizers and featurizing the dataset.\", \"Generating individually featurized CV splits.\", \"Beginning model selection.\", \"Best run model explanations started\", \"Model explanations data setup completed\", \"Choosing LightGBM as the surrogate model for explanations\", \"Computation of engineered features started\", \"Computation of engineered features completed\", \"Computation of raw features started\", \"Computation of raw features completed\", \"Best run model explanations completed\"]}]}, {\"name\": \"accuracy\", \"run_id\": \"AutoML_06d9c41d-615e-47e9-9e7a-a1f1e5c142c7\", \"categories\": [0], \"series\": [{\"data\": [0.774812030075188]}]}, {\"name\": \"precision_score_micro\", \"run_id\": \"AutoML_06d9c41d-615e-47e9-9e7a-a1f1e5c142c7\", \"categories\": [0], \"series\": [{\"data\": [0.774812030075188]}]}, {\"name\": \"average_precision_score_macro\", \"run_id\": \"AutoML_06d9c41d-615e-47e9-9e7a-a1f1e5c142c7\", \"categories\": [0], \"series\": [{\"data\": [0.8269518887051225]}]}, {\"name\": \"norm_macro_recall\", \"run_id\": \"AutoML_06d9c41d-615e-47e9-9e7a-a1f1e5c142c7\", \"categories\": [0], \"series\": [{\"data\": [0.4683921173627354]}]}, {\"name\": \"precision_score_macro\", \"run_id\": \"AutoML_06d9c41d-615e-47e9-9e7a-a1f1e5c142c7\", \"categories\": [0], \"series\": [{\"data\": [0.7529982656419775]}]}, {\"name\": \"AUC_macro\", \"run_id\": \"AutoML_06d9c41d-615e-47e9-9e7a-a1f1e5c142c7\", \"categories\": [0], \"series\": [{\"data\": [0.8460377241438211]}]}, {\"name\": \"recall_score_weighted\", \"run_id\": \"AutoML_06d9c41d-615e-47e9-9e7a-a1f1e5c142c7\", \"categories\": [0], \"series\": [{\"data\": [0.774812030075188]}]}, {\"name\": \"recall_score_micro\", \"run_id\": \"AutoML_06d9c41d-615e-47e9-9e7a-a1f1e5c142c7\", \"categories\": [0], \"series\": [{\"data\": [0.774812030075188]}]}, {\"name\": \"AUC_micro\", \"run_id\": \"AutoML_06d9c41d-615e-47e9-9e7a-a1f1e5c142c7\", \"categories\": [0], \"series\": [{\"data\": [0.8628562995446112]}]}, {\"name\": \"f1_score_weighted\", \"run_id\": \"AutoML_06d9c41d-615e-47e9-9e7a-a1f1e5c142c7\", \"categories\": [0], \"series\": [{\"data\": [0.7709227619394413]}]}, {\"name\": \"AUC_weighted\", \"run_id\": \"AutoML_06d9c41d-615e-47e9-9e7a-a1f1e5c142c7\", \"categories\": [0], \"series\": [{\"data\": [0.8460377241438211]}]}, {\"name\": \"average_precision_score_micro\", \"run_id\": \"AutoML_06d9c41d-615e-47e9-9e7a-a1f1e5c142c7\", \"categories\": [0], \"series\": [{\"data\": [0.8648451853920385]}]}, {\"name\": \"balanced_accuracy\", \"run_id\": \"AutoML_06d9c41d-615e-47e9-9e7a-a1f1e5c142c7\", \"categories\": [0], \"series\": [{\"data\": [0.7341960586813677]}]}, {\"name\": \"f1_score_macro\", \"run_id\": \"AutoML_06d9c41d-615e-47e9-9e7a-a1f1e5c142c7\", \"categories\": [0], \"series\": [{\"data\": [0.7393403919491133]}]}, {\"name\": \"recall_score_macro\", \"run_id\": \"AutoML_06d9c41d-615e-47e9-9e7a-a1f1e5c142c7\", \"categories\": [0], \"series\": [{\"data\": [0.7341960586813677]}]}, {\"name\": \"weighted_accuracy\", \"run_id\": \"AutoML_06d9c41d-615e-47e9-9e7a-a1f1e5c142c7\", \"categories\": [0], \"series\": [{\"data\": [0.8044868875920065]}]}, {\"name\": \"precision_score_weighted\", \"run_id\": \"AutoML_06d9c41d-615e-47e9-9e7a-a1f1e5c142c7\", \"categories\": [0], \"series\": [{\"data\": [0.7742227651651101]}]}, {\"name\": \"matthews_correlation\", \"run_id\": \"AutoML_06d9c41d-615e-47e9-9e7a-a1f1e5c142c7\", \"categories\": [0], \"series\": [{\"data\": [0.4863806548756754]}]}, {\"name\": \"f1_score_micro\", \"run_id\": \"AutoML_06d9c41d-615e-47e9-9e7a-a1f1e5c142c7\", \"categories\": [0], \"series\": [{\"data\": [0.774812030075188]}]}, {\"name\": \"average_precision_score_weighted\", \"run_id\": \"AutoML_06d9c41d-615e-47e9-9e7a-a1f1e5c142c7\", \"categories\": [0], \"series\": [{\"data\": [0.8556812446195872]}]}, {\"name\": \"log_loss\", \"run_id\": \"AutoML_06d9c41d-615e-47e9-9e7a-a1f1e5c142c7\", \"categories\": [0], \"series\": [{\"data\": [0.4875559737001519]}]}], \"run_logs\": \"\\nRun is completed.\", \"graph\": {}, \"widget_settings\": {\"childWidgetDisplay\": \"popup\", \"send_telemetry\": false, \"log_level\": \"INFO\", \"sdk_version\": \"1.20.0\"}, \"loading\": false}"
          },
          "metadata": {}
        }
      ],
      "execution_count": 8,
      "metadata": {
        "gather": {
          "logged": 1612762222043
        },
        "jupyter": {
          "outputs_hidden": false,
          "source_hidden": false
        },
        "nteract": {
          "transient": {
            "deleting": false
          }
        }
      }
    },
    {
      "cell_type": "code",
      "source": [
        "remote_run.wait_for_completion(show_output=True)"
      ],
      "outputs": [
        {
          "output_type": "stream",
          "name": "stdout",
          "text": [
            "\n",
            "Current status: FeaturesGeneration. Generating features for the dataset.\n",
            "Current status: DatasetCrossValidationSplit. Generating individually featurized CV splits.\n",
            "Current status: ModelSelection. Beginning model selection.\n",
            "\n",
            "****************************************************************************************************\n",
            "DATA GUARDRAILS: \n",
            "\n",
            "TYPE:         Cross validation\n",
            "STATUS:       DONE\n",
            "DESCRIPTION:  Each iteration of the trained model was validated through cross-validation.\n",
            "              \n",
            "DETAILS:      \n",
            "+---------------------------------+\n",
            "|Number of folds                  |\n",
            "+=================================+\n",
            "|10                               |\n",
            "+---------------------------------+\n",
            "\n",
            "****************************************************************************************************\n",
            "\n",
            "TYPE:         Class balancing detection\n",
            "STATUS:       PASSED\n",
            "DESCRIPTION:  Your inputs were analyzed, and all classes are balanced in your training data.\n",
            "              Learn more about imbalanced data: https://aka.ms/AutomatedMLImbalancedData\n",
            "\n",
            "****************************************************************************************************\n",
            "\n",
            "TYPE:         Missing feature values imputation\n",
            "STATUS:       PASSED\n",
            "DESCRIPTION:  No feature missing values were detected in the training data.\n",
            "              Learn more about missing value imputation: https://aka.ms/AutomatedMLFeaturization\n",
            "\n",
            "****************************************************************************************************\n",
            "\n",
            "TYPE:         High cardinality feature detection\n",
            "STATUS:       PASSED\n",
            "DESCRIPTION:  Your inputs were analyzed, and no high cardinality features were detected.\n",
            "              Learn more about high cardinality feature handling: https://aka.ms/AutomatedMLFeaturization\n",
            "\n",
            "****************************************************************************************************\n",
            "\n",
            "****************************************************************************************************\n",
            "ITERATION: The iteration being evaluated.\n",
            "PIPELINE: A summary description of the pipeline being evaluated.\n",
            "DURATION: Time taken for the current iteration.\n",
            "METRIC: The result of computing score on the fitted pipeline.\n",
            "BEST: The best observed score thus far.\n",
            "****************************************************************************************************\n",
            "\n",
            " ITERATION   PIPELINE                                       DURATION      METRIC      BEST\n",
            "         1   MaxAbsScaler XGBoostClassifier                 0:00:55       0.8366    0.8366\n",
            "         2   MaxAbsScaler RandomForest                      0:00:57       0.8257    0.8366\n",
            "         0   MaxAbsScaler LightGBM                          0:00:54       0.7981    0.8366\n",
            "         3   MaxAbsScaler RandomForest                      0:00:56       0.8286    0.8366\n",
            "         6   MaxAbsScaler ExtremeRandomTrees                0:00:53       0.8161    0.8366\n",
            "         7   MaxAbsScaler ExtremeRandomTrees                0:01:01       0.8056    0.8366\n",
            "         4   MaxAbsScaler RandomForest                      0:03:20       0.8217    0.8366\n",
            "         5   MaxAbsScaler ExtremeRandomTrees                0:03:23       0.8178    0.8366\n",
            "         8   MaxAbsScaler RandomForest                      0:00:58       0.7906    0.8366\n",
            "         9   MaxAbsScaler ExtremeRandomTrees                0:00:55       0.7789    0.8366\n",
            "        10   MaxAbsScaler RandomForest                      0:00:53       0.7954    0.8366\n",
            "        11   MaxAbsScaler RandomForest                      0:00:58       0.8112    0.8366\n",
            "        12   MaxAbsScaler RandomForest                      0:00:55       0.7769    0.8366\n",
            "        13   StandardScalerWrapper XGBoostClassifier        0:00:49       0.8208    0.8366\n",
            "        14   MaxAbsScaler RandomForest                      0:00:50       0.8144    0.8366\n",
            "        15   StandardScalerWrapper ExtremeRandomTrees       0:00:52       0.8276    0.8366\n",
            "        16   MaxAbsScaler ExtremeRandomTrees                0:00:52       0.8197    0.8366\n",
            "        17   MaxAbsScaler ExtremeRandomTrees                0:01:08       0.8034    0.8366\n",
            "        18   MaxAbsScaler RandomForest                      0:00:50       0.8093    0.8366\n",
            "        19   StandardScalerWrapper XGBoostClassifier        0:00:49       0.8240    0.8366\n",
            "        21   StandardScalerWrapper XGBoostClassifier        0:00:50       0.8161    0.8366\n",
            "        20   StandardScalerWrapper XGBoostClassifier        0:00:57       0.8133    0.8366\n",
            "        22   MaxAbsScaler LightGBM                          0:01:03       0.8315    0.8366\n",
            "        24   SparseNormalizer LightGBM                      0:00:46       0.7257    0.8366\n",
            "        23   MaxAbsScaler LightGBM                          0:00:55       0.8152    0.8366\n",
            "        25   SparseNormalizer XGBoostClassifier             0:00:56       0.7342    0.8366\n",
            "        26   StandardScalerWrapper XGBoostClassifier        0:00:57       0.8127    0.8366\n",
            "        27   StandardScalerWrapper RandomForest             0:00:59       0.8252    0.8366\n",
            "        28   MaxAbsScaler SGD                               0:00:50       0.8129    0.8366\n",
            "        29   MaxAbsScaler LogisticRegression                0:00:55       0.8216    0.8366\n",
            "        30   StandardScalerWrapper XGBoostClassifier        0:00:52       0.8081    0.8366\n",
            "        31   StandardScalerWrapper XGBoostClassifier        0:00:57       0.8298    0.8366\n",
            "        32                                                  0:00:19          nan    0.8366\n",
            "        33                                                  0:00:20          nan    0.8366\n",
            "        34    VotingEnsemble                                0:01:50       0.8460    0.8460\n",
            "        35    StackEnsemble                                 0:01:59       0.8419    0.8460\n"
          ]
        },
        {
          "output_type": "execute_result",
          "execution_count": 9,
          "data": {
            "text/plain": "{'runId': 'AutoML_06d9c41d-615e-47e9-9e7a-a1f1e5c142c7',\n 'target': 'capcpu',\n 'status': 'Completed',\n 'startTimeUtc': '2021-02-08T05:30:26.988825Z',\n 'endTimeUtc': '2021-02-08T05:59:45.651157Z',\n 'properties': {'num_iterations': '1000',\n  'training_type': 'TrainFull',\n  'acquisition_function': 'EI',\n  'primary_metric': 'AUC_weighted',\n  'train_split': '0',\n  'acquisition_parameter': '0',\n  'num_cross_validation': None,\n  'target': 'capcpu',\n  'AMLSettingsJsonString': '{\"path\":null,\"name\":\"diabetes\",\"subscription_id\":\"d4ad7261-832d-46b2-b093-22156001df5b\",\"resource_group\":\"aml-quickstarts-138079\",\"workspace_name\":\"quick-starts-ws-138079\",\"region\":\"southcentralus\",\"compute_target\":\"capcpu\",\"spark_service\":null,\"azure_service\":\"remote\",\"many_models\":false,\"pipeline_fetch_max_batch_size\":1,\"iterations\":1000,\"primary_metric\":\"AUC_weighted\",\"task_type\":\"classification\",\"data_script\":null,\"validation_size\":0.0,\"n_cross_validations\":null,\"y_min\":null,\"y_max\":null,\"num_classes\":null,\"featurization\":\"auto\",\"_ignore_package_version_incompatibilities\":false,\"is_timeseries\":false,\"max_cores_per_iteration\":1,\"max_concurrent_iterations\":3,\"iteration_timeout_minutes\":null,\"mem_in_mb\":null,\"enforce_time_on_windows\":false,\"experiment_timeout_minutes\":30,\"experiment_exit_score\":null,\"whitelist_models\":null,\"blacklist_algos\":[\"TensorFlowLinearClassifier\",\"TensorFlowDNN\"],\"supported_models\":[\"XGBoostClassifier\",\"AveragedPerceptronClassifier\",\"LogisticRegression\",\"KNN\",\"ExtremeRandomTrees\",\"LightGBM\",\"TensorFlowDNN\",\"LinearSVM\",\"SVM\",\"GradientBoosting\",\"SGD\",\"BernoulliNaiveBayes\",\"TensorFlowLinearClassifier\",\"DecisionTree\",\"MultinomialNaiveBayes\",\"RandomForest\"],\"auto_blacklist\":true,\"blacklist_samples_reached\":false,\"exclude_nan_labels\":true,\"verbosity\":20,\"_debug_log\":\"azureml_automl.log\",\"show_warnings\":false,\"model_explainability\":true,\"service_url\":null,\"sdk_url\":null,\"sdk_packages\":null,\"enable_onnx_compatible_models\":false,\"enable_split_onnx_featurizer_estimator_models\":false,\"vm_type\":\"STANDARD_D2_V2\",\"telemetry_verbosity\":20,\"send_telemetry\":true,\"enable_dnn\":false,\"scenario\":\"SDK-1.13.0\",\"environment_label\":null,\"force_text_dnn\":false,\"enable_feature_sweeping\":true,\"enable_early_stopping\":true,\"early_stopping_n_iters\":10,\"metrics\":null,\"enable_ensembling\":true,\"enable_stack_ensembling\":true,\"ensemble_iterations\":15,\"enable_tf\":false,\"enable_subsampling\":null,\"subsample_seed\":null,\"enable_nimbusml\":false,\"enable_streaming\":false,\"force_streaming\":false,\"track_child_runs\":true,\"allowed_private_models\":[],\"label_column_name\":\"Outcome\",\"weight_column_name\":null,\"cv_split_column_names\":null,\"enable_local_managed\":false,\"_local_managed_run_id\":null,\"cost_mode\":1,\"lag_length\":0,\"metric_operation\":\"maximize\",\"preprocess\":true}',\n  'DataPrepJsonString': '{\\\\\"training_data\\\\\": \\\\\"{\\\\\\\\\\\\\"blocks\\\\\\\\\\\\\": [{\\\\\\\\\\\\\"id\\\\\\\\\\\\\": \\\\\\\\\\\\\"8ff4f32a-51a4-4c85-92b1-4c3b27b36294\\\\\\\\\\\\\", \\\\\\\\\\\\\"type\\\\\\\\\\\\\": \\\\\\\\\\\\\"Microsoft.DPrep.GetDatastoreFilesBlock\\\\\\\\\\\\\", \\\\\\\\\\\\\"arguments\\\\\\\\\\\\\": {\\\\\\\\\\\\\"datastores\\\\\\\\\\\\\": [{\\\\\\\\\\\\\"datastoreName\\\\\\\\\\\\\": \\\\\\\\\\\\\"workspaceblobstore\\\\\\\\\\\\\", \\\\\\\\\\\\\"path\\\\\\\\\\\\\": \\\\\\\\\\\\\"UI/02-08-2021_043824_UTC/diabetes.csv\\\\\\\\\\\\\", \\\\\\\\\\\\\"resourceGroup\\\\\\\\\\\\\": \\\\\\\\\\\\\"aml-quickstarts-138079\\\\\\\\\\\\\", \\\\\\\\\\\\\"subscription\\\\\\\\\\\\\": \\\\\\\\\\\\\"d4ad7261-832d-46b2-b093-22156001df5b\\\\\\\\\\\\\", \\\\\\\\\\\\\"workspaceName\\\\\\\\\\\\\": \\\\\\\\\\\\\"quick-starts-ws-138079\\\\\\\\\\\\\"}]}, \\\\\\\\\\\\\"localData\\\\\\\\\\\\\": {}, \\\\\\\\\\\\\"isEnabled\\\\\\\\\\\\\": true, \\\\\\\\\\\\\"name\\\\\\\\\\\\\": null, \\\\\\\\\\\\\"annotation\\\\\\\\\\\\\": null}, {\\\\\\\\\\\\\"id\\\\\\\\\\\\\": \\\\\\\\\\\\\"44ecee4a-fd21-4955-999c-f88dc1a1d32f\\\\\\\\\\\\\", \\\\\\\\\\\\\"type\\\\\\\\\\\\\": \\\\\\\\\\\\\"Microsoft.DPrep.ParseDelimitedBlock\\\\\\\\\\\\\", \\\\\\\\\\\\\"arguments\\\\\\\\\\\\\": {\\\\\\\\\\\\\"columnHeadersMode\\\\\\\\\\\\\": 1, \\\\\\\\\\\\\"fileEncoding\\\\\\\\\\\\\": 0, \\\\\\\\\\\\\"handleQuotedLineBreaks\\\\\\\\\\\\\": false, \\\\\\\\\\\\\"preview\\\\\\\\\\\\\": false, \\\\\\\\\\\\\"separator\\\\\\\\\\\\\": \\\\\\\\\\\\\",\\\\\\\\\\\\\", \\\\\\\\\\\\\"skipRows\\\\\\\\\\\\\": 0, \\\\\\\\\\\\\"skipRowsMode\\\\\\\\\\\\\": 0}, \\\\\\\\\\\\\"localData\\\\\\\\\\\\\": {}, \\\\\\\\\\\\\"isEnabled\\\\\\\\\\\\\": true, \\\\\\\\\\\\\"name\\\\\\\\\\\\\": null, \\\\\\\\\\\\\"annotation\\\\\\\\\\\\\": null}, {\\\\\\\\\\\\\"id\\\\\\\\\\\\\": \\\\\\\\\\\\\"0e8c58be-beed-46db-b38e-85e11fb9b8ac\\\\\\\\\\\\\", \\\\\\\\\\\\\"type\\\\\\\\\\\\\": \\\\\\\\\\\\\"Microsoft.DPrep.DropColumnsBlock\\\\\\\\\\\\\", \\\\\\\\\\\\\"arguments\\\\\\\\\\\\\": {\\\\\\\\\\\\\"columns\\\\\\\\\\\\\": {\\\\\\\\\\\\\"type\\\\\\\\\\\\\": 0, \\\\\\\\\\\\\"details\\\\\\\\\\\\\": {\\\\\\\\\\\\\"selectedColumns\\\\\\\\\\\\\": [\\\\\\\\\\\\\"Path\\\\\\\\\\\\\"]}}}, \\\\\\\\\\\\\"localData\\\\\\\\\\\\\": {}, \\\\\\\\\\\\\"isEnabled\\\\\\\\\\\\\": true, \\\\\\\\\\\\\"name\\\\\\\\\\\\\": null, \\\\\\\\\\\\\"annotation\\\\\\\\\\\\\": null}, {\\\\\\\\\\\\\"id\\\\\\\\\\\\\": \\\\\\\\\\\\\"7acb413f-6820-4797-9520-a1a493f06c12\\\\\\\\\\\\\", \\\\\\\\\\\\\"type\\\\\\\\\\\\\": \\\\\\\\\\\\\"Microsoft.DPrep.SetColumnTypesBlock\\\\\\\\\\\\\", \\\\\\\\\\\\\"arguments\\\\\\\\\\\\\": {\\\\\\\\\\\\\"columnConversion\\\\\\\\\\\\\": [{\\\\\\\\\\\\\"column\\\\\\\\\\\\\": {\\\\\\\\\\\\\"type\\\\\\\\\\\\\": 2, \\\\\\\\\\\\\"details\\\\\\\\\\\\\": {\\\\\\\\\\\\\"selectedColumn\\\\\\\\\\\\\": \\\\\\\\\\\\\"Path\\\\\\\\\\\\\"}}, \\\\\\\\\\\\\"typeProperty\\\\\\\\\\\\\": 0}, {\\\\\\\\\\\\\"column\\\\\\\\\\\\\": {\\\\\\\\\\\\\"type\\\\\\\\\\\\\": 2, \\\\\\\\\\\\\"details\\\\\\\\\\\\\": {\\\\\\\\\\\\\"selectedColumn\\\\\\\\\\\\\": \\\\\\\\\\\\\"Pregnancies\\\\\\\\\\\\\"}}, \\\\\\\\\\\\\"typeProperty\\\\\\\\\\\\\": 2}, {\\\\\\\\\\\\\"column\\\\\\\\\\\\\": {\\\\\\\\\\\\\"type\\\\\\\\\\\\\": 2, \\\\\\\\\\\\\"details\\\\\\\\\\\\\": {\\\\\\\\\\\\\"selectedColumn\\\\\\\\\\\\\": \\\\\\\\\\\\\"Glucose\\\\\\\\\\\\\"}}, \\\\\\\\\\\\\"typeProperty\\\\\\\\\\\\\": 2}, {\\\\\\\\\\\\\"column\\\\\\\\\\\\\": {\\\\\\\\\\\\\"type\\\\\\\\\\\\\": 2, \\\\\\\\\\\\\"details\\\\\\\\\\\\\": {\\\\\\\\\\\\\"selectedColumn\\\\\\\\\\\\\": \\\\\\\\\\\\\"BloodPressure\\\\\\\\\\\\\"}}, \\\\\\\\\\\\\"typeProperty\\\\\\\\\\\\\": 2}, {\\\\\\\\\\\\\"column\\\\\\\\\\\\\": {\\\\\\\\\\\\\"type\\\\\\\\\\\\\": 2, \\\\\\\\\\\\\"details\\\\\\\\\\\\\": {\\\\\\\\\\\\\"selectedColumn\\\\\\\\\\\\\": \\\\\\\\\\\\\"SkinThickness\\\\\\\\\\\\\"}}, \\\\\\\\\\\\\"typeProperty\\\\\\\\\\\\\": 2}, {\\\\\\\\\\\\\"column\\\\\\\\\\\\\": {\\\\\\\\\\\\\"type\\\\\\\\\\\\\": 2, \\\\\\\\\\\\\"details\\\\\\\\\\\\\": {\\\\\\\\\\\\\"selectedColumn\\\\\\\\\\\\\": \\\\\\\\\\\\\"Insulin\\\\\\\\\\\\\"}}, \\\\\\\\\\\\\"typeProperty\\\\\\\\\\\\\": 2}, {\\\\\\\\\\\\\"column\\\\\\\\\\\\\": {\\\\\\\\\\\\\"type\\\\\\\\\\\\\": 2, \\\\\\\\\\\\\"details\\\\\\\\\\\\\": {\\\\\\\\\\\\\"selectedColumn\\\\\\\\\\\\\": \\\\\\\\\\\\\"BMI\\\\\\\\\\\\\"}}, \\\\\\\\\\\\\"typeProperty\\\\\\\\\\\\\": 3}, {\\\\\\\\\\\\\"column\\\\\\\\\\\\\": {\\\\\\\\\\\\\"type\\\\\\\\\\\\\": 2, \\\\\\\\\\\\\"details\\\\\\\\\\\\\": {\\\\\\\\\\\\\"selectedColumn\\\\\\\\\\\\\": \\\\\\\\\\\\\"DiabetesPedigreeFunction\\\\\\\\\\\\\"}}, \\\\\\\\\\\\\"typeProperty\\\\\\\\\\\\\": 3}, {\\\\\\\\\\\\\"column\\\\\\\\\\\\\": {\\\\\\\\\\\\\"type\\\\\\\\\\\\\": 2, \\\\\\\\\\\\\"details\\\\\\\\\\\\\": {\\\\\\\\\\\\\"selectedColumn\\\\\\\\\\\\\": \\\\\\\\\\\\\"Age\\\\\\\\\\\\\"}}, \\\\\\\\\\\\\"typeProperty\\\\\\\\\\\\\": 2}, {\\\\\\\\\\\\\"column\\\\\\\\\\\\\": {\\\\\\\\\\\\\"type\\\\\\\\\\\\\": 2, \\\\\\\\\\\\\"details\\\\\\\\\\\\\": {\\\\\\\\\\\\\"selectedColumn\\\\\\\\\\\\\": \\\\\\\\\\\\\"Outcome\\\\\\\\\\\\\"}}, \\\\\\\\\\\\\"typeProperty\\\\\\\\\\\\\": 2}]}, \\\\\\\\\\\\\"localData\\\\\\\\\\\\\": {}, \\\\\\\\\\\\\"isEnabled\\\\\\\\\\\\\": true, \\\\\\\\\\\\\"name\\\\\\\\\\\\\": null, \\\\\\\\\\\\\"annotation\\\\\\\\\\\\\": null}], \\\\\\\\\\\\\"inspectors\\\\\\\\\\\\\": [], \\\\\\\\\\\\\"meta\\\\\\\\\\\\\": {\\\\\\\\\\\\\"savedDatasetId\\\\\\\\\\\\\": \\\\\\\\\\\\\"16823d31-7c58-45e9-a8fe-81b569f9406c\\\\\\\\\\\\\", \\\\\\\\\\\\\"datasetType\\\\\\\\\\\\\": \\\\\\\\\\\\\"tabular\\\\\\\\\\\\\", \\\\\\\\\\\\\"subscriptionId\\\\\\\\\\\\\": \\\\\\\\\\\\\"d4ad7261-832d-46b2-b093-22156001df5b\\\\\\\\\\\\\", \\\\\\\\\\\\\"workspaceId\\\\\\\\\\\\\": \\\\\\\\\\\\\"d7438c8f-9c4f-4815-afb9-3d2a87a2b167\\\\\\\\\\\\\", \\\\\\\\\\\\\"workspaceLocation\\\\\\\\\\\\\": \\\\\\\\\\\\\"southcentralus\\\\\\\\\\\\\"}}\\\\\", \\\\\"activities\\\\\": 0}',\n  'EnableSubsampling': None,\n  'runTemplate': 'AutoML',\n  'azureml.runsource': 'automl',\n  'display_task_type': 'classification',\n  'dependencies_versions': '{\"azureml-widgets\": \"1.20.0\", \"azureml-train\": \"1.20.0\", \"azureml-train-restclients-hyperdrive\": \"1.20.0\", \"azureml-train-core\": \"1.20.0\", \"azureml-train-automl\": \"1.20.0\", \"azureml-train-automl-runtime\": \"1.20.0\", \"azureml-train-automl-client\": \"1.20.0\", \"azureml-tensorboard\": \"1.20.0\", \"azureml-telemetry\": \"1.20.0\", \"azureml-sdk\": \"1.20.0\", \"azureml-samples\": \"0+unknown\", \"azureml-pipeline\": \"1.20.0\", \"azureml-pipeline-steps\": \"1.20.0\", \"azureml-pipeline-core\": \"1.20.0\", \"azureml-opendatasets\": \"1.20.0\", \"azureml-model-management-sdk\": \"1.0.1b6.post1\", \"azureml-mlflow\": \"1.20.0.post1\", \"azureml-interpret\": \"1.20.0\", \"azureml-explain-model\": \"1.20.0\", \"azureml-defaults\": \"1.20.0\", \"azureml-dataset-runtime\": \"1.20.0\", \"azureml-dataprep\": \"2.7.3\", \"azureml-dataprep-rslex\": \"1.5.0\", \"azureml-dataprep-native\": \"27.0.0\", \"azureml-datadrift\": \"1.20.0\", \"azureml-core\": \"1.20.0\", \"azureml-contrib-services\": \"1.20.0\", \"azureml-contrib-server\": \"1.20.0\", \"azureml-contrib-reinforcementlearning\": \"1.20.0\", \"azureml-contrib-pipeline-steps\": \"1.20.0\", \"azureml-contrib-notebook\": \"1.20.0\", \"azureml-contrib-interpret\": \"1.20.0\", \"azureml-contrib-gbdt\": \"1.20.0\", \"azureml-contrib-fairness\": \"1.20.0\", \"azureml-contrib-dataset\": \"1.20.0\", \"azureml-cli-common\": \"1.20.0\", \"azureml-automl-runtime\": \"1.20.0\", \"azureml-automl-core\": \"1.20.0\", \"azureml-accel-models\": \"1.20.0\"}',\n  '_aml_system_scenario_identification': 'Remote.Parent',\n  'ClientType': 'SDK',\n  'environment_cpu_name': 'AzureML-AutoML',\n  'environment_cpu_label': 'prod',\n  'environment_gpu_name': 'AzureML-AutoML-GPU',\n  'environment_gpu_label': 'prod',\n  'root_attribution': 'automl',\n  'attribution': 'AutoML',\n  'Orchestrator': 'AutoML',\n  'CancelUri': 'https://southcentralus.experiments.azureml.net/jasmine/v1.0/subscriptions/d4ad7261-832d-46b2-b093-22156001df5b/resourceGroups/aml-quickstarts-138079/providers/Microsoft.MachineLearningServices/workspaces/quick-starts-ws-138079/experimentids/63d3b039-8711-4a4e-8e46-9b9e98c00c09/cancel/AutoML_06d9c41d-615e-47e9-9e7a-a1f1e5c142c7',\n  'ClientSdkVersion': '1.21.0',\n  'snapshotId': '00000000-0000-0000-0000-000000000000',\n  'SetupRunId': 'AutoML_06d9c41d-615e-47e9-9e7a-a1f1e5c142c7_setup',\n  'SetupRunContainerId': 'dcid.AutoML_06d9c41d-615e-47e9-9e7a-a1f1e5c142c7_setup',\n  'FeaturizationRunJsonPath': 'featurizer_container.json',\n  'FeaturizationRunId': 'AutoML_06d9c41d-615e-47e9-9e7a-a1f1e5c142c7_featurize',\n  'ProblemInfoJsonString': '{\"dataset_num_categorical\": 0, \"is_sparse\": true, \"subsampling\": false, \"dataset_classes\": 2, \"dataset_features\": 24, \"dataset_samples\": 768, \"single_frequency_class_detected\": false}',\n  'ModelExplainRunId': 'AutoML_06d9c41d-615e-47e9-9e7a-a1f1e5c142c7_ModelExplain'},\n 'inputDatasets': [{'dataset': {'id': '16823d31-7c58-45e9-a8fe-81b569f9406c'}, 'consumptionDetails': {'type': 'RunInput', 'inputName': 'training_data', 'mechanism': 'Direct'}}],\n 'outputDatasets': [],\n 'logFiles': {},\n 'submittedBy': 'ODL_User 138079'}"
          },
          "metadata": {}
        }
      ],
      "execution_count": 9,
      "metadata": {
        "collapsed": true,
        "jupyter": {
          "source_hidden": false,
          "outputs_hidden": false
        },
        "nteract": {
          "transient": {
            "deleting": false
          }
        },
        "gather": {
          "logged": 1612763988675
        }
      }
    },
    {
      "cell_type": "markdown",
      "source": [
        "## Best Model\n",
        "\n",
        "TODO: In the cell below, get the best model from the automl experiments and display all the properties of the model.\n",
        "\n"
      ],
      "metadata": {}
    },
    {
      "cell_type": "code",
      "source": [
        "import joblib\r\n",
        "# Get your best run and save the model from that run.\r\n",
        "best_run, fitted_model = remote_run.get_output()\r\n",
        "\r\n",
        "print(best_run)\r\n",
        "print(fitted_model)"
      ],
      "outputs": [
        {
          "output_type": "stream",
          "name": "stderr",
          "text": [
            "WARNING:root:The version of the SDK does not match the version the model was trained on.\n",
            "WARNING:root:The consistency in the result may not be guaranteed.\n",
            "WARNING:root:Package:azureml-automl-core, training version:1.21.0, current version:1.20.0\n",
            "Package:azureml-automl-runtime, training version:1.21.0, current version:1.20.0\n",
            "Package:azureml-core, training version:1.21.0.post1, current version:1.20.0\n",
            "Package:azureml-dataprep, training version:2.8.2, current version:2.7.3\n",
            "Package:azureml-dataprep-native, training version:28.0.0, current version:27.0.0\n",
            "Package:azureml-dataprep-rslex, training version:1.6.0, current version:1.5.0\n",
            "Package:azureml-dataset-runtime, training version:1.21.0, current version:1.20.0\n",
            "Package:azureml-defaults, training version:1.21.0, current version:1.20.0\n",
            "Package:azureml-interpret, training version:1.21.0, current version:1.20.0\n",
            "Package:azureml-pipeline-core, training version:1.21.0, current version:1.20.0\n",
            "Package:azureml-telemetry, training version:1.21.0, current version:1.20.0\n",
            "Package:azureml-train-automl-client, training version:1.21.0, current version:1.20.0\n",
            "Package:azureml-train-automl-runtime, training version:1.21.0, current version:1.20.0\n",
            "WARNING:root:Please ensure the version of your local conda dependencies match the version on which your model was trained in order to properly retrieve your model.\n"
          ]
        },
        {
          "output_type": "stream",
          "name": "stdout",
          "text": [
            "Run(Experiment: diabetes,\n",
            "Id: AutoML_06d9c41d-615e-47e9-9e7a-a1f1e5c142c7_34,\n",
            "Type: azureml.scriptrun,\n",
            "Status: Completed)\n",
            "Pipeline(memory=None,\n",
            "         steps=[('datatransformer',\n",
            "                 DataTransformer(enable_dnn=None, enable_feature_sweeping=None,\n",
            "                                 feature_sweeping_config=None,\n",
            "                                 feature_sweeping_timeout=None,\n",
            "                                 featurization_config=None, force_text_dnn=None,\n",
            "                                 is_cross_validation=None,\n",
            "                                 is_onnx_compatible=None, logger=None,\n",
            "                                 observer=None, task=None, working_dir=None)),\n",
            "                ('prefittedsoftvotingclassifier',...\n",
            "                                                                                                  random_state=None,\n",
            "                                                                                                  verbose=0,\n",
            "                                                                                                  warm_start=False))],\n",
            "                                                                     verbose=False))],\n",
            "                                               flatten_transform=None,\n",
            "                                               weights=[0.13333333333333333,\n",
            "                                                        0.06666666666666667,\n",
            "                                                        0.06666666666666667,\n",
            "                                                        0.06666666666666667,\n",
            "                                                        0.06666666666666667,\n",
            "                                                        0.06666666666666667,\n",
            "                                                        0.06666666666666667,\n",
            "                                                        0.13333333333333333,\n",
            "                                                        0.06666666666666667,\n",
            "                                                        0.13333333333333333,\n",
            "                                                        0.06666666666666667,\n",
            "                                                        0.06666666666666667]))],\n",
            "         verbose=False)\n"
          ]
        }
      ],
      "execution_count": 10,
      "metadata": {
        "gather": {
          "logged": 1612764179767
        },
        "jupyter": {
          "outputs_hidden": false,
          "source_hidden": false
        },
        "nteract": {
          "transient": {
            "deleting": false
          }
        }
      }
    },
    {
      "cell_type": "code",
      "source": [
        "from pprint import pprint\r\n",
        "\r\n",
        "def print_model(model, prefix=\"\"):\r\n",
        "    for step in model.steps:\r\n",
        "        print(prefix + step[0])\r\n",
        "        if hasattr(step[1], 'estimators') and hasattr(step[1], 'weights'):\r\n",
        "            pprint({'estimators': list(\r\n",
        "                e[0] for e in step[1].estimators), 'weights': step[1].weights})\r\n",
        "            print()\r\n",
        "            for estimator in step[1].estimators:\r\n",
        "                print_model(estimator[1], estimator[0] + ' - ')\r\n",
        "        else:\r\n",
        "            pprint(step[1].get_params())\r\n",
        "            print()\r\n",
        "\r\n",
        "print_model(fitted_model)"
      ],
      "outputs": [
        {
          "output_type": "stream",
          "name": "stdout",
          "text": [
            "datatransformer\n",
            "{'enable_dnn': None,\n",
            " 'enable_feature_sweeping': None,\n",
            " 'feature_sweeping_config': None,\n",
            " 'feature_sweeping_timeout': None,\n",
            " 'featurization_config': None,\n",
            " 'force_text_dnn': None,\n",
            " 'is_cross_validation': None,\n",
            " 'is_onnx_compatible': None,\n",
            " 'logger': None,\n",
            " 'observer': None,\n",
            " 'task': None,\n",
            " 'working_dir': None}\n",
            "\n",
            "prefittedsoftvotingclassifier\n",
            "{'estimators': ['1',\n",
            "                '22',\n",
            "                '31',\n",
            "                '3',\n",
            "                '15',\n",
            "                '2',\n",
            "                '19',\n",
            "                '4',\n",
            "                '29',\n",
            "                '16',\n",
            "                '26',\n",
            "                '9'],\n",
            " 'weights': [0.13333333333333333,\n",
            "             0.06666666666666667,\n",
            "             0.06666666666666667,\n",
            "             0.06666666666666667,\n",
            "             0.06666666666666667,\n",
            "             0.06666666666666667,\n",
            "             0.06666666666666667,\n",
            "             0.13333333333333333,\n",
            "             0.06666666666666667,\n",
            "             0.13333333333333333,\n",
            "             0.06666666666666667,\n",
            "             0.06666666666666667]}\n",
            "\n",
            "1 - maxabsscaler\n",
            "{'copy': True}\n",
            "\n",
            "1 - xgboostclassifier\n",
            "{'base_score': 0.5,\n",
            " 'booster': 'gbtree',\n",
            " 'colsample_bylevel': 1,\n",
            " 'colsample_bynode': 1,\n",
            " 'colsample_bytree': 1,\n",
            " 'gamma': 0,\n",
            " 'learning_rate': 0.1,\n",
            " 'max_delta_step': 0,\n",
            " 'max_depth': 3,\n",
            " 'min_child_weight': 1,\n",
            " 'missing': nan,\n",
            " 'n_estimators': 100,\n",
            " 'n_jobs': 1,\n",
            " 'nthread': None,\n",
            " 'objective': 'binary:logistic',\n",
            " 'random_state': 0,\n",
            " 'reg_alpha': 0,\n",
            " 'reg_lambda': 1,\n",
            " 'scale_pos_weight': 1,\n",
            " 'seed': None,\n",
            " 'silent': None,\n",
            " 'subsample': 1,\n",
            " 'tree_method': 'auto',\n",
            " 'verbose': -10,\n",
            " 'verbosity': 0}\n",
            "\n",
            "22 - maxabsscaler\n",
            "{'copy': True}\n",
            "\n",
            "22 - lightgbmclassifier\n",
            "{'boosting_type': 'gbdt',\n",
            " 'class_weight': None,\n",
            " 'colsample_bytree': 0.8911111111111111,\n",
            " 'importance_type': 'split',\n",
            " 'learning_rate': 0.05263631578947369,\n",
            " 'max_bin': 110,\n",
            " 'max_depth': 4,\n",
            " 'min_child_samples': 8,\n",
            " 'min_child_weight': 8,\n",
            " 'min_split_gain': 0.5263157894736842,\n",
            " 'n_estimators': 200,\n",
            " 'n_jobs': 1,\n",
            " 'num_leaves': 215,\n",
            " 'objective': None,\n",
            " 'random_state': None,\n",
            " 'reg_alpha': 0,\n",
            " 'reg_lambda': 0.2631578947368421,\n",
            " 'silent': True,\n",
            " 'subsample': 0.3468421052631579,\n",
            " 'subsample_for_bin': 200000,\n",
            " 'subsample_freq': 0,\n",
            " 'verbose': -10}\n",
            "\n",
            "31 - standardscalerwrapper\n",
            "{'class_name': 'StandardScaler',\n",
            " 'copy': True,\n",
            " 'module_name': 'sklearn.preprocessing._data',\n",
            " 'with_mean': False,\n",
            " 'with_std': False}\n",
            "\n",
            "31 - xgboostclassifier\n",
            "{'base_score': 0.5,\n",
            " 'booster': 'gbtree',\n",
            " 'colsample_bylevel': 1,\n",
            " 'colsample_bynode': 1,\n",
            " 'colsample_bytree': 1,\n",
            " 'eta': 0.2,\n",
            " 'gamma': 0.01,\n",
            " 'learning_rate': 0.1,\n",
            " 'max_delta_step': 0,\n",
            " 'max_depth': 7,\n",
            " 'max_leaves': 0,\n",
            " 'min_child_weight': 1,\n",
            " 'missing': nan,\n",
            " 'n_estimators': 50,\n",
            " 'n_jobs': 1,\n",
            " 'nthread': None,\n",
            " 'objective': 'reg:logistic',\n",
            " 'random_state': 0,\n",
            " 'reg_alpha': 1.3541666666666667,\n",
            " 'reg_lambda': 0.625,\n",
            " 'scale_pos_weight': 1,\n",
            " 'seed': None,\n",
            " 'silent': None,\n",
            " 'subsample': 1,\n",
            " 'tree_method': 'auto',\n",
            " 'verbose': -10,\n",
            " 'verbosity': 0}\n",
            "\n",
            "3 - maxabsscaler\n",
            "{'copy': True}\n",
            "\n",
            "3 - randomforestclassifier\n",
            "{'bootstrap': True,\n",
            " 'ccp_alpha': 0.0,\n",
            " 'class_weight': 'balanced',\n",
            " 'criterion': 'gini',\n",
            " 'max_depth': None,\n",
            " 'max_features': 'log2',\n",
            " 'max_leaf_nodes': None,\n",
            " 'max_samples': None,\n",
            " 'min_impurity_decrease': 0.0,\n",
            " 'min_impurity_split': None,\n",
            " 'min_samples_leaf': 0.01,\n",
            " 'min_samples_split': 0.01,\n",
            " 'min_weight_fraction_leaf': 0.0,\n",
            " 'n_estimators': 25,\n",
            " 'n_jobs': 1,\n",
            " 'oob_score': True,\n",
            " 'random_state': None,\n",
            " 'verbose': 0,\n",
            " 'warm_start': False}\n",
            "\n",
            "15 - standardscalerwrapper\n",
            "{'class_name': 'StandardScaler',\n",
            " 'copy': True,\n",
            " 'module_name': 'sklearn.preprocessing._data',\n",
            " 'with_mean': False,\n",
            " 'with_std': False}\n",
            "\n",
            "15 - extratreesclassifier\n",
            "{'bootstrap': False,\n",
            " 'ccp_alpha': 0.0,\n",
            " 'class_weight': None,\n",
            " 'criterion': 'gini',\n",
            " 'max_depth': None,\n",
            " 'max_features': None,\n",
            " 'max_leaf_nodes': None,\n",
            " 'max_samples': None,\n",
            " 'min_impurity_decrease': 0.0,\n",
            " 'min_impurity_split': None,\n",
            " 'min_samples_leaf': 0.06157894736842105,\n",
            " 'min_samples_split': 0.15052631578947367,\n",
            " 'min_weight_fraction_leaf': 0.0,\n",
            " 'n_estimators': 10,\n",
            " 'n_jobs': 1,\n",
            " 'oob_score': False,\n",
            " 'random_state': None,\n",
            " 'verbose': 0,\n",
            " 'warm_start': False}\n",
            "\n",
            "2 - maxabsscaler\n",
            "{'copy': True}\n",
            "\n",
            "2 - randomforestclassifier\n",
            "{'bootstrap': False,\n",
            " 'ccp_alpha': 0.0,\n",
            " 'class_weight': None,\n",
            " 'criterion': 'gini',\n",
            " 'max_depth': None,\n",
            " 'max_features': 'sqrt',\n",
            " 'max_leaf_nodes': None,\n",
            " 'max_samples': None,\n",
            " 'min_impurity_decrease': 0.0,\n",
            " 'min_impurity_split': None,\n",
            " 'min_samples_leaf': 0.01,\n",
            " 'min_samples_split': 0.10368421052631578,\n",
            " 'min_weight_fraction_leaf': 0.0,\n",
            " 'n_estimators': 10,\n",
            " 'n_jobs': 1,\n",
            " 'oob_score': False,\n",
            " 'random_state': None,\n",
            " 'verbose': 0,\n",
            " 'warm_start': False}\n",
            "\n",
            "19 - standardscalerwrapper\n",
            "{'class_name': 'StandardScaler',\n",
            " 'copy': True,\n",
            " 'module_name': 'sklearn.preprocessing._data',\n",
            " 'with_mean': False,\n",
            " 'with_std': False}\n",
            "\n",
            "19 - xgboostclassifier\n",
            "{'base_score': 0.5,\n",
            " 'booster': 'gbtree',\n",
            " 'colsample_bylevel': 1,\n",
            " 'colsample_bynode': 1,\n",
            " 'colsample_bytree': 1,\n",
            " 'eta': 0.001,\n",
            " 'gamma': 0.1,\n",
            " 'grow_policy': 'lossguide',\n",
            " 'learning_rate': 0.1,\n",
            " 'max_bin': 1023,\n",
            " 'max_delta_step': 0,\n",
            " 'max_depth': 0,\n",
            " 'max_leaves': 63,\n",
            " 'min_child_weight': 1,\n",
            " 'missing': nan,\n",
            " 'n_estimators': 25,\n",
            " 'n_jobs': 1,\n",
            " 'nthread': None,\n",
            " 'objective': 'reg:logistic',\n",
            " 'random_state': 0,\n",
            " 'reg_alpha': 0,\n",
            " 'reg_lambda': 1.7708333333333335,\n",
            " 'scale_pos_weight': 1,\n",
            " 'seed': None,\n",
            " 'silent': None,\n",
            " 'subsample': 0.9,\n",
            " 'tree_method': 'hist',\n",
            " 'verbose': -10,\n",
            " 'verbosity': 0}\n",
            "\n",
            "4 - maxabsscaler\n",
            "{'copy': True}\n",
            "\n",
            "4 - randomforestclassifier\n",
            "{'bootstrap': True,\n",
            " 'ccp_alpha': 0.0,\n",
            " 'class_weight': None,\n",
            " 'criterion': 'gini',\n",
            " 'max_depth': None,\n",
            " 'max_features': 'sqrt',\n",
            " 'max_leaf_nodes': None,\n",
            " 'max_samples': None,\n",
            " 'min_impurity_decrease': 0.0,\n",
            " 'min_impurity_split': None,\n",
            " 'min_samples_leaf': 0.035789473684210524,\n",
            " 'min_samples_split': 0.01,\n",
            " 'min_weight_fraction_leaf': 0.0,\n",
            " 'n_estimators': 10,\n",
            " 'n_jobs': 1,\n",
            " 'oob_score': True,\n",
            " 'random_state': None,\n",
            " 'verbose': 0,\n",
            " 'warm_start': False}\n",
            "\n",
            "29 - maxabsscaler\n",
            "{'copy': True}\n",
            "\n",
            "29 - logisticregression\n",
            "{'C': 1048.1131341546852,\n",
            " 'class_weight': None,\n",
            " 'dual': False,\n",
            " 'fit_intercept': True,\n",
            " 'intercept_scaling': 1,\n",
            " 'l1_ratio': None,\n",
            " 'max_iter': 100,\n",
            " 'multi_class': 'multinomial',\n",
            " 'n_jobs': 1,\n",
            " 'penalty': 'l2',\n",
            " 'random_state': None,\n",
            " 'solver': 'saga',\n",
            " 'tol': 0.0001,\n",
            " 'verbose': 0,\n",
            " 'warm_start': False}\n",
            "\n",
            "16 - maxabsscaler\n",
            "{'copy': True}\n",
            "\n",
            "16 - extratreesclassifier\n",
            "{'bootstrap': True,\n",
            " 'ccp_alpha': 0.0,\n",
            " 'class_weight': 'balanced',\n",
            " 'criterion': 'gini',\n",
            " 'max_depth': None,\n",
            " 'max_features': 0.4,\n",
            " 'max_leaf_nodes': None,\n",
            " 'max_samples': None,\n",
            " 'min_impurity_decrease': 0.0,\n",
            " 'min_impurity_split': None,\n",
            " 'min_samples_leaf': 0.01,\n",
            " 'min_samples_split': 0.15052631578947367,\n",
            " 'min_weight_fraction_leaf': 0.0,\n",
            " 'n_estimators': 10,\n",
            " 'n_jobs': 1,\n",
            " 'oob_score': True,\n",
            " 'random_state': None,\n",
            " 'verbose': 0,\n",
            " 'warm_start': False}\n",
            "\n",
            "26 - standardscalerwrapper\n",
            "{'class_name': 'StandardScaler',\n",
            " 'copy': True,\n",
            " 'module_name': 'sklearn.preprocessing._data',\n",
            " 'with_mean': False,\n",
            " 'with_std': False}\n",
            "\n",
            "26 - xgboostclassifier\n",
            "{'base_score': 0.5,\n",
            " 'booster': 'gbtree',\n",
            " 'colsample_bylevel': 1,\n",
            " 'colsample_bynode': 1,\n",
            " 'colsample_bytree': 0.9,\n",
            " 'eta': 0.3,\n",
            " 'gamma': 10,\n",
            " 'learning_rate': 0.1,\n",
            " 'max_delta_step': 0,\n",
            " 'max_depth': 7,\n",
            " 'max_leaves': 0,\n",
            " 'min_child_weight': 1,\n",
            " 'missing': nan,\n",
            " 'n_estimators': 10,\n",
            " 'n_jobs': 1,\n",
            " 'nthread': None,\n",
            " 'objective': 'reg:logistic',\n",
            " 'random_state': 0,\n",
            " 'reg_alpha': 0.8333333333333334,\n",
            " 'reg_lambda': 0.20833333333333334,\n",
            " 'scale_pos_weight': 1,\n",
            " 'seed': None,\n",
            " 'silent': None,\n",
            " 'subsample': 0.5,\n",
            " 'tree_method': 'auto',\n",
            " 'verbose': -10,\n",
            " 'verbosity': 0}\n",
            "\n",
            "9 - maxabsscaler\n",
            "{'copy': True}\n",
            "\n",
            "9 - extratreesclassifier\n",
            "{'bootstrap': True,\n",
            " 'ccp_alpha': 0.0,\n",
            " 'class_weight': 'balanced',\n",
            " 'criterion': 'gini',\n",
            " 'max_depth': None,\n",
            " 'max_features': 0.1,\n",
            " 'max_leaf_nodes': None,\n",
            " 'max_samples': None,\n",
            " 'min_impurity_decrease': 0.0,\n",
            " 'min_impurity_split': None,\n",
            " 'min_samples_leaf': 0.01,\n",
            " 'min_samples_split': 0.15052631578947367,\n",
            " 'min_weight_fraction_leaf': 0.0,\n",
            " 'n_estimators': 50,\n",
            " 'n_jobs': 1,\n",
            " 'oob_score': False,\n",
            " 'random_state': None,\n",
            " 'verbose': 0,\n",
            " 'warm_start': False}\n",
            "\n"
          ]
        }
      ],
      "execution_count": 11,
      "metadata": {
        "collapsed": true,
        "jupyter": {
          "source_hidden": false,
          "outputs_hidden": false
        },
        "nteract": {
          "transient": {
            "deleting": false
          }
        },
        "gather": {
          "logged": 1612764230336
        }
      }
    },
    {
      "cell_type": "code",
      "source": [
        "#TODO: Save the best model\r\n",
        "os.makedirs('outputs', exist_ok=True)\r\n",
        "\r\n",
        "joblib.dump(fitted_model, 'outputs/automlmodel.joblib')\r\n"
      ],
      "outputs": [
        {
          "output_type": "execute_result",
          "execution_count": 12,
          "data": {
            "text/plain": "['outputs/automlmodel.joblib']"
          },
          "metadata": {}
        }
      ],
      "execution_count": 12,
      "metadata": {
        "gather": {
          "logged": 1612764367184
        },
        "jupyter": {
          "outputs_hidden": false,
          "source_hidden": false
        },
        "nteract": {
          "transient": {
            "deleting": false
          }
        }
      }
    },
    {
      "cell_type": "markdown",
      "source": [
        "## Model Deployment\n",
        "\n",
        "Remember you have to deploy only one of the two models you trained.. Perform the steps in the rest of this notebook only if you wish to deploy this model.\n",
        "\n",
        "TODO: In the cell below, register the model, create an inference config and deploy the model as a web service."
      ],
      "metadata": {}
    },
    {
      "cell_type": "code",
      "source": [
        "model_name = best_run.properties['model_name']\r\n",
        "description = 'AutoML Model'\r\n",
        "tags = None\r\n",
        "model = remote_run.register_model(model_name = model_name, description = description, tags = tags)"
      ],
      "outputs": [],
      "execution_count": null,
      "metadata": {
        "gather": {
          "logged": 1598431435189
        },
        "jupyter": {
          "outputs_hidden": false,
          "source_hidden": false
        },
        "nteract": {
          "transient": {
            "deleting": false
          }
        }
      }
    },
    {
      "cell_type": "markdown",
      "source": [
        "TODO: In the cell below, send a request to the web service you deployed to test it."
      ],
      "metadata": {
        "collapsed": true,
        "gather": {
          "logged": 1598431657736
        },
        "jupyter": {
          "outputs_hidden": false,
          "source_hidden": false
        },
        "nteract": {
          "transient": {
            "deleting": false
          }
        }
      }
    },
    {
      "cell_type": "code",
      "source": [],
      "outputs": [],
      "execution_count": null,
      "metadata": {
        "gather": {
          "logged": 1598432707604
        },
        "jupyter": {
          "outputs_hidden": false,
          "source_hidden": false
        },
        "nteract": {
          "transient": {
            "deleting": false
          }
        }
      }
    },
    {
      "cell_type": "markdown",
      "source": [
        "TODO: In the cell below, print the logs of the web service and delete the service"
      ],
      "metadata": {
        "collapsed": true,
        "gather": {
          "logged": 1598432765711
        },
        "jupyter": {
          "outputs_hidden": false,
          "source_hidden": false
        },
        "nteract": {
          "transient": {
            "deleting": false
          }
        }
      }
    },
    {
      "cell_type": "code",
      "source": [],
      "outputs": [],
      "execution_count": null,
      "metadata": {
        "jupyter": {
          "outputs_hidden": false,
          "source_hidden": false
        },
        "nteract": {
          "transient": {
            "deleting": false
          }
        }
      }
    }
  ],
  "metadata": {
    "kernel_info": {
      "name": "python3-azureml"
    },
    "kernelspec": {
      "name": "python3-azureml",
      "language": "python",
      "display_name": "Python 3.6 - AzureML"
    },
    "language_info": {
      "name": "python",
      "version": "3.6.9",
      "mimetype": "text/x-python",
      "codemirror_mode": {
        "name": "ipython",
        "version": 3
      },
      "pygments_lexer": "ipython3",
      "nbconvert_exporter": "python",
      "file_extension": ".py"
    },
    "nteract": {
      "version": "nteract-front-end@1.0.0"
    }
  },
  "nbformat": 4,
  "nbformat_minor": 2
}
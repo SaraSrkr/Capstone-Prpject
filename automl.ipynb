{
  "cells": [
    {
      "cell_type": "markdown",
      "source": [
        "# Automated ML\n",
        "\n",
        "TODO: Import Dependencies. In the cell below, import all the dependencies that you will need to complete the project."
      ],
      "metadata": {}
    },
    {
      "cell_type": "code",
      "source": [
        "import logging\r\n",
        "import os\r\n",
        "import csv\r\n",
        "from matplotlib import pyplot as plt\r\n",
        "import numpy as np\r\n",
        "import pandas as pd\r\n",
        "from sklearn import datasets\r\n",
        "import pkg_resources\r\n",
        "\r\n",
        "import azureml.core\r\n",
        "from azureml.core.experiment import Experiment\r\n",
        "from azureml.core.workspace import Workspace\r\n",
        "from azureml.train.automl import AutoMLConfig\r\n",
        "from azureml.core.dataset import Dataset\r\n",
        "\r\n",
        "from azureml.pipeline.steps import AutoMLStep\r\n",
        "\r\n",
        "\r\n",
        "# Check core SDK version number\r\n",
        "print(\"SDK version:\", azureml.core.VERSION)"
      ],
      "outputs": [
        {
          "output_type": "stream",
          "name": "stdout",
          "text": [
            "SDK version: 1.20.0\n"
          ]
        }
      ],
      "execution_count": 1,
      "metadata": {
        "gather": {
          "logged": 1613112046866
        },
        "jupyter": {
          "outputs_hidden": false,
          "source_hidden": false
        },
        "nteract": {
          "transient": {
            "deleting": false
          }
        }
      }
    },
    {
      "cell_type": "markdown",
      "source": [
        "## Dataset\n",
        "\n",
        "### Overview\n",
        "TODO: In this markdown cell, give an overview of the dataset you are using. Also mention the task you will be performing.\n",
        "\n",
        "\n",
        "TODO: Get data. In the cell below, write code to access the data you will be using in this project. Remember that the dataset needs to be external."
      ],
      "metadata": {}
    },
    {
      "cell_type": "code",
      "source": [
        "#prepare the azure envaironment\n",
        "\n",
        "ws = Workspace.from_config()\n",
        "print(ws.name, ws.resource_group, ws.location, ws.subscription_id, sep = '\\n')\n",
        "\n",
        "# choose a name for experiment\n",
        "experiment_name = 'diabetes'\n",
        "\n",
        "#create the project folder\n",
        "project_folder = './diabetes-project'\n",
        "\n",
        "experiment = Experiment(ws, experiment_name)\n",
        "experiment"
      ],
      "outputs": [
        {
          "output_type": "stream",
          "name": "stdout",
          "text": [
            "Performing interactive authentication. Please follow the instructions on the terminal.\n",
            "To sign in, use a web browser to open the page https://microsoft.com/devicelogin and enter the code ACRPHKVAG to authenticate.\n",
            "You have logged in. Now let us find all the subscriptions to which you have access...\n",
            "Interactive authentication successfully completed.\n",
            "quick-starts-ws-138665\n",
            "aml-quickstarts-138665\n",
            "southcentralus\n",
            "3d1a56d2-7c81-4118-9790-f85d1acf0c77\n"
          ]
        },
        {
          "output_type": "execute_result",
          "execution_count": 2,
          "data": {
            "text/plain": "Experiment(Name: diabetes,\nWorkspace: quick-starts-ws-138665)",
            "text/html": "<table style=\"width:100%\"><tr><th>Name</th><th>Workspace</th><th>Report Page</th><th>Docs Page</th></tr><tr><td>diabetes</td><td>quick-starts-ws-138665</td><td><a href=\"https://ml.azure.com/experiments/diabetes?wsid=/subscriptions/3d1a56d2-7c81-4118-9790-f85d1acf0c77/resourcegroups/aml-quickstarts-138665/workspaces/quick-starts-ws-138665\" target=\"_blank\" rel=\"noopener\">Link to Azure Machine Learning studio</a></td><td><a href=\"https://docs.microsoft.com/en-us/python/api/azureml-core/azureml.core.experiment.Experiment?view=azure-ml-py\" target=\"_blank\" rel=\"noopener\">Link to Documentation</a></td></tr></table>"
          },
          "metadata": {}
        }
      ],
      "execution_count": 2,
      "metadata": {
        "gather": {
          "logged": 1613112148072
        },
        "jupyter": {
          "outputs_hidden": false,
          "source_hidden": false
        },
        "nteract": {
          "transient": {
            "deleting": false
          }
        }
      }
    },
    {
      "cell_type": "code",
      "source": [
        "#create cluster compute to run the expermints\r\n",
        "from azureml.core.compute import AmlCompute\r\n",
        "from azureml.core.compute import ComputeTarget\r\n",
        "from azureml.core.compute_target import ComputeTargetException\r\n",
        "\r\n",
        "# Choose a name for your CPU cluster\r\n",
        "amlcompute_cluster_name = \"capcpu\"\r\n",
        "\r\n",
        "# Verify that cluster does not exist already\r\n",
        "try:\r\n",
        "    compute_target = ComputeTarget(workspace=ws, name=amlcompute_cluster_name)\r\n",
        "    print('Found existing cluster, use it.')\r\n",
        "except ComputeTargetException:\r\n",
        "\r\n",
        "    compute_config = AmlCompute.provisioning_configuration(vm_size='STANDARD_D2_V2',# for GPU, use \"STANDARD_NC6\"\r\n",
        "                                                           #vm_priority = 'lowpriority', # optional\r\n",
        "                                                             max_nodes=4)\r\n",
        "    compute_target = ComputeTarget.create(ws, amlcompute_cluster_name, compute_config)\r\n",
        "\r\n",
        "compute_target.wait_for_completion(show_output=True, min_node_count = 1, timeout_in_minutes = 10)\r\n",
        "# For a more detailed view of current AmlCompute status, use get_status()."
      ],
      "outputs": [
        {
          "output_type": "stream",
          "name": "stdout",
          "text": [
            "Creating\n",
            "Succeeded...............................................................................................................\n",
            "AmlCompute wait for completion finished\n",
            "\n",
            "Wait timeout has been reached\n",
            "Current provisioning state of AmlCompute is \"Succeeded\" and current node count is \"0\"\n"
          ]
        }
      ],
      "execution_count": 3,
      "metadata": {
        "collapsed": true,
        "jupyter": {
          "source_hidden": false,
          "outputs_hidden": false
        },
        "nteract": {
          "transient": {
            "deleting": false
          }
        },
        "gather": {
          "logged": 1613112787600
        }
      }
    },
    {
      "cell_type": "code",
      "source": [
        "#search about if the dataset found or register it in the workspace from it's url in the project folder in github\r\n",
        "found = False\r\n",
        "key = \"diabetes\"\r\n",
        "description_text = \"predict diabetes\"\r\n",
        "\r\n",
        "if key in ws.datasets.keys(): \r\n",
        "        found = True\r\n",
        "        dataset = ws.datasets[key] \r\n",
        "\r\n",
        "if not found:\r\n",
        "        # Create Dataset and register it into Workspace\r\n",
        "        example_data = 'https://raw.githubusercontent.com/SaraSrkr/Capstone-Prpject/main/diabetes.csv'\r\n",
        "        dataset = Dataset.Tabular.from_delimited_files(example_data)        \r\n",
        "        #Register Dataset in Workspace\r\n",
        "        dataset = dataset.register(workspace=ws,\r\n",
        "                                   name=key,\r\n",
        "                                   description=description_text)\r\n",
        "\r\n",
        "# access to the dataset and get its description\r\n",
        "df = dataset.to_pandas_dataframe()\r\n",
        "df.describe()"
      ],
      "outputs": [
        {
          "output_type": "execute_result",
          "execution_count": 4,
          "data": {
            "text/plain": "       Pregnancies     Glucose  BloodPressure  SkinThickness     Insulin  \\\ncount   768.000000  768.000000     768.000000     768.000000  768.000000   \nmean      3.845052  120.894531      69.105469      20.536458   79.799479   \nstd       3.369578   31.972618      19.355807      15.952218  115.244002   \nmin       0.000000    0.000000       0.000000       0.000000    0.000000   \n25%       1.000000   99.000000      62.000000       0.000000    0.000000   \n50%       3.000000  117.000000      72.000000      23.000000   30.500000   \n75%       6.000000  140.250000      80.000000      32.000000  127.250000   \nmax      17.000000  199.000000     122.000000      99.000000  846.000000   \n\n              BMI  DiabetesPedigreeFunction         Age     Outcome  \ncount  768.000000                768.000000  768.000000  768.000000  \nmean    31.992578                  0.471876   33.240885    0.348958  \nstd      7.884160                  0.331329   11.760232    0.476951  \nmin      0.000000                  0.078000   21.000000    0.000000  \n25%     27.300000                  0.243750   24.000000    0.000000  \n50%     32.000000                  0.372500   29.000000    0.000000  \n75%     36.600000                  0.626250   41.000000    1.000000  \nmax     67.100000                  2.420000   81.000000    1.000000  ",
            "text/html": "<div>\n<style scoped>\n    .dataframe tbody tr th:only-of-type {\n        vertical-align: middle;\n    }\n\n    .dataframe tbody tr th {\n        vertical-align: top;\n    }\n\n    .dataframe thead th {\n        text-align: right;\n    }\n</style>\n<table border=\"1\" class=\"dataframe\">\n  <thead>\n    <tr style=\"text-align: right;\">\n      <th></th>\n      <th>Pregnancies</th>\n      <th>Glucose</th>\n      <th>BloodPressure</th>\n      <th>SkinThickness</th>\n      <th>Insulin</th>\n      <th>BMI</th>\n      <th>DiabetesPedigreeFunction</th>\n      <th>Age</th>\n      <th>Outcome</th>\n    </tr>\n  </thead>\n  <tbody>\n    <tr>\n      <th>count</th>\n      <td>768.000000</td>\n      <td>768.000000</td>\n      <td>768.000000</td>\n      <td>768.000000</td>\n      <td>768.000000</td>\n      <td>768.000000</td>\n      <td>768.000000</td>\n      <td>768.000000</td>\n      <td>768.000000</td>\n    </tr>\n    <tr>\n      <th>mean</th>\n      <td>3.845052</td>\n      <td>120.894531</td>\n      <td>69.105469</td>\n      <td>20.536458</td>\n      <td>79.799479</td>\n      <td>31.992578</td>\n      <td>0.471876</td>\n      <td>33.240885</td>\n      <td>0.348958</td>\n    </tr>\n    <tr>\n      <th>std</th>\n      <td>3.369578</td>\n      <td>31.972618</td>\n      <td>19.355807</td>\n      <td>15.952218</td>\n      <td>115.244002</td>\n      <td>7.884160</td>\n      <td>0.331329</td>\n      <td>11.760232</td>\n      <td>0.476951</td>\n    </tr>\n    <tr>\n      <th>min</th>\n      <td>0.000000</td>\n      <td>0.000000</td>\n      <td>0.000000</td>\n      <td>0.000000</td>\n      <td>0.000000</td>\n      <td>0.000000</td>\n      <td>0.078000</td>\n      <td>21.000000</td>\n      <td>0.000000</td>\n    </tr>\n    <tr>\n      <th>25%</th>\n      <td>1.000000</td>\n      <td>99.000000</td>\n      <td>62.000000</td>\n      <td>0.000000</td>\n      <td>0.000000</td>\n      <td>27.300000</td>\n      <td>0.243750</td>\n      <td>24.000000</td>\n      <td>0.000000</td>\n    </tr>\n    <tr>\n      <th>50%</th>\n      <td>3.000000</td>\n      <td>117.000000</td>\n      <td>72.000000</td>\n      <td>23.000000</td>\n      <td>30.500000</td>\n      <td>32.000000</td>\n      <td>0.372500</td>\n      <td>29.000000</td>\n      <td>0.000000</td>\n    </tr>\n    <tr>\n      <th>75%</th>\n      <td>6.000000</td>\n      <td>140.250000</td>\n      <td>80.000000</td>\n      <td>32.000000</td>\n      <td>127.250000</td>\n      <td>36.600000</td>\n      <td>0.626250</td>\n      <td>41.000000</td>\n      <td>1.000000</td>\n    </tr>\n    <tr>\n      <th>max</th>\n      <td>17.000000</td>\n      <td>199.000000</td>\n      <td>122.000000</td>\n      <td>99.000000</td>\n      <td>846.000000</td>\n      <td>67.100000</td>\n      <td>2.420000</td>\n      <td>81.000000</td>\n      <td>1.000000</td>\n    </tr>\n  </tbody>\n</table>\n</div>"
          },
          "metadata": {}
        }
      ],
      "execution_count": 4,
      "metadata": {
        "collapsed": true,
        "jupyter": {
          "source_hidden": false,
          "outputs_hidden": false
        },
        "nteract": {
          "transient": {
            "deleting": false
          }
        },
        "gather": {
          "logged": 1613112800517
        }
      }
    },
    {
      "cell_type": "code",
      "source": [
        "dataset.take(5).to_pandas_dataframe()"
      ],
      "outputs": [
        {
          "output_type": "execute_result",
          "execution_count": 5,
          "data": {
            "text/plain": "   Pregnancies  Glucose  BloodPressure  SkinThickness  Insulin   BMI  \\\n0            6      148             72             35        0  33.6   \n1            1       85             66             29        0  26.6   \n2            8      183             64              0        0  23.3   \n3            1       89             66             23       94  28.1   \n4            0      137             40             35      168  43.1   \n\n   DiabetesPedigreeFunction  Age  Outcome  \n0                     0.627   50        1  \n1                     0.351   31        0  \n2                     0.672   32        1  \n3                     0.167   21        0  \n4                     2.288   33        1  ",
            "text/html": "<div>\n<style scoped>\n    .dataframe tbody tr th:only-of-type {\n        vertical-align: middle;\n    }\n\n    .dataframe tbody tr th {\n        vertical-align: top;\n    }\n\n    .dataframe thead th {\n        text-align: right;\n    }\n</style>\n<table border=\"1\" class=\"dataframe\">\n  <thead>\n    <tr style=\"text-align: right;\">\n      <th></th>\n      <th>Pregnancies</th>\n      <th>Glucose</th>\n      <th>BloodPressure</th>\n      <th>SkinThickness</th>\n      <th>Insulin</th>\n      <th>BMI</th>\n      <th>DiabetesPedigreeFunction</th>\n      <th>Age</th>\n      <th>Outcome</th>\n    </tr>\n  </thead>\n  <tbody>\n    <tr>\n      <th>0</th>\n      <td>6</td>\n      <td>148</td>\n      <td>72</td>\n      <td>35</td>\n      <td>0</td>\n      <td>33.6</td>\n      <td>0.627</td>\n      <td>50</td>\n      <td>1</td>\n    </tr>\n    <tr>\n      <th>1</th>\n      <td>1</td>\n      <td>85</td>\n      <td>66</td>\n      <td>29</td>\n      <td>0</td>\n      <td>26.6</td>\n      <td>0.351</td>\n      <td>31</td>\n      <td>0</td>\n    </tr>\n    <tr>\n      <th>2</th>\n      <td>8</td>\n      <td>183</td>\n      <td>64</td>\n      <td>0</td>\n      <td>0</td>\n      <td>23.3</td>\n      <td>0.672</td>\n      <td>32</td>\n      <td>1</td>\n    </tr>\n    <tr>\n      <th>3</th>\n      <td>1</td>\n      <td>89</td>\n      <td>66</td>\n      <td>23</td>\n      <td>94</td>\n      <td>28.1</td>\n      <td>0.167</td>\n      <td>21</td>\n      <td>0</td>\n    </tr>\n    <tr>\n      <th>4</th>\n      <td>0</td>\n      <td>137</td>\n      <td>40</td>\n      <td>35</td>\n      <td>168</td>\n      <td>43.1</td>\n      <td>2.288</td>\n      <td>33</td>\n      <td>1</td>\n    </tr>\n  </tbody>\n</table>\n</div>"
          },
          "metadata": {}
        }
      ],
      "execution_count": 5,
      "metadata": {
        "collapsed": true,
        "jupyter": {
          "source_hidden": false,
          "outputs_hidden": false
        },
        "nteract": {
          "transient": {
            "deleting": false
          }
        },
        "gather": {
          "logged": 1613112805017
        }
      }
    },
    {
      "cell_type": "markdown",
      "source": [
        "## AutoML Configuration\n",
        "\n",
        "TODO: Explain why you chose the automl settings and cofiguration you used below."
      ],
      "metadata": {}
    },
    {
      "cell_type": "code",
      "source": [
        "#  automl settings \n",
        "automl_settings = {\n",
        "    \"experiment_timeout_minutes\": 30,\n",
        "    \"max_concurrent_iterations\": 3,\n",
        "    \"primary_metric\" : 'accuracy'\n",
        "}\n",
        "\n",
        "# automl config \n",
        "automl_config = AutoMLConfig(compute_target=compute_target,\n",
        "                             task = \"classification\",\n",
        "                             training_data=dataset,\n",
        "                             label_column_name=\"Outcome\",   \n",
        "                             path = project_folder,\n",
        "                             enable_early_stopping= True,\n",
        "                             featurization= 'auto',\n",
        "                             debug_log = \"automl_errors.log\",\n",
        "                             **automl_settings)"
      ],
      "outputs": [],
      "execution_count": 6,
      "metadata": {
        "gather": {
          "logged": 1613112830589
        },
        "jupyter": {
          "outputs_hidden": false,
          "source_hidden": false
        },
        "nteract": {
          "transient": {
            "deleting": false
          }
        }
      }
    },
    {
      "cell_type": "code",
      "source": [
        "# Submit the experiment\n",
        "remote_run = experiment.submit(automl_config)"
      ],
      "outputs": [
        {
          "output_type": "stream",
          "name": "stdout",
          "text": [
            "Running on remote.\n"
          ]
        }
      ],
      "execution_count": 7,
      "metadata": {
        "gather": {
          "logged": 1613112865501
        },
        "jupyter": {
          "outputs_hidden": false,
          "source_hidden": false
        },
        "nteract": {
          "transient": {
            "deleting": false
          }
        }
      }
    },
    {
      "cell_type": "markdown",
      "source": [
        "## Run Details\n",
        "\n",
        "OPTIONAL: Write about the different models trained and their performance. Why do you think some models did better than others?\n",
        "\n",
        "TODO: In the cell below, use the `RunDetails` widget to show the different experiments."
      ],
      "metadata": {}
    },
    {
      "cell_type": "code",
      "source": [
        "from azureml.widgets import RunDetails\r\n",
        "\r\n",
        "RunDetails(remote_run).show()\r\n"
      ],
      "outputs": [
        {
          "output_type": "display_data",
          "data": {
            "text/plain": "_AutoMLWidget(widget_settings={'childWidgetDisplay': 'popup', 'send_telemetry': False, 'log_level': 'INFO', 's…",
            "application/vnd.jupyter.widget-view+json": {
              "version_major": 2,
              "version_minor": 0,
              "model_id": "3c01b5b2f95544c594d7214e5075656b"
            }
          },
          "metadata": {}
        },
        {
          "output_type": "display_data",
          "data": {
            "application/aml.mini.widget.v1": "{\"status\": \"Completed\", \"workbench_run_details_uri\": \"https://ml.azure.com/experiments/diabetes/runs/AutoML_aa0cbd0c-a891-4e63-a7bf-4a611387254f?wsid=/subscriptions/3d1a56d2-7c81-4118-9790-f85d1acf0c77/resourcegroups/aml-quickstarts-138665/workspaces/quick-starts-ws-138665\", \"run_id\": \"AutoML_aa0cbd0c-a891-4e63-a7bf-4a611387254f\", \"run_properties\": {\"run_id\": \"AutoML_aa0cbd0c-a891-4e63-a7bf-4a611387254f\", \"created_utc\": \"2021-02-12T06:54:23.437066Z\", \"properties\": {\"num_iterations\": \"1000\", \"training_type\": \"TrainFull\", \"acquisition_function\": \"EI\", \"primary_metric\": \"accuracy\", \"train_split\": \"0\", \"acquisition_parameter\": \"0\", \"num_cross_validation\": null, \"target\": \"capcpu\", \"AMLSettingsJsonString\": \"{\\\"path\\\":null,\\\"name\\\":\\\"diabetes\\\",\\\"subscription_id\\\":\\\"3d1a56d2-7c81-4118-9790-f85d1acf0c77\\\",\\\"resource_group\\\":\\\"aml-quickstarts-138665\\\",\\\"workspace_name\\\":\\\"quick-starts-ws-138665\\\",\\\"region\\\":\\\"southcentralus\\\",\\\"compute_target\\\":\\\"capcpu\\\",\\\"spark_service\\\":null,\\\"azure_service\\\":\\\"remote\\\",\\\"many_models\\\":false,\\\"pipeline_fetch_max_batch_size\\\":1,\\\"iterations\\\":1000,\\\"primary_metric\\\":\\\"accuracy\\\",\\\"task_type\\\":\\\"classification\\\",\\\"data_script\\\":null,\\\"validation_size\\\":0.0,\\\"n_cross_validations\\\":null,\\\"y_min\\\":null,\\\"y_max\\\":null,\\\"num_classes\\\":null,\\\"featurization\\\":\\\"auto\\\",\\\"_ignore_package_version_incompatibilities\\\":false,\\\"is_timeseries\\\":false,\\\"max_cores_per_iteration\\\":1,\\\"max_concurrent_iterations\\\":3,\\\"iteration_timeout_minutes\\\":null,\\\"mem_in_mb\\\":null,\\\"enforce_time_on_windows\\\":false,\\\"experiment_timeout_minutes\\\":30,\\\"experiment_exit_score\\\":null,\\\"whitelist_models\\\":null,\\\"blacklist_algos\\\":[\\\"TensorFlowLinearClassifier\\\",\\\"TensorFlowDNN\\\"],\\\"supported_models\\\":[\\\"ExtremeRandomTrees\\\",\\\"AveragedPerceptronClassifier\\\",\\\"TensorFlowDNN\\\",\\\"KNN\\\",\\\"TensorFlowLinearClassifier\\\",\\\"SGD\\\",\\\"LinearSVM\\\",\\\"DecisionTree\\\",\\\"LightGBM\\\",\\\"MultinomialNaiveBayes\\\",\\\"XGBoostClassifier\\\",\\\"SVM\\\",\\\"RandomForest\\\",\\\"LogisticRegression\\\",\\\"GradientBoosting\\\",\\\"BernoulliNaiveBayes\\\"],\\\"auto_blacklist\\\":true,\\\"blacklist_samples_reached\\\":false,\\\"exclude_nan_labels\\\":true,\\\"verbosity\\\":20,\\\"_debug_log\\\":\\\"azureml_automl.log\\\",\\\"show_warnings\\\":false,\\\"model_explainability\\\":true,\\\"service_url\\\":null,\\\"sdk_url\\\":null,\\\"sdk_packages\\\":null,\\\"enable_onnx_compatible_models\\\":false,\\\"enable_split_onnx_featurizer_estimator_models\\\":false,\\\"vm_type\\\":\\\"STANDARD_D2_V2\\\",\\\"telemetry_verbosity\\\":20,\\\"send_telemetry\\\":true,\\\"enable_dnn\\\":false,\\\"scenario\\\":\\\"SDK-1.13.0\\\",\\\"environment_label\\\":null,\\\"force_text_dnn\\\":false,\\\"enable_feature_sweeping\\\":true,\\\"enable_early_stopping\\\":true,\\\"early_stopping_n_iters\\\":10,\\\"metrics\\\":null,\\\"enable_ensembling\\\":true,\\\"enable_stack_ensembling\\\":true,\\\"ensemble_iterations\\\":15,\\\"enable_tf\\\":false,\\\"enable_subsampling\\\":null,\\\"subsample_seed\\\":null,\\\"enable_nimbusml\\\":false,\\\"enable_streaming\\\":false,\\\"force_streaming\\\":false,\\\"track_child_runs\\\":true,\\\"allowed_private_models\\\":[],\\\"label_column_name\\\":\\\"Outcome\\\",\\\"weight_column_name\\\":null,\\\"cv_split_column_names\\\":null,\\\"enable_local_managed\\\":false,\\\"_local_managed_run_id\\\":null,\\\"cost_mode\\\":1,\\\"lag_length\\\":0,\\\"metric_operation\\\":\\\"maximize\\\",\\\"preprocess\\\":true}\", \"DataPrepJsonString\": \"{\\\\\\\"training_data\\\\\\\": \\\\\\\"{\\\\\\\\\\\\\\\"blocks\\\\\\\\\\\\\\\": [{\\\\\\\\\\\\\\\"id\\\\\\\\\\\\\\\": \\\\\\\\\\\\\\\"255a44d5-7c54-40d0-adb1-708dbcb86020\\\\\\\\\\\\\\\", \\\\\\\\\\\\\\\"type\\\\\\\\\\\\\\\": \\\\\\\\\\\\\\\"Microsoft.DPrep.GetFilesBlock\\\\\\\\\\\\\\\", \\\\\\\\\\\\\\\"arguments\\\\\\\\\\\\\\\": {\\\\\\\\\\\\\\\"isArchive\\\\\\\\\\\\\\\": false, \\\\\\\\\\\\\\\"path\\\\\\\\\\\\\\\": {\\\\\\\\\\\\\\\"target\\\\\\\\\\\\\\\": 4, \\\\\\\\\\\\\\\"resourceDetails\\\\\\\\\\\\\\\": [{\\\\\\\\\\\\\\\"path\\\\\\\\\\\\\\\": \\\\\\\\\\\\\\\"https://raw.githubusercontent.com/SaraSrkr/Capstone-Prpject/main/diabetes.csv\\\\\\\\\\\\\\\"}]}}, \\\\\\\\\\\\\\\"localData\\\\\\\\\\\\\\\": {}, \\\\\\\\\\\\\\\"isEnabled\\\\\\\\\\\\\\\": true, \\\\\\\\\\\\\\\"name\\\\\\\\\\\\\\\": null, \\\\\\\\\\\\\\\"annotation\\\\\\\\\\\\\\\": null}, {\\\\\\\\\\\\\\\"id\\\\\\\\\\\\\\\": \\\\\\\\\\\\\\\"66af0f08-3882-4873-b640-dc8904d8bad3\\\\\\\\\\\\\\\", \\\\\\\\\\\\\\\"type\\\\\\\\\\\\\\\": \\\\\\\\\\\\\\\"Microsoft.DPrep.ParseDelimitedBlock\\\\\\\\\\\\\\\", \\\\\\\\\\\\\\\"arguments\\\\\\\\\\\\\\\": {\\\\\\\\\\\\\\\"columnHeadersMode\\\\\\\\\\\\\\\": 3, \\\\\\\\\\\\\\\"fileEncoding\\\\\\\\\\\\\\\": 0, \\\\\\\\\\\\\\\"handleQuotedLineBreaks\\\\\\\\\\\\\\\": false, \\\\\\\\\\\\\\\"preview\\\\\\\\\\\\\\\": false, \\\\\\\\\\\\\\\"separator\\\\\\\\\\\\\\\": \\\\\\\\\\\\\\\",\\\\\\\\\\\\\\\", \\\\\\\\\\\\\\\"skipRows\\\\\\\\\\\\\\\": 0, \\\\\\\\\\\\\\\"skipRowsMode\\\\\\\\\\\\\\\": 0}, \\\\\\\\\\\\\\\"localData\\\\\\\\\\\\\\\": {}, \\\\\\\\\\\\\\\"isEnabled\\\\\\\\\\\\\\\": true, \\\\\\\\\\\\\\\"name\\\\\\\\\\\\\\\": null, \\\\\\\\\\\\\\\"annotation\\\\\\\\\\\\\\\": null}, {\\\\\\\\\\\\\\\"id\\\\\\\\\\\\\\\": \\\\\\\\\\\\\\\"ae05173b-ab2a-4d74-b821-c1a047143406\\\\\\\\\\\\\\\", \\\\\\\\\\\\\\\"type\\\\\\\\\\\\\\\": \\\\\\\\\\\\\\\"Microsoft.DPrep.DropColumnsBlock\\\\\\\\\\\\\\\", \\\\\\\\\\\\\\\"arguments\\\\\\\\\\\\\\\": {\\\\\\\\\\\\\\\"columns\\\\\\\\\\\\\\\": {\\\\\\\\\\\\\\\"type\\\\\\\\\\\\\\\": 0, \\\\\\\\\\\\\\\"details\\\\\\\\\\\\\\\": {\\\\\\\\\\\\\\\"selectedColumns\\\\\\\\\\\\\\\": [\\\\\\\\\\\\\\\"Path\\\\\\\\\\\\\\\"]}}}, \\\\\\\\\\\\\\\"localData\\\\\\\\\\\\\\\": {}, \\\\\\\\\\\\\\\"isEnabled\\\\\\\\\\\\\\\": true, \\\\\\\\\\\\\\\"name\\\\\\\\\\\\\\\": null, \\\\\\\\\\\\\\\"annotation\\\\\\\\\\\\\\\": null}, {\\\\\\\\\\\\\\\"id\\\\\\\\\\\\\\\": \\\\\\\\\\\\\\\"ee2cd84a-ad34-49cd-bb70-5c86aae493d0\\\\\\\\\\\\\\\", \\\\\\\\\\\\\\\"type\\\\\\\\\\\\\\\": \\\\\\\\\\\\\\\"Microsoft.DPrep.SetColumnTypesBlock\\\\\\\\\\\\\\\", \\\\\\\\\\\\\\\"arguments\\\\\\\\\\\\\\\": {\\\\\\\\\\\\\\\"columnConversion\\\\\\\\\\\\\\\": [{\\\\\\\\\\\\\\\"column\\\\\\\\\\\\\\\": {\\\\\\\\\\\\\\\"type\\\\\\\\\\\\\\\": 2, \\\\\\\\\\\\\\\"details\\\\\\\\\\\\\\\": {\\\\\\\\\\\\\\\"selectedColumn\\\\\\\\\\\\\\\": \\\\\\\\\\\\\\\"Pregnancies\\\\\\\\\\\\\\\"}}, \\\\\\\\\\\\\\\"typeProperty\\\\\\\\\\\\\\\": 2}, {\\\\\\\\\\\\\\\"column\\\\\\\\\\\\\\\": {\\\\\\\\\\\\\\\"type\\\\\\\\\\\\\\\": 2, \\\\\\\\\\\\\\\"details\\\\\\\\\\\\\\\": {\\\\\\\\\\\\\\\"selectedColumn\\\\\\\\\\\\\\\": \\\\\\\\\\\\\\\"Glucose\\\\\\\\\\\\\\\"}}, \\\\\\\\\\\\\\\"typeProperty\\\\\\\\\\\\\\\": 2}, {\\\\\\\\\\\\\\\"column\\\\\\\\\\\\\\\": {\\\\\\\\\\\\\\\"type\\\\\\\\\\\\\\\": 2, \\\\\\\\\\\\\\\"details\\\\\\\\\\\\\\\": {\\\\\\\\\\\\\\\"selectedColumn\\\\\\\\\\\\\\\": \\\\\\\\\\\\\\\"BloodPressure\\\\\\\\\\\\\\\"}}, \\\\\\\\\\\\\\\"typeProperty\\\\\\\\\\\\\\\": 2}, {\\\\\\\\\\\\\\\"column\\\\\\\\\\\\\\\": {\\\\\\\\\\\\\\\"type\\\\\\\\\\\\\\\": 2, \\\\\\\\\\\\\\\"details\\\\\\\\\\\\\\\": {\\\\\\\\\\\\\\\"selectedColumn\\\\\\\\\\\\\\\": \\\\\\\\\\\\\\\"SkinThickness\\\\\\\\\\\\\\\"}}, \\\\\\\\\\\\\\\"typeProperty\\\\\\\\\\\\\\\": 2}, {\\\\\\\\\\\\\\\"column\\\\\\\\\\\\\\\": {\\\\\\\\\\\\\\\"type\\\\\\\\\\\\\\\": 2, \\\\\\\\\\\\\\\"details\\\\\\\\\\\\\\\": {\\\\\\\\\\\\\\\"selectedColumn\\\\\\\\\\\\\\\": \\\\\\\\\\\\\\\"Insulin\\\\\\\\\\\\\\\"}}, \\\\\\\\\\\\\\\"typeProperty\\\\\\\\\\\\\\\": 2}, {\\\\\\\\\\\\\\\"column\\\\\\\\\\\\\\\": {\\\\\\\\\\\\\\\"type\\\\\\\\\\\\\\\": 2, \\\\\\\\\\\\\\\"details\\\\\\\\\\\\\\\": {\\\\\\\\\\\\\\\"selectedColumn\\\\\\\\\\\\\\\": \\\\\\\\\\\\\\\"BMI\\\\\\\\\\\\\\\"}}, \\\\\\\\\\\\\\\"typeProperty\\\\\\\\\\\\\\\": 3}, {\\\\\\\\\\\\\\\"column\\\\\\\\\\\\\\\": {\\\\\\\\\\\\\\\"type\\\\\\\\\\\\\\\": 2, \\\\\\\\\\\\\\\"details\\\\\\\\\\\\\\\": {\\\\\\\\\\\\\\\"selectedColumn\\\\\\\\\\\\\\\": \\\\\\\\\\\\\\\"DiabetesPedigreeFunction\\\\\\\\\\\\\\\"}}, \\\\\\\\\\\\\\\"typeProperty\\\\\\\\\\\\\\\": 3}, {\\\\\\\\\\\\\\\"column\\\\\\\\\\\\\\\": {\\\\\\\\\\\\\\\"type\\\\\\\\\\\\\\\": 2, \\\\\\\\\\\\\\\"details\\\\\\\\\\\\\\\": {\\\\\\\\\\\\\\\"selectedColumn\\\\\\\\\\\\\\\": \\\\\\\\\\\\\\\"Age\\\\\\\\\\\\\\\"}}, \\\\\\\\\\\\\\\"typeProperty\\\\\\\\\\\\\\\": 2}, {\\\\\\\\\\\\\\\"column\\\\\\\\\\\\\\\": {\\\\\\\\\\\\\\\"type\\\\\\\\\\\\\\\": 2, \\\\\\\\\\\\\\\"details\\\\\\\\\\\\\\\": {\\\\\\\\\\\\\\\"selectedColumn\\\\\\\\\\\\\\\": \\\\\\\\\\\\\\\"Outcome\\\\\\\\\\\\\\\"}}, \\\\\\\\\\\\\\\"typeProperty\\\\\\\\\\\\\\\": 2}]}, \\\\\\\\\\\\\\\"localData\\\\\\\\\\\\\\\": {}, \\\\\\\\\\\\\\\"isEnabled\\\\\\\\\\\\\\\": true, \\\\\\\\\\\\\\\"name\\\\\\\\\\\\\\\": null, \\\\\\\\\\\\\\\"annotation\\\\\\\\\\\\\\\": null}], \\\\\\\\\\\\\\\"inspectors\\\\\\\\\\\\\\\": [], \\\\\\\\\\\\\\\"meta\\\\\\\\\\\\\\\": {\\\\\\\\\\\\\\\"savedDatasetId\\\\\\\\\\\\\\\": \\\\\\\\\\\\\\\"230121a2-d87d-480f-8262-07532c725e34\\\\\\\\\\\\\\\", \\\\\\\\\\\\\\\"datasetType\\\\\\\\\\\\\\\": \\\\\\\\\\\\\\\"tabular\\\\\\\\\\\\\\\", \\\\\\\\\\\\\\\"subscriptionId\\\\\\\\\\\\\\\": \\\\\\\\\\\\\\\"3d1a56d2-7c81-4118-9790-f85d1acf0c77\\\\\\\\\\\\\\\", \\\\\\\\\\\\\\\"workspaceId\\\\\\\\\\\\\\\": \\\\\\\\\\\\\\\"42b9cfe1-9fd1-4d67-8fba-7374972641b9\\\\\\\\\\\\\\\", \\\\\\\\\\\\\\\"workspaceLocation\\\\\\\\\\\\\\\": \\\\\\\\\\\\\\\"southcentralus\\\\\\\\\\\\\\\"}}\\\\\\\", \\\\\\\"activities\\\\\\\": 0}\", \"EnableSubsampling\": null, \"runTemplate\": \"AutoML\", \"azureml.runsource\": \"automl\", \"display_task_type\": \"classification\", \"dependencies_versions\": \"{\\\"azureml-widgets\\\": \\\"1.20.0\\\", \\\"azureml-train\\\": \\\"1.20.0\\\", \\\"azureml-train-restclients-hyperdrive\\\": \\\"1.20.0\\\", \\\"azureml-train-core\\\": \\\"1.20.0\\\", \\\"azureml-train-automl\\\": \\\"1.20.0\\\", \\\"azureml-train-automl-runtime\\\": \\\"1.20.0\\\", \\\"azureml-train-automl-client\\\": \\\"1.20.0\\\", \\\"azureml-tensorboard\\\": \\\"1.20.0\\\", \\\"azureml-telemetry\\\": \\\"1.20.0\\\", \\\"azureml-sdk\\\": \\\"1.20.0\\\", \\\"azureml-samples\\\": \\\"0+unknown\\\", \\\"azureml-pipeline\\\": \\\"1.20.0\\\", \\\"azureml-pipeline-steps\\\": \\\"1.20.0\\\", \\\"azureml-pipeline-core\\\": \\\"1.20.0\\\", \\\"azureml-opendatasets\\\": \\\"1.20.0\\\", \\\"azureml-model-management-sdk\\\": \\\"1.0.1b6.post1\\\", \\\"azureml-mlflow\\\": \\\"1.20.0.post1\\\", \\\"azureml-interpret\\\": \\\"1.20.0\\\", \\\"azureml-explain-model\\\": \\\"1.20.0\\\", \\\"azureml-defaults\\\": \\\"1.20.0\\\", \\\"azureml-dataset-runtime\\\": \\\"1.20.0\\\", \\\"azureml-dataprep\\\": \\\"2.7.3\\\", \\\"azureml-dataprep-rslex\\\": \\\"1.5.0\\\", \\\"azureml-dataprep-native\\\": \\\"27.0.0\\\", \\\"azureml-datadrift\\\": \\\"1.20.0\\\", \\\"azureml-core\\\": \\\"1.20.0\\\", \\\"azureml-contrib-services\\\": \\\"1.20.0\\\", \\\"azureml-contrib-server\\\": \\\"1.20.0\\\", \\\"azureml-contrib-reinforcementlearning\\\": \\\"1.20.0\\\", \\\"azureml-contrib-pipeline-steps\\\": \\\"1.20.0\\\", \\\"azureml-contrib-notebook\\\": \\\"1.20.0\\\", \\\"azureml-contrib-interpret\\\": \\\"1.20.0\\\", \\\"azureml-contrib-gbdt\\\": \\\"1.20.0\\\", \\\"azureml-contrib-fairness\\\": \\\"1.20.0\\\", \\\"azureml-contrib-dataset\\\": \\\"1.20.0\\\", \\\"azureml-cli-common\\\": \\\"1.20.0\\\", \\\"azureml-automl-runtime\\\": \\\"1.20.0\\\", \\\"azureml-automl-core\\\": \\\"1.20.0\\\", \\\"azureml-accel-models\\\": \\\"1.20.0\\\"}\", \"_aml_system_scenario_identification\": \"Remote.Parent\", \"ClientType\": \"SDK\", \"environment_cpu_name\": \"AzureML-AutoML\", \"environment_cpu_label\": \"prod\", \"environment_gpu_name\": \"AzureML-AutoML-GPU\", \"environment_gpu_label\": \"prod\", \"root_attribution\": \"automl\", \"attribution\": \"AutoML\", \"Orchestrator\": \"AutoML\", \"CancelUri\": \"https://southcentralus.experiments.azureml.net/jasmine/v1.0/subscriptions/3d1a56d2-7c81-4118-9790-f85d1acf0c77/resourceGroups/aml-quickstarts-138665/providers/Microsoft.MachineLearningServices/workspaces/quick-starts-ws-138665/experimentids/9cfecb45-1161-45f1-a063-19225385ba80/cancel/AutoML_aa0cbd0c-a891-4e63-a7bf-4a611387254f\", \"ClientSdkVersion\": \"1.21.0\", \"snapshotId\": \"00000000-0000-0000-0000-000000000000\", \"SetupRunId\": \"AutoML_aa0cbd0c-a891-4e63-a7bf-4a611387254f_setup\", \"SetupRunContainerId\": \"dcid.AutoML_aa0cbd0c-a891-4e63-a7bf-4a611387254f_setup\", \"FeaturizationRunJsonPath\": \"featurizer_container.json\", \"FeaturizationRunId\": \"AutoML_aa0cbd0c-a891-4e63-a7bf-4a611387254f_featurize\", \"ProblemInfoJsonString\": \"{\\\"dataset_num_categorical\\\": 0, \\\"is_sparse\\\": true, \\\"subsampling\\\": false, \\\"dataset_classes\\\": 2, \\\"dataset_features\\\": 24, \\\"dataset_samples\\\": 768, \\\"single_frequency_class_detected\\\": false}\", \"ModelExplainRunId\": \"AutoML_aa0cbd0c-a891-4e63-a7bf-4a611387254f_ModelExplain\"}, \"tags\": {\"model_explain_run\": \"best_run\", \"_aml_system_azureml.automlComponent\": \"AutoML\", \"pipeline_id\": \"\", \"score\": \"\", \"predicted_cost\": \"\", \"fit_time\": \"\", \"training_percent\": \"\", \"iteration\": \"\", \"run_preprocessor\": \"\", \"run_algorithm\": \"\", \"dynamic_whitelisting_iterations\": \"<25>;<30>;<34>;<40>;<45>;\", \"automl_best_child_run_id\": \"AutoML_aa0cbd0c-a891-4e63-a7bf-4a611387254f_47\", \"model_explain_best_run_child_id\": \"AutoML_aa0cbd0c-a891-4e63-a7bf-4a611387254f_47\"}, \"end_time_utc\": \"2021-02-12T07:33:46.64335Z\", \"status\": \"Completed\", \"log_files\": {}, \"log_groups\": [], \"run_duration\": \"0:39:23\"}, \"child_runs\": [{\"run_id\": \"AutoML_aa0cbd0c-a891-4e63-a7bf-4a611387254f_1\", \"run_number\": 5, \"metric\": null, \"status\": \"Completed\", \"run_type\": \"azureml.scriptrun\", \"training_percent\": \"100\", \"start_time\": \"2021-02-12T07:07:54.075956Z\", \"end_time\": \"2021-02-12T07:08:52.369728Z\", \"created_time\": \"2021-02-12T07:05:42.598854Z\", \"created_time_dt\": \"2021-02-12T07:05:42.598854Z\", \"duration\": \"0:03:09\", \"iteration\": \"1\", \"goal\": \"accuracy_max\", \"run_name\": \"MaxAbsScaler, XGBoostClassifier\", \"run_properties\": \"copy=True\", \"primary_metric\": 0.76956596, \"best_metric\": 0.76956596}, {\"run_id\": \"AutoML_aa0cbd0c-a891-4e63-a7bf-4a611387254f_0\", \"run_number\": 6, \"metric\": null, \"status\": \"Completed\", \"run_type\": \"azureml.scriptrun\", \"training_percent\": \"100\", \"start_time\": \"2021-02-12T07:06:50.276048Z\", \"end_time\": \"2021-02-12T07:07:50.682449Z\", \"created_time\": \"2021-02-12T07:05:42.618393Z\", \"created_time_dt\": \"2021-02-12T07:05:42.618393Z\", \"duration\": \"0:02:08\", \"iteration\": \"0\", \"goal\": \"accuracy_max\", \"run_name\": \"MaxAbsScaler, LightGBM\", \"run_properties\": \"copy=True\", \"primary_metric\": 0.73961039, \"best_metric\": 0.73961039}, {\"run_id\": \"AutoML_aa0cbd0c-a891-4e63-a7bf-4a611387254f_2\", \"run_number\": 7, \"metric\": null, \"status\": \"Completed\", \"run_type\": \"azureml.scriptrun\", \"training_percent\": \"100\", \"start_time\": \"2021-02-12T07:05:53.497574Z\", \"end_time\": \"2021-02-12T07:06:47.262643Z\", \"created_time\": \"2021-02-12T07:05:42.663061Z\", \"created_time_dt\": \"2021-02-12T07:05:42.663061Z\", \"duration\": \"0:01:04\", \"iteration\": \"2\", \"goal\": \"accuracy_max\", \"run_name\": \"MaxAbsScaler, RandomForest\", \"run_properties\": \"copy=True\", \"primary_metric\": 0.75261449, \"best_metric\": 0.76956596}, {\"run_id\": \"AutoML_aa0cbd0c-a891-4e63-a7bf-4a611387254f_3\", \"run_number\": 8, \"metric\": null, \"status\": \"Completed\", \"run_type\": \"azureml.scriptrun\", \"training_percent\": \"100\", \"start_time\": \"2021-02-12T07:08:55.342115Z\", \"end_time\": \"2021-02-12T07:09:51.665651Z\", \"created_time\": \"2021-02-12T07:06:51.66451Z\", \"created_time_dt\": \"2021-02-12T07:06:51.66451Z\", \"duration\": \"0:03:00\", \"iteration\": \"3\", \"goal\": \"accuracy_max\", \"run_name\": \"MaxAbsScaler, RandomForest\", \"run_properties\": \"copy=True\", \"primary_metric\": 0.74224197, \"best_metric\": 0.76956596}, {\"run_id\": \"AutoML_aa0cbd0c-a891-4e63-a7bf-4a611387254f_4\", \"run_number\": 9, \"metric\": null, \"status\": \"Completed\", \"run_type\": \"azureml.scriptrun\", \"training_percent\": \"100\", \"start_time\": \"2021-02-12T07:09:06.086344Z\", \"end_time\": \"2021-02-12T07:14:35.040258Z\", \"created_time\": \"2021-02-12T07:07:54.286469Z\", \"created_time_dt\": \"2021-02-12T07:07:54.286469Z\", \"duration\": \"0:06:40\", \"iteration\": \"4\", \"goal\": \"accuracy_max\", \"run_name\": \"MaxAbsScaler, RandomForest\", \"run_properties\": \"copy=True\", \"primary_metric\": 0.75140123, \"best_metric\": 0.76956596}, {\"run_id\": \"AutoML_aa0cbd0c-a891-4e63-a7bf-4a611387254f_5\", \"run_number\": 10, \"metric\": null, \"status\": \"Completed\", \"run_type\": \"azureml.scriptrun\", \"training_percent\": \"100\", \"start_time\": \"2021-02-12T07:09:56.18022Z\", \"end_time\": \"2021-02-12T07:10:55.590338Z\", \"created_time\": \"2021-02-12T07:08:56.197344Z\", \"created_time_dt\": \"2021-02-12T07:08:56.197344Z\", \"duration\": \"0:01:59\", \"iteration\": \"5\", \"goal\": \"accuracy_max\", \"run_name\": \"MaxAbsScaler, RandomForest\", \"run_properties\": \"copy=True\", \"primary_metric\": 0.72530759, \"best_metric\": 0.76956596}, {\"run_id\": \"AutoML_aa0cbd0c-a891-4e63-a7bf-4a611387254f_6\", \"run_number\": 11, \"metric\": null, \"status\": \"Completed\", \"run_type\": \"azureml.scriptrun\", \"training_percent\": \"100\", \"start_time\": \"2021-02-12T07:10:47.866632Z\", \"end_time\": \"2021-02-12T07:16:32.391165Z\", \"created_time\": \"2021-02-12T07:09:54.673279Z\", \"created_time_dt\": \"2021-02-12T07:09:54.673279Z\", \"duration\": \"0:06:37\", \"iteration\": \"6\", \"goal\": \"accuracy_max\", \"run_name\": \"SparseNormalizer, XGBoostClassifier\", \"run_properties\": \"<azureml.automl.runtime.shared.model_wrappers.SparseNormalizer object at 0x7fca83594ba8\", \"primary_metric\": 0.71093643, \"best_metric\": 0.76956596}, {\"run_id\": \"AutoML_aa0cbd0c-a891-4e63-a7bf-4a611387254f_7\", \"run_number\": 12, \"metric\": null, \"status\": \"Completed\", \"run_type\": \"azureml.scriptrun\", \"training_percent\": \"100\", \"start_time\": \"2021-02-12T07:11:11.462798Z\", \"end_time\": \"2021-02-12T07:12:07.737153Z\", \"created_time\": \"2021-02-12T07:10:58.283903Z\", \"created_time_dt\": \"2021-02-12T07:10:58.283903Z\", \"duration\": \"0:01:09\", \"iteration\": \"7\", \"goal\": \"accuracy_max\", \"run_name\": \"SparseNormalizer, XGBoostClassifier\", \"run_properties\": \"<azureml.automl.runtime.shared.model_wrappers.SparseNormalizer object at 0x7f183263bf98\", \"primary_metric\": 0.72652085, \"best_metric\": 0.76956596}, {\"run_id\": \"AutoML_aa0cbd0c-a891-4e63-a7bf-4a611387254f_8\", \"run_number\": 13, \"metric\": null, \"status\": \"Completed\", \"run_type\": \"azureml.scriptrun\", \"training_percent\": \"100\", \"start_time\": \"2021-02-12T07:12:32.580295Z\", \"end_time\": \"2021-02-12T07:13:37.621982Z\", \"created_time\": \"2021-02-12T07:12:11.206279Z\", \"created_time_dt\": \"2021-02-12T07:12:11.206279Z\", \"duration\": \"0:01:26\", \"iteration\": \"8\", \"goal\": \"accuracy_max\", \"run_name\": \"MaxAbsScaler, RandomForest\", \"run_properties\": \"copy=True\", \"primary_metric\": 0.67183869, \"best_metric\": 0.76956596}, {\"run_id\": \"AutoML_aa0cbd0c-a891-4e63-a7bf-4a611387254f_9\", \"run_number\": 14, \"metric\": null, \"status\": \"Completed\", \"run_type\": \"azureml.scriptrun\", \"training_percent\": \"100\", \"start_time\": \"2021-02-12T07:13:52.230489Z\", \"end_time\": \"2021-02-12T07:14:45.666729Z\", \"created_time\": \"2021-02-12T07:13:40.585433Z\", \"created_time_dt\": \"2021-02-12T07:13:40.585433Z\", \"duration\": \"0:01:05\", \"iteration\": \"9\", \"goal\": \"accuracy_max\", \"run_name\": \"MaxAbsScaler, LogisticRegression\", \"run_properties\": \"copy=True\", \"primary_metric\": 0.77089884, \"best_metric\": 0.77089884}, {\"run_id\": \"AutoML_aa0cbd0c-a891-4e63-a7bf-4a611387254f_10\", \"run_number\": 15, \"metric\": null, \"status\": \"Completed\", \"run_type\": \"azureml.scriptrun\", \"training_percent\": \"100\", \"start_time\": \"2021-02-12T07:14:51.29727Z\", \"end_time\": \"2021-02-12T07:15:55.889144Z\", \"created_time\": \"2021-02-12T07:14:37.229366Z\", \"created_time_dt\": \"2021-02-12T07:14:37.229366Z\", \"duration\": \"0:01:18\", \"iteration\": \"10\", \"goal\": \"accuracy_max\", \"run_name\": \"SparseNormalizer, LightGBM\", \"run_properties\": \"<azureml.automl.runtime.shared.model_wrappers.SparseNormalizer object at 0x7f72cbfe4da0\", \"primary_metric\": 0.67566644, \"best_metric\": 0.77089884}, {\"run_id\": \"AutoML_aa0cbd0c-a891-4e63-a7bf-4a611387254f_11\", \"run_number\": 16, \"metric\": null, \"status\": \"Completed\", \"run_type\": \"azureml.scriptrun\", \"training_percent\": \"100\", \"start_time\": \"2021-02-12T07:15:02.545121Z\", \"end_time\": \"2021-02-12T07:15:57.317283Z\", \"created_time\": \"2021-02-12T07:14:48.752709Z\", \"created_time_dt\": \"2021-02-12T07:14:48.752709Z\", \"duration\": \"0:01:08\", \"iteration\": \"11\", \"goal\": \"accuracy_max\", \"run_name\": \"SparseNormalizer, XGBoostClassifier\", \"run_properties\": \"<azureml.automl.runtime.shared.model_wrappers.SparseNormalizer object at 0x7f3ecf29b4a8\", \"primary_metric\": 0.65625427, \"best_metric\": 0.77089884}, {\"run_id\": \"AutoML_aa0cbd0c-a891-4e63-a7bf-4a611387254f_12\", \"run_number\": 17, \"metric\": null, \"status\": \"Completed\", \"run_type\": \"azureml.scriptrun\", \"training_percent\": \"100\", \"start_time\": \"2021-02-12T07:16:10.090795Z\", \"end_time\": \"2021-02-12T07:17:22.72742Z\", \"created_time\": \"2021-02-12T07:15:58.724277Z\", \"created_time_dt\": \"2021-02-12T07:15:58.724277Z\", \"duration\": \"0:01:24\", \"iteration\": \"12\", \"goal\": \"accuracy_max\", \"run_name\": \"MaxAbsScaler, RandomForest\", \"run_properties\": \"copy=True\", \"primary_metric\": 0.76042379, \"best_metric\": 0.77089884}, {\"run_id\": \"AutoML_aa0cbd0c-a891-4e63-a7bf-4a611387254f_13\", \"run_number\": 18, \"metric\": null, \"status\": \"Completed\", \"run_type\": \"azureml.scriptrun\", \"training_percent\": \"100\", \"start_time\": \"2021-02-12T07:16:16.299669Z\", \"end_time\": \"2021-02-12T07:17:29.113361Z\", \"created_time\": \"2021-02-12T07:16:03.928982Z\", \"created_time_dt\": \"2021-02-12T07:16:03.928982Z\", \"duration\": \"0:01:25\", \"iteration\": \"13\", \"goal\": \"accuracy_max\", \"run_name\": \"MaxAbsScaler, LightGBM\", \"run_properties\": \"copy=True\", \"primary_metric\": 0.75133288, \"best_metric\": 0.77089884}, {\"run_id\": \"AutoML_aa0cbd0c-a891-4e63-a7bf-4a611387254f_14\", \"run_number\": 19, \"metric\": null, \"status\": \"Completed\", \"run_type\": \"azureml.scriptrun\", \"training_percent\": \"100\", \"start_time\": \"2021-02-12T07:16:45.802365Z\", \"end_time\": \"2021-02-12T07:17:42.658863Z\", \"created_time\": \"2021-02-12T07:16:35.470101Z\", \"created_time_dt\": \"2021-02-12T07:16:35.470101Z\", \"duration\": \"0:01:07\", \"iteration\": \"14\", \"goal\": \"accuracy_max\", \"run_name\": \"StandardScalerWrapper, RandomForest\", \"run_properties\": \"<azureml.automl.runtime.shared.model_wrappers.StandardScalerWrapper object at 0x7f8fc3dd1278\", \"primary_metric\": 0.74482228, \"best_metric\": 0.77089884}, {\"run_id\": \"AutoML_aa0cbd0c-a891-4e63-a7bf-4a611387254f_15\", \"run_number\": 20, \"metric\": null, \"status\": \"Completed\", \"run_type\": \"azureml.scriptrun\", \"training_percent\": \"100\", \"start_time\": \"2021-02-12T07:17:38.697127Z\", \"end_time\": \"2021-02-12T07:18:40.066452Z\", \"created_time\": \"2021-02-12T07:17:25.980253Z\", \"created_time_dt\": \"2021-02-12T07:17:25.980253Z\", \"duration\": \"0:01:14\", \"iteration\": \"15\", \"goal\": \"accuracy_max\", \"run_name\": \"SparseNormalizer, XGBoostClassifier\", \"run_properties\": \"<azureml.automl.runtime.shared.model_wrappers.SparseNormalizer object at 0x7fbea41c94a8\", \"primary_metric\": 0.70960355, \"best_metric\": 0.77089884}, {\"run_id\": \"AutoML_aa0cbd0c-a891-4e63-a7bf-4a611387254f_16\", \"run_number\": 21, \"metric\": null, \"status\": \"Completed\", \"run_type\": \"azureml.scriptrun\", \"training_percent\": \"100\", \"start_time\": \"2021-02-12T07:17:45.387232Z\", \"end_time\": \"2021-02-12T07:18:41.958458Z\", \"created_time\": \"2021-02-12T07:17:32.292903Z\", \"created_time_dt\": \"2021-02-12T07:17:32.292903Z\", \"duration\": \"0:01:09\", \"iteration\": \"16\", \"goal\": \"accuracy_max\", \"run_name\": \"MaxAbsScaler, LogisticRegression\", \"run_properties\": \"copy=True\", \"primary_metric\": 0.76828435, \"best_metric\": 0.77089884}, {\"run_id\": \"AutoML_aa0cbd0c-a891-4e63-a7bf-4a611387254f_17\", \"run_number\": 22, \"metric\": null, \"status\": \"Completed\", \"run_type\": \"azureml.scriptrun\", \"training_percent\": \"100\", \"start_time\": \"2021-02-12T07:17:59.427817Z\", \"end_time\": \"2021-02-12T07:18:49.108705Z\", \"created_time\": \"2021-02-12T07:17:45.585089Z\", \"created_time_dt\": \"2021-02-12T07:17:45.585089Z\", \"duration\": \"0:01:03\", \"iteration\": \"17\", \"goal\": \"accuracy_max\", \"run_name\": \"SparseNormalizer, XGBoostClassifier\", \"run_properties\": \"<azureml.automl.runtime.shared.model_wrappers.SparseNormalizer object at 0x7fcf708f2780\", \"primary_metric\": 0.69794942, \"best_metric\": 0.77089884}, {\"run_id\": \"AutoML_aa0cbd0c-a891-4e63-a7bf-4a611387254f_18\", \"run_number\": 23, \"metric\": null, \"status\": \"Completed\", \"run_type\": \"azureml.scriptrun\", \"training_percent\": \"100\", \"start_time\": \"2021-02-12T07:18:59.373038Z\", \"end_time\": \"2021-02-12T07:20:07.930463Z\", \"created_time\": \"2021-02-12T07:18:43.587409Z\", \"created_time_dt\": \"2021-02-12T07:18:43.587409Z\", \"duration\": \"0:01:24\", \"iteration\": \"18\", \"goal\": \"accuracy_max\", \"run_name\": \"MaxAbsScaler, ExtremeRandomTrees\", \"run_properties\": \"copy=True\", \"primary_metric\": 0.74220779, \"best_metric\": 0.77089884}, {\"run_id\": \"AutoML_aa0cbd0c-a891-4e63-a7bf-4a611387254f_19\", \"run_number\": 24, \"metric\": null, \"status\": \"Completed\", \"run_type\": \"azureml.scriptrun\", \"training_percent\": \"100\", \"start_time\": \"2021-02-12T07:19:04.392952Z\", \"end_time\": \"2021-02-12T07:20:09.198492Z\", \"created_time\": \"2021-02-12T07:18:52.13418Z\", \"created_time_dt\": \"2021-02-12T07:18:52.13418Z\", \"duration\": \"0:01:17\", \"iteration\": \"19\", \"goal\": \"accuracy_max\", \"run_name\": \"StandardScalerWrapper, ExtremeRandomTrees\", \"run_properties\": \"<azureml.automl.runtime.shared.model_wrappers.StandardScalerWrapper object at 0x7f2f9c6d2e48\", \"primary_metric\": 0.65618592, \"best_metric\": 0.77089884}, {\"run_id\": \"AutoML_aa0cbd0c-a891-4e63-a7bf-4a611387254f_20\", \"run_number\": 25, \"metric\": null, \"status\": \"Completed\", \"run_type\": \"azureml.scriptrun\", \"training_percent\": \"100\", \"start_time\": \"2021-02-12T07:19:04.567306Z\", \"end_time\": \"2021-02-12T07:20:11.07246Z\", \"created_time\": \"2021-02-12T07:18:52.28535Z\", \"created_time_dt\": \"2021-02-12T07:18:52.28535Z\", \"duration\": \"0:01:18\", \"iteration\": \"20\", \"goal\": \"accuracy_max\", \"run_name\": \"StandardScalerWrapper, ExtremeRandomTrees\", \"run_properties\": \"<azureml.automl.runtime.shared.model_wrappers.StandardScalerWrapper object at 0x7fdd5952ea58\", \"primary_metric\": 0.72910116, \"best_metric\": 0.77089884}, {\"run_id\": \"AutoML_aa0cbd0c-a891-4e63-a7bf-4a611387254f_21\", \"run_number\": 26, \"metric\": null, \"status\": \"Completed\", \"run_type\": \"azureml.scriptrun\", \"training_percent\": \"100\", \"start_time\": \"2021-02-12T07:20:22.382905Z\", \"end_time\": \"2021-02-12T07:21:12.766831Z\", \"created_time\": \"2021-02-12T07:20:11.027558Z\", \"created_time_dt\": \"2021-02-12T07:20:11.027558Z\", \"duration\": \"0:01:01\", \"iteration\": \"21\", \"goal\": \"accuracy_max\", \"run_name\": \"StandardScalerWrapper, LightGBM\", \"run_properties\": \"<azureml.automl.runtime.shared.model_wrappers.StandardScalerWrapper object at 0x7fd9bdd521d0\", \"primary_metric\": 0.73568011, \"best_metric\": 0.77089884}, {\"run_id\": \"AutoML_aa0cbd0c-a891-4e63-a7bf-4a611387254f_22\", \"run_number\": 27, \"metric\": null, \"status\": \"Completed\", \"run_type\": \"azureml.scriptrun\", \"training_percent\": \"100\", \"start_time\": \"2021-02-12T07:20:26.870001Z\", \"end_time\": \"2021-02-12T07:21:20.317058Z\", \"created_time\": \"2021-02-12T07:20:16.052456Z\", \"created_time_dt\": \"2021-02-12T07:20:16.052456Z\", \"duration\": \"0:01:04\", \"iteration\": \"22\", \"goal\": \"accuracy_max\", \"run_name\": \"SparseNormalizer, XGBoostClassifier\", \"run_properties\": \"<azureml.automl.runtime.shared.model_wrappers.SparseNormalizer object at 0x7fca82b66c18\", \"primary_metric\": 0.69403623, \"best_metric\": 0.77089884}, {\"run_id\": \"AutoML_aa0cbd0c-a891-4e63-a7bf-4a611387254f_23\", \"run_number\": 28, \"metric\": null, \"status\": \"Completed\", \"run_type\": \"azureml.scriptrun\", \"training_percent\": \"100\", \"start_time\": \"2021-02-12T07:20:27.68363Z\", \"end_time\": \"2021-02-12T07:21:24.625299Z\", \"created_time\": \"2021-02-12T07:20:16.166827Z\", \"created_time_dt\": \"2021-02-12T07:20:16.166827Z\", \"duration\": \"0:01:08\", \"iteration\": \"23\", \"goal\": \"accuracy_max\", \"run_name\": \"StandardScalerWrapper, XGBoostClassifier\", \"run_properties\": \"<azureml.automl.runtime.shared.model_wrappers.StandardScalerWrapper object at 0x7f71642f4e10\", \"primary_metric\": 0.7630041, \"best_metric\": 0.77089884}, {\"run_id\": \"AutoML_aa0cbd0c-a891-4e63-a7bf-4a611387254f_24\", \"run_number\": 29, \"metric\": null, \"status\": \"Completed\", \"run_type\": \"azureml.scriptrun\", \"training_percent\": \"100\", \"start_time\": \"2021-02-12T07:21:26.145436Z\", \"end_time\": \"2021-02-12T07:22:19.7998Z\", \"created_time\": \"2021-02-12T07:21:14.974853Z\", \"created_time_dt\": \"2021-02-12T07:21:14.974853Z\", \"duration\": \"0:01:04\", \"iteration\": \"24\", \"goal\": \"accuracy_max\", \"run_name\": \"MaxAbsScaler, LightGBM\", \"run_properties\": \"copy=True\", \"primary_metric\": 0.73180109, \"best_metric\": 0.77089884}, {\"run_id\": \"AutoML_aa0cbd0c-a891-4e63-a7bf-4a611387254f_25\", \"run_number\": 30, \"metric\": null, \"status\": \"Completed\", \"run_type\": \"azureml.scriptrun\", \"training_percent\": \"100\", \"start_time\": \"2021-02-12T07:21:34.281598Z\", \"end_time\": \"2021-02-12T07:22:32.416958Z\", \"created_time\": \"2021-02-12T07:21:23.567735Z\", \"created_time_dt\": \"2021-02-12T07:21:23.567735Z\", \"duration\": \"0:01:08\", \"iteration\": \"25\", \"goal\": \"accuracy_max\", \"run_name\": \"SparseNormalizer, LogisticRegression\", \"run_properties\": \"<azureml.automl.runtime.shared.model_wrappers.SparseNormalizer object at 0x7fe3bc1a6080\", \"primary_metric\": 0.64579631, \"best_metric\": 0.77089884}, {\"run_id\": \"AutoML_aa0cbd0c-a891-4e63-a7bf-4a611387254f_26\", \"run_number\": 31, \"metric\": null, \"status\": \"Completed\", \"run_type\": \"azureml.scriptrun\", \"training_percent\": \"100\", \"start_time\": \"2021-02-12T07:21:39.039401Z\", \"end_time\": \"2021-02-12T07:22:35.344076Z\", \"created_time\": \"2021-02-12T07:21:27.555911Z\", \"created_time_dt\": \"2021-02-12T07:21:27.555911Z\", \"duration\": \"0:01:07\", \"iteration\": \"26\", \"goal\": \"accuracy_max\", \"run_name\": \"MaxAbsScaler, LightGBM\", \"run_properties\": \"copy=True\", \"primary_metric\": 0.74873548, \"best_metric\": 0.77089884}, {\"run_id\": \"AutoML_aa0cbd0c-a891-4e63-a7bf-4a611387254f_27\", \"run_number\": 32, \"metric\": null, \"status\": \"Completed\", \"run_type\": \"azureml.scriptrun\", \"training_percent\": \"100\", \"start_time\": \"2021-02-12T07:22:32.722185Z\", \"end_time\": \"2021-02-12T07:23:26.064731Z\", \"created_time\": \"2021-02-12T07:22:22.325373Z\", \"created_time_dt\": \"2021-02-12T07:22:22.325373Z\", \"duration\": \"0:01:03\", \"iteration\": \"27\", \"goal\": \"accuracy_max\", \"run_name\": \"StandardScalerWrapper, XGBoostClassifier\", \"run_properties\": \"<azureml.automl.runtime.shared.model_wrappers.StandardScalerWrapper object at 0x7f8a1f860d68\", \"primary_metric\": 0.75912509, \"best_metric\": 0.77089884}, {\"run_id\": \"AutoML_aa0cbd0c-a891-4e63-a7bf-4a611387254f_28\", \"run_number\": 33, \"metric\": null, \"status\": \"Completed\", \"run_type\": \"azureml.scriptrun\", \"training_percent\": \"100\", \"start_time\": \"2021-02-12T07:22:45.027139Z\", \"end_time\": \"2021-02-12T07:23:45.082633Z\", \"created_time\": \"2021-02-12T07:22:34.579219Z\", \"created_time_dt\": \"2021-02-12T07:22:34.579219Z\", \"duration\": \"0:01:10\", \"iteration\": \"28\", \"goal\": \"accuracy_max\", \"run_name\": \"MaxAbsScaler, RandomForest\", \"run_properties\": \"copy=True\", \"primary_metric\": 0.76831852, \"best_metric\": 0.77089884}, {\"run_id\": \"AutoML_aa0cbd0c-a891-4e63-a7bf-4a611387254f_29\", \"run_number\": 34, \"metric\": null, \"status\": \"Completed\", \"run_type\": \"azureml.scriptrun\", \"training_percent\": \"100\", \"start_time\": \"2021-02-12T07:22:49.010594Z\", \"end_time\": \"2021-02-12T07:23:42.723972Z\", \"created_time\": \"2021-02-12T07:22:38.833776Z\", \"created_time_dt\": \"2021-02-12T07:22:38.833776Z\", \"duration\": \"0:01:03\", \"iteration\": \"29\", \"goal\": \"accuracy_max\", \"run_name\": \"SparseNormalizer, XGBoostClassifier\", \"run_properties\": \"<azureml.automl.runtime.shared.model_wrappers.SparseNormalizer object at 0x7f2b15d41320\", \"primary_metric\": 0.71097061, \"best_metric\": 0.77089884}, {\"run_id\": \"AutoML_aa0cbd0c-a891-4e63-a7bf-4a611387254f_30\", \"run_number\": 35, \"metric\": null, \"status\": \"Completed\", \"run_type\": \"azureml.scriptrun\", \"training_percent\": \"100\", \"start_time\": \"2021-02-12T07:23:40.596584Z\", \"end_time\": \"2021-02-12T07:24:32.250785Z\", \"created_time\": \"2021-02-12T07:23:29.212882Z\", \"created_time_dt\": \"2021-02-12T07:23:29.212882Z\", \"duration\": \"0:01:03\", \"iteration\": \"30\", \"goal\": \"accuracy_max\", \"run_name\": \"SparseNormalizer, LogisticRegression\", \"run_properties\": \"<azureml.automl.runtime.shared.model_wrappers.SparseNormalizer object at 0x7f954d069cf8\", \"primary_metric\": 0.65097403, \"best_metric\": 0.77089884}, {\"run_id\": \"AutoML_aa0cbd0c-a891-4e63-a7bf-4a611387254f_31\", \"run_number\": 36, \"metric\": null, \"status\": \"Completed\", \"run_type\": \"azureml.scriptrun\", \"training_percent\": \"100\", \"start_time\": \"2021-02-12T07:24:07.312331Z\", \"end_time\": \"2021-02-12T07:24:58.872882Z\", \"created_time\": \"2021-02-12T07:23:47.963692Z\", \"created_time_dt\": \"2021-02-12T07:23:47.963692Z\", \"duration\": \"0:01:10\", \"iteration\": \"31\", \"goal\": \"accuracy_max\", \"run_name\": \"MaxAbsScaler, LogisticRegression\", \"run_properties\": \"copy=True\", \"primary_metric\": 0.76830144, \"best_metric\": 0.77089884}, {\"run_id\": \"AutoML_aa0cbd0c-a891-4e63-a7bf-4a611387254f_32\", \"run_number\": 37, \"metric\": null, \"status\": \"Canceled\", \"run_type\": \"azureml.scriptrun\", \"training_percent\": \"100\", \"start_time\": \"2021-02-12T07:24:11.912531Z\", \"end_time\": \"2021-02-12T07:25:08.286394Z\", \"created_time\": \"2021-02-12T07:23:59.3505Z\", \"created_time_dt\": \"2021-02-12T07:23:59.3505Z\", \"duration\": \"0:01:08\", \"iteration\": \"32\", \"goal\": \"accuracy_max\", \"run_name\": \"MaxAbsScaler, RandomForest\", \"run_properties\": \"copy=True\", \"primary_metric\": 0.77218045, \"best_metric\": 0.77218045}, {\"run_id\": \"AutoML_aa0cbd0c-a891-4e63-a7bf-4a611387254f_33\", \"run_number\": 38, \"metric\": null, \"status\": \"Canceled\", \"run_type\": \"azureml.scriptrun\", \"training_percent\": \"100\", \"start_time\": \"2021-02-12T07:24:48.471229Z\", \"end_time\": \"2021-02-12T07:25:08.614007Z\", \"created_time\": \"2021-02-12T07:24:35.051315Z\", \"created_time_dt\": \"2021-02-12T07:24:35.051315Z\", \"duration\": \"0:00:33\", \"iteration\": \"33\", \"goal\": null, \"run_name\": \"Canceled\", \"run_properties\": null}, {\"run_id\": \"AutoML_aa0cbd0c-a891-4e63-a7bf-4a611387254f_34\", \"run_number\": 39, \"metric\": null, \"status\": \"Completed\", \"run_type\": \"azureml.scriptrun\", \"training_percent\": \"100\", \"start_time\": \"2021-02-12T07:25:23.738002Z\", \"end_time\": \"2021-02-12T07:26:23.253433Z\", \"created_time\": \"2021-02-12T07:25:12.038093Z\", \"created_time_dt\": \"2021-02-12T07:25:12.038093Z\", \"duration\": \"0:01:11\", \"iteration\": \"34\", \"goal\": \"accuracy_max\", \"run_name\": \"StandardScalerWrapper, LogisticRegression\", \"run_properties\": \"<azureml.automl.runtime.shared.model_wrappers.StandardScalerWrapper object at 0x7f5876d8e7f0\", \"primary_metric\": 0.6262987, \"best_metric\": 0.77218045}, {\"run_id\": \"AutoML_aa0cbd0c-a891-4e63-a7bf-4a611387254f_35\", \"run_number\": 40, \"metric\": null, \"status\": \"Completed\", \"run_type\": \"azureml.scriptrun\", \"training_percent\": \"100\", \"start_time\": \"2021-02-12T07:25:25.926977Z\", \"end_time\": \"2021-02-12T07:26:37.321119Z\", \"created_time\": \"2021-02-12T07:25:12.174727Z\", \"created_time_dt\": \"2021-02-12T07:25:12.174727Z\", \"duration\": \"0:01:25\", \"iteration\": \"35\", \"goal\": \"accuracy_max\", \"run_name\": \"StandardScalerWrapper, GradientBoosting\", \"run_properties\": \"<azureml.automl.runtime.shared.model_wrappers.StandardScalerWrapper object at 0x7f2008ef1358\", \"primary_metric\": 0.75521189, \"best_metric\": 0.77218045}, {\"run_id\": \"AutoML_aa0cbd0c-a891-4e63-a7bf-4a611387254f_36\", \"run_number\": 41, \"metric\": null, \"status\": \"Completed\", \"run_type\": \"azureml.scriptrun\", \"training_percent\": \"100\", \"start_time\": \"2021-02-12T07:25:23.633258Z\", \"end_time\": \"2021-02-12T07:26:42.89106Z\", \"created_time\": \"2021-02-12T07:25:12.215814Z\", \"created_time_dt\": \"2021-02-12T07:25:12.215814Z\", \"duration\": \"0:01:30\", \"iteration\": \"36\", \"goal\": \"accuracy_max\", \"run_name\": \"StandardScalerWrapper, ExtremeRandomTrees\", \"run_properties\": \"<azureml.automl.runtime.shared.model_wrappers.StandardScalerWrapper object at 0x7f6c9c76d4a8\", \"primary_metric\": 0.73303144, \"best_metric\": 0.77218045}, {\"run_id\": \"AutoML_aa0cbd0c-a891-4e63-a7bf-4a611387254f_37\", \"run_number\": 42, \"metric\": null, \"status\": \"Completed\", \"run_type\": \"azureml.scriptrun\", \"training_percent\": \"100\", \"start_time\": \"2021-02-12T07:26:37.273221Z\", \"end_time\": \"2021-02-12T07:27:49.421791Z\", \"created_time\": \"2021-02-12T07:26:25.718088Z\", \"created_time_dt\": \"2021-02-12T07:26:25.718088Z\", \"duration\": \"0:01:23\", \"iteration\": \"37\", \"goal\": \"accuracy_max\", \"run_name\": \"StandardScalerWrapper, XGBoostClassifier\", \"run_properties\": \"<azureml.automl.runtime.shared.model_wrappers.StandardScalerWrapper object at 0x7fc1e6a52438\", \"primary_metric\": 0.75394737, \"best_metric\": 0.77218045}, {\"run_id\": \"AutoML_aa0cbd0c-a891-4e63-a7bf-4a611387254f_38\", \"run_number\": 43, \"metric\": null, \"status\": \"Completed\", \"run_type\": \"azureml.scriptrun\", \"training_percent\": \"100\", \"start_time\": \"2021-02-12T07:26:53.400279Z\", \"end_time\": \"2021-02-12T07:27:57.609829Z\", \"created_time\": \"2021-02-12T07:26:39.75031Z\", \"created_time_dt\": \"2021-02-12T07:26:39.75031Z\", \"duration\": \"0:01:17\", \"iteration\": \"38\", \"goal\": \"accuracy_max\", \"run_name\": \"StandardScalerWrapper, LightGBM\", \"run_properties\": \"<azureml.automl.runtime.shared.model_wrappers.StandardScalerWrapper object at 0x7fd6a11f61d0\", \"primary_metric\": 0.76698565, \"best_metric\": 0.77218045}, {\"run_id\": \"AutoML_aa0cbd0c-a891-4e63-a7bf-4a611387254f_39\", \"run_number\": 44, \"metric\": null, \"status\": \"Completed\", \"run_type\": \"azureml.scriptrun\", \"training_percent\": \"100\", \"start_time\": \"2021-02-12T07:26:58.48777Z\", \"end_time\": \"2021-02-12T07:27:59.03851Z\", \"created_time\": \"2021-02-12T07:26:44.896379Z\", \"created_time_dt\": \"2021-02-12T07:26:44.896379Z\", \"duration\": \"0:01:14\", \"iteration\": \"39\", \"goal\": \"accuracy_max\", \"run_name\": \"SparseNormalizer, LightGBM\", \"run_properties\": \"<azureml.automl.runtime.shared.model_wrappers.SparseNormalizer object at 0x7f820a5e3d30\", \"primary_metric\": 0.69395079, \"best_metric\": 0.77218045}, {\"run_id\": \"AutoML_aa0cbd0c-a891-4e63-a7bf-4a611387254f_40\", \"run_number\": 45, \"metric\": null, \"status\": \"Completed\", \"run_type\": \"azureml.scriptrun\", \"training_percent\": \"100\", \"start_time\": \"2021-02-12T07:28:03.118928Z\", \"end_time\": \"2021-02-12T07:28:56.570925Z\", \"created_time\": \"2021-02-12T07:27:52.316936Z\", \"created_time_dt\": \"2021-02-12T07:27:52.316936Z\", \"duration\": \"0:01:04\", \"iteration\": \"40\", \"goal\": \"accuracy_max\", \"run_name\": \"StandardScalerWrapper, RandomForest\", \"run_properties\": \"<azureml.automl.runtime.shared.model_wrappers.StandardScalerWrapper object at 0x7f2e19786390\", \"primary_metric\": 0.44157553, \"best_metric\": 0.77218045}, {\"run_id\": \"AutoML_aa0cbd0c-a891-4e63-a7bf-4a611387254f_41\", \"run_number\": 46, \"metric\": null, \"status\": \"Completed\", \"run_type\": \"azureml.scriptrun\", \"training_percent\": \"100\", \"start_time\": \"2021-02-12T07:28:13.1592Z\", \"end_time\": \"2021-02-12T07:29:10.986022Z\", \"created_time\": \"2021-02-12T07:27:59.475479Z\", \"created_time_dt\": \"2021-02-12T07:27:59.475479Z\", \"duration\": \"0:01:11\", \"iteration\": \"41\", \"goal\": \"accuracy_max\", \"run_name\": \"MaxAbsScaler, ExtremeRandomTrees\", \"run_properties\": \"copy=True\", \"primary_metric\": 0.75394737, \"best_metric\": 0.77218045}, {\"run_id\": \"AutoML_aa0cbd0c-a891-4e63-a7bf-4a611387254f_42\", \"run_number\": 47, \"metric\": null, \"status\": \"Completed\", \"run_type\": \"azureml.scriptrun\", \"training_percent\": \"100\", \"start_time\": \"2021-02-12T07:28:16.073886Z\", \"end_time\": \"2021-02-12T07:29:07.858425Z\", \"created_time\": \"2021-02-12T07:28:02.779012Z\", \"created_time_dt\": \"2021-02-12T07:28:02.779012Z\", \"duration\": \"0:01:05\", \"iteration\": \"42\", \"goal\": \"accuracy_max\", \"run_name\": \"SparseNormalizer, XGBoostClassifier\", \"run_properties\": \"<azureml.automl.runtime.shared.model_wrappers.SparseNormalizer object at 0x7fe2254fe358\", \"primary_metric\": 0.69533493, \"best_metric\": 0.77218045}, {\"run_id\": \"AutoML_aa0cbd0c-a891-4e63-a7bf-4a611387254f_43\", \"run_number\": 48, \"metric\": null, \"status\": \"Completed\", \"run_type\": \"azureml.scriptrun\", \"training_percent\": \"100\", \"start_time\": \"2021-02-12T07:29:12.085229Z\", \"end_time\": \"2021-02-12T07:30:09.288765Z\", \"created_time\": \"2021-02-12T07:28:58.499098Z\", \"created_time_dt\": \"2021-02-12T07:28:58.499098Z\", \"duration\": \"0:01:10\", \"iteration\": \"43\", \"goal\": \"accuracy_max\", \"run_name\": \"StandardScalerWrapper, ExtremeRandomTrees\", \"run_properties\": \"<azureml.automl.runtime.shared.model_wrappers.StandardScalerWrapper object at 0x7f94b52a28d0\", \"primary_metric\": 0.74345523, \"best_metric\": 0.77218045}, {\"run_id\": \"AutoML_aa0cbd0c-a891-4e63-a7bf-4a611387254f_44\", \"run_number\": 49, \"metric\": null, \"status\": \"Completed\", \"run_type\": \"azureml.scriptrun\", \"training_percent\": \"100\", \"start_time\": \"2021-02-12T07:29:22.658443Z\", \"end_time\": \"2021-02-12T07:30:24.26375Z\", \"created_time\": \"2021-02-12T07:29:09.680186Z\", \"created_time_dt\": \"2021-02-12T07:29:09.680186Z\", \"duration\": \"0:01:14\", \"iteration\": \"44\", \"goal\": \"accuracy_max\", \"run_name\": \"StandardScalerWrapper, LightGBM\", \"run_properties\": \"<azureml.automl.runtime.shared.model_wrappers.StandardScalerWrapper object at 0x7f9951929d30\", \"primary_metric\": 0.74220779, \"best_metric\": 0.77218045}, {\"run_id\": \"AutoML_aa0cbd0c-a891-4e63-a7bf-4a611387254f_45\", \"run_number\": 50, \"metric\": null, \"status\": \"Canceled\", \"run_type\": \"azureml.scriptrun\", \"training_percent\": \"100\", \"start_time\": \"2021-02-12T07:29:26.986967Z\", \"end_time\": \"2021-02-12T07:30:33.942493Z\", \"created_time\": \"2021-02-12T07:29:14.262676Z\", \"created_time_dt\": \"2021-02-12T07:29:14.262676Z\", \"duration\": \"0:01:19\", \"iteration\": \"45\", \"goal\": \"accuracy_max\", \"run_name\": \"SparseNormalizer, RandomForest\", \"run_properties\": \"<azureml.automl.runtime.shared.model_wrappers.SparseNormalizer object at 0x7f2e141cd940\", \"primary_metric\": 0.65097403, \"best_metric\": 0.77218045}, {\"run_id\": \"AutoML_aa0cbd0c-a891-4e63-a7bf-4a611387254f_46\", \"run_number\": 51, \"metric\": null, \"status\": \"Canceled\", \"run_type\": \"azureml.scriptrun\", \"training_percent\": \"100\", \"start_time\": \"2021-02-12T07:30:10.989727Z\", \"end_time\": \"2021-02-12T07:30:32.937442Z\", \"created_time\": \"2021-02-12T07:30:10.989727Z\", \"created_time_dt\": \"2021-02-12T07:30:10.989727Z\", \"duration\": \"0:00:21\", \"iteration\": \"46\", \"goal\": null, \"run_name\": \"Canceled\", \"run_properties\": null}, {\"run_id\": \"AutoML_aa0cbd0c-a891-4e63-a7bf-4a611387254f_47\", \"run_number\": 52, \"metric\": null, \"status\": \"Completed\", \"run_type\": \"azureml.scriptrun\", \"training_percent\": \"100\", \"start_time\": \"2021-02-12T07:30:46.784332Z\", \"end_time\": \"2021-02-12T07:33:30.836427Z\", \"created_time\": \"2021-02-12T07:30:34.703926Z\", \"created_time_dt\": \"2021-02-12T07:30:34.703926Z\", \"duration\": \"0:02:56\", \"iteration\": \"47\", \"goal\": \"accuracy_max\", \"run_name\": \"VotingEnsemble\", \"run_properties\": \"classification_labels=None,\\n                              estimators=[('32',\\n                                           Pipeline(memory=None,\\n                                                    steps=[('maxabsscaler',\\n                                                            MaxAbsScaler(copy=True\", \"primary_metric\": 0.78393712, \"best_metric\": 0.78393712}, {\"run_id\": \"AutoML_aa0cbd0c-a891-4e63-a7bf-4a611387254f_48\", \"run_number\": 53, \"metric\": null, \"status\": \"Completed\", \"run_type\": \"azureml.scriptrun\", \"training_percent\": \"100\", \"start_time\": \"2021-02-12T07:30:48.696535Z\", \"end_time\": \"2021-02-12T07:33:24.366607Z\", \"created_time\": \"2021-02-12T07:30:34.705921Z\", \"created_time_dt\": \"2021-02-12T07:30:34.705921Z\", \"duration\": \"0:02:49\", \"iteration\": \"48\", \"goal\": \"accuracy_max\", \"run_name\": \"StackEnsemble\", \"run_properties\": \"base_learners=[('32',\\n                                        Pipeline(memory=None,\\n                                                 steps=[('maxabsscaler',\\n                                                         MaxAbsScaler(copy=True\", \"primary_metric\": 0.76961722, \"best_metric\": 0.78393712}], \"children_metrics\": {\"categories\": [0], \"series\": {\"matthews_correlation\": [{\"categories\": [\"0\", \"1\", \"2\", \"3\", \"4\", \"5\", \"6\", \"7\", \"8\", \"9\", \"10\", \"11\", \"12\", \"13\", \"14\", \"15\", \"16\", \"17\", \"18\", \"19\", \"20\", \"21\", \"22\", \"23\", \"24\", \"25\", \"26\", \"27\", \"28\", \"29\", \"30\", \"31\", \"32\", \"34\", \"35\", \"36\", \"37\", \"38\", \"39\", \"40\", \"41\", \"42\", \"43\", \"44\", \"45\", \"47\", \"48\"], \"mode\": \"markers\", \"name\": \"matthews_correlation\", \"stepped\": false, \"type\": \"scatter\", \"data\": [0.4163237794803841, 0.4814237328189323, 0.4232538325033627, 0.39975181708504726, 0.47373224093678756, 0.43299685417544165, 0.33336166906048137, 0.36546923694041034, 0.18393865327491418, 0.47246616613871134, 0.23575198952594834, 0.183266574241319, 0.44764480376426974, 0.4166773674086455, 0.3979910352219306, 0.33263053148039334, 0.4637174523116213, 0.30504877533367236, 0.3998140791864076, 0.06421665910919618, 0.3652956853071962, 0.3866175556234381, 0.2679385783512919, 0.4559907377313189, 0.3709744064976885, 0.02883885022776474, 0.4251743224716421, 0.4470017908593317, 0.47416815822388614, 0.3164250412722158, 0.0, 0.4670443191339716, 0.4857010752167058, 0.2683961622232629, 0.4287359853087178, 0.37192746969147966, 0.4457896463862771, 0.458956437642102, 0.29157128764026824, 0.0, 0.42538412511729157, 0.28825075785202475, 0.4019994672774868, 0.4067216345783516, 0.0, 0.49969459142868233, 0.4703312388222674]}, {\"categories\": [\"0\", \"1\", \"2\", \"3\", \"4\", \"5\", \"6\", \"7\", \"8\", \"9\", \"10\", \"11\", \"12\", \"13\", \"14\", \"15\", \"16\", \"17\", \"18\", \"19\", \"20\", \"21\", \"22\", \"23\", \"24\", \"25\", \"26\", \"27\", \"28\", \"29\", \"30\", \"31\", \"32\", \"34\", \"35\", \"36\", \"37\", \"38\", \"39\", \"40\", \"41\", \"42\", \"43\", \"44\", \"45\", \"47\", \"48\"], \"mode\": \"lines\", \"name\": \"matthews_correlation_max\", \"stepped\": true, \"type\": \"scatter\", \"data\": [0.4163237794803841, 0.4814237328189323, 0.4814237328189323, 0.4814237328189323, 0.4814237328189323, 0.4814237328189323, 0.4814237328189323, 0.4814237328189323, 0.4814237328189323, 0.4814237328189323, 0.4814237328189323, 0.4814237328189323, 0.4814237328189323, 0.4814237328189323, 0.4814237328189323, 0.4814237328189323, 0.4814237328189323, 0.4814237328189323, 0.4814237328189323, 0.4814237328189323, 0.4814237328189323, 0.4814237328189323, 0.4814237328189323, 0.4814237328189323, 0.4814237328189323, 0.4814237328189323, 0.4814237328189323, 0.4814237328189323, 0.4814237328189323, 0.4814237328189323, 0.4814237328189323, 0.4814237328189323, 0.4857010752167058, 0.4857010752167058, 0.4857010752167058, 0.4857010752167058, 0.4857010752167058, 0.4857010752167058, 0.4857010752167058, 0.4857010752167058, 0.4857010752167058, 0.4857010752167058, 0.4857010752167058, 0.4857010752167058, 0.4857010752167058, 0.49969459142868233, 0.49969459142868233]}], \"recall_score_macro\": [{\"categories\": [\"0\", \"1\", \"2\", \"3\", \"4\", \"5\", \"6\", \"7\", \"8\", \"9\", \"10\", \"11\", \"12\", \"13\", \"14\", \"15\", \"16\", \"17\", \"18\", \"19\", \"20\", \"21\", \"22\", \"23\", \"24\", \"25\", \"26\", \"27\", \"28\", \"29\", \"30\", \"31\", \"32\", \"34\", \"35\", \"36\", \"37\", \"38\", \"39\", \"40\", \"41\", \"42\", \"43\", \"44\", \"45\", \"47\", \"48\"], \"mode\": \"markers\", \"name\": \"recall_score_macro\", \"stepped\": false, \"type\": \"scatter\", \"data\": [0.7053588221478819, 0.7368196523334581, 0.6878594297254818, 0.6728455132610938, 0.7424783599397412, 0.7246235044231614, 0.6528136452558332, 0.6655203978924961, 0.5372782946748462, 0.7216286024265004, 0.6070424583261611, 0.5729027139124356, 0.7080308824384907, 0.6806272836187788, 0.6634306854894929, 0.6573501701906346, 0.7108693805511073, 0.6443670277099969, 0.660234605929511, 0.5078430619559652, 0.636979068953454, 0.6366595601795206, 0.6096992917376112, 0.7124086167142298, 0.6312860145704738, 0.5086059133811848, 0.7050816568912939, 0.7105306478898363, 0.7278172093664572, 0.634055492686268, 0.5, 0.719521237741496, 0.7337590629404878, 0.6416854250530294, 0.6848087705565402, 0.6429117953921422, 0.7195857999622983, 0.6994001332046975, 0.634616109131026, 0.5, 0.6806811385569735, 0.6264283702722232, 0.6607023699078274, 0.6461258734133981, 0.5, 0.7291054109384485, 0.7169925005569044]}, {\"categories\": [\"0\", \"1\", \"2\", \"3\", \"4\", \"5\", \"6\", \"7\", \"8\", \"9\", \"10\", \"11\", \"12\", \"13\", \"14\", \"15\", \"16\", \"17\", \"18\", \"19\", \"20\", \"21\", \"22\", \"23\", \"24\", \"25\", \"26\", \"27\", \"28\", \"29\", \"30\", \"31\", \"32\", \"34\", \"35\", \"36\", \"37\", \"38\", \"39\", \"40\", \"41\", \"42\", \"43\", \"44\", \"45\", \"47\", \"48\"], \"mode\": \"lines\", \"name\": \"recall_score_macro_max\", \"stepped\": true, \"type\": \"scatter\", \"data\": [0.7053588221478819, 0.7368196523334581, 0.7368196523334581, 0.7368196523334581, 0.7424783599397412, 0.7424783599397412, 0.7424783599397412, 0.7424783599397412, 0.7424783599397412, 0.7424783599397412, 0.7424783599397412, 0.7424783599397412, 0.7424783599397412, 0.7424783599397412, 0.7424783599397412, 0.7424783599397412, 0.7424783599397412, 0.7424783599397412, 0.7424783599397412, 0.7424783599397412, 0.7424783599397412, 0.7424783599397412, 0.7424783599397412, 0.7424783599397412, 0.7424783599397412, 0.7424783599397412, 0.7424783599397412, 0.7424783599397412, 0.7424783599397412, 0.7424783599397412, 0.7424783599397412, 0.7424783599397412, 0.7424783599397412, 0.7424783599397412, 0.7424783599397412, 0.7424783599397412, 0.7424783599397412, 0.7424783599397412, 0.7424783599397412, 0.7424783599397412, 0.7424783599397412, 0.7424783599397412, 0.7424783599397412, 0.7424783599397412, 0.7424783599397412, 0.7424783599397412, 0.7424783599397412]}], \"recall_score_weighted\": [{\"categories\": [\"0\", \"1\", \"2\", \"3\", \"4\", \"5\", \"6\", \"7\", \"8\", \"9\", \"10\", \"11\", \"12\", \"13\", \"14\", \"15\", \"16\", \"17\", \"18\", \"19\", \"20\", \"21\", \"22\", \"23\", \"24\", \"25\", \"26\", \"27\", \"28\", \"29\", \"30\", \"31\", \"32\", \"34\", \"35\", \"36\", \"37\", \"38\", \"39\", \"40\", \"41\", \"42\", \"43\", \"44\", \"45\", \"47\", \"48\"], \"mode\": \"markers\", \"name\": \"recall_score_weighted\", \"stepped\": false, \"type\": \"scatter\", \"data\": [0.7396103896103897, 0.7695659603554341, 0.7526144907723855, 0.7422419685577581, 0.7514012303485988, 0.7253075871496923, 0.7109364319890636, 0.7265208475734791, 0.6718386876281613, 0.7708988380041012, 0.6756664388243335, 0.6562542720437458, 0.7604237867395762, 0.7513328776486672, 0.7448222829801777, 0.7096035543403965, 0.7682843472317156, 0.6979494190020505, 0.7422077922077921, 0.656185919343814, 0.7291011619958989, 0.7356801093643199, 0.6940362269309638, 0.7630041011619959, 0.7318010936431989, 0.6457963089542036, 0.7487354750512646, 0.7591250854408749, 0.7683185235816815, 0.7109706083390295, 0.650974025974026, 0.7683014354066987, 0.7721804511278195, 0.6262987012987014, 0.7552118933697881, 0.7330314422419686, 0.7539473684210527, 0.7669856459330143, 0.6939507860560492, 0.4415755297334245, 0.7539473684210526, 0.695334928229665, 0.7434552289815448, 0.7422077922077922, 0.650974025974026, 0.7839371155160629, 0.7696172248803828]}, {\"categories\": [\"0\", \"1\", \"2\", \"3\", \"4\", \"5\", \"6\", \"7\", \"8\", \"9\", \"10\", \"11\", \"12\", \"13\", \"14\", \"15\", \"16\", \"17\", \"18\", \"19\", \"20\", \"21\", \"22\", \"23\", \"24\", \"25\", \"26\", \"27\", \"28\", \"29\", \"30\", \"31\", \"32\", \"34\", \"35\", \"36\", \"37\", \"38\", \"39\", \"40\", \"41\", \"42\", \"43\", \"44\", \"45\", \"47\", \"48\"], \"mode\": \"lines\", \"name\": \"recall_score_weighted_max\", \"stepped\": true, \"type\": \"scatter\", \"data\": [0.7396103896103897, 0.7695659603554341, 0.7695659603554341, 0.7695659603554341, 0.7695659603554341, 0.7695659603554341, 0.7695659603554341, 0.7695659603554341, 0.7695659603554341, 0.7708988380041012, 0.7708988380041012, 0.7708988380041012, 0.7708988380041012, 0.7708988380041012, 0.7708988380041012, 0.7708988380041012, 0.7708988380041012, 0.7708988380041012, 0.7708988380041012, 0.7708988380041012, 0.7708988380041012, 0.7708988380041012, 0.7708988380041012, 0.7708988380041012, 0.7708988380041012, 0.7708988380041012, 0.7708988380041012, 0.7708988380041012, 0.7708988380041012, 0.7708988380041012, 0.7708988380041012, 0.7708988380041012, 0.7721804511278195, 0.7721804511278195, 0.7721804511278195, 0.7721804511278195, 0.7721804511278195, 0.7721804511278195, 0.7721804511278195, 0.7721804511278195, 0.7721804511278195, 0.7721804511278195, 0.7721804511278195, 0.7721804511278195, 0.7721804511278195, 0.7839371155160629, 0.7839371155160629]}], \"AUC_macro\": [{\"categories\": [\"0\", \"1\", \"2\", \"3\", \"4\", \"5\", \"6\", \"7\", \"8\", \"9\", \"10\", \"11\", \"12\", \"13\", \"14\", \"15\", \"16\", \"17\", \"18\", \"19\", \"20\", \"21\", \"22\", \"23\", \"24\", \"25\", \"26\", \"27\", \"28\", \"29\", \"30\", \"31\", \"32\", \"34\", \"35\", \"36\", \"37\", \"38\", \"39\", \"40\", \"41\", \"42\", \"43\", \"44\", \"45\", \"47\", \"48\"], \"mode\": \"markers\", \"name\": \"AUC_macro\", \"stepped\": false, \"type\": \"scatter\", \"data\": [0.7981013916226355, 0.8366210317228242, 0.8184202391020083, 0.8020439446477866, 0.8265231906956197, 0.8021756914873093, 0.7672168327682274, 0.7600954122103657, 0.8191291742000283, 0.8214302281432424, 0.7015152964488536, 0.6899760736950882, 0.8302666089382109, 0.8263983791240428, 0.8224404420400045, 0.7311334050506705, 0.8135064531122354, 0.7462305785314449, 0.8224551010242592, 0.7935526421898843, 0.8198799809678171, 0.8320497108087679, 0.6983941587689118, 0.8275773832962058, 0.825716062734801, 0.6533222783972122, 0.8054158205396842, 0.8287222682693841, 0.8400115277601099, 0.7281787526096715, 0.6150088489422755, 0.8216472601287388, 0.8338559454429424, 0.6910488488664828, 0.8235945566824207, 0.8092442184494185, 0.8102865723464839, 0.8317841848770309, 0.7404907865880367, 0.5, 0.8266506101109377, 0.7271024237138022, 0.8163459842319292, 0.8405969816009395, 0.6289751797149906, 0.8443383032410164, 0.8442019889654004]}, {\"categories\": [\"0\", \"1\", \"2\", \"3\", \"4\", \"5\", \"6\", \"7\", \"8\", \"9\", \"10\", \"11\", \"12\", \"13\", \"14\", \"15\", \"16\", \"17\", \"18\", \"19\", \"20\", \"21\", \"22\", \"23\", \"24\", \"25\", \"26\", \"27\", \"28\", \"29\", \"30\", \"31\", \"32\", \"34\", \"35\", \"36\", \"37\", \"38\", \"39\", \"40\", \"41\", \"42\", \"43\", \"44\", \"45\", \"47\", \"48\"], \"mode\": \"lines\", \"name\": \"AUC_macro_max\", \"stepped\": true, \"type\": \"scatter\", \"data\": [0.7981013916226355, 0.8366210317228242, 0.8366210317228242, 0.8366210317228242, 0.8366210317228242, 0.8366210317228242, 0.8366210317228242, 0.8366210317228242, 0.8366210317228242, 0.8366210317228242, 0.8366210317228242, 0.8366210317228242, 0.8366210317228242, 0.8366210317228242, 0.8366210317228242, 0.8366210317228242, 0.8366210317228242, 0.8366210317228242, 0.8366210317228242, 0.8366210317228242, 0.8366210317228242, 0.8366210317228242, 0.8366210317228242, 0.8366210317228242, 0.8366210317228242, 0.8366210317228242, 0.8366210317228242, 0.8366210317228242, 0.8400115277601099, 0.8400115277601099, 0.8400115277601099, 0.8400115277601099, 0.8400115277601099, 0.8400115277601099, 0.8400115277601099, 0.8400115277601099, 0.8400115277601099, 0.8400115277601099, 0.8400115277601099, 0.8400115277601099, 0.8400115277601099, 0.8400115277601099, 0.8400115277601099, 0.8405969816009395, 0.8405969816009395, 0.8443383032410164, 0.8443383032410164]}], \"weighted_accuracy\": [{\"categories\": [\"0\", \"1\", \"2\", \"3\", \"4\", \"5\", \"6\", \"7\", \"8\", \"9\", \"10\", \"11\", \"12\", \"13\", \"14\", \"15\", \"16\", \"17\", \"18\", \"19\", \"20\", \"21\", \"22\", \"23\", \"24\", \"25\", \"26\", \"27\", \"28\", \"29\", \"30\", \"31\", \"32\", \"34\", \"35\", \"36\", \"37\", \"38\", \"39\", \"40\", \"41\", \"42\", \"43\", \"44\", \"45\", \"47\", \"48\"], \"mode\": \"markers\", \"name\": \"weighted_accuracy\", \"stepped\": false, \"type\": \"scatter\", \"data\": [0.7658219048734536, 0.7945054420815822, 0.8019583700148114, 0.7961623194042208, 0.7569140368861937, 0.7247912147410223, 0.7561378396592249, 0.7742983965871614, 0.7770199154610833, 0.8085761995651903, 0.7278211544664747, 0.7246129410924865, 0.8000485073247108, 0.8052930951671726, 0.8078134367772358, 0.7493091745849279, 0.8125111275680157, 0.7394659938249414, 0.8057163550803365, 0.7714959929918689, 0.8008478802032316, 0.8126703522385899, 0.7602583588163532, 0.8014079062281443, 0.8095355122538868, 0.7519722880759389, 0.781064386943832, 0.7961074659639481, 0.798630372459996, 0.7705057197347854, 0.7681437801712667, 0.8055427754007946, 0.8011751724910827, 0.6142039125488594, 0.8096634937582371, 0.802859302709166, 0.7795444354462684, 0.818822693291661, 0.7402862167106247, 0.4069213716973459, 0.8103425735035369, 0.7496623200931698, 0.8080774248574574, 0.8169099055594942, 0.7681437801712667, 0.8250634020470542, 0.8088124576914518]}, {\"categories\": [\"0\", \"1\", \"2\", \"3\", \"4\", \"5\", \"6\", \"7\", \"8\", \"9\", \"10\", \"11\", \"12\", \"13\", \"14\", \"15\", \"16\", \"17\", \"18\", \"19\", \"20\", \"21\", \"22\", \"23\", \"24\", \"25\", \"26\", \"27\", \"28\", \"29\", \"30\", \"31\", \"32\", \"34\", \"35\", \"36\", \"37\", \"38\", \"39\", \"40\", \"41\", \"42\", \"43\", \"44\", \"45\", \"47\", \"48\"], \"mode\": \"lines\", \"name\": \"weighted_accuracy_max\", \"stepped\": true, \"type\": \"scatter\", \"data\": [0.7658219048734536, 0.7945054420815822, 0.8019583700148114, 0.8019583700148114, 0.8019583700148114, 0.8019583700148114, 0.8019583700148114, 0.8019583700148114, 0.8019583700148114, 0.8085761995651903, 0.8085761995651903, 0.8085761995651903, 0.8085761995651903, 0.8085761995651903, 0.8085761995651903, 0.8085761995651903, 0.8125111275680157, 0.8125111275680157, 0.8125111275680157, 0.8125111275680157, 0.8125111275680157, 0.8126703522385899, 0.8126703522385899, 0.8126703522385899, 0.8126703522385899, 0.8126703522385899, 0.8126703522385899, 0.8126703522385899, 0.8126703522385899, 0.8126703522385899, 0.8126703522385899, 0.8126703522385899, 0.8126703522385899, 0.8126703522385899, 0.8126703522385899, 0.8126703522385899, 0.8126703522385899, 0.818822693291661, 0.818822693291661, 0.818822693291661, 0.818822693291661, 0.818822693291661, 0.818822693291661, 0.818822693291661, 0.818822693291661, 0.8250634020470542, 0.8250634020470542]}], \"AUC_weighted\": [{\"categories\": [\"0\", \"1\", \"2\", \"3\", \"4\", \"5\", \"6\", \"7\", \"8\", \"9\", \"10\", \"11\", \"12\", \"13\", \"14\", \"15\", \"16\", \"17\", \"18\", \"19\", \"20\", \"21\", \"22\", \"23\", \"24\", \"25\", \"26\", \"27\", \"28\", \"29\", \"30\", \"31\", \"32\", \"34\", \"35\", \"36\", \"37\", \"38\", \"39\", \"40\", \"41\", \"42\", \"43\", \"44\", \"45\", \"47\", \"48\"], \"mode\": \"markers\", \"name\": \"AUC_weighted\", \"stepped\": false, \"type\": \"scatter\", \"data\": [0.7981013916226355, 0.8366210317228242, 0.8184202391020083, 0.8020439446477866, 0.8265231906956195, 0.8021756914873093, 0.7672168327682274, 0.7600954122103656, 0.8191291742000283, 0.8214302281432424, 0.7015152964488536, 0.6899760736950882, 0.8302666089382109, 0.8263983791240428, 0.8224404420400045, 0.7311334050506705, 0.8135064531122354, 0.7462305785314449, 0.8224551010242592, 0.7935526421898843, 0.8198799809678171, 0.8320497108087679, 0.6983941587689118, 0.8275773832962058, 0.825716062734801, 0.6533222783972122, 0.8054158205396842, 0.8287222682693841, 0.8400115277601099, 0.7281787526096715, 0.6150088489422755, 0.8216472601287388, 0.8338559454429426, 0.6910488488664828, 0.8235945566824207, 0.8092442184494185, 0.8102865723464839, 0.8317841848770309, 0.7404907865880367, 0.5, 0.8266506101109377, 0.7271024237138022, 0.816345984231929, 0.8405969816009395, 0.6289751797149906, 0.8443383032410164, 0.8442019889654004]}, {\"categories\": [\"0\", \"1\", \"2\", \"3\", \"4\", \"5\", \"6\", \"7\", \"8\", \"9\", \"10\", \"11\", \"12\", \"13\", \"14\", \"15\", \"16\", \"17\", \"18\", \"19\", \"20\", \"21\", \"22\", \"23\", \"24\", \"25\", \"26\", \"27\", \"28\", \"29\", \"30\", \"31\", \"32\", \"34\", \"35\", \"36\", \"37\", \"38\", \"39\", \"40\", \"41\", \"42\", \"43\", \"44\", \"45\", \"47\", \"48\"], \"mode\": \"lines\", \"name\": \"AUC_weighted_max\", \"stepped\": true, \"type\": \"scatter\", \"data\": [0.7981013916226355, 0.8366210317228242, 0.8366210317228242, 0.8366210317228242, 0.8366210317228242, 0.8366210317228242, 0.8366210317228242, 0.8366210317228242, 0.8366210317228242, 0.8366210317228242, 0.8366210317228242, 0.8366210317228242, 0.8366210317228242, 0.8366210317228242, 0.8366210317228242, 0.8366210317228242, 0.8366210317228242, 0.8366210317228242, 0.8366210317228242, 0.8366210317228242, 0.8366210317228242, 0.8366210317228242, 0.8366210317228242, 0.8366210317228242, 0.8366210317228242, 0.8366210317228242, 0.8366210317228242, 0.8366210317228242, 0.8400115277601099, 0.8400115277601099, 0.8400115277601099, 0.8400115277601099, 0.8400115277601099, 0.8400115277601099, 0.8400115277601099, 0.8400115277601099, 0.8400115277601099, 0.8400115277601099, 0.8400115277601099, 0.8400115277601099, 0.8400115277601099, 0.8400115277601099, 0.8400115277601099, 0.8405969816009395, 0.8405969816009395, 0.8443383032410164, 0.8443383032410164]}], \"norm_macro_recall\": [{\"categories\": [\"0\", \"1\", \"2\", \"3\", \"4\", \"5\", \"6\", \"7\", \"8\", \"9\", \"10\", \"11\", \"12\", \"13\", \"14\", \"15\", \"16\", \"17\", \"18\", \"19\", \"20\", \"21\", \"22\", \"23\", \"24\", \"25\", \"26\", \"27\", \"28\", \"29\", \"30\", \"31\", \"32\", \"34\", \"35\", \"36\", \"37\", \"38\", \"39\", \"40\", \"41\", \"42\", \"43\", \"44\", \"45\", \"47\", \"48\"], \"mode\": \"markers\", \"name\": \"norm_macro_recall\", \"stepped\": false, \"type\": \"scatter\", \"data\": [0.41071764429576385, 0.4736393046669162, 0.37571885945096356, 0.34569102652218753, 0.4849567198794823, 0.4492470088463227, 0.30562729051166637, 0.3310407957849922, 0.07455658934969227, 0.4432572048530009, 0.21408491665232213, 0.14910136050369333, 0.41606176487698115, 0.36125456723755744, 0.3268613709789859, 0.3147003403812693, 0.42173876110221453, 0.288734055419994, 0.32046921185902183, 0.01568612391193038, 0.2739581379069083, 0.27331912035904116, 0.21939858347522226, 0.4248172334284597, 0.2625720291409478, 0.029533689478741333, 0.41016331378258775, 0.4210612957796725, 0.4556344187329143, 0.2681109853725362, 0.0, 0.4390424754829921, 0.4675181258809754, 0.283370850106059, 0.3696175411130803, 0.2858235907842843, 0.4391715999245969, 0.39880026640939487, 0.2692322182620518, 0.0, 0.3613622771139468, 0.25285674054444646, 0.32140473981565465, 0.29225174682679605, 0.0, 0.4582108218768968, 0.433985001113809]}, {\"categories\": [\"0\", \"1\", \"2\", \"3\", \"4\", \"5\", \"6\", \"7\", \"8\", \"9\", \"10\", \"11\", \"12\", \"13\", \"14\", \"15\", \"16\", \"17\", \"18\", \"19\", \"20\", \"21\", \"22\", \"23\", \"24\", \"25\", \"26\", \"27\", \"28\", \"29\", \"30\", \"31\", \"32\", \"34\", \"35\", \"36\", \"37\", \"38\", \"39\", \"40\", \"41\", \"42\", \"43\", \"44\", \"45\", \"47\", \"48\"], \"mode\": \"lines\", \"name\": \"norm_macro_recall_max\", \"stepped\": true, \"type\": \"scatter\", \"data\": [0.41071764429576385, 0.4736393046669162, 0.4736393046669162, 0.4736393046669162, 0.4849567198794823, 0.4849567198794823, 0.4849567198794823, 0.4849567198794823, 0.4849567198794823, 0.4849567198794823, 0.4849567198794823, 0.4849567198794823, 0.4849567198794823, 0.4849567198794823, 0.4849567198794823, 0.4849567198794823, 0.4849567198794823, 0.4849567198794823, 0.4849567198794823, 0.4849567198794823, 0.4849567198794823, 0.4849567198794823, 0.4849567198794823, 0.4849567198794823, 0.4849567198794823, 0.4849567198794823, 0.4849567198794823, 0.4849567198794823, 0.4849567198794823, 0.4849567198794823, 0.4849567198794823, 0.4849567198794823, 0.4849567198794823, 0.4849567198794823, 0.4849567198794823, 0.4849567198794823, 0.4849567198794823, 0.4849567198794823, 0.4849567198794823, 0.4849567198794823, 0.4849567198794823, 0.4849567198794823, 0.4849567198794823, 0.4849567198794823, 0.4849567198794823, 0.4849567198794823, 0.4849567198794823]}], \"precision_score_micro\": [{\"categories\": [\"0\", \"1\", \"2\", \"3\", \"4\", \"5\", \"6\", \"7\", \"8\", \"9\", \"10\", \"11\", \"12\", \"13\", \"14\", \"15\", \"16\", \"17\", \"18\", \"19\", \"20\", \"21\", \"22\", \"23\", \"24\", \"25\", \"26\", \"27\", \"28\", \"29\", \"30\", \"31\", \"32\", \"34\", \"35\", \"36\", \"37\", \"38\", \"39\", \"40\", \"41\", \"42\", \"43\", \"44\", \"45\", \"47\", \"48\"], \"mode\": \"markers\", \"name\": \"precision_score_micro\", \"stepped\": false, \"type\": \"scatter\", \"data\": [0.7396103896103897, 0.7695659603554341, 0.7526144907723855, 0.7422419685577581, 0.7514012303485988, 0.7253075871496923, 0.7109364319890636, 0.7265208475734791, 0.6718386876281613, 0.7708988380041012, 0.6756664388243335, 0.6562542720437458, 0.7604237867395762, 0.7513328776486672, 0.7448222829801777, 0.7096035543403965, 0.7682843472317156, 0.6979494190020505, 0.7422077922077921, 0.656185919343814, 0.7291011619958989, 0.7356801093643199, 0.6940362269309638, 0.7630041011619959, 0.7318010936431989, 0.6457963089542036, 0.7487354750512646, 0.7591250854408749, 0.7683185235816815, 0.7109706083390295, 0.650974025974026, 0.7683014354066987, 0.7721804511278195, 0.6262987012987014, 0.7552118933697881, 0.7330314422419686, 0.7539473684210527, 0.7669856459330143, 0.6939507860560492, 0.4415755297334245, 0.7539473684210526, 0.695334928229665, 0.7434552289815448, 0.7422077922077922, 0.650974025974026, 0.7839371155160629, 0.7696172248803828]}, {\"categories\": [\"0\", \"1\", \"2\", \"3\", \"4\", \"5\", \"6\", \"7\", \"8\", \"9\", \"10\", \"11\", \"12\", \"13\", \"14\", \"15\", \"16\", \"17\", \"18\", \"19\", \"20\", \"21\", \"22\", \"23\", \"24\", \"25\", \"26\", \"27\", \"28\", \"29\", \"30\", \"31\", \"32\", \"34\", \"35\", \"36\", \"37\", \"38\", \"39\", \"40\", \"41\", \"42\", \"43\", \"44\", \"45\", \"47\", \"48\"], \"mode\": \"lines\", \"name\": \"precision_score_micro_max\", \"stepped\": true, \"type\": \"scatter\", \"data\": [0.7396103896103897, 0.7695659603554341, 0.7695659603554341, 0.7695659603554341, 0.7695659603554341, 0.7695659603554341, 0.7695659603554341, 0.7695659603554341, 0.7695659603554341, 0.7708988380041012, 0.7708988380041012, 0.7708988380041012, 0.7708988380041012, 0.7708988380041012, 0.7708988380041012, 0.7708988380041012, 0.7708988380041012, 0.7708988380041012, 0.7708988380041012, 0.7708988380041012, 0.7708988380041012, 0.7708988380041012, 0.7708988380041012, 0.7708988380041012, 0.7708988380041012, 0.7708988380041012, 0.7708988380041012, 0.7708988380041012, 0.7708988380041012, 0.7708988380041012, 0.7708988380041012, 0.7708988380041012, 0.7721804511278195, 0.7721804511278195, 0.7721804511278195, 0.7721804511278195, 0.7721804511278195, 0.7721804511278195, 0.7721804511278195, 0.7721804511278195, 0.7721804511278195, 0.7721804511278195, 0.7721804511278195, 0.7721804511278195, 0.7721804511278195, 0.7839371155160629, 0.7839371155160629]}], \"AUC_micro\": [{\"categories\": [\"0\", \"1\", \"2\", \"3\", \"4\", \"5\", \"6\", \"7\", \"8\", \"9\", \"10\", \"11\", \"12\", \"13\", \"14\", \"15\", \"16\", \"17\", \"18\", \"19\", \"20\", \"21\", \"22\", \"23\", \"24\", \"25\", \"26\", \"27\", \"28\", \"29\", \"30\", \"31\", \"32\", \"34\", \"35\", \"36\", \"37\", \"38\", \"39\", \"40\", \"41\", \"42\", \"43\", \"44\", \"45\", \"47\", \"48\"], \"mode\": \"markers\", \"name\": \"AUC_micro\", \"stepped\": false, \"type\": \"scatter\", \"data\": [0.8242456616125537, 0.8556880349836874, 0.8370773071138669, 0.8180069417936814, 0.8380767638664175, 0.8036807934753305, 0.8002705725040868, 0.7951872492546845, 0.7960450803109185, 0.8467923726002387, 0.7495213821775591, 0.7391490818872819, 0.8474504921814884, 0.8374680195330806, 0.8288161965296638, 0.7759502275074999, 0.8392496982996857, 0.7866388517587388, 0.8293600484309014, 0.7833453542356481, 0.8193470816247104, 0.8217329289949535, 0.7504232184964368, 0.8481392198027538, 0.8189876400985063, 0.710505279697099, 0.8312033812861241, 0.8469583574140721, 0.8566710751744209, 0.7738618288482031, 0.7023350909352545, 0.846795053212787, 0.8514019954035963, 0.6613088882103973, 0.838721597187214, 0.8166182122101375, 0.8339897729083162, 0.842835730077384, 0.7796818036983343, 0.4415755297334245, 0.8348762030051826, 0.7670077682866833, 0.8268239699556478, 0.8261909803870268, 0.7088673582685976, 0.8591713041069088, 0.861297456186293]}, {\"categories\": [\"0\", \"1\", \"2\", \"3\", \"4\", \"5\", \"6\", \"7\", \"8\", \"9\", \"10\", \"11\", \"12\", \"13\", \"14\", \"15\", \"16\", \"17\", \"18\", \"19\", \"20\", \"21\", \"22\", \"23\", \"24\", \"25\", \"26\", \"27\", \"28\", \"29\", \"30\", \"31\", \"32\", \"34\", \"35\", \"36\", \"37\", \"38\", \"39\", \"40\", \"41\", \"42\", \"43\", \"44\", \"45\", \"47\", \"48\"], \"mode\": \"lines\", \"name\": \"AUC_micro_max\", \"stepped\": true, \"type\": \"scatter\", \"data\": [0.8242456616125537, 0.8556880349836874, 0.8556880349836874, 0.8556880349836874, 0.8556880349836874, 0.8556880349836874, 0.8556880349836874, 0.8556880349836874, 0.8556880349836874, 0.8556880349836874, 0.8556880349836874, 0.8556880349836874, 0.8556880349836874, 0.8556880349836874, 0.8556880349836874, 0.8556880349836874, 0.8556880349836874, 0.8556880349836874, 0.8556880349836874, 0.8556880349836874, 0.8556880349836874, 0.8556880349836874, 0.8556880349836874, 0.8556880349836874, 0.8556880349836874, 0.8556880349836874, 0.8556880349836874, 0.8556880349836874, 0.8566710751744209, 0.8566710751744209, 0.8566710751744209, 0.8566710751744209, 0.8566710751744209, 0.8566710751744209, 0.8566710751744209, 0.8566710751744209, 0.8566710751744209, 0.8566710751744209, 0.8566710751744209, 0.8566710751744209, 0.8566710751744209, 0.8566710751744209, 0.8566710751744209, 0.8566710751744209, 0.8566710751744209, 0.8591713041069088, 0.861297456186293]}], \"balanced_accuracy\": [{\"categories\": [\"0\", \"1\", \"2\", \"3\", \"4\", \"5\", \"6\", \"7\", \"8\", \"9\", \"10\", \"11\", \"12\", \"13\", \"14\", \"15\", \"16\", \"17\", \"18\", \"19\", \"20\", \"21\", \"22\", \"23\", \"24\", \"25\", \"26\", \"27\", \"28\", \"29\", \"30\", \"31\", \"32\", \"34\", \"35\", \"36\", \"37\", \"38\", \"39\", \"40\", \"41\", \"42\", \"43\", \"44\", \"45\", \"47\", \"48\"], \"mode\": \"markers\", \"name\": \"balanced_accuracy\", \"stepped\": false, \"type\": \"scatter\", \"data\": [0.7053588221478819, 0.7368196523334581, 0.6878594297254818, 0.6728455132610938, 0.7424783599397412, 0.7246235044231614, 0.6528136452558332, 0.6655203978924961, 0.5372782946748462, 0.7216286024265004, 0.6070424583261611, 0.5729027139124356, 0.7080308824384907, 0.6806272836187788, 0.6634306854894929, 0.6573501701906346, 0.7108693805511073, 0.6443670277099969, 0.660234605929511, 0.5078430619559652, 0.636979068953454, 0.6366595601795206, 0.6096992917376112, 0.7124086167142298, 0.6312860145704738, 0.5086059133811848, 0.7050816568912939, 0.7105306478898363, 0.7278172093664572, 0.634055492686268, 0.5, 0.719521237741496, 0.7337590629404878, 0.6416854250530294, 0.6848087705565402, 0.6429117953921422, 0.7195857999622983, 0.6994001332046975, 0.634616109131026, 0.5, 0.6806811385569735, 0.6264283702722232, 0.6607023699078274, 0.6461258734133981, 0.5, 0.7291054109384485, 0.7169925005569044]}, {\"categories\": [\"0\", \"1\", \"2\", \"3\", \"4\", \"5\", \"6\", \"7\", \"8\", \"9\", \"10\", \"11\", \"12\", \"13\", \"14\", \"15\", \"16\", \"17\", \"18\", \"19\", \"20\", \"21\", \"22\", \"23\", \"24\", \"25\", \"26\", \"27\", \"28\", \"29\", \"30\", \"31\", \"32\", \"34\", \"35\", \"36\", \"37\", \"38\", \"39\", \"40\", \"41\", \"42\", \"43\", \"44\", \"45\", \"47\", \"48\"], \"mode\": \"lines\", \"name\": \"balanced_accuracy_max\", \"stepped\": true, \"type\": \"scatter\", \"data\": [0.7053588221478819, 0.7368196523334581, 0.7368196523334581, 0.7368196523334581, 0.7424783599397412, 0.7424783599397412, 0.7424783599397412, 0.7424783599397412, 0.7424783599397412, 0.7424783599397412, 0.7424783599397412, 0.7424783599397412, 0.7424783599397412, 0.7424783599397412, 0.7424783599397412, 0.7424783599397412, 0.7424783599397412, 0.7424783599397412, 0.7424783599397412, 0.7424783599397412, 0.7424783599397412, 0.7424783599397412, 0.7424783599397412, 0.7424783599397412, 0.7424783599397412, 0.7424783599397412, 0.7424783599397412, 0.7424783599397412, 0.7424783599397412, 0.7424783599397412, 0.7424783599397412, 0.7424783599397412, 0.7424783599397412, 0.7424783599397412, 0.7424783599397412, 0.7424783599397412, 0.7424783599397412, 0.7424783599397412, 0.7424783599397412, 0.7424783599397412, 0.7424783599397412, 0.7424783599397412, 0.7424783599397412, 0.7424783599397412, 0.7424783599397412, 0.7424783599397412, 0.7424783599397412]}], \"accuracy\": [{\"categories\": [\"0\", \"1\", \"2\", \"3\", \"4\", \"5\", \"6\", \"7\", \"8\", \"9\", \"10\", \"11\", \"12\", \"13\", \"14\", \"15\", \"16\", \"17\", \"18\", \"19\", \"20\", \"21\", \"22\", \"23\", \"24\", \"25\", \"26\", \"27\", \"28\", \"29\", \"30\", \"31\", \"32\", \"34\", \"35\", \"36\", \"37\", \"38\", \"39\", \"40\", \"41\", \"42\", \"43\", \"44\", \"45\", \"47\", \"48\"], \"mode\": \"markers\", \"name\": \"accuracy\", \"stepped\": false, \"type\": \"scatter\", \"data\": [0.7396103896103897, 0.7695659603554341, 0.7526144907723855, 0.7422419685577581, 0.7514012303485988, 0.7253075871496923, 0.7109364319890636, 0.7265208475734791, 0.6718386876281613, 0.7708988380041012, 0.6756664388243335, 0.6562542720437458, 0.7604237867395762, 0.7513328776486672, 0.7448222829801777, 0.7096035543403965, 0.7682843472317156, 0.6979494190020505, 0.7422077922077921, 0.656185919343814, 0.7291011619958989, 0.7356801093643199, 0.6940362269309638, 0.7630041011619959, 0.7318010936431989, 0.6457963089542036, 0.7487354750512646, 0.7591250854408749, 0.7683185235816815, 0.7109706083390295, 0.650974025974026, 0.7683014354066987, 0.7721804511278195, 0.6262987012987014, 0.7552118933697881, 0.7330314422419686, 0.7539473684210527, 0.7669856459330143, 0.6939507860560492, 0.4415755297334245, 0.7539473684210526, 0.695334928229665, 0.7434552289815448, 0.7422077922077922, 0.650974025974026, 0.7839371155160629, 0.7696172248803828]}, {\"categories\": [\"0\", \"1\", \"2\", \"3\", \"4\", \"5\", \"6\", \"7\", \"8\", \"9\", \"10\", \"11\", \"12\", \"13\", \"14\", \"15\", \"16\", \"17\", \"18\", \"19\", \"20\", \"21\", \"22\", \"23\", \"24\", \"25\", \"26\", \"27\", \"28\", \"29\", \"30\", \"31\", \"32\", \"34\", \"35\", \"36\", \"37\", \"38\", \"39\", \"40\", \"41\", \"42\", \"43\", \"44\", \"45\", \"47\", \"48\"], \"mode\": \"lines\", \"name\": \"accuracy_max\", \"stepped\": true, \"type\": \"scatter\", \"data\": [0.7396103896103897, 0.7695659603554341, 0.7695659603554341, 0.7695659603554341, 0.7695659603554341, 0.7695659603554341, 0.7695659603554341, 0.7695659603554341, 0.7695659603554341, 0.7708988380041012, 0.7708988380041012, 0.7708988380041012, 0.7708988380041012, 0.7708988380041012, 0.7708988380041012, 0.7708988380041012, 0.7708988380041012, 0.7708988380041012, 0.7708988380041012, 0.7708988380041012, 0.7708988380041012, 0.7708988380041012, 0.7708988380041012, 0.7708988380041012, 0.7708988380041012, 0.7708988380041012, 0.7708988380041012, 0.7708988380041012, 0.7708988380041012, 0.7708988380041012, 0.7708988380041012, 0.7708988380041012, 0.7721804511278195, 0.7721804511278195, 0.7721804511278195, 0.7721804511278195, 0.7721804511278195, 0.7721804511278195, 0.7721804511278195, 0.7721804511278195, 0.7721804511278195, 0.7721804511278195, 0.7721804511278195, 0.7721804511278195, 0.7721804511278195, 0.7839371155160629, 0.7839371155160629]}], \"f1_score_weighted\": [{\"categories\": [\"0\", \"1\", \"2\", \"3\", \"4\", \"5\", \"6\", \"7\", \"8\", \"9\", \"10\", \"11\", \"12\", \"13\", \"14\", \"15\", \"16\", \"17\", \"18\", \"19\", \"20\", \"21\", \"22\", \"23\", \"24\", \"25\", \"26\", \"27\", \"28\", \"29\", \"30\", \"31\", \"32\", \"34\", \"35\", \"36\", \"37\", \"38\", \"39\", \"40\", \"41\", \"42\", \"43\", \"44\", \"45\", \"47\", \"48\"], \"mode\": \"markers\", \"name\": \"f1_score_weighted\", \"stepped\": false, \"type\": \"scatter\", \"data\": [0.7376523503026942, 0.7674902736086928, 0.738320707266676, 0.7232562414553018, 0.7551620658212799, 0.7311711216029195, 0.6997226508527072, 0.7127788622583289, 0.5709229770071051, 0.764018531102835, 0.659711532532224, 0.6013846063749393, 0.7520705625694148, 0.7345100059876573, 0.7183478845703456, 0.701687210611104, 0.7578866409637899, 0.6891256811378265, 0.7158433206482449, 0.5263547660558826, 0.6926307077432652, 0.694062613511586, 0.6633438433468879, 0.7556116992717187, 0.6890513925177197, 0.5440352124877136, 0.7445327890819243, 0.7515249152369524, 0.7640556184475619, 0.6889084538182326, 0.5146909419914976, 0.7616138800799549, 0.7679009131725629, 0.6342145580454591, 0.737516358324911, 0.7002994585744605, 0.751960259957636, 0.7505188088840483, 0.6822937846932086, 0.285562777901529, 0.7345795295250477, 0.6759445671173708, 0.7164139402665296, 0.7036278770067685, 0.5146909419914976, 0.7748326409670362, 0.7614030105760596]}, {\"categories\": [\"0\", \"1\", \"2\", \"3\", \"4\", \"5\", \"6\", \"7\", \"8\", \"9\", \"10\", \"11\", \"12\", \"13\", \"14\", \"15\", \"16\", \"17\", \"18\", \"19\", \"20\", \"21\", \"22\", \"23\", \"24\", \"25\", \"26\", \"27\", \"28\", \"29\", \"30\", \"31\", \"32\", \"34\", \"35\", \"36\", \"37\", \"38\", \"39\", \"40\", \"41\", \"42\", \"43\", \"44\", \"45\", \"47\", \"48\"], \"mode\": \"lines\", \"name\": \"f1_score_weighted_max\", \"stepped\": true, \"type\": \"scatter\", \"data\": [0.7376523503026942, 0.7674902736086928, 0.7674902736086928, 0.7674902736086928, 0.7674902736086928, 0.7674902736086928, 0.7674902736086928, 0.7674902736086928, 0.7674902736086928, 0.7674902736086928, 0.7674902736086928, 0.7674902736086928, 0.7674902736086928, 0.7674902736086928, 0.7674902736086928, 0.7674902736086928, 0.7674902736086928, 0.7674902736086928, 0.7674902736086928, 0.7674902736086928, 0.7674902736086928, 0.7674902736086928, 0.7674902736086928, 0.7674902736086928, 0.7674902736086928, 0.7674902736086928, 0.7674902736086928, 0.7674902736086928, 0.7674902736086928, 0.7674902736086928, 0.7674902736086928, 0.7674902736086928, 0.7679009131725629, 0.7679009131725629, 0.7679009131725629, 0.7679009131725629, 0.7679009131725629, 0.7679009131725629, 0.7679009131725629, 0.7679009131725629, 0.7679009131725629, 0.7679009131725629, 0.7679009131725629, 0.7679009131725629, 0.7679009131725629, 0.7748326409670362, 0.7748326409670362]}], \"average_precision_score_micro\": [{\"categories\": [\"0\", \"1\", \"2\", \"3\", \"4\", \"5\", \"6\", \"7\", \"8\", \"9\", \"10\", \"11\", \"12\", \"13\", \"14\", \"15\", \"16\", \"17\", \"18\", \"19\", \"20\", \"21\", \"22\", \"23\", \"24\", \"25\", \"26\", \"27\", \"28\", \"29\", \"30\", \"31\", \"32\", \"34\", \"35\", \"36\", \"37\", \"38\", \"39\", \"40\", \"41\", \"42\", \"43\", \"44\", \"45\", \"47\", \"48\"], \"mode\": \"markers\", \"name\": \"average_precision_score_micro\", \"stepped\": false, \"type\": \"scatter\", \"data\": [0.8229290538102472, 0.8549562655774119, 0.8365696715067188, 0.8231712587449497, 0.8410286441736435, 0.8015733577791367, 0.7998516433589408, 0.7923516433974302, 0.8099345314738017, 0.841708859531875, 0.7490045498266612, 0.7228501322698062, 0.849082110717314, 0.8430913261156301, 0.831641550356156, 0.7709383650104557, 0.833998262529297, 0.7827173136223589, 0.8353712174345962, 0.7983624144336593, 0.8283368965129627, 0.8274016184321061, 0.7486608219915081, 0.8469408023898094, 0.8239285450271719, 0.7036089610019964, 0.8325918462182618, 0.8456279086953664, 0.8528322226902721, 0.7683697799888253, 0.6950044081842426, 0.84154399024351, 0.8495495814752712, 0.6430283908606692, 0.8412221850590855, 0.8238472873920861, 0.8347289561107267, 0.8433994746442572, 0.7758029862849479, 0.49669085973026145, 0.8402342614635504, 0.766384504252445, 0.8312468897732789, 0.8324719021214287, 0.6984963497231141, 0.8612528289415898, 0.8637901451062089]}, {\"categories\": [\"0\", \"1\", \"2\", \"3\", \"4\", \"5\", \"6\", \"7\", \"8\", \"9\", \"10\", \"11\", \"12\", \"13\", \"14\", \"15\", \"16\", \"17\", \"18\", \"19\", \"20\", \"21\", \"22\", \"23\", \"24\", \"25\", \"26\", \"27\", \"28\", \"29\", \"30\", \"31\", \"32\", \"34\", \"35\", \"36\", \"37\", \"38\", \"39\", \"40\", \"41\", \"42\", \"43\", \"44\", \"45\", \"47\", \"48\"], \"mode\": \"lines\", \"name\": \"average_precision_score_micro_max\", \"stepped\": true, \"type\": \"scatter\", \"data\": [0.8229290538102472, 0.8549562655774119, 0.8549562655774119, 0.8549562655774119, 0.8549562655774119, 0.8549562655774119, 0.8549562655774119, 0.8549562655774119, 0.8549562655774119, 0.8549562655774119, 0.8549562655774119, 0.8549562655774119, 0.8549562655774119, 0.8549562655774119, 0.8549562655774119, 0.8549562655774119, 0.8549562655774119, 0.8549562655774119, 0.8549562655774119, 0.8549562655774119, 0.8549562655774119, 0.8549562655774119, 0.8549562655774119, 0.8549562655774119, 0.8549562655774119, 0.8549562655774119, 0.8549562655774119, 0.8549562655774119, 0.8549562655774119, 0.8549562655774119, 0.8549562655774119, 0.8549562655774119, 0.8549562655774119, 0.8549562655774119, 0.8549562655774119, 0.8549562655774119, 0.8549562655774119, 0.8549562655774119, 0.8549562655774119, 0.8549562655774119, 0.8549562655774119, 0.8549562655774119, 0.8549562655774119, 0.8549562655774119, 0.8549562655774119, 0.8612528289415898, 0.8637901451062089]}], \"recall_score_micro\": [{\"categories\": [\"0\", \"1\", \"2\", \"3\", \"4\", \"5\", \"6\", \"7\", \"8\", \"9\", \"10\", \"11\", \"12\", \"13\", \"14\", \"15\", \"16\", \"17\", \"18\", \"19\", \"20\", \"21\", \"22\", \"23\", \"24\", \"25\", \"26\", \"27\", \"28\", \"29\", \"30\", \"31\", \"32\", \"34\", \"35\", \"36\", \"37\", \"38\", \"39\", \"40\", \"41\", \"42\", \"43\", \"44\", \"45\", \"47\", \"48\"], \"mode\": \"markers\", \"name\": \"recall_score_micro\", \"stepped\": false, \"type\": \"scatter\", \"data\": [0.7396103896103897, 0.7695659603554341, 0.7526144907723855, 0.7422419685577581, 0.7514012303485988, 0.7253075871496923, 0.7109364319890636, 0.7265208475734791, 0.6718386876281613, 0.7708988380041012, 0.6756664388243335, 0.6562542720437458, 0.7604237867395762, 0.7513328776486672, 0.7448222829801777, 0.7096035543403965, 0.7682843472317156, 0.6979494190020505, 0.7422077922077921, 0.656185919343814, 0.7291011619958989, 0.7356801093643199, 0.6940362269309638, 0.7630041011619959, 0.7318010936431989, 0.6457963089542036, 0.7487354750512646, 0.7591250854408749, 0.7683185235816815, 0.7109706083390295, 0.650974025974026, 0.7683014354066987, 0.7721804511278195, 0.6262987012987014, 0.7552118933697881, 0.7330314422419686, 0.7539473684210527, 0.7669856459330143, 0.6939507860560492, 0.4415755297334245, 0.7539473684210526, 0.695334928229665, 0.7434552289815448, 0.7422077922077922, 0.650974025974026, 0.7839371155160629, 0.7696172248803828]}, {\"categories\": [\"0\", \"1\", \"2\", \"3\", \"4\", \"5\", \"6\", \"7\", \"8\", \"9\", \"10\", \"11\", \"12\", \"13\", \"14\", \"15\", \"16\", \"17\", \"18\", \"19\", \"20\", \"21\", \"22\", \"23\", \"24\", \"25\", \"26\", \"27\", \"28\", \"29\", \"30\", \"31\", \"32\", \"34\", \"35\", \"36\", \"37\", \"38\", \"39\", \"40\", \"41\", \"42\", \"43\", \"44\", \"45\", \"47\", \"48\"], \"mode\": \"lines\", \"name\": \"recall_score_micro_max\", \"stepped\": true, \"type\": \"scatter\", \"data\": [0.7396103896103897, 0.7695659603554341, 0.7695659603554341, 0.7695659603554341, 0.7695659603554341, 0.7695659603554341, 0.7695659603554341, 0.7695659603554341, 0.7695659603554341, 0.7708988380041012, 0.7708988380041012, 0.7708988380041012, 0.7708988380041012, 0.7708988380041012, 0.7708988380041012, 0.7708988380041012, 0.7708988380041012, 0.7708988380041012, 0.7708988380041012, 0.7708988380041012, 0.7708988380041012, 0.7708988380041012, 0.7708988380041012, 0.7708988380041012, 0.7708988380041012, 0.7708988380041012, 0.7708988380041012, 0.7708988380041012, 0.7708988380041012, 0.7708988380041012, 0.7708988380041012, 0.7708988380041012, 0.7721804511278195, 0.7721804511278195, 0.7721804511278195, 0.7721804511278195, 0.7721804511278195, 0.7721804511278195, 0.7721804511278195, 0.7721804511278195, 0.7721804511278195, 0.7721804511278195, 0.7721804511278195, 0.7721804511278195, 0.7721804511278195, 0.7839371155160629, 0.7839371155160629]}], \"precision_score_weighted\": [{\"categories\": [\"0\", \"1\", \"2\", \"3\", \"4\", \"5\", \"6\", \"7\", \"8\", \"9\", \"10\", \"11\", \"12\", \"13\", \"14\", \"15\", \"16\", \"17\", \"18\", \"19\", \"20\", \"21\", \"22\", \"23\", \"24\", \"25\", \"26\", \"27\", \"28\", \"29\", \"30\", \"31\", \"32\", \"34\", \"35\", \"36\", \"37\", \"38\", \"39\", \"40\", \"41\", \"42\", \"43\", \"44\", \"45\", \"47\", \"48\"], \"mode\": \"markers\", \"name\": \"precision_score_weighted\", \"stepped\": false, \"type\": \"scatter\", \"data\": [0.7396148182527014, 0.7692657656068833, 0.7513305062490391, 0.7454421561961154, 0.7686466607295008, 0.7535121083563086, 0.7061538962003748, 0.7213099151026225, 0.7251499102450796, 0.7699913424163245, 0.6622463415041894, 0.6619885747963283, 0.7582738775936851, 0.7503765292749477, 0.7498653298292148, 0.7028416590684022, 0.7693523578546231, 0.6931334863781219, 0.7540951547283322, 0.5685808261332509, 0.7471972473710924, 0.762185859613804, 0.6840284212731139, 0.7623504088773593, 0.7548394784156884, 0.5707397075788426, 0.7470984209124579, 0.7565732800355927, 0.768052526057054, 0.7070043043893777, 0.42687712083757523, 0.767229524759855, 0.7742910761905789, 0.6785129675449038, 0.758616289232819, 0.7445346225490108, 0.7535290314152789, 0.7723819757195416, 0.6865215907761668, 0.21747862459697367, 0.7592184798347317, 0.689530077658252, 0.7555849017585881, 0.7692255282979391, 0.42687712083757523, 0.7837624274639412, 0.7692689694132306]}, {\"categories\": [\"0\", \"1\", \"2\", \"3\", \"4\", \"5\", \"6\", \"7\", \"8\", \"9\", \"10\", \"11\", \"12\", \"13\", \"14\", \"15\", \"16\", \"17\", \"18\", \"19\", \"20\", \"21\", \"22\", \"23\", \"24\", \"25\", \"26\", \"27\", \"28\", \"29\", \"30\", \"31\", \"32\", \"34\", \"35\", \"36\", \"37\", \"38\", \"39\", \"40\", \"41\", \"42\", \"43\", \"44\", \"45\", \"47\", \"48\"], \"mode\": \"lines\", \"name\": \"precision_score_weighted_max\", \"stepped\": true, \"type\": \"scatter\", \"data\": [0.7396148182527014, 0.7692657656068833, 0.7692657656068833, 0.7692657656068833, 0.7692657656068833, 0.7692657656068833, 0.7692657656068833, 0.7692657656068833, 0.7692657656068833, 0.7699913424163245, 0.7699913424163245, 0.7699913424163245, 0.7699913424163245, 0.7699913424163245, 0.7699913424163245, 0.7699913424163245, 0.7699913424163245, 0.7699913424163245, 0.7699913424163245, 0.7699913424163245, 0.7699913424163245, 0.7699913424163245, 0.7699913424163245, 0.7699913424163245, 0.7699913424163245, 0.7699913424163245, 0.7699913424163245, 0.7699913424163245, 0.7699913424163245, 0.7699913424163245, 0.7699913424163245, 0.7699913424163245, 0.7742910761905789, 0.7742910761905789, 0.7742910761905789, 0.7742910761905789, 0.7742910761905789, 0.7742910761905789, 0.7742910761905789, 0.7742910761905789, 0.7742910761905789, 0.7742910761905789, 0.7742910761905789, 0.7742910761905789, 0.7742910761905789, 0.7837624274639412, 0.7837624274639412]}], \"f1_score_micro\": [{\"categories\": [\"0\", \"1\", \"2\", \"3\", \"4\", \"5\", \"6\", \"7\", \"8\", \"9\", \"10\", \"11\", \"12\", \"13\", \"14\", \"15\", \"16\", \"17\", \"18\", \"19\", \"20\", \"21\", \"22\", \"23\", \"24\", \"25\", \"26\", \"27\", \"28\", \"29\", \"30\", \"31\", \"32\", \"34\", \"35\", \"36\", \"37\", \"38\", \"39\", \"40\", \"41\", \"42\", \"43\", \"44\", \"45\", \"47\", \"48\"], \"mode\": \"markers\", \"name\": \"f1_score_micro\", \"stepped\": false, \"type\": \"scatter\", \"data\": [0.7396103896103897, 0.7695659603554341, 0.7526144907723855, 0.7422419685577581, 0.7514012303485987, 0.7253075871496923, 0.7109364319890636, 0.7265208475734791, 0.6718386876281613, 0.7708988380041012, 0.6756664388243335, 0.6562542720437458, 0.7604237867395762, 0.7513328776486672, 0.7448222829801777, 0.7096035543403965, 0.7682843472317156, 0.6979494190020505, 0.7422077922077921, 0.656185919343814, 0.7291011619958988, 0.7356801093643199, 0.6940362269309637, 0.7630041011619958, 0.7318010936431989, 0.6457963089542036, 0.7487354750512645, 0.7591250854408749, 0.7683185235816813, 0.7109706083390295, 0.650974025974026, 0.7683014354066987, 0.7721804511278195, 0.6262987012987014, 0.7552118933697881, 0.7330314422419686, 0.7539473684210527, 0.7669856459330143, 0.6939507860560492, 0.4415755297334245, 0.7539473684210526, 0.695334928229665, 0.7434552289815448, 0.7422077922077922, 0.650974025974026, 0.7839371155160629, 0.7696172248803826]}, {\"categories\": [\"0\", \"1\", \"2\", \"3\", \"4\", \"5\", \"6\", \"7\", \"8\", \"9\", \"10\", \"11\", \"12\", \"13\", \"14\", \"15\", \"16\", \"17\", \"18\", \"19\", \"20\", \"21\", \"22\", \"23\", \"24\", \"25\", \"26\", \"27\", \"28\", \"29\", \"30\", \"31\", \"32\", \"34\", \"35\", \"36\", \"37\", \"38\", \"39\", \"40\", \"41\", \"42\", \"43\", \"44\", \"45\", \"47\", \"48\"], \"mode\": \"lines\", \"name\": \"f1_score_micro_max\", \"stepped\": true, \"type\": \"scatter\", \"data\": [0.7396103896103897, 0.7695659603554341, 0.7695659603554341, 0.7695659603554341, 0.7695659603554341, 0.7695659603554341, 0.7695659603554341, 0.7695659603554341, 0.7695659603554341, 0.7708988380041012, 0.7708988380041012, 0.7708988380041012, 0.7708988380041012, 0.7708988380041012, 0.7708988380041012, 0.7708988380041012, 0.7708988380041012, 0.7708988380041012, 0.7708988380041012, 0.7708988380041012, 0.7708988380041012, 0.7708988380041012, 0.7708988380041012, 0.7708988380041012, 0.7708988380041012, 0.7708988380041012, 0.7708988380041012, 0.7708988380041012, 0.7708988380041012, 0.7708988380041012, 0.7708988380041012, 0.7708988380041012, 0.7721804511278195, 0.7721804511278195, 0.7721804511278195, 0.7721804511278195, 0.7721804511278195, 0.7721804511278195, 0.7721804511278195, 0.7721804511278195, 0.7721804511278195, 0.7721804511278195, 0.7721804511278195, 0.7721804511278195, 0.7721804511278195, 0.7839371155160629, 0.7839371155160629]}], \"f1_score_macro\": [{\"categories\": [\"0\", \"1\", \"2\", \"3\", \"4\", \"5\", \"6\", \"7\", \"8\", \"9\", \"10\", \"11\", \"12\", \"13\", \"14\", \"15\", \"16\", \"17\", \"18\", \"19\", \"20\", \"21\", \"22\", \"23\", \"24\", \"25\", \"26\", \"27\", \"28\", \"29\", \"30\", \"31\", \"32\", \"34\", \"35\", \"36\", \"37\", \"38\", \"39\", \"40\", \"41\", \"42\", \"43\", \"44\", \"45\", \"47\", \"48\"], \"mode\": \"markers\", \"name\": \"f1_score_macro\", \"stepped\": false, \"type\": \"scatter\", \"data\": [0.7060869524729553, 0.7386733613551352, 0.696857476124758, 0.6782508077377039, 0.731564768496938, 0.7073929818791018, 0.65722672339472, 0.670804435544966, 0.4736094821024171, 0.7294061277629487, 0.607838493518352, 0.5349582615701339, 0.7159855803978527, 0.6905343977101263, 0.668096985476223, 0.6613225676402734, 0.7202786913524633, 0.6457319317425398, 0.6659571550599799, 0.40994155913018726, 0.6356978150749816, 0.6354721150404694, 0.6063075939260492, 0.720454418090563, 0.6280870735321573, 0.43781354643063947, 0.708936758002104, 0.7167950260557081, 0.7327243303784879, 0.6368288907677709, 0.3936285549782772, 0.7269881458326962, 0.7372451221015774, 0.6145240503802105, 0.6937532292545858, 0.6451595766363664, 0.7209952014349266, 0.7091900034233621, 0.6371439030600509, 0.29879414078266, 0.6892934008488346, 0.6266078754361594, 0.6660587632685722, 0.6482317329211489, 0.3936285549782772, 0.7400681803032223, 0.7264246782354487]}, {\"categories\": [\"0\", \"1\", \"2\", \"3\", \"4\", \"5\", \"6\", \"7\", \"8\", \"9\", \"10\", \"11\", \"12\", \"13\", \"14\", \"15\", \"16\", \"17\", \"18\", \"19\", \"20\", \"21\", \"22\", \"23\", \"24\", \"25\", \"26\", \"27\", \"28\", \"29\", \"30\", \"31\", \"32\", \"34\", \"35\", \"36\", \"37\", \"38\", \"39\", \"40\", \"41\", \"42\", \"43\", \"44\", \"45\", \"47\", \"48\"], \"mode\": \"lines\", \"name\": \"f1_score_macro_max\", \"stepped\": true, \"type\": \"scatter\", \"data\": [0.7060869524729553, 0.7386733613551352, 0.7386733613551352, 0.7386733613551352, 0.7386733613551352, 0.7386733613551352, 0.7386733613551352, 0.7386733613551352, 0.7386733613551352, 0.7386733613551352, 0.7386733613551352, 0.7386733613551352, 0.7386733613551352, 0.7386733613551352, 0.7386733613551352, 0.7386733613551352, 0.7386733613551352, 0.7386733613551352, 0.7386733613551352, 0.7386733613551352, 0.7386733613551352, 0.7386733613551352, 0.7386733613551352, 0.7386733613551352, 0.7386733613551352, 0.7386733613551352, 0.7386733613551352, 0.7386733613551352, 0.7386733613551352, 0.7386733613551352, 0.7386733613551352, 0.7386733613551352, 0.7386733613551352, 0.7386733613551352, 0.7386733613551352, 0.7386733613551352, 0.7386733613551352, 0.7386733613551352, 0.7386733613551352, 0.7386733613551352, 0.7386733613551352, 0.7386733613551352, 0.7386733613551352, 0.7386733613551352, 0.7386733613551352, 0.7400681803032223, 0.7400681803032223]}], \"log_loss\": [{\"categories\": [\"0\", \"1\", \"2\", \"3\", \"4\", \"5\", \"6\", \"7\", \"8\", \"9\", \"10\", \"11\", \"12\", \"13\", \"14\", \"15\", \"16\", \"17\", \"18\", \"19\", \"20\", \"21\", \"22\", \"23\", \"24\", \"25\", \"26\", \"27\", \"28\", \"29\", \"30\", \"31\", \"32\", \"34\", \"35\", \"36\", \"37\", \"38\", \"39\", \"40\", \"41\", \"42\", \"43\", \"44\", \"45\", \"47\", \"48\"], \"mode\": \"markers\", \"name\": \"log_loss\", \"stepped\": false, \"type\": \"scatter\", \"data\": [0.6480770950597856, 0.4752990014529053, 0.5023770722766224, 0.52330973834162, 0.5051447436896404, 0.5690549231546468, 0.5428653538655805, 0.5435267763111145, 0.5692892076060344, 0.4885412055474153, 0.5897893322439346, 0.612041067826675, 0.48860134647001435, 0.5160515497272203, 0.5250229069926066, 0.600347009457885, 0.49938498303186696, 0.5703175482188041, 0.5228963737745385, 0.590398825287205, 0.5351401917386903, 0.539947688317616, 0.6107836657853214, 0.495084180141364, 0.5392545506950766, 0.6307545126347717, 0.5181017614150287, 0.5395948736603173, 0.4752740265280379, 0.5946700703636678, 0.6477328844776882, 0.4889504550583884, 0.48684404221489475, 0.6696757783469142, 0.508425250391353, 0.5345716508577959, 0.5951390929214109, 0.5112603383186697, 0.5642315657241553, 0.6934491703525203, 0.5173917296141092, 0.5761458002295857, 0.5236854224092491, 0.5354721912174492, 0.642586167560017, 0.4795669819421725, 0.48166444220796134]}, {\"categories\": [\"0\", \"1\", \"2\", \"3\", \"4\", \"5\", \"6\", \"7\", \"8\", \"9\", \"10\", \"11\", \"12\", \"13\", \"14\", \"15\", \"16\", \"17\", \"18\", \"19\", \"20\", \"21\", \"22\", \"23\", \"24\", \"25\", \"26\", \"27\", \"28\", \"29\", \"30\", \"31\", \"32\", \"34\", \"35\", \"36\", \"37\", \"38\", \"39\", \"40\", \"41\", \"42\", \"43\", \"44\", \"45\", \"47\", \"48\"], \"mode\": \"lines\", \"name\": \"log_loss_min\", \"stepped\": true, \"type\": \"scatter\", \"data\": [0.6480770950597856, 0.4752990014529053, 0.4752990014529053, 0.4752990014529053, 0.4752990014529053, 0.4752990014529053, 0.4752990014529053, 0.4752990014529053, 0.4752990014529053, 0.4752990014529053, 0.4752990014529053, 0.4752990014529053, 0.4752990014529053, 0.4752990014529053, 0.4752990014529053, 0.4752990014529053, 0.4752990014529053, 0.4752990014529053, 0.4752990014529053, 0.4752990014529053, 0.4752990014529053, 0.4752990014529053, 0.4752990014529053, 0.4752990014529053, 0.4752990014529053, 0.4752990014529053, 0.4752990014529053, 0.4752990014529053, 0.4752740265280379, 0.4752740265280379, 0.4752740265280379, 0.4752740265280379, 0.4752740265280379, 0.4752740265280379, 0.4752740265280379, 0.4752740265280379, 0.4752740265280379, 0.4752740265280379, 0.4752740265280379, 0.4752740265280379, 0.4752740265280379, 0.4752740265280379, 0.4752740265280379, 0.4752740265280379, 0.4752740265280379, 0.4752740265280379, 0.4752740265280379]}], \"precision_score_macro\": [{\"categories\": [\"0\", \"1\", \"2\", \"3\", \"4\", \"5\", \"6\", \"7\", \"8\", \"9\", \"10\", \"11\", \"12\", \"13\", \"14\", \"15\", \"16\", \"17\", \"18\", \"19\", \"20\", \"21\", \"22\", \"23\", \"24\", \"25\", \"26\", \"27\", \"28\", \"29\", \"30\", \"31\", \"32\", \"34\", \"35\", \"36\", \"37\", \"38\", \"39\", \"40\", \"41\", \"42\", \"43\", \"44\", \"45\", \"47\", \"48\"], \"mode\": \"markers\", \"name\": \"precision_score_macro\", \"stepped\": false, \"type\": \"scatter\", \"data\": [0.7112261247846459, 0.7448891884111544, 0.739322622337762, 0.7328021826832316, 0.7316101631440637, 0.7089771852445323, 0.6822831462516467, 0.7023003479468028, 0.7447499837616997, 0.7521596114829708, 0.6302091216093471, 0.6374795555128558, 0.7411899030086111, 0.7407253347179574, 0.7442885996841683, 0.6761592340840278, 0.7553979175287631, 0.6617142059644329, 0.750834485507782, 0.5272067669172932, 0.7470895522988464, 0.7748642506037795, 0.6643044116443511, 0.7453326445536439, 0.765104924649967, 0.5185769815582615, 0.7207189093783144, 0.7376639527108333, 0.7472430053550976, 0.6870788543547185, 0.325487012987013, 0.7487930726847549, 0.7530525004296704, 0.6274590346426664, 0.7492522197426513, 0.7436440816237441, 0.7264662553720539, 0.7653662789424516, 0.6584351896400533, 0.22078776486671225, 0.7512540701273981, 0.6656505339574486, 0.7526790217083285, 0.7844203620976371, 0.325487012987013, 0.7730986845739178, 0.7556787289079545]}, {\"categories\": [\"0\", \"1\", \"2\", \"3\", \"4\", \"5\", \"6\", \"7\", \"8\", \"9\", \"10\", \"11\", \"12\", \"13\", \"14\", \"15\", \"16\", \"17\", \"18\", \"19\", \"20\", \"21\", \"22\", \"23\", \"24\", \"25\", \"26\", \"27\", \"28\", \"29\", \"30\", \"31\", \"32\", \"34\", \"35\", \"36\", \"37\", \"38\", \"39\", \"40\", \"41\", \"42\", \"43\", \"44\", \"45\", \"47\", \"48\"], \"mode\": \"lines\", \"name\": \"precision_score_macro_max\", \"stepped\": true, \"type\": \"scatter\", \"data\": [0.7112261247846459, 0.7448891884111544, 0.7448891884111544, 0.7448891884111544, 0.7448891884111544, 0.7448891884111544, 0.7448891884111544, 0.7448891884111544, 0.7448891884111544, 0.7521596114829708, 0.7521596114829708, 0.7521596114829708, 0.7521596114829708, 0.7521596114829708, 0.7521596114829708, 0.7521596114829708, 0.7553979175287631, 0.7553979175287631, 0.7553979175287631, 0.7553979175287631, 0.7553979175287631, 0.7748642506037795, 0.7748642506037795, 0.7748642506037795, 0.7748642506037795, 0.7748642506037795, 0.7748642506037795, 0.7748642506037795, 0.7748642506037795, 0.7748642506037795, 0.7748642506037795, 0.7748642506037795, 0.7748642506037795, 0.7748642506037795, 0.7748642506037795, 0.7748642506037795, 0.7748642506037795, 0.7748642506037795, 0.7748642506037795, 0.7748642506037795, 0.7748642506037795, 0.7748642506037795, 0.7748642506037795, 0.7844203620976371, 0.7844203620976371, 0.7844203620976371, 0.7844203620976371]}], \"average_precision_score_weighted\": [{\"categories\": [\"0\", \"1\", \"2\", \"3\", \"4\", \"5\", \"6\", \"7\", \"8\", \"9\", \"10\", \"11\", \"12\", \"13\", \"14\", \"15\", \"16\", \"17\", \"18\", \"19\", \"20\", \"21\", \"22\", \"23\", \"24\", \"25\", \"26\", \"27\", \"28\", \"29\", \"30\", \"31\", \"32\", \"34\", \"35\", \"36\", \"37\", \"38\", \"39\", \"40\", \"41\", \"42\", \"43\", \"44\", \"45\", \"47\", \"48\"], \"mode\": \"markers\", \"name\": \"average_precision_score_weighted\", \"stepped\": false, \"type\": \"scatter\", \"data\": [0.8088900198552287, 0.8456601055549087, 0.8316716176083719, 0.8154177093031555, 0.8417809384387626, 0.8169499556464729, 0.7884401733913479, 0.7801526799433733, 0.8321893819293406, 0.83488516698022, 0.7255575922602133, 0.6969769479553236, 0.8436519639658279, 0.8383902945556188, 0.8382447114359544, 0.7543850135710837, 0.8271620382344477, 0.7740777680550658, 0.8387108647921231, 0.8138538794686255, 0.8374913790489368, 0.8433018187014534, 0.7290878959241647, 0.8367949938393704, 0.8366100005264234, 0.6903772845532116, 0.8241662655344546, 0.8340601681217985, 0.8457540927640265, 0.7557158476184673, 0.6591676045861435, 0.8350276855898116, 0.8419752144899426, 0.7131939640423319, 0.8364855753070645, 0.8286114601713205, 0.8236964898396064, 0.8420262018674449, 0.7567992530840311, 0.5518061897270984, 0.8403922524744646, 0.7519370557579463, 0.8316943723873788, 0.8482372671244436, 0.6606417492305429, 0.8566911448414014, 0.8568839093574041]}, {\"categories\": [\"0\", \"1\", \"2\", \"3\", \"4\", \"5\", \"6\", \"7\", \"8\", \"9\", \"10\", \"11\", \"12\", \"13\", \"14\", \"15\", \"16\", \"17\", \"18\", \"19\", \"20\", \"21\", \"22\", \"23\", \"24\", \"25\", \"26\", \"27\", \"28\", \"29\", \"30\", \"31\", \"32\", \"34\", \"35\", \"36\", \"37\", \"38\", \"39\", \"40\", \"41\", \"42\", \"43\", \"44\", \"45\", \"47\", \"48\"], \"mode\": \"lines\", \"name\": \"average_precision_score_weighted_max\", \"stepped\": true, \"type\": \"scatter\", \"data\": [0.8088900198552287, 0.8456601055549087, 0.8456601055549087, 0.8456601055549087, 0.8456601055549087, 0.8456601055549087, 0.8456601055549087, 0.8456601055549087, 0.8456601055549087, 0.8456601055549087, 0.8456601055549087, 0.8456601055549087, 0.8456601055549087, 0.8456601055549087, 0.8456601055549087, 0.8456601055549087, 0.8456601055549087, 0.8456601055549087, 0.8456601055549087, 0.8456601055549087, 0.8456601055549087, 0.8456601055549087, 0.8456601055549087, 0.8456601055549087, 0.8456601055549087, 0.8456601055549087, 0.8456601055549087, 0.8456601055549087, 0.8457540927640265, 0.8457540927640265, 0.8457540927640265, 0.8457540927640265, 0.8457540927640265, 0.8457540927640265, 0.8457540927640265, 0.8457540927640265, 0.8457540927640265, 0.8457540927640265, 0.8457540927640265, 0.8457540927640265, 0.8457540927640265, 0.8457540927640265, 0.8457540927640265, 0.8482372671244436, 0.8482372671244436, 0.8566911448414014, 0.8568839093574041]}], \"average_precision_score_macro\": [{\"categories\": [\"0\", \"1\", \"2\", \"3\", \"4\", \"5\", \"6\", \"7\", \"8\", \"9\", \"10\", \"11\", \"12\", \"13\", \"14\", \"15\", \"16\", \"17\", \"18\", \"19\", \"20\", \"21\", \"22\", \"23\", \"24\", \"25\", \"26\", \"27\", \"28\", \"29\", \"30\", \"31\", \"32\", \"34\", \"35\", \"36\", \"37\", \"38\", \"39\", \"40\", \"41\", \"42\", \"43\", \"44\", \"45\", \"47\", \"48\"], \"mode\": \"markers\", \"name\": \"average_precision_score_macro\", \"stepped\": false, \"type\": \"scatter\", \"data\": [0.7742813465855433, 0.817147214521911, 0.8025701163459665, 0.7799167954403758, 0.8125398829045347, 0.7823701090451871, 0.7558562702621184, 0.7480457954068374, 0.7985977757070468, 0.8065147561377112, 0.6795164911253421, 0.6537308408160547, 0.8150916855219492, 0.805408547894577, 0.8092090178819099, 0.7181078991127148, 0.798319615734002, 0.7421946256222707, 0.8067102395438882, 0.7766585150343918, 0.8043376406278678, 0.8129077130049414, 0.6860596096589677, 0.806118617207319, 0.8047788111507315, 0.6458413817563253, 0.7914140233657448, 0.8023047908652631, 0.8179514001750434, 0.7186957434952438, 0.6116589984838435, 0.8067042258212644, 0.8120911334241653, 0.6724147610127776, 0.8051490859465936, 0.795286052966881, 0.7902597957932203, 0.8126028925746842, 0.7160291958054109, 0.5, 0.8083045840348373, 0.7130170295361781, 0.7997360413562007, 0.816956369126393, 0.6100349260204341, 0.8291788428685878, 0.8293082712309714]}, {\"categories\": [\"0\", \"1\", \"2\", \"3\", \"4\", \"5\", \"6\", \"7\", \"8\", \"9\", \"10\", \"11\", \"12\", \"13\", \"14\", \"15\", \"16\", \"17\", \"18\", \"19\", \"20\", \"21\", \"22\", \"23\", \"24\", \"25\", \"26\", \"27\", \"28\", \"29\", \"30\", \"31\", \"32\", \"34\", \"35\", \"36\", \"37\", \"38\", \"39\", \"40\", \"41\", \"42\", \"43\", \"44\", \"45\", \"47\", \"48\"], \"mode\": \"lines\", \"name\": \"average_precision_score_macro_max\", \"stepped\": true, \"type\": \"scatter\", \"data\": [0.7742813465855433, 0.817147214521911, 0.817147214521911, 0.817147214521911, 0.817147214521911, 0.817147214521911, 0.817147214521911, 0.817147214521911, 0.817147214521911, 0.817147214521911, 0.817147214521911, 0.817147214521911, 0.817147214521911, 0.817147214521911, 0.817147214521911, 0.817147214521911, 0.817147214521911, 0.817147214521911, 0.817147214521911, 0.817147214521911, 0.817147214521911, 0.817147214521911, 0.817147214521911, 0.817147214521911, 0.817147214521911, 0.817147214521911, 0.817147214521911, 0.817147214521911, 0.8179514001750434, 0.8179514001750434, 0.8179514001750434, 0.8179514001750434, 0.8179514001750434, 0.8179514001750434, 0.8179514001750434, 0.8179514001750434, 0.8179514001750434, 0.8179514001750434, 0.8179514001750434, 0.8179514001750434, 0.8179514001750434, 0.8179514001750434, 0.8179514001750434, 0.8179514001750434, 0.8179514001750434, 0.8291788428685878, 0.8293082712309714]}]}, \"metricName\": null, \"primaryMetricName\": \"accuracy\", \"showLegend\": false}, \"run_metrics\": [{\"name\": \"experiment_status\", \"run_id\": \"AutoML_aa0cbd0c-a891-4e63-a7bf-4a611387254f\", \"categories\": [0, 1, 2, 3, 4, 5, 6, 7, 8, 9, 10, 11, 12, 13], \"series\": [{\"data\": [\"DatasetEvaluation\", \"FeaturesGeneration\", \"DatasetFeaturization\", \"DatasetFeaturizationCompleted\", \"DatasetCrossValidationSplit\", \"ModelSelection\", \"BestRunExplainModel\", \"ModelExplanationDataSetSetup\", \"PickSurrogateModel\", \"EngineeredFeatureExplanations\", \"EngineeredFeatureExplanations\", \"RawFeaturesExplanations\", \"RawFeaturesExplanations\", \"BestRunExplainModel\"]}]}, {\"name\": \"experiment_status_description\", \"run_id\": \"AutoML_aa0cbd0c-a891-4e63-a7bf-4a611387254f\", \"categories\": [0, 1, 2, 3, 4, 5, 6, 7, 8, 9, 10, 11, 12, 13], \"series\": [{\"data\": [\"Gathering dataset statistics.\", \"Generating features for the dataset.\", \"Beginning to fit featurizers and featurize the dataset.\", \"Completed fit featurizers and featurizing the dataset.\", \"Generating individually featurized CV splits.\", \"Beginning model selection.\", \"Best run model explanations started\", \"Model explanations data setup completed\", \"Choosing LightGBM as the surrogate model for explanations\", \"Computation of engineered features started\", \"Computation of engineered features completed\", \"Computation of raw features started\", \"Computation of raw features completed\", \"Best run model explanations completed\"]}]}, {\"name\": \"norm_macro_recall\", \"run_id\": \"AutoML_aa0cbd0c-a891-4e63-a7bf-4a611387254f\", \"categories\": [0], \"series\": [{\"data\": [0.4582108218768968]}]}, {\"name\": \"matthews_correlation\", \"run_id\": \"AutoML_aa0cbd0c-a891-4e63-a7bf-4a611387254f\", \"categories\": [0], \"series\": [{\"data\": [0.49969459142868233]}]}, {\"name\": \"recall_score_macro\", \"run_id\": \"AutoML_aa0cbd0c-a891-4e63-a7bf-4a611387254f\", \"categories\": [0], \"series\": [{\"data\": [0.7291054109384485]}]}, {\"name\": \"accuracy\", \"run_id\": \"AutoML_aa0cbd0c-a891-4e63-a7bf-4a611387254f\", \"categories\": [0], \"series\": [{\"data\": [0.7839371155160629]}]}, {\"name\": \"log_loss\", \"run_id\": \"AutoML_aa0cbd0c-a891-4e63-a7bf-4a611387254f\", \"categories\": [0], \"series\": [{\"data\": [0.4795669819421725]}]}, {\"name\": \"recall_score_micro\", \"run_id\": \"AutoML_aa0cbd0c-a891-4e63-a7bf-4a611387254f\", \"categories\": [0], \"series\": [{\"data\": [0.7839371155160629]}]}, {\"name\": \"f1_score_micro\", \"run_id\": \"AutoML_aa0cbd0c-a891-4e63-a7bf-4a611387254f\", \"categories\": [0], \"series\": [{\"data\": [0.7839371155160629]}]}, {\"name\": \"recall_score_weighted\", \"run_id\": \"AutoML_aa0cbd0c-a891-4e63-a7bf-4a611387254f\", \"categories\": [0], \"series\": [{\"data\": [0.7839371155160629]}]}, {\"name\": \"average_precision_score_micro\", \"run_id\": \"AutoML_aa0cbd0c-a891-4e63-a7bf-4a611387254f\", \"categories\": [0], \"series\": [{\"data\": [0.8612528289415898]}]}, {\"name\": \"AUC_weighted\", \"run_id\": \"AutoML_aa0cbd0c-a891-4e63-a7bf-4a611387254f\", \"categories\": [0], \"series\": [{\"data\": [0.8443383032410164]}]}, {\"name\": \"weighted_accuracy\", \"run_id\": \"AutoML_aa0cbd0c-a891-4e63-a7bf-4a611387254f\", \"categories\": [0], \"series\": [{\"data\": [0.8250634020470542]}]}, {\"name\": \"average_precision_score_macro\", \"run_id\": \"AutoML_aa0cbd0c-a891-4e63-a7bf-4a611387254f\", \"categories\": [0], \"series\": [{\"data\": [0.8291788428685878]}]}, {\"name\": \"precision_score_macro\", \"run_id\": \"AutoML_aa0cbd0c-a891-4e63-a7bf-4a611387254f\", \"categories\": [0], \"series\": [{\"data\": [0.7730986845739178]}]}, {\"name\": \"precision_score_micro\", \"run_id\": \"AutoML_aa0cbd0c-a891-4e63-a7bf-4a611387254f\", \"categories\": [0], \"series\": [{\"data\": [0.7839371155160629]}]}, {\"name\": \"balanced_accuracy\", \"run_id\": \"AutoML_aa0cbd0c-a891-4e63-a7bf-4a611387254f\", \"categories\": [0], \"series\": [{\"data\": [0.7291054109384485]}]}, {\"name\": \"precision_score_weighted\", \"run_id\": \"AutoML_aa0cbd0c-a891-4e63-a7bf-4a611387254f\", \"categories\": [0], \"series\": [{\"data\": [0.7837624274639412]}]}, {\"name\": \"AUC_macro\", \"run_id\": \"AutoML_aa0cbd0c-a891-4e63-a7bf-4a611387254f\", \"categories\": [0], \"series\": [{\"data\": [0.8443383032410164]}]}, {\"name\": \"f1_score_macro\", \"run_id\": \"AutoML_aa0cbd0c-a891-4e63-a7bf-4a611387254f\", \"categories\": [0], \"series\": [{\"data\": [0.7400681803032223]}]}, {\"name\": \"f1_score_weighted\", \"run_id\": \"AutoML_aa0cbd0c-a891-4e63-a7bf-4a611387254f\", \"categories\": [0], \"series\": [{\"data\": [0.7748326409670362]}]}, {\"name\": \"average_precision_score_weighted\", \"run_id\": \"AutoML_aa0cbd0c-a891-4e63-a7bf-4a611387254f\", \"categories\": [0], \"series\": [{\"data\": [0.8566911448414014]}]}, {\"name\": \"AUC_micro\", \"run_id\": \"AutoML_aa0cbd0c-a891-4e63-a7bf-4a611387254f\", \"categories\": [0], \"series\": [{\"data\": [0.8591713041069088]}]}], \"run_logs\": \"\\nRun is completed.\", \"graph\": {}, \"widget_settings\": {\"childWidgetDisplay\": \"popup\", \"send_telemetry\": false, \"log_level\": \"INFO\", \"sdk_version\": \"1.20.0\"}, \"loading\": false}"
          },
          "metadata": {}
        }
      ],
      "execution_count": 8,
      "metadata": {
        "gather": {
          "logged": 1613112877461
        },
        "jupyter": {
          "outputs_hidden": false,
          "source_hidden": false
        },
        "nteract": {
          "transient": {
            "deleting": false
          }
        }
      }
    },
    {
      "cell_type": "code",
      "source": [
        "remote_run.wait_for_completion(show_output=True)"
      ],
      "outputs": [
        {
          "output_type": "stream",
          "name": "stdout",
          "text": [
            "\n",
            "Current status: DatasetCrossValidationSplit. Generating individually featurized CV splits.\n",
            "Current status: ModelSelection. Beginning model selection.\n",
            "\n",
            "****************************************************************************************************\n",
            "DATA GUARDRAILS: \n",
            "\n",
            "TYPE:         Cross validation\n",
            "STATUS:       DONE\n",
            "DESCRIPTION:  Each iteration of the trained model was validated through cross-validation.\n",
            "              \n",
            "DETAILS:      \n",
            "+---------------------------------+\n",
            "|Number of folds                  |\n",
            "+=================================+\n",
            "|10                               |\n",
            "+---------------------------------+\n",
            "\n",
            "****************************************************************************************************\n",
            "\n",
            "TYPE:         Class balancing detection\n",
            "STATUS:       PASSED\n",
            "DESCRIPTION:  Your inputs were analyzed, and all classes are balanced in your training data.\n",
            "              Learn more about imbalanced data: https://aka.ms/AutomatedMLImbalancedData\n",
            "\n",
            "****************************************************************************************************\n",
            "\n",
            "TYPE:         Missing feature values imputation\n",
            "STATUS:       PASSED\n",
            "DESCRIPTION:  No feature missing values were detected in the training data.\n",
            "              Learn more about missing value imputation: https://aka.ms/AutomatedMLFeaturization\n",
            "\n",
            "****************************************************************************************************\n",
            "\n",
            "TYPE:         High cardinality feature detection\n",
            "STATUS:       PASSED\n",
            "DESCRIPTION:  Your inputs were analyzed, and no high cardinality features were detected.\n",
            "              Learn more about high cardinality feature handling: https://aka.ms/AutomatedMLFeaturization\n",
            "\n",
            "****************************************************************************************************\n",
            "\n",
            "****************************************************************************************************\n",
            "ITERATION: The iteration being evaluated.\n",
            "PIPELINE: A summary description of the pipeline being evaluated.\n",
            "DURATION: Time taken for the current iteration.\n",
            "METRIC: The result of computing score on the fitted pipeline.\n",
            "BEST: The best observed score thus far.\n",
            "****************************************************************************************************\n",
            "\n",
            " ITERATION   PIPELINE                                       DURATION      METRIC      BEST\n",
            "         2   MaxAbsScaler RandomForest                      0:00:54       0.7526    0.7526\n",
            "         0   MaxAbsScaler LightGBM                          0:01:00       0.7396    0.7526\n",
            "         1   MaxAbsScaler XGBoostClassifier                 0:00:58       0.7696    0.7696\n",
            "         3   MaxAbsScaler RandomForest                      0:00:56       0.7422    0.7696\n",
            "         5   MaxAbsScaler RandomForest                      0:00:59       0.7253    0.7696\n",
            "         7   SparseNormalizer XGBoostClassifier             0:00:56       0.7265    0.7696\n",
            "         8   MaxAbsScaler RandomForest                      0:01:05       0.6718    0.7696\n",
            "         4   MaxAbsScaler RandomForest                      0:05:29       0.7514    0.7696\n",
            "         9   MaxAbsScaler LogisticRegression                0:00:53       0.7709    0.7709\n",
            "        10   SparseNormalizer LightGBM                      0:01:05       0.6757    0.7709\n",
            "        11   SparseNormalizer XGBoostClassifier             0:00:55       0.6563    0.7709\n",
            "         6   SparseNormalizer XGBoostClassifier             0:05:45       0.7109    0.7709\n",
            "        12   MaxAbsScaler RandomForest                      0:01:13       0.7604    0.7709\n",
            "        13   MaxAbsScaler LightGBM                          0:01:13       0.7513    0.7709\n",
            "        14   StandardScalerWrapper RandomForest             0:00:57       0.7448    0.7709\n",
            "        15   SparseNormalizer XGBoostClassifier             0:01:01       0.7096    0.7709\n",
            "        16   MaxAbsScaler LogisticRegression                0:00:57       0.7683    0.7709\n",
            "        17   SparseNormalizer XGBoostClassifier             0:00:50       0.6979    0.7709\n",
            "        18   MaxAbsScaler ExtremeRandomTrees                0:01:09       0.7422    0.7709\n",
            "        19   StandardScalerWrapper ExtremeRandomTrees       0:01:05       0.6562    0.7709\n",
            "        20   StandardScalerWrapper ExtremeRandomTrees       0:01:07       0.7291    0.7709\n",
            "        21   StandardScalerWrapper LightGBM                 0:00:50       0.7357    0.7709\n",
            "        22   SparseNormalizer XGBoostClassifier             0:00:53       0.6940    0.7709\n",
            "        23   StandardScalerWrapper XGBoostClassifier        0:00:57       0.7630    0.7709\n",
            "        24   MaxAbsScaler LightGBM                          0:00:54       0.7318    0.7709\n",
            "        25   SparseNormalizer LogisticRegression            0:00:58       0.6458    0.7709\n",
            "        26   MaxAbsScaler LightGBM                          0:00:56       0.7487    0.7709\n",
            "        27   StandardScalerWrapper XGBoostClassifier        0:00:53       0.7591    0.7709\n",
            "        28   MaxAbsScaler RandomForest                      0:01:00       0.7683    0.7709\n",
            "        29   SparseNormalizer XGBoostClassifier             0:00:54       0.7110    0.7709\n",
            "        30   SparseNormalizer LogisticRegression            0:00:52       0.6510    0.7709\n",
            "        31   MaxAbsScaler LogisticRegression                0:00:52       0.7683    0.7709\n",
            "        32   MaxAbsScaler RandomForest                      0:00:56       0.7722    0.7722\n",
            "        33                                                  0:00:20          nan    0.7722\n",
            "        34   StandardScalerWrapper LogisticRegression       0:01:00       0.6263    0.7722\n",
            "        35   StandardScalerWrapper GradientBoosting         0:01:11       0.7552    0.7722\n",
            "        36   StandardScalerWrapper ExtremeRandomTrees       0:01:19       0.7330    0.7722\n",
            "        37   StandardScalerWrapper XGBoostClassifier        0:01:12       0.7539    0.7722\n",
            "        38   StandardScalerWrapper LightGBM                 0:01:04       0.7670    0.7722\n",
            "        39   SparseNormalizer LightGBM                      0:01:01       0.6940    0.7722\n",
            "        40   StandardScalerWrapper RandomForest             0:00:53       0.4416    0.7722\n",
            "        41   MaxAbsScaler ExtremeRandomTrees                0:00:58       0.7539    0.7722\n",
            "        42   SparseNormalizer XGBoostClassifier             0:00:52       0.6953    0.7722\n",
            "        43   StandardScalerWrapper ExtremeRandomTrees       0:00:57       0.7435    0.7722\n",
            "        44   StandardScalerWrapper LightGBM                 0:01:02       0.7422    0.7722\n",
            "        46                                                  0:00:22          nan    0.7722\n",
            "        45   SparseNormalizer RandomForest                  0:01:07       0.6510    0.7722\n",
            "        48    StackEnsemble                                 0:02:36       0.7696    0.7722\n",
            "        47    VotingEnsemble                                0:02:44       0.7839    0.7839\n"
          ]
        },
        {
          "output_type": "execute_result",
          "execution_count": 9,
          "data": {
            "text/plain": "{'runId': 'AutoML_aa0cbd0c-a891-4e63-a7bf-4a611387254f',\n 'target': 'capcpu',\n 'status': 'Completed',\n 'startTimeUtc': '2021-02-12T06:54:38.584692Z',\n 'endTimeUtc': '2021-02-12T07:33:46.64335Z',\n 'properties': {'num_iterations': '1000',\n  'training_type': 'TrainFull',\n  'acquisition_function': 'EI',\n  'primary_metric': 'accuracy',\n  'train_split': '0',\n  'acquisition_parameter': '0',\n  'num_cross_validation': None,\n  'target': 'capcpu',\n  'AMLSettingsJsonString': '{\"path\":null,\"name\":\"diabetes\",\"subscription_id\":\"3d1a56d2-7c81-4118-9790-f85d1acf0c77\",\"resource_group\":\"aml-quickstarts-138665\",\"workspace_name\":\"quick-starts-ws-138665\",\"region\":\"southcentralus\",\"compute_target\":\"capcpu\",\"spark_service\":null,\"azure_service\":\"remote\",\"many_models\":false,\"pipeline_fetch_max_batch_size\":1,\"iterations\":1000,\"primary_metric\":\"accuracy\",\"task_type\":\"classification\",\"data_script\":null,\"validation_size\":0.0,\"n_cross_validations\":null,\"y_min\":null,\"y_max\":null,\"num_classes\":null,\"featurization\":\"auto\",\"_ignore_package_version_incompatibilities\":false,\"is_timeseries\":false,\"max_cores_per_iteration\":1,\"max_concurrent_iterations\":3,\"iteration_timeout_minutes\":null,\"mem_in_mb\":null,\"enforce_time_on_windows\":false,\"experiment_timeout_minutes\":30,\"experiment_exit_score\":null,\"whitelist_models\":null,\"blacklist_algos\":[\"TensorFlowLinearClassifier\",\"TensorFlowDNN\"],\"supported_models\":[\"ExtremeRandomTrees\",\"AveragedPerceptronClassifier\",\"TensorFlowDNN\",\"KNN\",\"TensorFlowLinearClassifier\",\"SGD\",\"LinearSVM\",\"DecisionTree\",\"LightGBM\",\"MultinomialNaiveBayes\",\"XGBoostClassifier\",\"SVM\",\"RandomForest\",\"LogisticRegression\",\"GradientBoosting\",\"BernoulliNaiveBayes\"],\"auto_blacklist\":true,\"blacklist_samples_reached\":false,\"exclude_nan_labels\":true,\"verbosity\":20,\"_debug_log\":\"azureml_automl.log\",\"show_warnings\":false,\"model_explainability\":true,\"service_url\":null,\"sdk_url\":null,\"sdk_packages\":null,\"enable_onnx_compatible_models\":false,\"enable_split_onnx_featurizer_estimator_models\":false,\"vm_type\":\"STANDARD_D2_V2\",\"telemetry_verbosity\":20,\"send_telemetry\":true,\"enable_dnn\":false,\"scenario\":\"SDK-1.13.0\",\"environment_label\":null,\"force_text_dnn\":false,\"enable_feature_sweeping\":true,\"enable_early_stopping\":true,\"early_stopping_n_iters\":10,\"metrics\":null,\"enable_ensembling\":true,\"enable_stack_ensembling\":true,\"ensemble_iterations\":15,\"enable_tf\":false,\"enable_subsampling\":null,\"subsample_seed\":null,\"enable_nimbusml\":false,\"enable_streaming\":false,\"force_streaming\":false,\"track_child_runs\":true,\"allowed_private_models\":[],\"label_column_name\":\"Outcome\",\"weight_column_name\":null,\"cv_split_column_names\":null,\"enable_local_managed\":false,\"_local_managed_run_id\":null,\"cost_mode\":1,\"lag_length\":0,\"metric_operation\":\"maximize\",\"preprocess\":true}',\n  'DataPrepJsonString': '{\\\\\"training_data\\\\\": \\\\\"{\\\\\\\\\\\\\"blocks\\\\\\\\\\\\\": [{\\\\\\\\\\\\\"id\\\\\\\\\\\\\": \\\\\\\\\\\\\"255a44d5-7c54-40d0-adb1-708dbcb86020\\\\\\\\\\\\\", \\\\\\\\\\\\\"type\\\\\\\\\\\\\": \\\\\\\\\\\\\"Microsoft.DPrep.GetFilesBlock\\\\\\\\\\\\\", \\\\\\\\\\\\\"arguments\\\\\\\\\\\\\": {\\\\\\\\\\\\\"isArchive\\\\\\\\\\\\\": false, \\\\\\\\\\\\\"path\\\\\\\\\\\\\": {\\\\\\\\\\\\\"target\\\\\\\\\\\\\": 4, \\\\\\\\\\\\\"resourceDetails\\\\\\\\\\\\\": [{\\\\\\\\\\\\\"path\\\\\\\\\\\\\": \\\\\\\\\\\\\"https://raw.githubusercontent.com/SaraSrkr/Capstone-Prpject/main/diabetes.csv\\\\\\\\\\\\\"}]}}, \\\\\\\\\\\\\"localData\\\\\\\\\\\\\": {}, \\\\\\\\\\\\\"isEnabled\\\\\\\\\\\\\": true, \\\\\\\\\\\\\"name\\\\\\\\\\\\\": null, \\\\\\\\\\\\\"annotation\\\\\\\\\\\\\": null}, {\\\\\\\\\\\\\"id\\\\\\\\\\\\\": \\\\\\\\\\\\\"66af0f08-3882-4873-b640-dc8904d8bad3\\\\\\\\\\\\\", \\\\\\\\\\\\\"type\\\\\\\\\\\\\": \\\\\\\\\\\\\"Microsoft.DPrep.ParseDelimitedBlock\\\\\\\\\\\\\", \\\\\\\\\\\\\"arguments\\\\\\\\\\\\\": {\\\\\\\\\\\\\"columnHeadersMode\\\\\\\\\\\\\": 3, \\\\\\\\\\\\\"fileEncoding\\\\\\\\\\\\\": 0, \\\\\\\\\\\\\"handleQuotedLineBreaks\\\\\\\\\\\\\": false, \\\\\\\\\\\\\"preview\\\\\\\\\\\\\": false, \\\\\\\\\\\\\"separator\\\\\\\\\\\\\": \\\\\\\\\\\\\",\\\\\\\\\\\\\", \\\\\\\\\\\\\"skipRows\\\\\\\\\\\\\": 0, \\\\\\\\\\\\\"skipRowsMode\\\\\\\\\\\\\": 0}, \\\\\\\\\\\\\"localData\\\\\\\\\\\\\": {}, \\\\\\\\\\\\\"isEnabled\\\\\\\\\\\\\": true, \\\\\\\\\\\\\"name\\\\\\\\\\\\\": null, \\\\\\\\\\\\\"annotation\\\\\\\\\\\\\": null}, {\\\\\\\\\\\\\"id\\\\\\\\\\\\\": \\\\\\\\\\\\\"ae05173b-ab2a-4d74-b821-c1a047143406\\\\\\\\\\\\\", \\\\\\\\\\\\\"type\\\\\\\\\\\\\": \\\\\\\\\\\\\"Microsoft.DPrep.DropColumnsBlock\\\\\\\\\\\\\", \\\\\\\\\\\\\"arguments\\\\\\\\\\\\\": {\\\\\\\\\\\\\"columns\\\\\\\\\\\\\": {\\\\\\\\\\\\\"type\\\\\\\\\\\\\": 0, \\\\\\\\\\\\\"details\\\\\\\\\\\\\": {\\\\\\\\\\\\\"selectedColumns\\\\\\\\\\\\\": [\\\\\\\\\\\\\"Path\\\\\\\\\\\\\"]}}}, \\\\\\\\\\\\\"localData\\\\\\\\\\\\\": {}, \\\\\\\\\\\\\"isEnabled\\\\\\\\\\\\\": true, \\\\\\\\\\\\\"name\\\\\\\\\\\\\": null, \\\\\\\\\\\\\"annotation\\\\\\\\\\\\\": null}, {\\\\\\\\\\\\\"id\\\\\\\\\\\\\": \\\\\\\\\\\\\"ee2cd84a-ad34-49cd-bb70-5c86aae493d0\\\\\\\\\\\\\", \\\\\\\\\\\\\"type\\\\\\\\\\\\\": \\\\\\\\\\\\\"Microsoft.DPrep.SetColumnTypesBlock\\\\\\\\\\\\\", \\\\\\\\\\\\\"arguments\\\\\\\\\\\\\": {\\\\\\\\\\\\\"columnConversion\\\\\\\\\\\\\": [{\\\\\\\\\\\\\"column\\\\\\\\\\\\\": {\\\\\\\\\\\\\"type\\\\\\\\\\\\\": 2, \\\\\\\\\\\\\"details\\\\\\\\\\\\\": {\\\\\\\\\\\\\"selectedColumn\\\\\\\\\\\\\": \\\\\\\\\\\\\"Pregnancies\\\\\\\\\\\\\"}}, \\\\\\\\\\\\\"typeProperty\\\\\\\\\\\\\": 2}, {\\\\\\\\\\\\\"column\\\\\\\\\\\\\": {\\\\\\\\\\\\\"type\\\\\\\\\\\\\": 2, \\\\\\\\\\\\\"details\\\\\\\\\\\\\": {\\\\\\\\\\\\\"selectedColumn\\\\\\\\\\\\\": \\\\\\\\\\\\\"Glucose\\\\\\\\\\\\\"}}, \\\\\\\\\\\\\"typeProperty\\\\\\\\\\\\\": 2}, {\\\\\\\\\\\\\"column\\\\\\\\\\\\\": {\\\\\\\\\\\\\"type\\\\\\\\\\\\\": 2, \\\\\\\\\\\\\"details\\\\\\\\\\\\\": {\\\\\\\\\\\\\"selectedColumn\\\\\\\\\\\\\": \\\\\\\\\\\\\"BloodPressure\\\\\\\\\\\\\"}}, \\\\\\\\\\\\\"typeProperty\\\\\\\\\\\\\": 2}, {\\\\\\\\\\\\\"column\\\\\\\\\\\\\": {\\\\\\\\\\\\\"type\\\\\\\\\\\\\": 2, \\\\\\\\\\\\\"details\\\\\\\\\\\\\": {\\\\\\\\\\\\\"selectedColumn\\\\\\\\\\\\\": \\\\\\\\\\\\\"SkinThickness\\\\\\\\\\\\\"}}, \\\\\\\\\\\\\"typeProperty\\\\\\\\\\\\\": 2}, {\\\\\\\\\\\\\"column\\\\\\\\\\\\\": {\\\\\\\\\\\\\"type\\\\\\\\\\\\\": 2, \\\\\\\\\\\\\"details\\\\\\\\\\\\\": {\\\\\\\\\\\\\"selectedColumn\\\\\\\\\\\\\": \\\\\\\\\\\\\"Insulin\\\\\\\\\\\\\"}}, \\\\\\\\\\\\\"typeProperty\\\\\\\\\\\\\": 2}, {\\\\\\\\\\\\\"column\\\\\\\\\\\\\": {\\\\\\\\\\\\\"type\\\\\\\\\\\\\": 2, \\\\\\\\\\\\\"details\\\\\\\\\\\\\": {\\\\\\\\\\\\\"selectedColumn\\\\\\\\\\\\\": \\\\\\\\\\\\\"BMI\\\\\\\\\\\\\"}}, \\\\\\\\\\\\\"typeProperty\\\\\\\\\\\\\": 3}, {\\\\\\\\\\\\\"column\\\\\\\\\\\\\": {\\\\\\\\\\\\\"type\\\\\\\\\\\\\": 2, \\\\\\\\\\\\\"details\\\\\\\\\\\\\": {\\\\\\\\\\\\\"selectedColumn\\\\\\\\\\\\\": \\\\\\\\\\\\\"DiabetesPedigreeFunction\\\\\\\\\\\\\"}}, \\\\\\\\\\\\\"typeProperty\\\\\\\\\\\\\": 3}, {\\\\\\\\\\\\\"column\\\\\\\\\\\\\": {\\\\\\\\\\\\\"type\\\\\\\\\\\\\": 2, \\\\\\\\\\\\\"details\\\\\\\\\\\\\": {\\\\\\\\\\\\\"selectedColumn\\\\\\\\\\\\\": \\\\\\\\\\\\\"Age\\\\\\\\\\\\\"}}, \\\\\\\\\\\\\"typeProperty\\\\\\\\\\\\\": 2}, {\\\\\\\\\\\\\"column\\\\\\\\\\\\\": {\\\\\\\\\\\\\"type\\\\\\\\\\\\\": 2, \\\\\\\\\\\\\"details\\\\\\\\\\\\\": {\\\\\\\\\\\\\"selectedColumn\\\\\\\\\\\\\": \\\\\\\\\\\\\"Outcome\\\\\\\\\\\\\"}}, \\\\\\\\\\\\\"typeProperty\\\\\\\\\\\\\": 2}]}, \\\\\\\\\\\\\"localData\\\\\\\\\\\\\": {}, \\\\\\\\\\\\\"isEnabled\\\\\\\\\\\\\": true, \\\\\\\\\\\\\"name\\\\\\\\\\\\\": null, \\\\\\\\\\\\\"annotation\\\\\\\\\\\\\": null}], \\\\\\\\\\\\\"inspectors\\\\\\\\\\\\\": [], \\\\\\\\\\\\\"meta\\\\\\\\\\\\\": {\\\\\\\\\\\\\"savedDatasetId\\\\\\\\\\\\\": \\\\\\\\\\\\\"230121a2-d87d-480f-8262-07532c725e34\\\\\\\\\\\\\", \\\\\\\\\\\\\"datasetType\\\\\\\\\\\\\": \\\\\\\\\\\\\"tabular\\\\\\\\\\\\\", \\\\\\\\\\\\\"subscriptionId\\\\\\\\\\\\\": \\\\\\\\\\\\\"3d1a56d2-7c81-4118-9790-f85d1acf0c77\\\\\\\\\\\\\", \\\\\\\\\\\\\"workspaceId\\\\\\\\\\\\\": \\\\\\\\\\\\\"42b9cfe1-9fd1-4d67-8fba-7374972641b9\\\\\\\\\\\\\", \\\\\\\\\\\\\"workspaceLocation\\\\\\\\\\\\\": \\\\\\\\\\\\\"southcentralus\\\\\\\\\\\\\"}}\\\\\", \\\\\"activities\\\\\": 0}',\n  'EnableSubsampling': None,\n  'runTemplate': 'AutoML',\n  'azureml.runsource': 'automl',\n  'display_task_type': 'classification',\n  'dependencies_versions': '{\"azureml-widgets\": \"1.20.0\", \"azureml-train\": \"1.20.0\", \"azureml-train-restclients-hyperdrive\": \"1.20.0\", \"azureml-train-core\": \"1.20.0\", \"azureml-train-automl\": \"1.20.0\", \"azureml-train-automl-runtime\": \"1.20.0\", \"azureml-train-automl-client\": \"1.20.0\", \"azureml-tensorboard\": \"1.20.0\", \"azureml-telemetry\": \"1.20.0\", \"azureml-sdk\": \"1.20.0\", \"azureml-samples\": \"0+unknown\", \"azureml-pipeline\": \"1.20.0\", \"azureml-pipeline-steps\": \"1.20.0\", \"azureml-pipeline-core\": \"1.20.0\", \"azureml-opendatasets\": \"1.20.0\", \"azureml-model-management-sdk\": \"1.0.1b6.post1\", \"azureml-mlflow\": \"1.20.0.post1\", \"azureml-interpret\": \"1.20.0\", \"azureml-explain-model\": \"1.20.0\", \"azureml-defaults\": \"1.20.0\", \"azureml-dataset-runtime\": \"1.20.0\", \"azureml-dataprep\": \"2.7.3\", \"azureml-dataprep-rslex\": \"1.5.0\", \"azureml-dataprep-native\": \"27.0.0\", \"azureml-datadrift\": \"1.20.0\", \"azureml-core\": \"1.20.0\", \"azureml-contrib-services\": \"1.20.0\", \"azureml-contrib-server\": \"1.20.0\", \"azureml-contrib-reinforcementlearning\": \"1.20.0\", \"azureml-contrib-pipeline-steps\": \"1.20.0\", \"azureml-contrib-notebook\": \"1.20.0\", \"azureml-contrib-interpret\": \"1.20.0\", \"azureml-contrib-gbdt\": \"1.20.0\", \"azureml-contrib-fairness\": \"1.20.0\", \"azureml-contrib-dataset\": \"1.20.0\", \"azureml-cli-common\": \"1.20.0\", \"azureml-automl-runtime\": \"1.20.0\", \"azureml-automl-core\": \"1.20.0\", \"azureml-accel-models\": \"1.20.0\"}',\n  '_aml_system_scenario_identification': 'Remote.Parent',\n  'ClientType': 'SDK',\n  'environment_cpu_name': 'AzureML-AutoML',\n  'environment_cpu_label': 'prod',\n  'environment_gpu_name': 'AzureML-AutoML-GPU',\n  'environment_gpu_label': 'prod',\n  'root_attribution': 'automl',\n  'attribution': 'AutoML',\n  'Orchestrator': 'AutoML',\n  'CancelUri': 'https://southcentralus.experiments.azureml.net/jasmine/v1.0/subscriptions/3d1a56d2-7c81-4118-9790-f85d1acf0c77/resourceGroups/aml-quickstarts-138665/providers/Microsoft.MachineLearningServices/workspaces/quick-starts-ws-138665/experimentids/9cfecb45-1161-45f1-a063-19225385ba80/cancel/AutoML_aa0cbd0c-a891-4e63-a7bf-4a611387254f',\n  'ClientSdkVersion': '1.21.0',\n  'snapshotId': '00000000-0000-0000-0000-000000000000',\n  'SetupRunId': 'AutoML_aa0cbd0c-a891-4e63-a7bf-4a611387254f_setup',\n  'SetupRunContainerId': 'dcid.AutoML_aa0cbd0c-a891-4e63-a7bf-4a611387254f_setup',\n  'FeaturizationRunJsonPath': 'featurizer_container.json',\n  'FeaturizationRunId': 'AutoML_aa0cbd0c-a891-4e63-a7bf-4a611387254f_featurize',\n  'ProblemInfoJsonString': '{\"dataset_num_categorical\": 0, \"is_sparse\": true, \"subsampling\": false, \"dataset_classes\": 2, \"dataset_features\": 24, \"dataset_samples\": 768, \"single_frequency_class_detected\": false}',\n  'ModelExplainRunId': 'AutoML_aa0cbd0c-a891-4e63-a7bf-4a611387254f_ModelExplain'},\n 'inputDatasets': [{'dataset': {'id': '230121a2-d87d-480f-8262-07532c725e34'}, 'consumptionDetails': {'type': 'RunInput', 'inputName': 'training_data', 'mechanism': 'Direct'}}],\n 'outputDatasets': [],\n 'logFiles': {},\n 'submittedBy': 'ODL_User 138665'}"
          },
          "metadata": {}
        }
      ],
      "execution_count": 9,
      "metadata": {
        "collapsed": true,
        "jupyter": {
          "source_hidden": false,
          "outputs_hidden": false
        },
        "nteract": {
          "transient": {
            "deleting": false
          }
        },
        "gather": {
          "logged": 1613115234322
        }
      }
    },
    {
      "cell_type": "markdown",
      "source": [
        "## Best Model\n",
        "\n",
        "TODO: In the cell below, get the best model from the automl experiments and display all the properties of the model.\n",
        "\n"
      ],
      "metadata": {}
    },
    {
      "cell_type": "code",
      "source": [
        "import joblib\r\n",
        "# Get your best run and save the model from that run.\r\n",
        "best_run, fitted_model = remote_run.get_output()\r\n",
        "\r\n",
        "print(best_run.get_details()['runDefinition']['arguments'])\r\n",
        "#best rub ID \r\n",
        "print('Best Run Id: ', best_run.id)\r\n",
        "\r\n",
        "print(best_run)\r\n",
        "print(fitted_model)"
      ],
      "outputs": [
        {
          "output_type": "stream",
          "name": "stderr",
          "text": [
            "WARNING:root:The version of the SDK does not match the version the model was trained on.\n",
            "WARNING:root:The consistency in the result may not be guaranteed.\n",
            "WARNING:root:Package:azureml-automl-core, training version:1.21.0, current version:1.20.0\n",
            "Package:azureml-automl-runtime, training version:1.21.0, current version:1.20.0\n",
            "Package:azureml-core, training version:1.21.0.post1, current version:1.20.0\n",
            "Package:azureml-dataprep, training version:2.8.2, current version:2.7.3\n",
            "Package:azureml-dataprep-native, training version:28.0.0, current version:27.0.0\n",
            "Package:azureml-dataprep-rslex, training version:1.6.0, current version:1.5.0\n",
            "Package:azureml-dataset-runtime, training version:1.21.0, current version:1.20.0\n",
            "Package:azureml-defaults, training version:1.21.0, current version:1.20.0\n",
            "Package:azureml-interpret, training version:1.21.0, current version:1.20.0\n",
            "Package:azureml-pipeline-core, training version:1.21.0, current version:1.20.0\n",
            "Package:azureml-telemetry, training version:1.21.0, current version:1.20.0\n",
            "Package:azureml-train-automl-client, training version:1.21.0, current version:1.20.0\n",
            "Package:azureml-train-automl-runtime, training version:1.21.0, current version:1.20.0\n",
            "WARNING:root:Please ensure the version of your local conda dependencies match the version on which your model was trained in order to properly retrieve your model.\n"
          ]
        },
        {
          "output_type": "stream",
          "name": "stdout",
          "text": [
            "[]\n",
            "Best Run Id:  AutoML_aa0cbd0c-a891-4e63-a7bf-4a611387254f_47\n",
            "Run(Experiment: diabetes,\n",
            "Id: AutoML_aa0cbd0c-a891-4e63-a7bf-4a611387254f_47,\n",
            "Type: azureml.scriptrun,\n",
            "Status: Completed)\n",
            "Pipeline(memory=None,\n",
            "         steps=[('datatransformer',\n",
            "                 DataTransformer(enable_dnn=None, enable_feature_sweeping=None,\n",
            "                                 feature_sweeping_config=None,\n",
            "                                 feature_sweeping_timeout=None,\n",
            "                                 featurization_config=None, force_text_dnn=None,\n",
            "                                 is_cross_validation=None,\n",
            "                                 is_onnx_compatible=None, logger=None,\n",
            "                                 observer=None, task=None, working_dir=None)),\n",
            "                ('prefittedsoftvotingclassifier',...\n",
            "                                                                                                random_state=None,\n",
            "                                                                                                reg_alpha=0.47368421052631576,\n",
            "                                                                                                reg_lambda=0.05263157894736842,\n",
            "                                                                                                silent=True,\n",
            "                                                                                                subsample=1,\n",
            "                                                                                                subsample_for_bin=200000,\n",
            "                                                                                                subsample_freq=0,\n",
            "                                                                                                verbose=-10))],\n",
            "                                                                     verbose=False))],\n",
            "                                               flatten_transform=None,\n",
            "                                               weights=[0.14285714285714285,\n",
            "                                                        0.14285714285714285,\n",
            "                                                        0.14285714285714285,\n",
            "                                                        0.14285714285714285,\n",
            "                                                        0.14285714285714285,\n",
            "                                                        0.14285714285714285,\n",
            "                                                        0.14285714285714285]))],\n",
            "         verbose=False)\n"
          ]
        }
      ],
      "execution_count": 10,
      "metadata": {
        "gather": {
          "logged": 1613115310910
        },
        "jupyter": {
          "outputs_hidden": false,
          "source_hidden": false
        },
        "nteract": {
          "transient": {
            "deleting": false
          }
        }
      }
    },
    {
      "cell_type": "code",
      "source": [
        "#print best model detailes\r\n",
        "from pprint import pprint\r\n",
        "\r\n",
        "def print_model(model, prefix=\"\"):\r\n",
        "    for step in model.steps:\r\n",
        "        print(prefix + step[0])\r\n",
        "        if hasattr(step[1], 'estimators') and hasattr(step[1], 'weights'):\r\n",
        "            pprint({'estimators': list(\r\n",
        "                e[0] for e in step[1].estimators), 'weights': step[1].weights})\r\n",
        "            print()\r\n",
        "            for estimator in step[1].estimators:\r\n",
        "                print_model(estimator[1], estimator[0] + ' - ')\r\n",
        "        else:\r\n",
        "            pprint(step[1].get_params())\r\n",
        "            print()\r\n",
        "\r\n",
        "print_model(fitted_model)"
      ],
      "outputs": [
        {
          "output_type": "stream",
          "name": "stdout",
          "text": [
            "datatransformer\n",
            "{'enable_dnn': None,\n",
            " 'enable_feature_sweeping': None,\n",
            " 'feature_sweeping_config': None,\n",
            " 'feature_sweeping_timeout': None,\n",
            " 'featurization_config': None,\n",
            " 'force_text_dnn': None,\n",
            " 'is_cross_validation': None,\n",
            " 'is_onnx_compatible': None,\n",
            " 'logger': None,\n",
            " 'observer': None,\n",
            " 'task': None,\n",
            " 'working_dir': None}\n",
            "\n",
            "prefittedsoftvotingclassifier\n",
            "{'estimators': ['32', '9', '1', '28', '31', '30', '21'],\n",
            " 'weights': [0.14285714285714285,\n",
            "             0.14285714285714285,\n",
            "             0.14285714285714285,\n",
            "             0.14285714285714285,\n",
            "             0.14285714285714285,\n",
            "             0.14285714285714285,\n",
            "             0.14285714285714285]}\n",
            "\n",
            "32 - maxabsscaler\n",
            "{'copy': True}\n",
            "\n",
            "32 - randomforestclassifier\n",
            "{'bootstrap': True,\n",
            " 'ccp_alpha': 0.0,\n",
            " 'class_weight': None,\n",
            " 'criterion': 'entropy',\n",
            " 'max_depth': None,\n",
            " 'max_features': 0.7,\n",
            " 'max_leaf_nodes': None,\n",
            " 'max_samples': None,\n",
            " 'min_impurity_decrease': 0.0,\n",
            " 'min_impurity_split': None,\n",
            " 'min_samples_leaf': 0.01,\n",
            " 'min_samples_split': 0.01,\n",
            " 'min_weight_fraction_leaf': 0.0,\n",
            " 'n_estimators': 25,\n",
            " 'n_jobs': 1,\n",
            " 'oob_score': True,\n",
            " 'random_state': None,\n",
            " 'verbose': 0,\n",
            " 'warm_start': False}\n",
            "\n",
            "9 - maxabsscaler\n",
            "{'copy': True}\n",
            "\n",
            "9 - logisticregression\n",
            "{'C': 109.85411419875572,\n",
            " 'class_weight': None,\n",
            " 'dual': False,\n",
            " 'fit_intercept': True,\n",
            " 'intercept_scaling': 1,\n",
            " 'l1_ratio': None,\n",
            " 'max_iter': 100,\n",
            " 'multi_class': 'ovr',\n",
            " 'n_jobs': 1,\n",
            " 'penalty': 'l1',\n",
            " 'random_state': None,\n",
            " 'solver': 'saga',\n",
            " 'tol': 0.0001,\n",
            " 'verbose': 0,\n",
            " 'warm_start': False}\n",
            "\n",
            "1 - maxabsscaler\n",
            "{'copy': True}\n",
            "\n",
            "1 - xgboostclassifier\n",
            "{'base_score': 0.5,\n",
            " 'booster': 'gbtree',\n",
            " 'colsample_bylevel': 1,\n",
            " 'colsample_bynode': 1,\n",
            " 'colsample_bytree': 1,\n",
            " 'gamma': 0,\n",
            " 'learning_rate': 0.1,\n",
            " 'max_delta_step': 0,\n",
            " 'max_depth': 3,\n",
            " 'min_child_weight': 1,\n",
            " 'missing': nan,\n",
            " 'n_estimators': 100,\n",
            " 'n_jobs': 1,\n",
            " 'nthread': None,\n",
            " 'objective': 'binary:logistic',\n",
            " 'random_state': 0,\n",
            " 'reg_alpha': 0,\n",
            " 'reg_lambda': 1,\n",
            " 'scale_pos_weight': 1,\n",
            " 'seed': None,\n",
            " 'silent': None,\n",
            " 'subsample': 1,\n",
            " 'tree_method': 'auto',\n",
            " 'verbose': -10,\n",
            " 'verbosity': 0}\n",
            "\n",
            "28 - maxabsscaler\n",
            "{'copy': True}\n",
            "\n",
            "28 - randomforestclassifier\n",
            "{'bootstrap': True,\n",
            " 'ccp_alpha': 0.0,\n",
            " 'class_weight': None,\n",
            " 'criterion': 'entropy',\n",
            " 'max_depth': None,\n",
            " 'max_features': 0.9,\n",
            " 'max_leaf_nodes': None,\n",
            " 'max_samples': None,\n",
            " 'min_impurity_decrease': 0.0,\n",
            " 'min_impurity_split': None,\n",
            " 'min_samples_leaf': 0.01,\n",
            " 'min_samples_split': 0.056842105263157895,\n",
            " 'min_weight_fraction_leaf': 0.0,\n",
            " 'n_estimators': 50,\n",
            " 'n_jobs': 1,\n",
            " 'oob_score': True,\n",
            " 'random_state': None,\n",
            " 'verbose': 0,\n",
            " 'warm_start': False}\n",
            "\n",
            "31 - maxabsscaler\n",
            "{'copy': True}\n",
            "\n",
            "31 - logisticregression\n",
            "{'C': 1048.1131341546852,\n",
            " 'class_weight': None,\n",
            " 'dual': False,\n",
            " 'fit_intercept': True,\n",
            " 'intercept_scaling': 1,\n",
            " 'l1_ratio': None,\n",
            " 'max_iter': 100,\n",
            " 'multi_class': 'multinomial',\n",
            " 'n_jobs': 1,\n",
            " 'penalty': 'l2',\n",
            " 'random_state': None,\n",
            " 'solver': 'saga',\n",
            " 'tol': 0.0001,\n",
            " 'verbose': 0,\n",
            " 'warm_start': False}\n",
            "\n",
            "30 - sparsenormalizer\n",
            "{'copy': True, 'norm': 'l1'}\n",
            "\n",
            "30 - logisticregression\n",
            "{'C': 0.013257113655901081,\n",
            " 'class_weight': None,\n",
            " 'dual': False,\n",
            " 'fit_intercept': True,\n",
            " 'intercept_scaling': 1,\n",
            " 'l1_ratio': None,\n",
            " 'max_iter': 100,\n",
            " 'multi_class': 'ovr',\n",
            " 'n_jobs': 1,\n",
            " 'penalty': 'l2',\n",
            " 'random_state': None,\n",
            " 'solver': 'saga',\n",
            " 'tol': 0.0001,\n",
            " 'verbose': 0,\n",
            " 'warm_start': False}\n",
            "\n",
            "21 - standardscalerwrapper\n",
            "{'class_name': 'StandardScaler',\n",
            " 'copy': True,\n",
            " 'module_name': 'sklearn.preprocessing._data',\n",
            " 'with_mean': False,\n",
            " 'with_std': True}\n",
            "\n",
            "21 - lightgbmclassifier\n",
            "{'boosting_type': 'goss',\n",
            " 'class_weight': None,\n",
            " 'colsample_bytree': 0.6933333333333332,\n",
            " 'importance_type': 'split',\n",
            " 'learning_rate': 0.03158578947368421,\n",
            " 'max_bin': 250,\n",
            " 'max_depth': 3,\n",
            " 'min_child_samples': 56,\n",
            " 'min_child_weight': 3,\n",
            " 'min_split_gain': 0.9473684210526315,\n",
            " 'n_estimators': 25,\n",
            " 'n_jobs': 1,\n",
            " 'num_leaves': 251,\n",
            " 'objective': None,\n",
            " 'random_state': None,\n",
            " 'reg_alpha': 0.47368421052631576,\n",
            " 'reg_lambda': 0.05263157894736842,\n",
            " 'silent': True,\n",
            " 'subsample': 1,\n",
            " 'subsample_for_bin': 200000,\n",
            " 'subsample_freq': 0,\n",
            " 'verbose': -10}\n",
            "\n"
          ]
        }
      ],
      "execution_count": 11,
      "metadata": {
        "collapsed": true,
        "jupyter": {
          "source_hidden": false,
          "outputs_hidden": false
        },
        "nteract": {
          "transient": {
            "deleting": false
          }
        },
        "gather": {
          "logged": 1613115327697
        }
      }
    },
    {
      "cell_type": "code",
      "source": [
        "#TODO: Save the best model\r\n",
        "os.makedirs('outputs', exist_ok=True)\r\n",
        "\r\n",
        "joblib.dump(fitted_model, 'outputs/automlmodel.joblib')\r\n"
      ],
      "outputs": [
        {
          "output_type": "execute_result",
          "execution_count": 12,
          "data": {
            "text/plain": "['outputs/automlmodel.joblib']"
          },
          "metadata": {}
        }
      ],
      "execution_count": 12,
      "metadata": {
        "gather": {
          "logged": 1613115336123
        },
        "jupyter": {
          "outputs_hidden": false,
          "source_hidden": false
        },
        "nteract": {
          "transient": {
            "deleting": false
          }
        }
      }
    },
    {
      "cell_type": "markdown",
      "source": [
        "## Model Deployment\n",
        "\n",
        "Remember you have to deploy only one of the two models you trained.. Perform the steps in the rest of this notebook only if you wish to deploy this model.\n",
        "\n",
        "TODO: In the cell below, register the model, create an inference config and deploy the model as a web service."
      ],
      "metadata": {}
    },
    {
      "cell_type": "code",
      "source": [
        "#register the best model\r\n",
        "model_name = best_run.properties['model_name']\r\n",
        "\r\n",
        "script_file_name = 'inference/score.py'\r\n",
        "\r\n",
        "best_run.download_file('outputs/scoring_file_v_1_0_0.py', 'inference/score.py')\r\n",
        "\r\n",
        "description = 'AutoML Model'\r\n",
        "tags = None\r\n",
        "model = remote_run.register_model(model_name = model_name, description = description, tags = tags)\r\n",
        "\r\n",
        "print(remote_run.model_id)"
      ],
      "outputs": [
        {
          "output_type": "stream",
          "name": "stdout",
          "text": [
            "AutoMLaa0cbd0ca47\n"
          ]
        }
      ],
      "execution_count": 13,
      "metadata": {
        "gather": {
          "logged": 1613115345559
        },
        "jupyter": {
          "outputs_hidden": false,
          "source_hidden": false
        },
        "nteract": {
          "transient": {
            "deleting": false
          }
        }
      }
    },
    {
      "cell_type": "code",
      "source": [
        "#deploy best model as web service\r\n",
        "from azureml.core.model import InferenceConfig\r\n",
        "from azureml.core.webservice import AciWebservice\r\n",
        "from azureml.core.webservice import Webservice\r\n",
        "from azureml.core.model import Model\r\n",
        "from azureml.core.environment import Environment\r\n",
        "\r\n",
        "inference_config = InferenceConfig(entry_script=script_file_name)\r\n",
        "\r\n",
        "aciconfig = AciWebservice.deploy_configuration(cpu_cores = 1, \r\n",
        "                                               memory_gb = 1, \r\n",
        "                                               tags = {'area': \"bmData\", 'type': \"automl_classification\"},\r\n",
        "                                               enable_app_insights=True,\r\n",
        "                                               auth_enabled=True, \r\n",
        "                                               description = 'sample service for Automl Classification'\r\n",
        "                                               )\r\n",
        "\r\n",
        "\r\n",
        "aci_service_name = 'automl-sample-diabetes'\r\n",
        "print(aci_service_name)\r\n",
        "aci_service = Model.deploy(ws, aci_service_name, [model], inference_config, aciconfig)\r\n",
        "aci_service.wait_for_deployment(True)\r\n",
        "print(aci_service.state)"
      ],
      "outputs": [
        {
          "output_type": "stream",
          "name": "stdout",
          "text": [
            "automl-sample-diabetes\n",
            "Tips: You can try get_logs(): https://aka.ms/debugimage#dockerlog or local deployment: https://aka.ms/debugimage#debug-locally to debug if deployment takes longer than 10 minutes.\n",
            "Running.......................................\n",
            "Succeeded\n",
            "ACI service creation operation finished, operation \"Succeeded\"\n",
            "Healthy\n"
          ]
        }
      ],
      "execution_count": 14,
      "metadata": {
        "collapsed": true,
        "jupyter": {
          "source_hidden": false,
          "outputs_hidden": false
        },
        "nteract": {
          "transient": {
            "deleting": false
          }
        },
        "gather": {
          "logged": 1613117123243
        }
      }
    },
    {
      "cell_type": "code",
      "source": [
        "#get insights connection urls\r\n",
        "print (aci_service.scoring_uri)\r\n",
        "print (aci_service.swagger_uri)"
      ],
      "outputs": [
        {
          "output_type": "stream",
          "name": "stdout",
          "text": [
            "http://e485115d-f101-4fb6-92ae-a00e0c250ad5.southcentralus.azurecontainer.io/score\n",
            "http://e485115d-f101-4fb6-92ae-a00e0c250ad5.southcentralus.azurecontainer.io/swagger.json\n"
          ]
        }
      ],
      "execution_count": 15,
      "metadata": {
        "collapsed": true,
        "jupyter": {
          "source_hidden": false,
          "outputs_hidden": false
        },
        "nteract": {
          "transient": {
            "deleting": false
          }
        },
        "gather": {
          "logged": 1613117152173
        }
      }
    },
    {
      "cell_type": "markdown",
      "source": [
        "TODO: In the cell below, send a request to the web service you deployed to test it."
      ],
      "metadata": {
        "collapsed": true,
        "gather": {
          "logged": 1598431657736
        },
        "jupyter": {
          "outputs_hidden": false,
          "source_hidden": false
        },
        "nteract": {
          "transient": {
            "deleting": false
          }
        }
      }
    },
    {
      "cell_type": "code",
      "source": [
        "#get scoring url and the primary key to post request to the \r\n",
        "scor = aci_service.scoring_uri\r\n",
        "primary,secondry = aci_service.get_keys()\r\n",
        "print(primary)"
      ],
      "outputs": [
        {
          "output_type": "stream",
          "name": "stdout",
          "text": [
            "QHrp8D4BcCbxWrc7FYEaag4HthOTTlFT\n"
          ]
        }
      ],
      "execution_count": 16,
      "metadata": {
        "gather": {
          "logged": 1613117160091
        },
        "jupyter": {
          "outputs_hidden": false,
          "source_hidden": false
        },
        "nteract": {
          "transient": {
            "deleting": false
          }
        }
      }
    },
    {
      "cell_type": "code",
      "source": [
        "#send requests to test the model and print results from this post\r\n",
        "import requests\r\n",
        "import json\r\n",
        "\r\n",
        "\r\n",
        "scoring_uri = scor\r\n",
        "# If the service is authenticated, set the key or token\r\n",
        "key = primary\r\n",
        "\r\n",
        "# Two sets of data to score, so we get two results back\r\n",
        "data = {\"data\":\r\n",
        "        [\r\n",
        "          {\r\n",
        "            \"Pregnancies\": 5,\r\n",
        "            \"Glucose\": 151,\r\n",
        "            \"BloodPressure\": 60,\r\n",
        "            \"SkinThickness\": 45,\r\n",
        "            \"Insulin\": 0,\r\n",
        "            \"BMI\":33.6,\r\n",
        "            \"DiabetesPedigreeFunction\": 0.627,\r\n",
        "            \"Age\":55,\r\n",
        "                       \r\n",
        "          },\r\n",
        "          {\r\n",
        "            \"Pregnancies\": 17,\r\n",
        "            \"Glucose\": 85,\r\n",
        "            \"BloodPressure\": 63,\r\n",
        "            \"SkinThickness\": 29,\r\n",
        "            \"Insulin\": 94,\r\n",
        "            \"BMI\": 28.9,\r\n",
        "            \"DiabetesPedigreeFunction\": 0.352,\r\n",
        "            \"Age\": 33,\r\n",
        "            \r\n",
        "          },\r\n",
        "      ]\r\n",
        "    }\r\n",
        "# Convert to JSON string\r\n",
        "input_data = json.dumps(data)\r\n",
        "with open(\"data.json\", \"w\") as _f:\r\n",
        "    _f.write(input_data)\r\n",
        "\r\n",
        "# Set the content type\r\n",
        "headers = {'Content-Type': 'application/json'}\r\n",
        "# If authentication is enabled, set the authorization header\r\n",
        "headers['Authorization'] = f'Bearer {key}'\r\n",
        "\r\n",
        "# Make the request and display the response\r\n",
        "resp = requests.post(scoring_uri, input_data, headers=headers)\r\n",
        "print(resp.json())"
      ],
      "outputs": [
        {
          "output_type": "stream",
          "name": "stdout",
          "text": [
            "{\"result\": [1, 0]}\n"
          ]
        }
      ],
      "execution_count": 17,
      "metadata": {
        "collapsed": true,
        "jupyter": {
          "source_hidden": false,
          "outputs_hidden": false
        },
        "nteract": {
          "transient": {
            "deleting": false
          }
        },
        "gather": {
          "logged": 1613117168557
        }
      }
    },
    {
      "cell_type": "markdown",
      "source": [
        "TODO: In the cell below, print the logs of the web service and delete the service"
      ],
      "metadata": {
        "collapsed": true,
        "gather": {
          "logged": 1598432765711
        },
        "jupyter": {
          "outputs_hidden": false,
          "source_hidden": false
        },
        "nteract": {
          "transient": {
            "deleting": false
          }
        }
      }
    },
    {
      "cell_type": "code",
      "source": [
        "#get logs history\r\n",
        "aci_service.get_logs()"
      ],
      "outputs": [],
      "execution_count": null,
      "metadata": {
        "collapsed": true,
        "jupyter": {
          "source_hidden": false,
          "outputs_hidden": false
        },
        "nteract": {
          "transient": {
            "deleting": false
          }
        },
        "gather": {
          "logged": 1613109795360
        }
      }
    },
    {
      "cell_type": "code",
      "source": [
        "#delete the web service\r\n",
        "aci_service.delete()"
      ],
      "outputs": [],
      "execution_count": null,
      "metadata": {
        "jupyter": {
          "outputs_hidden": false,
          "source_hidden": false
        },
        "nteract": {
          "transient": {
            "deleting": false
          }
        },
        "gather": {
          "logged": 1613108962626
        }
      }
    },
    {
      "cell_type": "code",
      "source": [
        "#delete the cluster comute used for the expermint\r\n",
        "capcpu.delete()"
      ],
      "outputs": [],
      "execution_count": null,
      "metadata": {
        "collapsed": true,
        "jupyter": {
          "source_hidden": false,
          "outputs_hidden": false
        },
        "nteract": {
          "transient": {
            "deleting": false
          }
        }
      }
    }
  ],
  "metadata": {
    "kernel_info": {
      "name": "python3-azureml"
    },
    "kernelspec": {
      "name": "python3-azureml",
      "language": "python",
      "display_name": "Python 3.6 - AzureML"
    },
    "language_info": {
      "name": "python",
      "version": "3.6.9",
      "mimetype": "text/x-python",
      "codemirror_mode": {
        "name": "ipython",
        "version": 3
      },
      "pygments_lexer": "ipython3",
      "nbconvert_exporter": "python",
      "file_extension": ".py"
    },
    "nteract": {
      "version": "nteract-front-end@1.0.0"
    }
  },
  "nbformat": 4,
  "nbformat_minor": 2
}
{
  "cells": [
    {
      "cell_type": "markdown",
      "source": [
        "# Automated ML\n",
        "\n",
        "TODO: Import Dependencies. In the cell below, import all the dependencies that you will need to complete the project."
      ],
      "metadata": {}
    },
    {
      "cell_type": "code",
      "source": [
        "import logging\r\n",
        "import os\r\n",
        "import csv\r\n",
        "\r\n",
        "from matplotlib import pyplot as plt\r\n",
        "import numpy as np\r\n",
        "import pandas as pd\r\n",
        "from sklearn import datasets\r\n",
        "import pkg_resources\r\n",
        "\r\n",
        "import azureml.core\r\n",
        "from azureml.core.experiment import Experiment\r\n",
        "from azureml.core.workspace import Workspace\r\n",
        "from azureml.train.automl import AutoMLConfig\r\n",
        "from azureml.core.dataset import Dataset\r\n",
        "\r\n",
        "from azureml.pipeline.steps import AutoMLStep\r\n",
        "\r\n",
        "\r\n",
        "# Check core SDK version number\r\n",
        "print(\"SDK version:\", azureml.core.VERSION)"
      ],
      "outputs": [
        {
          "output_type": "stream",
          "name": "stdout",
          "text": [
            "SDK version: 1.20.0\n"
          ]
        }
      ],
      "execution_count": 18,
      "metadata": {
        "gather": {
          "logged": 1612940780831
        },
        "jupyter": {
          "outputs_hidden": false,
          "source_hidden": false
        },
        "nteract": {
          "transient": {
            "deleting": false
          }
        }
      }
    },
    {
      "cell_type": "markdown",
      "source": [
        "## Dataset\n",
        "\n",
        "### Overview\n",
        "TODO: In this markdown cell, give an overview of the dataset you are using. Also mention the task you will be performing.\n",
        "\n",
        "\n",
        "TODO: Get data. In the cell below, write code to access the data you will be using in this project. Remember that the dataset needs to be external."
      ],
      "metadata": {}
    },
    {
      "cell_type": "code",
      "source": [
        "ws = Workspace.from_config()\n",
        "print(ws.name, ws.resource_group, ws.location, ws.subscription_id, sep = '\\n')\n",
        "# choose a name for experiment\n",
        "experiment_name = 'diabetes'\n",
        "\n",
        "project_folder = './diabetes-project'\n",
        "\n",
        "experiment = Experiment(ws, experiment_name)\n",
        "experiment"
      ],
      "outputs": [
        {
          "output_type": "stream",
          "name": "stdout",
          "text": [
            "quick-starts-ws-138319\n",
            "aml-quickstarts-138319\n",
            "southcentralus\n",
            "5a4ab2ba-6c51-4805-8155-58759ad589d8\n"
          ]
        },
        {
          "output_type": "execute_result",
          "execution_count": 19,
          "data": {
            "text/plain": "Experiment(Name: diabetes,\nWorkspace: quick-starts-ws-138319)",
            "text/html": "<table style=\"width:100%\"><tr><th>Name</th><th>Workspace</th><th>Report Page</th><th>Docs Page</th></tr><tr><td>diabetes</td><td>quick-starts-ws-138319</td><td><a href=\"https://ml.azure.com/experiments/diabetes?wsid=/subscriptions/5a4ab2ba-6c51-4805-8155-58759ad589d8/resourcegroups/aml-quickstarts-138319/workspaces/quick-starts-ws-138319\" target=\"_blank\" rel=\"noopener\">Link to Azure Machine Learning studio</a></td><td><a href=\"https://docs.microsoft.com/en-us/python/api/azureml-core/azureml.core.experiment.Experiment?view=azure-ml-py\" target=\"_blank\" rel=\"noopener\">Link to Documentation</a></td></tr></table>"
          },
          "metadata": {}
        }
      ],
      "execution_count": 19,
      "metadata": {
        "gather": {
          "logged": 1612940789109
        },
        "jupyter": {
          "outputs_hidden": false,
          "source_hidden": false
        },
        "nteract": {
          "transient": {
            "deleting": false
          }
        }
      }
    },
    {
      "cell_type": "code",
      "source": [
        "from azureml.core.compute import AmlCompute\r\n",
        "from azureml.core.compute import ComputeTarget\r\n",
        "from azureml.core.compute_target import ComputeTargetException\r\n",
        "\r\n",
        "# NOTE: update the cluster name to match the existing cluster\r\n",
        "# Choose a name for your CPU cluster\r\n",
        "amlcompute_cluster_name = \"capcpu\"\r\n",
        "\r\n",
        "# Verify that cluster does not exist already\r\n",
        "try:\r\n",
        "    compute_target = ComputeTarget(workspace=ws, name=amlcompute_cluster_name)\r\n",
        "    print('Found existing cluster, use it.')\r\n",
        "except ComputeTargetException:\r\n",
        "\r\n",
        "    compute_config = AmlCompute.provisioning_configuration(vm_size='STANDARD_D2_V2',# for GPU, use \"STANDARD_NC6\"\r\n",
        "                                                           #vm_priority = 'lowpriority', # optional\r\n",
        "                                                             max_nodes=4)\r\n",
        "    compute_target = ComputeTarget.create(ws, amlcompute_cluster_name, compute_config)\r\n",
        "\r\n",
        "compute_target.wait_for_completion(show_output=True, min_node_count = 1, timeout_in_minutes = 10)\r\n",
        "# For a more detailed view of current AmlCompute status, use get_status()."
      ],
      "outputs": [
        {
          "output_type": "stream",
          "name": "stdout",
          "text": [
            "Found existing cluster, use it.\n",
            "Succeeded..................................................................................................................\n",
            "AmlCompute wait for completion finished\n",
            "\n",
            "Wait timeout has been reached\n",
            "Current provisioning state of AmlCompute is \"Succeeded\" and current node count is \"0\"\n"
          ]
        }
      ],
      "execution_count": 20,
      "metadata": {
        "collapsed": true,
        "jupyter": {
          "source_hidden": false,
          "outputs_hidden": false
        },
        "nteract": {
          "transient": {
            "deleting": false
          }
        },
        "gather": {
          "logged": 1612941396857
        }
      }
    },
    {
      "cell_type": "code",
      "source": [
        "# Try to load the dataset from the Workspace. Otherwise, create it from the file\r\n",
        "found = False\r\n",
        "key = \"diabetes\"\r\n",
        "description_text = \"diabetes prdection\"\r\n",
        "\r\n",
        "if key in ws.datasets.keys(): \r\n",
        "        found = True\r\n",
        "        dataset = ws.datasets[key]\r\n",
        "         \r\n",
        "df = dataset.to_pandas_dataframe()\r\n",
        "df.describe()\r\n"
      ],
      "outputs": [
        {
          "output_type": "execute_result",
          "execution_count": 21,
          "data": {
            "text/plain": "       Pregnancies  Glucose  BloodPressure  SkinThickness  Insulin    BMI  \\\ncount       768.00   768.00         768.00         768.00   768.00 768.00   \nmean          3.85   120.89          69.11          20.54    79.80  31.99   \nstd           3.37    31.97          19.36          15.95   115.24   7.88   \nmin           0.00     0.00           0.00           0.00     0.00   0.00   \n25%           1.00    99.00          62.00           0.00     0.00  27.30   \n50%           3.00   117.00          72.00          23.00    30.50  32.00   \n75%           6.00   140.25          80.00          32.00   127.25  36.60   \nmax          17.00   199.00         122.00          99.00   846.00  67.10   \n\n       DiabetesPedigreeFunction    Age  Outcome  \ncount                    768.00 768.00   768.00  \nmean                       0.47  33.24     0.35  \nstd                        0.33  11.76     0.48  \nmin                        0.08  21.00     0.00  \n25%                        0.24  24.00     0.00  \n50%                        0.37  29.00     0.00  \n75%                        0.63  41.00     1.00  \nmax                        2.42  81.00     1.00  ",
            "text/html": "<div>\n<style scoped>\n    .dataframe tbody tr th:only-of-type {\n        vertical-align: middle;\n    }\n\n    .dataframe tbody tr th {\n        vertical-align: top;\n    }\n\n    .dataframe thead th {\n        text-align: right;\n    }\n</style>\n<table border=\"1\" class=\"dataframe\">\n  <thead>\n    <tr style=\"text-align: right;\">\n      <th></th>\n      <th>Pregnancies</th>\n      <th>Glucose</th>\n      <th>BloodPressure</th>\n      <th>SkinThickness</th>\n      <th>Insulin</th>\n      <th>BMI</th>\n      <th>DiabetesPedigreeFunction</th>\n      <th>Age</th>\n      <th>Outcome</th>\n    </tr>\n  </thead>\n  <tbody>\n    <tr>\n      <th>count</th>\n      <td>768.00</td>\n      <td>768.00</td>\n      <td>768.00</td>\n      <td>768.00</td>\n      <td>768.00</td>\n      <td>768.00</td>\n      <td>768.00</td>\n      <td>768.00</td>\n      <td>768.00</td>\n    </tr>\n    <tr>\n      <th>mean</th>\n      <td>3.85</td>\n      <td>120.89</td>\n      <td>69.11</td>\n      <td>20.54</td>\n      <td>79.80</td>\n      <td>31.99</td>\n      <td>0.47</td>\n      <td>33.24</td>\n      <td>0.35</td>\n    </tr>\n    <tr>\n      <th>std</th>\n      <td>3.37</td>\n      <td>31.97</td>\n      <td>19.36</td>\n      <td>15.95</td>\n      <td>115.24</td>\n      <td>7.88</td>\n      <td>0.33</td>\n      <td>11.76</td>\n      <td>0.48</td>\n    </tr>\n    <tr>\n      <th>min</th>\n      <td>0.00</td>\n      <td>0.00</td>\n      <td>0.00</td>\n      <td>0.00</td>\n      <td>0.00</td>\n      <td>0.00</td>\n      <td>0.08</td>\n      <td>21.00</td>\n      <td>0.00</td>\n    </tr>\n    <tr>\n      <th>25%</th>\n      <td>1.00</td>\n      <td>99.00</td>\n      <td>62.00</td>\n      <td>0.00</td>\n      <td>0.00</td>\n      <td>27.30</td>\n      <td>0.24</td>\n      <td>24.00</td>\n      <td>0.00</td>\n    </tr>\n    <tr>\n      <th>50%</th>\n      <td>3.00</td>\n      <td>117.00</td>\n      <td>72.00</td>\n      <td>23.00</td>\n      <td>30.50</td>\n      <td>32.00</td>\n      <td>0.37</td>\n      <td>29.00</td>\n      <td>0.00</td>\n    </tr>\n    <tr>\n      <th>75%</th>\n      <td>6.00</td>\n      <td>140.25</td>\n      <td>80.00</td>\n      <td>32.00</td>\n      <td>127.25</td>\n      <td>36.60</td>\n      <td>0.63</td>\n      <td>41.00</td>\n      <td>1.00</td>\n    </tr>\n    <tr>\n      <th>max</th>\n      <td>17.00</td>\n      <td>199.00</td>\n      <td>122.00</td>\n      <td>99.00</td>\n      <td>846.00</td>\n      <td>67.10</td>\n      <td>2.42</td>\n      <td>81.00</td>\n      <td>1.00</td>\n    </tr>\n  </tbody>\n</table>\n</div>"
          },
          "metadata": {}
        }
      ],
      "execution_count": 21,
      "metadata": {
        "collapsed": true,
        "jupyter": {
          "source_hidden": false,
          "outputs_hidden": false
        },
        "nteract": {
          "transient": {
            "deleting": false
          }
        },
        "gather": {
          "logged": 1612941463007
        }
      }
    },
    {
      "cell_type": "code",
      "source": [
        "dataset.take(5).to_pandas_dataframe()"
      ],
      "outputs": [
        {
          "output_type": "execute_result",
          "execution_count": 22,
          "data": {
            "text/plain": "   Pregnancies  Glucose  BloodPressure  SkinThickness  Insulin   BMI  \\\n0            6      148             72             35        0 33.60   \n1            1       85             66             29        0 26.60   \n2            8      183             64              0        0 23.30   \n3            1       89             66             23       94 28.10   \n4            0      137             40             35      168 43.10   \n\n   DiabetesPedigreeFunction  Age  Outcome  \n0                      0.63   50        1  \n1                      0.35   31        0  \n2                      0.67   32        1  \n3                      0.17   21        0  \n4                      2.29   33        1  ",
            "text/html": "<div>\n<style scoped>\n    .dataframe tbody tr th:only-of-type {\n        vertical-align: middle;\n    }\n\n    .dataframe tbody tr th {\n        vertical-align: top;\n    }\n\n    .dataframe thead th {\n        text-align: right;\n    }\n</style>\n<table border=\"1\" class=\"dataframe\">\n  <thead>\n    <tr style=\"text-align: right;\">\n      <th></th>\n      <th>Pregnancies</th>\n      <th>Glucose</th>\n      <th>BloodPressure</th>\n      <th>SkinThickness</th>\n      <th>Insulin</th>\n      <th>BMI</th>\n      <th>DiabetesPedigreeFunction</th>\n      <th>Age</th>\n      <th>Outcome</th>\n    </tr>\n  </thead>\n  <tbody>\n    <tr>\n      <th>0</th>\n      <td>6</td>\n      <td>148</td>\n      <td>72</td>\n      <td>35</td>\n      <td>0</td>\n      <td>33.60</td>\n      <td>0.63</td>\n      <td>50</td>\n      <td>1</td>\n    </tr>\n    <tr>\n      <th>1</th>\n      <td>1</td>\n      <td>85</td>\n      <td>66</td>\n      <td>29</td>\n      <td>0</td>\n      <td>26.60</td>\n      <td>0.35</td>\n      <td>31</td>\n      <td>0</td>\n    </tr>\n    <tr>\n      <th>2</th>\n      <td>8</td>\n      <td>183</td>\n      <td>64</td>\n      <td>0</td>\n      <td>0</td>\n      <td>23.30</td>\n      <td>0.67</td>\n      <td>32</td>\n      <td>1</td>\n    </tr>\n    <tr>\n      <th>3</th>\n      <td>1</td>\n      <td>89</td>\n      <td>66</td>\n      <td>23</td>\n      <td>94</td>\n      <td>28.10</td>\n      <td>0.17</td>\n      <td>21</td>\n      <td>0</td>\n    </tr>\n    <tr>\n      <th>4</th>\n      <td>0</td>\n      <td>137</td>\n      <td>40</td>\n      <td>35</td>\n      <td>168</td>\n      <td>43.10</td>\n      <td>2.29</td>\n      <td>33</td>\n      <td>1</td>\n    </tr>\n  </tbody>\n</table>\n</div>"
          },
          "metadata": {}
        }
      ],
      "execution_count": 22,
      "metadata": {
        "collapsed": true,
        "jupyter": {
          "source_hidden": false,
          "outputs_hidden": false
        },
        "nteract": {
          "transient": {
            "deleting": false
          }
        },
        "gather": {
          "logged": 1612941467513
        }
      }
    },
    {
      "cell_type": "markdown",
      "source": [
        "## AutoML Configuration\n",
        "\n",
        "TODO: Explain why you chose the automl settings and cofiguration you used below."
      ],
      "metadata": {}
    },
    {
      "cell_type": "code",
      "source": [
        "# TODO: Put your automl settings here\n",
        "automl_settings = {\n",
        "    \"experiment_timeout_minutes\": 30,\n",
        "    \"max_concurrent_iterations\": 3,\n",
        "    \"primary_metric\" : 'accuracy'\n",
        "}\n",
        "\n",
        "# TODO: Put your automl config here\n",
        "automl_config = AutoMLConfig(compute_target=compute_target,\n",
        "                             task = \"classification\",\n",
        "                             training_data=dataset,\n",
        "                             label_column_name=\"Outcome\",   \n",
        "                             path = project_folder,\n",
        "                             enable_early_stopping= True,\n",
        "                             featurization= 'auto',\n",
        "                             debug_log = \"automl_errors.log\",\n",
        "                             **automl_settings)"
      ],
      "outputs": [],
      "execution_count": 23,
      "metadata": {
        "gather": {
          "logged": 1612941472986
        },
        "jupyter": {
          "outputs_hidden": false,
          "source_hidden": false
        },
        "nteract": {
          "transient": {
            "deleting": false
          }
        }
      }
    },
    {
      "cell_type": "code",
      "source": [
        "# TODO: Submit your experiment\n",
        "remote_run = experiment.submit(automl_config)"
      ],
      "outputs": [
        {
          "output_type": "stream",
          "name": "stdout",
          "text": [
            "Running on remote.\n"
          ]
        }
      ],
      "execution_count": 24,
      "metadata": {
        "gather": {
          "logged": 1612941480397
        },
        "jupyter": {
          "outputs_hidden": false,
          "source_hidden": false
        },
        "nteract": {
          "transient": {
            "deleting": false
          }
        }
      }
    },
    {
      "cell_type": "markdown",
      "source": [
        "## Run Details\n",
        "\n",
        "OPTIONAL: Write about the different models trained and their performance. Why do you think some models did better than others?\n",
        "\n",
        "TODO: In the cell below, use the `RunDetails` widget to show the different experiments."
      ],
      "metadata": {}
    },
    {
      "cell_type": "code",
      "source": [
        "from azureml.widgets import RunDetails\r\n",
        "\r\n",
        "RunDetails(remote_run).show()\r\n"
      ],
      "outputs": [
        {
          "output_type": "display_data",
          "data": {
            "text/plain": "_AutoMLWidget(widget_settings={'childWidgetDisplay': 'popup', 'send_telemetry': False, 'log_level': 'INFO', 's…",
            "application/vnd.jupyter.widget-view+json": {
              "version_major": 2,
              "version_minor": 0,
              "model_id": "ea909bd3434b4fa7baa3703795c36c7d"
            }
          },
          "metadata": {}
        },
        {
          "output_type": "display_data",
          "data": {
            "application/aml.mini.widget.v1": "{\"status\": \"Completed\", \"workbench_run_details_uri\": \"https://ml.azure.com/experiments/diabetes/runs/AutoML_2e34a5c8-2ccd-4f6f-9bb7-b404fd6cc042?wsid=/subscriptions/5a4ab2ba-6c51-4805-8155-58759ad589d8/resourcegroups/aml-quickstarts-138319/workspaces/quick-starts-ws-138319\", \"run_id\": \"AutoML_2e34a5c8-2ccd-4f6f-9bb7-b404fd6cc042\", \"run_properties\": {\"run_id\": \"AutoML_2e34a5c8-2ccd-4f6f-9bb7-b404fd6cc042\", \"created_utc\": \"2021-02-10T07:17:59.507842Z\", \"properties\": {\"num_iterations\": \"1000\", \"training_type\": \"TrainFull\", \"acquisition_function\": \"EI\", \"primary_metric\": \"accuracy\", \"train_split\": \"0\", \"acquisition_parameter\": \"0\", \"num_cross_validation\": null, \"target\": \"capcpu\", \"AMLSettingsJsonString\": \"{\\\"path\\\":null,\\\"name\\\":\\\"diabetes\\\",\\\"subscription_id\\\":\\\"5a4ab2ba-6c51-4805-8155-58759ad589d8\\\",\\\"resource_group\\\":\\\"aml-quickstarts-138319\\\",\\\"workspace_name\\\":\\\"quick-starts-ws-138319\\\",\\\"region\\\":\\\"southcentralus\\\",\\\"compute_target\\\":\\\"capcpu\\\",\\\"spark_service\\\":null,\\\"azure_service\\\":\\\"remote\\\",\\\"many_models\\\":false,\\\"pipeline_fetch_max_batch_size\\\":1,\\\"iterations\\\":1000,\\\"primary_metric\\\":\\\"accuracy\\\",\\\"task_type\\\":\\\"classification\\\",\\\"data_script\\\":null,\\\"validation_size\\\":0.0,\\\"n_cross_validations\\\":null,\\\"y_min\\\":null,\\\"y_max\\\":null,\\\"num_classes\\\":null,\\\"featurization\\\":\\\"auto\\\",\\\"_ignore_package_version_incompatibilities\\\":false,\\\"is_timeseries\\\":false,\\\"max_cores_per_iteration\\\":1,\\\"max_concurrent_iterations\\\":3,\\\"iteration_timeout_minutes\\\":null,\\\"mem_in_mb\\\":null,\\\"enforce_time_on_windows\\\":false,\\\"experiment_timeout_minutes\\\":30,\\\"experiment_exit_score\\\":null,\\\"whitelist_models\\\":null,\\\"blacklist_algos\\\":[\\\"TensorFlowLinearClassifier\\\",\\\"TensorFlowDNN\\\"],\\\"supported_models\\\":[\\\"KNN\\\",\\\"ExtremeRandomTrees\\\",\\\"DecisionTree\\\",\\\"RandomForest\\\",\\\"TensorFlowLinearClassifier\\\",\\\"XGBoostClassifier\\\",\\\"LogisticRegression\\\",\\\"SVM\\\",\\\"AveragedPerceptronClassifier\\\",\\\"GradientBoosting\\\",\\\"LinearSVM\\\",\\\"MultinomialNaiveBayes\\\",\\\"TensorFlowDNN\\\",\\\"SGD\\\",\\\"BernoulliNaiveBayes\\\",\\\"LightGBM\\\"],\\\"auto_blacklist\\\":true,\\\"blacklist_samples_reached\\\":false,\\\"exclude_nan_labels\\\":true,\\\"verbosity\\\":20,\\\"_debug_log\\\":\\\"azureml_automl.log\\\",\\\"show_warnings\\\":false,\\\"model_explainability\\\":true,\\\"service_url\\\":null,\\\"sdk_url\\\":null,\\\"sdk_packages\\\":null,\\\"enable_onnx_compatible_models\\\":false,\\\"enable_split_onnx_featurizer_estimator_models\\\":false,\\\"vm_type\\\":\\\"STANDARD_D2_V2\\\",\\\"telemetry_verbosity\\\":20,\\\"send_telemetry\\\":true,\\\"enable_dnn\\\":false,\\\"scenario\\\":\\\"SDK-1.13.0\\\",\\\"environment_label\\\":null,\\\"force_text_dnn\\\":false,\\\"enable_feature_sweeping\\\":true,\\\"enable_early_stopping\\\":true,\\\"early_stopping_n_iters\\\":10,\\\"metrics\\\":null,\\\"enable_ensembling\\\":true,\\\"enable_stack_ensembling\\\":true,\\\"ensemble_iterations\\\":15,\\\"enable_tf\\\":false,\\\"enable_subsampling\\\":null,\\\"subsample_seed\\\":null,\\\"enable_nimbusml\\\":false,\\\"enable_streaming\\\":false,\\\"force_streaming\\\":false,\\\"track_child_runs\\\":true,\\\"allowed_private_models\\\":[],\\\"label_column_name\\\":\\\"Outcome\\\",\\\"weight_column_name\\\":null,\\\"cv_split_column_names\\\":null,\\\"enable_local_managed\\\":false,\\\"_local_managed_run_id\\\":null,\\\"cost_mode\\\":1,\\\"lag_length\\\":0,\\\"metric_operation\\\":\\\"maximize\\\",\\\"preprocess\\\":true}\", \"DataPrepJsonString\": \"{\\\\\\\"training_data\\\\\\\": \\\\\\\"{\\\\\\\\\\\\\\\"blocks\\\\\\\\\\\\\\\": [{\\\\\\\\\\\\\\\"id\\\\\\\\\\\\\\\": \\\\\\\\\\\\\\\"28463e1e-6836-4876-9824-fefb826302a3\\\\\\\\\\\\\\\", \\\\\\\\\\\\\\\"type\\\\\\\\\\\\\\\": \\\\\\\\\\\\\\\"Microsoft.DPrep.GetDatastoreFilesBlock\\\\\\\\\\\\\\\", \\\\\\\\\\\\\\\"arguments\\\\\\\\\\\\\\\": {\\\\\\\\\\\\\\\"datastores\\\\\\\\\\\\\\\": [{\\\\\\\\\\\\\\\"datastoreName\\\\\\\\\\\\\\\": \\\\\\\\\\\\\\\"workspaceblobstore\\\\\\\\\\\\\\\", \\\\\\\\\\\\\\\"path\\\\\\\\\\\\\\\": \\\\\\\\\\\\\\\"UI/02-10-2021_034553_UTC/diabetes.csv\\\\\\\\\\\\\\\", \\\\\\\\\\\\\\\"resourceGroup\\\\\\\\\\\\\\\": \\\\\\\\\\\\\\\"aml-quickstarts-138319\\\\\\\\\\\\\\\", \\\\\\\\\\\\\\\"subscription\\\\\\\\\\\\\\\": \\\\\\\\\\\\\\\"5a4ab2ba-6c51-4805-8155-58759ad589d8\\\\\\\\\\\\\\\", \\\\\\\\\\\\\\\"workspaceName\\\\\\\\\\\\\\\": \\\\\\\\\\\\\\\"quick-starts-ws-138319\\\\\\\\\\\\\\\"}]}, \\\\\\\\\\\\\\\"localData\\\\\\\\\\\\\\\": {}, \\\\\\\\\\\\\\\"isEnabled\\\\\\\\\\\\\\\": true, \\\\\\\\\\\\\\\"name\\\\\\\\\\\\\\\": null, \\\\\\\\\\\\\\\"annotation\\\\\\\\\\\\\\\": null}, {\\\\\\\\\\\\\\\"id\\\\\\\\\\\\\\\": \\\\\\\\\\\\\\\"0f109333-87b5-498f-ad37-e585cee0b971\\\\\\\\\\\\\\\", \\\\\\\\\\\\\\\"type\\\\\\\\\\\\\\\": \\\\\\\\\\\\\\\"Microsoft.DPrep.ParseDelimitedBlock\\\\\\\\\\\\\\\", \\\\\\\\\\\\\\\"arguments\\\\\\\\\\\\\\\": {\\\\\\\\\\\\\\\"columnHeadersMode\\\\\\\\\\\\\\\": 1, \\\\\\\\\\\\\\\"fileEncoding\\\\\\\\\\\\\\\": 0, \\\\\\\\\\\\\\\"handleQuotedLineBreaks\\\\\\\\\\\\\\\": false, \\\\\\\\\\\\\\\"preview\\\\\\\\\\\\\\\": false, \\\\\\\\\\\\\\\"separator\\\\\\\\\\\\\\\": \\\\\\\\\\\\\\\",\\\\\\\\\\\\\\\", \\\\\\\\\\\\\\\"skipRows\\\\\\\\\\\\\\\": 0, \\\\\\\\\\\\\\\"skipRowsMode\\\\\\\\\\\\\\\": 0}, \\\\\\\\\\\\\\\"localData\\\\\\\\\\\\\\\": {}, \\\\\\\\\\\\\\\"isEnabled\\\\\\\\\\\\\\\": true, \\\\\\\\\\\\\\\"name\\\\\\\\\\\\\\\": null, \\\\\\\\\\\\\\\"annotation\\\\\\\\\\\\\\\": null}, {\\\\\\\\\\\\\\\"id\\\\\\\\\\\\\\\": \\\\\\\\\\\\\\\"b12c0f06-9539-41c4-aa58-0eddcdd16dba\\\\\\\\\\\\\\\", \\\\\\\\\\\\\\\"type\\\\\\\\\\\\\\\": \\\\\\\\\\\\\\\"Microsoft.DPrep.DropColumnsBlock\\\\\\\\\\\\\\\", \\\\\\\\\\\\\\\"arguments\\\\\\\\\\\\\\\": {\\\\\\\\\\\\\\\"columns\\\\\\\\\\\\\\\": {\\\\\\\\\\\\\\\"type\\\\\\\\\\\\\\\": 0, \\\\\\\\\\\\\\\"details\\\\\\\\\\\\\\\": {\\\\\\\\\\\\\\\"selectedColumns\\\\\\\\\\\\\\\": [\\\\\\\\\\\\\\\"Path\\\\\\\\\\\\\\\"]}}}, \\\\\\\\\\\\\\\"localData\\\\\\\\\\\\\\\": {}, \\\\\\\\\\\\\\\"isEnabled\\\\\\\\\\\\\\\": true, \\\\\\\\\\\\\\\"name\\\\\\\\\\\\\\\": null, \\\\\\\\\\\\\\\"annotation\\\\\\\\\\\\\\\": null}, {\\\\\\\\\\\\\\\"id\\\\\\\\\\\\\\\": \\\\\\\\\\\\\\\"0a498b4e-b306-4945-b901-66b1c3df3003\\\\\\\\\\\\\\\", \\\\\\\\\\\\\\\"type\\\\\\\\\\\\\\\": \\\\\\\\\\\\\\\"Microsoft.DPrep.SetColumnTypesBlock\\\\\\\\\\\\\\\", \\\\\\\\\\\\\\\"arguments\\\\\\\\\\\\\\\": {\\\\\\\\\\\\\\\"columnConversion\\\\\\\\\\\\\\\": [{\\\\\\\\\\\\\\\"column\\\\\\\\\\\\\\\": {\\\\\\\\\\\\\\\"type\\\\\\\\\\\\\\\": 2, \\\\\\\\\\\\\\\"details\\\\\\\\\\\\\\\": {\\\\\\\\\\\\\\\"selectedColumn\\\\\\\\\\\\\\\": \\\\\\\\\\\\\\\"Path\\\\\\\\\\\\\\\"}}, \\\\\\\\\\\\\\\"typeProperty\\\\\\\\\\\\\\\": 0}, {\\\\\\\\\\\\\\\"column\\\\\\\\\\\\\\\": {\\\\\\\\\\\\\\\"type\\\\\\\\\\\\\\\": 2, \\\\\\\\\\\\\\\"details\\\\\\\\\\\\\\\": {\\\\\\\\\\\\\\\"selectedColumn\\\\\\\\\\\\\\\": \\\\\\\\\\\\\\\"Pregnancies\\\\\\\\\\\\\\\"}}, \\\\\\\\\\\\\\\"typeProperty\\\\\\\\\\\\\\\": 2}, {\\\\\\\\\\\\\\\"column\\\\\\\\\\\\\\\": {\\\\\\\\\\\\\\\"type\\\\\\\\\\\\\\\": 2, \\\\\\\\\\\\\\\"details\\\\\\\\\\\\\\\": {\\\\\\\\\\\\\\\"selectedColumn\\\\\\\\\\\\\\\": \\\\\\\\\\\\\\\"Glucose\\\\\\\\\\\\\\\"}}, \\\\\\\\\\\\\\\"typeProperty\\\\\\\\\\\\\\\": 2}, {\\\\\\\\\\\\\\\"column\\\\\\\\\\\\\\\": {\\\\\\\\\\\\\\\"type\\\\\\\\\\\\\\\": 2, \\\\\\\\\\\\\\\"details\\\\\\\\\\\\\\\": {\\\\\\\\\\\\\\\"selectedColumn\\\\\\\\\\\\\\\": \\\\\\\\\\\\\\\"BloodPressure\\\\\\\\\\\\\\\"}}, \\\\\\\\\\\\\\\"typeProperty\\\\\\\\\\\\\\\": 2}, {\\\\\\\\\\\\\\\"column\\\\\\\\\\\\\\\": {\\\\\\\\\\\\\\\"type\\\\\\\\\\\\\\\": 2, \\\\\\\\\\\\\\\"details\\\\\\\\\\\\\\\": {\\\\\\\\\\\\\\\"selectedColumn\\\\\\\\\\\\\\\": \\\\\\\\\\\\\\\"SkinThickness\\\\\\\\\\\\\\\"}}, \\\\\\\\\\\\\\\"typeProperty\\\\\\\\\\\\\\\": 2}, {\\\\\\\\\\\\\\\"column\\\\\\\\\\\\\\\": {\\\\\\\\\\\\\\\"type\\\\\\\\\\\\\\\": 2, \\\\\\\\\\\\\\\"details\\\\\\\\\\\\\\\": {\\\\\\\\\\\\\\\"selectedColumn\\\\\\\\\\\\\\\": \\\\\\\\\\\\\\\"Insulin\\\\\\\\\\\\\\\"}}, \\\\\\\\\\\\\\\"typeProperty\\\\\\\\\\\\\\\": 2}, {\\\\\\\\\\\\\\\"column\\\\\\\\\\\\\\\": {\\\\\\\\\\\\\\\"type\\\\\\\\\\\\\\\": 2, \\\\\\\\\\\\\\\"details\\\\\\\\\\\\\\\": {\\\\\\\\\\\\\\\"selectedColumn\\\\\\\\\\\\\\\": \\\\\\\\\\\\\\\"BMI\\\\\\\\\\\\\\\"}}, \\\\\\\\\\\\\\\"typeProperty\\\\\\\\\\\\\\\": 3}, {\\\\\\\\\\\\\\\"column\\\\\\\\\\\\\\\": {\\\\\\\\\\\\\\\"type\\\\\\\\\\\\\\\": 2, \\\\\\\\\\\\\\\"details\\\\\\\\\\\\\\\": {\\\\\\\\\\\\\\\"selectedColumn\\\\\\\\\\\\\\\": \\\\\\\\\\\\\\\"DiabetesPedigreeFunction\\\\\\\\\\\\\\\"}}, \\\\\\\\\\\\\\\"typeProperty\\\\\\\\\\\\\\\": 3}, {\\\\\\\\\\\\\\\"column\\\\\\\\\\\\\\\": {\\\\\\\\\\\\\\\"type\\\\\\\\\\\\\\\": 2, \\\\\\\\\\\\\\\"details\\\\\\\\\\\\\\\": {\\\\\\\\\\\\\\\"selectedColumn\\\\\\\\\\\\\\\": \\\\\\\\\\\\\\\"Age\\\\\\\\\\\\\\\"}}, \\\\\\\\\\\\\\\"typeProperty\\\\\\\\\\\\\\\": 2}, {\\\\\\\\\\\\\\\"column\\\\\\\\\\\\\\\": {\\\\\\\\\\\\\\\"type\\\\\\\\\\\\\\\": 2, \\\\\\\\\\\\\\\"details\\\\\\\\\\\\\\\": {\\\\\\\\\\\\\\\"selectedColumn\\\\\\\\\\\\\\\": \\\\\\\\\\\\\\\"Outcome\\\\\\\\\\\\\\\"}}, \\\\\\\\\\\\\\\"typeProperty\\\\\\\\\\\\\\\": 2}]}, \\\\\\\\\\\\\\\"localData\\\\\\\\\\\\\\\": {}, \\\\\\\\\\\\\\\"isEnabled\\\\\\\\\\\\\\\": true, \\\\\\\\\\\\\\\"name\\\\\\\\\\\\\\\": null, \\\\\\\\\\\\\\\"annotation\\\\\\\\\\\\\\\": null}], \\\\\\\\\\\\\\\"inspectors\\\\\\\\\\\\\\\": [], \\\\\\\\\\\\\\\"meta\\\\\\\\\\\\\\\": {\\\\\\\\\\\\\\\"savedDatasetId\\\\\\\\\\\\\\\": \\\\\\\\\\\\\\\"b25e8e44-9f84-4a94-b89b-e4e3a906e144\\\\\\\\\\\\\\\", \\\\\\\\\\\\\\\"datasetType\\\\\\\\\\\\\\\": \\\\\\\\\\\\\\\"tabular\\\\\\\\\\\\\\\", \\\\\\\\\\\\\\\"subscriptionId\\\\\\\\\\\\\\\": \\\\\\\\\\\\\\\"5a4ab2ba-6c51-4805-8155-58759ad589d8\\\\\\\\\\\\\\\", \\\\\\\\\\\\\\\"workspaceId\\\\\\\\\\\\\\\": \\\\\\\\\\\\\\\"8caa5286-3f16-4383-86c8-04eb82969de3\\\\\\\\\\\\\\\", \\\\\\\\\\\\\\\"workspaceLocation\\\\\\\\\\\\\\\": \\\\\\\\\\\\\\\"southcentralus\\\\\\\\\\\\\\\"}}\\\\\\\", \\\\\\\"activities\\\\\\\": 0}\", \"EnableSubsampling\": null, \"runTemplate\": \"AutoML\", \"azureml.runsource\": \"automl\", \"display_task_type\": \"classification\", \"dependencies_versions\": \"{\\\"azureml-widgets\\\": \\\"1.20.0\\\", \\\"azureml-train\\\": \\\"1.20.0\\\", \\\"azureml-train-restclients-hyperdrive\\\": \\\"1.20.0\\\", \\\"azureml-train-core\\\": \\\"1.20.0\\\", \\\"azureml-train-automl\\\": \\\"1.20.0\\\", \\\"azureml-train-automl-runtime\\\": \\\"1.20.0\\\", \\\"azureml-train-automl-client\\\": \\\"1.20.0\\\", \\\"azureml-tensorboard\\\": \\\"1.20.0\\\", \\\"azureml-telemetry\\\": \\\"1.20.0\\\", \\\"azureml-sdk\\\": \\\"1.20.0\\\", \\\"azureml-samples\\\": \\\"0+unknown\\\", \\\"azureml-pipeline\\\": \\\"1.20.0\\\", \\\"azureml-pipeline-steps\\\": \\\"1.20.0\\\", \\\"azureml-pipeline-core\\\": \\\"1.20.0\\\", \\\"azureml-opendatasets\\\": \\\"1.20.0\\\", \\\"azureml-model-management-sdk\\\": \\\"1.0.1b6.post1\\\", \\\"azureml-mlflow\\\": \\\"1.20.0.post1\\\", \\\"azureml-interpret\\\": \\\"1.20.0\\\", \\\"azureml-explain-model\\\": \\\"1.20.0\\\", \\\"azureml-defaults\\\": \\\"1.20.0\\\", \\\"azureml-dataset-runtime\\\": \\\"1.20.0\\\", \\\"azureml-dataprep\\\": \\\"2.7.3\\\", \\\"azureml-dataprep-rslex\\\": \\\"1.5.0\\\", \\\"azureml-dataprep-native\\\": \\\"27.0.0\\\", \\\"azureml-datadrift\\\": \\\"1.20.0\\\", \\\"azureml-core\\\": \\\"1.20.0\\\", \\\"azureml-contrib-services\\\": \\\"1.20.0\\\", \\\"azureml-contrib-server\\\": \\\"1.20.0\\\", \\\"azureml-contrib-reinforcementlearning\\\": \\\"1.20.0\\\", \\\"azureml-contrib-pipeline-steps\\\": \\\"1.20.0\\\", \\\"azureml-contrib-notebook\\\": \\\"1.20.0\\\", \\\"azureml-contrib-interpret\\\": \\\"1.20.0\\\", \\\"azureml-contrib-gbdt\\\": \\\"1.20.0\\\", \\\"azureml-contrib-fairness\\\": \\\"1.20.0\\\", \\\"azureml-contrib-dataset\\\": \\\"1.20.0\\\", \\\"azureml-cli-common\\\": \\\"1.20.0\\\", \\\"azureml-automl-runtime\\\": \\\"1.20.0\\\", \\\"azureml-automl-core\\\": \\\"1.20.0\\\", \\\"azureml-accel-models\\\": \\\"1.20.0\\\"}\", \"_aml_system_scenario_identification\": \"Remote.Parent\", \"ClientType\": \"SDK\", \"environment_cpu_name\": \"AzureML-AutoML\", \"environment_cpu_label\": \"prod\", \"environment_gpu_name\": \"AzureML-AutoML-GPU\", \"environment_gpu_label\": \"prod\", \"root_attribution\": \"automl\", \"attribution\": \"AutoML\", \"Orchestrator\": \"AutoML\", \"CancelUri\": \"https://southcentralus.experiments.azureml.net/jasmine/v1.0/subscriptions/5a4ab2ba-6c51-4805-8155-58759ad589d8/resourceGroups/aml-quickstarts-138319/providers/Microsoft.MachineLearningServices/workspaces/quick-starts-ws-138319/experimentids/402e1450-3ff8-43d1-803e-5fa81c6b048c/cancel/AutoML_2e34a5c8-2ccd-4f6f-9bb7-b404fd6cc042\", \"ClientSdkVersion\": \"1.21.0\", \"snapshotId\": \"00000000-0000-0000-0000-000000000000\", \"SetupRunId\": \"AutoML_2e34a5c8-2ccd-4f6f-9bb7-b404fd6cc042_setup\", \"SetupRunContainerId\": \"dcid.AutoML_2e34a5c8-2ccd-4f6f-9bb7-b404fd6cc042_setup\", \"FeaturizationRunJsonPath\": \"featurizer_container.json\", \"FeaturizationRunId\": \"AutoML_2e34a5c8-2ccd-4f6f-9bb7-b404fd6cc042_featurize\", \"ProblemInfoJsonString\": \"{\\\"dataset_num_categorical\\\": 0, \\\"is_sparse\\\": true, \\\"subsampling\\\": false, \\\"dataset_classes\\\": 2, \\\"dataset_features\\\": 24, \\\"dataset_samples\\\": 768, \\\"single_frequency_class_detected\\\": false}\", \"ModelExplainRunId\": \"AutoML_2e34a5c8-2ccd-4f6f-9bb7-b404fd6cc042_ModelExplain\"}, \"tags\": {\"model_explain_run\": \"best_run\", \"_aml_system_azureml.automlComponent\": \"AutoML\", \"pipeline_id\": \"\", \"score\": \"\", \"predicted_cost\": \"\", \"fit_time\": \"\", \"training_percent\": \"\", \"iteration\": \"\", \"run_preprocessor\": \"\", \"run_algorithm\": \"\", \"dynamic_whitelisting_iterations\": \"<25>;<30>;\", \"automl_best_child_run_id\": \"AutoML_2e34a5c8-2ccd-4f6f-9bb7-b404fd6cc042_33\"}, \"end_time_utc\": \"2021-02-10T07:47:53.252482Z\", \"status\": \"Completed\", \"log_files\": {}, \"log_groups\": [], \"run_duration\": \"0:29:53\"}, \"child_runs\": [{\"run_id\": \"AutoML_2e34a5c8-2ccd-4f6f-9bb7-b404fd6cc042_0\", \"run_number\": 98, \"metric\": null, \"status\": \"Completed\", \"run_type\": \"azureml.scriptrun\", \"training_percent\": \"100\", \"start_time\": \"2021-02-10T07:28:24.02926Z\", \"end_time\": \"2021-02-10T07:29:26.641149Z\", \"created_time\": \"2021-02-10T07:28:11.924065Z\", \"created_time_dt\": \"2021-02-10T07:28:11.924065Z\", \"duration\": \"0:01:14\", \"iteration\": \"0\", \"goal\": \"accuracy_max\", \"run_name\": \"MaxAbsScaler, LightGBM\", \"run_properties\": \"copy=True\", \"primary_metric\": 0.73961039, \"best_metric\": 0.73961039}, {\"run_id\": \"AutoML_2e34a5c8-2ccd-4f6f-9bb7-b404fd6cc042_2\", \"run_number\": 99, \"metric\": null, \"status\": \"Completed\", \"run_type\": \"azureml.scriptrun\", \"training_percent\": \"100\", \"start_time\": \"2021-02-10T07:29:33.908836Z\", \"end_time\": \"2021-02-10T07:30:29.687113Z\", \"created_time\": \"2021-02-10T07:28:12.081953Z\", \"created_time_dt\": \"2021-02-10T07:28:12.081953Z\", \"duration\": \"0:02:17\", \"iteration\": \"2\", \"goal\": \"accuracy_max\", \"run_name\": \"MaxAbsScaler, RandomForest\", \"run_properties\": \"copy=True\", \"primary_metric\": 0.75003418, \"best_metric\": 0.76956596}, {\"run_id\": \"AutoML_2e34a5c8-2ccd-4f6f-9bb7-b404fd6cc042_1\", \"run_number\": 100, \"metric\": null, \"status\": \"Completed\", \"run_type\": \"azureml.scriptrun\", \"training_percent\": \"100\", \"start_time\": \"2021-02-10T07:30:34.379303Z\", \"end_time\": \"2021-02-10T07:31:33.843389Z\", \"created_time\": \"2021-02-10T07:28:12.111321Z\", \"created_time_dt\": \"2021-02-10T07:28:12.111321Z\", \"duration\": \"0:03:21\", \"iteration\": \"1\", \"goal\": \"accuracy_max\", \"run_name\": \"MaxAbsScaler, XGBoostClassifier\", \"run_properties\": \"copy=True\", \"primary_metric\": 0.76956596, \"best_metric\": 0.76956596}, {\"run_id\": \"AutoML_2e34a5c8-2ccd-4f6f-9bb7-b404fd6cc042_3\", \"run_number\": 101, \"metric\": null, \"status\": \"Completed\", \"run_type\": \"azureml.scriptrun\", \"training_percent\": \"100\", \"start_time\": \"2021-02-10T07:31:38.703554Z\", \"end_time\": \"2021-02-10T07:32:47.087662Z\", \"created_time\": \"2021-02-10T07:29:27.992432Z\", \"created_time_dt\": \"2021-02-10T07:29:27.992432Z\", \"duration\": \"0:03:19\", \"iteration\": \"3\", \"goal\": \"accuracy_max\", \"run_name\": \"MaxAbsScaler, RandomForest\", \"run_properties\": \"copy=True\", \"primary_metric\": 0.73308271, \"best_metric\": 0.76956596}, {\"run_id\": \"AutoML_2e34a5c8-2ccd-4f6f-9bb7-b404fd6cc042_4\", \"run_number\": 102, \"metric\": null, \"status\": \"Completed\", \"run_type\": \"azureml.scriptrun\", \"training_percent\": \"100\", \"start_time\": \"2021-02-10T07:31:40.963301Z\", \"end_time\": \"2021-02-10T07:35:20.877516Z\", \"created_time\": \"2021-02-10T07:30:32.27874Z\", \"created_time_dt\": \"2021-02-10T07:30:32.27874Z\", \"duration\": \"0:04:48\", \"iteration\": \"4\", \"goal\": \"accuracy_max\", \"run_name\": \"MaxAbsScaler, RandomForest\", \"run_properties\": \"copy=True\", \"primary_metric\": 0.75652768, \"best_metric\": 0.76956596}, {\"run_id\": \"AutoML_2e34a5c8-2ccd-4f6f-9bb7-b404fd6cc042_5\", \"run_number\": 103, \"metric\": null, \"status\": \"Completed\", \"run_type\": \"azureml.scriptrun\", \"training_percent\": \"100\", \"start_time\": \"2021-02-10T07:31:50.164619Z\", \"end_time\": \"2021-02-10T07:35:20.021023Z\", \"created_time\": \"2021-02-10T07:31:37.079232Z\", \"created_time_dt\": \"2021-02-10T07:31:37.079232Z\", \"duration\": \"0:03:42\", \"iteration\": \"5\", \"goal\": \"accuracy_max\", \"run_name\": \"MaxAbsScaler, RandomForest\", \"run_properties\": \"copy=True\", \"primary_metric\": 0.74615516, \"best_metric\": 0.76956596}, {\"run_id\": \"AutoML_2e34a5c8-2ccd-4f6f-9bb7-b404fd6cc042_6\", \"run_number\": 104, \"metric\": null, \"status\": \"Completed\", \"run_type\": \"azureml.scriptrun\", \"training_percent\": \"100\", \"start_time\": \"2021-02-10T07:33:00.156257Z\", \"end_time\": \"2021-02-10T07:33:54.673123Z\", \"created_time\": \"2021-02-10T07:32:49.351397Z\", \"created_time_dt\": \"2021-02-10T07:32:49.351397Z\", \"duration\": \"0:01:05\", \"iteration\": \"6\", \"goal\": \"accuracy_max\", \"run_name\": \"SparseNormalizer, XGBoostClassifier\", \"run_properties\": \"<azureml.automl.runtime.shared.model_wrappers.SparseNormalizer object at 0x7f0e10674d30\", \"primary_metric\": 0.71093643, \"best_metric\": 0.76956596}, {\"run_id\": \"AutoML_2e34a5c8-2ccd-4f6f-9bb7-b404fd6cc042_7\", \"run_number\": 105, \"metric\": null, \"status\": \"Completed\", \"run_type\": \"azureml.scriptrun\", \"training_percent\": \"100\", \"start_time\": \"2021-02-10T07:34:10.252808Z\", \"end_time\": \"2021-02-10T07:35:14.858256Z\", \"created_time\": \"2021-02-10T07:33:56.849933Z\", \"created_time_dt\": \"2021-02-10T07:33:56.849933Z\", \"duration\": \"0:01:18\", \"iteration\": \"7\", \"goal\": \"accuracy_max\", \"run_name\": \"MaxAbsScaler, LogisticRegression\", \"run_properties\": \"copy=True\", \"primary_metric\": 0.77218045, \"best_metric\": 0.77218045}, {\"run_id\": \"AutoML_2e34a5c8-2ccd-4f6f-9bb7-b404fd6cc042_8\", \"run_number\": 106, \"metric\": null, \"status\": \"Completed\", \"run_type\": \"azureml.scriptrun\", \"training_percent\": \"100\", \"start_time\": \"2021-02-10T07:35:28.867592Z\", \"end_time\": \"2021-02-10T07:36:22.859906Z\", \"created_time\": \"2021-02-10T07:35:17.834126Z\", \"created_time_dt\": \"2021-02-10T07:35:17.834126Z\", \"duration\": \"0:01:05\", \"iteration\": \"8\", \"goal\": \"accuracy_max\", \"run_name\": \"StandardScalerWrapper, RandomForest\", \"run_properties\": \"<azureml.automl.runtime.shared.model_wrappers.StandardScalerWrapper object at 0x7f5c38b7d400\", \"primary_metric\": 0.77216336, \"best_metric\": 0.77218045}, {\"run_id\": \"AutoML_2e34a5c8-2ccd-4f6f-9bb7-b404fd6cc042_9\", \"run_number\": 107, \"metric\": null, \"status\": \"Completed\", \"run_type\": \"azureml.scriptrun\", \"training_percent\": \"100\", \"start_time\": \"2021-02-10T07:35:36.530809Z\", \"end_time\": \"2021-02-10T07:36:32.161283Z\", \"created_time\": \"2021-02-10T07:35:22.652028Z\", \"created_time_dt\": \"2021-02-10T07:35:22.652028Z\", \"duration\": \"0:01:09\", \"iteration\": \"9\", \"goal\": \"accuracy_max\", \"run_name\": \"MaxAbsScaler, RandomForest\", \"run_properties\": \"copy=True\", \"primary_metric\": 0.75915926, \"best_metric\": 0.77218045}, {\"run_id\": \"AutoML_2e34a5c8-2ccd-4f6f-9bb7-b404fd6cc042_10\", \"run_number\": 108, \"metric\": null, \"status\": \"Completed\", \"run_type\": \"azureml.scriptrun\", \"training_percent\": \"100\", \"start_time\": \"2021-02-10T07:35:39.947187Z\", \"end_time\": \"2021-02-10T07:36:36.966897Z\", \"created_time\": \"2021-02-10T07:35:27.354458Z\", \"created_time_dt\": \"2021-02-10T07:35:27.354458Z\", \"duration\": \"0:01:09\", \"iteration\": \"10\", \"goal\": \"accuracy_max\", \"run_name\": \"SparseNormalizer, XGBoostClassifier\", \"run_properties\": \"<azureml.automl.runtime.shared.model_wrappers.SparseNormalizer object at 0x7fe62a1486d8\", \"primary_metric\": 0.65625427, \"best_metric\": 0.77218045}, {\"run_id\": \"AutoML_2e34a5c8-2ccd-4f6f-9bb7-b404fd6cc042_11\", \"run_number\": 109, \"metric\": null, \"status\": \"Completed\", \"run_type\": \"azureml.scriptrun\", \"training_percent\": \"100\", \"start_time\": \"2021-02-10T07:36:38.123528Z\", \"end_time\": \"2021-02-10T07:37:39.255913Z\", \"created_time\": \"2021-02-10T07:36:25.252593Z\", \"created_time_dt\": \"2021-02-10T07:36:25.252593Z\", \"duration\": \"0:01:14\", \"iteration\": \"11\", \"goal\": \"accuracy_max\", \"run_name\": \"MaxAbsScaler, ExtremeRandomTrees\", \"run_properties\": \"copy=True\", \"primary_metric\": 0.74480519, \"best_metric\": 0.77218045}, {\"run_id\": \"AutoML_2e34a5c8-2ccd-4f6f-9bb7-b404fd6cc042_12\", \"run_number\": 110, \"metric\": null, \"status\": \"Completed\", \"run_type\": \"azureml.scriptrun\", \"training_percent\": \"100\", \"start_time\": \"2021-02-10T07:36:47.351688Z\", \"end_time\": \"2021-02-10T07:37:43.420045Z\", \"created_time\": \"2021-02-10T07:36:34.587817Z\", \"created_time_dt\": \"2021-02-10T07:36:34.587817Z\", \"duration\": \"0:01:08\", \"iteration\": \"12\", \"goal\": \"accuracy_max\", \"run_name\": \"MaxAbsScaler, LightGBM\", \"run_properties\": \"copy=True\", \"primary_metric\": 0.75133288, \"best_metric\": 0.77218045}, {\"run_id\": \"AutoML_2e34a5c8-2ccd-4f6f-9bb7-b404fd6cc042_13\", \"run_number\": 111, \"metric\": null, \"status\": \"Completed\", \"run_type\": \"azureml.scriptrun\", \"training_percent\": \"100\", \"start_time\": \"2021-02-10T07:36:52.349887Z\", \"end_time\": \"2021-02-10T07:37:53.752446Z\", \"created_time\": \"2021-02-10T07:36:39.203361Z\", \"created_time_dt\": \"2021-02-10T07:36:39.203361Z\", \"duration\": \"0:01:14\", \"iteration\": \"13\", \"goal\": \"accuracy_max\", \"run_name\": \"MaxAbsScaler, LightGBM\", \"run_properties\": \"copy=True\", \"primary_metric\": 0.76044087, \"best_metric\": 0.77218045}, {\"run_id\": \"AutoML_2e34a5c8-2ccd-4f6f-9bb7-b404fd6cc042_14\", \"run_number\": 112, \"metric\": null, \"status\": \"Completed\", \"run_type\": \"azureml.scriptrun\", \"training_percent\": \"100\", \"start_time\": \"2021-02-10T07:37:58.948731Z\", \"end_time\": \"2021-02-10T07:39:00.743229Z\", \"created_time\": \"2021-02-10T07:37:41.534478Z\", \"created_time_dt\": \"2021-02-10T07:37:41.534478Z\", \"duration\": \"0:01:19\", \"iteration\": \"14\", \"goal\": \"accuracy_max\", \"run_name\": \"SparseNormalizer, XGBoostClassifier\", \"run_properties\": \"<azureml.automl.runtime.shared.model_wrappers.SparseNormalizer object at 0x7fdf9033b438\", \"primary_metric\": 0.70827068, \"best_metric\": 0.77218045}, {\"run_id\": \"AutoML_2e34a5c8-2ccd-4f6f-9bb7-b404fd6cc042_15\", \"run_number\": 113, \"metric\": null, \"status\": \"Completed\", \"run_type\": \"azureml.scriptrun\", \"training_percent\": \"100\", \"start_time\": \"2021-02-10T07:38:03.343522Z\", \"end_time\": \"2021-02-10T07:38:58.61896Z\", \"created_time\": \"2021-02-10T07:37:49.810584Z\", \"created_time_dt\": \"2021-02-10T07:37:49.810584Z\", \"duration\": \"0:01:08\", \"iteration\": \"15\", \"goal\": \"accuracy_max\", \"run_name\": \"TruncatedSVDWrapper, XGBoostClassifier\", \"run_properties\": \"n_components=0.6036842105263158, random_state=None\", \"primary_metric\": 0.75926179, \"best_metric\": 0.77218045}, {\"run_id\": \"AutoML_2e34a5c8-2ccd-4f6f-9bb7-b404fd6cc042_16\", \"run_number\": 114, \"metric\": null, \"status\": \"Completed\", \"run_type\": \"azureml.scriptrun\", \"training_percent\": \"100\", \"start_time\": \"2021-02-10T07:38:10.218303Z\", \"end_time\": \"2021-02-10T07:39:05.81034Z\", \"created_time\": \"2021-02-10T07:37:56.14572Z\", \"created_time_dt\": \"2021-02-10T07:37:56.14572Z\", \"duration\": \"0:01:09\", \"iteration\": \"16\", \"goal\": \"accuracy_max\", \"run_name\": \"MaxAbsScaler, LightGBM\", \"run_properties\": \"copy=True\", \"primary_metric\": 0.77089884, \"best_metric\": 0.77218045}, {\"run_id\": \"AutoML_2e34a5c8-2ccd-4f6f-9bb7-b404fd6cc042_17\", \"run_number\": 115, \"metric\": null, \"status\": \"Completed\", \"run_type\": \"azureml.scriptrun\", \"training_percent\": \"100\", \"start_time\": \"2021-02-10T07:39:12.858187Z\", \"end_time\": \"2021-02-10T07:40:09.636856Z\", \"created_time\": \"2021-02-10T07:39:00.761072Z\", \"created_time_dt\": \"2021-02-10T07:39:00.761072Z\", \"duration\": \"0:01:08\", \"iteration\": \"17\", \"goal\": \"accuracy_max\", \"run_name\": \"SparseNormalizer, XGBoostClassifier\", \"run_properties\": \"<azureml.automl.runtime.shared.model_wrappers.SparseNormalizer object at 0x7fa706ed5198\", \"primary_metric\": 0.70700615, \"best_metric\": 0.77218045}, {\"run_id\": \"AutoML_2e34a5c8-2ccd-4f6f-9bb7-b404fd6cc042_18\", \"run_number\": 116, \"metric\": null, \"status\": \"Completed\", \"run_type\": \"azureml.scriptrun\", \"training_percent\": \"100\", \"start_time\": \"2021-02-10T07:39:19.913575Z\", \"end_time\": \"2021-02-10T07:40:15.416334Z\", \"created_time\": \"2021-02-10T07:39:06.272254Z\", \"created_time_dt\": \"2021-02-10T07:39:06.272254Z\", \"duration\": \"0:01:09\", \"iteration\": \"18\", \"goal\": \"accuracy_max\", \"run_name\": \"SparseNormalizer, XGBoostClassifier\", \"run_properties\": \"<azureml.automl.runtime.shared.model_wrappers.SparseNormalizer object at 0x7f804075da58\", \"primary_metric\": 0.70960355, \"best_metric\": 0.77218045}, {\"run_id\": \"AutoML_2e34a5c8-2ccd-4f6f-9bb7-b404fd6cc042_19\", \"run_number\": 117, \"metric\": null, \"status\": \"Completed\", \"run_type\": \"azureml.scriptrun\", \"training_percent\": \"100\", \"start_time\": \"2021-02-10T07:39:24.063967Z\", \"end_time\": \"2021-02-10T07:40:18.81672Z\", \"created_time\": \"2021-02-10T07:39:11.769701Z\", \"created_time_dt\": \"2021-02-10T07:39:11.769701Z\", \"duration\": \"0:01:07\", \"iteration\": \"19\", \"goal\": \"accuracy_max\", \"run_name\": \"MaxAbsScaler, LightGBM\", \"run_properties\": \"copy=True\", \"primary_metric\": 0.73306562, \"best_metric\": 0.77218045}, {\"run_id\": \"AutoML_2e34a5c8-2ccd-4f6f-9bb7-b404fd6cc042_20\", \"run_number\": 118, \"metric\": null, \"status\": \"Completed\", \"run_type\": \"azureml.scriptrun\", \"training_percent\": \"100\", \"start_time\": \"2021-02-10T07:40:23.524408Z\", \"end_time\": \"2021-02-10T07:41:24.049691Z\", \"created_time\": \"2021-02-10T07:40:12.301365Z\", \"created_time_dt\": \"2021-02-10T07:40:12.301365Z\", \"duration\": \"0:01:11\", \"iteration\": \"20\", \"goal\": \"accuracy_max\", \"run_name\": \"SparseNormalizer, XGBoostClassifier\", \"run_properties\": \"<azureml.automl.runtime.shared.model_wrappers.SparseNormalizer object at 0x7f66e85e0400\", \"primary_metric\": 0.70842447, \"best_metric\": 0.77218045}, {\"run_id\": \"AutoML_2e34a5c8-2ccd-4f6f-9bb7-b404fd6cc042_21\", \"run_number\": 119, \"metric\": null, \"status\": \"Completed\", \"run_type\": \"azureml.scriptrun\", \"training_percent\": \"100\", \"start_time\": \"2021-02-10T07:40:31.010573Z\", \"end_time\": \"2021-02-10T07:41:27.879156Z\", \"created_time\": \"2021-02-10T07:40:18.928193Z\", \"created_time_dt\": \"2021-02-10T07:40:18.928193Z\", \"duration\": \"0:01:08\", \"iteration\": \"21\", \"goal\": \"accuracy_max\", \"run_name\": \"MaxAbsScaler, LightGBM\", \"run_properties\": \"copy=True\", \"primary_metric\": 0.75915926, \"best_metric\": 0.77218045}, {\"run_id\": \"AutoML_2e34a5c8-2ccd-4f6f-9bb7-b404fd6cc042_22\", \"run_number\": 120, \"metric\": null, \"status\": \"Completed\", \"run_type\": \"azureml.scriptrun\", \"training_percent\": \"100\", \"start_time\": \"2021-02-10T07:40:40.399303Z\", \"end_time\": \"2021-02-10T07:41:33.046545Z\", \"created_time\": \"2021-02-10T07:40:25.489148Z\", \"created_time_dt\": \"2021-02-10T07:40:25.489148Z\", \"duration\": \"0:01:07\", \"iteration\": \"22\", \"goal\": \"accuracy_max\", \"run_name\": \"StandardScalerWrapper, XGBoostClassifier\", \"run_properties\": \"<azureml.automl.runtime.shared.model_wrappers.StandardScalerWrapper object at 0x7f40362dca58\", \"primary_metric\": 0.7617054, \"best_metric\": 0.77218045}, {\"run_id\": \"AutoML_2e34a5c8-2ccd-4f6f-9bb7-b404fd6cc042_23\", \"run_number\": 121, \"metric\": null, \"status\": \"Completed\", \"run_type\": \"azureml.scriptrun\", \"training_percent\": \"100\", \"start_time\": \"2021-02-10T07:41:39.301466Z\", \"end_time\": \"2021-02-10T07:42:41.880429Z\", \"created_time\": \"2021-02-10T07:41:27.251558Z\", \"created_time_dt\": \"2021-02-10T07:41:27.251558Z\", \"duration\": \"0:01:14\", \"iteration\": \"23\", \"goal\": \"accuracy_max\", \"run_name\": \"MaxAbsScaler, ExtremeRandomTrees\", \"run_properties\": \"copy=True\", \"primary_metric\": 0.73181818, \"best_metric\": 0.77218045}, {\"run_id\": \"AutoML_2e34a5c8-2ccd-4f6f-9bb7-b404fd6cc042_24\", \"run_number\": 122, \"metric\": null, \"status\": \"Completed\", \"run_type\": \"azureml.scriptrun\", \"training_percent\": \"100\", \"start_time\": \"2021-02-10T07:41:44.097332Z\", \"end_time\": \"2021-02-10T07:42:41.301935Z\", \"created_time\": \"2021-02-10T07:41:31.612815Z\", \"created_time_dt\": \"2021-02-10T07:41:31.612815Z\", \"duration\": \"0:01:09\", \"iteration\": \"24\", \"goal\": \"accuracy_max\", \"run_name\": \"MaxAbsScaler, LightGBM\", \"run_properties\": \"copy=True\", \"primary_metric\": 0.74876965, \"best_metric\": 0.77218045}, {\"run_id\": \"AutoML_2e34a5c8-2ccd-4f6f-9bb7-b404fd6cc042_25\", \"run_number\": 123, \"metric\": null, \"status\": \"Completed\", \"run_type\": \"azureml.scriptrun\", \"training_percent\": \"100\", \"start_time\": \"2021-02-10T07:41:50.004006Z\", \"end_time\": \"2021-02-10T07:42:47.659059Z\", \"created_time\": \"2021-02-10T07:41:36.873882Z\", \"created_time_dt\": \"2021-02-10T07:41:36.873882Z\", \"duration\": \"0:01:10\", \"iteration\": \"25\", \"goal\": \"accuracy_max\", \"run_name\": \"SparseNormalizer, LogisticRegression\", \"run_properties\": \"<azureml.automl.runtime.shared.model_wrappers.SparseNormalizer object at 0x7faa1ac70400\", \"primary_metric\": 0.52469241, \"best_metric\": 0.77218045}, {\"run_id\": \"AutoML_2e34a5c8-2ccd-4f6f-9bb7-b404fd6cc042_26\", \"run_number\": 124, \"metric\": null, \"status\": \"Completed\", \"run_type\": \"azureml.scriptrun\", \"training_percent\": \"100\", \"start_time\": \"2021-02-10T07:42:56.198384Z\", \"end_time\": \"2021-02-10T07:43:50.703563Z\", \"created_time\": \"2021-02-10T07:42:44.111267Z\", \"created_time_dt\": \"2021-02-10T07:42:44.111267Z\", \"duration\": \"0:01:06\", \"iteration\": \"26\", \"goal\": \"accuracy_max\", \"run_name\": \"StandardScalerWrapper, ExtremeRandomTrees\", \"run_properties\": \"<azureml.automl.runtime.shared.model_wrappers.StandardScalerWrapper object at 0x7f17340ca7f0\", \"primary_metric\": 0.73696172, \"best_metric\": 0.77218045}, {\"run_id\": \"AutoML_2e34a5c8-2ccd-4f6f-9bb7-b404fd6cc042_27\", \"run_number\": 125, \"metric\": null, \"status\": \"Completed\", \"run_type\": \"azureml.scriptrun\", \"training_percent\": \"100\", \"start_time\": \"2021-02-10T07:42:57.162823Z\", \"end_time\": \"2021-02-10T07:43:59.377654Z\", \"created_time\": \"2021-02-10T07:42:44.265047Z\", \"created_time_dt\": \"2021-02-10T07:42:44.265047Z\", \"duration\": \"0:01:15\", \"iteration\": \"27\", \"goal\": \"accuracy_max\", \"run_name\": \"MaxAbsScaler, RandomForest\", \"run_properties\": \"copy=True\", \"primary_metric\": 0.73051948, \"best_metric\": 0.77218045}, {\"run_id\": \"AutoML_2e34a5c8-2ccd-4f6f-9bb7-b404fd6cc042_28\", \"run_number\": 126, \"metric\": null, \"status\": \"Completed\", \"run_type\": \"azureml.scriptrun\", \"training_percent\": \"100\", \"start_time\": \"2021-02-10T07:43:02.041513Z\", \"end_time\": \"2021-02-10T07:43:58.04779Z\", \"created_time\": \"2021-02-10T07:42:49.903632Z\", \"created_time_dt\": \"2021-02-10T07:42:49.903632Z\", \"duration\": \"0:01:08\", \"iteration\": \"28\", \"goal\": \"accuracy_max\", \"run_name\": \"MaxAbsScaler, LightGBM\", \"run_properties\": \"copy=True\", \"primary_metric\": 0.75391319, \"best_metric\": 0.77218045}, {\"run_id\": \"AutoML_2e34a5c8-2ccd-4f6f-9bb7-b404fd6cc042_29\", \"run_number\": 127, \"metric\": null, \"status\": \"Completed\", \"run_type\": \"azureml.scriptrun\", \"training_percent\": \"100\", \"start_time\": \"2021-02-10T07:44:09.571919Z\", \"end_time\": \"2021-02-10T07:45:08.937638Z\", \"created_time\": \"2021-02-10T07:43:53.125181Z\", \"created_time_dt\": \"2021-02-10T07:43:53.125181Z\", \"duration\": \"0:01:15\", \"iteration\": \"29\", \"goal\": \"accuracy_max\", \"run_name\": \"MaxAbsScaler, LightGBM\", \"run_properties\": \"copy=True\", \"primary_metric\": 0.73176692, \"best_metric\": 0.77218045}, {\"run_id\": \"AutoML_2e34a5c8-2ccd-4f6f-9bb7-b404fd6cc042_30\", \"run_number\": 128, \"metric\": null, \"status\": \"Completed\", \"run_type\": \"azureml.scriptrun\", \"training_percent\": \"100\", \"start_time\": \"2021-02-10T07:44:15.017835Z\", \"end_time\": \"2021-02-10T07:45:10.58204Z\", \"created_time\": \"2021-02-10T07:44:01.644065Z\", \"created_time_dt\": \"2021-02-10T07:44:01.644065Z\", \"duration\": \"0:01:08\", \"iteration\": \"30\", \"goal\": \"accuracy_max\", \"run_name\": \"SparseNormalizer, LogisticRegression\", \"run_properties\": \"<azureml.automl.runtime.shared.model_wrappers.SparseNormalizer object at 0x7ff6e475f198\", \"primary_metric\": 0.65097403, \"best_metric\": 0.77218045}, {\"run_id\": \"AutoML_2e34a5c8-2ccd-4f6f-9bb7-b404fd6cc042_31\", \"run_number\": 129, \"metric\": null, \"status\": \"Completed\", \"run_type\": \"azureml.scriptrun\", \"training_percent\": \"100\", \"start_time\": \"2021-02-10T07:44:17.85865Z\", \"end_time\": \"2021-02-10T07:45:11.281816Z\", \"created_time\": \"2021-02-10T07:44:06.12365Z\", \"created_time_dt\": \"2021-02-10T07:44:06.12365Z\", \"duration\": \"0:01:05\", \"iteration\": \"31\", \"goal\": \"accuracy_max\", \"run_name\": \"StandardScalerWrapper, LightGBM\", \"run_properties\": \"<azureml.automl.runtime.shared.model_wrappers.StandardScalerWrapper object at 0x7f95e20cef98\", \"primary_metric\": 0.75657895, \"best_metric\": 0.77218045}, {\"run_id\": \"AutoML_2e34a5c8-2ccd-4f6f-9bb7-b404fd6cc042_32\", \"run_number\": 130, \"metric\": null, \"status\": \"Canceled\", \"run_type\": \"azureml.scriptrun\", \"training_percent\": \"100\", \"start_time\": \"2021-02-10T07:45:10.680437Z\", \"end_time\": \"2021-02-10T07:45:30.216154Z\", \"created_time\": \"2021-02-10T07:45:10.680437Z\", \"created_time_dt\": \"2021-02-10T07:45:10.680437Z\", \"duration\": \"0:00:19\", \"iteration\": \"32\", \"goal\": null, \"run_name\": \"Canceled\", \"run_properties\": null}, {\"run_id\": \"AutoML_2e34a5c8-2ccd-4f6f-9bb7-b404fd6cc042_33\", \"run_number\": 131, \"metric\": null, \"status\": \"Completed\", \"run_type\": \"azureml.scriptrun\", \"training_percent\": \"100\", \"start_time\": \"2021-02-10T07:45:44.288764Z\", \"end_time\": \"2021-02-10T07:47:44.497186Z\", \"created_time\": \"2021-02-10T07:45:30.981551Z\", \"created_time_dt\": \"2021-02-10T07:45:30.981551Z\", \"duration\": \"0:02:13\", \"iteration\": \"33\", \"goal\": \"accuracy_max\", \"run_name\": \"VotingEnsemble\", \"run_properties\": \"classification_labels=None,\\n                              estimators=[('7',\\n                                           Pipeline(memory=None,\\n                                                    steps=[('maxabsscaler',\\n                                                            MaxAbsScaler(copy=True\", \"primary_metric\": 0.79171224, \"best_metric\": 0.79171224}, {\"run_id\": \"AutoML_2e34a5c8-2ccd-4f6f-9bb7-b404fd6cc042_34\", \"run_number\": 132, \"metric\": null, \"status\": \"Completed\", \"run_type\": \"azureml.scriptrun\", \"training_percent\": \"100\", \"start_time\": \"2021-02-10T07:45:45.951516Z\", \"end_time\": \"2021-02-10T07:47:35.548383Z\", \"created_time\": \"2021-02-10T07:45:31.490081Z\", \"created_time_dt\": \"2021-02-10T07:45:31.490081Z\", \"duration\": \"0:02:04\", \"iteration\": \"34\", \"goal\": \"accuracy_max\", \"run_name\": \"StackEnsemble\", \"run_properties\": \"base_learners=[('7',\\n                                        Pipeline(memory=None,\\n                                                 steps=[('maxabsscaler',\\n                                                         MaxAbsScaler(copy=True\", \"primary_metric\": 0.77481203, \"best_metric\": 0.79171224}], \"children_metrics\": {\"categories\": [0], \"series\": {\"weighted_accuracy\": [{\"categories\": [\"0\", \"1\", \"2\", \"3\", \"4\", \"5\", \"6\", \"7\", \"8\", \"9\", \"10\", \"11\", \"12\", \"13\", \"14\", \"15\", \"16\", \"17\", \"18\", \"19\", \"20\", \"21\", \"22\", \"23\", \"24\", \"25\", \"26\", \"27\", \"28\", \"29\", \"30\", \"31\", \"33\", \"34\"], \"mode\": \"markers\", \"name\": \"weighted_accuracy\", \"stepped\": false, \"type\": \"scatter\", \"data\": [0.7658219048734536, 0.7945054420815822, 0.7965554193934745, 0.7959466003967922, 0.7588280586668029, 0.7455875761800986, 0.7561378396592249, 0.8134343281219086, 0.8166492712383301, 0.7946653697671072, 0.7246129410924865, 0.809621886582598, 0.8052930951671726, 0.8113882191560735, 0.7600763703648391, 0.7944578511756976, 0.8165529525624298, 0.7534895921813489, 0.7493091745849279, 0.8085928743383526, 0.7507166721804097, 0.7850646541632311, 0.7889737864241447, 0.8013500878445962, 0.8126935517378179, 0.5452273877701731, 0.7390106199311243, 0.7284397324508216, 0.7885036135724666, 0.8094829138093222, 0.7681437801712667, 0.7887702218743644, 0.8300971052343599, 0.808506072031213]}, {\"categories\": [\"0\", \"1\", \"2\", \"3\", \"4\", \"5\", \"6\", \"7\", \"8\", \"9\", \"10\", \"11\", \"12\", \"13\", \"14\", \"15\", \"16\", \"17\", \"18\", \"19\", \"20\", \"21\", \"22\", \"23\", \"24\", \"25\", \"26\", \"27\", \"28\", \"29\", \"30\", \"31\", \"33\", \"34\"], \"mode\": \"lines\", \"name\": \"weighted_accuracy_max\", \"stepped\": true, \"type\": \"scatter\", \"data\": [0.7658219048734536, 0.7945054420815822, 0.7965554193934745, 0.7965554193934745, 0.7965554193934745, 0.7965554193934745, 0.7965554193934745, 0.8134343281219086, 0.8166492712383301, 0.8166492712383301, 0.8166492712383301, 0.8166492712383301, 0.8166492712383301, 0.8166492712383301, 0.8166492712383301, 0.8166492712383301, 0.8166492712383301, 0.8166492712383301, 0.8166492712383301, 0.8166492712383301, 0.8166492712383301, 0.8166492712383301, 0.8166492712383301, 0.8166492712383301, 0.8166492712383301, 0.8166492712383301, 0.8166492712383301, 0.8166492712383301, 0.8166492712383301, 0.8166492712383301, 0.8166492712383301, 0.8166492712383301, 0.8300971052343599, 0.8300971052343599]}], \"balanced_accuracy\": [{\"categories\": [\"0\", \"1\", \"2\", \"3\", \"4\", \"5\", \"6\", \"7\", \"8\", \"9\", \"10\", \"11\", \"12\", \"13\", \"14\", \"15\", \"16\", \"17\", \"18\", \"19\", \"20\", \"21\", \"22\", \"23\", \"24\", \"25\", \"26\", \"27\", \"28\", \"29\", \"30\", \"31\", \"33\", \"34\"], \"mode\": \"markers\", \"name\": \"balanced_accuracy\", \"stepped\": false, \"type\": \"scatter\", \"data\": [0.7053588221478819, 0.7368196523334581, 0.6879614337956038, 0.6523836559178486, 0.7537674901347526, 0.7451190391259994, 0.6528136452558332, 0.7183740442903159, 0.7134438667316274, 0.7120235077597854, 0.5729027139124356, 0.6613914554141678, 0.6806272836187788, 0.6943342140359465, 0.6416351992339469, 0.7132170100392574, 0.7110688029020394, 0.6483957304876298, 0.6573501701906346, 0.6360725222816687, 0.6532926744197491, 0.7247083615491766, 0.7265931483053889, 0.6430047115646159, 0.6662977388626221, 0.5, 0.7325291034261883, 0.7325223387207282, 0.7098527528768852, 0.6318125665844814, 0.5, 0.7131984282601664, 0.7410349082594572, 0.7298666370414936]}, {\"categories\": [\"0\", \"1\", \"2\", \"3\", \"4\", \"5\", \"6\", \"7\", \"8\", \"9\", \"10\", \"11\", \"12\", \"13\", \"14\", \"15\", \"16\", \"17\", \"18\", \"19\", \"20\", \"21\", \"22\", \"23\", \"24\", \"25\", \"26\", \"27\", \"28\", \"29\", \"30\", \"31\", \"33\", \"34\"], \"mode\": \"lines\", \"name\": \"balanced_accuracy_max\", \"stepped\": true, \"type\": \"scatter\", \"data\": [0.7053588221478819, 0.7368196523334581, 0.7368196523334581, 0.7368196523334581, 0.7537674901347526, 0.7537674901347526, 0.7537674901347526, 0.7537674901347526, 0.7537674901347526, 0.7537674901347526, 0.7537674901347526, 0.7537674901347526, 0.7537674901347526, 0.7537674901347526, 0.7537674901347526, 0.7537674901347526, 0.7537674901347526, 0.7537674901347526, 0.7537674901347526, 0.7537674901347526, 0.7537674901347526, 0.7537674901347526, 0.7537674901347526, 0.7537674901347526, 0.7537674901347526, 0.7537674901347526, 0.7537674901347526, 0.7537674901347526, 0.7537674901347526, 0.7537674901347526, 0.7537674901347526, 0.7537674901347526, 0.7537674901347526, 0.7537674901347526]}], \"recall_score_weighted\": [{\"categories\": [\"0\", \"1\", \"2\", \"3\", \"4\", \"5\", \"6\", \"7\", \"8\", \"9\", \"10\", \"11\", \"12\", \"13\", \"14\", \"15\", \"16\", \"17\", \"18\", \"19\", \"20\", \"21\", \"22\", \"23\", \"24\", \"25\", \"26\", \"27\", \"28\", \"29\", \"30\", \"31\", \"33\", \"34\"], \"mode\": \"markers\", \"name\": \"recall_score_weighted\", \"stepped\": false, \"type\": \"scatter\", \"data\": [0.7396103896103897, 0.7695659603554341, 0.7500341763499658, 0.7330827067669173, 0.7565276828434724, 0.7461551606288448, 0.7109364319890636, 0.7721804511278197, 0.7721633629528366, 0.7591592617908407, 0.6562542720437458, 0.7448051948051948, 0.7513328776486672, 0.760440874914559, 0.7082706766917293, 0.7592617908407383, 0.7708988380041012, 0.7070061517429939, 0.7096035543403965, 0.7330656185919344, 0.7084244702665755, 0.7591592617908407, 0.7617053998632947, 0.7318181818181818, 0.7487696514012303, 0.5246924128503077, 0.7369617224880384, 0.7305194805194806, 0.7539131920710869, 0.7317669172932331, 0.650974025974026, 0.756578947368421, 0.7917122351332878, 0.7748120300751881]}, {\"categories\": [\"0\", \"1\", \"2\", \"3\", \"4\", \"5\", \"6\", \"7\", \"8\", \"9\", \"10\", \"11\", \"12\", \"13\", \"14\", \"15\", \"16\", \"17\", \"18\", \"19\", \"20\", \"21\", \"22\", \"23\", \"24\", \"25\", \"26\", \"27\", \"28\", \"29\", \"30\", \"31\", \"33\", \"34\"], \"mode\": \"lines\", \"name\": \"recall_score_weighted_max\", \"stepped\": true, \"type\": \"scatter\", \"data\": [0.7396103896103897, 0.7695659603554341, 0.7695659603554341, 0.7695659603554341, 0.7695659603554341, 0.7695659603554341, 0.7695659603554341, 0.7721804511278197, 0.7721804511278197, 0.7721804511278197, 0.7721804511278197, 0.7721804511278197, 0.7721804511278197, 0.7721804511278197, 0.7721804511278197, 0.7721804511278197, 0.7721804511278197, 0.7721804511278197, 0.7721804511278197, 0.7721804511278197, 0.7721804511278197, 0.7721804511278197, 0.7721804511278197, 0.7721804511278197, 0.7721804511278197, 0.7721804511278197, 0.7721804511278197, 0.7721804511278197, 0.7721804511278197, 0.7721804511278197, 0.7721804511278197, 0.7721804511278197, 0.7917122351332878, 0.7917122351332878]}], \"precision_score_micro\": [{\"categories\": [\"0\", \"1\", \"2\", \"3\", \"4\", \"5\", \"6\", \"7\", \"8\", \"9\", \"10\", \"11\", \"12\", \"13\", \"14\", \"15\", \"16\", \"17\", \"18\", \"19\", \"20\", \"21\", \"22\", \"23\", \"24\", \"25\", \"26\", \"27\", \"28\", \"29\", \"30\", \"31\", \"33\", \"34\"], \"mode\": \"markers\", \"name\": \"precision_score_micro\", \"stepped\": false, \"type\": \"scatter\", \"data\": [0.7396103896103897, 0.7695659603554341, 0.7500341763499658, 0.7330827067669173, 0.7565276828434724, 0.7461551606288448, 0.7109364319890636, 0.7721804511278197, 0.7721633629528366, 0.7591592617908407, 0.6562542720437458, 0.7448051948051948, 0.7513328776486672, 0.760440874914559, 0.7082706766917293, 0.7592617908407383, 0.7708988380041012, 0.7070061517429939, 0.7096035543403965, 0.7330656185919344, 0.7084244702665755, 0.7591592617908407, 0.7617053998632947, 0.7318181818181818, 0.7487696514012303, 0.5246924128503077, 0.7369617224880384, 0.7305194805194806, 0.7539131920710869, 0.7317669172932331, 0.650974025974026, 0.756578947368421, 0.7917122351332878, 0.7748120300751881]}, {\"categories\": [\"0\", \"1\", \"2\", \"3\", \"4\", \"5\", \"6\", \"7\", \"8\", \"9\", \"10\", \"11\", \"12\", \"13\", \"14\", \"15\", \"16\", \"17\", \"18\", \"19\", \"20\", \"21\", \"22\", \"23\", \"24\", \"25\", \"26\", \"27\", \"28\", \"29\", \"30\", \"31\", \"33\", \"34\"], \"mode\": \"lines\", \"name\": \"precision_score_micro_max\", \"stepped\": true, \"type\": \"scatter\", \"data\": [0.7396103896103897, 0.7695659603554341, 0.7695659603554341, 0.7695659603554341, 0.7695659603554341, 0.7695659603554341, 0.7695659603554341, 0.7721804511278197, 0.7721804511278197, 0.7721804511278197, 0.7721804511278197, 0.7721804511278197, 0.7721804511278197, 0.7721804511278197, 0.7721804511278197, 0.7721804511278197, 0.7721804511278197, 0.7721804511278197, 0.7721804511278197, 0.7721804511278197, 0.7721804511278197, 0.7721804511278197, 0.7721804511278197, 0.7721804511278197, 0.7721804511278197, 0.7721804511278197, 0.7721804511278197, 0.7721804511278197, 0.7721804511278197, 0.7721804511278197, 0.7721804511278197, 0.7721804511278197, 0.7917122351332878, 0.7917122351332878]}], \"average_precision_score_macro\": [{\"categories\": [\"0\", \"1\", \"2\", \"3\", \"4\", \"5\", \"6\", \"7\", \"8\", \"9\", \"10\", \"11\", \"12\", \"13\", \"14\", \"15\", \"16\", \"17\", \"18\", \"19\", \"20\", \"21\", \"22\", \"23\", \"24\", \"25\", \"26\", \"27\", \"28\", \"29\", \"30\", \"31\", \"33\", \"34\"], \"mode\": \"markers\", \"name\": \"average_precision_score_macro\", \"stepped\": false, \"type\": \"scatter\", \"data\": [0.7742813465855433, 0.817147214521911, 0.8023998245573839, 0.7952145272108775, 0.7979230956452315, 0.7883331287856453, 0.7558562702621184, 0.804445296628319, 0.8162846317902088, 0.8106315926857232, 0.6537308408160547, 0.8048618958764395, 0.805408547894577, 0.8101165974664706, 0.7312464530766429, 0.7862792364379545, 0.811692498631103, 0.7483310885138981, 0.7181078991127148, 0.8092272180177836, 0.7282552814249638, 0.801290855131932, 0.8057942807417164, 0.800911466077493, 0.8129713329711967, 0.5, 0.7992115987080519, 0.7896287134939954, 0.8023063678380641, 0.8135450492391326, 0.6103650640956928, 0.8182129908398948, 0.825196905404716, 0.8246656049756231]}, {\"categories\": [\"0\", \"1\", \"2\", \"3\", \"4\", \"5\", \"6\", \"7\", \"8\", \"9\", \"10\", \"11\", \"12\", \"13\", \"14\", \"15\", \"16\", \"17\", \"18\", \"19\", \"20\", \"21\", \"22\", \"23\", \"24\", \"25\", \"26\", \"27\", \"28\", \"29\", \"30\", \"31\", \"33\", \"34\"], \"mode\": \"lines\", \"name\": \"average_precision_score_macro_max\", \"stepped\": true, \"type\": \"scatter\", \"data\": [0.7742813465855433, 0.817147214521911, 0.817147214521911, 0.817147214521911, 0.817147214521911, 0.817147214521911, 0.817147214521911, 0.817147214521911, 0.817147214521911, 0.817147214521911, 0.817147214521911, 0.817147214521911, 0.817147214521911, 0.817147214521911, 0.817147214521911, 0.817147214521911, 0.817147214521911, 0.817147214521911, 0.817147214521911, 0.817147214521911, 0.817147214521911, 0.817147214521911, 0.817147214521911, 0.817147214521911, 0.817147214521911, 0.817147214521911, 0.817147214521911, 0.817147214521911, 0.817147214521911, 0.817147214521911, 0.817147214521911, 0.8182129908398948, 0.825196905404716, 0.825196905404716]}], \"f1_score_macro\": [{\"categories\": [\"0\", \"1\", \"2\", \"3\", \"4\", \"5\", \"6\", \"7\", \"8\", \"9\", \"10\", \"11\", \"12\", \"13\", \"14\", \"15\", \"16\", \"17\", \"18\", \"19\", \"20\", \"21\", \"22\", \"23\", \"24\", \"25\", \"26\", \"27\", \"28\", \"29\", \"30\", \"31\", \"33\", \"34\"], \"mode\": \"markers\", \"name\": \"f1_score_macro\", \"stepped\": false, \"type\": \"scatter\", \"data\": [0.7060869524729553, 0.7386733613551352, 0.6959614708628448, 0.6570027443490402, 0.7391235980434328, 0.7290648553062069, 0.65722672339472, 0.7276024863921442, 0.7237895855975713, 0.7180798589900866, 0.5349582615701339, 0.6674128111170569, 0.6905343977101263, 0.7044064207650071, 0.6450000578266681, 0.7195740735295028, 0.7206275383173736, 0.6495981695117654, 0.6613225676402734, 0.6342802681725559, 0.6557897845392116, 0.7264749485355815, 0.7283710683531013, 0.6437224369675516, 0.6731181635940625, 0.3366225198738514, 0.7185710593455414, 0.7140508472895422, 0.7140993935847102, 0.6289200389290219, 0.3936285549782772, 0.7181725475284757, 0.7514437218766657, 0.7366839587620309]}, {\"categories\": [\"0\", \"1\", \"2\", \"3\", \"4\", \"5\", \"6\", \"7\", \"8\", \"9\", \"10\", \"11\", \"12\", \"13\", \"14\", \"15\", \"16\", \"17\", \"18\", \"19\", \"20\", \"21\", \"22\", \"23\", \"24\", \"25\", \"26\", \"27\", \"28\", \"29\", \"30\", \"31\", \"33\", \"34\"], \"mode\": \"lines\", \"name\": \"f1_score_macro_max\", \"stepped\": true, \"type\": \"scatter\", \"data\": [0.7060869524729553, 0.7386733613551352, 0.7386733613551352, 0.7386733613551352, 0.7391235980434328, 0.7391235980434328, 0.7391235980434328, 0.7391235980434328, 0.7391235980434328, 0.7391235980434328, 0.7391235980434328, 0.7391235980434328, 0.7391235980434328, 0.7391235980434328, 0.7391235980434328, 0.7391235980434328, 0.7391235980434328, 0.7391235980434328, 0.7391235980434328, 0.7391235980434328, 0.7391235980434328, 0.7391235980434328, 0.7391235980434328, 0.7391235980434328, 0.7391235980434328, 0.7391235980434328, 0.7391235980434328, 0.7391235980434328, 0.7391235980434328, 0.7391235980434328, 0.7391235980434328, 0.7391235980434328, 0.7514437218766657, 0.7514437218766657]}], \"AUC_weighted\": [{\"categories\": [\"0\", \"1\", \"2\", \"3\", \"4\", \"5\", \"6\", \"7\", \"8\", \"9\", \"10\", \"11\", \"12\", \"13\", \"14\", \"15\", \"16\", \"17\", \"18\", \"19\", \"20\", \"21\", \"22\", \"23\", \"24\", \"25\", \"26\", \"27\", \"28\", \"29\", \"30\", \"31\", \"33\", \"34\"], \"mode\": \"markers\", \"name\": \"AUC_weighted\", \"stepped\": false, \"type\": \"scatter\", \"data\": [0.7981013916226355, 0.8366210317228242, 0.8199769092339153, 0.8144807773007153, 0.8240151838181831, 0.8064150713738705, 0.7672168327682274, 0.8172457183324194, 0.8313227331757066, 0.8298039271915902, 0.6899760736950882, 0.8224478203356125, 0.8263983791240428, 0.8308679220285343, 0.7406164910325406, 0.7947765034543794, 0.8309582369150175, 0.7602996128027792, 0.7311334050506705, 0.8296308592296822, 0.7309958667070554, 0.8236916961854579, 0.8311575046707145, 0.8190156942409255, 0.8339173867572643, 0.5, 0.8186784476171795, 0.8115118163147595, 0.8275389307666605, 0.831546658624695, 0.6137115252632618, 0.8366157940842405, 0.8424909761514636, 0.8426936238456196]}, {\"categories\": [\"0\", \"1\", \"2\", \"3\", \"4\", \"5\", \"6\", \"7\", \"8\", \"9\", \"10\", \"11\", \"12\", \"13\", \"14\", \"15\", \"16\", \"17\", \"18\", \"19\", \"20\", \"21\", \"22\", \"23\", \"24\", \"25\", \"26\", \"27\", \"28\", \"29\", \"30\", \"31\", \"33\", \"34\"], \"mode\": \"lines\", \"name\": \"AUC_weighted_max\", \"stepped\": true, \"type\": \"scatter\", \"data\": [0.7981013916226355, 0.8366210317228242, 0.8366210317228242, 0.8366210317228242, 0.8366210317228242, 0.8366210317228242, 0.8366210317228242, 0.8366210317228242, 0.8366210317228242, 0.8366210317228242, 0.8366210317228242, 0.8366210317228242, 0.8366210317228242, 0.8366210317228242, 0.8366210317228242, 0.8366210317228242, 0.8366210317228242, 0.8366210317228242, 0.8366210317228242, 0.8366210317228242, 0.8366210317228242, 0.8366210317228242, 0.8366210317228242, 0.8366210317228242, 0.8366210317228242, 0.8366210317228242, 0.8366210317228242, 0.8366210317228242, 0.8366210317228242, 0.8366210317228242, 0.8366210317228242, 0.8366210317228242, 0.8424909761514636, 0.8426936238456196]}], \"recall_score_micro\": [{\"categories\": [\"0\", \"1\", \"2\", \"3\", \"4\", \"5\", \"6\", \"7\", \"8\", \"9\", \"10\", \"11\", \"12\", \"13\", \"14\", \"15\", \"16\", \"17\", \"18\", \"19\", \"20\", \"21\", \"22\", \"23\", \"24\", \"25\", \"26\", \"27\", \"28\", \"29\", \"30\", \"31\", \"33\", \"34\"], \"mode\": \"markers\", \"name\": \"recall_score_micro\", \"stepped\": false, \"type\": \"scatter\", \"data\": [0.7396103896103897, 0.7695659603554341, 0.7500341763499658, 0.7330827067669173, 0.7565276828434724, 0.7461551606288448, 0.7109364319890636, 0.7721804511278197, 0.7721633629528366, 0.7591592617908407, 0.6562542720437458, 0.7448051948051948, 0.7513328776486672, 0.760440874914559, 0.7082706766917293, 0.7592617908407383, 0.7708988380041012, 0.7070061517429939, 0.7096035543403965, 0.7330656185919344, 0.7084244702665755, 0.7591592617908407, 0.7617053998632947, 0.7318181818181818, 0.7487696514012303, 0.5246924128503077, 0.7369617224880384, 0.7305194805194806, 0.7539131920710869, 0.7317669172932331, 0.650974025974026, 0.756578947368421, 0.7917122351332878, 0.7748120300751881]}, {\"categories\": [\"0\", \"1\", \"2\", \"3\", \"4\", \"5\", \"6\", \"7\", \"8\", \"9\", \"10\", \"11\", \"12\", \"13\", \"14\", \"15\", \"16\", \"17\", \"18\", \"19\", \"20\", \"21\", \"22\", \"23\", \"24\", \"25\", \"26\", \"27\", \"28\", \"29\", \"30\", \"31\", \"33\", \"34\"], \"mode\": \"lines\", \"name\": \"recall_score_micro_max\", \"stepped\": true, \"type\": \"scatter\", \"data\": [0.7396103896103897, 0.7695659603554341, 0.7695659603554341, 0.7695659603554341, 0.7695659603554341, 0.7695659603554341, 0.7695659603554341, 0.7721804511278197, 0.7721804511278197, 0.7721804511278197, 0.7721804511278197, 0.7721804511278197, 0.7721804511278197, 0.7721804511278197, 0.7721804511278197, 0.7721804511278197, 0.7721804511278197, 0.7721804511278197, 0.7721804511278197, 0.7721804511278197, 0.7721804511278197, 0.7721804511278197, 0.7721804511278197, 0.7721804511278197, 0.7721804511278197, 0.7721804511278197, 0.7721804511278197, 0.7721804511278197, 0.7721804511278197, 0.7721804511278197, 0.7721804511278197, 0.7721804511278197, 0.7917122351332878, 0.7917122351332878]}], \"norm_macro_recall\": [{\"categories\": [\"0\", \"1\", \"2\", \"3\", \"4\", \"5\", \"6\", \"7\", \"8\", \"9\", \"10\", \"11\", \"12\", \"13\", \"14\", \"15\", \"16\", \"17\", \"18\", \"19\", \"20\", \"21\", \"22\", \"23\", \"24\", \"25\", \"26\", \"27\", \"28\", \"29\", \"30\", \"31\", \"33\", \"34\"], \"mode\": \"markers\", \"name\": \"norm_macro_recall\", \"stepped\": false, \"type\": \"scatter\", \"data\": [0.41071764429576385, 0.4736393046669162, 0.3759228675912077, 0.3047673118356974, 0.507534980269505, 0.490238078251999, 0.30562729051166637, 0.436748088580632, 0.4268877334632547, 0.4240470155195709, 0.14910136050369333, 0.3227829108283357, 0.36125456723755744, 0.38866842807189306, 0.2832703984678938, 0.4264340200785147, 0.422137605804079, 0.29679146097525966, 0.3147003403812693, 0.2721450445633372, 0.3065853488394983, 0.44941672309835334, 0.45318629661077753, 0.28600942312923194, 0.3325954777252441, 0.0, 0.46505820685237637, 0.4650446774414565, 0.4197055057537705, 0.26362513316896263, 0.0, 0.4263968565203326, 0.48206981651891445, 0.4597332740829872]}, {\"categories\": [\"0\", \"1\", \"2\", \"3\", \"4\", \"5\", \"6\", \"7\", \"8\", \"9\", \"10\", \"11\", \"12\", \"13\", \"14\", \"15\", \"16\", \"17\", \"18\", \"19\", \"20\", \"21\", \"22\", \"23\", \"24\", \"25\", \"26\", \"27\", \"28\", \"29\", \"30\", \"31\", \"33\", \"34\"], \"mode\": \"lines\", \"name\": \"norm_macro_recall_max\", \"stepped\": true, \"type\": \"scatter\", \"data\": [0.41071764429576385, 0.4736393046669162, 0.4736393046669162, 0.4736393046669162, 0.507534980269505, 0.507534980269505, 0.507534980269505, 0.507534980269505, 0.507534980269505, 0.507534980269505, 0.507534980269505, 0.507534980269505, 0.507534980269505, 0.507534980269505, 0.507534980269505, 0.507534980269505, 0.507534980269505, 0.507534980269505, 0.507534980269505, 0.507534980269505, 0.507534980269505, 0.507534980269505, 0.507534980269505, 0.507534980269505, 0.507534980269505, 0.507534980269505, 0.507534980269505, 0.507534980269505, 0.507534980269505, 0.507534980269505, 0.507534980269505, 0.507534980269505, 0.507534980269505, 0.507534980269505]}], \"AUC_macro\": [{\"categories\": [\"0\", \"1\", \"2\", \"3\", \"4\", \"5\", \"6\", \"7\", \"8\", \"9\", \"10\", \"11\", \"12\", \"13\", \"14\", \"15\", \"16\", \"17\", \"18\", \"19\", \"20\", \"21\", \"22\", \"23\", \"24\", \"25\", \"26\", \"27\", \"28\", \"29\", \"30\", \"31\", \"33\", \"34\"], \"mode\": \"markers\", \"name\": \"AUC_macro\", \"stepped\": false, \"type\": \"scatter\", \"data\": [0.7981013916226355, 0.8366210317228242, 0.8199769092339155, 0.8144807773007153, 0.8240151838181831, 0.8064150713738705, 0.7672168327682274, 0.8172457183324194, 0.8313227331757066, 0.8298039271915902, 0.6899760736950882, 0.8224478203356125, 0.8263983791240428, 0.8308679220285345, 0.7406164910325405, 0.7947765034543792, 0.8309582369150172, 0.7602996128027792, 0.7311334050506705, 0.8296308592296822, 0.7309958667070555, 0.8236916961854579, 0.8311575046707145, 0.8190156942409255, 0.8339173867572643, 0.5, 0.8186784476171795, 0.8115118163147595, 0.8275389307666605, 0.831546658624695, 0.6137115252632619, 0.8366157940842402, 0.8424909761514637, 0.8426936238456196]}, {\"categories\": [\"0\", \"1\", \"2\", \"3\", \"4\", \"5\", \"6\", \"7\", \"8\", \"9\", \"10\", \"11\", \"12\", \"13\", \"14\", \"15\", \"16\", \"17\", \"18\", \"19\", \"20\", \"21\", \"22\", \"23\", \"24\", \"25\", \"26\", \"27\", \"28\", \"29\", \"30\", \"31\", \"33\", \"34\"], \"mode\": \"lines\", \"name\": \"AUC_macro_max\", \"stepped\": true, \"type\": \"scatter\", \"data\": [0.7981013916226355, 0.8366210317228242, 0.8366210317228242, 0.8366210317228242, 0.8366210317228242, 0.8366210317228242, 0.8366210317228242, 0.8366210317228242, 0.8366210317228242, 0.8366210317228242, 0.8366210317228242, 0.8366210317228242, 0.8366210317228242, 0.8366210317228242, 0.8366210317228242, 0.8366210317228242, 0.8366210317228242, 0.8366210317228242, 0.8366210317228242, 0.8366210317228242, 0.8366210317228242, 0.8366210317228242, 0.8366210317228242, 0.8366210317228242, 0.8366210317228242, 0.8366210317228242, 0.8366210317228242, 0.8366210317228242, 0.8366210317228242, 0.8366210317228242, 0.8366210317228242, 0.8366210317228242, 0.8424909761514637, 0.8426936238456196]}], \"average_precision_score_weighted\": [{\"categories\": [\"0\", \"1\", \"2\", \"3\", \"4\", \"5\", \"6\", \"7\", \"8\", \"9\", \"10\", \"11\", \"12\", \"13\", \"14\", \"15\", \"16\", \"17\", \"18\", \"19\", \"20\", \"21\", \"22\", \"23\", \"24\", \"25\", \"26\", \"27\", \"28\", \"29\", \"30\", \"31\", \"33\", \"34\"], \"mode\": \"markers\", \"name\": \"average_precision_score_weighted\", \"stepped\": false, \"type\": \"scatter\", \"data\": [0.8088900198552287, 0.8456601055549087, 0.834495839016047, 0.8284417943741044, 0.8323181623923244, 0.822316967093544, 0.7884401733913479, 0.8325807389105246, 0.8466712866469915, 0.8387879943242235, 0.6969769479553236, 0.8375102746774654, 0.8383902945556188, 0.8410903806480243, 0.7674520308095898, 0.8163605947309943, 0.8423027635635657, 0.7804909508147334, 0.7543850135710837, 0.8397312707346923, 0.7624163136480389, 0.8349190512434788, 0.8368705574778135, 0.834559369806269, 0.8438496962885728, 0.5518061897270984, 0.8332537829611985, 0.8237305637396256, 0.8356277880186538, 0.8446526911922133, 0.6581318058689873, 0.8468255248019059, 0.8534105237279908, 0.8537395097470128]}, {\"categories\": [\"0\", \"1\", \"2\", \"3\", \"4\", \"5\", \"6\", \"7\", \"8\", \"9\", \"10\", \"11\", \"12\", \"13\", \"14\", \"15\", \"16\", \"17\", \"18\", \"19\", \"20\", \"21\", \"22\", \"23\", \"24\", \"25\", \"26\", \"27\", \"28\", \"29\", \"30\", \"31\", \"33\", \"34\"], \"mode\": \"lines\", \"name\": \"average_precision_score_weighted_max\", \"stepped\": true, \"type\": \"scatter\", \"data\": [0.8088900198552287, 0.8456601055549087, 0.8456601055549087, 0.8456601055549087, 0.8456601055549087, 0.8456601055549087, 0.8456601055549087, 0.8456601055549087, 0.8466712866469915, 0.8466712866469915, 0.8466712866469915, 0.8466712866469915, 0.8466712866469915, 0.8466712866469915, 0.8466712866469915, 0.8466712866469915, 0.8466712866469915, 0.8466712866469915, 0.8466712866469915, 0.8466712866469915, 0.8466712866469915, 0.8466712866469915, 0.8466712866469915, 0.8466712866469915, 0.8466712866469915, 0.8466712866469915, 0.8466712866469915, 0.8466712866469915, 0.8466712866469915, 0.8466712866469915, 0.8466712866469915, 0.8468255248019059, 0.8534105237279908, 0.8537395097470128]}], \"AUC_micro\": [{\"categories\": [\"0\", \"1\", \"2\", \"3\", \"4\", \"5\", \"6\", \"7\", \"8\", \"9\", \"10\", \"11\", \"12\", \"13\", \"14\", \"15\", \"16\", \"17\", \"18\", \"19\", \"20\", \"21\", \"22\", \"23\", \"24\", \"25\", \"26\", \"27\", \"28\", \"29\", \"30\", \"31\", \"33\", \"34\"], \"mode\": \"markers\", \"name\": \"AUC_micro\", \"stepped\": false, \"type\": \"scatter\", \"data\": [0.8242456616125537, 0.8556880349836874, 0.8382954703137637, 0.8217160598242639, 0.8344256177322695, 0.8094760763214195, 0.8002705725040868, 0.8435445593727062, 0.8501842760524003, 0.8477670380668005, 0.7391490818872819, 0.8236635014803522, 0.8374680195330806, 0.8450229814345096, 0.7810204922609139, 0.8277130719048913, 0.8468837411913552, 0.7928406036529215, 0.7759502275074999, 0.8212732973847034, 0.7777129171418573, 0.8437623664424219, 0.8503929258226035, 0.8164552467354926, 0.8369964361285367, 0.5246924128503077, 0.8206227699522838, 0.8072877153425413, 0.846021553409716, 0.8214103502713785, 0.7017198640748394, 0.8542159757266153, 0.8599509506304754, 0.8599052663349172]}, {\"categories\": [\"0\", \"1\", \"2\", \"3\", \"4\", \"5\", \"6\", \"7\", \"8\", \"9\", \"10\", \"11\", \"12\", \"13\", \"14\", \"15\", \"16\", \"17\", \"18\", \"19\", \"20\", \"21\", \"22\", \"23\", \"24\", \"25\", \"26\", \"27\", \"28\", \"29\", \"30\", \"31\", \"33\", \"34\"], \"mode\": \"lines\", \"name\": \"AUC_micro_max\", \"stepped\": true, \"type\": \"scatter\", \"data\": [0.8242456616125537, 0.8556880349836874, 0.8556880349836874, 0.8556880349836874, 0.8556880349836874, 0.8556880349836874, 0.8556880349836874, 0.8556880349836874, 0.8556880349836874, 0.8556880349836874, 0.8556880349836874, 0.8556880349836874, 0.8556880349836874, 0.8556880349836874, 0.8556880349836874, 0.8556880349836874, 0.8556880349836874, 0.8556880349836874, 0.8556880349836874, 0.8556880349836874, 0.8556880349836874, 0.8556880349836874, 0.8556880349836874, 0.8556880349836874, 0.8556880349836874, 0.8556880349836874, 0.8556880349836874, 0.8556880349836874, 0.8556880349836874, 0.8556880349836874, 0.8556880349836874, 0.8556880349836874, 0.8599509506304754, 0.8599509506304754]}], \"average_precision_score_micro\": [{\"categories\": [\"0\", \"1\", \"2\", \"3\", \"4\", \"5\", \"6\", \"7\", \"8\", \"9\", \"10\", \"11\", \"12\", \"13\", \"14\", \"15\", \"16\", \"17\", \"18\", \"19\", \"20\", \"21\", \"22\", \"23\", \"24\", \"25\", \"26\", \"27\", \"28\", \"29\", \"30\", \"31\", \"33\", \"34\"], \"mode\": \"markers\", \"name\": \"average_precision_score_micro\", \"stepped\": false, \"type\": \"scatter\", \"data\": [0.8229290538102472, 0.8549562655774119, 0.8431586770472232, 0.8285640193130888, 0.8353455482502804, 0.8110355858865408, 0.7998516433589408, 0.8391650292180802, 0.8535389891842817, 0.845525995657629, 0.7228501322698062, 0.8304743044646843, 0.8430913261156301, 0.8471894350025627, 0.7811549496164776, 0.8255049823440437, 0.8480211169312366, 0.7929909240077632, 0.7709383650104557, 0.8264298359114843, 0.7735536758624143, 0.8457518560452375, 0.8481450070833952, 0.8250140437584654, 0.8404958965926255, 0.5382493012887031, 0.8175393516883804, 0.8103624282812161, 0.848623908148119, 0.8293919681378288, 0.6944960081049749, 0.854363930917404, 0.8615529946260876, 0.8621969334086131]}, {\"categories\": [\"0\", \"1\", \"2\", \"3\", \"4\", \"5\", \"6\", \"7\", \"8\", \"9\", \"10\", \"11\", \"12\", \"13\", \"14\", \"15\", \"16\", \"17\", \"18\", \"19\", \"20\", \"21\", \"22\", \"23\", \"24\", \"25\", \"26\", \"27\", \"28\", \"29\", \"30\", \"31\", \"33\", \"34\"], \"mode\": \"lines\", \"name\": \"average_precision_score_micro_max\", \"stepped\": true, \"type\": \"scatter\", \"data\": [0.8229290538102472, 0.8549562655774119, 0.8549562655774119, 0.8549562655774119, 0.8549562655774119, 0.8549562655774119, 0.8549562655774119, 0.8549562655774119, 0.8549562655774119, 0.8549562655774119, 0.8549562655774119, 0.8549562655774119, 0.8549562655774119, 0.8549562655774119, 0.8549562655774119, 0.8549562655774119, 0.8549562655774119, 0.8549562655774119, 0.8549562655774119, 0.8549562655774119, 0.8549562655774119, 0.8549562655774119, 0.8549562655774119, 0.8549562655774119, 0.8549562655774119, 0.8549562655774119, 0.8549562655774119, 0.8549562655774119, 0.8549562655774119, 0.8549562655774119, 0.8549562655774119, 0.8549562655774119, 0.8615529946260876, 0.8621969334086131]}], \"matthews_correlation\": [{\"categories\": [\"0\", \"1\", \"2\", \"3\", \"4\", \"5\", \"6\", \"7\", \"8\", \"9\", \"10\", \"11\", \"12\", \"13\", \"14\", \"15\", \"16\", \"17\", \"18\", \"19\", \"20\", \"21\", \"22\", \"23\", \"24\", \"25\", \"26\", \"27\", \"28\", \"29\", \"30\", \"31\", \"33\", \"34\"], \"mode\": \"markers\", \"name\": \"matthews_correlation\", \"stepped\": false, \"type\": \"scatter\", \"data\": [0.4163237794803841, 0.4814237328189323, 0.4131779670740322, 0.37815190267564736, 0.4907096539977832, 0.47171565170928914, 0.33336166906048137, 0.47337297750095875, 0.47067135006625305, 0.448486781598515, 0.183266574241319, 0.40573689497649756, 0.4166773674086455, 0.4445055326426492, 0.31699424012761945, 0.44880091980348286, 0.4698686723908879, 0.32381034341147374, 0.33263053148039334, 0.37486875623416155, 0.32703838973820065, 0.4601845348951392, 0.46415451218981635, 0.37391822662574936, 0.41556195427057147, 0.0, 0.4494351072358791, 0.4456584878790368, 0.44071191626351897, 0.3728009335754777, 0.0, 0.4455747307247423, 0.5198154867628849, 0.48375220755188036]}, {\"categories\": [\"0\", \"1\", \"2\", \"3\", \"4\", \"5\", \"6\", \"7\", \"8\", \"9\", \"10\", \"11\", \"12\", \"13\", \"14\", \"15\", \"16\", \"17\", \"18\", \"19\", \"20\", \"21\", \"22\", \"23\", \"24\", \"25\", \"26\", \"27\", \"28\", \"29\", \"30\", \"31\", \"33\", \"34\"], \"mode\": \"lines\", \"name\": \"matthews_correlation_max\", \"stepped\": true, \"type\": \"scatter\", \"data\": [0.4163237794803841, 0.4814237328189323, 0.4814237328189323, 0.4814237328189323, 0.4907096539977832, 0.4907096539977832, 0.4907096539977832, 0.4907096539977832, 0.4907096539977832, 0.4907096539977832, 0.4907096539977832, 0.4907096539977832, 0.4907096539977832, 0.4907096539977832, 0.4907096539977832, 0.4907096539977832, 0.4907096539977832, 0.4907096539977832, 0.4907096539977832, 0.4907096539977832, 0.4907096539977832, 0.4907096539977832, 0.4907096539977832, 0.4907096539977832, 0.4907096539977832, 0.4907096539977832, 0.4907096539977832, 0.4907096539977832, 0.4907096539977832, 0.4907096539977832, 0.4907096539977832, 0.4907096539977832, 0.5198154867628849, 0.5198154867628849]}], \"f1_score_weighted\": [{\"categories\": [\"0\", \"1\", \"2\", \"3\", \"4\", \"5\", \"6\", \"7\", \"8\", \"9\", \"10\", \"11\", \"12\", \"13\", \"14\", \"15\", \"16\", \"17\", \"18\", \"19\", \"20\", \"21\", \"22\", \"23\", \"24\", \"25\", \"26\", \"27\", \"28\", \"29\", \"30\", \"31\", \"33\", \"34\"], \"mode\": \"markers\", \"name\": \"f1_score_weighted\", \"stepped\": false, \"type\": \"scatter\", \"data\": [0.7376523503026942, 0.7674902736086928, 0.7383645906556283, 0.7073052497573615, 0.7611963330569075, 0.7515636719653237, 0.6997226508527072, 0.7635906638788703, 0.7608245033784514, 0.7530445454911759, 0.6013846063749393, 0.717930476199282, 0.7345100059876573, 0.7448153187074459, 0.6911826957153062, 0.7533101648079529, 0.7582648041572068, 0.6928824655600725, 0.701687210611104, 0.6930014106773731, 0.6987428421296025, 0.757195154039674, 0.7586243687397648, 0.6982950471550488, 0.7215489031201837, 0.37613978595291236, 0.7421924468833765, 0.7365647368468821, 0.7482449639945774, 0.6888924913815383, 0.5146909419914976, 0.7520742529794507, 0.7833382379015064, 0.769080966326326]}, {\"categories\": [\"0\", \"1\", \"2\", \"3\", \"4\", \"5\", \"6\", \"7\", \"8\", \"9\", \"10\", \"11\", \"12\", \"13\", \"14\", \"15\", \"16\", \"17\", \"18\", \"19\", \"20\", \"21\", \"22\", \"23\", \"24\", \"25\", \"26\", \"27\", \"28\", \"29\", \"30\", \"31\", \"33\", \"34\"], \"mode\": \"lines\", \"name\": \"f1_score_weighted_max\", \"stepped\": true, \"type\": \"scatter\", \"data\": [0.7376523503026942, 0.7674902736086928, 0.7674902736086928, 0.7674902736086928, 0.7674902736086928, 0.7674902736086928, 0.7674902736086928, 0.7674902736086928, 0.7674902736086928, 0.7674902736086928, 0.7674902736086928, 0.7674902736086928, 0.7674902736086928, 0.7674902736086928, 0.7674902736086928, 0.7674902736086928, 0.7674902736086928, 0.7674902736086928, 0.7674902736086928, 0.7674902736086928, 0.7674902736086928, 0.7674902736086928, 0.7674902736086928, 0.7674902736086928, 0.7674902736086928, 0.7674902736086928, 0.7674902736086928, 0.7674902736086928, 0.7674902736086928, 0.7674902736086928, 0.7674902736086928, 0.7674902736086928, 0.7833382379015064, 0.7833382379015064]}], \"log_loss\": [{\"categories\": [\"0\", \"1\", \"2\", \"3\", \"4\", \"5\", \"6\", \"7\", \"8\", \"9\", \"10\", \"11\", \"12\", \"13\", \"14\", \"15\", \"16\", \"17\", \"18\", \"19\", \"20\", \"21\", \"22\", \"23\", \"24\", \"25\", \"26\", \"27\", \"28\", \"29\", \"30\", \"31\", \"33\", \"34\"], \"mode\": \"markers\", \"name\": \"log_loss\", \"stepped\": false, \"type\": \"scatter\", \"data\": [0.6480770950597856, 0.4752990014529053, 0.5014391055742948, 0.5255979330698921, 0.5091494088606129, 0.5602847295272049, 0.5428653538655805, 0.4921802210855873, 0.49046264337906254, 0.48502900188096304, 0.612041067826675, 0.5313836008649264, 0.5160515497272203, 0.5074172138675456, 0.5793189624992177, 0.5106861599715627, 0.5037053818824139, 0.5469791330898274, 0.600347009457885, 0.5391556974852895, 0.5803745262803421, 0.49359284363944533, 0.48180938732481327, 0.5388465210077095, 0.5210407583406116, 0.7701914155163808, 0.5586886029242046, 0.5939276126315745, 0.48598089115891463, 0.5414231727390466, 0.648122283437959, 0.4738855456789513, 0.49371758042756325, 0.47061506317031665]}, {\"categories\": [\"0\", \"1\", \"2\", \"3\", \"4\", \"5\", \"6\", \"7\", \"8\", \"9\", \"10\", \"11\", \"12\", \"13\", \"14\", \"15\", \"16\", \"17\", \"18\", \"19\", \"20\", \"21\", \"22\", \"23\", \"24\", \"25\", \"26\", \"27\", \"28\", \"29\", \"30\", \"31\", \"33\", \"34\"], \"mode\": \"lines\", \"name\": \"log_loss_min\", \"stepped\": true, \"type\": \"scatter\", \"data\": [0.6480770950597856, 0.4752990014529053, 0.4752990014529053, 0.4752990014529053, 0.4752990014529053, 0.4752990014529053, 0.4752990014529053, 0.4752990014529053, 0.4752990014529053, 0.4752990014529053, 0.4752990014529053, 0.4752990014529053, 0.4752990014529053, 0.4752990014529053, 0.4752990014529053, 0.4752990014529053, 0.4752990014529053, 0.4752990014529053, 0.4752990014529053, 0.4752990014529053, 0.4752990014529053, 0.4752990014529053, 0.4752990014529053, 0.4752990014529053, 0.4752990014529053, 0.4752990014529053, 0.4752990014529053, 0.4752990014529053, 0.4752990014529053, 0.4752990014529053, 0.4752990014529053, 0.4738855456789513, 0.4738855456789513, 0.47061506317031665]}], \"recall_score_macro\": [{\"categories\": [\"0\", \"1\", \"2\", \"3\", \"4\", \"5\", \"6\", \"7\", \"8\", \"9\", \"10\", \"11\", \"12\", \"13\", \"14\", \"15\", \"16\", \"17\", \"18\", \"19\", \"20\", \"21\", \"22\", \"23\", \"24\", \"25\", \"26\", \"27\", \"28\", \"29\", \"30\", \"31\", \"33\", \"34\"], \"mode\": \"markers\", \"name\": \"recall_score_macro\", \"stepped\": false, \"type\": \"scatter\", \"data\": [0.7053588221478819, 0.7368196523334581, 0.6879614337956038, 0.6523836559178486, 0.7537674901347526, 0.7451190391259994, 0.6528136452558332, 0.7183740442903159, 0.7134438667316274, 0.7120235077597854, 0.5729027139124356, 0.6613914554141678, 0.6806272836187788, 0.6943342140359465, 0.6416351992339469, 0.7132170100392574, 0.7110688029020394, 0.6483957304876298, 0.6573501701906346, 0.6360725222816687, 0.6532926744197491, 0.7247083615491766, 0.7265931483053889, 0.6430047115646159, 0.6662977388626221, 0.5, 0.7325291034261883, 0.7325223387207282, 0.7098527528768852, 0.6318125665844814, 0.5, 0.7131984282601664, 0.7410349082594572, 0.7298666370414936]}, {\"categories\": [\"0\", \"1\", \"2\", \"3\", \"4\", \"5\", \"6\", \"7\", \"8\", \"9\", \"10\", \"11\", \"12\", \"13\", \"14\", \"15\", \"16\", \"17\", \"18\", \"19\", \"20\", \"21\", \"22\", \"23\", \"24\", \"25\", \"26\", \"27\", \"28\", \"29\", \"30\", \"31\", \"33\", \"34\"], \"mode\": \"lines\", \"name\": \"recall_score_macro_max\", \"stepped\": true, \"type\": \"scatter\", \"data\": [0.7053588221478819, 0.7368196523334581, 0.7368196523334581, 0.7368196523334581, 0.7537674901347526, 0.7537674901347526, 0.7537674901347526, 0.7537674901347526, 0.7537674901347526, 0.7537674901347526, 0.7537674901347526, 0.7537674901347526, 0.7537674901347526, 0.7537674901347526, 0.7537674901347526, 0.7537674901347526, 0.7537674901347526, 0.7537674901347526, 0.7537674901347526, 0.7537674901347526, 0.7537674901347526, 0.7537674901347526, 0.7537674901347526, 0.7537674901347526, 0.7537674901347526, 0.7537674901347526, 0.7537674901347526, 0.7537674901347526, 0.7537674901347526, 0.7537674901347526, 0.7537674901347526, 0.7537674901347526, 0.7537674901347526, 0.7537674901347526]}], \"precision_score_weighted\": [{\"categories\": [\"0\", \"1\", \"2\", \"3\", \"4\", \"5\", \"6\", \"7\", \"8\", \"9\", \"10\", \"11\", \"12\", \"13\", \"14\", \"15\", \"16\", \"17\", \"18\", \"19\", \"20\", \"21\", \"22\", \"23\", \"24\", \"25\", \"26\", \"27\", \"28\", \"29\", \"30\", \"31\", \"33\", \"34\"], \"mode\": \"markers\", \"name\": \"precision_score_weighted\", \"stepped\": false, \"type\": \"scatter\", \"data\": [0.7396148182527014, 0.7692657656068833, 0.7462545509910676, 0.7418228774987095, 0.7766196982950729, 0.7691848840343998, 0.7061538962003748, 0.7721419500635436, 0.770695337386172, 0.7585420003246244, 0.6619885747963283, 0.7586494647434348, 0.7503765292749477, 0.7624182432325778, 0.6990849180326685, 0.7563780079482088, 0.7725484360791474, 0.7016239884835854, 0.7028416590684022, 0.7544746961101401, 0.703685871510921, 0.7621548168221455, 0.7625099913545741, 0.7480601490966812, 0.7592737809498287, 0.3005955077138568, 0.7585213667032075, 0.7580976824915593, 0.7544073077061407, 0.7547156172831481, 0.42687712083757523, 0.7560545082311512, 0.7905424098152123, 0.773067210895859]}, {\"categories\": [\"0\", \"1\", \"2\", \"3\", \"4\", \"5\", \"6\", \"7\", \"8\", \"9\", \"10\", \"11\", \"12\", \"13\", \"14\", \"15\", \"16\", \"17\", \"18\", \"19\", \"20\", \"21\", \"22\", \"23\", \"24\", \"25\", \"26\", \"27\", \"28\", \"29\", \"30\", \"31\", \"33\", \"34\"], \"mode\": \"lines\", \"name\": \"precision_score_weighted_max\", \"stepped\": true, \"type\": \"scatter\", \"data\": [0.7396148182527014, 0.7692657656068833, 0.7692657656068833, 0.7692657656068833, 0.7766196982950729, 0.7766196982950729, 0.7766196982950729, 0.7766196982950729, 0.7766196982950729, 0.7766196982950729, 0.7766196982950729, 0.7766196982950729, 0.7766196982950729, 0.7766196982950729, 0.7766196982950729, 0.7766196982950729, 0.7766196982950729, 0.7766196982950729, 0.7766196982950729, 0.7766196982950729, 0.7766196982950729, 0.7766196982950729, 0.7766196982950729, 0.7766196982950729, 0.7766196982950729, 0.7766196982950729, 0.7766196982950729, 0.7766196982950729, 0.7766196982950729, 0.7766196982950729, 0.7766196982950729, 0.7766196982950729, 0.7905424098152123, 0.7905424098152123]}], \"f1_score_micro\": [{\"categories\": [\"0\", \"1\", \"2\", \"3\", \"4\", \"5\", \"6\", \"7\", \"8\", \"9\", \"10\", \"11\", \"12\", \"13\", \"14\", \"15\", \"16\", \"17\", \"18\", \"19\", \"20\", \"21\", \"22\", \"23\", \"24\", \"25\", \"26\", \"27\", \"28\", \"29\", \"30\", \"31\", \"33\", \"34\"], \"mode\": \"markers\", \"name\": \"f1_score_micro\", \"stepped\": false, \"type\": \"scatter\", \"data\": [0.7396103896103897, 0.7695659603554341, 0.7500341763499658, 0.7330827067669173, 0.7565276828434724, 0.7461551606288447, 0.7109364319890636, 0.7721804511278195, 0.7721633629528366, 0.7591592617908407, 0.6562542720437458, 0.7448051948051948, 0.7513328776486672, 0.760440874914559, 0.7082706766917293, 0.7592617908407382, 0.7708988380041011, 0.7070061517429939, 0.7096035543403965, 0.7330656185919344, 0.7084244702665755, 0.7591592617908407, 0.7617053998632947, 0.7318181818181818, 0.7487696514012303, 0.5246924128503077, 0.7369617224880384, 0.7305194805194806, 0.7539131920710869, 0.7317669172932331, 0.650974025974026, 0.756578947368421, 0.7917122351332877, 0.7748120300751878]}, {\"categories\": [\"0\", \"1\", \"2\", \"3\", \"4\", \"5\", \"6\", \"7\", \"8\", \"9\", \"10\", \"11\", \"12\", \"13\", \"14\", \"15\", \"16\", \"17\", \"18\", \"19\", \"20\", \"21\", \"22\", \"23\", \"24\", \"25\", \"26\", \"27\", \"28\", \"29\", \"30\", \"31\", \"33\", \"34\"], \"mode\": \"lines\", \"name\": \"f1_score_micro_max\", \"stepped\": true, \"type\": \"scatter\", \"data\": [0.7396103896103897, 0.7695659603554341, 0.7695659603554341, 0.7695659603554341, 0.7695659603554341, 0.7695659603554341, 0.7695659603554341, 0.7721804511278195, 0.7721804511278195, 0.7721804511278195, 0.7721804511278195, 0.7721804511278195, 0.7721804511278195, 0.7721804511278195, 0.7721804511278195, 0.7721804511278195, 0.7721804511278195, 0.7721804511278195, 0.7721804511278195, 0.7721804511278195, 0.7721804511278195, 0.7721804511278195, 0.7721804511278195, 0.7721804511278195, 0.7721804511278195, 0.7721804511278195, 0.7721804511278195, 0.7721804511278195, 0.7721804511278195, 0.7721804511278195, 0.7721804511278195, 0.7721804511278195, 0.7917122351332877, 0.7917122351332877]}], \"accuracy\": [{\"categories\": [\"0\", \"1\", \"2\", \"3\", \"4\", \"5\", \"6\", \"7\", \"8\", \"9\", \"10\", \"11\", \"12\", \"13\", \"14\", \"15\", \"16\", \"17\", \"18\", \"19\", \"20\", \"21\", \"22\", \"23\", \"24\", \"25\", \"26\", \"27\", \"28\", \"29\", \"30\", \"31\", \"33\", \"34\"], \"mode\": \"markers\", \"name\": \"accuracy\", \"stepped\": false, \"type\": \"scatter\", \"data\": [0.7396103896103897, 0.7695659603554341, 0.7500341763499658, 0.7330827067669173, 0.7565276828434724, 0.7461551606288448, 0.7109364319890636, 0.7721804511278197, 0.7721633629528366, 0.7591592617908407, 0.6562542720437458, 0.7448051948051948, 0.7513328776486672, 0.760440874914559, 0.7082706766917293, 0.7592617908407383, 0.7708988380041012, 0.7070061517429939, 0.7096035543403965, 0.7330656185919344, 0.7084244702665755, 0.7591592617908407, 0.7617053998632947, 0.7318181818181818, 0.7487696514012303, 0.5246924128503077, 0.7369617224880384, 0.7305194805194806, 0.7539131920710869, 0.7317669172932331, 0.650974025974026, 0.756578947368421, 0.7917122351332878, 0.7748120300751881]}, {\"categories\": [\"0\", \"1\", \"2\", \"3\", \"4\", \"5\", \"6\", \"7\", \"8\", \"9\", \"10\", \"11\", \"12\", \"13\", \"14\", \"15\", \"16\", \"17\", \"18\", \"19\", \"20\", \"21\", \"22\", \"23\", \"24\", \"25\", \"26\", \"27\", \"28\", \"29\", \"30\", \"31\", \"33\", \"34\"], \"mode\": \"lines\", \"name\": \"accuracy_max\", \"stepped\": true, \"type\": \"scatter\", \"data\": [0.7396103896103897, 0.7695659603554341, 0.7695659603554341, 0.7695659603554341, 0.7695659603554341, 0.7695659603554341, 0.7695659603554341, 0.7721804511278197, 0.7721804511278197, 0.7721804511278197, 0.7721804511278197, 0.7721804511278197, 0.7721804511278197, 0.7721804511278197, 0.7721804511278197, 0.7721804511278197, 0.7721804511278197, 0.7721804511278197, 0.7721804511278197, 0.7721804511278197, 0.7721804511278197, 0.7721804511278197, 0.7721804511278197, 0.7721804511278197, 0.7721804511278197, 0.7721804511278197, 0.7721804511278197, 0.7721804511278197, 0.7721804511278197, 0.7721804511278197, 0.7721804511278197, 0.7721804511278197, 0.7917122351332878, 0.7917122351332878]}], \"precision_score_macro\": [{\"categories\": [\"0\", \"1\", \"2\", \"3\", \"4\", \"5\", \"6\", \"7\", \"8\", \"9\", \"10\", \"11\", \"12\", \"13\", \"14\", \"15\", \"16\", \"17\", \"18\", \"19\", \"20\", \"21\", \"22\", \"23\", \"24\", \"25\", \"26\", \"27\", \"28\", \"29\", \"30\", \"31\", \"33\", \"34\"], \"mode\": \"markers\", \"name\": \"precision_score_macro\", \"stepped\": false, \"type\": \"scatter\", \"data\": [0.7112261247846459, 0.7448891884111544, 0.7276920909063114, 0.7368236645138999, 0.7376743373362625, 0.7271380769206008, 0.6822831462516467, 0.7569724488445986, 0.7599718059899996, 0.7376634728575416, 0.6374795555128558, 0.7559561210700751, 0.7407253347179574, 0.7547577992904261, 0.6778811597809621, 0.7363977964118594, 0.7624695485588845, 0.6777766110214668, 0.6761592340840278, 0.7605630096888181, 0.6749920282612986, 0.7360653928551257, 0.738188037457187, 0.7459205925372794, 0.7610219213112297, 0.2623462064251538, 0.7173594309623662, 0.7138673897352078, 0.7319363413915352, 0.7648499682482511, 0.325487012987013, 0.7333625872728934, 0.7807130105886249, 0.7549643600464947]}, {\"categories\": [\"0\", \"1\", \"2\", \"3\", \"4\", \"5\", \"6\", \"7\", \"8\", \"9\", \"10\", \"11\", \"12\", \"13\", \"14\", \"15\", \"16\", \"17\", \"18\", \"19\", \"20\", \"21\", \"22\", \"23\", \"24\", \"25\", \"26\", \"27\", \"28\", \"29\", \"30\", \"31\", \"33\", \"34\"], \"mode\": \"lines\", \"name\": \"precision_score_macro_max\", \"stepped\": true, \"type\": \"scatter\", \"data\": [0.7112261247846459, 0.7448891884111544, 0.7448891884111544, 0.7448891884111544, 0.7448891884111544, 0.7448891884111544, 0.7448891884111544, 0.7569724488445986, 0.7599718059899996, 0.7599718059899996, 0.7599718059899996, 0.7599718059899996, 0.7599718059899996, 0.7599718059899996, 0.7599718059899996, 0.7599718059899996, 0.7624695485588845, 0.7624695485588845, 0.7624695485588845, 0.7624695485588845, 0.7624695485588845, 0.7624695485588845, 0.7624695485588845, 0.7624695485588845, 0.7624695485588845, 0.7624695485588845, 0.7624695485588845, 0.7624695485588845, 0.7624695485588845, 0.7648499682482511, 0.7648499682482511, 0.7648499682482511, 0.7807130105886249, 0.7807130105886249]}]}, \"metricName\": null, \"primaryMetricName\": \"accuracy\", \"showLegend\": false}, \"run_metrics\": [{\"name\": \"experiment_status\", \"run_id\": \"AutoML_2e34a5c8-2ccd-4f6f-9bb7-b404fd6cc042\", \"categories\": [0, 1, 2, 3, 4, 5], \"series\": [{\"data\": [\"DatasetEvaluation\", \"FeaturesGeneration\", \"DatasetFeaturization\", \"DatasetFeaturizationCompleted\", \"DatasetCrossValidationSplit\", \"ModelSelection\"]}]}, {\"name\": \"experiment_status_description\", \"run_id\": \"AutoML_2e34a5c8-2ccd-4f6f-9bb7-b404fd6cc042\", \"categories\": [0, 1, 2, 3, 4, 5], \"series\": [{\"data\": [\"Gathering dataset statistics.\", \"Generating features for the dataset.\", \"Beginning to fit featurizers and featurize the dataset.\", \"Completed fit featurizers and featurizing the dataset.\", \"Generating individually featurized CV splits.\", \"Beginning model selection.\"]}]}, {\"name\": \"accuracy\", \"run_id\": \"AutoML_2e34a5c8-2ccd-4f6f-9bb7-b404fd6cc042\", \"categories\": [0], \"series\": [{\"data\": [0.7917122351332878]}]}, {\"name\": \"average_precision_score_macro\", \"run_id\": \"AutoML_2e34a5c8-2ccd-4f6f-9bb7-b404fd6cc042\", \"categories\": [0], \"series\": [{\"data\": [0.825196905404716]}]}, {\"name\": \"f1_score_macro\", \"run_id\": \"AutoML_2e34a5c8-2ccd-4f6f-9bb7-b404fd6cc042\", \"categories\": [0], \"series\": [{\"data\": [0.7514437218766657]}]}, {\"name\": \"norm_macro_recall\", \"run_id\": \"AutoML_2e34a5c8-2ccd-4f6f-9bb7-b404fd6cc042\", \"categories\": [0], \"series\": [{\"data\": [0.48206981651891445]}]}, {\"name\": \"recall_score_micro\", \"run_id\": \"AutoML_2e34a5c8-2ccd-4f6f-9bb7-b404fd6cc042\", \"categories\": [0], \"series\": [{\"data\": [0.7917122351332878]}]}, {\"name\": \"AUC_micro\", \"run_id\": \"AutoML_2e34a5c8-2ccd-4f6f-9bb7-b404fd6cc042\", \"categories\": [0], \"series\": [{\"data\": [0.8599509506304754]}]}, {\"name\": \"precision_score_micro\", \"run_id\": \"AutoML_2e34a5c8-2ccd-4f6f-9bb7-b404fd6cc042\", \"categories\": [0], \"series\": [{\"data\": [0.7917122351332878]}]}, {\"name\": \"f1_score_micro\", \"run_id\": \"AutoML_2e34a5c8-2ccd-4f6f-9bb7-b404fd6cc042\", \"categories\": [0], \"series\": [{\"data\": [0.7917122351332877]}]}, {\"name\": \"precision_score_macro\", \"run_id\": \"AutoML_2e34a5c8-2ccd-4f6f-9bb7-b404fd6cc042\", \"categories\": [0], \"series\": [{\"data\": [0.7807130105886249]}]}, {\"name\": \"weighted_accuracy\", \"run_id\": \"AutoML_2e34a5c8-2ccd-4f6f-9bb7-b404fd6cc042\", \"categories\": [0], \"series\": [{\"data\": [0.8300971052343599]}]}, {\"name\": \"balanced_accuracy\", \"run_id\": \"AutoML_2e34a5c8-2ccd-4f6f-9bb7-b404fd6cc042\", \"categories\": [0], \"series\": [{\"data\": [0.7410349082594572]}]}, {\"name\": \"average_precision_score_weighted\", \"run_id\": \"AutoML_2e34a5c8-2ccd-4f6f-9bb7-b404fd6cc042\", \"categories\": [0], \"series\": [{\"data\": [0.8534105237279908]}]}, {\"name\": \"f1_score_weighted\", \"run_id\": \"AutoML_2e34a5c8-2ccd-4f6f-9bb7-b404fd6cc042\", \"categories\": [0], \"series\": [{\"data\": [0.7833382379015064]}]}, {\"name\": \"recall_score_macro\", \"run_id\": \"AutoML_2e34a5c8-2ccd-4f6f-9bb7-b404fd6cc042\", \"categories\": [0], \"series\": [{\"data\": [0.7410349082594572]}]}, {\"name\": \"average_precision_score_micro\", \"run_id\": \"AutoML_2e34a5c8-2ccd-4f6f-9bb7-b404fd6cc042\", \"categories\": [0], \"series\": [{\"data\": [0.8615529946260876]}]}, {\"name\": \"matthews_correlation\", \"run_id\": \"AutoML_2e34a5c8-2ccd-4f6f-9bb7-b404fd6cc042\", \"categories\": [0], \"series\": [{\"data\": [0.5198154867628849]}]}, {\"name\": \"log_loss\", \"run_id\": \"AutoML_2e34a5c8-2ccd-4f6f-9bb7-b404fd6cc042\", \"categories\": [0], \"series\": [{\"data\": [0.49371758042756325]}]}, {\"name\": \"precision_score_weighted\", \"run_id\": \"AutoML_2e34a5c8-2ccd-4f6f-9bb7-b404fd6cc042\", \"categories\": [0], \"series\": [{\"data\": [0.7905424098152123]}]}, {\"name\": \"AUC_weighted\", \"run_id\": \"AutoML_2e34a5c8-2ccd-4f6f-9bb7-b404fd6cc042\", \"categories\": [0], \"series\": [{\"data\": [0.8424909761514636]}]}, {\"name\": \"AUC_macro\", \"run_id\": \"AutoML_2e34a5c8-2ccd-4f6f-9bb7-b404fd6cc042\", \"categories\": [0], \"series\": [{\"data\": [0.8424909761514637]}]}, {\"name\": \"recall_score_weighted\", \"run_id\": \"AutoML_2e34a5c8-2ccd-4f6f-9bb7-b404fd6cc042\", \"categories\": [0], \"series\": [{\"data\": [0.7917122351332878]}]}], \"run_logs\": \"\\nRun is completed.\", \"graph\": {}, \"widget_settings\": {\"childWidgetDisplay\": \"popup\", \"send_telemetry\": false, \"log_level\": \"INFO\", \"sdk_version\": \"1.20.0\"}, \"loading\": false}"
          },
          "metadata": {}
        }
      ],
      "execution_count": 25,
      "metadata": {
        "gather": {
          "logged": 1612941488906
        },
        "jupyter": {
          "outputs_hidden": false,
          "source_hidden": false
        },
        "nteract": {
          "transient": {
            "deleting": false
          }
        }
      }
    },
    {
      "cell_type": "code",
      "source": [
        "remote_run.wait_for_completion(show_output=True)"
      ],
      "outputs": [
        {
          "output_type": "stream",
          "name": "stdout",
          "text": [
            "\n",
            "Current status: FeaturesGeneration. Generating features for the dataset.\n",
            "Current status: DatasetCrossValidationSplit. Generating individually featurized CV splits.\n",
            "Current status: ModelSelection. Beginning model selection.\n",
            "\n",
            "****************************************************************************************************\n",
            "DATA GUARDRAILS: \n",
            "\n",
            "TYPE:         Cross validation\n",
            "STATUS:       DONE\n",
            "DESCRIPTION:  Each iteration of the trained model was validated through cross-validation.\n",
            "              \n",
            "DETAILS:      \n",
            "+---------------------------------+\n",
            "|Number of folds                  |\n",
            "+=================================+\n",
            "|10                               |\n",
            "+---------------------------------+\n",
            "\n",
            "****************************************************************************************************\n",
            "\n",
            "TYPE:         Class balancing detection\n",
            "STATUS:       PASSED\n",
            "DESCRIPTION:  Your inputs were analyzed, and all classes are balanced in your training data.\n",
            "              Learn more about imbalanced data: https://aka.ms/AutomatedMLImbalancedData\n",
            "\n",
            "****************************************************************************************************\n",
            "\n",
            "TYPE:         Missing feature values imputation\n",
            "STATUS:       PASSED\n",
            "DESCRIPTION:  No feature missing values were detected in the training data.\n",
            "              Learn more about missing value imputation: https://aka.ms/AutomatedMLFeaturization\n",
            "\n",
            "****************************************************************************************************\n",
            "\n",
            "TYPE:         High cardinality feature detection\n",
            "STATUS:       PASSED\n",
            "DESCRIPTION:  Your inputs were analyzed, and no high cardinality features were detected.\n",
            "              Learn more about high cardinality feature handling: https://aka.ms/AutomatedMLFeaturization\n",
            "\n",
            "****************************************************************************************************\n",
            "\n",
            "****************************************************************************************************\n",
            "ITERATION: The iteration being evaluated.\n",
            "PIPELINE: A summary description of the pipeline being evaluated.\n",
            "DURATION: Time taken for the current iteration.\n",
            "METRIC: The result of computing score on the fitted pipeline.\n",
            "BEST: The best observed score thus far.\n",
            "****************************************************************************************************\n",
            "\n",
            " ITERATION   PIPELINE                                       DURATION      METRIC      BEST\n",
            "         0   MaxAbsScaler LightGBM                          0:01:03       0.7396    0.7396\n",
            "         2   MaxAbsScaler RandomForest                      0:00:56       0.7500    0.7500\n",
            "         1   MaxAbsScaler XGBoostClassifier                 0:00:59       0.7696    0.7696\n",
            "         3   MaxAbsScaler RandomForest                      0:01:08       0.7331    0.7696\n",
            "         6   SparseNormalizer XGBoostClassifier             0:00:55       0.7109    0.7696\n",
            "         7   MaxAbsScaler LogisticRegression                0:01:05       0.7722    0.7722\n",
            "         4   MaxAbsScaler RandomForest                      0:03:40       0.7565    0.7722\n",
            "         5   MaxAbsScaler RandomForest                      0:03:30       0.7462    0.7722\n",
            "         8   StandardScalerWrapper RandomForest             0:00:54       0.7722    0.7722\n",
            "        10   SparseNormalizer XGBoostClassifier             0:00:57       0.6563    0.7722\n",
            "         9   MaxAbsScaler RandomForest                      0:00:56       0.7592    0.7722\n",
            "        11   MaxAbsScaler ExtremeRandomTrees                0:01:01       0.7448    0.7722\n",
            "        12   MaxAbsScaler LightGBM                          0:00:56       0.7513    0.7722\n",
            "        13   MaxAbsScaler LightGBM                          0:01:01       0.7604    0.7722\n",
            "        15   TruncatedSVDWrapper XGBoostClassifier          0:00:55       0.7593    0.7722\n",
            "        14   SparseNormalizer XGBoostClassifier             0:01:02       0.7083    0.7722\n",
            "        16   MaxAbsScaler LightGBM                          0:00:56       0.7709    0.7722\n",
            "        17   SparseNormalizer XGBoostClassifier             0:00:57       0.7070    0.7722\n",
            "        18   SparseNormalizer XGBoostClassifier             0:00:56       0.7096    0.7722\n",
            "        19   MaxAbsScaler LightGBM                          0:00:55       0.7331    0.7722\n",
            "        20   SparseNormalizer XGBoostClassifier             0:01:01       0.7084    0.7722\n",
            "        21   MaxAbsScaler LightGBM                          0:00:57       0.7592    0.7722\n",
            "        22   StandardScalerWrapper XGBoostClassifier        0:00:53       0.7617    0.7722\n",
            "        24   MaxAbsScaler LightGBM                          0:00:57       0.7488    0.7722\n",
            "        23   MaxAbsScaler ExtremeRandomTrees                0:01:03       0.7318    0.7722\n",
            "        25   SparseNormalizer LogisticRegression            0:00:58       0.5247    0.7722\n",
            "        26   StandardScalerWrapper ExtremeRandomTrees       0:00:55       0.7370    0.7722\n",
            "        27   MaxAbsScaler RandomForest                      0:01:02       0.7305    0.7722\n",
            "        28   MaxAbsScaler LightGBM                          0:00:56       0.7539    0.7722\n",
            "        29   MaxAbsScaler LightGBM                          0:00:59       0.7318    0.7722\n",
            "        30   SparseNormalizer LogisticRegression            0:00:56       0.6510    0.7722\n",
            "        31   StandardScalerWrapper LightGBM                 0:00:53       0.7566    0.7722\n",
            "        32                                                  0:00:20          nan    0.7722\n",
            "        34    StackEnsemble                                 0:01:50       0.7748    0.7748\n",
            "        33    VotingEnsemble                                0:02:00       0.7917    0.7917\n"
          ]
        },
        {
          "output_type": "execute_result",
          "execution_count": 26,
          "data": {
            "text/plain": "{'runId': 'AutoML_2e34a5c8-2ccd-4f6f-9bb7-b404fd6cc042',\n 'target': 'capcpu',\n 'status': 'Completed',\n 'startTimeUtc': '2021-02-10T07:18:13.78313Z',\n 'endTimeUtc': '2021-02-10T07:47:53.252482Z',\n 'properties': {'num_iterations': '1000',\n  'training_type': 'TrainFull',\n  'acquisition_function': 'EI',\n  'primary_metric': 'accuracy',\n  'train_split': '0',\n  'acquisition_parameter': '0',\n  'num_cross_validation': None,\n  'target': 'capcpu',\n  'AMLSettingsJsonString': '{\"path\":null,\"name\":\"diabetes\",\"subscription_id\":\"5a4ab2ba-6c51-4805-8155-58759ad589d8\",\"resource_group\":\"aml-quickstarts-138319\",\"workspace_name\":\"quick-starts-ws-138319\",\"region\":\"southcentralus\",\"compute_target\":\"capcpu\",\"spark_service\":null,\"azure_service\":\"remote\",\"many_models\":false,\"pipeline_fetch_max_batch_size\":1,\"iterations\":1000,\"primary_metric\":\"accuracy\",\"task_type\":\"classification\",\"data_script\":null,\"validation_size\":0.0,\"n_cross_validations\":null,\"y_min\":null,\"y_max\":null,\"num_classes\":null,\"featurization\":\"auto\",\"_ignore_package_version_incompatibilities\":false,\"is_timeseries\":false,\"max_cores_per_iteration\":1,\"max_concurrent_iterations\":3,\"iteration_timeout_minutes\":null,\"mem_in_mb\":null,\"enforce_time_on_windows\":false,\"experiment_timeout_minutes\":30,\"experiment_exit_score\":null,\"whitelist_models\":null,\"blacklist_algos\":[\"TensorFlowLinearClassifier\",\"TensorFlowDNN\"],\"supported_models\":[\"KNN\",\"ExtremeRandomTrees\",\"DecisionTree\",\"RandomForest\",\"TensorFlowLinearClassifier\",\"XGBoostClassifier\",\"LogisticRegression\",\"SVM\",\"AveragedPerceptronClassifier\",\"GradientBoosting\",\"LinearSVM\",\"MultinomialNaiveBayes\",\"TensorFlowDNN\",\"SGD\",\"BernoulliNaiveBayes\",\"LightGBM\"],\"auto_blacklist\":true,\"blacklist_samples_reached\":false,\"exclude_nan_labels\":true,\"verbosity\":20,\"_debug_log\":\"azureml_automl.log\",\"show_warnings\":false,\"model_explainability\":true,\"service_url\":null,\"sdk_url\":null,\"sdk_packages\":null,\"enable_onnx_compatible_models\":false,\"enable_split_onnx_featurizer_estimator_models\":false,\"vm_type\":\"STANDARD_D2_V2\",\"telemetry_verbosity\":20,\"send_telemetry\":true,\"enable_dnn\":false,\"scenario\":\"SDK-1.13.0\",\"environment_label\":null,\"force_text_dnn\":false,\"enable_feature_sweeping\":true,\"enable_early_stopping\":true,\"early_stopping_n_iters\":10,\"metrics\":null,\"enable_ensembling\":true,\"enable_stack_ensembling\":true,\"ensemble_iterations\":15,\"enable_tf\":false,\"enable_subsampling\":null,\"subsample_seed\":null,\"enable_nimbusml\":false,\"enable_streaming\":false,\"force_streaming\":false,\"track_child_runs\":true,\"allowed_private_models\":[],\"label_column_name\":\"Outcome\",\"weight_column_name\":null,\"cv_split_column_names\":null,\"enable_local_managed\":false,\"_local_managed_run_id\":null,\"cost_mode\":1,\"lag_length\":0,\"metric_operation\":\"maximize\",\"preprocess\":true}',\n  'DataPrepJsonString': '{\\\\\"training_data\\\\\": \\\\\"{\\\\\\\\\\\\\"blocks\\\\\\\\\\\\\": [{\\\\\\\\\\\\\"id\\\\\\\\\\\\\": \\\\\\\\\\\\\"28463e1e-6836-4876-9824-fefb826302a3\\\\\\\\\\\\\", \\\\\\\\\\\\\"type\\\\\\\\\\\\\": \\\\\\\\\\\\\"Microsoft.DPrep.GetDatastoreFilesBlock\\\\\\\\\\\\\", \\\\\\\\\\\\\"arguments\\\\\\\\\\\\\": {\\\\\\\\\\\\\"datastores\\\\\\\\\\\\\": [{\\\\\\\\\\\\\"datastoreName\\\\\\\\\\\\\": \\\\\\\\\\\\\"workspaceblobstore\\\\\\\\\\\\\", \\\\\\\\\\\\\"path\\\\\\\\\\\\\": \\\\\\\\\\\\\"UI/02-10-2021_034553_UTC/diabetes.csv\\\\\\\\\\\\\", \\\\\\\\\\\\\"resourceGroup\\\\\\\\\\\\\": \\\\\\\\\\\\\"aml-quickstarts-138319\\\\\\\\\\\\\", \\\\\\\\\\\\\"subscription\\\\\\\\\\\\\": \\\\\\\\\\\\\"5a4ab2ba-6c51-4805-8155-58759ad589d8\\\\\\\\\\\\\", \\\\\\\\\\\\\"workspaceName\\\\\\\\\\\\\": \\\\\\\\\\\\\"quick-starts-ws-138319\\\\\\\\\\\\\"}]}, \\\\\\\\\\\\\"localData\\\\\\\\\\\\\": {}, \\\\\\\\\\\\\"isEnabled\\\\\\\\\\\\\": true, \\\\\\\\\\\\\"name\\\\\\\\\\\\\": null, \\\\\\\\\\\\\"annotation\\\\\\\\\\\\\": null}, {\\\\\\\\\\\\\"id\\\\\\\\\\\\\": \\\\\\\\\\\\\"0f109333-87b5-498f-ad37-e585cee0b971\\\\\\\\\\\\\", \\\\\\\\\\\\\"type\\\\\\\\\\\\\": \\\\\\\\\\\\\"Microsoft.DPrep.ParseDelimitedBlock\\\\\\\\\\\\\", \\\\\\\\\\\\\"arguments\\\\\\\\\\\\\": {\\\\\\\\\\\\\"columnHeadersMode\\\\\\\\\\\\\": 1, \\\\\\\\\\\\\"fileEncoding\\\\\\\\\\\\\": 0, \\\\\\\\\\\\\"handleQuotedLineBreaks\\\\\\\\\\\\\": false, \\\\\\\\\\\\\"preview\\\\\\\\\\\\\": false, \\\\\\\\\\\\\"separator\\\\\\\\\\\\\": \\\\\\\\\\\\\",\\\\\\\\\\\\\", \\\\\\\\\\\\\"skipRows\\\\\\\\\\\\\": 0, \\\\\\\\\\\\\"skipRowsMode\\\\\\\\\\\\\": 0}, \\\\\\\\\\\\\"localData\\\\\\\\\\\\\": {}, \\\\\\\\\\\\\"isEnabled\\\\\\\\\\\\\": true, \\\\\\\\\\\\\"name\\\\\\\\\\\\\": null, \\\\\\\\\\\\\"annotation\\\\\\\\\\\\\": null}, {\\\\\\\\\\\\\"id\\\\\\\\\\\\\": \\\\\\\\\\\\\"b12c0f06-9539-41c4-aa58-0eddcdd16dba\\\\\\\\\\\\\", \\\\\\\\\\\\\"type\\\\\\\\\\\\\": \\\\\\\\\\\\\"Microsoft.DPrep.DropColumnsBlock\\\\\\\\\\\\\", \\\\\\\\\\\\\"arguments\\\\\\\\\\\\\": {\\\\\\\\\\\\\"columns\\\\\\\\\\\\\": {\\\\\\\\\\\\\"type\\\\\\\\\\\\\": 0, \\\\\\\\\\\\\"details\\\\\\\\\\\\\": {\\\\\\\\\\\\\"selectedColumns\\\\\\\\\\\\\": [\\\\\\\\\\\\\"Path\\\\\\\\\\\\\"]}}}, \\\\\\\\\\\\\"localData\\\\\\\\\\\\\": {}, \\\\\\\\\\\\\"isEnabled\\\\\\\\\\\\\": true, \\\\\\\\\\\\\"name\\\\\\\\\\\\\": null, \\\\\\\\\\\\\"annotation\\\\\\\\\\\\\": null}, {\\\\\\\\\\\\\"id\\\\\\\\\\\\\": \\\\\\\\\\\\\"0a498b4e-b306-4945-b901-66b1c3df3003\\\\\\\\\\\\\", \\\\\\\\\\\\\"type\\\\\\\\\\\\\": \\\\\\\\\\\\\"Microsoft.DPrep.SetColumnTypesBlock\\\\\\\\\\\\\", \\\\\\\\\\\\\"arguments\\\\\\\\\\\\\": {\\\\\\\\\\\\\"columnConversion\\\\\\\\\\\\\": [{\\\\\\\\\\\\\"column\\\\\\\\\\\\\": {\\\\\\\\\\\\\"type\\\\\\\\\\\\\": 2, \\\\\\\\\\\\\"details\\\\\\\\\\\\\": {\\\\\\\\\\\\\"selectedColumn\\\\\\\\\\\\\": \\\\\\\\\\\\\"Path\\\\\\\\\\\\\"}}, \\\\\\\\\\\\\"typeProperty\\\\\\\\\\\\\": 0}, {\\\\\\\\\\\\\"column\\\\\\\\\\\\\": {\\\\\\\\\\\\\"type\\\\\\\\\\\\\": 2, \\\\\\\\\\\\\"details\\\\\\\\\\\\\": {\\\\\\\\\\\\\"selectedColumn\\\\\\\\\\\\\": \\\\\\\\\\\\\"Pregnancies\\\\\\\\\\\\\"}}, \\\\\\\\\\\\\"typeProperty\\\\\\\\\\\\\": 2}, {\\\\\\\\\\\\\"column\\\\\\\\\\\\\": {\\\\\\\\\\\\\"type\\\\\\\\\\\\\": 2, \\\\\\\\\\\\\"details\\\\\\\\\\\\\": {\\\\\\\\\\\\\"selectedColumn\\\\\\\\\\\\\": \\\\\\\\\\\\\"Glucose\\\\\\\\\\\\\"}}, \\\\\\\\\\\\\"typeProperty\\\\\\\\\\\\\": 2}, {\\\\\\\\\\\\\"column\\\\\\\\\\\\\": {\\\\\\\\\\\\\"type\\\\\\\\\\\\\": 2, \\\\\\\\\\\\\"details\\\\\\\\\\\\\": {\\\\\\\\\\\\\"selectedColumn\\\\\\\\\\\\\": \\\\\\\\\\\\\"BloodPressure\\\\\\\\\\\\\"}}, \\\\\\\\\\\\\"typeProperty\\\\\\\\\\\\\": 2}, {\\\\\\\\\\\\\"column\\\\\\\\\\\\\": {\\\\\\\\\\\\\"type\\\\\\\\\\\\\": 2, \\\\\\\\\\\\\"details\\\\\\\\\\\\\": {\\\\\\\\\\\\\"selectedColumn\\\\\\\\\\\\\": \\\\\\\\\\\\\"SkinThickness\\\\\\\\\\\\\"}}, \\\\\\\\\\\\\"typeProperty\\\\\\\\\\\\\": 2}, {\\\\\\\\\\\\\"column\\\\\\\\\\\\\": {\\\\\\\\\\\\\"type\\\\\\\\\\\\\": 2, \\\\\\\\\\\\\"details\\\\\\\\\\\\\": {\\\\\\\\\\\\\"selectedColumn\\\\\\\\\\\\\": \\\\\\\\\\\\\"Insulin\\\\\\\\\\\\\"}}, \\\\\\\\\\\\\"typeProperty\\\\\\\\\\\\\": 2}, {\\\\\\\\\\\\\"column\\\\\\\\\\\\\": {\\\\\\\\\\\\\"type\\\\\\\\\\\\\": 2, \\\\\\\\\\\\\"details\\\\\\\\\\\\\": {\\\\\\\\\\\\\"selectedColumn\\\\\\\\\\\\\": \\\\\\\\\\\\\"BMI\\\\\\\\\\\\\"}}, \\\\\\\\\\\\\"typeProperty\\\\\\\\\\\\\": 3}, {\\\\\\\\\\\\\"column\\\\\\\\\\\\\": {\\\\\\\\\\\\\"type\\\\\\\\\\\\\": 2, \\\\\\\\\\\\\"details\\\\\\\\\\\\\": {\\\\\\\\\\\\\"selectedColumn\\\\\\\\\\\\\": \\\\\\\\\\\\\"DiabetesPedigreeFunction\\\\\\\\\\\\\"}}, \\\\\\\\\\\\\"typeProperty\\\\\\\\\\\\\": 3}, {\\\\\\\\\\\\\"column\\\\\\\\\\\\\": {\\\\\\\\\\\\\"type\\\\\\\\\\\\\": 2, \\\\\\\\\\\\\"details\\\\\\\\\\\\\": {\\\\\\\\\\\\\"selectedColumn\\\\\\\\\\\\\": \\\\\\\\\\\\\"Age\\\\\\\\\\\\\"}}, \\\\\\\\\\\\\"typeProperty\\\\\\\\\\\\\": 2}, {\\\\\\\\\\\\\"column\\\\\\\\\\\\\": {\\\\\\\\\\\\\"type\\\\\\\\\\\\\": 2, \\\\\\\\\\\\\"details\\\\\\\\\\\\\": {\\\\\\\\\\\\\"selectedColumn\\\\\\\\\\\\\": \\\\\\\\\\\\\"Outcome\\\\\\\\\\\\\"}}, \\\\\\\\\\\\\"typeProperty\\\\\\\\\\\\\": 2}]}, \\\\\\\\\\\\\"localData\\\\\\\\\\\\\": {}, \\\\\\\\\\\\\"isEnabled\\\\\\\\\\\\\": true, \\\\\\\\\\\\\"name\\\\\\\\\\\\\": null, \\\\\\\\\\\\\"annotation\\\\\\\\\\\\\": null}], \\\\\\\\\\\\\"inspectors\\\\\\\\\\\\\": [], \\\\\\\\\\\\\"meta\\\\\\\\\\\\\": {\\\\\\\\\\\\\"savedDatasetId\\\\\\\\\\\\\": \\\\\\\\\\\\\"b25e8e44-9f84-4a94-b89b-e4e3a906e144\\\\\\\\\\\\\", \\\\\\\\\\\\\"datasetType\\\\\\\\\\\\\": \\\\\\\\\\\\\"tabular\\\\\\\\\\\\\", \\\\\\\\\\\\\"subscriptionId\\\\\\\\\\\\\": \\\\\\\\\\\\\"5a4ab2ba-6c51-4805-8155-58759ad589d8\\\\\\\\\\\\\", \\\\\\\\\\\\\"workspaceId\\\\\\\\\\\\\": \\\\\\\\\\\\\"8caa5286-3f16-4383-86c8-04eb82969de3\\\\\\\\\\\\\", \\\\\\\\\\\\\"workspaceLocation\\\\\\\\\\\\\": \\\\\\\\\\\\\"southcentralus\\\\\\\\\\\\\"}}\\\\\", \\\\\"activities\\\\\": 0}',\n  'EnableSubsampling': None,\n  'runTemplate': 'AutoML',\n  'azureml.runsource': 'automl',\n  'display_task_type': 'classification',\n  'dependencies_versions': '{\"azureml-widgets\": \"1.20.0\", \"azureml-train\": \"1.20.0\", \"azureml-train-restclients-hyperdrive\": \"1.20.0\", \"azureml-train-core\": \"1.20.0\", \"azureml-train-automl\": \"1.20.0\", \"azureml-train-automl-runtime\": \"1.20.0\", \"azureml-train-automl-client\": \"1.20.0\", \"azureml-tensorboard\": \"1.20.0\", \"azureml-telemetry\": \"1.20.0\", \"azureml-sdk\": \"1.20.0\", \"azureml-samples\": \"0+unknown\", \"azureml-pipeline\": \"1.20.0\", \"azureml-pipeline-steps\": \"1.20.0\", \"azureml-pipeline-core\": \"1.20.0\", \"azureml-opendatasets\": \"1.20.0\", \"azureml-model-management-sdk\": \"1.0.1b6.post1\", \"azureml-mlflow\": \"1.20.0.post1\", \"azureml-interpret\": \"1.20.0\", \"azureml-explain-model\": \"1.20.0\", \"azureml-defaults\": \"1.20.0\", \"azureml-dataset-runtime\": \"1.20.0\", \"azureml-dataprep\": \"2.7.3\", \"azureml-dataprep-rslex\": \"1.5.0\", \"azureml-dataprep-native\": \"27.0.0\", \"azureml-datadrift\": \"1.20.0\", \"azureml-core\": \"1.20.0\", \"azureml-contrib-services\": \"1.20.0\", \"azureml-contrib-server\": \"1.20.0\", \"azureml-contrib-reinforcementlearning\": \"1.20.0\", \"azureml-contrib-pipeline-steps\": \"1.20.0\", \"azureml-contrib-notebook\": \"1.20.0\", \"azureml-contrib-interpret\": \"1.20.0\", \"azureml-contrib-gbdt\": \"1.20.0\", \"azureml-contrib-fairness\": \"1.20.0\", \"azureml-contrib-dataset\": \"1.20.0\", \"azureml-cli-common\": \"1.20.0\", \"azureml-automl-runtime\": \"1.20.0\", \"azureml-automl-core\": \"1.20.0\", \"azureml-accel-models\": \"1.20.0\"}',\n  '_aml_system_scenario_identification': 'Remote.Parent',\n  'ClientType': 'SDK',\n  'environment_cpu_name': 'AzureML-AutoML',\n  'environment_cpu_label': 'prod',\n  'environment_gpu_name': 'AzureML-AutoML-GPU',\n  'environment_gpu_label': 'prod',\n  'root_attribution': 'automl',\n  'attribution': 'AutoML',\n  'Orchestrator': 'AutoML',\n  'CancelUri': 'https://southcentralus.experiments.azureml.net/jasmine/v1.0/subscriptions/5a4ab2ba-6c51-4805-8155-58759ad589d8/resourceGroups/aml-quickstarts-138319/providers/Microsoft.MachineLearningServices/workspaces/quick-starts-ws-138319/experimentids/402e1450-3ff8-43d1-803e-5fa81c6b048c/cancel/AutoML_2e34a5c8-2ccd-4f6f-9bb7-b404fd6cc042',\n  'ClientSdkVersion': '1.21.0',\n  'snapshotId': '00000000-0000-0000-0000-000000000000',\n  'SetupRunId': 'AutoML_2e34a5c8-2ccd-4f6f-9bb7-b404fd6cc042_setup',\n  'SetupRunContainerId': 'dcid.AutoML_2e34a5c8-2ccd-4f6f-9bb7-b404fd6cc042_setup',\n  'FeaturizationRunJsonPath': 'featurizer_container.json',\n  'FeaturizationRunId': 'AutoML_2e34a5c8-2ccd-4f6f-9bb7-b404fd6cc042_featurize',\n  'ProblemInfoJsonString': '{\"dataset_num_categorical\": 0, \"is_sparse\": true, \"subsampling\": false, \"dataset_classes\": 2, \"dataset_features\": 24, \"dataset_samples\": 768, \"single_frequency_class_detected\": false}',\n  'ModelExplainRunId': 'AutoML_2e34a5c8-2ccd-4f6f-9bb7-b404fd6cc042_ModelExplain'},\n 'inputDatasets': [{'dataset': {'id': 'b25e8e44-9f84-4a94-b89b-e4e3a906e144'}, 'consumptionDetails': {'type': 'RunInput', 'inputName': 'training_data', 'mechanism': 'Direct'}}],\n 'outputDatasets': [],\n 'logFiles': {},\n 'submittedBy': 'ODL_User 138319'}"
          },
          "metadata": {}
        }
      ],
      "execution_count": 26,
      "metadata": {
        "collapsed": true,
        "jupyter": {
          "source_hidden": false,
          "outputs_hidden": false
        },
        "nteract": {
          "transient": {
            "deleting": false
          }
        },
        "gather": {
          "logged": 1612943318415
        }
      }
    },
    {
      "cell_type": "markdown",
      "source": [
        "## Best Model\n",
        "\n",
        "TODO: In the cell below, get the best model from the automl experiments and display all the properties of the model.\n",
        "\n"
      ],
      "metadata": {}
    },
    {
      "cell_type": "code",
      "source": [
        "import joblib\r\n",
        "# Get your best run and save the model from that run.\r\n",
        "best_run, fitted_model = remote_run.get_output()\r\n",
        "\r\n",
        "print(best_run)\r\n",
        "print(fitted_model)"
      ],
      "outputs": [
        {
          "output_type": "stream",
          "name": "stderr",
          "text": [
            "WARNING:root:The version of the SDK does not match the version the model was trained on.\n",
            "WARNING:root:The consistency in the result may not be guaranteed.\n",
            "WARNING:root:Package:azureml-automl-core, training version:1.21.0, current version:1.20.0\n",
            "Package:azureml-automl-runtime, training version:1.21.0, current version:1.20.0\n",
            "Package:azureml-core, training version:1.21.0.post1, current version:1.20.0\n",
            "Package:azureml-dataprep, training version:2.8.2, current version:2.7.3\n",
            "Package:azureml-dataprep-native, training version:28.0.0, current version:27.0.0\n",
            "Package:azureml-dataprep-rslex, training version:1.6.0, current version:1.5.0\n",
            "Package:azureml-dataset-runtime, training version:1.21.0, current version:1.20.0\n",
            "Package:azureml-defaults, training version:1.21.0, current version:1.20.0\n",
            "Package:azureml-interpret, training version:1.21.0, current version:1.20.0\n",
            "Package:azureml-pipeline-core, training version:1.21.0, current version:1.20.0\n",
            "Package:azureml-telemetry, training version:1.21.0, current version:1.20.0\n",
            "Package:azureml-train-automl-client, training version:1.21.0, current version:1.20.0\n",
            "Package:azureml-train-automl-runtime, training version:1.21.0, current version:1.20.0\n",
            "WARNING:root:Please ensure the version of your local conda dependencies match the version on which your model was trained in order to properly retrieve your model.\n"
          ]
        },
        {
          "output_type": "stream",
          "name": "stdout",
          "text": [
            "Run(Experiment: diabetes,\n",
            "Id: AutoML_2e34a5c8-2ccd-4f6f-9bb7-b404fd6cc042_33,\n",
            "Type: azureml.scriptrun,\n",
            "Status: Completed)\n",
            "Pipeline(memory=None,\n",
            "         steps=[('datatransformer',\n",
            "                 DataTransformer(enable_dnn=None, enable_feature_sweeping=None,\n",
            "                                 feature_sweeping_config=None,\n",
            "                                 feature_sweeping_timeout=None,\n",
            "                                 featurization_config=None, force_text_dnn=None,\n",
            "                                 is_cross_validation=None,\n",
            "                                 is_onnx_compatible=None, logger=None,\n",
            "                                 observer=None, task=None, working_dir=None)),\n",
            "                ('prefittedsoftvotingclassifier',...\n",
            "                                                                                               reg_lambda=0.3125,\n",
            "                                                                                               scale_pos_weight=1,\n",
            "                                                                                               seed=None,\n",
            "                                                                                               silent=None,\n",
            "                                                                                               subsample=1,\n",
            "                                                                                               tree_method='auto',\n",
            "                                                                                               verbose=-10,\n",
            "                                                                                               verbosity=0))],\n",
            "                                                                     verbose=False))],\n",
            "                                               flatten_transform=None,\n",
            "                                               weights=[0.06666666666666667,\n",
            "                                                        0.13333333333333333,\n",
            "                                                        0.26666666666666666,\n",
            "                                                        0.13333333333333333,\n",
            "                                                        0.06666666666666667,\n",
            "                                                        0.06666666666666667,\n",
            "                                                        0.06666666666666667,\n",
            "                                                        0.06666666666666667,\n",
            "                                                        0.13333333333333333]))],\n",
            "         verbose=False)\n"
          ]
        }
      ],
      "execution_count": 27,
      "metadata": {
        "gather": {
          "logged": 1612943432670
        },
        "jupyter": {
          "outputs_hidden": false,
          "source_hidden": false
        },
        "nteract": {
          "transient": {
            "deleting": false
          }
        }
      }
    },
    {
      "cell_type": "code",
      "source": [
        "from pprint import pprint\r\n",
        "\r\n",
        "def print_model(model, prefix=\"\"):\r\n",
        "    for step in model.steps:\r\n",
        "        print(prefix + step[0])\r\n",
        "        if hasattr(step[1], 'estimators') and hasattr(step[1], 'weights'):\r\n",
        "            pprint({'estimators': list(\r\n",
        "                e[0] for e in step[1].estimators), 'weights': step[1].weights})\r\n",
        "            print()\r\n",
        "            for estimator in step[1].estimators:\r\n",
        "                print_model(estimator[1], estimator[0] + ' - ')\r\n",
        "        else:\r\n",
        "            pprint(step[1].get_params())\r\n",
        "            print()\r\n",
        "\r\n",
        "print_model(fitted_model)"
      ],
      "outputs": [
        {
          "output_type": "stream",
          "name": "stdout",
          "text": [
            "datatransformer\n",
            "{'enable_dnn': None,\n",
            " 'enable_feature_sweeping': None,\n",
            " 'feature_sweeping_config': None,\n",
            " 'feature_sweeping_timeout': None,\n",
            " 'featurization_config': None,\n",
            " 'force_text_dnn': None,\n",
            " 'is_cross_validation': None,\n",
            " 'is_onnx_compatible': None,\n",
            " 'logger': None,\n",
            " 'observer': None,\n",
            " 'task': None,\n",
            " 'working_dir': None}\n",
            "\n",
            "prefittedsoftvotingclassifier\n",
            "{'estimators': ['7', '8', '16', '1', '22', '26', '27', '14', '17'],\n",
            " 'weights': [0.06666666666666667,\n",
            "             0.13333333333333333,\n",
            "             0.26666666666666666,\n",
            "             0.13333333333333333,\n",
            "             0.06666666666666667,\n",
            "             0.06666666666666667,\n",
            "             0.06666666666666667,\n",
            "             0.06666666666666667,\n",
            "             0.13333333333333333]}\n",
            "\n",
            "7 - maxabsscaler\n",
            "{'copy': True}\n",
            "\n",
            "7 - logisticregression\n",
            "{'C': 7.9060432109076855,\n",
            " 'class_weight': None,\n",
            " 'dual': False,\n",
            " 'fit_intercept': True,\n",
            " 'intercept_scaling': 1,\n",
            " 'l1_ratio': None,\n",
            " 'max_iter': 100,\n",
            " 'multi_class': 'ovr',\n",
            " 'n_jobs': 1,\n",
            " 'penalty': 'l2',\n",
            " 'random_state': None,\n",
            " 'solver': 'saga',\n",
            " 'tol': 0.0001,\n",
            " 'verbose': 0,\n",
            " 'warm_start': False}\n",
            "\n",
            "8 - standardscalerwrapper\n",
            "{'class_name': 'StandardScaler',\n",
            " 'copy': True,\n",
            " 'module_name': 'sklearn.preprocessing._data',\n",
            " 'with_mean': False,\n",
            " 'with_std': True}\n",
            "\n",
            "8 - randomforestclassifier\n",
            "{'bootstrap': False,\n",
            " 'ccp_alpha': 0.0,\n",
            " 'class_weight': None,\n",
            " 'criterion': 'entropy',\n",
            " 'max_depth': None,\n",
            " 'max_features': 0.2,\n",
            " 'max_leaf_nodes': None,\n",
            " 'max_samples': None,\n",
            " 'min_impurity_decrease': 0.0,\n",
            " 'min_impurity_split': None,\n",
            " 'min_samples_leaf': 0.01,\n",
            " 'min_samples_split': 0.10368421052631578,\n",
            " 'min_weight_fraction_leaf': 0.0,\n",
            " 'n_estimators': 25,\n",
            " 'n_jobs': 1,\n",
            " 'oob_score': False,\n",
            " 'random_state': None,\n",
            " 'verbose': 0,\n",
            " 'warm_start': False}\n",
            "\n",
            "16 - maxabsscaler\n",
            "{'copy': True}\n",
            "\n",
            "16 - lightgbmclassifier\n",
            "{'boosting_type': 'goss',\n",
            " 'class_weight': None,\n",
            " 'colsample_bytree': 0.4955555555555555,\n",
            " 'importance_type': 'split',\n",
            " 'learning_rate': 0.04211105263157895,\n",
            " 'max_bin': 70,\n",
            " 'max_depth': 6,\n",
            " 'min_child_samples': 77,\n",
            " 'min_child_weight': 1,\n",
            " 'min_split_gain': 0.2631578947368421,\n",
            " 'n_estimators': 50,\n",
            " 'n_jobs': 1,\n",
            " 'num_leaves': 71,\n",
            " 'objective': None,\n",
            " 'random_state': None,\n",
            " 'reg_alpha': 0.6842105263157894,\n",
            " 'reg_lambda': 0.7894736842105263,\n",
            " 'silent': True,\n",
            " 'subsample': 1,\n",
            " 'subsample_for_bin': 200000,\n",
            " 'subsample_freq': 0,\n",
            " 'verbose': -10}\n",
            "\n",
            "1 - maxabsscaler\n",
            "{'copy': True}\n",
            "\n",
            "1 - xgboostclassifier\n",
            "{'base_score': 0.5,\n",
            " 'booster': 'gbtree',\n",
            " 'colsample_bylevel': 1,\n",
            " 'colsample_bynode': 1,\n",
            " 'colsample_bytree': 1,\n",
            " 'gamma': 0,\n",
            " 'learning_rate': 0.1,\n",
            " 'max_delta_step': 0,\n",
            " 'max_depth': 3,\n",
            " 'min_child_weight': 1,\n",
            " 'missing': nan,\n",
            " 'n_estimators': 100,\n",
            " 'n_jobs': 1,\n",
            " 'nthread': None,\n",
            " 'objective': 'binary:logistic',\n",
            " 'random_state': 0,\n",
            " 'reg_alpha': 0,\n",
            " 'reg_lambda': 1,\n",
            " 'scale_pos_weight': 1,\n",
            " 'seed': None,\n",
            " 'silent': None,\n",
            " 'subsample': 1,\n",
            " 'tree_method': 'auto',\n",
            " 'verbose': -10,\n",
            " 'verbosity': 0}\n",
            "\n",
            "22 - standardscalerwrapper\n",
            "{'class_name': 'StandardScaler',\n",
            " 'copy': True,\n",
            " 'module_name': 'sklearn.preprocessing._data',\n",
            " 'with_mean': False,\n",
            " 'with_std': False}\n",
            "\n",
            "22 - xgboostclassifier\n",
            "{'base_score': 0.5,\n",
            " 'booster': 'gbtree',\n",
            " 'colsample_bylevel': 1,\n",
            " 'colsample_bynode': 1,\n",
            " 'colsample_bytree': 0.7,\n",
            " 'eta': 0.001,\n",
            " 'gamma': 0,\n",
            " 'learning_rate': 0.1,\n",
            " 'max_delta_step': 0,\n",
            " 'max_depth': 4,\n",
            " 'max_leaves': 15,\n",
            " 'min_child_weight': 1,\n",
            " 'missing': nan,\n",
            " 'n_estimators': 50,\n",
            " 'n_jobs': 1,\n",
            " 'nthread': None,\n",
            " 'objective': 'reg:logistic',\n",
            " 'random_state': 0,\n",
            " 'reg_alpha': 0,\n",
            " 'reg_lambda': 2.3958333333333335,\n",
            " 'scale_pos_weight': 1,\n",
            " 'seed': None,\n",
            " 'silent': None,\n",
            " 'subsample': 1,\n",
            " 'tree_method': 'auto',\n",
            " 'verbose': -10,\n",
            " 'verbosity': 0}\n",
            "\n",
            "26 - standardscalerwrapper\n",
            "{'class_name': 'StandardScaler',\n",
            " 'copy': True,\n",
            " 'module_name': 'sklearn.preprocessing._data',\n",
            " 'with_mean': False,\n",
            " 'with_std': True}\n",
            "\n",
            "26 - extratreesclassifier\n",
            "{'bootstrap': True,\n",
            " 'ccp_alpha': 0.0,\n",
            " 'class_weight': 'balanced',\n",
            " 'criterion': 'entropy',\n",
            " 'max_depth': None,\n",
            " 'max_features': 0.7,\n",
            " 'max_leaf_nodes': None,\n",
            " 'max_samples': None,\n",
            " 'min_impurity_decrease': 0.0,\n",
            " 'min_impurity_split': None,\n",
            " 'min_samples_leaf': 0.035789473684210524,\n",
            " 'min_samples_split': 0.2442105263157895,\n",
            " 'min_weight_fraction_leaf': 0.0,\n",
            " 'n_estimators': 25,\n",
            " 'n_jobs': 1,\n",
            " 'oob_score': True,\n",
            " 'random_state': None,\n",
            " 'verbose': 0,\n",
            " 'warm_start': False}\n",
            "\n",
            "27 - maxabsscaler\n",
            "{'copy': True}\n",
            "\n",
            "27 - randomforestclassifier\n",
            "{'bootstrap': False,\n",
            " 'ccp_alpha': 0.0,\n",
            " 'class_weight': 'balanced',\n",
            " 'criterion': 'gini',\n",
            " 'max_depth': None,\n",
            " 'max_features': 'sqrt',\n",
            " 'max_leaf_nodes': None,\n",
            " 'max_samples': None,\n",
            " 'min_impurity_decrease': 0.0,\n",
            " 'min_impurity_split': None,\n",
            " 'min_samples_leaf': 0.1131578947368421,\n",
            " 'min_samples_split': 0.33789473684210525,\n",
            " 'min_weight_fraction_leaf': 0.0,\n",
            " 'n_estimators': 200,\n",
            " 'n_jobs': 1,\n",
            " 'oob_score': False,\n",
            " 'random_state': None,\n",
            " 'verbose': 0,\n",
            " 'warm_start': False}\n",
            "\n",
            "14 - sparsenormalizer\n",
            "{'copy': True, 'norm': 'l1'}\n",
            "\n",
            "14 - xgboostclassifier\n",
            "{'base_score': 0.5,\n",
            " 'booster': 'gbtree',\n",
            " 'colsample_bylevel': 1,\n",
            " 'colsample_bynode': 1,\n",
            " 'colsample_bytree': 1,\n",
            " 'eta': 0.3,\n",
            " 'gamma': 0,\n",
            " 'grow_policy': 'lossguide',\n",
            " 'learning_rate': 0.1,\n",
            " 'max_bin': 63,\n",
            " 'max_delta_step': 0,\n",
            " 'max_depth': 10,\n",
            " 'max_leaves': 127,\n",
            " 'min_child_weight': 1,\n",
            " 'missing': nan,\n",
            " 'n_estimators': 10,\n",
            " 'n_jobs': 1,\n",
            " 'nthread': None,\n",
            " 'objective': 'reg:logistic',\n",
            " 'random_state': 0,\n",
            " 'reg_alpha': 0,\n",
            " 'reg_lambda': 1.25,\n",
            " 'scale_pos_weight': 1,\n",
            " 'seed': None,\n",
            " 'silent': None,\n",
            " 'subsample': 0.6,\n",
            " 'tree_method': 'hist',\n",
            " 'verbose': -10,\n",
            " 'verbosity': 0}\n",
            "\n",
            "17 - sparsenormalizer\n",
            "{'copy': True, 'norm': 'l2'}\n",
            "\n",
            "17 - xgboostclassifier\n",
            "{'base_score': 0.5,\n",
            " 'booster': 'gbtree',\n",
            " 'colsample_bylevel': 0.7,\n",
            " 'colsample_bynode': 1,\n",
            " 'colsample_bytree': 1,\n",
            " 'eta': 0.2,\n",
            " 'gamma': 0,\n",
            " 'learning_rate': 0.1,\n",
            " 'max_delta_step': 0,\n",
            " 'max_depth': 9,\n",
            " 'max_leaves': 15,\n",
            " 'min_child_weight': 1,\n",
            " 'missing': nan,\n",
            " 'n_estimators': 25,\n",
            " 'n_jobs': 1,\n",
            " 'nthread': None,\n",
            " 'objective': 'reg:logistic',\n",
            " 'random_state': 0,\n",
            " 'reg_alpha': 2.0833333333333335,\n",
            " 'reg_lambda': 0.3125,\n",
            " 'scale_pos_weight': 1,\n",
            " 'seed': None,\n",
            " 'silent': None,\n",
            " 'subsample': 1,\n",
            " 'tree_method': 'auto',\n",
            " 'verbose': -10,\n",
            " 'verbosity': 0}\n",
            "\n"
          ]
        }
      ],
      "execution_count": 28,
      "metadata": {
        "collapsed": true,
        "jupyter": {
          "source_hidden": false,
          "outputs_hidden": false
        },
        "nteract": {
          "transient": {
            "deleting": false
          }
        },
        "gather": {
          "logged": 1612943453825
        }
      }
    },
    {
      "cell_type": "code",
      "source": [
        "#TODO: Save the best model\r\n",
        "os.makedirs('outputs', exist_ok=True)\r\n",
        "\r\n",
        "joblib.dump(fitted_model, 'outputs/automlmodel.joblib')\r\n"
      ],
      "outputs": [
        {
          "output_type": "execute_result",
          "execution_count": 29,
          "data": {
            "text/plain": "['outputs/automlmodel.joblib']"
          },
          "metadata": {}
        }
      ],
      "execution_count": 29,
      "metadata": {
        "gather": {
          "logged": 1612943481682
        },
        "jupyter": {
          "outputs_hidden": false,
          "source_hidden": false
        },
        "nteract": {
          "transient": {
            "deleting": false
          }
        }
      }
    },
    {
      "cell_type": "markdown",
      "source": [
        "## Model Deployment\n",
        "\n",
        "Remember you have to deploy only one of the two models you trained.. Perform the steps in the rest of this notebook only if you wish to deploy this model.\n",
        "\n",
        "TODO: In the cell below, register the model, create an inference config and deploy the model as a web service."
      ],
      "metadata": {}
    },
    {
      "cell_type": "code",
      "source": [
        "model_name = best_run.properties['model_name']\r\n",
        "description = 'AutoML Model'\r\n",
        "tags = None\r\n",
        "model = remote_run.register_model(model_name = model_name, description = description, tags = tags)"
      ],
      "outputs": [],
      "execution_count": 30,
      "metadata": {
        "gather": {
          "logged": 1612943489320
        },
        "jupyter": {
          "outputs_hidden": false,
          "source_hidden": false
        },
        "nteract": {
          "transient": {
            "deleting": false
          }
        }
      }
    },
    {
      "cell_type": "markdown",
      "source": [
        "TODO: In the cell below, send a request to the web service you deployed to test it."
      ],
      "metadata": {
        "collapsed": true,
        "gather": {
          "logged": 1598431657736
        },
        "jupyter": {
          "outputs_hidden": false,
          "source_hidden": false
        },
        "nteract": {
          "transient": {
            "deleting": false
          }
        }
      }
    },
    {
      "cell_type": "code",
      "source": [],
      "outputs": [],
      "execution_count": null,
      "metadata": {
        "gather": {
          "logged": 1598432707604
        },
        "jupyter": {
          "outputs_hidden": false,
          "source_hidden": false
        },
        "nteract": {
          "transient": {
            "deleting": false
          }
        }
      }
    },
    {
      "cell_type": "markdown",
      "source": [
        "TODO: In the cell below, print the logs of the web service and delete the service"
      ],
      "metadata": {
        "collapsed": true,
        "gather": {
          "logged": 1598432765711
        },
        "jupyter": {
          "outputs_hidden": false,
          "source_hidden": false
        },
        "nteract": {
          "transient": {
            "deleting": false
          }
        }
      }
    },
    {
      "cell_type": "code",
      "source": [],
      "outputs": [],
      "execution_count": null,
      "metadata": {
        "jupyter": {
          "outputs_hidden": false,
          "source_hidden": false
        },
        "nteract": {
          "transient": {
            "deleting": false
          }
        }
      }
    }
  ],
  "metadata": {
    "kernel_info": {
      "name": "python3-azureml"
    },
    "kernelspec": {
      "name": "python3-azureml",
      "language": "python",
      "display_name": "Python 3.6 - AzureML"
    },
    "language_info": {
      "name": "python",
      "version": "3.6.9",
      "mimetype": "text/x-python",
      "codemirror_mode": {
        "name": "ipython",
        "version": 3
      },
      "pygments_lexer": "ipython3",
      "nbconvert_exporter": "python",
      "file_extension": ".py"
    },
    "nteract": {
      "version": "nteract-front-end@1.0.0"
    }
  },
  "nbformat": 4,
  "nbformat_minor": 2
}
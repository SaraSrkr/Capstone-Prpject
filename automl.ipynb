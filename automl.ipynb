{
  "cells": [
    {
      "cell_type": "markdown",
      "source": [
        "# Automated ML\n",
        "\n",
        "TODO: Import Dependencies. In the cell below, import all the dependencies that you will need to complete the project."
      ],
      "metadata": {}
    },
    {
      "cell_type": "code",
      "source": [
        "import logging\r\n",
        "import os\r\n",
        "import csv\r\n",
        "\r\n",
        "from matplotlib import pyplot as plt\r\n",
        "import numpy as np\r\n",
        "import pandas as pd\r\n",
        "from sklearn import datasets\r\n",
        "import pkg_resources\r\n",
        "\r\n",
        "import azureml.core\r\n",
        "from azureml.core.experiment import Experiment\r\n",
        "from azureml.core.workspace import Workspace\r\n",
        "from azureml.train.automl import AutoMLConfig\r\n",
        "from azureml.core.dataset import Dataset\r\n",
        "\r\n",
        "from azureml.pipeline.steps import AutoMLStep\r\n",
        "\r\n",
        "\r\n",
        "# Check core SDK version number\r\n",
        "print(\"SDK version:\", azureml.core.VERSION)"
      ],
      "outputs": [
        {
          "output_type": "stream",
          "name": "stdout",
          "text": [
            "SDK version: 1.20.0\n"
          ]
        }
      ],
      "execution_count": 1,
      "metadata": {
        "gather": {
          "logged": 1613018660436
        },
        "jupyter": {
          "outputs_hidden": false,
          "source_hidden": false
        },
        "nteract": {
          "transient": {
            "deleting": false
          }
        }
      }
    },
    {
      "cell_type": "markdown",
      "source": [
        "## Dataset\n",
        "\n",
        "### Overview\n",
        "TODO: In this markdown cell, give an overview of the dataset you are using. Also mention the task you will be performing.\n",
        "\n",
        "\n",
        "TODO: Get data. In the cell below, write code to access the data you will be using in this project. Remember that the dataset needs to be external."
      ],
      "metadata": {}
    },
    {
      "cell_type": "code",
      "source": [
        "ws = Workspace.from_config()\n",
        "print(ws.name, ws.resource_group, ws.location, ws.subscription_id, sep = '\\n')\n",
        "# choose a name for experiment\n",
        "experiment_name = 'diabetes'\n",
        "\n",
        "project_folder = './diabetes-project'\n",
        "\n",
        "experiment = Experiment(ws, experiment_name)\n",
        "experiment"
      ],
      "outputs": [
        {
          "output_type": "stream",
          "name": "stdout",
          "text": [
            "quick-starts-ws-138480\n",
            "aml-quickstarts-138480\n",
            "southcentralus\n",
            "9a7511b8-150f-4a58-8528-3e7d50216c31\n"
          ]
        },
        {
          "output_type": "execute_result",
          "execution_count": 2,
          "data": {
            "text/plain": "Experiment(Name: diabetes,\nWorkspace: quick-starts-ws-138480)",
            "text/html": "<table style=\"width:100%\"><tr><th>Name</th><th>Workspace</th><th>Report Page</th><th>Docs Page</th></tr><tr><td>diabetes</td><td>quick-starts-ws-138480</td><td><a href=\"https://ml.azure.com/experiments/diabetes?wsid=/subscriptions/9a7511b8-150f-4a58-8528-3e7d50216c31/resourcegroups/aml-quickstarts-138480/workspaces/quick-starts-ws-138480\" target=\"_blank\" rel=\"noopener\">Link to Azure Machine Learning studio</a></td><td><a href=\"https://docs.microsoft.com/en-us/python/api/azureml-core/azureml.core.experiment.Experiment?view=azure-ml-py\" target=\"_blank\" rel=\"noopener\">Link to Documentation</a></td></tr></table>"
          },
          "metadata": {}
        }
      ],
      "execution_count": 2,
      "metadata": {
        "gather": {
          "logged": 1613018669477
        },
        "jupyter": {
          "outputs_hidden": false,
          "source_hidden": false
        },
        "nteract": {
          "transient": {
            "deleting": false
          }
        }
      }
    },
    {
      "cell_type": "code",
      "source": [
        "from azureml.core.compute import AmlCompute\r\n",
        "from azureml.core.compute import ComputeTarget\r\n",
        "from azureml.core.compute_target import ComputeTargetException\r\n",
        "\r\n",
        "# NOTE: update the cluster name to match the existing cluster\r\n",
        "# Choose a name for your CPU cluster\r\n",
        "amlcompute_cluster_name = \"capcpu\"\r\n",
        "\r\n",
        "# Verify that cluster does not exist already\r\n",
        "try:\r\n",
        "    compute_target = ComputeTarget(workspace=ws, name=amlcompute_cluster_name)\r\n",
        "    print('Found existing cluster, use it.')\r\n",
        "except ComputeTargetException:\r\n",
        "\r\n",
        "    compute_config = AmlCompute.provisioning_configuration(vm_size='STANDARD_D2_V2',# for GPU, use \"STANDARD_NC6\"\r\n",
        "                                                           #vm_priority = 'lowpriority', # optional\r\n",
        "                                                             max_nodes=4)\r\n",
        "    compute_target = ComputeTarget.create(ws, amlcompute_cluster_name, compute_config)\r\n",
        "\r\n",
        "compute_target.wait_for_completion(show_output=True, min_node_count = 1, timeout_in_minutes = 10)\r\n",
        "# For a more detailed view of current AmlCompute status, use get_status()."
      ],
      "outputs": [
        {
          "output_type": "stream",
          "name": "stdout",
          "text": [
            "Found existing cluster, use it.\n",
            "Succeeded.....................................................................................................................\n",
            "AmlCompute wait for completion finished\n",
            "\n",
            "Wait timeout has been reached\n",
            "Current provisioning state of AmlCompute is \"Succeeded\" and current node count is \"0\"\n"
          ]
        }
      ],
      "execution_count": 3,
      "metadata": {
        "collapsed": true,
        "jupyter": {
          "source_hidden": false,
          "outputs_hidden": false
        },
        "nteract": {
          "transient": {
            "deleting": false
          }
        },
        "gather": {
          "logged": 1613019315938
        }
      }
    },
    {
      "cell_type": "code",
      "source": [
        "found = False\r\n",
        "key = \"diabetes\"\r\n",
        "description_text = \"predict diabetes\"\r\n",
        "\r\n",
        "if key in ws.datasets.keys(): \r\n",
        "        found = True\r\n",
        "        dataset = ws.datasets[key] \r\n",
        "\r\n",
        "if not found:\r\n",
        "        # Create Dataset and register it into Workspace\r\n",
        "        example_data = 'https://raw.githubusercontent.com/SaraSrkr/Capstone-Prpject/main/diabetes.csv'\r\n",
        "        dataset = Dataset.Tabular.from_delimited_files(example_data)        \r\n",
        "        #Register Dataset in Workspace\r\n",
        "        dataset = dataset.register(workspace=ws,\r\n",
        "                                   name=key,\r\n",
        "                                   description=description_text)\r\n",
        "\r\n",
        "df = dataset.to_pandas_dataframe()\r\n",
        "df.describe()"
      ],
      "outputs": [
        {
          "output_type": "execute_result",
          "execution_count": 5,
          "data": {
            "text/plain": "       Pregnancies     Glucose  BloodPressure  SkinThickness     Insulin  \\\ncount   768.000000  768.000000     768.000000     768.000000  768.000000   \nmean      3.845052  120.894531      69.105469      20.536458   79.799479   \nstd       3.369578   31.972618      19.355807      15.952218  115.244002   \nmin       0.000000    0.000000       0.000000       0.000000    0.000000   \n25%       1.000000   99.000000      62.000000       0.000000    0.000000   \n50%       3.000000  117.000000      72.000000      23.000000   30.500000   \n75%       6.000000  140.250000      80.000000      32.000000  127.250000   \nmax      17.000000  199.000000     122.000000      99.000000  846.000000   \n\n              BMI  DiabetesPedigreeFunction         Age     Outcome  \ncount  768.000000                768.000000  768.000000  768.000000  \nmean    31.992578                  0.471876   33.240885    0.348958  \nstd      7.884160                  0.331329   11.760232    0.476951  \nmin      0.000000                  0.078000   21.000000    0.000000  \n25%     27.300000                  0.243750   24.000000    0.000000  \n50%     32.000000                  0.372500   29.000000    0.000000  \n75%     36.600000                  0.626250   41.000000    1.000000  \nmax     67.100000                  2.420000   81.000000    1.000000  ",
            "text/html": "<div>\n<style scoped>\n    .dataframe tbody tr th:only-of-type {\n        vertical-align: middle;\n    }\n\n    .dataframe tbody tr th {\n        vertical-align: top;\n    }\n\n    .dataframe thead th {\n        text-align: right;\n    }\n</style>\n<table border=\"1\" class=\"dataframe\">\n  <thead>\n    <tr style=\"text-align: right;\">\n      <th></th>\n      <th>Pregnancies</th>\n      <th>Glucose</th>\n      <th>BloodPressure</th>\n      <th>SkinThickness</th>\n      <th>Insulin</th>\n      <th>BMI</th>\n      <th>DiabetesPedigreeFunction</th>\n      <th>Age</th>\n      <th>Outcome</th>\n    </tr>\n  </thead>\n  <tbody>\n    <tr>\n      <th>count</th>\n      <td>768.000000</td>\n      <td>768.000000</td>\n      <td>768.000000</td>\n      <td>768.000000</td>\n      <td>768.000000</td>\n      <td>768.000000</td>\n      <td>768.000000</td>\n      <td>768.000000</td>\n      <td>768.000000</td>\n    </tr>\n    <tr>\n      <th>mean</th>\n      <td>3.845052</td>\n      <td>120.894531</td>\n      <td>69.105469</td>\n      <td>20.536458</td>\n      <td>79.799479</td>\n      <td>31.992578</td>\n      <td>0.471876</td>\n      <td>33.240885</td>\n      <td>0.348958</td>\n    </tr>\n    <tr>\n      <th>std</th>\n      <td>3.369578</td>\n      <td>31.972618</td>\n      <td>19.355807</td>\n      <td>15.952218</td>\n      <td>115.244002</td>\n      <td>7.884160</td>\n      <td>0.331329</td>\n      <td>11.760232</td>\n      <td>0.476951</td>\n    </tr>\n    <tr>\n      <th>min</th>\n      <td>0.000000</td>\n      <td>0.000000</td>\n      <td>0.000000</td>\n      <td>0.000000</td>\n      <td>0.000000</td>\n      <td>0.000000</td>\n      <td>0.078000</td>\n      <td>21.000000</td>\n      <td>0.000000</td>\n    </tr>\n    <tr>\n      <th>25%</th>\n      <td>1.000000</td>\n      <td>99.000000</td>\n      <td>62.000000</td>\n      <td>0.000000</td>\n      <td>0.000000</td>\n      <td>27.300000</td>\n      <td>0.243750</td>\n      <td>24.000000</td>\n      <td>0.000000</td>\n    </tr>\n    <tr>\n      <th>50%</th>\n      <td>3.000000</td>\n      <td>117.000000</td>\n      <td>72.000000</td>\n      <td>23.000000</td>\n      <td>30.500000</td>\n      <td>32.000000</td>\n      <td>0.372500</td>\n      <td>29.000000</td>\n      <td>0.000000</td>\n    </tr>\n    <tr>\n      <th>75%</th>\n      <td>6.000000</td>\n      <td>140.250000</td>\n      <td>80.000000</td>\n      <td>32.000000</td>\n      <td>127.250000</td>\n      <td>36.600000</td>\n      <td>0.626250</td>\n      <td>41.000000</td>\n      <td>1.000000</td>\n    </tr>\n    <tr>\n      <th>max</th>\n      <td>17.000000</td>\n      <td>199.000000</td>\n      <td>122.000000</td>\n      <td>99.000000</td>\n      <td>846.000000</td>\n      <td>67.100000</td>\n      <td>2.420000</td>\n      <td>81.000000</td>\n      <td>1.000000</td>\n    </tr>\n  </tbody>\n</table>\n</div>"
          },
          "metadata": {}
        }
      ],
      "execution_count": 5,
      "metadata": {
        "collapsed": true,
        "jupyter": {
          "source_hidden": false,
          "outputs_hidden": false
        },
        "nteract": {
          "transient": {
            "deleting": false
          }
        },
        "gather": {
          "logged": 1613019478488
        }
      }
    },
    {
      "cell_type": "code",
      "source": [
        "dataset.take(5).to_pandas_dataframe()"
      ],
      "outputs": [
        {
          "output_type": "execute_result",
          "execution_count": 6,
          "data": {
            "text/plain": "   Pregnancies  Glucose  BloodPressure  SkinThickness  Insulin   BMI  \\\n0            6      148             72             35        0  33.6   \n1            1       85             66             29        0  26.6   \n2            8      183             64              0        0  23.3   \n3            1       89             66             23       94  28.1   \n4            0      137             40             35      168  43.1   \n\n   DiabetesPedigreeFunction  Age  Outcome  \n0                     0.627   50        1  \n1                     0.351   31        0  \n2                     0.672   32        1  \n3                     0.167   21        0  \n4                     2.288   33        1  ",
            "text/html": "<div>\n<style scoped>\n    .dataframe tbody tr th:only-of-type {\n        vertical-align: middle;\n    }\n\n    .dataframe tbody tr th {\n        vertical-align: top;\n    }\n\n    .dataframe thead th {\n        text-align: right;\n    }\n</style>\n<table border=\"1\" class=\"dataframe\">\n  <thead>\n    <tr style=\"text-align: right;\">\n      <th></th>\n      <th>Pregnancies</th>\n      <th>Glucose</th>\n      <th>BloodPressure</th>\n      <th>SkinThickness</th>\n      <th>Insulin</th>\n      <th>BMI</th>\n      <th>DiabetesPedigreeFunction</th>\n      <th>Age</th>\n      <th>Outcome</th>\n    </tr>\n  </thead>\n  <tbody>\n    <tr>\n      <th>0</th>\n      <td>6</td>\n      <td>148</td>\n      <td>72</td>\n      <td>35</td>\n      <td>0</td>\n      <td>33.6</td>\n      <td>0.627</td>\n      <td>50</td>\n      <td>1</td>\n    </tr>\n    <tr>\n      <th>1</th>\n      <td>1</td>\n      <td>85</td>\n      <td>66</td>\n      <td>29</td>\n      <td>0</td>\n      <td>26.6</td>\n      <td>0.351</td>\n      <td>31</td>\n      <td>0</td>\n    </tr>\n    <tr>\n      <th>2</th>\n      <td>8</td>\n      <td>183</td>\n      <td>64</td>\n      <td>0</td>\n      <td>0</td>\n      <td>23.3</td>\n      <td>0.672</td>\n      <td>32</td>\n      <td>1</td>\n    </tr>\n    <tr>\n      <th>3</th>\n      <td>1</td>\n      <td>89</td>\n      <td>66</td>\n      <td>23</td>\n      <td>94</td>\n      <td>28.1</td>\n      <td>0.167</td>\n      <td>21</td>\n      <td>0</td>\n    </tr>\n    <tr>\n      <th>4</th>\n      <td>0</td>\n      <td>137</td>\n      <td>40</td>\n      <td>35</td>\n      <td>168</td>\n      <td>43.1</td>\n      <td>2.288</td>\n      <td>33</td>\n      <td>1</td>\n    </tr>\n  </tbody>\n</table>\n</div>"
          },
          "metadata": {}
        }
      ],
      "execution_count": 6,
      "metadata": {
        "collapsed": true,
        "jupyter": {
          "source_hidden": false,
          "outputs_hidden": false
        },
        "nteract": {
          "transient": {
            "deleting": false
          }
        },
        "gather": {
          "logged": 1613019484630
        }
      }
    },
    {
      "cell_type": "markdown",
      "source": [
        "## AutoML Configuration\n",
        "\n",
        "TODO: Explain why you chose the automl settings and cofiguration you used below."
      ],
      "metadata": {}
    },
    {
      "cell_type": "code",
      "source": [
        "# TODO: Put your automl settings here\n",
        "automl_settings = {\n",
        "    \"experiment_timeout_minutes\": 30,\n",
        "    \"max_concurrent_iterations\": 3,\n",
        "    \"primary_metric\" : 'accuracy'\n",
        "}\n",
        "\n",
        "# TODO: Put your automl config here\n",
        "automl_config = AutoMLConfig(compute_target=compute_target,\n",
        "                             task = \"classification\",\n",
        "                             training_data=dataset,\n",
        "                             label_column_name=\"Outcome\",   \n",
        "                             path = project_folder,\n",
        "                             enable_early_stopping= True,\n",
        "                             featurization= 'auto',\n",
        "                             debug_log = \"automl_errors.log\",\n",
        "                             **automl_settings)"
      ],
      "outputs": [],
      "execution_count": 7,
      "metadata": {
        "gather": {
          "logged": 1613019491930
        },
        "jupyter": {
          "outputs_hidden": false,
          "source_hidden": false
        },
        "nteract": {
          "transient": {
            "deleting": false
          }
        }
      }
    },
    {
      "cell_type": "code",
      "source": [
        "# TODO: Submit your experiment\n",
        "remote_run = experiment.submit(automl_config)"
      ],
      "outputs": [
        {
          "output_type": "stream",
          "name": "stdout",
          "text": [
            "Running on remote.\n"
          ]
        }
      ],
      "execution_count": 8,
      "metadata": {
        "gather": {
          "logged": 1613019500775
        },
        "jupyter": {
          "outputs_hidden": false,
          "source_hidden": false
        },
        "nteract": {
          "transient": {
            "deleting": false
          }
        }
      }
    },
    {
      "cell_type": "markdown",
      "source": [
        "## Run Details\n",
        "\n",
        "OPTIONAL: Write about the different models trained and their performance. Why do you think some models did better than others?\n",
        "\n",
        "TODO: In the cell below, use the `RunDetails` widget to show the different experiments."
      ],
      "metadata": {}
    },
    {
      "cell_type": "code",
      "source": [
        "from azureml.widgets import RunDetails\r\n",
        "\r\n",
        "RunDetails(remote_run).show()\r\n"
      ],
      "outputs": [
        {
          "output_type": "display_data",
          "data": {
            "text/plain": "_AutoMLWidget(widget_settings={'childWidgetDisplay': 'popup', 'send_telemetry': False, 'log_level': 'INFO', 's…",
            "application/vnd.jupyter.widget-view+json": {
              "version_major": 2,
              "version_minor": 0,
              "model_id": "e3456965ad804c4291525d7b2eed55f3"
            }
          },
          "metadata": {}
        },
        {
          "output_type": "display_data",
          "data": {
            "application/aml.mini.widget.v1": "{\"status\": \"Completed\", \"workbench_run_details_uri\": \"https://ml.azure.com/experiments/diabetes/runs/AutoML_70e158c9-66db-48e6-b4f1-283f0de7d574?wsid=/subscriptions/9a7511b8-150f-4a58-8528-3e7d50216c31/resourcegroups/aml-quickstarts-138480/workspaces/quick-starts-ws-138480\", \"run_id\": \"AutoML_70e158c9-66db-48e6-b4f1-283f0de7d574\", \"run_properties\": {\"run_id\": \"AutoML_70e158c9-66db-48e6-b4f1-283f0de7d574\", \"created_utc\": \"2021-02-11T04:58:19.871862Z\", \"properties\": {\"num_iterations\": \"1000\", \"training_type\": \"TrainFull\", \"acquisition_function\": \"EI\", \"primary_metric\": \"accuracy\", \"train_split\": \"0\", \"acquisition_parameter\": \"0\", \"num_cross_validation\": null, \"target\": \"capcpu\", \"AMLSettingsJsonString\": \"{\\\"path\\\":null,\\\"name\\\":\\\"diabetes\\\",\\\"subscription_id\\\":\\\"9a7511b8-150f-4a58-8528-3e7d50216c31\\\",\\\"resource_group\\\":\\\"aml-quickstarts-138480\\\",\\\"workspace_name\\\":\\\"quick-starts-ws-138480\\\",\\\"region\\\":\\\"southcentralus\\\",\\\"compute_target\\\":\\\"capcpu\\\",\\\"spark_service\\\":null,\\\"azure_service\\\":\\\"remote\\\",\\\"many_models\\\":false,\\\"pipeline_fetch_max_batch_size\\\":1,\\\"iterations\\\":1000,\\\"primary_metric\\\":\\\"accuracy\\\",\\\"task_type\\\":\\\"classification\\\",\\\"data_script\\\":null,\\\"validation_size\\\":0.0,\\\"n_cross_validations\\\":null,\\\"y_min\\\":null,\\\"y_max\\\":null,\\\"num_classes\\\":null,\\\"featurization\\\":\\\"auto\\\",\\\"_ignore_package_version_incompatibilities\\\":false,\\\"is_timeseries\\\":false,\\\"max_cores_per_iteration\\\":1,\\\"max_concurrent_iterations\\\":3,\\\"iteration_timeout_minutes\\\":null,\\\"mem_in_mb\\\":null,\\\"enforce_time_on_windows\\\":false,\\\"experiment_timeout_minutes\\\":30,\\\"experiment_exit_score\\\":null,\\\"whitelist_models\\\":null,\\\"blacklist_algos\\\":[\\\"TensorFlowLinearClassifier\\\",\\\"TensorFlowDNN\\\"],\\\"supported_models\\\":[\\\"MultinomialNaiveBayes\\\",\\\"GradientBoosting\\\",\\\"AveragedPerceptronClassifier\\\",\\\"LightGBM\\\",\\\"TensorFlowDNN\\\",\\\"DecisionTree\\\",\\\"LogisticRegression\\\",\\\"SGD\\\",\\\"BernoulliNaiveBayes\\\",\\\"SVM\\\",\\\"ExtremeRandomTrees\\\",\\\"TensorFlowLinearClassifier\\\",\\\"KNN\\\",\\\"XGBoostClassifier\\\",\\\"RandomForest\\\",\\\"LinearSVM\\\"],\\\"auto_blacklist\\\":true,\\\"blacklist_samples_reached\\\":false,\\\"exclude_nan_labels\\\":true,\\\"verbosity\\\":20,\\\"_debug_log\\\":\\\"azureml_automl.log\\\",\\\"show_warnings\\\":false,\\\"model_explainability\\\":true,\\\"service_url\\\":null,\\\"sdk_url\\\":null,\\\"sdk_packages\\\":null,\\\"enable_onnx_compatible_models\\\":false,\\\"enable_split_onnx_featurizer_estimator_models\\\":false,\\\"vm_type\\\":\\\"STANDARD_D2_V2\\\",\\\"telemetry_verbosity\\\":20,\\\"send_telemetry\\\":true,\\\"enable_dnn\\\":false,\\\"scenario\\\":\\\"SDK-1.13.0\\\",\\\"environment_label\\\":null,\\\"force_text_dnn\\\":false,\\\"enable_feature_sweeping\\\":true,\\\"enable_early_stopping\\\":true,\\\"early_stopping_n_iters\\\":10,\\\"metrics\\\":null,\\\"enable_ensembling\\\":true,\\\"enable_stack_ensembling\\\":true,\\\"ensemble_iterations\\\":15,\\\"enable_tf\\\":false,\\\"enable_subsampling\\\":null,\\\"subsample_seed\\\":null,\\\"enable_nimbusml\\\":false,\\\"enable_streaming\\\":false,\\\"force_streaming\\\":false,\\\"track_child_runs\\\":true,\\\"allowed_private_models\\\":[],\\\"label_column_name\\\":\\\"Outcome\\\",\\\"weight_column_name\\\":null,\\\"cv_split_column_names\\\":null,\\\"enable_local_managed\\\":false,\\\"_local_managed_run_id\\\":null,\\\"cost_mode\\\":1,\\\"lag_length\\\":0,\\\"metric_operation\\\":\\\"maximize\\\",\\\"preprocess\\\":true}\", \"DataPrepJsonString\": \"{\\\\\\\"training_data\\\\\\\": \\\\\\\"{\\\\\\\\\\\\\\\"blocks\\\\\\\\\\\\\\\": [{\\\\\\\\\\\\\\\"id\\\\\\\\\\\\\\\": \\\\\\\\\\\\\\\"2fc66de6-24d1-4446-9258-16dec6e2ffbc\\\\\\\\\\\\\\\", \\\\\\\\\\\\\\\"type\\\\\\\\\\\\\\\": \\\\\\\\\\\\\\\"Microsoft.DPrep.GetFilesBlock\\\\\\\\\\\\\\\", \\\\\\\\\\\\\\\"arguments\\\\\\\\\\\\\\\": {\\\\\\\\\\\\\\\"isArchive\\\\\\\\\\\\\\\": false, \\\\\\\\\\\\\\\"path\\\\\\\\\\\\\\\": {\\\\\\\\\\\\\\\"target\\\\\\\\\\\\\\\": 4, \\\\\\\\\\\\\\\"resourceDetails\\\\\\\\\\\\\\\": [{\\\\\\\\\\\\\\\"path\\\\\\\\\\\\\\\": \\\\\\\\\\\\\\\"https://raw.githubusercontent.com/SaraSrkr/Capstone-Prpject/main/diabetes.csv\\\\\\\\\\\\\\\"}]}}, \\\\\\\\\\\\\\\"localData\\\\\\\\\\\\\\\": {}, \\\\\\\\\\\\\\\"isEnabled\\\\\\\\\\\\\\\": true, \\\\\\\\\\\\\\\"name\\\\\\\\\\\\\\\": null, \\\\\\\\\\\\\\\"annotation\\\\\\\\\\\\\\\": null}, {\\\\\\\\\\\\\\\"id\\\\\\\\\\\\\\\": \\\\\\\\\\\\\\\"15839a5d-f37c-473d-ab33-bf17c3fc7e6b\\\\\\\\\\\\\\\", \\\\\\\\\\\\\\\"type\\\\\\\\\\\\\\\": \\\\\\\\\\\\\\\"Microsoft.DPrep.ParseDelimitedBlock\\\\\\\\\\\\\\\", \\\\\\\\\\\\\\\"arguments\\\\\\\\\\\\\\\": {\\\\\\\\\\\\\\\"columnHeadersMode\\\\\\\\\\\\\\\": 3, \\\\\\\\\\\\\\\"fileEncoding\\\\\\\\\\\\\\\": 0, \\\\\\\\\\\\\\\"handleQuotedLineBreaks\\\\\\\\\\\\\\\": false, \\\\\\\\\\\\\\\"preview\\\\\\\\\\\\\\\": false, \\\\\\\\\\\\\\\"separator\\\\\\\\\\\\\\\": \\\\\\\\\\\\\\\",\\\\\\\\\\\\\\\", \\\\\\\\\\\\\\\"skipRows\\\\\\\\\\\\\\\": 0, \\\\\\\\\\\\\\\"skipRowsMode\\\\\\\\\\\\\\\": 0}, \\\\\\\\\\\\\\\"localData\\\\\\\\\\\\\\\": {}, \\\\\\\\\\\\\\\"isEnabled\\\\\\\\\\\\\\\": true, \\\\\\\\\\\\\\\"name\\\\\\\\\\\\\\\": null, \\\\\\\\\\\\\\\"annotation\\\\\\\\\\\\\\\": null}, {\\\\\\\\\\\\\\\"id\\\\\\\\\\\\\\\": \\\\\\\\\\\\\\\"22739218-44e5-40d0-85f0-02250d4c2a21\\\\\\\\\\\\\\\", \\\\\\\\\\\\\\\"type\\\\\\\\\\\\\\\": \\\\\\\\\\\\\\\"Microsoft.DPrep.DropColumnsBlock\\\\\\\\\\\\\\\", \\\\\\\\\\\\\\\"arguments\\\\\\\\\\\\\\\": {\\\\\\\\\\\\\\\"columns\\\\\\\\\\\\\\\": {\\\\\\\\\\\\\\\"type\\\\\\\\\\\\\\\": 0, \\\\\\\\\\\\\\\"details\\\\\\\\\\\\\\\": {\\\\\\\\\\\\\\\"selectedColumns\\\\\\\\\\\\\\\": [\\\\\\\\\\\\\\\"Path\\\\\\\\\\\\\\\"]}}}, \\\\\\\\\\\\\\\"localData\\\\\\\\\\\\\\\": {}, \\\\\\\\\\\\\\\"isEnabled\\\\\\\\\\\\\\\": true, \\\\\\\\\\\\\\\"name\\\\\\\\\\\\\\\": null, \\\\\\\\\\\\\\\"annotation\\\\\\\\\\\\\\\": null}, {\\\\\\\\\\\\\\\"id\\\\\\\\\\\\\\\": \\\\\\\\\\\\\\\"dcfe9511-743c-4e38-b650-7ab1bf1a4c34\\\\\\\\\\\\\\\", \\\\\\\\\\\\\\\"type\\\\\\\\\\\\\\\": \\\\\\\\\\\\\\\"Microsoft.DPrep.SetColumnTypesBlock\\\\\\\\\\\\\\\", \\\\\\\\\\\\\\\"arguments\\\\\\\\\\\\\\\": {\\\\\\\\\\\\\\\"columnConversion\\\\\\\\\\\\\\\": [{\\\\\\\\\\\\\\\"column\\\\\\\\\\\\\\\": {\\\\\\\\\\\\\\\"type\\\\\\\\\\\\\\\": 2, \\\\\\\\\\\\\\\"details\\\\\\\\\\\\\\\": {\\\\\\\\\\\\\\\"selectedColumn\\\\\\\\\\\\\\\": \\\\\\\\\\\\\\\"Pregnancies\\\\\\\\\\\\\\\"}}, \\\\\\\\\\\\\\\"typeProperty\\\\\\\\\\\\\\\": 2}, {\\\\\\\\\\\\\\\"column\\\\\\\\\\\\\\\": {\\\\\\\\\\\\\\\"type\\\\\\\\\\\\\\\": 2, \\\\\\\\\\\\\\\"details\\\\\\\\\\\\\\\": {\\\\\\\\\\\\\\\"selectedColumn\\\\\\\\\\\\\\\": \\\\\\\\\\\\\\\"Glucose\\\\\\\\\\\\\\\"}}, \\\\\\\\\\\\\\\"typeProperty\\\\\\\\\\\\\\\": 2}, {\\\\\\\\\\\\\\\"column\\\\\\\\\\\\\\\": {\\\\\\\\\\\\\\\"type\\\\\\\\\\\\\\\": 2, \\\\\\\\\\\\\\\"details\\\\\\\\\\\\\\\": {\\\\\\\\\\\\\\\"selectedColumn\\\\\\\\\\\\\\\": \\\\\\\\\\\\\\\"BloodPressure\\\\\\\\\\\\\\\"}}, \\\\\\\\\\\\\\\"typeProperty\\\\\\\\\\\\\\\": 2}, {\\\\\\\\\\\\\\\"column\\\\\\\\\\\\\\\": {\\\\\\\\\\\\\\\"type\\\\\\\\\\\\\\\": 2, \\\\\\\\\\\\\\\"details\\\\\\\\\\\\\\\": {\\\\\\\\\\\\\\\"selectedColumn\\\\\\\\\\\\\\\": \\\\\\\\\\\\\\\"SkinThickness\\\\\\\\\\\\\\\"}}, \\\\\\\\\\\\\\\"typeProperty\\\\\\\\\\\\\\\": 2}, {\\\\\\\\\\\\\\\"column\\\\\\\\\\\\\\\": {\\\\\\\\\\\\\\\"type\\\\\\\\\\\\\\\": 2, \\\\\\\\\\\\\\\"details\\\\\\\\\\\\\\\": {\\\\\\\\\\\\\\\"selectedColumn\\\\\\\\\\\\\\\": \\\\\\\\\\\\\\\"Insulin\\\\\\\\\\\\\\\"}}, \\\\\\\\\\\\\\\"typeProperty\\\\\\\\\\\\\\\": 2}, {\\\\\\\\\\\\\\\"column\\\\\\\\\\\\\\\": {\\\\\\\\\\\\\\\"type\\\\\\\\\\\\\\\": 2, \\\\\\\\\\\\\\\"details\\\\\\\\\\\\\\\": {\\\\\\\\\\\\\\\"selectedColumn\\\\\\\\\\\\\\\": \\\\\\\\\\\\\\\"BMI\\\\\\\\\\\\\\\"}}, \\\\\\\\\\\\\\\"typeProperty\\\\\\\\\\\\\\\": 3}, {\\\\\\\\\\\\\\\"column\\\\\\\\\\\\\\\": {\\\\\\\\\\\\\\\"type\\\\\\\\\\\\\\\": 2, \\\\\\\\\\\\\\\"details\\\\\\\\\\\\\\\": {\\\\\\\\\\\\\\\"selectedColumn\\\\\\\\\\\\\\\": \\\\\\\\\\\\\\\"DiabetesPedigreeFunction\\\\\\\\\\\\\\\"}}, \\\\\\\\\\\\\\\"typeProperty\\\\\\\\\\\\\\\": 3}, {\\\\\\\\\\\\\\\"column\\\\\\\\\\\\\\\": {\\\\\\\\\\\\\\\"type\\\\\\\\\\\\\\\": 2, \\\\\\\\\\\\\\\"details\\\\\\\\\\\\\\\": {\\\\\\\\\\\\\\\"selectedColumn\\\\\\\\\\\\\\\": \\\\\\\\\\\\\\\"Age\\\\\\\\\\\\\\\"}}, \\\\\\\\\\\\\\\"typeProperty\\\\\\\\\\\\\\\": 2}, {\\\\\\\\\\\\\\\"column\\\\\\\\\\\\\\\": {\\\\\\\\\\\\\\\"type\\\\\\\\\\\\\\\": 2, \\\\\\\\\\\\\\\"details\\\\\\\\\\\\\\\": {\\\\\\\\\\\\\\\"selectedColumn\\\\\\\\\\\\\\\": \\\\\\\\\\\\\\\"Outcome\\\\\\\\\\\\\\\"}}, \\\\\\\\\\\\\\\"typeProperty\\\\\\\\\\\\\\\": 2}]}, \\\\\\\\\\\\\\\"localData\\\\\\\\\\\\\\\": {}, \\\\\\\\\\\\\\\"isEnabled\\\\\\\\\\\\\\\": true, \\\\\\\\\\\\\\\"name\\\\\\\\\\\\\\\": null, \\\\\\\\\\\\\\\"annotation\\\\\\\\\\\\\\\": null}], \\\\\\\\\\\\\\\"inspectors\\\\\\\\\\\\\\\": [], \\\\\\\\\\\\\\\"meta\\\\\\\\\\\\\\\": {\\\\\\\\\\\\\\\"savedDatasetId\\\\\\\\\\\\\\\": \\\\\\\\\\\\\\\"30ff6bd5-68f1-40f7-9628-78055e09066c\\\\\\\\\\\\\\\", \\\\\\\\\\\\\\\"datasetType\\\\\\\\\\\\\\\": \\\\\\\\\\\\\\\"tabular\\\\\\\\\\\\\\\", \\\\\\\\\\\\\\\"subscriptionId\\\\\\\\\\\\\\\": \\\\\\\\\\\\\\\"9a7511b8-150f-4a58-8528-3e7d50216c31\\\\\\\\\\\\\\\", \\\\\\\\\\\\\\\"workspaceId\\\\\\\\\\\\\\\": \\\\\\\\\\\\\\\"365befeb-9387-4170-8254-d45cbdf532cd\\\\\\\\\\\\\\\", \\\\\\\\\\\\\\\"workspaceLocation\\\\\\\\\\\\\\\": \\\\\\\\\\\\\\\"southcentralus\\\\\\\\\\\\\\\"}}\\\\\\\", \\\\\\\"activities\\\\\\\": 0}\", \"EnableSubsampling\": null, \"runTemplate\": \"AutoML\", \"azureml.runsource\": \"automl\", \"display_task_type\": \"classification\", \"dependencies_versions\": \"{\\\"azureml-widgets\\\": \\\"1.20.0\\\", \\\"azureml-train\\\": \\\"1.20.0\\\", \\\"azureml-train-restclients-hyperdrive\\\": \\\"1.20.0\\\", \\\"azureml-train-core\\\": \\\"1.20.0\\\", \\\"azureml-train-automl\\\": \\\"1.20.0\\\", \\\"azureml-train-automl-runtime\\\": \\\"1.20.0\\\", \\\"azureml-train-automl-client\\\": \\\"1.20.0\\\", \\\"azureml-tensorboard\\\": \\\"1.20.0\\\", \\\"azureml-telemetry\\\": \\\"1.20.0\\\", \\\"azureml-sdk\\\": \\\"1.20.0\\\", \\\"azureml-samples\\\": \\\"0+unknown\\\", \\\"azureml-pipeline\\\": \\\"1.20.0\\\", \\\"azureml-pipeline-steps\\\": \\\"1.20.0\\\", \\\"azureml-pipeline-core\\\": \\\"1.20.0\\\", \\\"azureml-opendatasets\\\": \\\"1.20.0\\\", \\\"azureml-model-management-sdk\\\": \\\"1.0.1b6.post1\\\", \\\"azureml-mlflow\\\": \\\"1.20.0.post1\\\", \\\"azureml-interpret\\\": \\\"1.20.0\\\", \\\"azureml-explain-model\\\": \\\"1.20.0\\\", \\\"azureml-defaults\\\": \\\"1.20.0\\\", \\\"azureml-dataset-runtime\\\": \\\"1.20.0\\\", \\\"azureml-dataprep\\\": \\\"2.7.3\\\", \\\"azureml-dataprep-rslex\\\": \\\"1.5.0\\\", \\\"azureml-dataprep-native\\\": \\\"27.0.0\\\", \\\"azureml-datadrift\\\": \\\"1.20.0\\\", \\\"azureml-core\\\": \\\"1.20.0\\\", \\\"azureml-contrib-services\\\": \\\"1.20.0\\\", \\\"azureml-contrib-server\\\": \\\"1.20.0\\\", \\\"azureml-contrib-reinforcementlearning\\\": \\\"1.20.0\\\", \\\"azureml-contrib-pipeline-steps\\\": \\\"1.20.0\\\", \\\"azureml-contrib-notebook\\\": \\\"1.20.0\\\", \\\"azureml-contrib-interpret\\\": \\\"1.20.0\\\", \\\"azureml-contrib-gbdt\\\": \\\"1.20.0\\\", \\\"azureml-contrib-fairness\\\": \\\"1.20.0\\\", \\\"azureml-contrib-dataset\\\": \\\"1.20.0\\\", \\\"azureml-cli-common\\\": \\\"1.20.0\\\", \\\"azureml-automl-runtime\\\": \\\"1.20.0\\\", \\\"azureml-automl-core\\\": \\\"1.20.0\\\", \\\"azureml-accel-models\\\": \\\"1.20.0\\\"}\", \"_aml_system_scenario_identification\": \"Remote.Parent\", \"ClientType\": \"SDK\", \"environment_cpu_name\": \"AzureML-AutoML\", \"environment_cpu_label\": \"prod\", \"environment_gpu_name\": \"AzureML-AutoML-GPU\", \"environment_gpu_label\": \"prod\", \"root_attribution\": \"automl\", \"attribution\": \"AutoML\", \"Orchestrator\": \"AutoML\", \"CancelUri\": \"https://southcentralus.experiments.azureml.net/jasmine/v1.0/subscriptions/9a7511b8-150f-4a58-8528-3e7d50216c31/resourceGroups/aml-quickstarts-138480/providers/Microsoft.MachineLearningServices/workspaces/quick-starts-ws-138480/experimentids/e0c50fd6-06bf-4ced-a636-572e9c581541/cancel/AutoML_70e158c9-66db-48e6-b4f1-283f0de7d574\", \"ClientSdkVersion\": \"1.21.0\", \"snapshotId\": \"00000000-0000-0000-0000-000000000000\", \"SetupRunId\": \"AutoML_70e158c9-66db-48e6-b4f1-283f0de7d574_setup\", \"SetupRunContainerId\": \"dcid.AutoML_70e158c9-66db-48e6-b4f1-283f0de7d574_setup\", \"FeaturizationRunJsonPath\": \"featurizer_container.json\", \"FeaturizationRunId\": \"AutoML_70e158c9-66db-48e6-b4f1-283f0de7d574_featurize\", \"ProblemInfoJsonString\": \"{\\\"dataset_num_categorical\\\": 0, \\\"is_sparse\\\": true, \\\"subsampling\\\": false, \\\"dataset_classes\\\": 2, \\\"dataset_features\\\": 24, \\\"dataset_samples\\\": 768, \\\"single_frequency_class_detected\\\": false}\", \"ModelExplainRunId\": \"AutoML_70e158c9-66db-48e6-b4f1-283f0de7d574_ModelExplain\"}, \"tags\": {\"model_explain_run\": \"best_run\", \"_aml_system_azureml.automlComponent\": \"AutoML\", \"pipeline_id\": \"\", \"score\": \"\", \"predicted_cost\": \"\", \"fit_time\": \"\", \"training_percent\": \"\", \"iteration\": \"\", \"run_preprocessor\": \"\", \"run_algorithm\": \"\", \"dynamic_whitelisting_iterations\": \"<25>;<30>;\", \"automl_best_child_run_id\": \"AutoML_70e158c9-66db-48e6-b4f1-283f0de7d574_34\", \"model_explain_best_run_child_id\": \"AutoML_70e158c9-66db-48e6-b4f1-283f0de7d574_34\"}, \"end_time_utc\": \"2021-02-11T05:28:00.336621Z\", \"status\": \"Completed\", \"log_files\": {}, \"log_groups\": [], \"run_duration\": \"0:29:40\"}, \"child_runs\": [{\"run_id\": \"AutoML_70e158c9-66db-48e6-b4f1-283f0de7d574_0\", \"run_number\": 19, \"metric\": null, \"status\": \"Completed\", \"run_type\": \"azureml.scriptrun\", \"training_percent\": \"100\", \"start_time\": \"2021-02-11T05:09:56.643809Z\", \"end_time\": \"2021-02-11T05:10:48.462331Z\", \"created_time\": \"2021-02-11T05:08:46.733689Z\", \"created_time_dt\": \"2021-02-11T05:08:46.733689Z\", \"duration\": \"0:02:01\", \"iteration\": \"0\", \"goal\": \"accuracy_max\", \"run_name\": \"MaxAbsScaler, LightGBM\", \"run_properties\": \"copy=True\", \"primary_metric\": 0.73961039, \"best_metric\": 0.73961039}, {\"run_id\": \"AutoML_70e158c9-66db-48e6-b4f1-283f0de7d574_2\", \"run_number\": 20, \"metric\": null, \"status\": \"Completed\", \"run_type\": \"azureml.scriptrun\", \"training_percent\": \"100\", \"start_time\": \"2021-02-11T05:09:00.770044Z\", \"end_time\": \"2021-02-11T05:09:53.586853Z\", \"created_time\": \"2021-02-11T05:08:46.790377Z\", \"created_time_dt\": \"2021-02-11T05:08:46.790377Z\", \"duration\": \"0:01:06\", \"iteration\": \"2\", \"goal\": \"accuracy_max\", \"run_name\": \"MaxAbsScaler, RandomForest\", \"run_properties\": \"copy=True\", \"primary_metric\": 0.74477102, \"best_metric\": 0.76956596}, {\"run_id\": \"AutoML_70e158c9-66db-48e6-b4f1-283f0de7d574_1\", \"run_number\": 21, \"metric\": null, \"status\": \"Completed\", \"run_type\": \"azureml.scriptrun\", \"training_percent\": \"100\", \"start_time\": \"2021-02-11T05:10:51.669965Z\", \"end_time\": \"2021-02-11T05:11:44.093924Z\", \"created_time\": \"2021-02-11T05:08:46.792603Z\", \"created_time_dt\": \"2021-02-11T05:08:46.792603Z\", \"duration\": \"0:02:57\", \"iteration\": \"1\", \"goal\": \"accuracy_max\", \"run_name\": \"MaxAbsScaler, XGBoostClassifier\", \"run_properties\": \"copy=True\", \"primary_metric\": 0.76956596, \"best_metric\": 0.76956596}, {\"run_id\": \"AutoML_70e158c9-66db-48e6-b4f1-283f0de7d574_3\", \"run_number\": 22, \"metric\": null, \"status\": \"Completed\", \"run_type\": \"azureml.scriptrun\", \"training_percent\": \"100\", \"start_time\": \"2021-02-11T05:11:46.537681Z\", \"end_time\": \"2021-02-11T05:12:43.81239Z\", \"created_time\": \"2021-02-11T05:09:56.058078Z\", \"created_time_dt\": \"2021-02-11T05:09:56.058078Z\", \"duration\": \"0:02:47\", \"iteration\": \"3\", \"goal\": \"accuracy_max\", \"run_name\": \"MaxAbsScaler, RandomForest\", \"run_properties\": \"copy=True\", \"primary_metric\": 0.74224197, \"best_metric\": 0.76956596}, {\"run_id\": \"AutoML_70e158c9-66db-48e6-b4f1-283f0de7d574_4\", \"run_number\": 23, \"metric\": null, \"status\": \"Completed\", \"run_type\": \"azureml.scriptrun\", \"training_percent\": \"100\", \"start_time\": \"2021-02-11T05:12:16.600667Z\", \"end_time\": \"2021-02-11T05:15:40.093369Z\", \"created_time\": \"2021-02-11T05:10:51.26437Z\", \"created_time_dt\": \"2021-02-11T05:10:51.26437Z\", \"duration\": \"0:04:48\", \"iteration\": \"4\", \"goal\": \"accuracy_max\", \"run_name\": \"MaxAbsScaler, RandomForest\", \"run_properties\": \"copy=True\", \"primary_metric\": 0.75005126, \"best_metric\": 0.76956596}, {\"run_id\": \"AutoML_70e158c9-66db-48e6-b4f1-283f0de7d574_5\", \"run_number\": 24, \"metric\": null, \"status\": \"Completed\", \"run_type\": \"azureml.scriptrun\", \"training_percent\": \"100\", \"start_time\": \"2021-02-11T05:12:18.632222Z\", \"end_time\": \"2021-02-11T05:15:50.375325Z\", \"created_time\": \"2021-02-11T05:11:46.80504Z\", \"created_time_dt\": \"2021-02-11T05:11:46.80504Z\", \"duration\": \"0:04:03\", \"iteration\": \"5\", \"goal\": \"accuracy_max\", \"run_name\": \"MaxAbsScaler, RandomForest\", \"run_properties\": \"copy=True\", \"primary_metric\": 0.70575871, \"best_metric\": 0.76956596}, {\"run_id\": \"AutoML_70e158c9-66db-48e6-b4f1-283f0de7d574_6\", \"run_number\": 25, \"metric\": null, \"status\": \"Completed\", \"run_type\": \"azureml.scriptrun\", \"training_percent\": \"100\", \"start_time\": \"2021-02-11T05:12:59.657813Z\", \"end_time\": \"2021-02-11T05:13:49.530306Z\", \"created_time\": \"2021-02-11T05:12:46.281716Z\", \"created_time_dt\": \"2021-02-11T05:12:46.281716Z\", \"duration\": \"0:01:03\", \"iteration\": \"6\", \"goal\": \"accuracy_max\", \"run_name\": \"SparseNormalizer, XGBoostClassifier\", \"run_properties\": \"<azureml.automl.runtime.shared.model_wrappers.SparseNormalizer object at 0x7f9c98696a90\", \"primary_metric\": 0.71093643, \"best_metric\": 0.76956596}, {\"run_id\": \"AutoML_70e158c9-66db-48e6-b4f1-283f0de7d574_7\", \"run_number\": 26, \"metric\": null, \"status\": \"Completed\", \"run_type\": \"azureml.scriptrun\", \"training_percent\": \"100\", \"start_time\": \"2021-02-11T05:14:07.319416Z\", \"end_time\": \"2021-02-11T05:15:09.660379Z\", \"created_time\": \"2021-02-11T05:13:52.512527Z\", \"created_time_dt\": \"2021-02-11T05:13:52.512527Z\", \"duration\": \"0:01:17\", \"iteration\": \"7\", \"goal\": \"accuracy_max\", \"run_name\": \"MaxAbsScaler, LogisticRegression\", \"run_properties\": \"copy=True\", \"primary_metric\": 0.77218045, \"best_metric\": 0.77218045}, {\"run_id\": \"AutoML_70e158c9-66db-48e6-b4f1-283f0de7d574_8\", \"run_number\": 27, \"metric\": null, \"status\": \"Completed\", \"run_type\": \"azureml.scriptrun\", \"training_percent\": \"100\", \"start_time\": \"2021-02-11T05:15:24.745709Z\", \"end_time\": \"2021-02-11T05:16:17.317014Z\", \"created_time\": \"2021-02-11T05:15:11.966582Z\", \"created_time_dt\": \"2021-02-11T05:15:11.966582Z\", \"duration\": \"0:01:05\", \"iteration\": \"8\", \"goal\": \"accuracy_max\", \"run_name\": \"StandardScalerWrapper, RandomForest\", \"run_properties\": \"<azureml.automl.runtime.shared.model_wrappers.StandardScalerWrapper object at 0x7f38916e6da0\", \"primary_metric\": 0.74868421, \"best_metric\": 0.77218045}, {\"run_id\": \"AutoML_70e158c9-66db-48e6-b4f1-283f0de7d574_9\", \"run_number\": 28, \"metric\": null, \"status\": \"Completed\", \"run_type\": \"azureml.scriptrun\", \"training_percent\": \"100\", \"start_time\": \"2021-02-11T05:15:56.551819Z\", \"end_time\": \"2021-02-11T05:16:44.105497Z\", \"created_time\": \"2021-02-11T05:15:43.54329Z\", \"created_time_dt\": \"2021-02-11T05:15:43.54329Z\", \"duration\": \"0:01:00\", \"iteration\": \"9\", \"goal\": \"accuracy_max\", \"run_name\": \"MaxAbsScaler, RandomForest\", \"run_properties\": \"copy=True\", \"primary_metric\": 0.75786056, \"best_metric\": 0.77218045}, {\"run_id\": \"AutoML_70e158c9-66db-48e6-b4f1-283f0de7d574_10\", \"run_number\": 29, \"metric\": null, \"status\": \"Completed\", \"run_type\": \"azureml.scriptrun\", \"training_percent\": \"100\", \"start_time\": \"2021-02-11T05:16:08.610025Z\", \"end_time\": \"2021-02-11T05:17:05.111764Z\", \"created_time\": \"2021-02-11T05:15:52.859274Z\", \"created_time_dt\": \"2021-02-11T05:15:52.859274Z\", \"duration\": \"0:01:12\", \"iteration\": \"10\", \"goal\": \"accuracy_max\", \"run_name\": \"SparseNormalizer, XGBoostClassifier\", \"run_properties\": \"<azureml.automl.runtime.shared.model_wrappers.SparseNormalizer object at 0x7f883cf23da0\", \"primary_metric\": 0.65625427, \"best_metric\": 0.77218045}, {\"run_id\": \"AutoML_70e158c9-66db-48e6-b4f1-283f0de7d574_11\", \"run_number\": 30, \"metric\": null, \"status\": \"Completed\", \"run_type\": \"azureml.scriptrun\", \"training_percent\": \"100\", \"start_time\": \"2021-02-11T05:16:32.236846Z\", \"end_time\": \"2021-02-11T05:17:33.946621Z\", \"created_time\": \"2021-02-11T05:16:18.934221Z\", \"created_time_dt\": \"2021-02-11T05:16:18.934221Z\", \"duration\": \"0:01:15\", \"iteration\": \"11\", \"goal\": \"accuracy_max\", \"run_name\": \"MaxAbsScaler, ExtremeRandomTrees\", \"run_properties\": \"copy=True\", \"primary_metric\": 0.74347232, \"best_metric\": 0.77218045}, {\"run_id\": \"AutoML_70e158c9-66db-48e6-b4f1-283f0de7d574_12\", \"run_number\": 31, \"metric\": null, \"status\": \"Completed\", \"run_type\": \"azureml.scriptrun\", \"training_percent\": \"100\", \"start_time\": \"2021-02-11T05:16:59.27644Z\", \"end_time\": \"2021-02-11T05:17:54.595778Z\", \"created_time\": \"2021-02-11T05:16:46.194834Z\", \"created_time_dt\": \"2021-02-11T05:16:46.194834Z\", \"duration\": \"0:01:08\", \"iteration\": \"12\", \"goal\": \"accuracy_max\", \"run_name\": \"MaxAbsScaler, LightGBM\", \"run_properties\": \"copy=True\", \"primary_metric\": 0.75133288, \"best_metric\": 0.77218045}, {\"run_id\": \"AutoML_70e158c9-66db-48e6-b4f1-283f0de7d574_13\", \"run_number\": 32, \"metric\": null, \"status\": \"Completed\", \"run_type\": \"azureml.scriptrun\", \"training_percent\": \"100\", \"start_time\": \"2021-02-11T05:17:18.918468Z\", \"end_time\": \"2021-02-11T05:18:26.712314Z\", \"created_time\": \"2021-02-11T05:17:06.964259Z\", \"created_time_dt\": \"2021-02-11T05:17:06.964259Z\", \"duration\": \"0:01:19\", \"iteration\": \"13\", \"goal\": \"accuracy_max\", \"run_name\": \"StandardScalerWrapper, LightGBM\", \"run_properties\": \"<azureml.automl.runtime.shared.model_wrappers.StandardScalerWrapper object at 0x7f5ae20be6d8\", \"primary_metric\": 0.76307245, \"best_metric\": 0.77218045}, {\"run_id\": \"AutoML_70e158c9-66db-48e6-b4f1-283f0de7d574_14\", \"run_number\": 33, \"metric\": null, \"status\": \"Completed\", \"run_type\": \"azureml.scriptrun\", \"training_percent\": \"100\", \"start_time\": \"2021-02-11T05:17:49.82544Z\", \"end_time\": \"2021-02-11T05:18:36.24516Z\", \"created_time\": \"2021-02-11T05:17:36.264456Z\", \"created_time_dt\": \"2021-02-11T05:17:36.264456Z\", \"duration\": \"0:00:59\", \"iteration\": \"14\", \"goal\": \"accuracy_max\", \"run_name\": \"MaxAbsScaler, LightGBM\", \"run_properties\": \"copy=True\", \"primary_metric\": 0.76044087, \"best_metric\": 0.77218045}, {\"run_id\": \"AutoML_70e158c9-66db-48e6-b4f1-283f0de7d574_15\", \"run_number\": 34, \"metric\": null, \"status\": \"Completed\", \"run_type\": \"azureml.scriptrun\", \"training_percent\": \"100\", \"start_time\": \"2021-02-11T05:18:07.455684Z\", \"end_time\": \"2021-02-11T05:18:55.477635Z\", \"created_time\": \"2021-02-11T05:17:56.483639Z\", \"created_time_dt\": \"2021-02-11T05:17:56.483639Z\", \"duration\": \"0:00:58\", \"iteration\": \"15\", \"goal\": \"accuracy_max\", \"run_name\": \"MaxAbsScaler, LightGBM\", \"run_properties\": \"copy=True\", \"primary_metric\": 0.77089884, \"best_metric\": 0.77218045}, {\"run_id\": \"AutoML_70e158c9-66db-48e6-b4f1-283f0de7d574_16\", \"run_number\": 35, \"metric\": null, \"status\": \"Completed\", \"run_type\": \"azureml.scriptrun\", \"training_percent\": \"100\", \"start_time\": \"2021-02-11T05:18:40.620057Z\", \"end_time\": \"2021-02-11T05:19:48.880589Z\", \"created_time\": \"2021-02-11T05:18:28.441425Z\", \"created_time_dt\": \"2021-02-11T05:18:28.441425Z\", \"duration\": \"0:01:20\", \"iteration\": \"16\", \"goal\": \"accuracy_max\", \"run_name\": \"StandardScalerWrapper, LightGBM\", \"run_properties\": \"<azureml.automl.runtime.shared.model_wrappers.StandardScalerWrapper object at 0x7fdabec48ef0\", \"primary_metric\": 0.76433698, \"best_metric\": 0.77218045}, {\"run_id\": \"AutoML_70e158c9-66db-48e6-b4f1-283f0de7d574_17\", \"run_number\": 36, \"metric\": null, \"status\": \"Completed\", \"run_type\": \"azureml.scriptrun\", \"training_percent\": \"100\", \"start_time\": \"2021-02-11T05:18:51.564649Z\", \"end_time\": \"2021-02-11T05:19:41.656338Z\", \"created_time\": \"2021-02-11T05:18:38.183225Z\", \"created_time_dt\": \"2021-02-11T05:18:38.183225Z\", \"duration\": \"0:01:03\", \"iteration\": \"17\", \"goal\": \"accuracy_max\", \"run_name\": \"TruncatedSVDWrapper, XGBoostClassifier\", \"run_properties\": \"n_components=0.6036842105263158, random_state=None\", \"primary_metric\": 0.75926179, \"best_metric\": 0.77218045}, {\"run_id\": \"AutoML_70e158c9-66db-48e6-b4f1-283f0de7d574_18\", \"run_number\": 37, \"metric\": null, \"status\": \"Completed\", \"run_type\": \"azureml.scriptrun\", \"training_percent\": \"100\", \"start_time\": \"2021-02-11T05:19:11.400781Z\", \"end_time\": \"2021-02-11T05:20:04.096531Z\", \"created_time\": \"2021-02-11T05:18:57.171005Z\", \"created_time_dt\": \"2021-02-11T05:18:57.171005Z\", \"duration\": \"0:01:06\", \"iteration\": \"18\", \"goal\": \"accuracy_max\", \"run_name\": \"SparseNormalizer, LightGBM\", \"run_properties\": \"<azureml.automl.runtime.shared.model_wrappers.SparseNormalizer object at 0x7f2613b976d8\", \"primary_metric\": 0.70828776, \"best_metric\": 0.77218045}, {\"run_id\": \"AutoML_70e158c9-66db-48e6-b4f1-283f0de7d574_19\", \"run_number\": 38, \"metric\": null, \"status\": \"Completed\", \"run_type\": \"azureml.scriptrun\", \"training_percent\": \"100\", \"start_time\": \"2021-02-11T05:19:56.655398Z\", \"end_time\": \"2021-02-11T05:20:45.103297Z\", \"created_time\": \"2021-02-11T05:19:43.348806Z\", \"created_time_dt\": \"2021-02-11T05:19:43.348806Z\", \"duration\": \"0:01:01\", \"iteration\": \"19\", \"goal\": \"accuracy_max\", \"run_name\": \"SparseNormalizer, XGBoostClassifier\", \"run_properties\": \"<azureml.automl.runtime.shared.model_wrappers.SparseNormalizer object at 0x7fe84a943b38\", \"primary_metric\": 0.70700615, \"best_metric\": 0.77218045}, {\"run_id\": \"AutoML_70e158c9-66db-48e6-b4f1-283f0de7d574_20\", \"run_number\": 39, \"metric\": null, \"status\": \"Completed\", \"run_type\": \"azureml.scriptrun\", \"training_percent\": \"100\", \"start_time\": \"2021-02-11T05:20:05.076809Z\", \"end_time\": \"2021-02-11T05:21:01.012746Z\", \"created_time\": \"2021-02-11T05:19:51.07956Z\", \"created_time_dt\": \"2021-02-11T05:19:51.07956Z\", \"duration\": \"0:01:09\", \"iteration\": \"20\", \"goal\": \"accuracy_max\", \"run_name\": \"MaxAbsScaler, LightGBM\", \"run_properties\": \"copy=True\", \"primary_metric\": 0.75915926, \"best_metric\": 0.77218045}, {\"run_id\": \"AutoML_70e158c9-66db-48e6-b4f1-283f0de7d574_21\", \"run_number\": 40, \"metric\": null, \"status\": \"Completed\", \"run_type\": \"azureml.scriptrun\", \"training_percent\": \"100\", \"start_time\": \"2021-02-11T05:20:17.126511Z\", \"end_time\": \"2021-02-11T05:21:13.896647Z\", \"created_time\": \"2021-02-11T05:20:05.763328Z\", \"created_time_dt\": \"2021-02-11T05:20:05.763328Z\", \"duration\": \"0:01:08\", \"iteration\": \"21\", \"goal\": \"accuracy_max\", \"run_name\": \"SparseNormalizer, XGBoostClassifier\", \"run_properties\": \"<azureml.automl.runtime.shared.model_wrappers.SparseNormalizer object at 0x7f16d10fea20\", \"primary_metric\": 0.71091934, \"best_metric\": 0.77218045}, {\"run_id\": \"AutoML_70e158c9-66db-48e6-b4f1-283f0de7d574_22\", \"run_number\": 41, \"metric\": null, \"status\": \"Completed\", \"run_type\": \"azureml.scriptrun\", \"training_percent\": \"100\", \"start_time\": \"2021-02-11T05:20:59.788083Z\", \"end_time\": \"2021-02-11T05:21:52.051335Z\", \"created_time\": \"2021-02-11T05:20:46.973596Z\", \"created_time_dt\": \"2021-02-11T05:20:46.973596Z\", \"duration\": \"0:01:05\", \"iteration\": \"22\", \"goal\": \"accuracy_max\", \"run_name\": \"SparseNormalizer, XGBoostClassifier\", \"run_properties\": \"<azureml.automl.runtime.shared.model_wrappers.SparseNormalizer object at 0x7f5df5344128\", \"primary_metric\": 0.71095352, \"best_metric\": 0.77218045}, {\"run_id\": \"AutoML_70e158c9-66db-48e6-b4f1-283f0de7d574_23\", \"run_number\": 42, \"metric\": null, \"status\": \"Completed\", \"run_type\": \"azureml.scriptrun\", \"training_percent\": \"100\", \"start_time\": \"2021-02-11T05:21:13.103485Z\", \"end_time\": \"2021-02-11T05:22:06.506856Z\", \"created_time\": \"2021-02-11T05:21:02.877963Z\", \"created_time_dt\": \"2021-02-11T05:21:02.877963Z\", \"duration\": \"0:01:03\", \"iteration\": \"23\", \"goal\": \"accuracy_max\", \"run_name\": \"StandardScalerWrapper, XGBoostClassifier\", \"run_properties\": \"<azureml.automl.runtime.shared.model_wrappers.StandardScalerWrapper object at 0x7f1aadd98a20\", \"primary_metric\": 0.7395933, \"best_metric\": 0.77218045}, {\"run_id\": \"AutoML_70e158c9-66db-48e6-b4f1-283f0de7d574_24\", \"run_number\": 43, \"metric\": null, \"status\": \"Completed\", \"run_type\": \"azureml.scriptrun\", \"training_percent\": \"100\", \"start_time\": \"2021-02-11T05:21:27.899781Z\", \"end_time\": \"2021-02-11T05:22:18.847067Z\", \"created_time\": \"2021-02-11T05:21:16.163868Z\", \"created_time_dt\": \"2021-02-11T05:21:16.163868Z\", \"duration\": \"0:01:02\", \"iteration\": \"24\", \"goal\": \"accuracy_max\", \"run_name\": \"StandardScalerWrapper, RandomForest\", \"run_properties\": \"<azureml.automl.runtime.shared.model_wrappers.StandardScalerWrapper object at 0x7f54104b9898\", \"primary_metric\": 0.68877307, \"best_metric\": 0.77218045}, {\"run_id\": \"AutoML_70e158c9-66db-48e6-b4f1-283f0de7d574_25\", \"run_number\": 44, \"metric\": null, \"status\": \"Completed\", \"run_type\": \"azureml.scriptrun\", \"training_percent\": \"100\", \"start_time\": \"2021-02-11T05:22:06.291064Z\", \"end_time\": \"2021-02-11T05:23:06.636724Z\", \"created_time\": \"2021-02-11T05:21:55.135786Z\", \"created_time_dt\": \"2021-02-11T05:21:55.135786Z\", \"duration\": \"0:01:11\", \"iteration\": \"25\", \"goal\": \"accuracy_max\", \"run_name\": \"SparseNormalizer, LogisticRegression\", \"run_properties\": \"<azureml.automl.runtime.shared.model_wrappers.SparseNormalizer object at 0x7f133c75ae48\", \"primary_metric\": 0.65097403, \"best_metric\": 0.77218045}, {\"run_id\": \"AutoML_70e158c9-66db-48e6-b4f1-283f0de7d574_26\", \"run_number\": 45, \"metric\": null, \"status\": \"Completed\", \"run_type\": \"azureml.scriptrun\", \"training_percent\": \"100\", \"start_time\": \"2021-02-11T05:22:18.724302Z\", \"end_time\": \"2021-02-11T05:23:15.157509Z\", \"created_time\": \"2021-02-11T05:22:08.514477Z\", \"created_time_dt\": \"2021-02-11T05:22:08.514477Z\", \"duration\": \"0:01:06\", \"iteration\": \"26\", \"goal\": \"accuracy_max\", \"run_name\": \"MaxAbsScaler, LightGBM\", \"run_properties\": \"copy=True\", \"primary_metric\": 0.73176692, \"best_metric\": 0.77218045}, {\"run_id\": \"AutoML_70e158c9-66db-48e6-b4f1-283f0de7d574_27\", \"run_number\": 46, \"metric\": null, \"status\": \"Completed\", \"run_type\": \"azureml.scriptrun\", \"training_percent\": \"100\", \"start_time\": \"2021-02-11T05:22:32.982796Z\", \"end_time\": \"2021-02-11T05:23:22.136675Z\", \"created_time\": \"2021-02-11T05:22:20.561504Z\", \"created_time_dt\": \"2021-02-11T05:22:20.561504Z\", \"duration\": \"0:01:01\", \"iteration\": \"27\", \"goal\": \"accuracy_max\", \"run_name\": \"StandardScalerWrapper, LightGBM\", \"run_properties\": \"<azureml.automl.runtime.shared.model_wrappers.StandardScalerWrapper object at 0x7f167addd630\", \"primary_metric\": 0.75657895, \"best_metric\": 0.77218045}, {\"run_id\": \"AutoML_70e158c9-66db-48e6-b4f1-283f0de7d574_28\", \"run_number\": 47, \"metric\": null, \"status\": \"Completed\", \"run_type\": \"azureml.scriptrun\", \"training_percent\": \"100\", \"start_time\": \"2021-02-11T05:23:19.567566Z\", \"end_time\": \"2021-02-11T05:24:26.708986Z\", \"created_time\": \"2021-02-11T05:23:08.453018Z\", \"created_time_dt\": \"2021-02-11T05:23:08.453018Z\", \"duration\": \"0:01:18\", \"iteration\": \"28\", \"goal\": \"accuracy_max\", \"run_name\": \"MaxAbsScaler, RandomForest\", \"run_properties\": \"copy=True\", \"primary_metric\": 0.76049214, \"best_metric\": 0.77218045}, {\"run_id\": \"AutoML_70e158c9-66db-48e6-b4f1-283f0de7d574_29\", \"run_number\": 48, \"metric\": null, \"status\": \"Completed\", \"run_type\": \"azureml.scriptrun\", \"training_percent\": \"100\", \"start_time\": \"2021-02-11T05:23:30.437634Z\", \"end_time\": \"2021-02-11T05:24:25.218082Z\", \"created_time\": \"2021-02-11T05:23:17.281593Z\", \"created_time_dt\": \"2021-02-11T05:23:17.281593Z\", \"duration\": \"0:01:07\", \"iteration\": \"29\", \"goal\": \"accuracy_max\", \"run_name\": \"StandardScalerWrapper, RandomForest\", \"run_properties\": \"<azureml.automl.runtime.shared.model_wrappers.StandardScalerWrapper object at 0x7f438c6691d0\", \"primary_metric\": 0.74994874, \"best_metric\": 0.77218045}, {\"run_id\": \"AutoML_70e158c9-66db-48e6-b4f1-283f0de7d574_30\", \"run_number\": 49, \"metric\": null, \"status\": \"Completed\", \"run_type\": \"azureml.scriptrun\", \"training_percent\": \"100\", \"start_time\": \"2021-02-11T05:23:39.494076Z\", \"end_time\": \"2021-02-11T05:24:37.34693Z\", \"created_time\": \"2021-02-11T05:23:26.675924Z\", \"created_time_dt\": \"2021-02-11T05:23:26.675924Z\", \"duration\": \"0:01:10\", \"iteration\": \"30\", \"goal\": \"accuracy_max\", \"run_name\": \"TruncatedSVDWrapper, LogisticRegression\", \"run_properties\": \"n_components=0.5047368421052632, random_state=None\", \"primary_metric\": 0.65097403, \"best_metric\": 0.77218045}, {\"run_id\": \"AutoML_70e158c9-66db-48e6-b4f1-283f0de7d574_31\", \"run_number\": 50, \"metric\": null, \"status\": \"Completed\", \"run_type\": \"azureml.scriptrun\", \"training_percent\": \"100\", \"start_time\": \"2021-02-11T05:24:41.880223Z\", \"end_time\": \"2021-02-11T05:25:31.106768Z\", \"created_time\": \"2021-02-11T05:24:27.945032Z\", \"created_time_dt\": \"2021-02-11T05:24:27.945032Z\", \"duration\": \"0:01:03\", \"iteration\": \"31\", \"goal\": \"accuracy_max\", \"run_name\": \"StandardScalerWrapper, LightGBM\", \"run_properties\": \"<azureml.automl.runtime.shared.model_wrappers.StandardScalerWrapper object at 0x7f61a0c4d470\", \"primary_metric\": 0.76045796, \"best_metric\": 0.77218045}, {\"run_id\": \"AutoML_70e158c9-66db-48e6-b4f1-283f0de7d574_32\", \"run_number\": 51, \"metric\": null, \"status\": \"Canceled\", \"run_type\": \"azureml.scriptrun\", \"training_percent\": \"100\", \"start_time\": \"2021-02-11T05:24:47.736343Z\", \"end_time\": \"2021-02-11T05:25:39.583131Z\", \"created_time\": \"2021-02-11T05:24:33.912973Z\", \"created_time_dt\": \"2021-02-11T05:24:33.912973Z\", \"duration\": \"0:01:05\", \"iteration\": \"32\", \"goal\": \"accuracy_max\", \"run_name\": \"MaxAbsScaler, LightGBM\", \"run_properties\": \"copy=True\", \"primary_metric\": 0.76177375, \"best_metric\": 0.77218045}, {\"run_id\": \"AutoML_70e158c9-66db-48e6-b4f1-283f0de7d574_33\", \"run_number\": 52, \"metric\": null, \"status\": \"Canceled\", \"run_type\": \"azureml.scriptrun\", \"training_percent\": \"100\", \"start_time\": \"2021-02-11T05:24:53.501992Z\", \"end_time\": \"2021-02-11T05:25:39.595694Z\", \"created_time\": \"2021-02-11T05:24:39.776947Z\", \"created_time_dt\": \"2021-02-11T05:24:39.776947Z\", \"duration\": \"0:00:59\", \"iteration\": \"33\", \"goal\": \"accuracy_max\", \"run_name\": \"MaxAbsScaler, LightGBM\", \"run_properties\": \"copy=True\", \"primary_metric\": 0.75779221, \"best_metric\": 0.77218045}, {\"run_id\": \"AutoML_70e158c9-66db-48e6-b4f1-283f0de7d574_34\", \"run_number\": 53, \"metric\": null, \"status\": \"Completed\", \"run_type\": \"azureml.scriptrun\", \"training_percent\": \"100\", \"start_time\": \"2021-02-11T05:25:53.561106Z\", \"end_time\": \"2021-02-11T05:27:45.830746Z\", \"created_time\": \"2021-02-11T05:25:41.727354Z\", \"created_time_dt\": \"2021-02-11T05:25:41.727354Z\", \"duration\": \"0:02:04\", \"iteration\": \"34\", \"goal\": \"accuracy_max\", \"run_name\": \"VotingEnsemble\", \"run_properties\": \"classification_labels=None,\\n                              estimators=[('7',\\n                                           Pipeline(memory=None,\\n                                                    steps=[('maxabsscaler',\\n                                                            MaxAbsScaler(copy=True\", \"primary_metric\": 0.78646617, \"best_metric\": 0.78646617}, {\"run_id\": \"AutoML_70e158c9-66db-48e6-b4f1-283f0de7d574_35\", \"run_number\": 54, \"metric\": null, \"status\": \"Completed\", \"run_type\": \"azureml.scriptrun\", \"training_percent\": \"100\", \"start_time\": \"2021-02-11T05:25:54.844025Z\", \"end_time\": \"2021-02-11T05:27:45.229085Z\", \"created_time\": \"2021-02-11T05:25:41.743461Z\", \"created_time_dt\": \"2021-02-11T05:25:41.743461Z\", \"duration\": \"0:02:03\", \"iteration\": \"35\", \"goal\": \"accuracy_max\", \"run_name\": \"StackEnsemble\", \"run_properties\": \"base_learners=[('7',\\n                                        Pipeline(memory=None,\\n                                                 steps=[('maxabsscaler',\\n                                                         MaxAbsScaler(copy=True\", \"primary_metric\": 0.77218045, \"best_metric\": 0.78646617}], \"children_metrics\": {\"categories\": [0], \"series\": {\"accuracy\": [{\"categories\": [\"0\", \"1\", \"2\", \"3\", \"4\", \"5\", \"6\", \"7\", \"8\", \"9\", \"10\", \"11\", \"12\", \"13\", \"14\", \"15\", \"16\", \"17\", \"18\", \"19\", \"20\", \"21\", \"22\", \"23\", \"24\", \"25\", \"26\", \"27\", \"28\", \"29\", \"30\", \"31\", \"32\", \"33\", \"34\", \"35\"], \"mode\": \"markers\", \"name\": \"accuracy\", \"stepped\": false, \"type\": \"scatter\", \"data\": [0.7396103896103897, 0.7695659603554341, 0.744771018455229, 0.7422419685577581, 0.7500512645249489, 0.7057587149692413, 0.7109364319890636, 0.7721804511278197, 0.7486842105263158, 0.7578605604921396, 0.6562542720437458, 0.7434723171565277, 0.7513328776486672, 0.7630724538619276, 0.760440874914559, 0.7708988380041012, 0.7643369788106631, 0.7592617908407383, 0.7082877648667123, 0.7070061517429939, 0.7591592617908407, 0.7109193438140806, 0.7109535201640466, 0.7395933014354067, 0.6887730690362269, 0.650974025974026, 0.7317669172932331, 0.756578947368421, 0.7604921394395079, 0.7499487354750513, 0.650974025974026, 0.760457963089542, 0.7617737525632263, 0.7577922077922079, 0.786466165413534, 0.7721804511278195]}, {\"categories\": [\"0\", \"1\", \"2\", \"3\", \"4\", \"5\", \"6\", \"7\", \"8\", \"9\", \"10\", \"11\", \"12\", \"13\", \"14\", \"15\", \"16\", \"17\", \"18\", \"19\", \"20\", \"21\", \"22\", \"23\", \"24\", \"25\", \"26\", \"27\", \"28\", \"29\", \"30\", \"31\", \"32\", \"33\", \"34\", \"35\"], \"mode\": \"lines\", \"name\": \"accuracy_max\", \"stepped\": true, \"type\": \"scatter\", \"data\": [0.7396103896103897, 0.7695659603554341, 0.7695659603554341, 0.7695659603554341, 0.7695659603554341, 0.7695659603554341, 0.7695659603554341, 0.7721804511278197, 0.7721804511278197, 0.7721804511278197, 0.7721804511278197, 0.7721804511278197, 0.7721804511278197, 0.7721804511278197, 0.7721804511278197, 0.7721804511278197, 0.7721804511278197, 0.7721804511278197, 0.7721804511278197, 0.7721804511278197, 0.7721804511278197, 0.7721804511278197, 0.7721804511278197, 0.7721804511278197, 0.7721804511278197, 0.7721804511278197, 0.7721804511278197, 0.7721804511278197, 0.7721804511278197, 0.7721804511278197, 0.7721804511278197, 0.7721804511278197, 0.7721804511278197, 0.7721804511278197, 0.786466165413534, 0.786466165413534]}], \"precision_score_macro\": [{\"categories\": [\"0\", \"1\", \"2\", \"3\", \"4\", \"5\", \"6\", \"7\", \"8\", \"9\", \"10\", \"11\", \"12\", \"13\", \"14\", \"15\", \"16\", \"17\", \"18\", \"19\", \"20\", \"21\", \"22\", \"23\", \"24\", \"25\", \"26\", \"27\", \"28\", \"29\", \"30\", \"31\", \"32\", \"33\", \"34\", \"35\"], \"mode\": \"markers\", \"name\": \"precision_score_macro\", \"stepped\": false, \"type\": \"scatter\", \"data\": [0.7112261247846459, 0.7448891884111544, 0.7238283373511732, 0.7379212758610899, 0.7286663952469022, 0.6912227627282219, 0.6822831462516467, 0.7569724488445986, 0.7327181469527246, 0.7341778402649184, 0.6374795555128558, 0.7556292201960491, 0.7407253347179574, 0.7419839139094282, 0.7547577992904261, 0.7624695485588845, 0.7455549801149164, 0.7363977964118594, 0.6754450593266382, 0.6777766110214668, 0.7360653928551257, 0.6783702816340628, 0.6784864098004897, 0.712124071727248, 0.6200099847892288, 0.325487012987013, 0.7648499682482511, 0.7333625872728934, 0.7386789286619697, 0.7269973744712658, 0.325487012987013, 0.7392653533767158, 0.7418700807515125, 0.7371887991627126, 0.7772256287947514, 0.7561098055301025]}, {\"categories\": [\"0\", \"1\", \"2\", \"3\", \"4\", \"5\", \"6\", \"7\", \"8\", \"9\", \"10\", \"11\", \"12\", \"13\", \"14\", \"15\", \"16\", \"17\", \"18\", \"19\", \"20\", \"21\", \"22\", \"23\", \"24\", \"25\", \"26\", \"27\", \"28\", \"29\", \"30\", \"31\", \"32\", \"33\", \"34\", \"35\"], \"mode\": \"lines\", \"name\": \"precision_score_macro_max\", \"stepped\": true, \"type\": \"scatter\", \"data\": [0.7112261247846459, 0.7448891884111544, 0.7448891884111544, 0.7448891884111544, 0.7448891884111544, 0.7448891884111544, 0.7448891884111544, 0.7569724488445986, 0.7569724488445986, 0.7569724488445986, 0.7569724488445986, 0.7569724488445986, 0.7569724488445986, 0.7569724488445986, 0.7569724488445986, 0.7624695485588845, 0.7624695485588845, 0.7624695485588845, 0.7624695485588845, 0.7624695485588845, 0.7624695485588845, 0.7624695485588845, 0.7624695485588845, 0.7624695485588845, 0.7624695485588845, 0.7624695485588845, 0.7648499682482511, 0.7648499682482511, 0.7648499682482511, 0.7648499682482511, 0.7648499682482511, 0.7648499682482511, 0.7648499682482511, 0.7648499682482511, 0.7772256287947514, 0.7772256287947514]}], \"f1_score_micro\": [{\"categories\": [\"0\", \"1\", \"2\", \"3\", \"4\", \"5\", \"6\", \"7\", \"8\", \"9\", \"10\", \"11\", \"12\", \"13\", \"14\", \"15\", \"16\", \"17\", \"18\", \"19\", \"20\", \"21\", \"22\", \"23\", \"24\", \"25\", \"26\", \"27\", \"28\", \"29\", \"30\", \"31\", \"32\", \"33\", \"34\", \"35\"], \"mode\": \"markers\", \"name\": \"f1_score_micro\", \"stepped\": false, \"type\": \"scatter\", \"data\": [0.7396103896103897, 0.7695659603554341, 0.744771018455229, 0.742241968557758, 0.7500512645249489, 0.7057587149692413, 0.7109364319890636, 0.7721804511278195, 0.7486842105263158, 0.7578605604921396, 0.6562542720437458, 0.7434723171565276, 0.7513328776486672, 0.7630724538619275, 0.760440874914559, 0.7708988380041011, 0.7643369788106631, 0.7592617908407382, 0.7082877648667123, 0.7070061517429939, 0.7591592617908407, 0.7109193438140806, 0.7109535201640464, 0.7395933014354067, 0.6887730690362269, 0.650974025974026, 0.7317669172932331, 0.756578947368421, 0.7604921394395079, 0.7499487354750513, 0.650974025974026, 0.760457963089542, 0.7617737525632262, 0.7577922077922079, 0.7864661654135338, 0.7721804511278195]}, {\"categories\": [\"0\", \"1\", \"2\", \"3\", \"4\", \"5\", \"6\", \"7\", \"8\", \"9\", \"10\", \"11\", \"12\", \"13\", \"14\", \"15\", \"16\", \"17\", \"18\", \"19\", \"20\", \"21\", \"22\", \"23\", \"24\", \"25\", \"26\", \"27\", \"28\", \"29\", \"30\", \"31\", \"32\", \"33\", \"34\", \"35\"], \"mode\": \"lines\", \"name\": \"f1_score_micro_max\", \"stepped\": true, \"type\": \"scatter\", \"data\": [0.7396103896103897, 0.7695659603554341, 0.7695659603554341, 0.7695659603554341, 0.7695659603554341, 0.7695659603554341, 0.7695659603554341, 0.7721804511278195, 0.7721804511278195, 0.7721804511278195, 0.7721804511278195, 0.7721804511278195, 0.7721804511278195, 0.7721804511278195, 0.7721804511278195, 0.7721804511278195, 0.7721804511278195, 0.7721804511278195, 0.7721804511278195, 0.7721804511278195, 0.7721804511278195, 0.7721804511278195, 0.7721804511278195, 0.7721804511278195, 0.7721804511278195, 0.7721804511278195, 0.7721804511278195, 0.7721804511278195, 0.7721804511278195, 0.7721804511278195, 0.7721804511278195, 0.7721804511278195, 0.7721804511278195, 0.7721804511278195, 0.7864661654135338, 0.7864661654135338]}], \"recall_score_macro\": [{\"categories\": [\"0\", \"1\", \"2\", \"3\", \"4\", \"5\", \"6\", \"7\", \"8\", \"9\", \"10\", \"11\", \"12\", \"13\", \"14\", \"15\", \"16\", \"17\", \"18\", \"19\", \"20\", \"21\", \"22\", \"23\", \"24\", \"25\", \"26\", \"27\", \"28\", \"29\", \"30\", \"31\", \"32\", \"33\", \"34\", \"35\"], \"mode\": \"markers\", \"name\": \"recall_score_macro\", \"stepped\": false, \"type\": \"scatter\", \"data\": [0.7053588221478819, 0.7368196523334581, 0.6850893684828653, 0.6654098050714344, 0.7405238410679094, 0.6976982548235303, 0.6528136452558332, 0.7183740442903159, 0.6869707033539397, 0.7069481770832586, 0.5729027139124356, 0.6587778574807702, 0.6806272836187788, 0.7220460713354026, 0.6943342140359465, 0.7110688029020394, 0.7092774113147694, 0.7132170100392574, 0.6548164237073497, 0.6483957304876298, 0.7247083615491766, 0.6544950410161212, 0.6626722152210284, 0.6991774030297659, 0.5630330948420166, 0.5, 0.6318125665844814, 0.7131984282601664, 0.7127920984322265, 0.7014444931513115, 0.5, 0.7181483287604246, 0.710896233414227, 0.7078784969800335, 0.7327243946335584, 0.7217243196237562]}, {\"categories\": [\"0\", \"1\", \"2\", \"3\", \"4\", \"5\", \"6\", \"7\", \"8\", \"9\", \"10\", \"11\", \"12\", \"13\", \"14\", \"15\", \"16\", \"17\", \"18\", \"19\", \"20\", \"21\", \"22\", \"23\", \"24\", \"25\", \"26\", \"27\", \"28\", \"29\", \"30\", \"31\", \"32\", \"33\", \"34\", \"35\"], \"mode\": \"lines\", \"name\": \"recall_score_macro_max\", \"stepped\": true, \"type\": \"scatter\", \"data\": [0.7053588221478819, 0.7368196523334581, 0.7368196523334581, 0.7368196523334581, 0.7405238410679094, 0.7405238410679094, 0.7405238410679094, 0.7405238410679094, 0.7405238410679094, 0.7405238410679094, 0.7405238410679094, 0.7405238410679094, 0.7405238410679094, 0.7405238410679094, 0.7405238410679094, 0.7405238410679094, 0.7405238410679094, 0.7405238410679094, 0.7405238410679094, 0.7405238410679094, 0.7405238410679094, 0.7405238410679094, 0.7405238410679094, 0.7405238410679094, 0.7405238410679094, 0.7405238410679094, 0.7405238410679094, 0.7405238410679094, 0.7405238410679094, 0.7405238410679094, 0.7405238410679094, 0.7405238410679094, 0.7405238410679094, 0.7405238410679094, 0.7405238410679094, 0.7405238410679094]}], \"precision_score_weighted\": [{\"categories\": [\"0\", \"1\", \"2\", \"3\", \"4\", \"5\", \"6\", \"7\", \"8\", \"9\", \"10\", \"11\", \"12\", \"13\", \"14\", \"15\", \"16\", \"17\", \"18\", \"19\", \"20\", \"21\", \"22\", \"23\", \"24\", \"25\", \"26\", \"27\", \"28\", \"29\", \"30\", \"31\", \"32\", \"33\", \"34\", \"35\"], \"mode\": \"markers\", \"name\": \"precision_score_weighted\", \"stepped\": false, \"type\": \"scatter\", \"data\": [0.7396148182527014, 0.7692657656068833, 0.7410394030235805, 0.7453183477726053, 0.7655469312679978, 0.732491539025646, 0.7061538962003748, 0.7721419500635436, 0.746475874067578, 0.7538273275453576, 0.6619885747963283, 0.757716387458953, 0.7503765292749477, 0.7628987878132236, 0.7624182432325778, 0.7725484360791474, 0.7623387837140878, 0.7563780079482088, 0.7006692229791169, 0.7016239884835854, 0.7621548168221455, 0.7017812831818842, 0.70494070336243, 0.7371467963281457, 0.6511690631065481, 0.42687712083757523, 0.7547156172831481, 0.7560545082311512, 0.7581844974149081, 0.7469563034006474, 0.42687712083757523, 0.760323970171397, 0.7604962114413925, 0.7573895079189366, 0.7852936224034905, 0.7700827195613058]}, {\"categories\": [\"0\", \"1\", \"2\", \"3\", \"4\", \"5\", \"6\", \"7\", \"8\", \"9\", \"10\", \"11\", \"12\", \"13\", \"14\", \"15\", \"16\", \"17\", \"18\", \"19\", \"20\", \"21\", \"22\", \"23\", \"24\", \"25\", \"26\", \"27\", \"28\", \"29\", \"30\", \"31\", \"32\", \"33\", \"34\", \"35\"], \"mode\": \"lines\", \"name\": \"precision_score_weighted_max\", \"stepped\": true, \"type\": \"scatter\", \"data\": [0.7396148182527014, 0.7692657656068833, 0.7692657656068833, 0.7692657656068833, 0.7692657656068833, 0.7692657656068833, 0.7692657656068833, 0.7721419500635436, 0.7721419500635436, 0.7721419500635436, 0.7721419500635436, 0.7721419500635436, 0.7721419500635436, 0.7721419500635436, 0.7721419500635436, 0.7725484360791474, 0.7725484360791474, 0.7725484360791474, 0.7725484360791474, 0.7725484360791474, 0.7725484360791474, 0.7725484360791474, 0.7725484360791474, 0.7725484360791474, 0.7725484360791474, 0.7725484360791474, 0.7725484360791474, 0.7725484360791474, 0.7725484360791474, 0.7725484360791474, 0.7725484360791474, 0.7725484360791474, 0.7725484360791474, 0.7725484360791474, 0.7852936224034905, 0.7852936224034905]}], \"precision_score_micro\": [{\"categories\": [\"0\", \"1\", \"2\", \"3\", \"4\", \"5\", \"6\", \"7\", \"8\", \"9\", \"10\", \"11\", \"12\", \"13\", \"14\", \"15\", \"16\", \"17\", \"18\", \"19\", \"20\", \"21\", \"22\", \"23\", \"24\", \"25\", \"26\", \"27\", \"28\", \"29\", \"30\", \"31\", \"32\", \"33\", \"34\", \"35\"], \"mode\": \"markers\", \"name\": \"precision_score_micro\", \"stepped\": false, \"type\": \"scatter\", \"data\": [0.7396103896103897, 0.7695659603554341, 0.744771018455229, 0.7422419685577581, 0.7500512645249489, 0.7057587149692413, 0.7109364319890636, 0.7721804511278197, 0.7486842105263158, 0.7578605604921396, 0.6562542720437458, 0.7434723171565277, 0.7513328776486672, 0.7630724538619276, 0.760440874914559, 0.7708988380041012, 0.7643369788106631, 0.7592617908407383, 0.7082877648667123, 0.7070061517429939, 0.7591592617908407, 0.7109193438140806, 0.7109535201640466, 0.7395933014354067, 0.6887730690362269, 0.650974025974026, 0.7317669172932331, 0.756578947368421, 0.7604921394395079, 0.7499487354750513, 0.650974025974026, 0.760457963089542, 0.7617737525632263, 0.7577922077922079, 0.786466165413534, 0.7721804511278195]}, {\"categories\": [\"0\", \"1\", \"2\", \"3\", \"4\", \"5\", \"6\", \"7\", \"8\", \"9\", \"10\", \"11\", \"12\", \"13\", \"14\", \"15\", \"16\", \"17\", \"18\", \"19\", \"20\", \"21\", \"22\", \"23\", \"24\", \"25\", \"26\", \"27\", \"28\", \"29\", \"30\", \"31\", \"32\", \"33\", \"34\", \"35\"], \"mode\": \"lines\", \"name\": \"precision_score_micro_max\", \"stepped\": true, \"type\": \"scatter\", \"data\": [0.7396103896103897, 0.7695659603554341, 0.7695659603554341, 0.7695659603554341, 0.7695659603554341, 0.7695659603554341, 0.7695659603554341, 0.7721804511278197, 0.7721804511278197, 0.7721804511278197, 0.7721804511278197, 0.7721804511278197, 0.7721804511278197, 0.7721804511278197, 0.7721804511278197, 0.7721804511278197, 0.7721804511278197, 0.7721804511278197, 0.7721804511278197, 0.7721804511278197, 0.7721804511278197, 0.7721804511278197, 0.7721804511278197, 0.7721804511278197, 0.7721804511278197, 0.7721804511278197, 0.7721804511278197, 0.7721804511278197, 0.7721804511278197, 0.7721804511278197, 0.7721804511278197, 0.7721804511278197, 0.7721804511278197, 0.7721804511278197, 0.786466165413534, 0.786466165413534]}], \"average_precision_score_weighted\": [{\"categories\": [\"0\", \"1\", \"2\", \"3\", \"4\", \"5\", \"6\", \"7\", \"8\", \"9\", \"10\", \"11\", \"12\", \"13\", \"14\", \"15\", \"16\", \"17\", \"18\", \"19\", \"20\", \"21\", \"22\", \"23\", \"24\", \"25\", \"26\", \"27\", \"28\", \"29\", \"30\", \"31\", \"32\", \"33\", \"34\", \"35\"], \"mode\": \"markers\", \"name\": \"average_precision_score_weighted\", \"stepped\": false, \"type\": \"scatter\", \"data\": [0.8088900198552287, 0.8456601055549087, 0.8357550238301805, 0.8278181063726768, 0.8341059237962123, 0.8146272011813054, 0.7884401733913479, 0.8324916828814513, 0.8375614286880573, 0.8427334252124232, 0.6969769479553236, 0.839820760514282, 0.8383902945556188, 0.846667199307354, 0.8410903806480243, 0.8423027635635657, 0.8464742477365718, 0.8163605947309943, 0.765695427954505, 0.7804909508147334, 0.8349190512434788, 0.7594767790271529, 0.772032015276714, 0.8259783261308391, 0.8166976167555295, 0.6581318058689873, 0.8446526911922133, 0.8468255248019059, 0.848012714021119, 0.8361107447140531, 0.4446864605170503, 0.8442956423841167, 0.8475591611111775, 0.8420410073683822, 0.8486166665878188, 0.8519968697777498]}, {\"categories\": [\"0\", \"1\", \"2\", \"3\", \"4\", \"5\", \"6\", \"7\", \"8\", \"9\", \"10\", \"11\", \"12\", \"13\", \"14\", \"15\", \"16\", \"17\", \"18\", \"19\", \"20\", \"21\", \"22\", \"23\", \"24\", \"25\", \"26\", \"27\", \"28\", \"29\", \"30\", \"31\", \"32\", \"33\", \"34\", \"35\"], \"mode\": \"lines\", \"name\": \"average_precision_score_weighted_max\", \"stepped\": true, \"type\": \"scatter\", \"data\": [0.8088900198552287, 0.8456601055549087, 0.8456601055549087, 0.8456601055549087, 0.8456601055549087, 0.8456601055549087, 0.8456601055549087, 0.8456601055549087, 0.8456601055549087, 0.8456601055549087, 0.8456601055549087, 0.8456601055549087, 0.8456601055549087, 0.846667199307354, 0.846667199307354, 0.846667199307354, 0.846667199307354, 0.846667199307354, 0.846667199307354, 0.846667199307354, 0.846667199307354, 0.846667199307354, 0.846667199307354, 0.846667199307354, 0.846667199307354, 0.846667199307354, 0.846667199307354, 0.8468255248019059, 0.848012714021119, 0.848012714021119, 0.848012714021119, 0.848012714021119, 0.848012714021119, 0.848012714021119, 0.8486166665878188, 0.8519968697777498]}], \"AUC_micro\": [{\"categories\": [\"0\", \"1\", \"2\", \"3\", \"4\", \"5\", \"6\", \"7\", \"8\", \"9\", \"10\", \"11\", \"12\", \"13\", \"14\", \"15\", \"16\", \"17\", \"18\", \"19\", \"20\", \"21\", \"22\", \"23\", \"24\", \"25\", \"26\", \"27\", \"28\", \"29\", \"30\", \"31\", \"32\", \"33\", \"34\", \"35\"], \"mode\": \"markers\", \"name\": \"AUC_micro\", \"stepped\": false, \"type\": \"scatter\", \"data\": [0.8242456616125537, 0.8556880349836874, 0.839322080678612, 0.8291527389669724, 0.8340419368108958, 0.7955741597593686, 0.8002705725040868, 0.8434744137576278, 0.8420987543503011, 0.8476643892945562, 0.7391490818872819, 0.8241890358625078, 0.8374680195330806, 0.8531851254386511, 0.8450229814345096, 0.8468837411913552, 0.8500652048782242, 0.8277130719048913, 0.7839744309275644, 0.7928406036529215, 0.8437623664424219, 0.7769212137019365, 0.7863600534533999, 0.8349163012312364, 0.7944557457148743, 0.7017198640748394, 0.8214103502713785, 0.8542159757266153, 0.8539329374981603, 0.8437853794135497, 0.5440825769995734, 0.8527967549053459, 0.8539210966660422, 0.8477241482660233, 0.8556839031026893, 0.859203138570966]}, {\"categories\": [\"0\", \"1\", \"2\", \"3\", \"4\", \"5\", \"6\", \"7\", \"8\", \"9\", \"10\", \"11\", \"12\", \"13\", \"14\", \"15\", \"16\", \"17\", \"18\", \"19\", \"20\", \"21\", \"22\", \"23\", \"24\", \"25\", \"26\", \"27\", \"28\", \"29\", \"30\", \"31\", \"32\", \"33\", \"34\", \"35\"], \"mode\": \"lines\", \"name\": \"AUC_micro_max\", \"stepped\": true, \"type\": \"scatter\", \"data\": [0.8242456616125537, 0.8556880349836874, 0.8556880349836874, 0.8556880349836874, 0.8556880349836874, 0.8556880349836874, 0.8556880349836874, 0.8556880349836874, 0.8556880349836874, 0.8556880349836874, 0.8556880349836874, 0.8556880349836874, 0.8556880349836874, 0.8556880349836874, 0.8556880349836874, 0.8556880349836874, 0.8556880349836874, 0.8556880349836874, 0.8556880349836874, 0.8556880349836874, 0.8556880349836874, 0.8556880349836874, 0.8556880349836874, 0.8556880349836874, 0.8556880349836874, 0.8556880349836874, 0.8556880349836874, 0.8556880349836874, 0.8556880349836874, 0.8556880349836874, 0.8556880349836874, 0.8556880349836874, 0.8556880349836874, 0.8556880349836874, 0.8556880349836874, 0.859203138570966]}], \"weighted_accuracy\": [{\"categories\": [\"0\", \"1\", \"2\", \"3\", \"4\", \"5\", \"6\", \"7\", \"8\", \"9\", \"10\", \"11\", \"12\", \"13\", \"14\", \"15\", \"16\", \"17\", \"18\", \"19\", \"20\", \"21\", \"22\", \"23\", \"24\", \"25\", \"26\", \"27\", \"28\", \"29\", \"30\", \"31\", \"32\", \"33\", \"34\", \"35\"], \"mode\": \"markers\", \"name\": \"weighted_accuracy\", \"stepped\": false, \"type\": \"scatter\", \"data\": [0.7658219048734536, 0.7945054420815822, 0.7907794751503217, 0.8017437575062285, 0.7565741053526135, 0.7115519602563676, 0.7561378396592249, 0.8134343281219086, 0.7959833709669036, 0.7961628725640721, 0.7246129410924865, 0.809369647097425, 0.8052930951671726, 0.7942747534762178, 0.8113882191560735, 0.8165529525624298, 0.8058965448203586, 0.7944578511756976, 0.7504563254230266, 0.7534895921813489, 0.7850646541632311, 0.7545478451266332, 0.7485119515245316, 0.7702854499674269, 0.7862226662727483, 0.7681437801712667, 0.8094829138093222, 0.7887702218743644, 0.7959790113475926, 0.787169152282115, 0.7681437801712667, 0.7920140520720099, 0.8003808514314757, 0.7961224221733036, 0.8271696271653232, 0.8096295409661425]}, {\"categories\": [\"0\", \"1\", \"2\", \"3\", \"4\", \"5\", \"6\", \"7\", \"8\", \"9\", \"10\", \"11\", \"12\", \"13\", \"14\", \"15\", \"16\", \"17\", \"18\", \"19\", \"20\", \"21\", \"22\", \"23\", \"24\", \"25\", \"26\", \"27\", \"28\", \"29\", \"30\", \"31\", \"32\", \"33\", \"34\", \"35\"], \"mode\": \"lines\", \"name\": \"weighted_accuracy_max\", \"stepped\": true, \"type\": \"scatter\", \"data\": [0.7658219048734536, 0.7945054420815822, 0.7945054420815822, 0.8017437575062285, 0.8017437575062285, 0.8017437575062285, 0.8017437575062285, 0.8134343281219086, 0.8134343281219086, 0.8134343281219086, 0.8134343281219086, 0.8134343281219086, 0.8134343281219086, 0.8134343281219086, 0.8134343281219086, 0.8165529525624298, 0.8165529525624298, 0.8165529525624298, 0.8165529525624298, 0.8165529525624298, 0.8165529525624298, 0.8165529525624298, 0.8165529525624298, 0.8165529525624298, 0.8165529525624298, 0.8165529525624298, 0.8165529525624298, 0.8165529525624298, 0.8165529525624298, 0.8165529525624298, 0.8165529525624298, 0.8165529525624298, 0.8165529525624298, 0.8165529525624298, 0.8271696271653232, 0.8271696271653232]}], \"average_precision_score_macro\": [{\"categories\": [\"0\", \"1\", \"2\", \"3\", \"4\", \"5\", \"6\", \"7\", \"8\", \"9\", \"10\", \"11\", \"12\", \"13\", \"14\", \"15\", \"16\", \"17\", \"18\", \"19\", \"20\", \"21\", \"22\", \"23\", \"24\", \"25\", \"26\", \"27\", \"28\", \"29\", \"30\", \"31\", \"32\", \"33\", \"34\", \"35\"], \"mode\": \"markers\", \"name\": \"average_precision_score_macro\", \"stepped\": false, \"type\": \"scatter\", \"data\": [0.7742813465855433, 0.817147214521911, 0.8060710557325785, 0.7971035428247902, 0.80109042868222, 0.7812318488842779, 0.7558562702621184, 0.8043605284752274, 0.8056945209551032, 0.8135354269931646, 0.6537308408160547, 0.8071315571383956, 0.805408547894577, 0.8172705533029472, 0.8101165974664706, 0.811692498631103, 0.816702369343408, 0.7862792364379545, 0.7320431454861336, 0.7483310885138981, 0.801290855131932, 0.7240503083236657, 0.738809754390036, 0.7938551371675444, 0.7812337988785427, 0.6103650640956928, 0.8135450492391326, 0.8182129908398948, 0.820272135569313, 0.8057989447591831, 0.40033868328650374, 0.8148180424379825, 0.817758673530032, 0.8094095709527366, 0.8198469720202309, 0.8228673398949921]}, {\"categories\": [\"0\", \"1\", \"2\", \"3\", \"4\", \"5\", \"6\", \"7\", \"8\", \"9\", \"10\", \"11\", \"12\", \"13\", \"14\", \"15\", \"16\", \"17\", \"18\", \"19\", \"20\", \"21\", \"22\", \"23\", \"24\", \"25\", \"26\", \"27\", \"28\", \"29\", \"30\", \"31\", \"32\", \"33\", \"34\", \"35\"], \"mode\": \"lines\", \"name\": \"average_precision_score_macro_max\", \"stepped\": true, \"type\": \"scatter\", \"data\": [0.7742813465855433, 0.817147214521911, 0.817147214521911, 0.817147214521911, 0.817147214521911, 0.817147214521911, 0.817147214521911, 0.817147214521911, 0.817147214521911, 0.817147214521911, 0.817147214521911, 0.817147214521911, 0.817147214521911, 0.8172705533029472, 0.8172705533029472, 0.8172705533029472, 0.8172705533029472, 0.8172705533029472, 0.8172705533029472, 0.8172705533029472, 0.8172705533029472, 0.8172705533029472, 0.8172705533029472, 0.8172705533029472, 0.8172705533029472, 0.8172705533029472, 0.8172705533029472, 0.8182129908398948, 0.820272135569313, 0.820272135569313, 0.820272135569313, 0.820272135569313, 0.820272135569313, 0.820272135569313, 0.820272135569313, 0.8228673398949921]}], \"norm_macro_recall\": [{\"categories\": [\"0\", \"1\", \"2\", \"3\", \"4\", \"5\", \"6\", \"7\", \"8\", \"9\", \"10\", \"11\", \"12\", \"13\", \"14\", \"15\", \"16\", \"17\", \"18\", \"19\", \"20\", \"21\", \"22\", \"23\", \"24\", \"25\", \"26\", \"27\", \"28\", \"29\", \"30\", \"31\", \"32\", \"33\", \"34\", \"35\"], \"mode\": \"markers\", \"name\": \"norm_macro_recall\", \"stepped\": false, \"type\": \"scatter\", \"data\": [0.41071764429576385, 0.4736393046669162, 0.37017873696573067, 0.33081961014286876, 0.4810476821358186, 0.3953965096470604, 0.30562729051166637, 0.436748088580632, 0.3739414067078794, 0.4138963541665174, 0.14910136050369333, 0.31755571496154034, 0.36125456723755744, 0.44409214267080516, 0.38866842807189306, 0.422137605804079, 0.418554822629539, 0.4264340200785147, 0.30963284741469954, 0.29679146097525966, 0.44941672309835334, 0.30899008203224265, 0.32534443044205685, 0.3983548060595318, 0.12798926660710996, 0.0, 0.26362513316896263, 0.4263968565203326, 0.4255841968644528, 0.40288898630262304, 0.0, 0.4362966575208489, 0.4217924668284542, 0.41575699396006705, 0.465448789267117, 0.4434486392475125]}, {\"categories\": [\"0\", \"1\", \"2\", \"3\", \"4\", \"5\", \"6\", \"7\", \"8\", \"9\", \"10\", \"11\", \"12\", \"13\", \"14\", \"15\", \"16\", \"17\", \"18\", \"19\", \"20\", \"21\", \"22\", \"23\", \"24\", \"25\", \"26\", \"27\", \"28\", \"29\", \"30\", \"31\", \"32\", \"33\", \"34\", \"35\"], \"mode\": \"lines\", \"name\": \"norm_macro_recall_max\", \"stepped\": true, \"type\": \"scatter\", \"data\": [0.41071764429576385, 0.4736393046669162, 0.4736393046669162, 0.4736393046669162, 0.4810476821358186, 0.4810476821358186, 0.4810476821358186, 0.4810476821358186, 0.4810476821358186, 0.4810476821358186, 0.4810476821358186, 0.4810476821358186, 0.4810476821358186, 0.4810476821358186, 0.4810476821358186, 0.4810476821358186, 0.4810476821358186, 0.4810476821358186, 0.4810476821358186, 0.4810476821358186, 0.4810476821358186, 0.4810476821358186, 0.4810476821358186, 0.4810476821358186, 0.4810476821358186, 0.4810476821358186, 0.4810476821358186, 0.4810476821358186, 0.4810476821358186, 0.4810476821358186, 0.4810476821358186, 0.4810476821358186, 0.4810476821358186, 0.4810476821358186, 0.4810476821358186, 0.4810476821358186]}], \"balanced_accuracy\": [{\"categories\": [\"0\", \"1\", \"2\", \"3\", \"4\", \"5\", \"6\", \"7\", \"8\", \"9\", \"10\", \"11\", \"12\", \"13\", \"14\", \"15\", \"16\", \"17\", \"18\", \"19\", \"20\", \"21\", \"22\", \"23\", \"24\", \"25\", \"26\", \"27\", \"28\", \"29\", \"30\", \"31\", \"32\", \"33\", \"34\", \"35\"], \"mode\": \"markers\", \"name\": \"balanced_accuracy\", \"stepped\": false, \"type\": \"scatter\", \"data\": [0.7053588221478819, 0.7368196523334581, 0.6850893684828653, 0.6654098050714344, 0.7405238410679094, 0.6976982548235303, 0.6528136452558332, 0.7183740442903159, 0.6869707033539397, 0.7069481770832586, 0.5729027139124356, 0.6587778574807702, 0.6806272836187788, 0.7220460713354026, 0.6943342140359465, 0.7110688029020394, 0.7092774113147694, 0.7132170100392574, 0.6548164237073497, 0.6483957304876298, 0.7247083615491766, 0.6544950410161212, 0.6626722152210284, 0.6991774030297659, 0.5630330948420166, 0.5, 0.6318125665844814, 0.7131984282601664, 0.7127920984322265, 0.7014444931513115, 0.5, 0.7181483287604246, 0.710896233414227, 0.7078784969800335, 0.7327243946335584, 0.7217243196237562]}, {\"categories\": [\"0\", \"1\", \"2\", \"3\", \"4\", \"5\", \"6\", \"7\", \"8\", \"9\", \"10\", \"11\", \"12\", \"13\", \"14\", \"15\", \"16\", \"17\", \"18\", \"19\", \"20\", \"21\", \"22\", \"23\", \"24\", \"25\", \"26\", \"27\", \"28\", \"29\", \"30\", \"31\", \"32\", \"33\", \"34\", \"35\"], \"mode\": \"lines\", \"name\": \"balanced_accuracy_max\", \"stepped\": true, \"type\": \"scatter\", \"data\": [0.7053588221478819, 0.7368196523334581, 0.7368196523334581, 0.7368196523334581, 0.7405238410679094, 0.7405238410679094, 0.7405238410679094, 0.7405238410679094, 0.7405238410679094, 0.7405238410679094, 0.7405238410679094, 0.7405238410679094, 0.7405238410679094, 0.7405238410679094, 0.7405238410679094, 0.7405238410679094, 0.7405238410679094, 0.7405238410679094, 0.7405238410679094, 0.7405238410679094, 0.7405238410679094, 0.7405238410679094, 0.7405238410679094, 0.7405238410679094, 0.7405238410679094, 0.7405238410679094, 0.7405238410679094, 0.7405238410679094, 0.7405238410679094, 0.7405238410679094, 0.7405238410679094, 0.7405238410679094, 0.7405238410679094, 0.7405238410679094, 0.7405238410679094, 0.7405238410679094]}], \"recall_score_weighted\": [{\"categories\": [\"0\", \"1\", \"2\", \"3\", \"4\", \"5\", \"6\", \"7\", \"8\", \"9\", \"10\", \"11\", \"12\", \"13\", \"14\", \"15\", \"16\", \"17\", \"18\", \"19\", \"20\", \"21\", \"22\", \"23\", \"24\", \"25\", \"26\", \"27\", \"28\", \"29\", \"30\", \"31\", \"32\", \"33\", \"34\", \"35\"], \"mode\": \"markers\", \"name\": \"recall_score_weighted\", \"stepped\": false, \"type\": \"scatter\", \"data\": [0.7396103896103897, 0.7695659603554341, 0.744771018455229, 0.7422419685577581, 0.7500512645249489, 0.7057587149692413, 0.7109364319890636, 0.7721804511278197, 0.7486842105263158, 0.7578605604921396, 0.6562542720437458, 0.7434723171565277, 0.7513328776486672, 0.7630724538619276, 0.760440874914559, 0.7708988380041012, 0.7643369788106631, 0.7592617908407383, 0.7082877648667123, 0.7070061517429939, 0.7591592617908407, 0.7109193438140806, 0.7109535201640466, 0.7395933014354067, 0.6887730690362269, 0.650974025974026, 0.7317669172932331, 0.756578947368421, 0.7604921394395079, 0.7499487354750513, 0.650974025974026, 0.760457963089542, 0.7617737525632263, 0.7577922077922079, 0.786466165413534, 0.7721804511278195]}, {\"categories\": [\"0\", \"1\", \"2\", \"3\", \"4\", \"5\", \"6\", \"7\", \"8\", \"9\", \"10\", \"11\", \"12\", \"13\", \"14\", \"15\", \"16\", \"17\", \"18\", \"19\", \"20\", \"21\", \"22\", \"23\", \"24\", \"25\", \"26\", \"27\", \"28\", \"29\", \"30\", \"31\", \"32\", \"33\", \"34\", \"35\"], \"mode\": \"lines\", \"name\": \"recall_score_weighted_max\", \"stepped\": true, \"type\": \"scatter\", \"data\": [0.7396103896103897, 0.7695659603554341, 0.7695659603554341, 0.7695659603554341, 0.7695659603554341, 0.7695659603554341, 0.7695659603554341, 0.7721804511278197, 0.7721804511278197, 0.7721804511278197, 0.7721804511278197, 0.7721804511278197, 0.7721804511278197, 0.7721804511278197, 0.7721804511278197, 0.7721804511278197, 0.7721804511278197, 0.7721804511278197, 0.7721804511278197, 0.7721804511278197, 0.7721804511278197, 0.7721804511278197, 0.7721804511278197, 0.7721804511278197, 0.7721804511278197, 0.7721804511278197, 0.7721804511278197, 0.7721804511278197, 0.7721804511278197, 0.7721804511278197, 0.7721804511278197, 0.7721804511278197, 0.7721804511278197, 0.7721804511278197, 0.786466165413534, 0.786466165413534]}], \"recall_score_micro\": [{\"categories\": [\"0\", \"1\", \"2\", \"3\", \"4\", \"5\", \"6\", \"7\", \"8\", \"9\", \"10\", \"11\", \"12\", \"13\", \"14\", \"15\", \"16\", \"17\", \"18\", \"19\", \"20\", \"21\", \"22\", \"23\", \"24\", \"25\", \"26\", \"27\", \"28\", \"29\", \"30\", \"31\", \"32\", \"33\", \"34\", \"35\"], \"mode\": \"markers\", \"name\": \"recall_score_micro\", \"stepped\": false, \"type\": \"scatter\", \"data\": [0.7396103896103897, 0.7695659603554341, 0.744771018455229, 0.7422419685577581, 0.7500512645249489, 0.7057587149692413, 0.7109364319890636, 0.7721804511278197, 0.7486842105263158, 0.7578605604921396, 0.6562542720437458, 0.7434723171565277, 0.7513328776486672, 0.7630724538619276, 0.760440874914559, 0.7708988380041012, 0.7643369788106631, 0.7592617908407383, 0.7082877648667123, 0.7070061517429939, 0.7591592617908407, 0.7109193438140806, 0.7109535201640466, 0.7395933014354067, 0.6887730690362269, 0.650974025974026, 0.7317669172932331, 0.756578947368421, 0.7604921394395079, 0.7499487354750513, 0.650974025974026, 0.760457963089542, 0.7617737525632263, 0.7577922077922079, 0.786466165413534, 0.7721804511278195]}, {\"categories\": [\"0\", \"1\", \"2\", \"3\", \"4\", \"5\", \"6\", \"7\", \"8\", \"9\", \"10\", \"11\", \"12\", \"13\", \"14\", \"15\", \"16\", \"17\", \"18\", \"19\", \"20\", \"21\", \"22\", \"23\", \"24\", \"25\", \"26\", \"27\", \"28\", \"29\", \"30\", \"31\", \"32\", \"33\", \"34\", \"35\"], \"mode\": \"lines\", \"name\": \"recall_score_micro_max\", \"stepped\": true, \"type\": \"scatter\", \"data\": [0.7396103896103897, 0.7695659603554341, 0.7695659603554341, 0.7695659603554341, 0.7695659603554341, 0.7695659603554341, 0.7695659603554341, 0.7721804511278197, 0.7721804511278197, 0.7721804511278197, 0.7721804511278197, 0.7721804511278197, 0.7721804511278197, 0.7721804511278197, 0.7721804511278197, 0.7721804511278197, 0.7721804511278197, 0.7721804511278197, 0.7721804511278197, 0.7721804511278197, 0.7721804511278197, 0.7721804511278197, 0.7721804511278197, 0.7721804511278197, 0.7721804511278197, 0.7721804511278197, 0.7721804511278197, 0.7721804511278197, 0.7721804511278197, 0.7721804511278197, 0.7721804511278197, 0.7721804511278197, 0.7721804511278197, 0.7721804511278197, 0.786466165413534, 0.786466165413534]}], \"f1_score_weighted\": [{\"categories\": [\"0\", \"1\", \"2\", \"3\", \"4\", \"5\", \"6\", \"7\", \"8\", \"9\", \"10\", \"11\", \"12\", \"13\", \"14\", \"15\", \"16\", \"17\", \"18\", \"19\", \"20\", \"21\", \"22\", \"23\", \"24\", \"25\", \"26\", \"27\", \"28\", \"29\", \"30\", \"31\", \"32\", \"33\", \"34\", \"35\"], \"mode\": \"markers\", \"name\": \"f1_score_weighted\", \"stepped\": false, \"type\": \"scatter\", \"data\": [0.7376523503026942, 0.7674902736086928, 0.7328005385459666, 0.7194117440891266, 0.7537987980251991, 0.710197414996979, 0.6997226508527072, 0.7635906638788703, 0.7361067984698632, 0.7494596097106967, 0.6013846063749393, 0.7154960072186423, 0.7345100059876573, 0.7581816148236346, 0.7448153187074459, 0.7582648041572068, 0.7555867905493012, 0.7533101648079529, 0.6979262334613694, 0.6928824655600725, 0.757195154039674, 0.7005158977717212, 0.7036868227703167, 0.7362142232586033, 0.6054176709879135, 0.5146909419914976, 0.6888924913815383, 0.7520742529794507, 0.7543578844254651, 0.7417381165470627, 0.5146909419914976, 0.7557702756582143, 0.75435517169305, 0.7501323740980058, 0.7771899509715002, 0.7644419291111164]}, {\"categories\": [\"0\", \"1\", \"2\", \"3\", \"4\", \"5\", \"6\", \"7\", \"8\", \"9\", \"10\", \"11\", \"12\", \"13\", \"14\", \"15\", \"16\", \"17\", \"18\", \"19\", \"20\", \"21\", \"22\", \"23\", \"24\", \"25\", \"26\", \"27\", \"28\", \"29\", \"30\", \"31\", \"32\", \"33\", \"34\", \"35\"], \"mode\": \"lines\", \"name\": \"f1_score_weighted_max\", \"stepped\": true, \"type\": \"scatter\", \"data\": [0.7376523503026942, 0.7674902736086928, 0.7674902736086928, 0.7674902736086928, 0.7674902736086928, 0.7674902736086928, 0.7674902736086928, 0.7674902736086928, 0.7674902736086928, 0.7674902736086928, 0.7674902736086928, 0.7674902736086928, 0.7674902736086928, 0.7674902736086928, 0.7674902736086928, 0.7674902736086928, 0.7674902736086928, 0.7674902736086928, 0.7674902736086928, 0.7674902736086928, 0.7674902736086928, 0.7674902736086928, 0.7674902736086928, 0.7674902736086928, 0.7674902736086928, 0.7674902736086928, 0.7674902736086928, 0.7674902736086928, 0.7674902736086928, 0.7674902736086928, 0.7674902736086928, 0.7674902736086928, 0.7674902736086928, 0.7674902736086928, 0.7771899509715002, 0.7771899509715002]}], \"AUC_macro\": [{\"categories\": [\"0\", \"1\", \"2\", \"3\", \"4\", \"5\", \"6\", \"7\", \"8\", \"9\", \"10\", \"11\", \"12\", \"13\", \"14\", \"15\", \"16\", \"17\", \"18\", \"19\", \"20\", \"21\", \"22\", \"23\", \"24\", \"25\", \"26\", \"27\", \"28\", \"29\", \"30\", \"31\", \"32\", \"33\", \"34\", \"35\"], \"mode\": \"markers\", \"name\": \"AUC_macro\", \"stepped\": false, \"type\": \"scatter\", \"data\": [0.7981013916226355, 0.8366210317228242, 0.8168784079768873, 0.8151843718967662, 0.8236976228814065, 0.794339691998323, 0.7672168327682274, 0.81716183129269, 0.8270459166636052, 0.8298616931747282, 0.6899760736950882, 0.824720103362645, 0.8263983791240428, 0.8358045289003183, 0.8308679220285345, 0.8309582369150172, 0.8331970250500639, 0.7947765034543792, 0.7437423678652927, 0.7602996128027792, 0.8236916961854579, 0.736023768650318, 0.7450589539654594, 0.8110744864625188, 0.8003916255382517, 0.6137115252632619, 0.831546658624695, 0.8366157940842402, 0.8358835965822218, 0.8244375478874723, 0.26301541352972285, 0.8347048811868373, 0.8367708201578294, 0.8291594672495558, 0.8389559609800976, 0.8413667728729696]}, {\"categories\": [\"0\", \"1\", \"2\", \"3\", \"4\", \"5\", \"6\", \"7\", \"8\", \"9\", \"10\", \"11\", \"12\", \"13\", \"14\", \"15\", \"16\", \"17\", \"18\", \"19\", \"20\", \"21\", \"22\", \"23\", \"24\", \"25\", \"26\", \"27\", \"28\", \"29\", \"30\", \"31\", \"32\", \"33\", \"34\", \"35\"], \"mode\": \"lines\", \"name\": \"AUC_macro_max\", \"stepped\": true, \"type\": \"scatter\", \"data\": [0.7981013916226355, 0.8366210317228242, 0.8366210317228242, 0.8366210317228242, 0.8366210317228242, 0.8366210317228242, 0.8366210317228242, 0.8366210317228242, 0.8366210317228242, 0.8366210317228242, 0.8366210317228242, 0.8366210317228242, 0.8366210317228242, 0.8366210317228242, 0.8366210317228242, 0.8366210317228242, 0.8366210317228242, 0.8366210317228242, 0.8366210317228242, 0.8366210317228242, 0.8366210317228242, 0.8366210317228242, 0.8366210317228242, 0.8366210317228242, 0.8366210317228242, 0.8366210317228242, 0.8366210317228242, 0.8366210317228242, 0.8366210317228242, 0.8366210317228242, 0.8366210317228242, 0.8366210317228242, 0.8367708201578294, 0.8367708201578294, 0.8389559609800976, 0.8413667728729696]}], \"AUC_weighted\": [{\"categories\": [\"0\", \"1\", \"2\", \"3\", \"4\", \"5\", \"6\", \"7\", \"8\", \"9\", \"10\", \"11\", \"12\", \"13\", \"14\", \"15\", \"16\", \"17\", \"18\", \"19\", \"20\", \"21\", \"22\", \"23\", \"24\", \"25\", \"26\", \"27\", \"28\", \"29\", \"30\", \"31\", \"32\", \"33\", \"34\", \"35\"], \"mode\": \"markers\", \"name\": \"AUC_weighted\", \"stepped\": false, \"type\": \"scatter\", \"data\": [0.7981013916226355, 0.8366210317228242, 0.8168784079768873, 0.8151843718967662, 0.8236976228814067, 0.794339691998323, 0.7672168327682274, 0.81716183129269, 0.8270459166636049, 0.8298616931747282, 0.6899760736950882, 0.824720103362645, 0.8263983791240428, 0.8358045289003183, 0.8308679220285343, 0.8309582369150175, 0.8331970250500639, 0.7947765034543794, 0.7437423678652927, 0.7602996128027792, 0.8236916961854579, 0.7360237686503179, 0.7450589539654595, 0.8110744864625188, 0.8003916255382517, 0.6137115252632618, 0.831546658624695, 0.8366157940842405, 0.8358835965822216, 0.8244375478874723, 0.26301541352972285, 0.8347048811868373, 0.8367708201578294, 0.8291594672495558, 0.8389559609800976, 0.8413667728729696]}, {\"categories\": [\"0\", \"1\", \"2\", \"3\", \"4\", \"5\", \"6\", \"7\", \"8\", \"9\", \"10\", \"11\", \"12\", \"13\", \"14\", \"15\", \"16\", \"17\", \"18\", \"19\", \"20\", \"21\", \"22\", \"23\", \"24\", \"25\", \"26\", \"27\", \"28\", \"29\", \"30\", \"31\", \"32\", \"33\", \"34\", \"35\"], \"mode\": \"lines\", \"name\": \"AUC_weighted_max\", \"stepped\": true, \"type\": \"scatter\", \"data\": [0.7981013916226355, 0.8366210317228242, 0.8366210317228242, 0.8366210317228242, 0.8366210317228242, 0.8366210317228242, 0.8366210317228242, 0.8366210317228242, 0.8366210317228242, 0.8366210317228242, 0.8366210317228242, 0.8366210317228242, 0.8366210317228242, 0.8366210317228242, 0.8366210317228242, 0.8366210317228242, 0.8366210317228242, 0.8366210317228242, 0.8366210317228242, 0.8366210317228242, 0.8366210317228242, 0.8366210317228242, 0.8366210317228242, 0.8366210317228242, 0.8366210317228242, 0.8366210317228242, 0.8366210317228242, 0.8366210317228242, 0.8366210317228242, 0.8366210317228242, 0.8366210317228242, 0.8366210317228242, 0.8367708201578294, 0.8367708201578294, 0.8389559609800976, 0.8413667728729696]}], \"matthews_correlation\": [{\"categories\": [\"0\", \"1\", \"2\", \"3\", \"4\", \"5\", \"6\", \"7\", \"8\", \"9\", \"10\", \"11\", \"12\", \"13\", \"14\", \"15\", \"16\", \"17\", \"18\", \"19\", \"20\", \"21\", \"22\", \"23\", \"24\", \"25\", \"26\", \"27\", \"28\", \"29\", \"30\", \"31\", \"32\", \"33\", \"34\", \"35\"], \"mode\": \"markers\", \"name\": \"matthews_correlation\", \"stepped\": false, \"type\": \"scatter\", \"data\": [0.4163237794803841, 0.4814237328189323, 0.40676148498586484, 0.3957624013110622, 0.46880348893059376, 0.3882967706268123, 0.33336166906048137, 0.47337297750095875, 0.4167672017582957, 0.4399118270216148, 0.183266574241319, 0.40218721105061733, 0.4166773674086455, 0.4631793176059439, 0.4445055326426492, 0.4698686723908879, 0.45315158473181844, 0.44880091980348286, 0.32916255278697604, 0.32381034341147374, 0.4601845348951392, 0.33181939292153706, 0.3405153599337194, 0.4109123620718537, 0.1957967976694015, 0.0, 0.3728009335754777, 0.4455747307247423, 0.45039632544162905, 0.42718063354215363, 0.0, 0.45643829536926017, 0.4513743833838335, 0.44351108622931185, 0.5076383699017117, 0.4759891908650193]}, {\"categories\": [\"0\", \"1\", \"2\", \"3\", \"4\", \"5\", \"6\", \"7\", \"8\", \"9\", \"10\", \"11\", \"12\", \"13\", \"14\", \"15\", \"16\", \"17\", \"18\", \"19\", \"20\", \"21\", \"22\", \"23\", \"24\", \"25\", \"26\", \"27\", \"28\", \"29\", \"30\", \"31\", \"32\", \"33\", \"34\", \"35\"], \"mode\": \"lines\", \"name\": \"matthews_correlation_max\", \"stepped\": true, \"type\": \"scatter\", \"data\": [0.4163237794803841, 0.4814237328189323, 0.4814237328189323, 0.4814237328189323, 0.4814237328189323, 0.4814237328189323, 0.4814237328189323, 0.4814237328189323, 0.4814237328189323, 0.4814237328189323, 0.4814237328189323, 0.4814237328189323, 0.4814237328189323, 0.4814237328189323, 0.4814237328189323, 0.4814237328189323, 0.4814237328189323, 0.4814237328189323, 0.4814237328189323, 0.4814237328189323, 0.4814237328189323, 0.4814237328189323, 0.4814237328189323, 0.4814237328189323, 0.4814237328189323, 0.4814237328189323, 0.4814237328189323, 0.4814237328189323, 0.4814237328189323, 0.4814237328189323, 0.4814237328189323, 0.4814237328189323, 0.4814237328189323, 0.4814237328189323, 0.5076383699017117, 0.5076383699017117]}], \"log_loss\": [{\"categories\": [\"0\", \"1\", \"2\", \"3\", \"4\", \"5\", \"6\", \"7\", \"8\", \"9\", \"10\", \"11\", \"12\", \"13\", \"14\", \"15\", \"16\", \"17\", \"18\", \"19\", \"20\", \"21\", \"22\", \"23\", \"24\", \"25\", \"26\", \"27\", \"28\", \"29\", \"30\", \"31\", \"32\", \"33\", \"34\", \"35\"], \"mode\": \"markers\", \"name\": \"log_loss\", \"stepped\": false, \"type\": \"scatter\", \"data\": [0.6480770950597856, 0.4752990014529053, 0.4989662420659869, 0.5170973787203798, 0.5071970577378483, 0.5706355075314649, 0.5428653538655805, 0.49203420340438997, 0.49834952674455685, 0.48153320430599844, 0.612041067826675, 0.5310586708883619, 0.5160515497272203, 0.47436733638110856, 0.5074172138675456, 0.5037053818824139, 0.482177633200612, 0.5106861599715627, 0.5615203481021623, 0.5469791330898274, 0.49359284363944533, 0.5941400261760247, 0.5604868688111833, 0.5039578439315967, 0.5677373539161079, 0.648122283437959, 0.5414231727390466, 0.4738855456789513, 0.4741796417994696, 0.4936606555100651, 0.673922436797833, 0.4744944810939403, 0.4818785725598967, 0.48213087564439505, 0.48235754793188745, 0.47651289498931737]}, {\"categories\": [\"0\", \"1\", \"2\", \"3\", \"4\", \"5\", \"6\", \"7\", \"8\", \"9\", \"10\", \"11\", \"12\", \"13\", \"14\", \"15\", \"16\", \"17\", \"18\", \"19\", \"20\", \"21\", \"22\", \"23\", \"24\", \"25\", \"26\", \"27\", \"28\", \"29\", \"30\", \"31\", \"32\", \"33\", \"34\", \"35\"], \"mode\": \"lines\", \"name\": \"log_loss_min\", \"stepped\": true, \"type\": \"scatter\", \"data\": [0.6480770950597856, 0.4752990014529053, 0.4752990014529053, 0.4752990014529053, 0.4752990014529053, 0.4752990014529053, 0.4752990014529053, 0.4752990014529053, 0.4752990014529053, 0.4752990014529053, 0.4752990014529053, 0.4752990014529053, 0.4752990014529053, 0.47436733638110856, 0.47436733638110856, 0.47436733638110856, 0.47436733638110856, 0.47436733638110856, 0.47436733638110856, 0.47436733638110856, 0.47436733638110856, 0.47436733638110856, 0.47436733638110856, 0.47436733638110856, 0.47436733638110856, 0.47436733638110856, 0.47436733638110856, 0.4738855456789513, 0.4738855456789513, 0.4738855456789513, 0.4738855456789513, 0.4738855456789513, 0.4738855456789513, 0.4738855456789513, 0.4738855456789513, 0.4738855456789513]}], \"f1_score_macro\": [{\"categories\": [\"0\", \"1\", \"2\", \"3\", \"4\", \"5\", \"6\", \"7\", \"8\", \"9\", \"10\", \"11\", \"12\", \"13\", \"14\", \"15\", \"16\", \"17\", \"18\", \"19\", \"20\", \"21\", \"22\", \"23\", \"24\", \"25\", \"26\", \"27\", \"28\", \"29\", \"30\", \"31\", \"32\", \"33\", \"34\", \"35\"], \"mode\": \"markers\", \"name\": \"f1_score_macro\", \"stepped\": false, \"type\": \"scatter\", \"data\": [0.7060869524729553, 0.7386733613551352, 0.6925411236940447, 0.6717436076008095, 0.7299421586736912, 0.6844434406288424, 0.65722672339472, 0.7276024863921442, 0.6960290053092907, 0.7131157169588012, 0.5349582615701339, 0.6642663026464425, 0.6905343977101263, 0.7265394255111047, 0.7044064207650071, 0.7206275383173736, 0.7182771948450362, 0.7195740735295028, 0.6574221516419535, 0.6495981695117654, 0.7264749485355815, 0.6595027108457469, 0.6656826084590972, 0.7030947572646191, 0.5152261269433289, 0.3936285549782772, 0.6289200389290219, 0.7181725475284757, 0.7198079771884824, 0.7064632242651817, 0.3936285549782772, 0.7232970210608157, 0.7184938171314132, 0.71388255586408, 0.7442948545856234, 0.730595468524504]}, {\"categories\": [\"0\", \"1\", \"2\", \"3\", \"4\", \"5\", \"6\", \"7\", \"8\", \"9\", \"10\", \"11\", \"12\", \"13\", \"14\", \"15\", \"16\", \"17\", \"18\", \"19\", \"20\", \"21\", \"22\", \"23\", \"24\", \"25\", \"26\", \"27\", \"28\", \"29\", \"30\", \"31\", \"32\", \"33\", \"34\", \"35\"], \"mode\": \"lines\", \"name\": \"f1_score_macro_max\", \"stepped\": true, \"type\": \"scatter\", \"data\": [0.7060869524729553, 0.7386733613551352, 0.7386733613551352, 0.7386733613551352, 0.7386733613551352, 0.7386733613551352, 0.7386733613551352, 0.7386733613551352, 0.7386733613551352, 0.7386733613551352, 0.7386733613551352, 0.7386733613551352, 0.7386733613551352, 0.7386733613551352, 0.7386733613551352, 0.7386733613551352, 0.7386733613551352, 0.7386733613551352, 0.7386733613551352, 0.7386733613551352, 0.7386733613551352, 0.7386733613551352, 0.7386733613551352, 0.7386733613551352, 0.7386733613551352, 0.7386733613551352, 0.7386733613551352, 0.7386733613551352, 0.7386733613551352, 0.7386733613551352, 0.7386733613551352, 0.7386733613551352, 0.7386733613551352, 0.7386733613551352, 0.7442948545856234, 0.7442948545856234]}], \"average_precision_score_micro\": [{\"categories\": [\"0\", \"1\", \"2\", \"3\", \"4\", \"5\", \"6\", \"7\", \"8\", \"9\", \"10\", \"11\", \"12\", \"13\", \"14\", \"15\", \"16\", \"17\", \"18\", \"19\", \"20\", \"21\", \"22\", \"23\", \"24\", \"25\", \"26\", \"27\", \"28\", \"29\", \"30\", \"31\", \"32\", \"33\", \"34\", \"35\"], \"mode\": \"markers\", \"name\": \"average_precision_score_micro\", \"stepped\": false, \"type\": \"scatter\", \"data\": [0.8229290538102472, 0.8549562655774119, 0.8429193283855906, 0.8307242091188558, 0.8364841534924601, 0.7996783491900621, 0.7998516433589408, 0.8390835790875906, 0.8466194406359755, 0.8482188434916866, 0.7228501322698062, 0.8316151241182335, 0.8430913261156301, 0.8552379969015524, 0.8471894350025627, 0.8480211169312366, 0.8530174246670974, 0.8255049823440437, 0.7788851891236064, 0.7929909240077632, 0.8457518560452375, 0.7753205152873033, 0.7851701310872634, 0.8374198818793834, 0.8045259901970626, 0.6944960081049749, 0.8293919681378288, 0.854363930917404, 0.8549682657235774, 0.8453942662146385, 0.5228520975691419, 0.8538856294725743, 0.8550269743353219, 0.8499996757028718, 0.8567251935229535, 0.8614361199642262]}, {\"categories\": [\"0\", \"1\", \"2\", \"3\", \"4\", \"5\", \"6\", \"7\", \"8\", \"9\", \"10\", \"11\", \"12\", \"13\", \"14\", \"15\", \"16\", \"17\", \"18\", \"19\", \"20\", \"21\", \"22\", \"23\", \"24\", \"25\", \"26\", \"27\", \"28\", \"29\", \"30\", \"31\", \"32\", \"33\", \"34\", \"35\"], \"mode\": \"lines\", \"name\": \"average_precision_score_micro_max\", \"stepped\": true, \"type\": \"scatter\", \"data\": [0.8229290538102472, 0.8549562655774119, 0.8549562655774119, 0.8549562655774119, 0.8549562655774119, 0.8549562655774119, 0.8549562655774119, 0.8549562655774119, 0.8549562655774119, 0.8549562655774119, 0.8549562655774119, 0.8549562655774119, 0.8549562655774119, 0.8552379969015524, 0.8552379969015524, 0.8552379969015524, 0.8552379969015524, 0.8552379969015524, 0.8552379969015524, 0.8552379969015524, 0.8552379969015524, 0.8552379969015524, 0.8552379969015524, 0.8552379969015524, 0.8552379969015524, 0.8552379969015524, 0.8552379969015524, 0.8552379969015524, 0.8552379969015524, 0.8552379969015524, 0.8552379969015524, 0.8552379969015524, 0.8552379969015524, 0.8552379969015524, 0.8567251935229535, 0.8614361199642262]}]}, \"metricName\": null, \"primaryMetricName\": \"accuracy\", \"showLegend\": false}, \"run_metrics\": [{\"name\": \"experiment_status\", \"run_id\": \"AutoML_70e158c9-66db-48e6-b4f1-283f0de7d574\", \"categories\": [0, 1, 2, 3, 4, 5, 6, 7, 8, 9, 10, 11, 12, 13], \"series\": [{\"data\": [\"DatasetEvaluation\", \"FeaturesGeneration\", \"DatasetFeaturization\", \"DatasetFeaturizationCompleted\", \"DatasetCrossValidationSplit\", \"ModelSelection\", \"BestRunExplainModel\", \"ModelExplanationDataSetSetup\", \"PickSurrogateModel\", \"EngineeredFeatureExplanations\", \"EngineeredFeatureExplanations\", \"RawFeaturesExplanations\", \"RawFeaturesExplanations\", \"BestRunExplainModel\"]}]}, {\"name\": \"experiment_status_description\", \"run_id\": \"AutoML_70e158c9-66db-48e6-b4f1-283f0de7d574\", \"categories\": [0, 1, 2, 3, 4, 5, 6, 7, 8, 9, 10, 11, 12, 13], \"series\": [{\"data\": [\"Gathering dataset statistics.\", \"Generating features for the dataset.\", \"Beginning to fit featurizers and featurize the dataset.\", \"Completed fit featurizers and featurizing the dataset.\", \"Generating individually featurized CV splits.\", \"Beginning model selection.\", \"Best run model explanations started\", \"Model explanations data setup completed\", \"Choosing LightGBM as the surrogate model for explanations\", \"Computation of engineered features started\", \"Computation of engineered features completed\", \"Computation of raw features started\", \"Computation of raw features completed\", \"Best run model explanations completed\"]}]}, {\"name\": \"precision_score_macro\", \"run_id\": \"AutoML_70e158c9-66db-48e6-b4f1-283f0de7d574\", \"categories\": [0], \"series\": [{\"data\": [0.7772256287947514]}]}, {\"name\": \"precision_score_weighted\", \"run_id\": \"AutoML_70e158c9-66db-48e6-b4f1-283f0de7d574\", \"categories\": [0], \"series\": [{\"data\": [0.7852936224034905]}]}, {\"name\": \"f1_score_macro\", \"run_id\": \"AutoML_70e158c9-66db-48e6-b4f1-283f0de7d574\", \"categories\": [0], \"series\": [{\"data\": [0.7442948545856234]}]}, {\"name\": \"AUC_weighted\", \"run_id\": \"AutoML_70e158c9-66db-48e6-b4f1-283f0de7d574\", \"categories\": [0], \"series\": [{\"data\": [0.8389559609800976]}]}, {\"name\": \"average_precision_score_micro\", \"run_id\": \"AutoML_70e158c9-66db-48e6-b4f1-283f0de7d574\", \"categories\": [0], \"series\": [{\"data\": [0.8567251935229535]}]}, {\"name\": \"norm_macro_recall\", \"run_id\": \"AutoML_70e158c9-66db-48e6-b4f1-283f0de7d574\", \"categories\": [0], \"series\": [{\"data\": [0.465448789267117]}]}, {\"name\": \"precision_score_micro\", \"run_id\": \"AutoML_70e158c9-66db-48e6-b4f1-283f0de7d574\", \"categories\": [0], \"series\": [{\"data\": [0.786466165413534]}]}, {\"name\": \"AUC_macro\", \"run_id\": \"AutoML_70e158c9-66db-48e6-b4f1-283f0de7d574\", \"categories\": [0], \"series\": [{\"data\": [0.8389559609800976]}]}, {\"name\": \"recall_score_macro\", \"run_id\": \"AutoML_70e158c9-66db-48e6-b4f1-283f0de7d574\", \"categories\": [0], \"series\": [{\"data\": [0.7327243946335584]}]}, {\"name\": \"f1_score_micro\", \"run_id\": \"AutoML_70e158c9-66db-48e6-b4f1-283f0de7d574\", \"categories\": [0], \"series\": [{\"data\": [0.7864661654135338]}]}, {\"name\": \"average_precision_score_macro\", \"run_id\": \"AutoML_70e158c9-66db-48e6-b4f1-283f0de7d574\", \"categories\": [0], \"series\": [{\"data\": [0.8198469720202309]}]}, {\"name\": \"AUC_micro\", \"run_id\": \"AutoML_70e158c9-66db-48e6-b4f1-283f0de7d574\", \"categories\": [0], \"series\": [{\"data\": [0.8556839031026893]}]}, {\"name\": \"weighted_accuracy\", \"run_id\": \"AutoML_70e158c9-66db-48e6-b4f1-283f0de7d574\", \"categories\": [0], \"series\": [{\"data\": [0.8271696271653232]}]}, {\"name\": \"recall_score_weighted\", \"run_id\": \"AutoML_70e158c9-66db-48e6-b4f1-283f0de7d574\", \"categories\": [0], \"series\": [{\"data\": [0.786466165413534]}]}, {\"name\": \"matthews_correlation\", \"run_id\": \"AutoML_70e158c9-66db-48e6-b4f1-283f0de7d574\", \"categories\": [0], \"series\": [{\"data\": [0.5076383699017117]}]}, {\"name\": \"recall_score_micro\", \"run_id\": \"AutoML_70e158c9-66db-48e6-b4f1-283f0de7d574\", \"categories\": [0], \"series\": [{\"data\": [0.786466165413534]}]}, {\"name\": \"accuracy\", \"run_id\": \"AutoML_70e158c9-66db-48e6-b4f1-283f0de7d574\", \"categories\": [0], \"series\": [{\"data\": [0.786466165413534]}]}, {\"name\": \"log_loss\", \"run_id\": \"AutoML_70e158c9-66db-48e6-b4f1-283f0de7d574\", \"categories\": [0], \"series\": [{\"data\": [0.48235754793188745]}]}, {\"name\": \"f1_score_weighted\", \"run_id\": \"AutoML_70e158c9-66db-48e6-b4f1-283f0de7d574\", \"categories\": [0], \"series\": [{\"data\": [0.7771899509715002]}]}, {\"name\": \"average_precision_score_weighted\", \"run_id\": \"AutoML_70e158c9-66db-48e6-b4f1-283f0de7d574\", \"categories\": [0], \"series\": [{\"data\": [0.8486166665878188]}]}, {\"name\": \"balanced_accuracy\", \"run_id\": \"AutoML_70e158c9-66db-48e6-b4f1-283f0de7d574\", \"categories\": [0], \"series\": [{\"data\": [0.7327243946335584]}]}], \"run_logs\": \"\\nRun is completed.\", \"graph\": {}, \"widget_settings\": {\"childWidgetDisplay\": \"popup\", \"send_telemetry\": false, \"log_level\": \"INFO\", \"sdk_version\": \"1.20.0\"}, \"loading\": false}"
          },
          "metadata": {}
        }
      ],
      "execution_count": 9,
      "metadata": {
        "gather": {
          "logged": 1613019508204
        },
        "jupyter": {
          "outputs_hidden": false,
          "source_hidden": false
        },
        "nteract": {
          "transient": {
            "deleting": false
          }
        }
      }
    },
    {
      "cell_type": "code",
      "source": [
        "remote_run.wait_for_completion(show_output=True)"
      ],
      "outputs": [
        {
          "output_type": "stream",
          "name": "stdout",
          "text": [
            "\n",
            "Current status: ModelSelection. Beginning model selection.\n",
            "\n",
            "****************************************************************************************************\n",
            "DATA GUARDRAILS: \n",
            "\n",
            "TYPE:         Cross validation\n",
            "STATUS:       DONE\n",
            "DESCRIPTION:  Each iteration of the trained model was validated through cross-validation.\n",
            "              \n",
            "DETAILS:      \n",
            "+---------------------------------+\n",
            "|Number of folds                  |\n",
            "+=================================+\n",
            "|10                               |\n",
            "+---------------------------------+\n",
            "\n",
            "****************************************************************************************************\n",
            "\n",
            "TYPE:         Class balancing detection\n",
            "STATUS:       PASSED\n",
            "DESCRIPTION:  Your inputs were analyzed, and all classes are balanced in your training data.\n",
            "              Learn more about imbalanced data: https://aka.ms/AutomatedMLImbalancedData\n",
            "\n",
            "****************************************************************************************************\n",
            "\n",
            "TYPE:         Missing feature values imputation\n",
            "STATUS:       PASSED\n",
            "DESCRIPTION:  No feature missing values were detected in the training data.\n",
            "              Learn more about missing value imputation: https://aka.ms/AutomatedMLFeaturization\n",
            "\n",
            "****************************************************************************************************\n",
            "\n",
            "TYPE:         High cardinality feature detection\n",
            "STATUS:       PASSED\n",
            "DESCRIPTION:  Your inputs were analyzed, and no high cardinality features were detected.\n",
            "              Learn more about high cardinality feature handling: https://aka.ms/AutomatedMLFeaturization\n",
            "\n",
            "****************************************************************************************************\n",
            "\n",
            "****************************************************************************************************\n",
            "ITERATION: The iteration being evaluated.\n",
            "PIPELINE: A summary description of the pipeline being evaluated.\n",
            "DURATION: Time taken for the current iteration.\n",
            "METRIC: The result of computing score on the fitted pipeline.\n",
            "BEST: The best observed score thus far.\n",
            "****************************************************************************************************\n",
            "\n",
            " ITERATION   PIPELINE                                       DURATION      METRIC      BEST\n",
            "         0   MaxAbsScaler LightGBM                          0:00:52       0.7396    0.7396\n",
            "         1   MaxAbsScaler XGBoostClassifier                 0:00:52       0.7696    0.7696\n",
            "         2   MaxAbsScaler RandomForest                      0:00:53       0.7448    0.7696\n",
            "         3   MaxAbsScaler RandomForest                      0:00:57       0.7422    0.7696\n",
            "         6   SparseNormalizer XGBoostClassifier             0:00:50       0.7109    0.7696\n",
            "         7   MaxAbsScaler LogisticRegression                0:01:02       0.7722    0.7722\n",
            "         4   MaxAbsScaler RandomForest                      0:03:23       0.7501    0.7722\n",
            "         5   MaxAbsScaler RandomForest                      0:03:32       0.7058    0.7722\n",
            "         8   StandardScalerWrapper RandomForest             0:00:53       0.7487    0.7722\n",
            "         9   MaxAbsScaler RandomForest                      0:00:48       0.7579    0.7722\n",
            "        10   SparseNormalizer XGBoostClassifier             0:00:57       0.6563    0.7722\n",
            "        11   MaxAbsScaler ExtremeRandomTrees                0:01:02       0.7435    0.7722\n",
            "        12   MaxAbsScaler LightGBM                          0:00:55       0.7513    0.7722\n",
            "        13   StandardScalerWrapper LightGBM                 0:01:08       0.7631    0.7722\n",
            "        14   MaxAbsScaler LightGBM                          0:00:46       0.7604    0.7722\n",
            "        15   MaxAbsScaler LightGBM                          0:00:48       0.7709    0.7722\n",
            "        17   TruncatedSVDWrapper XGBoostClassifier          0:00:50       0.7593    0.7722\n",
            "        16   StandardScalerWrapper LightGBM                 0:01:08       0.7643    0.7722\n",
            "        18   SparseNormalizer LightGBM                      0:00:53       0.7083    0.7722\n",
            "        19   SparseNormalizer XGBoostClassifier             0:00:48       0.7070    0.7722\n",
            "        20   MaxAbsScaler LightGBM                          0:00:56       0.7592    0.7722\n",
            "        21   SparseNormalizer XGBoostClassifier             0:00:57       0.7109    0.7722\n",
            "        22   SparseNormalizer XGBoostClassifier             0:00:52       0.7110    0.7722\n",
            "        23   StandardScalerWrapper XGBoostClassifier        0:00:53       0.7396    0.7722\n",
            "        24   StandardScalerWrapper RandomForest             0:00:51       0.6888    0.7722\n",
            "        25   SparseNormalizer LogisticRegression            0:01:00       0.6510    0.7722\n",
            "        26   MaxAbsScaler LightGBM                          0:00:56       0.7318    0.7722\n",
            "        27   StandardScalerWrapper LightGBM                 0:00:49       0.7566    0.7722\n",
            "        28   MaxAbsScaler RandomForest                      0:01:07       0.7605    0.7722\n",
            "        29   StandardScalerWrapper RandomForest             0:00:55       0.7499    0.7722\n",
            "        30   TruncatedSVDWrapper LogisticRegression         0:00:58       0.6510    0.7722\n",
            "        31   StandardScalerWrapper LightGBM                 0:00:49       0.7605    0.7722\n",
            "        32   MaxAbsScaler LightGBM                          0:00:52       0.7618    0.7722\n",
            "        33   MaxAbsScaler LightGBM                          0:00:46       0.7578    0.7722\n",
            "        34    VotingEnsemble                                0:01:52       0.7865    0.7865\n",
            "        35    StackEnsemble                                 0:01:50       0.7722    0.7865\n"
          ]
        },
        {
          "output_type": "execute_result",
          "execution_count": 10,
          "data": {
            "text/plain": "{'runId': 'AutoML_70e158c9-66db-48e6-b4f1-283f0de7d574',\n 'target': 'capcpu',\n 'status': 'Completed',\n 'startTimeUtc': '2021-02-11T04:58:36.831179Z',\n 'endTimeUtc': '2021-02-11T05:28:00.336621Z',\n 'properties': {'num_iterations': '1000',\n  'training_type': 'TrainFull',\n  'acquisition_function': 'EI',\n  'primary_metric': 'accuracy',\n  'train_split': '0',\n  'acquisition_parameter': '0',\n  'num_cross_validation': None,\n  'target': 'capcpu',\n  'AMLSettingsJsonString': '{\"path\":null,\"name\":\"diabetes\",\"subscription_id\":\"9a7511b8-150f-4a58-8528-3e7d50216c31\",\"resource_group\":\"aml-quickstarts-138480\",\"workspace_name\":\"quick-starts-ws-138480\",\"region\":\"southcentralus\",\"compute_target\":\"capcpu\",\"spark_service\":null,\"azure_service\":\"remote\",\"many_models\":false,\"pipeline_fetch_max_batch_size\":1,\"iterations\":1000,\"primary_metric\":\"accuracy\",\"task_type\":\"classification\",\"data_script\":null,\"validation_size\":0.0,\"n_cross_validations\":null,\"y_min\":null,\"y_max\":null,\"num_classes\":null,\"featurization\":\"auto\",\"_ignore_package_version_incompatibilities\":false,\"is_timeseries\":false,\"max_cores_per_iteration\":1,\"max_concurrent_iterations\":3,\"iteration_timeout_minutes\":null,\"mem_in_mb\":null,\"enforce_time_on_windows\":false,\"experiment_timeout_minutes\":30,\"experiment_exit_score\":null,\"whitelist_models\":null,\"blacklist_algos\":[\"TensorFlowLinearClassifier\",\"TensorFlowDNN\"],\"supported_models\":[\"MultinomialNaiveBayes\",\"GradientBoosting\",\"AveragedPerceptronClassifier\",\"LightGBM\",\"TensorFlowDNN\",\"DecisionTree\",\"LogisticRegression\",\"SGD\",\"BernoulliNaiveBayes\",\"SVM\",\"ExtremeRandomTrees\",\"TensorFlowLinearClassifier\",\"KNN\",\"XGBoostClassifier\",\"RandomForest\",\"LinearSVM\"],\"auto_blacklist\":true,\"blacklist_samples_reached\":false,\"exclude_nan_labels\":true,\"verbosity\":20,\"_debug_log\":\"azureml_automl.log\",\"show_warnings\":false,\"model_explainability\":true,\"service_url\":null,\"sdk_url\":null,\"sdk_packages\":null,\"enable_onnx_compatible_models\":false,\"enable_split_onnx_featurizer_estimator_models\":false,\"vm_type\":\"STANDARD_D2_V2\",\"telemetry_verbosity\":20,\"send_telemetry\":true,\"enable_dnn\":false,\"scenario\":\"SDK-1.13.0\",\"environment_label\":null,\"force_text_dnn\":false,\"enable_feature_sweeping\":true,\"enable_early_stopping\":true,\"early_stopping_n_iters\":10,\"metrics\":null,\"enable_ensembling\":true,\"enable_stack_ensembling\":true,\"ensemble_iterations\":15,\"enable_tf\":false,\"enable_subsampling\":null,\"subsample_seed\":null,\"enable_nimbusml\":false,\"enable_streaming\":false,\"force_streaming\":false,\"track_child_runs\":true,\"allowed_private_models\":[],\"label_column_name\":\"Outcome\",\"weight_column_name\":null,\"cv_split_column_names\":null,\"enable_local_managed\":false,\"_local_managed_run_id\":null,\"cost_mode\":1,\"lag_length\":0,\"metric_operation\":\"maximize\",\"preprocess\":true}',\n  'DataPrepJsonString': '{\\\\\"training_data\\\\\": \\\\\"{\\\\\\\\\\\\\"blocks\\\\\\\\\\\\\": [{\\\\\\\\\\\\\"id\\\\\\\\\\\\\": \\\\\\\\\\\\\"2fc66de6-24d1-4446-9258-16dec6e2ffbc\\\\\\\\\\\\\", \\\\\\\\\\\\\"type\\\\\\\\\\\\\": \\\\\\\\\\\\\"Microsoft.DPrep.GetFilesBlock\\\\\\\\\\\\\", \\\\\\\\\\\\\"arguments\\\\\\\\\\\\\": {\\\\\\\\\\\\\"isArchive\\\\\\\\\\\\\": false, \\\\\\\\\\\\\"path\\\\\\\\\\\\\": {\\\\\\\\\\\\\"target\\\\\\\\\\\\\": 4, \\\\\\\\\\\\\"resourceDetails\\\\\\\\\\\\\": [{\\\\\\\\\\\\\"path\\\\\\\\\\\\\": \\\\\\\\\\\\\"https://raw.githubusercontent.com/SaraSrkr/Capstone-Prpject/main/diabetes.csv\\\\\\\\\\\\\"}]}}, \\\\\\\\\\\\\"localData\\\\\\\\\\\\\": {}, \\\\\\\\\\\\\"isEnabled\\\\\\\\\\\\\": true, \\\\\\\\\\\\\"name\\\\\\\\\\\\\": null, \\\\\\\\\\\\\"annotation\\\\\\\\\\\\\": null}, {\\\\\\\\\\\\\"id\\\\\\\\\\\\\": \\\\\\\\\\\\\"15839a5d-f37c-473d-ab33-bf17c3fc7e6b\\\\\\\\\\\\\", \\\\\\\\\\\\\"type\\\\\\\\\\\\\": \\\\\\\\\\\\\"Microsoft.DPrep.ParseDelimitedBlock\\\\\\\\\\\\\", \\\\\\\\\\\\\"arguments\\\\\\\\\\\\\": {\\\\\\\\\\\\\"columnHeadersMode\\\\\\\\\\\\\": 3, \\\\\\\\\\\\\"fileEncoding\\\\\\\\\\\\\": 0, \\\\\\\\\\\\\"handleQuotedLineBreaks\\\\\\\\\\\\\": false, \\\\\\\\\\\\\"preview\\\\\\\\\\\\\": false, \\\\\\\\\\\\\"separator\\\\\\\\\\\\\": \\\\\\\\\\\\\",\\\\\\\\\\\\\", \\\\\\\\\\\\\"skipRows\\\\\\\\\\\\\": 0, \\\\\\\\\\\\\"skipRowsMode\\\\\\\\\\\\\": 0}, \\\\\\\\\\\\\"localData\\\\\\\\\\\\\": {}, \\\\\\\\\\\\\"isEnabled\\\\\\\\\\\\\": true, \\\\\\\\\\\\\"name\\\\\\\\\\\\\": null, \\\\\\\\\\\\\"annotation\\\\\\\\\\\\\": null}, {\\\\\\\\\\\\\"id\\\\\\\\\\\\\": \\\\\\\\\\\\\"22739218-44e5-40d0-85f0-02250d4c2a21\\\\\\\\\\\\\", \\\\\\\\\\\\\"type\\\\\\\\\\\\\": \\\\\\\\\\\\\"Microsoft.DPrep.DropColumnsBlock\\\\\\\\\\\\\", \\\\\\\\\\\\\"arguments\\\\\\\\\\\\\": {\\\\\\\\\\\\\"columns\\\\\\\\\\\\\": {\\\\\\\\\\\\\"type\\\\\\\\\\\\\": 0, \\\\\\\\\\\\\"details\\\\\\\\\\\\\": {\\\\\\\\\\\\\"selectedColumns\\\\\\\\\\\\\": [\\\\\\\\\\\\\"Path\\\\\\\\\\\\\"]}}}, \\\\\\\\\\\\\"localData\\\\\\\\\\\\\": {}, \\\\\\\\\\\\\"isEnabled\\\\\\\\\\\\\": true, \\\\\\\\\\\\\"name\\\\\\\\\\\\\": null, \\\\\\\\\\\\\"annotation\\\\\\\\\\\\\": null}, {\\\\\\\\\\\\\"id\\\\\\\\\\\\\": \\\\\\\\\\\\\"dcfe9511-743c-4e38-b650-7ab1bf1a4c34\\\\\\\\\\\\\", \\\\\\\\\\\\\"type\\\\\\\\\\\\\": \\\\\\\\\\\\\"Microsoft.DPrep.SetColumnTypesBlock\\\\\\\\\\\\\", \\\\\\\\\\\\\"arguments\\\\\\\\\\\\\": {\\\\\\\\\\\\\"columnConversion\\\\\\\\\\\\\": [{\\\\\\\\\\\\\"column\\\\\\\\\\\\\": {\\\\\\\\\\\\\"type\\\\\\\\\\\\\": 2, \\\\\\\\\\\\\"details\\\\\\\\\\\\\": {\\\\\\\\\\\\\"selectedColumn\\\\\\\\\\\\\": \\\\\\\\\\\\\"Pregnancies\\\\\\\\\\\\\"}}, \\\\\\\\\\\\\"typeProperty\\\\\\\\\\\\\": 2}, {\\\\\\\\\\\\\"column\\\\\\\\\\\\\": {\\\\\\\\\\\\\"type\\\\\\\\\\\\\": 2, \\\\\\\\\\\\\"details\\\\\\\\\\\\\": {\\\\\\\\\\\\\"selectedColumn\\\\\\\\\\\\\": \\\\\\\\\\\\\"Glucose\\\\\\\\\\\\\"}}, \\\\\\\\\\\\\"typeProperty\\\\\\\\\\\\\": 2}, {\\\\\\\\\\\\\"column\\\\\\\\\\\\\": {\\\\\\\\\\\\\"type\\\\\\\\\\\\\": 2, \\\\\\\\\\\\\"details\\\\\\\\\\\\\": {\\\\\\\\\\\\\"selectedColumn\\\\\\\\\\\\\": \\\\\\\\\\\\\"BloodPressure\\\\\\\\\\\\\"}}, \\\\\\\\\\\\\"typeProperty\\\\\\\\\\\\\": 2}, {\\\\\\\\\\\\\"column\\\\\\\\\\\\\": {\\\\\\\\\\\\\"type\\\\\\\\\\\\\": 2, \\\\\\\\\\\\\"details\\\\\\\\\\\\\": {\\\\\\\\\\\\\"selectedColumn\\\\\\\\\\\\\": \\\\\\\\\\\\\"SkinThickness\\\\\\\\\\\\\"}}, \\\\\\\\\\\\\"typeProperty\\\\\\\\\\\\\": 2}, {\\\\\\\\\\\\\"column\\\\\\\\\\\\\": {\\\\\\\\\\\\\"type\\\\\\\\\\\\\": 2, \\\\\\\\\\\\\"details\\\\\\\\\\\\\": {\\\\\\\\\\\\\"selectedColumn\\\\\\\\\\\\\": \\\\\\\\\\\\\"Insulin\\\\\\\\\\\\\"}}, \\\\\\\\\\\\\"typeProperty\\\\\\\\\\\\\": 2}, {\\\\\\\\\\\\\"column\\\\\\\\\\\\\": {\\\\\\\\\\\\\"type\\\\\\\\\\\\\": 2, \\\\\\\\\\\\\"details\\\\\\\\\\\\\": {\\\\\\\\\\\\\"selectedColumn\\\\\\\\\\\\\": \\\\\\\\\\\\\"BMI\\\\\\\\\\\\\"}}, \\\\\\\\\\\\\"typeProperty\\\\\\\\\\\\\": 3}, {\\\\\\\\\\\\\"column\\\\\\\\\\\\\": {\\\\\\\\\\\\\"type\\\\\\\\\\\\\": 2, \\\\\\\\\\\\\"details\\\\\\\\\\\\\": {\\\\\\\\\\\\\"selectedColumn\\\\\\\\\\\\\": \\\\\\\\\\\\\"DiabetesPedigreeFunction\\\\\\\\\\\\\"}}, \\\\\\\\\\\\\"typeProperty\\\\\\\\\\\\\": 3}, {\\\\\\\\\\\\\"column\\\\\\\\\\\\\": {\\\\\\\\\\\\\"type\\\\\\\\\\\\\": 2, \\\\\\\\\\\\\"details\\\\\\\\\\\\\": {\\\\\\\\\\\\\"selectedColumn\\\\\\\\\\\\\": \\\\\\\\\\\\\"Age\\\\\\\\\\\\\"}}, \\\\\\\\\\\\\"typeProperty\\\\\\\\\\\\\": 2}, {\\\\\\\\\\\\\"column\\\\\\\\\\\\\": {\\\\\\\\\\\\\"type\\\\\\\\\\\\\": 2, \\\\\\\\\\\\\"details\\\\\\\\\\\\\": {\\\\\\\\\\\\\"selectedColumn\\\\\\\\\\\\\": \\\\\\\\\\\\\"Outcome\\\\\\\\\\\\\"}}, \\\\\\\\\\\\\"typeProperty\\\\\\\\\\\\\": 2}]}, \\\\\\\\\\\\\"localData\\\\\\\\\\\\\": {}, \\\\\\\\\\\\\"isEnabled\\\\\\\\\\\\\": true, \\\\\\\\\\\\\"name\\\\\\\\\\\\\": null, \\\\\\\\\\\\\"annotation\\\\\\\\\\\\\": null}], \\\\\\\\\\\\\"inspectors\\\\\\\\\\\\\": [], \\\\\\\\\\\\\"meta\\\\\\\\\\\\\": {\\\\\\\\\\\\\"savedDatasetId\\\\\\\\\\\\\": \\\\\\\\\\\\\"30ff6bd5-68f1-40f7-9628-78055e09066c\\\\\\\\\\\\\", \\\\\\\\\\\\\"datasetType\\\\\\\\\\\\\": \\\\\\\\\\\\\"tabular\\\\\\\\\\\\\", \\\\\\\\\\\\\"subscriptionId\\\\\\\\\\\\\": \\\\\\\\\\\\\"9a7511b8-150f-4a58-8528-3e7d50216c31\\\\\\\\\\\\\", \\\\\\\\\\\\\"workspaceId\\\\\\\\\\\\\": \\\\\\\\\\\\\"365befeb-9387-4170-8254-d45cbdf532cd\\\\\\\\\\\\\", \\\\\\\\\\\\\"workspaceLocation\\\\\\\\\\\\\": \\\\\\\\\\\\\"southcentralus\\\\\\\\\\\\\"}}\\\\\", \\\\\"activities\\\\\": 0}',\n  'EnableSubsampling': None,\n  'runTemplate': 'AutoML',\n  'azureml.runsource': 'automl',\n  'display_task_type': 'classification',\n  'dependencies_versions': '{\"azureml-widgets\": \"1.20.0\", \"azureml-train\": \"1.20.0\", \"azureml-train-restclients-hyperdrive\": \"1.20.0\", \"azureml-train-core\": \"1.20.0\", \"azureml-train-automl\": \"1.20.0\", \"azureml-train-automl-runtime\": \"1.20.0\", \"azureml-train-automl-client\": \"1.20.0\", \"azureml-tensorboard\": \"1.20.0\", \"azureml-telemetry\": \"1.20.0\", \"azureml-sdk\": \"1.20.0\", \"azureml-samples\": \"0+unknown\", \"azureml-pipeline\": \"1.20.0\", \"azureml-pipeline-steps\": \"1.20.0\", \"azureml-pipeline-core\": \"1.20.0\", \"azureml-opendatasets\": \"1.20.0\", \"azureml-model-management-sdk\": \"1.0.1b6.post1\", \"azureml-mlflow\": \"1.20.0.post1\", \"azureml-interpret\": \"1.20.0\", \"azureml-explain-model\": \"1.20.0\", \"azureml-defaults\": \"1.20.0\", \"azureml-dataset-runtime\": \"1.20.0\", \"azureml-dataprep\": \"2.7.3\", \"azureml-dataprep-rslex\": \"1.5.0\", \"azureml-dataprep-native\": \"27.0.0\", \"azureml-datadrift\": \"1.20.0\", \"azureml-core\": \"1.20.0\", \"azureml-contrib-services\": \"1.20.0\", \"azureml-contrib-server\": \"1.20.0\", \"azureml-contrib-reinforcementlearning\": \"1.20.0\", \"azureml-contrib-pipeline-steps\": \"1.20.0\", \"azureml-contrib-notebook\": \"1.20.0\", \"azureml-contrib-interpret\": \"1.20.0\", \"azureml-contrib-gbdt\": \"1.20.0\", \"azureml-contrib-fairness\": \"1.20.0\", \"azureml-contrib-dataset\": \"1.20.0\", \"azureml-cli-common\": \"1.20.0\", \"azureml-automl-runtime\": \"1.20.0\", \"azureml-automl-core\": \"1.20.0\", \"azureml-accel-models\": \"1.20.0\"}',\n  '_aml_system_scenario_identification': 'Remote.Parent',\n  'ClientType': 'SDK',\n  'environment_cpu_name': 'AzureML-AutoML',\n  'environment_cpu_label': 'prod',\n  'environment_gpu_name': 'AzureML-AutoML-GPU',\n  'environment_gpu_label': 'prod',\n  'root_attribution': 'automl',\n  'attribution': 'AutoML',\n  'Orchestrator': 'AutoML',\n  'CancelUri': 'https://southcentralus.experiments.azureml.net/jasmine/v1.0/subscriptions/9a7511b8-150f-4a58-8528-3e7d50216c31/resourceGroups/aml-quickstarts-138480/providers/Microsoft.MachineLearningServices/workspaces/quick-starts-ws-138480/experimentids/e0c50fd6-06bf-4ced-a636-572e9c581541/cancel/AutoML_70e158c9-66db-48e6-b4f1-283f0de7d574',\n  'ClientSdkVersion': '1.21.0',\n  'snapshotId': '00000000-0000-0000-0000-000000000000',\n  'SetupRunId': 'AutoML_70e158c9-66db-48e6-b4f1-283f0de7d574_setup',\n  'SetupRunContainerId': 'dcid.AutoML_70e158c9-66db-48e6-b4f1-283f0de7d574_setup',\n  'FeaturizationRunJsonPath': 'featurizer_container.json',\n  'FeaturizationRunId': 'AutoML_70e158c9-66db-48e6-b4f1-283f0de7d574_featurize',\n  'ProblemInfoJsonString': '{\"dataset_num_categorical\": 0, \"is_sparse\": true, \"subsampling\": false, \"dataset_classes\": 2, \"dataset_features\": 24, \"dataset_samples\": 768, \"single_frequency_class_detected\": false}',\n  'ModelExplainRunId': 'AutoML_70e158c9-66db-48e6-b4f1-283f0de7d574_ModelExplain'},\n 'inputDatasets': [{'dataset': {'id': '30ff6bd5-68f1-40f7-9628-78055e09066c'}, 'consumptionDetails': {'type': 'RunInput', 'inputName': 'training_data', 'mechanism': 'Direct'}}],\n 'outputDatasets': [],\n 'logFiles': {},\n 'submittedBy': 'ODL_User 138480'}"
          },
          "metadata": {}
        }
      ],
      "execution_count": 10,
      "metadata": {
        "collapsed": true,
        "jupyter": {
          "source_hidden": false,
          "outputs_hidden": false
        },
        "nteract": {
          "transient": {
            "deleting": false
          }
        },
        "gather": {
          "logged": 1613021284798
        }
      }
    },
    {
      "cell_type": "markdown",
      "source": [
        "## Best Model\n",
        "\n",
        "TODO: In the cell below, get the best model from the automl experiments and display all the properties of the model.\n",
        "\n"
      ],
      "metadata": {}
    },
    {
      "cell_type": "code",
      "source": [
        "import joblib\r\n",
        "# Get your best run and save the model from that run.\r\n",
        "best_run, fitted_model = remote_run.get_output()\r\n",
        "\r\n",
        "print(best_run.get_details()['runDefinition']['arguments'])\r\n",
        " \r\n",
        "print('Best Run Id: ', best_run.id)\r\n",
        "\r\n",
        "print(best_run)\r\n",
        "print(fitted_model)"
      ],
      "outputs": [
        {
          "output_type": "stream",
          "name": "stderr",
          "text": [
            "WARNING:root:The version of the SDK does not match the version the model was trained on.\n",
            "WARNING:root:The consistency in the result may not be guaranteed.\n",
            "WARNING:root:Package:azureml-automl-core, training version:1.21.0, current version:1.20.0\n",
            "Package:azureml-automl-runtime, training version:1.21.0, current version:1.20.0\n",
            "Package:azureml-core, training version:1.21.0.post1, current version:1.20.0\n",
            "Package:azureml-dataprep, training version:2.8.2, current version:2.7.3\n",
            "Package:azureml-dataprep-native, training version:28.0.0, current version:27.0.0\n",
            "Package:azureml-dataprep-rslex, training version:1.6.0, current version:1.5.0\n",
            "Package:azureml-dataset-runtime, training version:1.21.0, current version:1.20.0\n",
            "Package:azureml-defaults, training version:1.21.0, current version:1.20.0\n",
            "Package:azureml-interpret, training version:1.21.0, current version:1.20.0\n",
            "Package:azureml-pipeline-core, training version:1.21.0, current version:1.20.0\n",
            "Package:azureml-telemetry, training version:1.21.0, current version:1.20.0\n",
            "Package:azureml-train-automl-client, training version:1.21.0, current version:1.20.0\n",
            "Package:azureml-train-automl-runtime, training version:1.21.0, current version:1.20.0\n",
            "WARNING:root:Please ensure the version of your local conda dependencies match the version on which your model was trained in order to properly retrieve your model.\n"
          ]
        },
        {
          "output_type": "stream",
          "name": "stdout",
          "text": [
            "[]\n",
            "Best Run Id:  AutoML_70e158c9-66db-48e6-b4f1-283f0de7d574_34\n",
            "Run(Experiment: diabetes,\n",
            "Id: AutoML_70e158c9-66db-48e6-b4f1-283f0de7d574_34,\n",
            "Type: azureml.scriptrun,\n",
            "Status: Completed)\n",
            "Pipeline(memory=None,\n",
            "         steps=[('datatransformer',\n",
            "                 DataTransformer(enable_dnn=None, enable_feature_sweeping=None,\n",
            "                                 feature_sweeping_config=None,\n",
            "                                 feature_sweeping_timeout=None,\n",
            "                                 featurization_config=None, force_text_dnn=None,\n",
            "                                 is_cross_validation=None,\n",
            "                                 is_onnx_compatible=None, logger=None,\n",
            "                                 observer=None, task=None, working_dir=None)),\n",
            "                ('prefittedsoftvotingclassifier',...\n",
            "                                                                                               silent=None,\n",
            "                                                                                               subsample=1,\n",
            "                                                                                               tree_method='auto',\n",
            "                                                                                               verbose=-10,\n",
            "                                                                                               verbosity=0))],\n",
            "                                                                     verbose=False))],\n",
            "                                               flatten_transform=None,\n",
            "                                               weights=[0.09090909090909091,\n",
            "                                                        0.09090909090909091,\n",
            "                                                        0.09090909090909091,\n",
            "                                                        0.09090909090909091,\n",
            "                                                        0.09090909090909091,\n",
            "                                                        0.09090909090909091,\n",
            "                                                        0.09090909090909091,\n",
            "                                                        0.09090909090909091,\n",
            "                                                        0.09090909090909091,\n",
            "                                                        0.09090909090909091,\n",
            "                                                        0.09090909090909091]))],\n",
            "         verbose=False)\n"
          ]
        }
      ],
      "execution_count": 13,
      "metadata": {
        "gather": {
          "logged": 1613021598305
        },
        "jupyter": {
          "outputs_hidden": false,
          "source_hidden": false
        },
        "nteract": {
          "transient": {
            "deleting": false
          }
        }
      }
    },
    {
      "cell_type": "code",
      "source": [
        "from pprint import pprint\r\n",
        "\r\n",
        "def print_model(model, prefix=\"\"):\r\n",
        "    for step in model.steps:\r\n",
        "        print(prefix + step[0])\r\n",
        "        if hasattr(step[1], 'estimators') and hasattr(step[1], 'weights'):\r\n",
        "            pprint({'estimators': list(\r\n",
        "                e[0] for e in step[1].estimators), 'weights': step[1].weights})\r\n",
        "            print()\r\n",
        "            for estimator in step[1].estimators:\r\n",
        "                print_model(estimator[1], estimator[0] + ' - ')\r\n",
        "        else:\r\n",
        "            pprint(step[1].get_params())\r\n",
        "            print()\r\n",
        "\r\n",
        "print_model(fitted_model)"
      ],
      "outputs": [
        {
          "output_type": "stream",
          "name": "stdout",
          "text": [
            "datatransformer\n",
            "{'enable_dnn': None,\n",
            " 'enable_feature_sweeping': None,\n",
            " 'feature_sweeping_config': None,\n",
            " 'feature_sweeping_timeout': None,\n",
            " 'featurization_config': None,\n",
            " 'force_text_dnn': None,\n",
            " 'is_cross_validation': None,\n",
            " 'is_onnx_compatible': None,\n",
            " 'logger': None,\n",
            " 'observer': None,\n",
            " 'task': None,\n",
            " 'working_dir': None}\n",
            "\n",
            "prefittedsoftvotingclassifier\n",
            "{'estimators': ['7', '15', '1', '16', '13', '32', '29', '3', '22', '21', '19'],\n",
            " 'weights': [0.09090909090909091,\n",
            "             0.09090909090909091,\n",
            "             0.09090909090909091,\n",
            "             0.09090909090909091,\n",
            "             0.09090909090909091,\n",
            "             0.09090909090909091,\n",
            "             0.09090909090909091,\n",
            "             0.09090909090909091,\n",
            "             0.09090909090909091,\n",
            "             0.09090909090909091,\n",
            "             0.09090909090909091]}\n",
            "\n",
            "7 - maxabsscaler\n",
            "{'copy': True}\n",
            "\n",
            "7 - logisticregression\n",
            "{'C': 7.9060432109076855,\n",
            " 'class_weight': None,\n",
            " 'dual': False,\n",
            " 'fit_intercept': True,\n",
            " 'intercept_scaling': 1,\n",
            " 'l1_ratio': None,\n",
            " 'max_iter': 100,\n",
            " 'multi_class': 'ovr',\n",
            " 'n_jobs': 1,\n",
            " 'penalty': 'l2',\n",
            " 'random_state': None,\n",
            " 'solver': 'saga',\n",
            " 'tol': 0.0001,\n",
            " 'verbose': 0,\n",
            " 'warm_start': False}\n",
            "\n",
            "15 - maxabsscaler\n",
            "{'copy': True}\n",
            "\n",
            "15 - lightgbmclassifier\n",
            "{'boosting_type': 'goss',\n",
            " 'class_weight': None,\n",
            " 'colsample_bytree': 0.4955555555555555,\n",
            " 'importance_type': 'split',\n",
            " 'learning_rate': 0.04211105263157895,\n",
            " 'max_bin': 70,\n",
            " 'max_depth': 6,\n",
            " 'min_child_samples': 77,\n",
            " 'min_child_weight': 1,\n",
            " 'min_split_gain': 0.2631578947368421,\n",
            " 'n_estimators': 50,\n",
            " 'n_jobs': 1,\n",
            " 'num_leaves': 71,\n",
            " 'objective': None,\n",
            " 'random_state': None,\n",
            " 'reg_alpha': 0.6842105263157894,\n",
            " 'reg_lambda': 0.7894736842105263,\n",
            " 'silent': True,\n",
            " 'subsample': 1,\n",
            " 'subsample_for_bin': 200000,\n",
            " 'subsample_freq': 0,\n",
            " 'verbose': -10}\n",
            "\n",
            "1 - maxabsscaler\n",
            "{'copy': True}\n",
            "\n",
            "1 - xgboostclassifier\n",
            "{'base_score': 0.5,\n",
            " 'booster': 'gbtree',\n",
            " 'colsample_bylevel': 1,\n",
            " 'colsample_bynode': 1,\n",
            " 'colsample_bytree': 1,\n",
            " 'gamma': 0,\n",
            " 'learning_rate': 0.1,\n",
            " 'max_delta_step': 0,\n",
            " 'max_depth': 3,\n",
            " 'min_child_weight': 1,\n",
            " 'missing': nan,\n",
            " 'n_estimators': 100,\n",
            " 'n_jobs': 1,\n",
            " 'nthread': None,\n",
            " 'objective': 'binary:logistic',\n",
            " 'random_state': 0,\n",
            " 'reg_alpha': 0,\n",
            " 'reg_lambda': 1,\n",
            " 'scale_pos_weight': 1,\n",
            " 'seed': None,\n",
            " 'silent': None,\n",
            " 'subsample': 1,\n",
            " 'tree_method': 'auto',\n",
            " 'verbose': -10,\n",
            " 'verbosity': 0}\n",
            "\n",
            "16 - standardscalerwrapper\n",
            "{'class_name': 'StandardScaler',\n",
            " 'copy': True,\n",
            " 'module_name': 'sklearn.preprocessing._data',\n",
            " 'with_mean': False,\n",
            " 'with_std': False}\n",
            "\n",
            "16 - lightgbmclassifier\n",
            "{'boosting_type': 'gbdt',\n",
            " 'class_weight': None,\n",
            " 'colsample_bytree': 0.99,\n",
            " 'importance_type': 'split',\n",
            " 'learning_rate': 0.06842421052631578,\n",
            " 'max_bin': 130,\n",
            " 'max_depth': 5,\n",
            " 'min_child_samples': 35,\n",
            " 'min_child_weight': 4,\n",
            " 'min_split_gain': 0.6842105263157894,\n",
            " 'n_estimators': 100,\n",
            " 'n_jobs': 1,\n",
            " 'num_leaves': 2,\n",
            " 'objective': None,\n",
            " 'random_state': None,\n",
            " 'reg_alpha': 0.15789473684210525,\n",
            " 'reg_lambda': 0,\n",
            " 'silent': True,\n",
            " 'subsample': 0.8415789473684211,\n",
            " 'subsample_for_bin': 200000,\n",
            " 'subsample_freq': 0,\n",
            " 'verbose': -10}\n",
            "\n",
            "13 - standardscalerwrapper\n",
            "{'class_name': 'StandardScaler',\n",
            " 'copy': True,\n",
            " 'module_name': 'sklearn.preprocessing._data',\n",
            " 'with_mean': False,\n",
            " 'with_std': True}\n",
            "\n",
            "13 - lightgbmclassifier\n",
            "{'boosting_type': 'gbdt',\n",
            " 'class_weight': None,\n",
            " 'colsample_bytree': 0.8911111111111111,\n",
            " 'importance_type': 'split',\n",
            " 'learning_rate': 0.07368684210526316,\n",
            " 'max_bin': 360,\n",
            " 'max_depth': 7,\n",
            " 'min_child_samples': 53,\n",
            " 'min_child_weight': 8,\n",
            " 'min_split_gain': 0.7368421052631579,\n",
            " 'n_estimators': 50,\n",
            " 'n_jobs': 1,\n",
            " 'num_leaves': 8,\n",
            " 'objective': None,\n",
            " 'random_state': None,\n",
            " 'reg_alpha': 0.894736842105263,\n",
            " 'reg_lambda': 0.05263157894736842,\n",
            " 'silent': True,\n",
            " 'subsample': 0.29736842105263156,\n",
            " 'subsample_for_bin': 200000,\n",
            " 'subsample_freq': 0,\n",
            " 'verbose': -10}\n",
            "\n",
            "32 - maxabsscaler\n",
            "{'copy': True}\n",
            "\n",
            "32 - lightgbmclassifier\n",
            "{'boosting_type': 'gbdt',\n",
            " 'class_weight': None,\n",
            " 'colsample_bytree': 0.99,\n",
            " 'importance_type': 'split',\n",
            " 'learning_rate': 0.08947473684210526,\n",
            " 'max_bin': 310,\n",
            " 'max_depth': 3,\n",
            " 'min_child_samples': 27,\n",
            " 'min_child_weight': 6,\n",
            " 'min_split_gain': 0.47368421052631576,\n",
            " 'n_estimators': 25,\n",
            " 'n_jobs': 1,\n",
            " 'num_leaves': 131,\n",
            " 'objective': None,\n",
            " 'random_state': None,\n",
            " 'reg_alpha': 0.7894736842105263,\n",
            " 'reg_lambda': 0.7368421052631579,\n",
            " 'silent': True,\n",
            " 'subsample': 0.8910526315789474,\n",
            " 'subsample_for_bin': 200000,\n",
            " 'subsample_freq': 0,\n",
            " 'verbose': -10}\n",
            "\n",
            "29 - standardscalerwrapper\n",
            "{'class_name': 'StandardScaler',\n",
            " 'copy': True,\n",
            " 'module_name': 'sklearn.preprocessing._data',\n",
            " 'with_mean': False,\n",
            " 'with_std': True}\n",
            "\n",
            "29 - randomforestclassifier\n",
            "{'bootstrap': True,\n",
            " 'ccp_alpha': 0.0,\n",
            " 'class_weight': None,\n",
            " 'criterion': 'gini',\n",
            " 'max_depth': None,\n",
            " 'max_features': 0.6,\n",
            " 'max_leaf_nodes': None,\n",
            " 'max_samples': None,\n",
            " 'min_impurity_decrease': 0.0,\n",
            " 'min_impurity_split': None,\n",
            " 'min_samples_leaf': 0.06157894736842105,\n",
            " 'min_samples_split': 0.15052631578947367,\n",
            " 'min_weight_fraction_leaf': 0.0,\n",
            " 'n_estimators': 10,\n",
            " 'n_jobs': 1,\n",
            " 'oob_score': True,\n",
            " 'random_state': None,\n",
            " 'verbose': 0,\n",
            " 'warm_start': False}\n",
            "\n",
            "3 - maxabsscaler\n",
            "{'copy': True}\n",
            "\n",
            "3 - randomforestclassifier\n",
            "{'bootstrap': True,\n",
            " 'ccp_alpha': 0.0,\n",
            " 'class_weight': None,\n",
            " 'criterion': 'gini',\n",
            " 'max_depth': None,\n",
            " 'max_features': 'sqrt',\n",
            " 'max_leaf_nodes': None,\n",
            " 'max_samples': None,\n",
            " 'min_impurity_decrease': 0.0,\n",
            " 'min_impurity_split': None,\n",
            " 'min_samples_leaf': 0.035789473684210524,\n",
            " 'min_samples_split': 0.01,\n",
            " 'min_weight_fraction_leaf': 0.0,\n",
            " 'n_estimators': 10,\n",
            " 'n_jobs': 1,\n",
            " 'oob_score': True,\n",
            " 'random_state': None,\n",
            " 'verbose': 0,\n",
            " 'warm_start': False}\n",
            "\n",
            "22 - sparsenormalizer\n",
            "{'copy': True, 'norm': 'l1'}\n",
            "\n",
            "22 - xgboostclassifier\n",
            "{'base_score': 0.5,\n",
            " 'booster': 'gbtree',\n",
            " 'colsample_bylevel': 1,\n",
            " 'colsample_bynode': 1,\n",
            " 'colsample_bytree': 0.7,\n",
            " 'eta': 0.01,\n",
            " 'gamma': 0.1,\n",
            " 'learning_rate': 0.1,\n",
            " 'max_delta_step': 0,\n",
            " 'max_depth': 5,\n",
            " 'max_leaves': 15,\n",
            " 'min_child_weight': 1,\n",
            " 'missing': nan,\n",
            " 'n_estimators': 100,\n",
            " 'n_jobs': 1,\n",
            " 'nthread': None,\n",
            " 'objective': 'reg:logistic',\n",
            " 'random_state': 0,\n",
            " 'reg_alpha': 0,\n",
            " 'reg_lambda': 1.5625,\n",
            " 'scale_pos_weight': 1,\n",
            " 'seed': None,\n",
            " 'silent': None,\n",
            " 'subsample': 1,\n",
            " 'tree_method': 'auto',\n",
            " 'verbose': -10,\n",
            " 'verbosity': 0}\n",
            "\n",
            "21 - sparsenormalizer\n",
            "{'copy': True, 'norm': 'l1'}\n",
            "\n",
            "21 - xgboostclassifier\n",
            "{'base_score': 0.5,\n",
            " 'booster': 'gbtree',\n",
            " 'colsample_bylevel': 1,\n",
            " 'colsample_bynode': 1,\n",
            " 'colsample_bytree': 0.7,\n",
            " 'eta': 0.1,\n",
            " 'gamma': 0,\n",
            " 'learning_rate': 0.1,\n",
            " 'max_delta_step': 0,\n",
            " 'max_depth': 10,\n",
            " 'max_leaves': 3,\n",
            " 'min_child_weight': 1,\n",
            " 'missing': nan,\n",
            " 'n_estimators': 100,\n",
            " 'n_jobs': 1,\n",
            " 'nthread': None,\n",
            " 'objective': 'reg:logistic',\n",
            " 'random_state': 0,\n",
            " 'reg_alpha': 1.4583333333333335,\n",
            " 'reg_lambda': 0.4166666666666667,\n",
            " 'scale_pos_weight': 1,\n",
            " 'seed': None,\n",
            " 'silent': None,\n",
            " 'subsample': 1,\n",
            " 'tree_method': 'auto',\n",
            " 'verbose': -10,\n",
            " 'verbosity': 0}\n",
            "\n",
            "19 - sparsenormalizer\n",
            "{'copy': True, 'norm': 'l2'}\n",
            "\n",
            "19 - xgboostclassifier\n",
            "{'base_score': 0.5,\n",
            " 'booster': 'gbtree',\n",
            " 'colsample_bylevel': 0.7,\n",
            " 'colsample_bynode': 1,\n",
            " 'colsample_bytree': 1,\n",
            " 'eta': 0.2,\n",
            " 'gamma': 0,\n",
            " 'learning_rate': 0.1,\n",
            " 'max_delta_step': 0,\n",
            " 'max_depth': 9,\n",
            " 'max_leaves': 15,\n",
            " 'min_child_weight': 1,\n",
            " 'missing': nan,\n",
            " 'n_estimators': 25,\n",
            " 'n_jobs': 1,\n",
            " 'nthread': None,\n",
            " 'objective': 'reg:logistic',\n",
            " 'random_state': 0,\n",
            " 'reg_alpha': 2.0833333333333335,\n",
            " 'reg_lambda': 0.3125,\n",
            " 'scale_pos_weight': 1,\n",
            " 'seed': None,\n",
            " 'silent': None,\n",
            " 'subsample': 1,\n",
            " 'tree_method': 'auto',\n",
            " 'verbose': -10,\n",
            " 'verbosity': 0}\n",
            "\n"
          ]
        }
      ],
      "execution_count": 14,
      "metadata": {
        "collapsed": true,
        "jupyter": {
          "source_hidden": false,
          "outputs_hidden": false
        },
        "nteract": {
          "transient": {
            "deleting": false
          }
        },
        "gather": {
          "logged": 1613021643137
        }
      }
    },
    {
      "cell_type": "code",
      "source": [
        "#TODO: Save the best model\r\n",
        "os.makedirs('outputs', exist_ok=True)\r\n",
        "\r\n",
        "joblib.dump(fitted_model, 'outputs/automlmodel.joblib')\r\n"
      ],
      "outputs": [
        {
          "output_type": "execute_result",
          "execution_count": 15,
          "data": {
            "text/plain": "['outputs/automlmodel.joblib']"
          },
          "metadata": {}
        }
      ],
      "execution_count": 15,
      "metadata": {
        "gather": {
          "logged": 1613021669550
        },
        "jupyter": {
          "outputs_hidden": false,
          "source_hidden": false
        },
        "nteract": {
          "transient": {
            "deleting": false
          }
        }
      }
    },
    {
      "cell_type": "markdown",
      "source": [
        "## Model Deployment\n",
        "\n",
        "Remember you have to deploy only one of the two models you trained.. Perform the steps in the rest of this notebook only if you wish to deploy this model.\n",
        "\n",
        "TODO: In the cell below, register the model, create an inference config and deploy the model as a web service."
      ],
      "metadata": {}
    },
    {
      "cell_type": "code",
      "source": [
        "model_name = best_run.properties['model_name']\r\n",
        "\r\n",
        "script_file_name = 'inference/score.py'\r\n",
        "\r\n",
        "best_run.download_file('outputs/scoring_file_v_1_0_0.py', 'inference/score.py')\r\n",
        "\r\n",
        "description = 'AutoML Model'\r\n",
        "tags = None\r\n",
        "model = remote_run.register_model(model_name = model_name, description = description, tags = tags)\r\n",
        "\r\n",
        "print(remote_run.model_id)"
      ],
      "outputs": [
        {
          "output_type": "stream",
          "name": "stdout",
          "text": [
            "AutoML70e158c9634\n"
          ]
        }
      ],
      "execution_count": 18,
      "metadata": {
        "gather": {
          "logged": 1613023023608
        },
        "jupyter": {
          "outputs_hidden": false,
          "source_hidden": false
        },
        "nteract": {
          "transient": {
            "deleting": false
          }
        }
      }
    },
    {
      "cell_type": "code",
      "source": [
        "from azureml.core.model import InferenceConfig\r\n",
        "from azureml.core.webservice import AciWebservice\r\n",
        "from azureml.core.webservice import Webservice\r\n",
        "from azureml.core.model import Model\r\n",
        "from azureml.core.environment import Environment\r\n",
        "\r\n",
        "inference_config = InferenceConfig(entry_script=script_file_name)\r\n",
        "\r\n",
        "aciconfig = AciWebservice.deploy_configuration(cpu_cores = 1, \r\n",
        "                                               memory_gb = 1, \r\n",
        "                                               tags = {'area': \"bmData\", 'type': \"automl_classification\"}, \r\n",
        "                                               description = 'sample service for Automl Classification')\r\n",
        "\r\n",
        "\r\n",
        "aci_service_name = 'automl-sample-diabetes'\r\n",
        "print(aci_service_name)\r\n",
        "aci_service = Model.deploy(ws, aci_service_name, [model], inference_config, aciconfig)\r\n",
        "aci_service.wait_for_deployment(True)\r\n",
        "print(aci_service.state)"
      ],
      "outputs": [
        {
          "output_type": "stream",
          "name": "stdout",
          "text": [
            "automl-sample-diabetes\n"
          ]
        },
        {
          "output_type": "error",
          "ename": "WebserviceException",
          "evalue": "WebserviceException:\n\tMessage: Service automl-sample-diabetes with the same name already exists, please use a different service name or delete the existing service.\n\tInnerException None\n\tErrorResponse \n{\n    \"error\": {\n        \"message\": \"Service automl-sample-diabetes with the same name already exists, please use a different service name or delete the existing service.\"\n    }\n}",
          "traceback": [
            "\u001b[0;31m---------------------------------------------------------------------------\u001b[0m",
            "\u001b[0;31mWebserviceException\u001b[0m                       Traceback (most recent call last)",
            "\u001b[0;32m<ipython-input-31-b2b2a5234ccd>\u001b[0m in \u001b[0;36m<module>\u001b[0;34m\u001b[0m\n\u001b[1;32m     14\u001b[0m \u001b[0maci_service_name\u001b[0m \u001b[0;34m=\u001b[0m \u001b[0;34m'automl-sample-diabetes'\u001b[0m\u001b[0;34m\u001b[0m\u001b[0;34m\u001b[0m\u001b[0m\n\u001b[1;32m     15\u001b[0m \u001b[0mprint\u001b[0m\u001b[0;34m(\u001b[0m\u001b[0maci_service_name\u001b[0m\u001b[0;34m)\u001b[0m\u001b[0;34m\u001b[0m\u001b[0;34m\u001b[0m\u001b[0m\n\u001b[0;32m---> 16\u001b[0;31m \u001b[0maci_service\u001b[0m \u001b[0;34m=\u001b[0m \u001b[0mModel\u001b[0m\u001b[0;34m.\u001b[0m\u001b[0mdeploy\u001b[0m\u001b[0;34m(\u001b[0m\u001b[0mws\u001b[0m\u001b[0;34m,\u001b[0m \u001b[0maci_service_name\u001b[0m\u001b[0;34m,\u001b[0m \u001b[0;34m[\u001b[0m\u001b[0mmodel\u001b[0m\u001b[0;34m]\u001b[0m\u001b[0;34m,\u001b[0m \u001b[0minference_config\u001b[0m\u001b[0;34m,\u001b[0m \u001b[0maciconfig\u001b[0m\u001b[0;34m)\u001b[0m\u001b[0;34m\u001b[0m\u001b[0;34m\u001b[0m\u001b[0m\n\u001b[0m\u001b[1;32m     17\u001b[0m \u001b[0maci_service\u001b[0m\u001b[0;34m.\u001b[0m\u001b[0mwait_for_deployment\u001b[0m\u001b[0;34m(\u001b[0m\u001b[0;32mTrue\u001b[0m\u001b[0;34m)\u001b[0m\u001b[0;34m\u001b[0m\u001b[0;34m\u001b[0m\u001b[0m\n\u001b[1;32m     18\u001b[0m \u001b[0mprint\u001b[0m\u001b[0;34m(\u001b[0m\u001b[0maci_service\u001b[0m\u001b[0;34m.\u001b[0m\u001b[0mstate\u001b[0m\u001b[0;34m)\u001b[0m\u001b[0;34m\u001b[0m\u001b[0;34m\u001b[0m\u001b[0m\n",
            "\u001b[0;32m/anaconda/envs/azureml_py36/lib/python3.6/site-packages/azureml/core/model.py\u001b[0m in \u001b[0;36mdeploy\u001b[0;34m(workspace, name, models, inference_config, deployment_config, deployment_target, overwrite)\u001b[0m\n\u001b[1;32m   1614\u001b[0m         \u001b[0;32mif\u001b[0m \u001b[0muse_env_path\u001b[0m\u001b[0;34m:\u001b[0m\u001b[0;34m\u001b[0m\u001b[0;34m\u001b[0m\u001b[0m\n\u001b[1;32m   1615\u001b[0m             return Model._deploy_with_environment(workspace, name, models, inference_config, deployment_config,\n\u001b[0;32m-> 1616\u001b[0;31m                                                   deployment_target, overwrite)\n\u001b[0m\u001b[1;32m   1617\u001b[0m \u001b[0;34m\u001b[0m\u001b[0m\n\u001b[1;32m   1618\u001b[0m         \u001b[0;31m# ContainerImage-based webservice.\u001b[0m\u001b[0;34m\u001b[0m\u001b[0;34m\u001b[0m\u001b[0;34m\u001b[0m\u001b[0m\n",
            "\u001b[0;32m/anaconda/envs/azureml_py36/lib/python3.6/site-packages/azureml/core/model.py\u001b[0m in \u001b[0;36m_deploy_with_environment\u001b[0;34m(workspace, name, models, inference_config, deployment_config, deployment_target, overwrite)\u001b[0m\n\u001b[1;32m   1814\u001b[0m \u001b[0;34m\u001b[0m\u001b[0m\n\u001b[1;32m   1815\u001b[0m         return Model._deploy_with_environment_image_request(workspace, name, environment_image_request,\n\u001b[0;32m-> 1816\u001b[0;31m                                                             deployment_config, deployment_target, overwrite)\n\u001b[0m\u001b[1;32m   1817\u001b[0m \u001b[0;34m\u001b[0m\u001b[0m\n\u001b[1;32m   1818\u001b[0m     \u001b[0;34m@\u001b[0m\u001b[0mstaticmethod\u001b[0m\u001b[0;34m\u001b[0m\u001b[0;34m\u001b[0m\u001b[0m\n",
            "\u001b[0;32m/anaconda/envs/azureml_py36/lib/python3.6/site-packages/azureml/core/model.py\u001b[0m in \u001b[0;36m_deploy_with_environment_image_request\u001b[0;34m(workspace, name, environment_image_request, deployment_config, deployment_target, overwrite)\u001b[0m\n\u001b[1;32m   1858\u001b[0m             \u001b[0mwebservice_payload\u001b[0m\u001b[0;34m[\u001b[0m\u001b[0;34m'computeName'\u001b[0m\u001b[0;34m]\u001b[0m \u001b[0;34m=\u001b[0m \u001b[0mdeployment_target\u001b[0m\u001b[0;34m.\u001b[0m\u001b[0mname\u001b[0m\u001b[0;34m\u001b[0m\u001b[0;34m\u001b[0m\u001b[0m\n\u001b[1;32m   1859\u001b[0m \u001b[0;34m\u001b[0m\u001b[0m\n\u001b[0;32m-> 1860\u001b[0;31m         \u001b[0;32mreturn\u001b[0m \u001b[0mWebservice\u001b[0m\u001b[0;34m.\u001b[0m\u001b[0m_deploy_webservice\u001b[0m\u001b[0;34m(\u001b[0m\u001b[0mworkspace\u001b[0m\u001b[0;34m,\u001b[0m \u001b[0mname\u001b[0m\u001b[0;34m,\u001b[0m \u001b[0mwebservice_payload\u001b[0m\u001b[0;34m,\u001b[0m \u001b[0moverwrite\u001b[0m\u001b[0;34m,\u001b[0m \u001b[0mwebservice_class\u001b[0m\u001b[0;34m)\u001b[0m\u001b[0;34m\u001b[0m\u001b[0;34m\u001b[0m\u001b[0m\n\u001b[0m\u001b[1;32m   1861\u001b[0m \u001b[0;34m\u001b[0m\u001b[0m\n\u001b[1;32m   1862\u001b[0m     \u001b[0;32mdef\u001b[0m \u001b[0mget_sas_urls\u001b[0m\u001b[0;34m(\u001b[0m\u001b[0mself\u001b[0m\u001b[0;34m)\u001b[0m\u001b[0;34m:\u001b[0m\u001b[0;34m\u001b[0m\u001b[0;34m\u001b[0m\u001b[0m\n",
            "\u001b[0;32m/anaconda/envs/azureml_py36/lib/python3.6/site-packages/azureml/core/webservice/webservice.py\u001b[0m in \u001b[0;36m_deploy_webservice\u001b[0;34m(workspace, name, webservice_payload, overwrite, webservice_class)\u001b[0m\n\u001b[1;32m    822\u001b[0m         \"\"\"\n\u001b[1;32m    823\u001b[0m         \u001b[0;31m# TODO Remove check_for_existing_webservice() later, this check has already included in common validation.\u001b[0m\u001b[0;34m\u001b[0m\u001b[0;34m\u001b[0m\u001b[0;34m\u001b[0m\u001b[0m\n\u001b[0;32m--> 824\u001b[0;31m         \u001b[0mWebservice\u001b[0m\u001b[0;34m.\u001b[0m\u001b[0mcheck_for_existing_webservice\u001b[0m\u001b[0;34m(\u001b[0m\u001b[0mworkspace\u001b[0m\u001b[0;34m,\u001b[0m \u001b[0mname\u001b[0m\u001b[0;34m,\u001b[0m \u001b[0moverwrite\u001b[0m\u001b[0;34m)\u001b[0m\u001b[0;34m\u001b[0m\u001b[0;34m\u001b[0m\u001b[0m\n\u001b[0m\u001b[1;32m    825\u001b[0m         Webservice._check_for_webservice(workspace, name, Webservice._get_deploy_compute_type(webservice_payload),\n\u001b[1;32m    826\u001b[0m                                          webservice_payload, SERVICE_REQUEST_OPERATION_CREATE)\n",
            "\u001b[0;32m/anaconda/envs/azureml_py36/lib/python3.6/site-packages/azureml/core/webservice/webservice.py\u001b[0m in \u001b[0;36mcheck_for_existing_webservice\u001b[0;34m(workspace, name, overwrite, request_func, check_func)\u001b[0m\n\u001b[1;32m    665\u001b[0m                 \u001b[0;32mreturn\u001b[0m \u001b[0mWebservice\u001b[0m\u001b[0;34m.\u001b[0m\u001b[0m_check_validate_error\u001b[0m\u001b[0;34m(\u001b[0m\u001b[0mcontent\u001b[0m\u001b[0;34m)\u001b[0m\u001b[0;34m\u001b[0m\u001b[0;34m\u001b[0m\u001b[0m\n\u001b[1;32m    666\u001b[0m \u001b[0;34m\u001b[0m\u001b[0m\n\u001b[0;32m--> 667\u001b[0;31m         \u001b[0mWebservice\u001b[0m\u001b[0;34m.\u001b[0m\u001b[0m_run_validate_framework\u001b[0m\u001b[0;34m(\u001b[0m\u001b[0mrequest_func\u001b[0m\u001b[0;34m,\u001b[0m \u001b[0mcheck_func\u001b[0m\u001b[0;34m)\u001b[0m\u001b[0;34m\u001b[0m\u001b[0;34m\u001b[0m\u001b[0m\n\u001b[0m\u001b[1;32m    668\u001b[0m \u001b[0;34m\u001b[0m\u001b[0m\n\u001b[1;32m    669\u001b[0m     \u001b[0;34m@\u001b[0m\u001b[0mstaticmethod\u001b[0m\u001b[0;34m\u001b[0m\u001b[0;34m\u001b[0m\u001b[0m\n",
            "\u001b[0;32m/anaconda/envs/azureml_py36/lib/python3.6/site-packages/azureml/core/webservice/webservice.py\u001b[0m in \u001b[0;36m_run_validate_framework\u001b[0;34m(request_func, check_func)\u001b[0m\n\u001b[1;32m    636\u001b[0m             \u001b[0;32mreturn\u001b[0m\u001b[0;34m\u001b[0m\u001b[0;34m\u001b[0m\u001b[0m\n\u001b[1;32m    637\u001b[0m \u001b[0;34m\u001b[0m\u001b[0m\n\u001b[0;32m--> 638\u001b[0;31m         \u001b[0;32mraise\u001b[0m \u001b[0mWebserviceException\u001b[0m\u001b[0;34m(\u001b[0m\u001b[0merror\u001b[0m\u001b[0;34m)\u001b[0m\u001b[0;34m\u001b[0m\u001b[0;34m\u001b[0m\u001b[0m\n\u001b[0m\u001b[1;32m    639\u001b[0m \u001b[0;34m\u001b[0m\u001b[0m\n\u001b[1;32m    640\u001b[0m     \u001b[0;34m@\u001b[0m\u001b[0mstaticmethod\u001b[0m\u001b[0;34m\u001b[0m\u001b[0;34m\u001b[0m\u001b[0m\n",
            "\u001b[0;31mWebserviceException\u001b[0m: WebserviceException:\n\tMessage: Service automl-sample-diabetes with the same name already exists, please use a different service name or delete the existing service.\n\tInnerException None\n\tErrorResponse \n{\n    \"error\": {\n        \"message\": \"Service automl-sample-diabetes with the same name already exists, please use a different service name or delete the existing service.\"\n    }\n}"
          ]
        }
      ],
      "execution_count": 31,
      "metadata": {
        "collapsed": true,
        "jupyter": {
          "source_hidden": false,
          "outputs_hidden": false
        },
        "nteract": {
          "transient": {
            "deleting": false
          }
        },
        "gather": {
          "logged": 1613023437698
        }
      }
    },
    {
      "cell_type": "code",
      "source": [
        "print (aci_service.scoring_uri)\r\n",
        "print (aci_service.swagger_uri)\r\n"
      ],
      "outputs": [
        {
          "output_type": "stream",
          "name": "stdout",
          "text": [
            "http://dbd1bd7c-e66b-42d1-b667-1bf36c06ac12.southcentralus.azurecontainer.io/score\n",
            "http://dbd1bd7c-e66b-42d1-b667-1bf36c06ac12.southcentralus.azurecontainer.io/swagger.json\n"
          ]
        }
      ],
      "execution_count": 23,
      "metadata": {
        "collapsed": true,
        "jupyter": {
          "source_hidden": false,
          "outputs_hidden": false
        },
        "nteract": {
          "transient": {
            "deleting": false
          }
        },
        "gather": {
          "logged": 1613024047120
        }
      }
    },
    {
      "cell_type": "markdown",
      "source": [
        "TODO: In the cell below, send a request to the web service you deployed to test it."
      ],
      "metadata": {
        "collapsed": true,
        "gather": {
          "logged": 1598431657736
        },
        "jupyter": {
          "outputs_hidden": false,
          "source_hidden": false
        },
        "nteract": {
          "transient": {
            "deleting": false
          }
        }
      }
    },
    {
      "cell_type": "code",
      "source": [
        "aci_service.auth_enabled= True\r\n",
        "scor = aci_service.scoring_uri\r\n",
        "primary,secodry = aci_service.get_keys()\r\n",
        "print(primary)\r\n"
      ],
      "outputs": [
        {
          "output_type": "stream",
          "name": "stderr",
          "text": [
            "ERROR:azureml.core.webservice.webservice:Received bad response from Model Management Service:\n",
            "Response Code: 400\n",
            "Headers: {'Date': 'Thu, 11 Feb 2021 06:31:43 GMT', 'Content-Type': 'application/json', 'Transfer-Encoding': 'chunked', 'Connection': 'keep-alive', 'x-ms-client-request-id': '96358e5b4b0d4f3baee7c659257b3b82', 'x-ms-client-session-id': '08fc1353-0d6e-4792-8d07-9e209b8b6fda', 'api-supported-versions': '1.0, 2018-03-01-preview, 2018-11-19', 'X-Content-Type-Options': 'nosniff', 'x-request-time': '0.096', 'Strict-Transport-Security': 'max-age=15724800; includeSubDomains; preload'}\n",
            "Content: b'{\"code\":\"BadRequest\",\"statusCode\":400,\"message\":\"The request is invalid.\",\"details\":[{\"code\":\"AuthDisabled\",\"message\":\"Authentication is disabled (authEnabled set to false). Enable service authentication to list/regenerate keys. Subscription: 9a7511b8-150f-4a58-8528-3e7d50216c31, ResourceGroup: aml-quickstarts-138480, Workspace: quick-starts-ws-138480, ACR: /subscriptions/9a7511b8-150f-4a58-8528-3e7d50216c31/resourceGroups/aml-quickstarts-138480/providers/Microsoft.ContainerRegistry/registries/365befeb938741708254d45cbdf532cd\"}],\"correlation\":{\"RequestId\":\"96358e5b4b0d4f3baee7c659257b3b82\"}}'\n",
            "\n"
          ]
        },
        {
          "output_type": "error",
          "ename": "WebserviceException",
          "evalue": "WebserviceException:\n\tMessage: Received bad response from Model Management Service:\nResponse Code: 400\nHeaders: {'Date': 'Thu, 11 Feb 2021 06:31:43 GMT', 'Content-Type': 'application/json', 'Transfer-Encoding': 'chunked', 'Connection': 'keep-alive', 'x-ms-client-request-id': '96358e5b4b0d4f3baee7c659257b3b82', 'x-ms-client-session-id': '08fc1353-0d6e-4792-8d07-9e209b8b6fda', 'api-supported-versions': '1.0, 2018-03-01-preview, 2018-11-19', 'X-Content-Type-Options': 'nosniff', 'x-request-time': '0.096', 'Strict-Transport-Security': 'max-age=15724800; includeSubDomains; preload'}\nContent: b'{\"code\":\"BadRequest\",\"statusCode\":400,\"message\":\"The request is invalid.\",\"details\":[{\"code\":\"AuthDisabled\",\"message\":\"Authentication is disabled (authEnabled set to false). Enable service authentication to list/regenerate keys. Subscription: 9a7511b8-150f-4a58-8528-3e7d50216c31, ResourceGroup: aml-quickstarts-138480, Workspace: quick-starts-ws-138480, ACR: /subscriptions/9a7511b8-150f-4a58-8528-3e7d50216c31/resourceGroups/aml-quickstarts-138480/providers/Microsoft.ContainerRegistry/registries/365befeb938741708254d45cbdf532cd\"}],\"correlation\":{\"RequestId\":\"96358e5b4b0d4f3baee7c659257b3b82\"}}'\n\tInnerException None\n\tErrorResponse \n{\n    \"error\": {\n        \"message\": \"Received bad response from Model Management Service:\\nResponse Code: 400\\nHeaders: {'Date': 'Thu, 11 Feb 2021 06:31:43 GMT', 'Content-Type': 'application/json', 'Transfer-Encoding': 'chunked', 'Connection': 'keep-alive', 'x-ms-client-request-id': '96358e5b4b0d4f3baee7c659257b3b82', 'x-ms-client-session-id': '08fc1353-0d6e-4792-8d07-9e209b8b6fda', 'api-supported-versions': '1.0, 2018-03-01-preview, 2018-11-19', 'X-Content-Type-Options': 'nosniff', 'x-request-time': '0.096', 'Strict-Transport-Security': 'max-age=15724800; includeSubDomains; preload'}\\nContent: b'{\\\"code\\\":\\\"BadRequest\\\",\\\"statusCode\\\":400,\\\"message\\\":\\\"The request is invalid.\\\",\\\"details\\\":[{\\\"code\\\":\\\"AuthDisabled\\\",\\\"message\\\":\\\"Authentication is disabled (authEnabled set to false). Enable service authentication to list/regenerate keys. Subscription: 9a7511b8-150f-4a58-8528-3e7d50216c31, ResourceGroup: aml-quickstarts-138480, Workspace: quick-starts-ws-138480, ACR: /subscriptions/9a7511b8-150f-4a58-8528-3e7d50216c31/resourceGroups/aml-quickstarts-138480/providers/Microsoft.ContainerRegistry/registries/365befeb938741708254d45cbdf532cd\\\"}],\\\"correlation\\\":{\\\"RequestId\\\":\\\"96358e5b4b0d4f3baee7c659257b3b82\\\"}}'\"\n    }\n}",
          "traceback": [
            "\u001b[0;31m---------------------------------------------------------------------------\u001b[0m",
            "\u001b[0;31mHTTPError\u001b[0m                                 Traceback (most recent call last)",
            "\u001b[0;32m/anaconda/envs/azureml_py36/lib/python3.6/site-packages/azureml/core/webservice/webservice.py\u001b[0m in \u001b[0;36mget_keys\u001b[0;34m(self)\u001b[0m\n\u001b[1;32m   1237\u001b[0m             \u001b[0mresp\u001b[0m \u001b[0;34m=\u001b[0m \u001b[0mClientBase\u001b[0m\u001b[0;34m.\u001b[0m\u001b[0m_execute_func\u001b[0m\u001b[0;34m(\u001b[0m\u001b[0mget_requests_session\u001b[0m\u001b[0;34m(\u001b[0m\u001b[0;34m)\u001b[0m\u001b[0;34m.\u001b[0m\u001b[0mpost\u001b[0m\u001b[0;34m,\u001b[0m \u001b[0mlist_keys_url\u001b[0m\u001b[0;34m,\u001b[0m \u001b[0mparams\u001b[0m\u001b[0;34m=\u001b[0m\u001b[0mparams\u001b[0m\u001b[0;34m,\u001b[0m \u001b[0mheaders\u001b[0m\u001b[0;34m=\u001b[0m\u001b[0mheaders\u001b[0m\u001b[0;34m)\u001b[0m\u001b[0;34m\u001b[0m\u001b[0;34m\u001b[0m\u001b[0m\n\u001b[0;32m-> 1238\u001b[0;31m             \u001b[0mresp\u001b[0m\u001b[0;34m.\u001b[0m\u001b[0mraise_for_status\u001b[0m\u001b[0;34m(\u001b[0m\u001b[0;34m)\u001b[0m\u001b[0;34m\u001b[0m\u001b[0;34m\u001b[0m\u001b[0m\n\u001b[0m\u001b[1;32m   1239\u001b[0m         \u001b[0;32mexcept\u001b[0m \u001b[0mrequests\u001b[0m\u001b[0;34m.\u001b[0m\u001b[0mexceptions\u001b[0m\u001b[0;34m.\u001b[0m\u001b[0mHTTPError\u001b[0m\u001b[0;34m:\u001b[0m\u001b[0;34m\u001b[0m\u001b[0;34m\u001b[0m\u001b[0m\n",
            "\u001b[0;32m/anaconda/envs/azureml_py36/lib/python3.6/site-packages/requests/models.py\u001b[0m in \u001b[0;36mraise_for_status\u001b[0;34m(self)\u001b[0m\n\u001b[1;32m    942\u001b[0m         \u001b[0;32mif\u001b[0m \u001b[0mhttp_error_msg\u001b[0m\u001b[0;34m:\u001b[0m\u001b[0;34m\u001b[0m\u001b[0;34m\u001b[0m\u001b[0m\n\u001b[0;32m--> 943\u001b[0;31m             \u001b[0;32mraise\u001b[0m \u001b[0mHTTPError\u001b[0m\u001b[0;34m(\u001b[0m\u001b[0mhttp_error_msg\u001b[0m\u001b[0;34m,\u001b[0m \u001b[0mresponse\u001b[0m\u001b[0;34m=\u001b[0m\u001b[0mself\u001b[0m\u001b[0;34m)\u001b[0m\u001b[0;34m\u001b[0m\u001b[0;34m\u001b[0m\u001b[0m\n\u001b[0m\u001b[1;32m    944\u001b[0m \u001b[0;34m\u001b[0m\u001b[0m\n",
            "\u001b[0;31mHTTPError\u001b[0m: 400 Client Error: Bad Request for url: https://southcentralus.modelmanagement.azureml.net/modelmanagement/v1.0/subscriptions/9a7511b8-150f-4a58-8528-3e7d50216c31/resourceGroups/aml-quickstarts-138480/providers/Microsoft.MachineLearningServices/workspaces/quick-starts-ws-138480/services/automl-sample-diabetes/listkeys",
            "\nDuring handling of the above exception, another exception occurred:\n",
            "\u001b[0;31mWebserviceException\u001b[0m                       Traceback (most recent call last)",
            "\u001b[0;32m<ipython-input-28-dd7a206cc41d>\u001b[0m in \u001b[0;36m<module>\u001b[0;34m\u001b[0m\n\u001b[1;32m      1\u001b[0m \u001b[0maci_service\u001b[0m\u001b[0;34m.\u001b[0m\u001b[0mauth_enabled\u001b[0m\u001b[0;34m=\u001b[0m \u001b[0;32mTrue\u001b[0m\u001b[0;34m\u001b[0m\u001b[0;34m\u001b[0m\u001b[0m\n\u001b[1;32m      2\u001b[0m \u001b[0mscor\u001b[0m \u001b[0;34m=\u001b[0m \u001b[0maci_service\u001b[0m\u001b[0;34m.\u001b[0m\u001b[0mscoring_uri\u001b[0m\u001b[0;34m\u001b[0m\u001b[0;34m\u001b[0m\u001b[0m\n\u001b[0;32m----> 3\u001b[0;31m \u001b[0mprimary\u001b[0m\u001b[0;34m,\u001b[0m\u001b[0msecodry\u001b[0m \u001b[0;34m=\u001b[0m \u001b[0maci_service\u001b[0m\u001b[0;34m.\u001b[0m\u001b[0mget_keys\u001b[0m\u001b[0;34m(\u001b[0m\u001b[0;34m)\u001b[0m\u001b[0;34m\u001b[0m\u001b[0;34m\u001b[0m\u001b[0m\n\u001b[0m\u001b[1;32m      4\u001b[0m \u001b[0mprint\u001b[0m\u001b[0;34m(\u001b[0m\u001b[0mprimary\u001b[0m\u001b[0;34m)\u001b[0m\u001b[0;34m\u001b[0m\u001b[0;34m\u001b[0m\u001b[0m\n",
            "\u001b[0;32m/anaconda/envs/azureml_py36/lib/python3.6/site-packages/azureml/core/webservice/webservice.py\u001b[0m in \u001b[0;36mget_keys\u001b[0;34m(self)\u001b[0m\n\u001b[1;32m   1242\u001b[0m                                       \u001b[0;34m'Headers: {}\\n'\u001b[0m\u001b[0;34m\u001b[0m\u001b[0;34m\u001b[0m\u001b[0m\n\u001b[1;32m   1243\u001b[0m                                       \u001b[0;34m'Content: {}'\u001b[0m\u001b[0;34m.\u001b[0m\u001b[0mformat\u001b[0m\u001b[0;34m(\u001b[0m\u001b[0mresp\u001b[0m\u001b[0;34m.\u001b[0m\u001b[0mstatus_code\u001b[0m\u001b[0;34m,\u001b[0m \u001b[0mresp\u001b[0m\u001b[0;34m.\u001b[0m\u001b[0mheaders\u001b[0m\u001b[0;34m,\u001b[0m \u001b[0mresp\u001b[0m\u001b[0;34m.\u001b[0m\u001b[0mcontent\u001b[0m\u001b[0;34m)\u001b[0m\u001b[0;34m,\u001b[0m\u001b[0;34m\u001b[0m\u001b[0;34m\u001b[0m\u001b[0m\n\u001b[0;32m-> 1244\u001b[0;31m                                       logger=module_logger)\n\u001b[0m\u001b[1;32m   1245\u001b[0m \u001b[0;34m\u001b[0m\u001b[0m\n\u001b[1;32m   1246\u001b[0m         \u001b[0mcontent\u001b[0m \u001b[0;34m=\u001b[0m \u001b[0mresp\u001b[0m\u001b[0;34m.\u001b[0m\u001b[0mcontent\u001b[0m\u001b[0;34m\u001b[0m\u001b[0;34m\u001b[0m\u001b[0m\n",
            "\u001b[0;31mWebserviceException\u001b[0m: WebserviceException:\n\tMessage: Received bad response from Model Management Service:\nResponse Code: 400\nHeaders: {'Date': 'Thu, 11 Feb 2021 06:31:43 GMT', 'Content-Type': 'application/json', 'Transfer-Encoding': 'chunked', 'Connection': 'keep-alive', 'x-ms-client-request-id': '96358e5b4b0d4f3baee7c659257b3b82', 'x-ms-client-session-id': '08fc1353-0d6e-4792-8d07-9e209b8b6fda', 'api-supported-versions': '1.0, 2018-03-01-preview, 2018-11-19', 'X-Content-Type-Options': 'nosniff', 'x-request-time': '0.096', 'Strict-Transport-Security': 'max-age=15724800; includeSubDomains; preload'}\nContent: b'{\"code\":\"BadRequest\",\"statusCode\":400,\"message\":\"The request is invalid.\",\"details\":[{\"code\":\"AuthDisabled\",\"message\":\"Authentication is disabled (authEnabled set to false). Enable service authentication to list/regenerate keys. Subscription: 9a7511b8-150f-4a58-8528-3e7d50216c31, ResourceGroup: aml-quickstarts-138480, Workspace: quick-starts-ws-138480, ACR: /subscriptions/9a7511b8-150f-4a58-8528-3e7d50216c31/resourceGroups/aml-quickstarts-138480/providers/Microsoft.ContainerRegistry/registries/365befeb938741708254d45cbdf532cd\"}],\"correlation\":{\"RequestId\":\"96358e5b4b0d4f3baee7c659257b3b82\"}}'\n\tInnerException None\n\tErrorResponse \n{\n    \"error\": {\n        \"message\": \"Received bad response from Model Management Service:\\nResponse Code: 400\\nHeaders: {'Date': 'Thu, 11 Feb 2021 06:31:43 GMT', 'Content-Type': 'application/json', 'Transfer-Encoding': 'chunked', 'Connection': 'keep-alive', 'x-ms-client-request-id': '96358e5b4b0d4f3baee7c659257b3b82', 'x-ms-client-session-id': '08fc1353-0d6e-4792-8d07-9e209b8b6fda', 'api-supported-versions': '1.0, 2018-03-01-preview, 2018-11-19', 'X-Content-Type-Options': 'nosniff', 'x-request-time': '0.096', 'Strict-Transport-Security': 'max-age=15724800; includeSubDomains; preload'}\\nContent: b'{\\\"code\\\":\\\"BadRequest\\\",\\\"statusCode\\\":400,\\\"message\\\":\\\"The request is invalid.\\\",\\\"details\\\":[{\\\"code\\\":\\\"AuthDisabled\\\",\\\"message\\\":\\\"Authentication is disabled (authEnabled set to false). Enable service authentication to list/regenerate keys. Subscription: 9a7511b8-150f-4a58-8528-3e7d50216c31, ResourceGroup: aml-quickstarts-138480, Workspace: quick-starts-ws-138480, ACR: /subscriptions/9a7511b8-150f-4a58-8528-3e7d50216c31/resourceGroups/aml-quickstarts-138480/providers/Microsoft.ContainerRegistry/registries/365befeb938741708254d45cbdf532cd\\\"}],\\\"correlation\\\":{\\\"RequestId\\\":\\\"96358e5b4b0d4f3baee7c659257b3b82\\\"}}'\"\n    }\n}"
          ]
        }
      ],
      "execution_count": 28,
      "metadata": {
        "gather": {
          "logged": 1613023654585
        },
        "jupyter": {
          "outputs_hidden": false,
          "source_hidden": false
        },
        "nteract": {
          "transient": {
            "deleting": false
          }
        }
      }
    },
    {
      "cell_type": "markdown",
      "source": [
        "TODO: In the cell below, print the logs of the web service and delete the service"
      ],
      "metadata": {
        "collapsed": true,
        "gather": {
          "logged": 1598432765711
        },
        "jupyter": {
          "outputs_hidden": false,
          "source_hidden": false
        },
        "nteract": {
          "transient": {
            "deleting": false
          }
        }
      }
    },
    {
      "cell_type": "code",
      "source": [],
      "outputs": [],
      "execution_count": null,
      "metadata": {
        "jupyter": {
          "outputs_hidden": false,
          "source_hidden": false
        },
        "nteract": {
          "transient": {
            "deleting": false
          }
        }
      }
    }
  ],
  "metadata": {
    "kernel_info": {
      "name": "python3-azureml"
    },
    "kernelspec": {
      "name": "python3-azureml",
      "language": "python",
      "display_name": "Python 3.6 - AzureML"
    },
    "language_info": {
      "name": "python",
      "version": "3.6.9",
      "mimetype": "text/x-python",
      "codemirror_mode": {
        "name": "ipython",
        "version": 3
      },
      "pygments_lexer": "ipython3",
      "nbconvert_exporter": "python",
      "file_extension": ".py"
    },
    "nteract": {
      "version": "nteract-front-end@1.0.0"
    }
  },
  "nbformat": 4,
  "nbformat_minor": 2
}